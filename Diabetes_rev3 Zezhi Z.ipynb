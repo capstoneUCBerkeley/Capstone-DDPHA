{
 "cells": [
  {
   "cell_type": "markdown",
   "metadata": {},
   "source": [
    "# Library"
   ]
  },
  {
   "cell_type": "code",
   "execution_count": 2,
   "metadata": {},
   "outputs": [
    {
     "name": "stderr",
     "output_type": "stream",
     "text": [
      "C:\\Users\\zhezh\\Anaconda3\\lib\\site-packages\\h5py\\__init__.py:36: FutureWarning: Conversion of the second argument of issubdtype from `float` to `np.floating` is deprecated. In future, it will be treated as `np.float64 == np.dtype(float).type`.\n",
      "  from ._conv import register_converters as _register_converters\n",
      "Using TensorFlow backend.\n",
      "C:\\Users\\zhezh\\Anaconda3\\lib\\site-packages\\tensorflow\\python\\framework\\dtypes.py:516: FutureWarning: Passing (type, 1) or '1type' as a synonym of type is deprecated; in a future version of numpy, it will be understood as (type, (1,)) / '(1,)type'.\n",
      "  _np_qint8 = np.dtype([(\"qint8\", np.int8, 1)])\n",
      "C:\\Users\\zhezh\\Anaconda3\\lib\\site-packages\\tensorflow\\python\\framework\\dtypes.py:517: FutureWarning: Passing (type, 1) or '1type' as a synonym of type is deprecated; in a future version of numpy, it will be understood as (type, (1,)) / '(1,)type'.\n",
      "  _np_quint8 = np.dtype([(\"quint8\", np.uint8, 1)])\n",
      "C:\\Users\\zhezh\\Anaconda3\\lib\\site-packages\\tensorflow\\python\\framework\\dtypes.py:518: FutureWarning: Passing (type, 1) or '1type' as a synonym of type is deprecated; in a future version of numpy, it will be understood as (type, (1,)) / '(1,)type'.\n",
      "  _np_qint16 = np.dtype([(\"qint16\", np.int16, 1)])\n",
      "C:\\Users\\zhezh\\Anaconda3\\lib\\site-packages\\tensorflow\\python\\framework\\dtypes.py:519: FutureWarning: Passing (type, 1) or '1type' as a synonym of type is deprecated; in a future version of numpy, it will be understood as (type, (1,)) / '(1,)type'.\n",
      "  _np_quint16 = np.dtype([(\"quint16\", np.uint16, 1)])\n",
      "C:\\Users\\zhezh\\Anaconda3\\lib\\site-packages\\tensorflow\\python\\framework\\dtypes.py:520: FutureWarning: Passing (type, 1) or '1type' as a synonym of type is deprecated; in a future version of numpy, it will be understood as (type, (1,)) / '(1,)type'.\n",
      "  _np_qint32 = np.dtype([(\"qint32\", np.int32, 1)])\n",
      "C:\\Users\\zhezh\\Anaconda3\\lib\\site-packages\\tensorflow\\python\\framework\\dtypes.py:525: FutureWarning: Passing (type, 1) or '1type' as a synonym of type is deprecated; in a future version of numpy, it will be understood as (type, (1,)) / '(1,)type'.\n",
      "  np_resource = np.dtype([(\"resource\", np.ubyte, 1)])\n",
      "C:\\Users\\zhezh\\Anaconda3\\lib\\site-packages\\tensorboard\\compat\\tensorflow_stub\\dtypes.py:541: FutureWarning: Passing (type, 1) or '1type' as a synonym of type is deprecated; in a future version of numpy, it will be understood as (type, (1,)) / '(1,)type'.\n",
      "  _np_qint8 = np.dtype([(\"qint8\", np.int8, 1)])\n",
      "C:\\Users\\zhezh\\Anaconda3\\lib\\site-packages\\tensorboard\\compat\\tensorflow_stub\\dtypes.py:542: FutureWarning: Passing (type, 1) or '1type' as a synonym of type is deprecated; in a future version of numpy, it will be understood as (type, (1,)) / '(1,)type'.\n",
      "  _np_quint8 = np.dtype([(\"quint8\", np.uint8, 1)])\n",
      "C:\\Users\\zhezh\\Anaconda3\\lib\\site-packages\\tensorboard\\compat\\tensorflow_stub\\dtypes.py:543: FutureWarning: Passing (type, 1) or '1type' as a synonym of type is deprecated; in a future version of numpy, it will be understood as (type, (1,)) / '(1,)type'.\n",
      "  _np_qint16 = np.dtype([(\"qint16\", np.int16, 1)])\n",
      "C:\\Users\\zhezh\\Anaconda3\\lib\\site-packages\\tensorboard\\compat\\tensorflow_stub\\dtypes.py:544: FutureWarning: Passing (type, 1) or '1type' as a synonym of type is deprecated; in a future version of numpy, it will be understood as (type, (1,)) / '(1,)type'.\n",
      "  _np_quint16 = np.dtype([(\"quint16\", np.uint16, 1)])\n",
      "C:\\Users\\zhezh\\Anaconda3\\lib\\site-packages\\tensorboard\\compat\\tensorflow_stub\\dtypes.py:545: FutureWarning: Passing (type, 1) or '1type' as a synonym of type is deprecated; in a future version of numpy, it will be understood as (type, (1,)) / '(1,)type'.\n",
      "  _np_qint32 = np.dtype([(\"qint32\", np.int32, 1)])\n",
      "C:\\Users\\zhezh\\Anaconda3\\lib\\site-packages\\tensorboard\\compat\\tensorflow_stub\\dtypes.py:550: FutureWarning: Passing (type, 1) or '1type' as a synonym of type is deprecated; in a future version of numpy, it will be understood as (type, (1,)) / '(1,)type'.\n",
      "  np_resource = np.dtype([(\"resource\", np.ubyte, 1)])\n"
     ]
    }
   ],
   "source": [
    "import pandas as pd\n",
    "import os\n",
    "\n",
    "import numpy as np\n",
    "from pandas import DataFrame\n",
    "import matplotlib.pyplot as plt\n",
    "import sys\n",
    "import seaborn as sns\n",
    "from scipy import stats\n",
    "import xport\n",
    "\n",
    "from sklearn.linear_model import Lasso\n",
    "from sklearn.pipeline import Pipeline\n",
    "from sklearn import preprocessing\n",
    "from sklearn.model_selection import train_test_split\n",
    "from sklearn import metrics\n",
    "from sklearn.metrics import precision_score, recall_score, accuracy_score\n",
    "from sklearn.model_selection import cross_val_score\n",
    "from sklearn.model_selection import learning_curve, GridSearchCV\n",
    "\n",
    "from sklearn.linear_model import Lasso, LogisticRegression\n",
    "from sklearn.feature_selection import SelectFromModel\n",
    "from sklearn.preprocessing import StandardScaler\n",
    "from sklearn.linear_model import LassoCV\n",
    "from sklearn.metrics import roc_auc_score\n",
    "from sklearn.metrics import roc_curve\n",
    "\n",
    "from sklearn.ensemble import RandomForestClassifier\n",
    "from sklearn.ensemble import RandomForestRegressor\n",
    "from sklearn.linear_model import LogisticRegression\n",
    "from sklearn import linear_model\n",
    "from sklearn.svm import SVR, LinearSVC\n",
    "from sklearn.neighbors import KNeighborsClassifier\n",
    "from sklearn.neighbors import KNeighborsRegressor\n",
    "from sklearn.naive_bayes import GaussianNB \n",
    "from sklearn.linear_model import Perceptron\n",
    "from sklearn.tree import DecisionTreeClassifier\n",
    "from sklearn.metrics import confusion_matrix\n",
    "from sklearn.metrics import mean_squared_error\n",
    "from sklearn import preprocessing\n",
    "from sklearn.ensemble import GradientBoostingClassifier\n",
    "\n",
    "from sklearn.utils import resample\n",
    "\n",
    "from sklearn.ensemble import RandomForestClassifier\n",
    "from sklearn.metrics import accuracy_score\n",
    "from sklearn.model_selection import RandomizedSearchCV\n",
    "from imblearn.over_sampling import SMOTE\n",
    "from sklearn.metrics import precision_recall_fscore_support\n",
    "\n",
    "sys.setrecursionlimit(100000) #Increase the recursion limit of the OS\n",
    "\n",
    "sns.set(style=\"white\")\n",
    "sns.set(style=\"whitegrid\", color_codes=True)\n",
    "plt.rc(\"font\", size=14)\n",
    "import warnings\n",
    "warnings.filterwarnings('ignore') \n",
    "\n",
    "\n",
    "from pandas.plotting import scatter_matrix\n",
    "\n",
    "from sklearn.metrics import average_precision_score"
   ]
  },
  {
   "cell_type": "markdown",
   "metadata": {},
   "source": [
    "# Import data"
   ]
  },
  {
   "cell_type": "code",
   "execution_count": 3,
   "metadata": {},
   "outputs": [],
   "source": [
    "\n",
    "# function:  rename_chosen_features(xpt_file,old_names,new_names,csv_file)\n",
    "# purpose:   rename the chosen features in the XPT file\n",
    "# input:     xpt_file: the converted dataframe from XPT file\n",
    "#            old_names: a list of strings - strings are code names on NHANES \n",
    "#            new_names: a list of strings \n",
    "#            csv_file: name \n",
    "# output:    a dataframe with renamed chosen features  \n",
    "\n",
    "def rename_chosen_features(xpt_file,old_names,new_names,csv_file):\n",
    "    df = xpt_file[old_names]        \n",
    "    df.columns = new_names                \n",
    "    # xpt_file.to_csv(csv_file, header=False) # if needs to get a csv file from the original xpt file\n",
    "    return df"
   ]
  },
  {
   "cell_type": "code",
   "execution_count": 4,
   "metadata": {},
   "outputs": [],
   "source": [
    "os.chdir('C:/Users/zhezh/')\n",
    "\n",
    "\n",
    " \n",
    "DIQ_xpt_file = pd.read_sas('DIQ_I1516.XPT')\n",
    "DIQ_cvs_file = 'Diabetes1516.csv'\n",
    "# DIQ010: doctor told you have diabetes\n",
    "DIQ_old_names = ['SEQN','DIQ010'] \n",
    "DIQ_new_names = ['ID','diabetes']\n",
    "df0_DIQ = rename_chosen_features(DIQ_xpt_file,DIQ_old_names,DIQ_new_names,DIQ_cvs_file)\n",
    "\n",
    "## Demographics\n",
    "DEMO_xpt_file = pd.read_sas('DEMO_I1516.XPT')\n",
    "DEMO_cvs_file = 'Demographic1516.csv'\n",
    "# RIAGENDR: gender - codes\n",
    "# RIDRETH3: race/Hispanic origin w/ NH Asian - codes\n",
    "# RIDAGEYR: age in years at screening - values & codes: 0 to 79 & 80\n",
    "DEMO_old_names = ['SEQN','RIAGENDR','RIDRETH3','RIDAGEYR']\n",
    "DEMO_new_names = ['ID','gender','race','age']\n",
    "df0_DEMO = rename_chosen_features(DEMO_xpt_file,DEMO_old_names,DEMO_new_names,DEMO_cvs_file)\n",
    "\n",
    "## Plasma Fasting Glucose\n",
    "GLU_xpt_file = pd.read_sas('GLU_I1516.XPT')\n",
    "GLU_cvs_file = 'FastingGlucose1516.csv'\n",
    "# LBDGLUSI: Fasting Glucose (mmol/L) \n",
    "GLU_old_names = ['SEQN','LBDGLUSI'] \n",
    "GLU_new_names = ['ID','fasting_glucose']\n",
    "df0_GLU = rename_chosen_features(GLU_xpt_file,GLU_old_names,GLU_new_names,GLU_cvs_file)\n",
    "\n",
    "## Insulin\n",
    "INS_xpt_file = pd.read_sas('INS_I1516.XPT')\n",
    "INS_cvs_file = 'Insulin1516.csv'\n",
    "# LBDINSI : Insulin (pmol/L) \n",
    "INS_old_names = ['SEQN','LBDINSI'] \n",
    "INS_new_names = ['ID','insulin']\n",
    "df0_INS = rename_chosen_features(INS_xpt_file, INS_old_names, INS_new_names,INS_cvs_file)\n",
    "\n",
    "\n",
    "## Alcohol Use\n",
    "ALQ_xpt_file = pd.read_sas('ALQ_I1516.XPT')\n",
    "ALQ_cvs_file = 'AlcoholUse1516.csv'\n",
    "# ALQ101: Had at least 12 alcohol drinks/1 yr? - codes\n",
    "# ALQ151: Ever have 4/5 or more drinks every day? - codes\n",
    "# ALQ160: # days have 4/5 or more drinks in 2 hrs? - codes & values\n",
    "\n",
    "# ALQ120Q : How often drink alcohol over past 12 mos\n",
    "ALQ_old_names = ['SEQN', 'ALQ120Q'] \n",
    "ALQ_new_names = ['ID', 'alc_days_year']\n",
    "df0_ALQ = rename_chosen_features(ALQ_xpt_file,ALQ_old_names,ALQ_new_names,ALQ_cvs_file)\n",
    "\n",
    "## Cholesterol - LDL\n",
    "TRIGLY_xpt_file = pd.read_sas('TRIGLY_I1516.XPT')\n",
    "TRIGLY_cvs_file = 'Cholesterol1516.csv'\n",
    "# LBDLDLSI : LDL-cholesterol (mmol/L) - values: 23 to 277\n",
    "TRIGLY_old_names = ['SEQN','LBDLDLSI']  \n",
    "TRIGLY_new_names = ['ID','LDL']\n",
    "df0_TRIGLY = rename_chosen_features(TRIGLY_xpt_file,TRIGLY_old_names,TRIGLY_new_names,TRIGLY_cvs_file)\n",
    "\n",
    "## Cholesterol - HDL\n",
    "HDL_xpt_file = pd.read_sas('HDL_I1516.XPT')\n",
    "HDL_cvs_file = 'HDL1516.csv'\n",
    "# LBDHDDSI : HDL - Cholesterol (mmol/L) \n",
    "HDL_old_names = ['SEQN','LBDHDDSI'] \n",
    "HDL_new_names = ['ID','HDL']\n",
    "df0_HDL = rename_chosen_features(HDL_xpt_file, HDL_old_names, HDL_new_names, HDL_cvs_file)\n",
    "\n",
    "## Blood Pressure\n",
    "BPX_xpt_file = pd.read_sas('BPX_I1516.XPT')\n",
    "BPX_cvs_file = 'BloodPressure1516.csv'\n",
    "# BPXSY1: Systolic: Blood pres (1st rdg) mm Hg - values: 72 to 236\n",
    "# BPXDI1: Diastolic: Blood pres (1st rdg) mm Hg - values: 0 to 120\n",
    "# BPXSY2: Systolic: Blood pres (2nd rdg) mm Hg - values: 76 to 238\n",
    "# BPXDI2: Diastolic: Blood pres (2nd rdg) mm Hg - values: 0 to 144\n",
    "# BPXSY3 - Systolic: Blood pres (3rd rdg) mm Hg - values: 76 to 226 \n",
    "# BPXDI3 - Diastolic: Blood pres (3rd rdg) mm Hg - values: 0 to 140\n",
    "BPX_old_names = ['SEQN','BPXSY1','BPXDI1','BPXSY2','BPXDI2','BPXSY3','BPXDI3']  \n",
    "BPX_new_names = ['ID','sysBP1', 'diaBP1','sysBP2', 'diaBP2','sysBP3', 'diaBP3']\n",
    "df0_BPX = rename_chosen_features(BPX_xpt_file,BPX_old_names,BPX_new_names,BPX_cvs_file)\n",
    "\n",
    "## Body Measures\n",
    "BMX_xpt_file = pd.read_sas('BMX_I1516.XPT')\n",
    "BMX_cvs_file = 'BMI1516.csv'\n",
    "# BMXBMI: Body Mass Index (kg/m**2) - values: 11.5 to 67.3\n",
    "BMX_old_names = ['SEQN','BMXBMI']  \n",
    "BMX_new_names = ['ID','BMI']\n",
    "df0_BMX = rename_chosen_features(BMX_xpt_file,BMX_old_names,BMX_new_names,BMX_cvs_file)\n",
    "\n",
    "## Total Dietary Supplements \n",
    "DSQTOT_xpt_file = pd.read_sas('DSQTOT_I1516.XPT')\n",
    "DSQTOT_cvs_file = 'Sugar1516.csv'\n",
    "# DSQTSUGR - Total sugars (gm) - values: 0.02 to 45.73 (in 30 days)\n",
    "DSQTOT_old_names = ['SEQN','DSQTSUGR']  \n",
    "DSQTOT_new_names = ['ID','sugar']\n",
    "df0_DSQTOT = rename_chosen_features(DSQTOT_xpt_file,DSQTOT_old_names,DSQTOT_new_names,DSQTOT_cvs_file)\n",
    "\n",
    "\n",
    "DIQ_xpt_file = pd.read_sas('DIQ_H1314.XPT')\n",
    "DIQ_cvs_file = 'Diabetes1314.csv'\n",
    "# DIQ010: doctor told you have diabetes\n",
    "DIQ_old_names = ['SEQN','DIQ010'] \n",
    "DIQ_new_names = ['ID','diabetes']\n",
    "df1_DIQ = rename_chosen_features(DIQ_xpt_file,DIQ_old_names,DIQ_new_names,DIQ_cvs_file)\n",
    "\n",
    "## Demographics\n",
    "DEMO_xpt_file = pd.read_sas('DEMO_H1314.XPT')\n",
    "DEMO_cvs_file = 'Demographic1314.csv'\n",
    "# RIAGENDR: gender - codes\n",
    "# RIDRETH3: race/Hispanic origin w/ NH Asian - codes\n",
    "# RIDAGEYR: age in years at screening - values & codes: 0 to 79 & 80\n",
    "DEMO_old_names = ['SEQN','RIAGENDR','RIDRETH3','RIDAGEYR']\n",
    "DEMO_new_names = ['ID','gender','race','age']\n",
    "df1_DEMO = rename_chosen_features(DEMO_xpt_file,DEMO_old_names,DEMO_new_names,DEMO_cvs_file)\n",
    "\n",
    "## Plasma Fasting Glucose\n",
    "GLU_xpt_file = pd.read_sas('GLU_H1314.XPT')\n",
    "GLU_cvs_file = 'FastingGlucose1314.csv'\n",
    "# LBDGLUSI: Fasting Glucose (mmol/L) \n",
    "GLU_old_names = ['SEQN','LBDGLUSI'] \n",
    "GLU_new_names = ['ID','fasting_glucose']\n",
    "df1_GLU = rename_chosen_features(GLU_xpt_file,GLU_old_names,GLU_new_names,GLU_cvs_file)\n",
    "\n",
    "\n",
    "\n",
    "## Alcohol Use\n",
    "ALQ_xpt_file = pd.read_sas('ALQ_H1314.XPT')\n",
    "ALQ_cvs_file = 'AlcoholUse1314.csv'\n",
    "# ALQ101: Had at least 12 alcohol drinks/1 yr? - codes\n",
    "# ALQ151: Ever have 4/5 or more drinks every day? - codes\n",
    "# ALQ160: # days have 4/5 or more drinks in 2 hrs? - codes & values\n",
    "\n",
    "# ALQ120Q : How often drink alcohol over past 12 mos\n",
    "ALQ_old_names = ['SEQN', 'ALQ120Q'] \n",
    "ALQ_new_names = ['ID', 'alc_days_year']\n",
    "df1_ALQ = rename_chosen_features(ALQ_xpt_file,ALQ_old_names,ALQ_new_names,ALQ_cvs_file)\n",
    "\n",
    "## Insulin\n",
    "INS_xpt_file = pd.read_sas('INS_H1314.XPT')\n",
    "INS_cvs_file = 'Insulin1314.csv'\n",
    "# LBDINSI : Insulin (pmol/L) \n",
    "INS_old_names = ['SEQN','LBDINSI'] \n",
    "INS_new_names = ['ID','insulin']\n",
    "df1_INS = rename_chosen_features(INS_xpt_file, INS_old_names, INS_new_names,INS_cvs_file)\n",
    "\n",
    "## Cholesterol - LDL\n",
    "TRIGLY_xpt_file = pd.read_sas('TRIGLY_H1314.XPT')\n",
    "TRIGLY_cvs_file = 'Cholesterol1314.csv'\n",
    "# LBDLDLSI : LDL-cholesterol (mmol/L) - values: 23 to 277\n",
    "TRIGLY_old_names = ['SEQN','LBDLDLSI']  \n",
    "TRIGLY_new_names = ['ID','LDL']\n",
    "df1_TRIGLY = rename_chosen_features(TRIGLY_xpt_file,TRIGLY_old_names,TRIGLY_new_names,TRIGLY_cvs_file)\n",
    "\n",
    "## Cholesterol - HDL\n",
    "HDL_xpt_file = pd.read_sas('HDL_H1314.XPT')\n",
    "HDL_cvs_file = 'HDL1314.csv'\n",
    "# LBDHDDSI : HDL - Cholesterol (mmol/L) \n",
    "HDL_old_names = ['SEQN','LBDHDDSI'] \n",
    "HDL_new_names = ['ID','HDL']\n",
    "df1_HDL = rename_chosen_features(HDL_xpt_file, HDL_old_names, HDL_new_names, HDL_cvs_file)\n",
    "\n",
    "## Blood Pressure\n",
    "BPX_xpt_file = pd.read_sas('BPX_H1314.XPT')\n",
    "BPX_cvs_file = 'BloodPressure1314.csv'\n",
    "# BPXSY1: Systolic: Blood pres (1st rdg) mm Hg - values: 72 to 236\n",
    "# BPXDI1: Diastolic: Blood pres (1st rdg) mm Hg - values: 0 to 120\n",
    "# BPXSY2: Systolic: Blood pres (2nd rdg) mm Hg - values: 76 to 238\n",
    "# BPXDI2: Diastolic: Blood pres (2nd rdg) mm Hg - values: 0 to 144\n",
    "# BPXSY3 - Systolic: Blood pres (3rd rdg) mm Hg - values: 76 to 226 \n",
    "# BPXDI3 - Diastolic: Blood pres (3rd rdg) mm Hg - values: 0 to 140\n",
    "BPX_old_names = ['SEQN','BPXSY1','BPXDI1','BPXSY2','BPXDI2','BPXSY3','BPXDI3']  \n",
    "BPX_new_names = ['ID','sysBP1', 'diaBP1','sysBP2', 'diaBP2','sysBP3', 'diaBP3']\n",
    "df1_BPX = rename_chosen_features(BPX_xpt_file,BPX_old_names,BPX_new_names,BPX_cvs_file)\n",
    "\n",
    "## Body Measures\n",
    "BMX_xpt_file = pd.read_sas('BMX_H1314.XPT')\n",
    "BMX_cvs_file = 'BMI1314.csv'\n",
    "# BMXBMI: Body Mass Index (kg/m**2) - values: 11.5 to 67.3\n",
    "BMX_old_names = ['SEQN','BMXBMI']  \n",
    "BMX_new_names = ['ID','BMI']\n",
    "df1_BMX = rename_chosen_features(BMX_xpt_file,BMX_old_names,BMX_new_names,BMX_cvs_file)\n",
    "\n",
    "## Total Dietary Supplements \n",
    "DSQTOT_xpt_file = pd.read_sas('DSQTOT_H1314.XPT')\n",
    "DSQTOT_cvs_file = 'Sugar1314.csv'\n",
    "# DSQTSUGR - Total sugars (gm) - values: 0.02 to 45.73 (in 30 days)\n",
    "DSQTOT_old_names = ['SEQN','DSQTSUGR']  \n",
    "DSQTOT_new_names = ['ID','sugar']\n",
    "df1_DSQTOT = rename_chosen_features(DSQTOT_xpt_file,DSQTOT_old_names,DSQTOT_new_names,DSQTOT_cvs_file)\n"
   ]
  },
  {
   "cell_type": "markdown",
   "metadata": {},
   "source": [
    "# Merge dataframes"
   ]
  },
  {
   "cell_type": "code",
   "execution_count": 5,
   "metadata": {},
   "outputs": [],
   "source": [
    "df0 = pd.merge(df0_ALQ, df0_BMX, how =\"inner\", on = \"ID\")\n",
    "df0 = pd.merge(df0, df0_BPX, how = \"inner\", on =\"ID\")\n",
    "df0 = pd.merge(df0,df0_DEMO, how = 'inner', on = \"ID\")\n",
    "df0 = pd.merge(df0,df0_DIQ, how = 'inner', on = \"ID\")\n",
    "df0 = pd.merge(df0,df0_DSQTOT, how = 'inner', on = \"ID\")\n",
    "df0 = pd.merge(df0,df0_GLU, how = 'inner', on = \"ID\")\n",
    "df0 = pd.merge(df0,df0_TRIGLY, how = 'inner', on = \"ID\")\n",
    "df0 = pd.merge(df0,df0_INS, how = 'inner', on = \"ID\")\n",
    "df0 = pd.merge(df0,df0_HDL, how = 'inner', on = \"ID\")\n",
    "\n",
    "\n",
    "df1 = pd.merge(df1_ALQ, df1_BMX, how =\"inner\", on = \"ID\")\n",
    "df1 = pd.merge(df1, df1_BPX, how = \"inner\", on =\"ID\")\n",
    "df1 = pd.merge(df1,df1_DEMO, how = 'inner', on = \"ID\")\n",
    "df1 = pd.merge(df1,df1_DIQ, how = 'inner', on = \"ID\")\n",
    "df1 = pd.merge(df1,df1_DSQTOT, how = 'inner', on = \"ID\")\n",
    "df1 = pd.merge(df1,df1_GLU, how = 'inner', on = \"ID\")\n",
    "df1 = pd.merge(df1,df1_TRIGLY, how = 'inner', on = \"ID\")\n",
    "df1 = pd.merge(df1,df1_INS, how = 'inner', on = \"ID\")\n",
    "df1 = pd.merge(df1,df1_HDL, how = 'inner', on = \"ID\")"
   ]
  },
  {
   "cell_type": "markdown",
   "metadata": {},
   "source": [
    "# Set Index"
   ]
  },
  {
   "cell_type": "code",
   "execution_count": 6,
   "metadata": {},
   "outputs": [],
   "source": [
    "# set SEQN to index of the df0\n",
    "df0.set_index('ID', inplace=True)      \n",
    "\n",
    "# if has duplicated indexs(ID), keep the first one \n",
    "df0 = df0[~df0.index.duplicated(keep='first')]\n",
    "\n",
    "\n",
    "# set SEQN to index of the df0\n",
    "df1.set_index('ID', inplace=True)      \n",
    "\n",
    "# if has duplicated indexs(ID), keep the first one \n",
    "df1 = df1[~df1.index.duplicated(keep='first')]"
   ]
  },
  {
   "cell_type": "code",
   "execution_count": 7,
   "metadata": {},
   "outputs": [
    {
     "name": "stdout",
     "output_type": "stream",
     "text": [
      "<class 'pandas.core.frame.DataFrame'>\n",
      "Float64Index: 5569 entries, 73559.0 to 93697.0\n",
      "Data columns (total 17 columns):\n",
      "BMI                5502 non-null float64\n",
      "HDL                5265 non-null float64\n",
      "LDL                5003 non-null float64\n",
      "age                5569 non-null float64\n",
      "alc_days_year      4165 non-null float64\n",
      "diaBP1             5185 non-null float64\n",
      "diaBP2             5346 non-null float64\n",
      "diaBP3             5342 non-null float64\n",
      "diabetes           5569 non-null float64\n",
      "fasting_glucose    5298 non-null float64\n",
      "gender             5569 non-null float64\n",
      "insulin            5195 non-null float64\n",
      "race               5569 non-null float64\n",
      "sugar              608 non-null float64\n",
      "sysBP1             5185 non-null float64\n",
      "sysBP2             5346 non-null float64\n",
      "sysBP3             5342 non-null float64\n",
      "dtypes: float64(17)\n",
      "memory usage: 783.1 KB\n",
      "          BMI   HDL    LDL   age  alc_days_year  diaBP1  diaBP2  diaBP3  \\\n",
      "ID                                                                        \n",
      "73559.0  28.9  1.55  1.448  72.0   5.397605e-79    90.0    76.0    80.0   \n",
      "73561.0  19.7  2.20  2.612  73.0   5.397605e-79    86.0    88.0    86.0   \n",
      "73564.0  35.7  1.50  2.508  61.0   2.000000e+00    80.0    80.0    82.0   \n",
      "73568.0  20.3  2.48  1.733  26.0   2.000000e+00    60.0    62.0    66.0   \n",
      "73574.0  22.8  1.37  1.940  33.0            NaN    56.0    66.0    64.0   \n",
      "...       ...   ...    ...   ...            ...     ...     ...     ...   \n",
      "93682.0  20.9  1.68    NaN  41.0            NaN    78.0    84.0    82.0   \n",
      "93689.0  28.1  2.09  1.888  69.0   5.397605e-79    62.0    64.0    72.0   \n",
      "93695.0  21.5  1.76  1.448  76.0            NaN    48.0    46.0    48.0   \n",
      "93696.0  33.8   NaN    NaN  26.0            NaN    68.0    76.0    72.0   \n",
      "93697.0  31.0  2.90  3.284  80.0   2.000000e+00    56.0    58.0    52.0   \n",
      "\n",
      "         diabetes  fasting_glucose  gender  insulin  race  sugar  sysBP1  \\\n",
      "ID                                                                         \n",
      "73559.0       1.0           10.713     1.0    34.98   3.0    NaN   140.0   \n",
      "73561.0       2.0            5.940     2.0    36.72   3.0    NaN   136.0   \n",
      "73564.0       2.0            6.106     2.0    89.46   3.0   0.33   118.0   \n",
      "73568.0       2.0            4.940     2.0    23.10   3.0    NaN   106.0   \n",
      "73574.0       2.0            4.663     2.0    36.30   6.0    NaN   122.0   \n",
      "...           ...              ...     ...      ...   ...    ...     ...   \n",
      "93682.0       2.0            6.830     2.0   221.16   6.0    NaN   132.0   \n",
      "93689.0       1.0            6.000     2.0    30.18   1.0    NaN   164.0   \n",
      "93695.0       2.0            5.830     2.0   187.44   3.0    NaN   112.0   \n",
      "93696.0       2.0              NaN     1.0      NaN   3.0    NaN   118.0   \n",
      "93697.0       2.0            5.500     2.0    38.70   3.0    NaN   154.0   \n",
      "\n",
      "         sysBP2  sysBP3  \n",
      "ID                       \n",
      "73559.0   140.0   146.0  \n",
      "73561.0   134.0   142.0  \n",
      "73564.0   124.0   126.0  \n",
      "73568.0   100.0   108.0  \n",
      "73574.0   124.0   118.0  \n",
      "...         ...     ...  \n",
      "93682.0   122.0   124.0  \n",
      "93689.0   166.0   162.0  \n",
      "93695.0   112.0   110.0  \n",
      "93696.0   116.0   114.0  \n",
      "93697.0   146.0   144.0  \n",
      "\n",
      "[5569 rows x 17 columns]\n"
     ]
    }
   ],
   "source": [
    "\n",
    "df0 = df0.reindex(sorted(df0.columns), axis=1)\n",
    "\n",
    "df1 = df1.reindex(sorted(df1.columns), axis=1)\n",
    "\n",
    "final_df = pd.concat([df1, df0], axis =0)\n",
    "final_df.info()\n",
    "\n",
    "df = final_df.copy(deep=True)\n",
    "df.head()\n",
    "print(df)"
   ]
  },
  {
   "cell_type": "markdown",
   "metadata": {},
   "source": [
    "# Data Pre-Processing"
   ]
  },
  {
   "cell_type": "code",
   "execution_count": 8,
   "metadata": {},
   "outputs": [],
   "source": [
    "# function:  clean_epsilon(cell)\n",
    "# purpose:   in the orginal files, zeros are represented by a small value (10^-79), convert them to actual zeros\n",
    "# input:     a dataframe that with (10^-79) as zeroes \n",
    "# output:    a dataframe with actual zeroes \n",
    "\n",
    "def clean_epsilon(cell):\n",
    "    if cell - 0.0 < 0.0001:\n",
    "        return 0\n",
    "    return cell\n",
    "\n",
    "df = df.applymap(clean_epsilon)"
   ]
  },
  {
   "cell_type": "code",
   "execution_count": 9,
   "metadata": {},
   "outputs": [
    {
     "data": {
      "text/html": [
       "<div>\n",
       "<style scoped>\n",
       "    .dataframe tbody tr th:only-of-type {\n",
       "        vertical-align: middle;\n",
       "    }\n",
       "\n",
       "    .dataframe tbody tr th {\n",
       "        vertical-align: top;\n",
       "    }\n",
       "\n",
       "    .dataframe thead th {\n",
       "        text-align: right;\n",
       "    }\n",
       "</style>\n",
       "<table border=\"1\" class=\"dataframe\">\n",
       "  <thead>\n",
       "    <tr style=\"text-align: right;\">\n",
       "      <th></th>\n",
       "      <th>BMI</th>\n",
       "      <th>HDL</th>\n",
       "      <th>LDL</th>\n",
       "      <th>age</th>\n",
       "      <th>alc_days_year</th>\n",
       "      <th>diabetes</th>\n",
       "      <th>fasting_glucose</th>\n",
       "      <th>gender</th>\n",
       "      <th>insulin</th>\n",
       "      <th>race</th>\n",
       "      <th>sugar</th>\n",
       "      <th>sysBP</th>\n",
       "      <th>diaBP</th>\n",
       "    </tr>\n",
       "    <tr>\n",
       "      <th>ID</th>\n",
       "      <th></th>\n",
       "      <th></th>\n",
       "      <th></th>\n",
       "      <th></th>\n",
       "      <th></th>\n",
       "      <th></th>\n",
       "      <th></th>\n",
       "      <th></th>\n",
       "      <th></th>\n",
       "      <th></th>\n",
       "      <th></th>\n",
       "      <th></th>\n",
       "      <th></th>\n",
       "    </tr>\n",
       "  </thead>\n",
       "  <tbody>\n",
       "    <tr>\n",
       "      <td>73559.0</td>\n",
       "      <td>28.9</td>\n",
       "      <td>1.55</td>\n",
       "      <td>1.448</td>\n",
       "      <td>72.0</td>\n",
       "      <td>0.0</td>\n",
       "      <td>1.0</td>\n",
       "      <td>10.713</td>\n",
       "      <td>1.0</td>\n",
       "      <td>34.98</td>\n",
       "      <td>3.0</td>\n",
       "      <td>NaN</td>\n",
       "      <td>142.000000</td>\n",
       "      <td>82.000000</td>\n",
       "    </tr>\n",
       "    <tr>\n",
       "      <td>73561.0</td>\n",
       "      <td>19.7</td>\n",
       "      <td>2.20</td>\n",
       "      <td>2.612</td>\n",
       "      <td>73.0</td>\n",
       "      <td>0.0</td>\n",
       "      <td>2.0</td>\n",
       "      <td>5.940</td>\n",
       "      <td>2.0</td>\n",
       "      <td>36.72</td>\n",
       "      <td>3.0</td>\n",
       "      <td>NaN</td>\n",
       "      <td>137.333333</td>\n",
       "      <td>86.666667</td>\n",
       "    </tr>\n",
       "    <tr>\n",
       "      <td>73564.0</td>\n",
       "      <td>35.7</td>\n",
       "      <td>1.50</td>\n",
       "      <td>2.508</td>\n",
       "      <td>61.0</td>\n",
       "      <td>2.0</td>\n",
       "      <td>2.0</td>\n",
       "      <td>6.106</td>\n",
       "      <td>2.0</td>\n",
       "      <td>89.46</td>\n",
       "      <td>3.0</td>\n",
       "      <td>0.33</td>\n",
       "      <td>122.666667</td>\n",
       "      <td>80.666667</td>\n",
       "    </tr>\n",
       "    <tr>\n",
       "      <td>73568.0</td>\n",
       "      <td>20.3</td>\n",
       "      <td>2.48</td>\n",
       "      <td>1.733</td>\n",
       "      <td>26.0</td>\n",
       "      <td>2.0</td>\n",
       "      <td>2.0</td>\n",
       "      <td>4.940</td>\n",
       "      <td>2.0</td>\n",
       "      <td>23.10</td>\n",
       "      <td>3.0</td>\n",
       "      <td>NaN</td>\n",
       "      <td>104.666667</td>\n",
       "      <td>62.666667</td>\n",
       "    </tr>\n",
       "    <tr>\n",
       "      <td>73574.0</td>\n",
       "      <td>22.8</td>\n",
       "      <td>1.37</td>\n",
       "      <td>1.940</td>\n",
       "      <td>33.0</td>\n",
       "      <td>NaN</td>\n",
       "      <td>2.0</td>\n",
       "      <td>4.663</td>\n",
       "      <td>2.0</td>\n",
       "      <td>36.30</td>\n",
       "      <td>6.0</td>\n",
       "      <td>NaN</td>\n",
       "      <td>121.333333</td>\n",
       "      <td>62.000000</td>\n",
       "    </tr>\n",
       "  </tbody>\n",
       "</table>\n",
       "</div>"
      ],
      "text/plain": [
       "          BMI   HDL    LDL   age  alc_days_year  diabetes  fasting_glucose  \\\n",
       "ID                                                                           \n",
       "73559.0  28.9  1.55  1.448  72.0            0.0       1.0           10.713   \n",
       "73561.0  19.7  2.20  2.612  73.0            0.0       2.0            5.940   \n",
       "73564.0  35.7  1.50  2.508  61.0            2.0       2.0            6.106   \n",
       "73568.0  20.3  2.48  1.733  26.0            2.0       2.0            4.940   \n",
       "73574.0  22.8  1.37  1.940  33.0            NaN       2.0            4.663   \n",
       "\n",
       "         gender  insulin  race  sugar       sysBP      diaBP  \n",
       "ID                                                            \n",
       "73559.0     1.0    34.98   3.0    NaN  142.000000  82.000000  \n",
       "73561.0     2.0    36.72   3.0    NaN  137.333333  86.666667  \n",
       "73564.0     2.0    89.46   3.0   0.33  122.666667  80.666667  \n",
       "73568.0     2.0    23.10   3.0    NaN  104.666667  62.666667  \n",
       "73574.0     2.0    36.30   6.0    NaN  121.333333  62.000000  "
      ]
     },
     "execution_count": 9,
     "metadata": {},
     "output_type": "execute_result"
    }
   ],
   "source": [
    "# Obtain average systolic and diastolic pressure values from the multiple measurements\n",
    "df['sysBP'] = (df['sysBP1']+df['sysBP2']+df['sysBP3'])/3\n",
    "df['diaBP'] = (df['diaBP1']+df['diaBP2']+df['diaBP3'])/3\n",
    "df = df.drop(['sysBP1','diaBP1','sysBP2','diaBP2','sysBP3','diaBP3'], axis=1)\n",
    "df.head()"
   ]
  },
  {
   "cell_type": "code",
   "execution_count": 10,
   "metadata": {},
   "outputs": [],
   "source": [
    "# function:  get_cstr_ratio(df,feature,cstr)\n",
    "# purpose:   get the percentage of 'don't know' and 'refuse' out of number of entries\n",
    "# input:     cstr: a list of two integers. ex: [77,99] \n",
    "# output:    ratios of dk/entries and refuse/entries \n",
    "\n",
    "def get_cstr_ratio(df,feature,cstr):\n",
    "    total_count = df.shape[0]\n",
    "    dk = cstr[0]      # don't know\n",
    "    refuse = cstr[1]  # refuse to answer\n",
    "    \n",
    "    feature_counts = df[feature].value_counts().to_dict()\n",
    "    if dk not in feature_counts: dk = 0         # When there's no 'dk'/'refuse' in responses\n",
    "    else: dk = feature_counts[dk]\n",
    "    if refuse not in feature_counts: refuse = 0\n",
    "    else: refuse = feature_counts[refuse]\n",
    "\n",
    "    dk = int(dk)\n",
    "    refuse = int(refuse)\n",
    "    r1 = dk/total_count\n",
    "    r2 = refuse/total_count\n",
    "    print()\n",
    "    print('The ratio of [dont know] is', r1)\n",
    "    print('The ratio of [refuse] is', r2)\n",
    "    print('Now call: process_cstr(df,feature,cstr,method)')\n",
    "\n",
    "# function:  process_cstr(df,feature,cstr,method)\n",
    "# purpose:   if cstr ratio is high, then replace cstr with NaN and deal with NaN later\n",
    "#            if cstr ratio is low, then drop entries with cstr\n",
    "# input:     cstr: a list of two integers. ex: [77,99]\n",
    "#            method: select among 'drop', 'NaN'\n",
    "# output:    \n",
    "\n",
    "\n",
    "def process_cstr(df,feature,cstr,method):\n",
    "    dk = cstr[0] # don't know\n",
    "    refuse = cstr[1]  # refuse to answer\n",
    "    if method == 'drop':\n",
    "        df = df[df[feature] != dk]\n",
    "        df = df[df[feature] != refuse]\n",
    "    elif method == 'NaN':\n",
    "        df[feature][df[feature] == dk] = np.nan\n",
    "        df[feature][df[feature] == refuse] = np.nan\n",
    "    else:\n",
    "        print('The method you choose is not included yet, add new method now!')\n",
    "    return df\n"
   ]
  },
  {
   "cell_type": "code",
   "execution_count": 11,
   "metadata": {},
   "outputs": [],
   "source": [
    "#Function to obtain the count of missing values\n",
    "def get_value_count(df,feature): \n",
    "    print()\n",
    "    print('NaN   ',df[feature].isna().sum())\n",
    "    print(df[feature].value_counts())"
   ]
  },
  {
   "cell_type": "markdown",
   "metadata": {},
   "source": [
    "### Functions to Visualize Missing values"
   ]
  },
  {
   "cell_type": "code",
   "execution_count": 12,
   "metadata": {
    "scrolled": false
   },
   "outputs": [
    {
     "name": "stdout",
     "output_type": "stream",
     "text": [
      "<class 'pandas.core.frame.DataFrame'>\n",
      "Float64Index: 5569 entries, 73559.0 to 93697.0\n",
      "Data columns (total 13 columns):\n",
      "BMI                5502 non-null float64\n",
      "HDL                5265 non-null float64\n",
      "LDL                5003 non-null float64\n",
      "age                5569 non-null float64\n",
      "alc_days_year      4165 non-null float64\n",
      "diabetes           5569 non-null float64\n",
      "fasting_glucose    5298 non-null float64\n",
      "gender             5569 non-null float64\n",
      "insulin            5195 non-null float64\n",
      "race               5569 non-null float64\n",
      "sugar              608 non-null float64\n",
      "sysBP              5092 non-null float64\n",
      "diaBP              5092 non-null float64\n",
      "dtypes: float64(13)\n",
      "memory usage: 609.1 KB\n"
     ]
    },
    {
     "data": {
      "image/png": "[encoded data removed]",
      "text/plain": [
       "<matplotlib.figure.Figure at 0x23567609c88>"
      ]
     },
     "metadata": {},
     "output_type": "display_data"
    }
   ],
   "source": [
    "# purpose:   get the ratio of (missing values)/(total entries) for ***one feature***  \n",
    "# input:     df: dataframe that contains the feature you want to check for NaN ratio\n",
    "#            feature: the name of the feature - string           \n",
    "# output:    NaN ratio of the feature, and instructions on what to do next \n",
    "\n",
    "def get_NaN_ratio(df,feature):\n",
    "    print()\n",
    "    total_count = df.shape[0]                  # total entries\n",
    "    feature_valid_count = df[feature].count()  # non-NaN entries for chosen feature\n",
    "    feature_null_count = total_count - feature_valid_count\n",
    "    NaN_ratio = feature_null_count/total_count\n",
    "    print('The NaN ratio in',feature,'is',\"%.3f\" % NaN_ratio)\n",
    "    if NaN_ratio == 0:\n",
    "        print('No missing values detected')\n",
    "    elif NaN_ratio <= 0.1:\n",
    "        print('Since NaN ratio is small, fill NaN directly with fill type: mode, mean, new category')\n",
    "        print('Now call function: fill_NaN(df, feature, fill_type)')\n",
    "    else:\n",
    "        print('Since NaN ratio is large, predict NaN using ML or check predictability first...')\n",
    "        print('if check predictability, call: check_predictability_all/some_x(df,y,method)')\n",
    "        print('if predict using ML, call: predict_NaN_with_ML(df,x,y,data_type,model)')\n",
    "\n",
    "# features = df.columns.values.tolist()\n",
    "# for feature in features:\n",
    "#     get_NaN_ratio(df,feature)\n",
    "#     print('----------------------')\n",
    "\n",
    "\n",
    "def plot_NaN_percentage_for_all(df):\n",
    "    total = df.isnull().sum().sort_values(ascending=False)\n",
    "    percent = (df.isnull().sum()/df.isnull().count()).sort_values(ascending=False)\n",
    "    missing_data = pd.concat([total, percent], axis=1, keys=['Total', 'Percent'])\n",
    "    # missing_data.head()\n",
    "    f, ax = plt.subplots(figsize=(15, 6))\n",
    "    plt.xticks(rotation='90')\n",
    "    sns.barplot(x=missing_data.index, y=missing_data['Percent'])\n",
    "    plt.xlabel('Features', fontsize=15)\n",
    "    plt.ylabel('Percent of missing values', fontsize=15)\n",
    "    plt.title('Percent missing data by feature', fontsize=15)\n",
    "    \n",
    "    \n",
    "plot_NaN_percentage_for_all(df)\n",
    "df.info()"
   ]
  },
  {
   "cell_type": "markdown",
   "metadata": {},
   "source": [
    "### Outliers"
   ]
  },
  {
   "cell_type": "code",
   "execution_count": 13,
   "metadata": {},
   "outputs": [
    {
     "name": "stdout",
     "output_type": "stream",
     "text": [
      "Index(['BMI', 'HDL', 'LDL', 'age', 'alc_days_year', 'diabetes',\n",
      "       'fasting_glucose', 'gender', 'insulin', 'race', 'sugar', 'sysBP',\n",
      "       'diaBP'],\n",
      "      dtype='object')\n"
     ]
    }
   ],
   "source": [
    "# Function to Detection Outliers\n",
    "\n",
    "def find_anomalies(data, a):\n",
    "    anomalies_a = []\n",
    "    patient_a = []\n",
    "\n",
    "    # Set upper and lower limit to 3 standard deviation \n",
    "    random_data_std = data.std()\n",
    "    random_data_mean = data.mean()\n",
    "    anomaly_cut_off = random_data_std * 3\n",
    "    \n",
    "    lower_limit  = random_data_mean - anomaly_cut_off \n",
    "    upper_limit = random_data_mean + anomaly_cut_off\n",
    "    \n",
    "    # Generate outliers\n",
    "    for i in data:\n",
    "        if i > upper_limit or i < lower_limit:\n",
    "            anomalies_a.append(i)\n",
    "            index_value_i = (data==i).index\n",
    "            patient_a.append(index_value_i)\n",
    "    return anomalies_a\n",
    "    #return patient_a\n",
    "\n",
    "print(df.columns)\n",
    "   \n",
    "   \n",
    "\n",
    "\n"
   ]
  },
  {
   "cell_type": "code",
   "execution_count": 14,
   "metadata": {},
   "outputs": [
    {
     "name": "stdout",
     "output_type": "stream",
     "text": [
      "68\n"
     ]
    },
    {
     "data": {
      "text/plain": [
       "count    5434.000000\n",
       "mean       28.694921\n",
       "std         6.512621\n",
       "min        15.100000\n",
       "25%        23.900000\n",
       "50%        27.800000\n",
       "75%        32.300000\n",
       "max        50.500000\n",
       "Name: BMI, dtype: float64"
      ]
     },
     "execution_count": 14,
     "metadata": {},
     "output_type": "execute_result"
    },
    {
     "data": {
      "image/png": "[encoded data removed]",
      "text/plain": [
       "<matplotlib.figure.Figure at 0x235675ee9e8>"
      ]
     },
     "metadata": {},
     "output_type": "display_data"
    },
    {
     "data": {
      "image/png": "[encoded data removed]",
      "text/plain": [
       "<matplotlib.figure.Figure at 0x235676f52e8>"
      ]
     },
     "metadata": {},
     "output_type": "display_data"
    }
   ],
   "source": [
    "print(len(find_anomalies(df[\"BMI\"],1)))\n",
    "boxplot = df.boxplot(column=['BMI'])\n",
    "hist = df.hist(column=['BMI'])\n",
    "for i in find_anomalies(df[\"BMI\"],1):\n",
    "    df = df[df.BMI != i]\n",
    "df[\"BMI\"].describe()"
   ]
  },
  {
   "cell_type": "code",
   "execution_count": 15,
   "metadata": {},
   "outputs": [
    {
     "data": {
      "image/png": "[encoded data removed]",
      "text/plain": [
       "<matplotlib.figure.Figure at 0x2356762bac8>"
      ]
     },
     "metadata": {},
     "output_type": "display_data"
    },
    {
     "data": {
      "image/png": "[encoded data removed]",
      "text/plain": [
       "<matplotlib.figure.Figure at 0x2356762b5c0>"
      ]
     },
     "metadata": {},
     "output_type": "display_data"
    }
   ],
   "source": [
    "hist_before = df.hist(column=['BMI'], range=[10, 60])\n",
    "df[\"BMI\"] = np.log(df[\"BMI\"])\n",
    "hist_after = df.hist(column=['BMI'])\n"
   ]
  },
  {
   "cell_type": "code",
   "execution_count": 16,
   "metadata": {},
   "outputs": [
    {
     "name": "stdout",
     "output_type": "stream",
     "text": [
      "53\n"
     ]
    },
    {
     "data": {
      "text/plain": [
       "count    5115.000000\n",
       "mean        1.413851\n",
       "std         0.439148\n",
       "min         0.160000\n",
       "25%         1.110000\n",
       "50%         1.340000\n",
       "75%         1.660000\n",
       "max         5.840000\n",
       "Name: HDL, dtype: float64"
      ]
     },
     "execution_count": 16,
     "metadata": {},
     "output_type": "execute_result"
    },
    {
     "data": {
      "image/png": "[encoded data removed]",
      "text/plain": [
       "<matplotlib.figure.Figure at 0x235679d8a90>"
      ]
     },
     "metadata": {},
     "output_type": "display_data"
    },
    {
     "data": {
      "image/png": "[encoded data removed]",
      "text/plain": [
       "<matplotlib.figure.Figure at 0x235679d8e48>"
      ]
     },
     "metadata": {},
     "output_type": "display_data"
    }
   ],
   "source": [
    "print(len(find_anomalies(df[\"HDL\"],2)))\n",
    "boxplot = df.boxplot(column=['HDL'])\n",
    "hist = df.hist(column=['HDL'])\n",
    "for i in find_anomalies(df[\"HDL\"],2):\n",
    "    df = df[df.LDL != i]\n",
    "df[\"HDL\"].describe()"
   ]
  },
  {
   "cell_type": "code",
   "execution_count": 17,
   "metadata": {},
   "outputs": [
    {
     "data": {
      "image/png": "[encoded data removed]",
      "text/plain": [
       "<matplotlib.figure.Figure at 0x235676c3ef0>"
      ]
     },
     "metadata": {},
     "output_type": "display_data"
    },
    {
     "data": {
      "image/png": "[encoded data removed]",
      "text/plain": [
       "<matplotlib.figure.Figure at 0x235679d34a8>"
      ]
     },
     "metadata": {},
     "output_type": "display_data"
    }
   ],
   "source": [
    "hist_before = df.hist(column=['HDL'], range=[0, 6])\n",
    "df[\"HDL\"] = np.log(df[\"HDL\"]+1)\n",
    "hist_after = df.hist(column=['HDL'])\n",
    "\n"
   ]
  },
  {
   "cell_type": "code",
   "execution_count": 18,
   "metadata": {},
   "outputs": [
    {
     "name": "stdout",
     "output_type": "stream",
     "text": [
      "32\n"
     ]
    },
    {
     "data": {
      "text/plain": [
       "count    4821.000000\n",
       "mean        2.829250\n",
       "std         0.879974\n",
       "min         0.362000\n",
       "25%         2.198000\n",
       "50%         2.767000\n",
       "75%         3.388000\n",
       "max         5.612000\n",
       "Name: LDL, dtype: float64"
      ]
     },
     "execution_count": 18,
     "metadata": {},
     "output_type": "execute_result"
    },
    {
     "data": {
      "image/png": "[encoded data removed]",
      "text/plain": [
       "<matplotlib.figure.Figure at 0x235686c7390>"
      ]
     },
     "metadata": {},
     "output_type": "display_data"
    },
    {
     "data": {
      "image/png": "[encoded data removed]",
      "text/plain": [
       "<matplotlib.figure.Figure at 0x2356764a710>"
      ]
     },
     "metadata": {},
     "output_type": "display_data"
    }
   ],
   "source": [
    "print(len(find_anomalies(df[\"LDL\"],3)))\n",
    "boxplot = df.boxplot(column=['LDL'])\n",
    "hist = df.hist(column=['LDL'])\n",
    "for i in find_anomalies(df[\"LDL\"],3):\n",
    "    df = df[df.LDL != i]\n",
    "df[\"LDL\"].describe()"
   ]
  },
  {
   "cell_type": "code",
   "execution_count": 19,
   "metadata": {},
   "outputs": [
    {
     "data": {
      "image/png": "[encoded data removed]",
      "text/plain": [
       "<matplotlib.figure.Figure at 0x235675ee898>"
      ]
     },
     "metadata": {},
     "output_type": "display_data"
    }
   ],
   "source": [
    "hist_before = df.hist(column=['LDL'], range = [0,6])\n"
   ]
  },
  {
   "cell_type": "code",
   "execution_count": 20,
   "metadata": {},
   "outputs": [
    {
     "name": "stdout",
     "output_type": "stream",
     "text": [
      "120\n"
     ]
    },
    {
     "data": {
      "text/plain": [
       "count    4994.000000\n",
       "mean        5.829674\n",
       "std         1.202900\n",
       "min         1.170000\n",
       "25%         5.162000\n",
       "50%         5.550000\n",
       "75%         6.100000\n",
       "max        12.268000\n",
       "Name: fasting_glucose, dtype: float64"
      ]
     },
     "execution_count": 20,
     "metadata": {},
     "output_type": "execute_result"
    },
    {
     "data": {
      "image/png": "[encoded data removed]",
      "text/plain": [
       "<matplotlib.figure.Figure at 0x2356873d780>"
      ]
     },
     "metadata": {},
     "output_type": "display_data"
    },
    {
     "data": {
      "image/png": "[encoded data removed]",
      "text/plain": [
       "<matplotlib.figure.Figure at 0x23567bec710>"
      ]
     },
     "metadata": {},
     "output_type": "display_data"
    }
   ],
   "source": [
    "print(len(find_anomalies(df[\"fasting_glucose\"],4)))\n",
    "boxplot = df.boxplot(column=['fasting_glucose'])\n",
    "hist = df.hist(column=['fasting_glucose'])\n",
    "for i in find_anomalies(df[\"fasting_glucose\"],4):\n",
    "    df = df[df.fasting_glucose != i]\n",
    "df[\"fasting_glucose\"].describe()"
   ]
  },
  {
   "cell_type": "code",
   "execution_count": 21,
   "metadata": {},
   "outputs": [
    {
     "data": {
      "image/png": "[encoded data removed]",
      "text/plain": [
       "<matplotlib.figure.Figure at 0x23567a399b0>"
      ]
     },
     "metadata": {},
     "output_type": "display_data"
    },
    {
     "data": {
      "image/png": "[encoded data removed]",
      "text/plain": [
       "<matplotlib.figure.Figure at 0x23567a39a58>"
      ]
     },
     "metadata": {},
     "output_type": "display_data"
    }
   ],
   "source": [
    "hist_before = df.hist(column=['fasting_glucose'], range = [1,13])\n",
    "df[\"fasting_glucose\"] = np.log(df[\"fasting_glucose\"])\n",
    "hist_after = df.hist(column=['fasting_glucose'])"
   ]
  },
  {
   "cell_type": "code",
   "execution_count": 22,
   "metadata": {},
   "outputs": [
    {
     "name": "stdout",
     "output_type": "stream",
     "text": [
      "56\n"
     ]
    },
    {
     "data": {
      "text/plain": [
       "count    4847.000000\n",
       "mean       71.626420\n",
       "std        57.997836\n",
       "min         0.840000\n",
       "25%        34.800000\n",
       "50%        54.780000\n",
       "75%        87.120000\n",
       "max       420.540000\n",
       "Name: insulin, dtype: float64"
      ]
     },
     "execution_count": 22,
     "metadata": {},
     "output_type": "execute_result"
    },
    {
     "data": {
      "image/png": "[encoded data removed]",
      "text/plain": [
       "<matplotlib.figure.Figure at 0x235679d3588>"
      ]
     },
     "metadata": {},
     "output_type": "display_data"
    },
    {
     "data": {
      "image/png": "[encoded data removed]",
      "text/plain": [
       "<matplotlib.figure.Figure at 0x235679d3cc0>"
      ]
     },
     "metadata": {},
     "output_type": "display_data"
    }
   ],
   "source": [
    "print(len(find_anomalies(df[\"insulin\"],5)))\n",
    "boxplot = df.boxplot(column=['insulin'])\n",
    "hist = df.hist(column=['insulin'])\n",
    "for i in find_anomalies(df[\"insulin\"],5):\n",
    "    df = df[df.insulin != i]\n",
    "df[\"insulin\"].describe()"
   ]
  },
  {
   "cell_type": "code",
   "execution_count": 23,
   "metadata": {},
   "outputs": [
    {
     "data": {
      "image/png": "[encoded data removed]",
      "text/plain": [
       "<matplotlib.figure.Figure at 0x23568843860>"
      ]
     },
     "metadata": {},
     "output_type": "display_data"
    },
    {
     "data": {
      "image/png": "[encoded data removed]",
      "text/plain": [
       "<matplotlib.figure.Figure at 0x23568843e48>"
      ]
     },
     "metadata": {},
     "output_type": "display_data"
    }
   ],
   "source": [
    "hist_before = df.hist(column=['insulin'], range=[0, 500])\n",
    "df[\"insulin\"] = np.log(df[\"insulin\"])\n",
    "hist_after = df.hist(column=['insulin'])"
   ]
  },
  {
   "cell_type": "code",
   "execution_count": 24,
   "metadata": {},
   "outputs": [
    {
     "name": "stdout",
     "output_type": "stream",
     "text": [
      "15\n"
     ]
    },
    {
     "data": {
      "text/plain": [
       "count    549.000000\n",
       "mean       1.358597\n",
       "std        1.662584\n",
       "min        0.010000\n",
       "25%        0.110000\n",
       "50%        0.670000\n",
       "75%        2.000000\n",
       "max        8.100000\n",
       "Name: sugar, dtype: float64"
      ]
     },
     "execution_count": 24,
     "metadata": {},
     "output_type": "execute_result"
    },
    {
     "data": {
      "image/png": "[encoded data removed]",
      "text/plain": [
       "<matplotlib.figure.Figure at 0x235679ed6a0>"
      ]
     },
     "metadata": {},
     "output_type": "display_data"
    },
    {
     "data": {
      "image/png": "[encoded data removed]",
      "text/plain": [
       "<matplotlib.figure.Figure at 0x235679a2358>"
      ]
     },
     "metadata": {},
     "output_type": "display_data"
    }
   ],
   "source": [
    "print(len(find_anomalies(df[\"sugar\"],6)))\n",
    "boxplot = df.boxplot(column=['sugar'])\n",
    "hist = df.hist(column=['sugar'])\n",
    "for i in find_anomalies(df[\"sugar\"],6):\n",
    "    df = df[df.sugar != i]\n",
    "df[\"sugar\"].describe()"
   ]
  },
  {
   "cell_type": "code",
   "execution_count": 25,
   "metadata": {},
   "outputs": [
    {
     "data": {
      "image/png": "[encoded data removed]",
      "text/plain": [
       "<matplotlib.figure.Figure at 0x23567969e10>"
      ]
     },
     "metadata": {},
     "output_type": "display_data"
    },
    {
     "data": {
      "image/png": "[encoded data removed]",
      "text/plain": [
       "<matplotlib.figure.Figure at 0x23567c0e668>"
      ]
     },
     "metadata": {},
     "output_type": "display_data"
    }
   ],
   "source": [
    "hist_before = df.hist(column=['sugar'], range=[0, 9])\n",
    "df[\"sugar\"] = np.log(df[\"sugar\"])\n",
    "hist_after = df.hist(column=['sugar'])"
   ]
  },
  {
   "cell_type": "code",
   "execution_count": 26,
   "metadata": {},
   "outputs": [
    {
     "name": "stdout",
     "output_type": "stream",
     "text": [
      "61\n"
     ]
    },
    {
     "data": {
      "text/plain": [
       "count    4691.000000\n",
       "mean      122.039650\n",
       "std        16.350069\n",
       "min        70.666667\n",
       "25%       110.666667\n",
       "50%       119.333333\n",
       "75%       131.333333\n",
       "max       176.000000\n",
       "Name: sysBP, dtype: float64"
      ]
     },
     "execution_count": 26,
     "metadata": {},
     "output_type": "execute_result"
    },
    {
     "data": {
      "image/png": "[encoded data removed]",
      "text/plain": [
       "<matplotlib.figure.Figure at 0x2356856a4e0>"
      ]
     },
     "metadata": {},
     "output_type": "display_data"
    },
    {
     "data": {
      "image/png": "[encoded data removed]",
      "text/plain": [
       "<matplotlib.figure.Figure at 0x2356856a2b0>"
      ]
     },
     "metadata": {},
     "output_type": "display_data"
    }
   ],
   "source": [
    "print(len(find_anomalies(df[\"sysBP\"],7)))\n",
    "boxplot = df.boxplot(column=['sysBP'])\n",
    "hist = df.hist(column=['sysBP'])\n",
    "for i in find_anomalies(df[\"sysBP\"],7):\n",
    "    df = df[df.sysBP != i]\n",
    "df[\"sysBP\"].describe()"
   ]
  },
  {
   "cell_type": "code",
   "execution_count": 27,
   "metadata": {},
   "outputs": [
    {
     "data": {
      "image/png": "[encoded data removed]",
      "text/plain": [
       "<matplotlib.figure.Figure at 0x235686f0f60>"
      ]
     },
     "metadata": {},
     "output_type": "display_data"
    },
    {
     "data": {
      "image/png": "[encoded data removed]",
      "text/plain": [
       "<matplotlib.figure.Figure at 0x23567652e80>"
      ]
     },
     "metadata": {},
     "output_type": "display_data"
    }
   ],
   "source": [
    "hist_before = df.hist(column=['sysBP'], range=[70, 180])\n",
    "df[\"sysBP\"] = np.log(df[\"sysBP\"])\n",
    "hist_after = df.hist(column=['sysBP'])"
   ]
  },
  {
   "cell_type": "code",
   "execution_count": 28,
   "metadata": {},
   "outputs": [
    {
     "name": "stdout",
     "output_type": "stream",
     "text": [
      "52\n"
     ]
    },
    {
     "data": {
      "text/plain": [
       "count    4639.000000\n",
       "mean       68.626141\n",
       "std        10.947227\n",
       "min        32.000000\n",
       "25%        61.333333\n",
       "50%        68.666667\n",
       "75%        75.333333\n",
       "max       104.666667\n",
       "Name: diaBP, dtype: float64"
      ]
     },
     "execution_count": 28,
     "metadata": {},
     "output_type": "execute_result"
    },
    {
     "data": {
      "image/png": "[encoded data removed]",
      "text/plain": [
       "<matplotlib.figure.Figure at 0x23567add278>"
      ]
     },
     "metadata": {},
     "output_type": "display_data"
    },
    {
     "data": {
      "image/png": "[encoded data removed]",
      "text/plain": [
       "<matplotlib.figure.Figure at 0x23568997048>"
      ]
     },
     "metadata": {},
     "output_type": "display_data"
    }
   ],
   "source": [
    "print(len(find_anomalies(df[\"diaBP\"],8)))\n",
    "boxplot = df.boxplot(column=['diaBP'])\n",
    "hist = df.hist(column=['diaBP'])\n",
    "for i in find_anomalies(df[\"diaBP\"],8):\n",
    "    df = df[df.diaBP != i]\n",
    "df[\"diaBP\"].describe()"
   ]
  },
  {
   "cell_type": "code",
   "execution_count": 29,
   "metadata": {},
   "outputs": [
    {
     "data": {
      "image/png": "[encoded data removed]",
      "text/plain": [
       "<matplotlib.figure.Figure at 0x2356794ca58>"
      ]
     },
     "metadata": {},
     "output_type": "display_data"
    }
   ],
   "source": [
    "hist_before = df.hist(column=['diaBP'], range=[30, 105])\n"
   ]
  },
  {
   "cell_type": "markdown",
   "metadata": {},
   "source": [
    "### Imputation of Missing values"
   ]
  },
  {
   "cell_type": "code",
   "execution_count": 30,
   "metadata": {},
   "outputs": [],
   "source": [
    "# purpose:   Plot histograms showing the distribution of a feature before and after filling NaN\n",
    "#            to see the change in distribution. This can tell you if the filling method is \n",
    "#            correct or not.\n",
    "# input:     feature0: str0\n",
    "#            feature: str\n",
    "#            title of the plot\n",
    "\n",
    "def plot_before_after(before,after,feature):\n",
    "    fig, ax = plt.subplots()\n",
    "    ax.hist(after,alpha=0.5,color='red')\n",
    "    ax.hist(before)\n",
    "    ax.legend(['after','before'])\n",
    "    plt.title('Before vs. After(no NaN):'+feature)\n",
    "    plt.ylabel('Frequency')\n",
    "\n",
    "def plot_feature(feature):\n",
    "    plt.figure()\n",
    "    df[feature].hist()\n",
    "    plt.title(feature)\n",
    "    plt.ylabel('Frequency')"
   ]
  },
  {
   "cell_type": "code",
   "execution_count": 31,
   "metadata": {},
   "outputs": [],
   "source": [
    "# function:  fill_NaN(df, feature, fill_type)\n",
    "# purpose:   fill the missing values in ***one column/feature*** in the given df. \n",
    "# input:     df: the df containing the target column to be filled\n",
    "#            feature: the column whose NaN's are dealt with\n",
    "#            fill_type: choose among -> 'mean', 'mode', 'zero' \n",
    "#                       mean: if the feature is continuous without outliers - normal distribution\n",
    "#                       median: if the feature is continuous with outliers - skewed distribution\n",
    "#                       mode: if the feature is categorical\n",
    "# output:    a df whose target column is filled (no more NaN in that col)\n",
    "\n",
    "def fill_NaN(df, feature, fill_type):    \n",
    "    before_filling = df[feature].dropna().copy(deep=True)\n",
    "    if fill_type == 'mean':\n",
    "        after_filling = df[feature].fillna(df[feature].dropna().mean())\n",
    "    elif fill_type == 'mode':\n",
    "        after_filling = df[feature].fillna(df[feature].dropna().mode().iloc[0])\n",
    "    elif fill_type == 'std':\n",
    "        after_filling = fill_NaN_std(df, feature)\n",
    "#     elif fill_type == 'median':\n",
    "#         after_filling = df[feature].fillna(df[feature].dropna().median())\n",
    "    else:\n",
    "        # fill type == 'zero' (new category)\n",
    "        # set missing values as another category \n",
    "        # cannot set this new cat as 0 since there could be 0 after applying clean_epsilon function  \n",
    "        # need to get a unique number representing NaN as a new category \n",
    "        new_type = 0\n",
    "        after_filling = df[feature].fillna(new_type)   \n",
    "    df[feature] = after_filling\n",
    "    plot_before_after(before_filling, after_filling, feature)\n",
    "    return df\n",
    "\n",
    "\n",
    "def fill_NaN_std(df,feature):\n",
    "    feature_avg = df[feature].mean()\n",
    "    feature_std = df[feature].std()\n",
    "    feature_null_count = df[feature].isnull().sum()\n",
    "    feature_null_random_list = np.random.randint(feature_avg - feature_std, feature_avg + feature_std, size=feature_null_count)\n",
    "    df[feature][np.isnan(df[feature])] = feature_null_random_list\n",
    "    after_filling = df[feature].astype(int)\n",
    "    return after_filling\n",
    "\n",
    "\n"
   ]
  },
  {
   "cell_type": "code",
   "execution_count": 32,
   "metadata": {},
   "outputs": [],
   "source": [
    "# function:  predict_NaN_with_ML(df,x,y,data_type,model)\n",
    "# purpose:   predict the values of NaN and fill these predicted values back into the dataframe\n",
    "# input:     df: the dataframe containing the features used for prediction and target y(target feature)\n",
    "#            x: a list of strings - features used for prediction - no NAN in all x's\n",
    "#            y: a string - target feature\n",
    "#            data_type: a string ->'categorical','numerical'\n",
    "#            \n",
    "# process: CV was used to set the hyperparamters ; and the model with a higher accuracy was chosen to impute the missing data\n",
    "\n",
    "\n",
    "def predict_NaN_with_ML(df,x,y,data_type):\n",
    "    before_filling = df[y].dropna().copy(deep=True)\n",
    "    # build model using valid entries  \n",
    "    valid_entries = df[df[y].notnull()]                # rows where y is not NaN (valid entries)\n",
    "    print(valid_entries)\n",
    "    valid_entries_x = valid_entries[x]                 # all x's for valid rows (x's are not NaN)\n",
    "    print(valid_entries_x)\n",
    "    valid_entries_y = valid_entries[y]                 # y for valid rows (y's are not NaN) \n",
    "    print(valid_entries_y)\n",
    "    valid_entries_x = valid_entries_x.astype(float)    # change data type to float\n",
    "    valid_entries_y = valid_entries_y.astype(float)\n",
    "    \n",
    "        \n",
    "    if data_type == 'categorical':\n",
    "        #Random Forest\n",
    "        n_estimators = [int(x) for x in np.linspace(start = 5, stop = 10, num = 1)]\n",
    "        max_features = ['auto', 'sqrt']\n",
    "        max_depth = [int(x) for x in np.linspace(10, 110, num = 11)]\n",
    "        max_depth.append(None)\n",
    "        min_samples_split = [10, 20]\n",
    "        min_samples_leaf = [10, 20]\n",
    "        bootstrap = [True, False]\n",
    "        random_grid = {'n_estimators': n_estimators,\n",
    "        'max_features': max_features,\n",
    "        'max_depth': max_depth,\n",
    "        'min_samples_split': min_samples_split,\n",
    "        'min_samples_leaf': min_samples_leaf,\n",
    "        'bootstrap': bootstrap}\n",
    "        rf = RandomForestClassifier()\n",
    "        rf_random = RandomizedSearchCV(estimator = rf, param_distributions = random_grid, n_iter = 100, cv = 5, verbose=2, random_state=42, n_jobs = -1)\n",
    "        rf_random.fit(valid_entries_x, valid_entries_y)\n",
    "        estimators = rf_random.best_params_['n_estimators']\n",
    "        features = rf_random.best_params_['max_features']\n",
    "        depth = rf_random.best_params_['max_depth']\n",
    "        samples_split_min = rf_random.best_params_['min_samples_split']\n",
    "        samples_leaf_min = rf_random.best_params_['min_samples_leaf']\n",
    "        bstrap = rf_random.best_params_['bootstrap']\n",
    "        rf_random.best_score_\n",
    "        print(\"The best accuracy of\", rf_random.best_score_, \"is given by\",estimators , \"estimators\", features, \"max features\", depth, \"max_depth\",samples_split_min, \"min samples split\", samples_leaf_min,\"min samples leaf\", bstrap, \"bootstrap\", \"parameters\" )\n",
    "\n",
    "\n",
    "        #kNN\n",
    "        k_range = list(range(1, 50))\n",
    "        param_grid = dict(n_neighbors=k_range)\n",
    "        grid = GridSearchCV(KNeighborsClassifier(), param_grid, cv=5, scoring='accuracy')\n",
    "        grid.fit(valid_entries_x, valid_entries_y)\n",
    "        k = grid.best_params_[\"n_neighbors\"]\n",
    "        print(\"The best accuracy of\", grid.best_score_, \"is given by\", k, \"clusters\")\n",
    "\n",
    "            \n",
    "       \n",
    "        if rf_random.best_score_>grid.best_score_ :\n",
    "            algo = RandomForestClassifier(n_estimators=estimators,max_features=features,max_depth=depth,min_samples_split=samples_split_min,  min_samples_leaf=samples_leaf_min, bootstrap =  bstrap)   \n",
    "            print(\"Random Forest provides better accuracy\")\n",
    "            algo.fit(valid_entries_x, valid_entries_y)\n",
    "               \n",
    "            #predict y (target feature)\n",
    "            nan_entries = df[df[y].isnull()]                    # rows where y is NaN     \n",
    "            nan_entries_x = nan_entries[x].astype(float)    \n",
    "            nan_entries_y = nan_entries[y].astype(float)\n",
    "    \n",
    "            predict_y = algo.predict(nan_entries_x)             # predict NaN y based on x on the same entries    \n",
    "            df.loc[df[y].isna(), y] = predict_y                 # fill the missing values with predicted data\n",
    "            print('Features used for predicting',y, 'are:',x)\n",
    "            print('The number of predicted values:',len(predict_y))\n",
    "    \n",
    "            after_filling = df[y]\n",
    "            plot_before_after(before_filling, after_filling, y)\n",
    "        else:\n",
    "            algo = KNeighborsClassifier(n_neighbors=k)\n",
    "            print(\"kNN provides better accuracy\")\n",
    "            algo.fit(valid_entries_x, valid_entries_y)\n",
    "            \n",
    "            #predict y (target feature)\n",
    "            nan_entries = df[df[y].isnull()]                    # rows where y is NaN     \n",
    "            nan_entries_x = nan_entries[x].astype(float)    \n",
    "            nan_entries_y = nan_entries[y].astype(float)\n",
    "    \n",
    "            predict_y = algo.predict(nan_entries_x)             # predict NaN y based on x on the same entries    \n",
    "            df.loc[df[y].isna(), y] = predict_y                 # fill the missing values with predicted data\n",
    "            print('Features used for predicting',y, 'are:',x)\n",
    "            print('The number of predicted values:',len(predict_y))\n",
    "    \n",
    "            after_filling = df[y]\n",
    "            plot_before_after(before_filling, after_filling, y)\n",
    "\n",
    "                \n",
    "    elif data_type == 'numerical':\n",
    "        #Random Forest\n",
    "        n_estimators = [int(x) for x in np.linspace(start = 5, stop = 10, num = 1)]\n",
    "        max_features = ['auto', 'sqrt']\n",
    "        max_depth = [int(x) for x in np.linspace(10, 110, num = 11)]\n",
    "        max_depth.append(None)\n",
    "        min_samples_split = [10, 20]\n",
    "        min_samples_leaf = [10, 20]\n",
    "        bootstrap = [True, False]\n",
    "        random_grid = {'n_estimators': n_estimators,\n",
    "        'max_features': max_features,\n",
    "        'max_depth': max_depth,\n",
    "        'min_samples_split': min_samples_split,\n",
    "        'min_samples_leaf': min_samples_leaf,\n",
    "        'bootstrap': bootstrap}\n",
    "        rf = RandomForestRegressor()\n",
    "        rf_random = RandomizedSearchCV(estimator = rf, param_distributions = random_grid, n_iter = 100, cv = 5, verbose=2, random_state=42, n_jobs = -1)\n",
    "        rf_random.fit(valid_entries_x, valid_entries_y)\n",
    "        estimators = rf_random.best_params_['n_estimators']\n",
    "        features = rf_random.best_params_['max_features']\n",
    "        depth = rf_random.best_params_['max_depth']\n",
    "        samples_split_min = rf_random.best_params_['min_samples_split']\n",
    "        samples_leaf_min = rf_random.best_params_['min_samples_leaf']\n",
    "        bstrap = rf_random.best_params_['bootstrap']\n",
    "        rf_random.best_score_\n",
    "        print(\"The best accuracy of\", rf_random.best_score_, \"is given by\",estimators , \"estimators\", features, \"max features\", depth, \"max_depth\",samples_split_min, \"min samples split\", samples_leaf_min,\"min samples leaf\", bstrap, \"bootstrap\", \"parameters\" )\n",
    "\n",
    "        #kNN\n",
    "        k_range = list(range(1, 50))\n",
    "        param_grid = dict(n_neighbors=k_range)\n",
    "        grid = GridSearchCV(KNeighborsRegressor(), param_grid, cv=5)\n",
    "        grid.fit(valid_entries_x, valid_entries_y)\n",
    "        k = grid.best_params_[\"n_neighbors\"]\n",
    "        print(\"The best accuracy of\", grid.best_score_, \"is given by\", k, \"clusters\")\n",
    "        \n",
    "        \n",
    "        \n",
    "        if rf_random.best_score_>grid.best_score_ :\n",
    "            algo = RandomForestRegressor(n_estimators=estimators,max_features=features,max_depth=depth,  min_samples_split=samples_split_min,  min_samples_leaf=samples_leaf_min, bootstrap =  bstrap)   \n",
    "            print(\"Random Forest provides better accuracy\")\n",
    "            algo.fit(valid_entries_x, valid_entries_y)\n",
    "               \n",
    "            #predict y (target feature)\n",
    "            nan_entries = df[df[y].isnull()]                    # rows where y is NaN     \n",
    "            nan_entries_x = nan_entries[x].astype(float)    \n",
    "            nan_entries_y = nan_entries[y].astype(float)\n",
    "    \n",
    "            predict_y = algo.predict(nan_entries_x)             # predict NaN y based on x on the same entries    \n",
    "            df.loc[df[y].isna(), y] = predict_y                 # fill the missing values with predicted data\n",
    "            print('Features used for predicting',y, 'are:',x)\n",
    "            print('The number of predicted values:',len(predict_y))\n",
    "    \n",
    "            after_filling = df[y]\n",
    "            plot_before_after(before_filling, after_filling, y)\n",
    "        else:\n",
    "            algo = KNeighborsRegressor(n_neighbors=k)\n",
    "            print(\"kNN provides better accuracy\")\n",
    "            categorial = ['12drinksayear','5drinksaday','5drinks2hours','gender','race']\n",
    "            numerical = ['BMI','LDL','age','fasting_glucose','sysBP','diaBP','sugar']\n",
    "            for i in x:\n",
    "                if i in numerical:\n",
    "                    valid_entries_x['i'] = preprocessing.scale(valid_entries_x['i'])\n",
    "   \n",
    "            algo.fit(valid_entries_x, valid_entries_y)\n",
    "            \n",
    "            #predict y (target feature)\n",
    "            nan_entries = df[df[y].isnull()]                    # rows where y is NaN     \n",
    "            nan_entries_x = nan_entries[x].astype(float)    \n",
    "            nan_entries_y = nan_entries[y].astype(float)\n",
    "    \n",
    "            predict_y = algo.predict(nan_entries_x)             # predict NaN y based on x on the same entries    \n",
    "            df.loc[df[y].isna(), y] = predict_y                 # fill the missing values with predicted data\n",
    "            print('Features used for predicting',y, 'are:',x)\n",
    "            print('The number of predicted values:',len(predict_y))\n",
    "    \n",
    "            after_filling = df[y]\n",
    "            plot_before_after(before_filling, after_filling, y)\n",
    "    "
   ]
  },
  {
   "cell_type": "code",
   "execution_count": 33,
   "metadata": {},
   "outputs": [
    {
     "name": "stdout",
     "output_type": "stream",
     "text": [
      "439 patient entries are dropped since they contain more than 6 NaN variables\n"
     ]
    }
   ],
   "source": [
    "#Drop the entire patient entry if that entry contains more than 6 NaN features out of 16 features (keep entries with more than 10 non-NaN values)\n",
    "before = len(df.index)\n",
    "df.dropna(thresh = 10,inplace = True)\n",
    "after = len(df.index)\n",
    "print(before-after,'patient entries are dropped since they contain more than 6 NaN variables')"
   ]
  },
  {
   "cell_type": "code",
   "execution_count": 34,
   "metadata": {},
   "outputs": [
    {
     "name": "stdout",
     "output_type": "stream",
     "text": [
      "<class 'pandas.core.frame.DataFrame'>\n",
      "Float64Index: 4640 entries, 73559.0 to 93697.0\n",
      "Data columns (total 13 columns):\n",
      "BMI                4607 non-null float64\n",
      "HDL                4639 non-null float64\n",
      "LDL                4433 non-null float64\n",
      "age                4640 non-null float64\n",
      "alc_days_year      3586 non-null float64\n",
      "diabetes           4640 non-null float64\n",
      "fasting_glucose    4634 non-null float64\n",
      "gender             4640 non-null float64\n",
      "insulin            4585 non-null float64\n",
      "race               4640 non-null float64\n",
      "sugar              511 non-null float64\n",
      "sysBP              4380 non-null float64\n",
      "diaBP              4380 non-null float64\n",
      "dtypes: float64(13)\n",
      "memory usage: 507.5 KB\n"
     ]
    }
   ],
   "source": [
    "df.info()\n"
   ]
  },
  {
   "cell_type": "markdown",
   "metadata": {},
   "source": [
    "### Adding dummy variables to indicate missing value in a given row for each feature"
   ]
  },
  {
   "cell_type": "code",
   "execution_count": 35,
   "metadata": {},
   "outputs": [
    {
     "name": "stdout",
     "output_type": "stream",
     "text": [
      "           BMI       HDL    LDL   age  alc_days_year  diabetes  \\\n",
      "0     3.363842  0.936093  1.448  72.0            0.0       1.0   \n",
      "1     2.980619  1.163151  2.612  73.0            0.0       2.0   \n",
      "2     3.575151  0.916291  2.508  61.0            2.0       2.0   \n",
      "3     3.010621  1.247032  1.733  26.0            2.0       2.0   \n",
      "4     3.126761  0.862890  1.940  33.0            NaN       2.0   \n",
      "...        ...       ...    ...   ...            ...       ...   \n",
      "4635  3.100092  0.966984  2.793  34.0            2.0       2.0   \n",
      "4636  3.039749  0.985817    NaN  41.0            NaN       2.0   \n",
      "4637  3.335770  1.128171  1.888  69.0            0.0       1.0   \n",
      "4638  3.068053  1.015231  1.448  76.0            NaN       2.0   \n",
      "4639  3.433987  1.360977  3.284  80.0            2.0       2.0   \n",
      "\n",
      "      fasting_glucose  gender   insulin  race  ...  gender_NaN  LDL_NaN  \\\n",
      "0            2.371458     1.0  3.554776   3.0  ...           0        0   \n",
      "1            1.781709     2.0  3.603322   3.0  ...           0        0   \n",
      "2            1.809272     2.0  4.493792   3.0  ...           0        0   \n",
      "3            1.597365     2.0  3.139833   3.0  ...           0        0   \n",
      "4            1.539659     2.0  3.591818   6.0  ...           0        0   \n",
      "...               ...     ...       ...   ...  ...         ...      ...   \n",
      "4635         1.562346     2.0  2.958030   3.0  ...           0        0   \n",
      "4636         1.921325     2.0  5.398886   6.0  ...           0        1   \n",
      "4637         1.791759     2.0  3.407179   1.0  ...           0        0   \n",
      "4638         1.763017     2.0  5.233459   3.0  ...           0        0   \n",
      "4639         1.704748     2.0  3.655840   3.0  ...           0        0   \n",
      "\n",
      "      HDL_NaN  insulin_NaN  age_NaN  race_NaN  sugar_NaN  sysBP_NaN  \\\n",
      "0           0            0        0         0          1          0   \n",
      "1           0            0        0         0          1          0   \n",
      "2           0            0        0         0          0          0   \n",
      "3           0            0        0         0          1          0   \n",
      "4           0            0        0         0          1          0   \n",
      "...       ...          ...      ...       ...        ...        ...   \n",
      "4635        0            0        0         0          1          0   \n",
      "4636        0            0        0         0          1          0   \n",
      "4637        0            0        0         0          1          0   \n",
      "4638        0            0        0         0          1          0   \n",
      "4639        0            0        0         0          1          0   \n",
      "\n",
      "      diaBP_NaN  alc_days_year_NaN  \n",
      "0             0                  0  \n",
      "1             0                  0  \n",
      "2             0                  0  \n",
      "3             0                  0  \n",
      "4             0                  1  \n",
      "...         ...                ...  \n",
      "4635          0                  0  \n",
      "4636          0                  1  \n",
      "4637          0                  0  \n",
      "4638          0                  1  \n",
      "4639          0                  0  \n",
      "\n",
      "[4640 rows x 25 columns]\n"
     ]
    }
   ],
   "source": [
    "df.index = range(len(df))\n",
    "for x in ['BMI', 'fasting_glucose', 'gender', 'LDL','HDL','insulin','age', 'race', 'sugar', 'sysBP', 'diaBP','alc_days_year']:\n",
    "    dummy=pd.get_dummies(df[x],dummy_na=True)\n",
    "    dummy.columns=dummy.columns.astype(str)\n",
    "    y=x+\"_\"+\"NaN\"\n",
    "    dummy.rename(columns={'nan':y},inplace= True)\n",
    "    s=pd.DataFrame(dummy[y])\n",
    "    df=pd.concat([df,s],axis=1)\n",
    "print(df)"
   ]
  },
  {
   "cell_type": "markdown",
   "metadata": {},
   "source": [
    "### BMI was first chosen as it had the lowest % of missing values "
   ]
  },
  {
   "cell_type": "markdown",
   "metadata": {},
   "source": [
    "#### Numerical variable with no cstr\n",
    "below 18.5 – underweight\n",
    "between 18.5 and 24.9 – healthy weight range\n",
    "between 25 and 29.9 - overweight (diabetes risk factor)"
   ]
  },
  {
   "cell_type": "code",
   "execution_count": 36,
   "metadata": {},
   "outputs": [
    {
     "name": "stdout",
     "output_type": "stream",
     "text": [
      "\n",
      "The NaN ratio in BMI is 0.007\n",
      "Since NaN ratio is small, fill NaN directly with fill type: mode, mean, new category\n",
      "Now call function: fill_NaN(df, feature, fill_type)\n"
     ]
    },
    {
     "data": {
      "text/plain": [
       "count    4640.000000\n",
       "mean        3.329044\n",
       "std         0.217767\n",
       "min         2.714695\n",
       "25%         3.173878\n",
       "50%         3.321432\n",
       "75%         3.468856\n",
       "max         3.921973\n",
       "Name: BMI, dtype: float64"
      ]
     },
     "execution_count": 36,
     "metadata": {},
     "output_type": "execute_result"
    },
    {
     "data": {
      "image/png": "[encoded data removed]",
      "text/plain": [
       "<matplotlib.figure.Figure at 0x2356cefa550>"
      ]
     },
     "metadata": {},
     "output_type": "display_data"
    }
   ],
   "source": [
    "get_NaN_ratio(df,'BMI')\n",
    "fill_NaN(df,'BMI','mean')\n",
    "df['BMI'].describe()"
   ]
  },
  {
   "cell_type": "markdown",
   "metadata": {},
   "source": [
    "### Fasting glucose has the second highest % of missing data"
   ]
  },
  {
   "cell_type": "markdown",
   "metadata": {},
   "source": [
    "#### \n",
    "The fasting plasma glucose test (FPG) is the preferred method of screening for diabetes. The FPG measures a person's blood sugar level after fasting or not eating anything for at least 8 hours.\n",
    "\n",
    "The global mean fasting plasma blood glucose level in humans is about 5.5 mmol/L (100 mg/dL); however, this level fluctuates throughout the day.\n",
    "FPG test results:\n",
    "normal: less than 5.6 mmol/L\n",
    "prediabetes: 5.6 ~ 6.9 mmol/L\n",
    "diabetes: 7 mmol/L or higher (on two separate tests)"
   ]
  },
  {
   "cell_type": "code",
   "execution_count": 37,
   "metadata": {},
   "outputs": [
    {
     "name": "stdout",
     "output_type": "stream",
     "text": [
      "\n",
      "The NaN ratio in fasting_glucose is 0.001\n",
      "Since NaN ratio is small, fill NaN directly with fill type: mode, mean, new category\n",
      "Now call function: fill_NaN(df, feature, fill_type)\n"
     ]
    },
    {
     "data": {
      "text/plain": [
       "count    4640.000000\n",
       "mean        1.741000\n",
       "std         0.174103\n",
       "min         0.157004\n",
       "25%         1.641324\n",
       "50%         1.713798\n",
       "75%         1.800224\n",
       "max         2.502419\n",
       "Name: fasting_glucose, dtype: float64"
      ]
     },
     "execution_count": 37,
     "metadata": {},
     "output_type": "execute_result"
    },
    {
     "data": {
      "image/png": "[encoded data removed]",
      "text/plain": [
       "<matplotlib.figure.Figure at 0x2356cf6cc50>"
      ]
     },
     "metadata": {},
     "output_type": "display_data"
    }
   ],
   "source": [
    "get_NaN_ratio(df,'fasting_glucose')\n",
    "df = fill_NaN(df,'fasting_glucose','mean')\n",
    "df['fasting_glucose'].describe()"
   ]
  },
  {
   "cell_type": "markdown",
   "metadata": {},
   "source": [
    "### HDL"
   ]
  },
  {
   "cell_type": "code",
   "execution_count": 38,
   "metadata": {},
   "outputs": [
    {
     "name": "stdout",
     "output_type": "stream",
     "text": [
      "\n",
      "The NaN ratio in HDL is 0.000\n",
      "Since NaN ratio is small, fill NaN directly with fill type: mode, mean, new category\n",
      "Now call function: fill_NaN(df, feature, fill_type)\n"
     ]
    },
    {
     "data": {
      "image/png": "[encoded data removed]",
      "text/plain": [
       "<matplotlib.figure.Figure at 0x2356cfe7160>"
      ]
     },
     "metadata": {},
     "output_type": "display_data"
    }
   ],
   "source": [
    "# Check for NaN \n",
    "get_NaN_ratio(df,'HDL')\n",
    "\n",
    "# Since NaN ratios are small, replace NaN with mean values\n",
    "df = fill_NaN(df,'HDL','mean')\n"
   ]
  },
  {
   "cell_type": "markdown",
   "metadata": {},
   "source": [
    "### Insulin"
   ]
  },
  {
   "cell_type": "code",
   "execution_count": 39,
   "metadata": {},
   "outputs": [
    {
     "name": "stdout",
     "output_type": "stream",
     "text": [
      "\n",
      "The NaN ratio in insulin is 0.012\n",
      "Since NaN ratio is small, fill NaN directly with fill type: mode, mean, new category\n",
      "Now call function: fill_NaN(df, feature, fill_type)\n"
     ]
    },
    {
     "data": {
      "image/png": "[encoded data removed]",
      "text/plain": [
       "<matplotlib.figure.Figure at 0x23568982160>"
      ]
     },
     "metadata": {},
     "output_type": "display_data"
    }
   ],
   "source": [
    "# Check for NaN \n",
    "get_NaN_ratio(df,'insulin')\n",
    "\n",
    "# Since NaN ratios are small, replace NaN with mean values\n",
    "df = fill_NaN(df,'insulin','mean')\n"
   ]
  },
  {
   "cell_type": "markdown",
   "metadata": {},
   "source": [
    "### Blood Pressure"
   ]
  },
  {
   "cell_type": "markdown",
   "metadata": {},
   "source": [
    "####\n",
    "High blood pressure, or hypertension, is a condition that’s seen in people with type 2 diabetes. It’s unknown why there’s such a significant relationship between the two diseases. It’s believed that the following contribute to both conditions:\n",
    "\n",
    "obesity\n",
    "a diet high in fat and sodium\n",
    "chronic inflammation\n",
    "inactivity\n",
    "The combination of high blood pressure and type 2 diabetes is particularly lethal and can significantly raise your risk of having a heart attack or stroke."
   ]
  },
  {
   "cell_type": "code",
   "execution_count": 40,
   "metadata": {},
   "outputs": [
    {
     "name": "stdout",
     "output_type": "stream",
     "text": [
      "\n",
      "The NaN ratio in sysBP is 0.056\n",
      "Since NaN ratio is small, fill NaN directly with fill type: mode, mean, new category\n",
      "Now call function: fill_NaN(df, feature, fill_type)\n",
      "\n",
      "The NaN ratio in diaBP is 0.056\n",
      "Since NaN ratio is small, fill NaN directly with fill type: mode, mean, new category\n",
      "Now call function: fill_NaN(df, feature, fill_type)\n"
     ]
    },
    {
     "data": {
      "image/png": "[encoded data removed]",
      "text/plain": [
       "<matplotlib.figure.Figure at 0x2356cee9780>"
      ]
     },
     "metadata": {},
     "output_type": "display_data"
    },
    {
     "data": {
      "image/png": "[encoded data removed]",
      "text/plain": [
       "<matplotlib.figure.Figure at 0x235686953c8>"
      ]
     },
     "metadata": {},
     "output_type": "display_data"
    }
   ],
   "source": [
    "# Check for NaN in sysBP and diaBP\n",
    "get_NaN_ratio(df,'sysBP')\n",
    "get_NaN_ratio(df,'diaBP')\n",
    "\n",
    "# Since NaN ratios are small, replace NaN with mean values\n",
    "df = fill_NaN(df,'sysBP','mean')\n",
    "df = fill_NaN(df,'diaBP','mean')"
   ]
  },
  {
   "cell_type": "markdown",
   "metadata": {},
   "source": [
    "### LDL "
   ]
  },
  {
   "cell_type": "markdown",
   "metadata": {},
   "source": [
    "####\n",
    "cholesterol (mg/dL) - values: 23 to 277\n",
    "LDL stands for low-density lipoproteins. It is sometimes called the \"bad\" cholesterol because a high LDL level leads to a buildup of cholesterol in your arteries. This extra LDL, along with other substances, forms plaque.\n",
    "Diabetes tends to lower HDL levels and raise triglyceride and LDL levels, which increases the risk for heart disease and stroke."
   ]
  },
  {
   "cell_type": "code",
   "execution_count": 41,
   "metadata": {},
   "outputs": [
    {
     "name": "stdout",
     "output_type": "stream",
     "text": [
      "\n",
      "The NaN ratio in LDL is 0.045\n",
      "Since NaN ratio is small, fill NaN directly with fill type: mode, mean, new category\n",
      "Now call function: fill_NaN(df, feature, fill_type)\n",
      "\n",
      "NaN    0\n",
      "2.833058    207\n",
      "2.664000     69\n",
      "2.948000     65\n",
      "2.845000     60\n",
      "2.379000     60\n",
      "           ... \n",
      "5.534000      1\n",
      "5.172000      1\n",
      "0.879000      1\n",
      "1.060000      1\n",
      "5.405000      1\n",
      "Name: LDL, Length: 189, dtype: int64\n"
     ]
    },
    {
     "data": {
      "image/png": "[encoded data removed]",
      "text/plain": [
       "<matplotlib.figure.Figure at 0x23568600cc0>"
      ]
     },
     "metadata": {},
     "output_type": "display_data"
    }
   ],
   "source": [
    "# Check for NaN \n",
    "get_NaN_ratio(df,'LDL')\n",
    "df = fill_NaN(df,'LDL','mean')\n",
    "get_value_count(df,'LDL')"
   ]
  },
  {
   "cell_type": "markdown",
   "metadata": {},
   "source": [
    "### Diabetes"
   ]
  },
  {
   "cell_type": "code",
   "execution_count": 42,
   "metadata": {},
   "outputs": [],
   "source": [
    "# Change 2(NHANES for No) to 0(False - boolean) for features with YES/NO answers\n",
    "df.loc[df['diabetes'] == 2,['diabetes']] = 0\n",
    "df['diabetes'].value_counts()\n",
    "df = process_cstr(df,feature='diabetes',method='drop',cstr=[7,9])"
   ]
  },
  {
   "cell_type": "code",
   "execution_count": 43,
   "metadata": {},
   "outputs": [
    {
     "name": "stdout",
     "output_type": "stream",
     "text": [
      "\n",
      "The NaN ratio in diabetes is 0.000\n",
      "No missing values detected\n"
     ]
    },
    {
     "data": {
      "text/plain": [
       "0.0    4034\n",
       "1.0     480\n",
       "3.0     124\n",
       "Name: diabetes, dtype: int64"
      ]
     },
     "execution_count": 43,
     "metadata": {},
     "output_type": "execute_result"
    }
   ],
   "source": [
    "get_NaN_ratio(df,'diabetes')\n",
    "df['diabetes'].value_counts()"
   ]
  },
  {
   "cell_type": "code",
   "execution_count": 44,
   "metadata": {},
   "outputs": [
    {
     "name": "stdout",
     "output_type": "stream",
     "text": [
      "10.34928848641656 % people have diabetes\n",
      "2.673566192324278 % people are pre diabetes\n",
      "86.97714532125916 % people do not have diabetes\n"
     ]
    }
   ],
   "source": [
    "db_counts = df['diabetes'].value_counts().to_dict()\n",
    "percentage_yes_db = db_counts[1.0]/df['diabetes'].shape[0]\n",
    "percentage_pre_db = db_counts[3.0]/df['diabetes'].shape[0]\n",
    "percentage_no_db = db_counts[0.0]/df['diabetes'].shape[0]\n",
    "print(percentage_yes_db*100,'% people have diabetes')\n",
    "print(percentage_pre_db*100,'% people are pre diabetes')\n",
    "print(percentage_no_db*100,'% people do not have diabetes')\n"
   ]
  },
  {
   "cell_type": "code",
   "execution_count": 45,
   "metadata": {},
   "outputs": [
    {
     "name": "stdout",
     "output_type": "stream",
     "text": [
      "10.633584404076208 % people have diabetes\n",
      "89.36641559592378 % people do not have diabetes\n",
      "Baseline accuracy 89.36641559592378\n"
     ]
    }
   ],
   "source": [
    "df = df[df['diabetes'] != 3.0]\n",
    "df['diabetes'].value_counts()\n",
    "percentage_yes_db = db_counts[1.0]/df['diabetes'].shape[0]\n",
    "percentage_no_db = db_counts[0.0]/df['diabetes'].shape[0]\n",
    "print(percentage_yes_db*100,'% people have diabetes')\n",
    "print(percentage_no_db*100,'% people do not have diabetes')\n",
    "print('Baseline accuracy',percentage_no_db*100)\n"
   ]
  },
  {
   "cell_type": "code",
   "execution_count": 46,
   "metadata": {},
   "outputs": [
    {
     "name": "stdout",
     "output_type": "stream",
     "text": [
      "<class 'pandas.core.frame.DataFrame'>\n",
      "Int64Index: 4514 entries, 0 to 4639\n",
      "Data columns (total 25 columns):\n",
      "BMI                    4514 non-null float64\n",
      "HDL                    4514 non-null float64\n",
      "LDL                    4514 non-null float64\n",
      "age                    4514 non-null float64\n",
      "alc_days_year          3484 non-null float64\n",
      "diabetes               4514 non-null float64\n",
      "fasting_glucose        4514 non-null float64\n",
      "gender                 4514 non-null float64\n",
      "insulin                4514 non-null float64\n",
      "race                   4514 non-null float64\n",
      "sugar                  495 non-null float64\n",
      "sysBP                  4514 non-null float64\n",
      "diaBP                  4514 non-null float64\n",
      "BMI_NaN                4514 non-null uint8\n",
      "fasting_glucose_NaN    4514 non-null uint8\n",
      "gender_NaN             4514 non-null uint8\n",
      "LDL_NaN                4514 non-null uint8\n",
      "HDL_NaN                4514 non-null uint8\n",
      "insulin_NaN            4514 non-null uint8\n",
      "age_NaN                4514 non-null uint8\n",
      "race_NaN               4514 non-null uint8\n",
      "sugar_NaN              4514 non-null uint8\n",
      "sysBP_NaN              4514 non-null uint8\n",
      "diaBP_NaN              4514 non-null uint8\n",
      "alc_days_year_NaN      4514 non-null uint8\n",
      "dtypes: float64(13), uint8(12)\n",
      "memory usage: 546.6 KB\n"
     ]
    }
   ],
   "source": [
    "#Final NaN check\n",
    "df.info()"
   ]
  },
  {
   "cell_type": "code",
   "execution_count": 47,
   "metadata": {},
   "outputs": [],
   "source": [
    "#Drop Sugar and alc_days_year since they have a high % of missing values \n",
    "df.drop(['sugar', 'alc_days_year'], axis=1, inplace = True)\n"
   ]
  },
  {
   "cell_type": "markdown",
   "metadata": {},
   "source": [
    "### One Hot Encoding"
   ]
  },
  {
   "cell_type": "code",
   "execution_count": 48,
   "metadata": {},
   "outputs": [
    {
     "name": "stdout",
     "output_type": "stream",
     "text": [
      "<class 'pandas.core.frame.DataFrame'>\n",
      "Int64Index: 4514 entries, 0 to 4639\n",
      "Data columns (total 29 columns):\n",
      "BMI                    4514 non-null float64\n",
      "HDL                    4514 non-null float64\n",
      "LDL                    4514 non-null float64\n",
      "age                    4514 non-null float64\n",
      "diabetes               4514 non-null float64\n",
      "fasting_glucose        4514 non-null float64\n",
      "insulin                4514 non-null float64\n",
      "sysBP                  4514 non-null float64\n",
      "diaBP                  4514 non-null float64\n",
      "BMI_NaN                4514 non-null uint8\n",
      "fasting_glucose_NaN    4514 non-null uint8\n",
      "gender_NaN             4514 non-null uint8\n",
      "LDL_NaN                4514 non-null uint8\n",
      "HDL_NaN                4514 non-null uint8\n",
      "insulin_NaN            4514 non-null uint8\n",
      "age_NaN                4514 non-null uint8\n",
      "race_NaN               4514 non-null uint8\n",
      "sugar_NaN              4514 non-null uint8\n",
      "sysBP_NaN              4514 non-null uint8\n",
      "diaBP_NaN              4514 non-null uint8\n",
      "alc_days_year_NaN      4514 non-null uint8\n",
      "race_1.0               4514 non-null uint8\n",
      "race_2.0               4514 non-null uint8\n",
      "race_3.0               4514 non-null uint8\n",
      "race_4.0               4514 non-null uint8\n",
      "race_6.0               4514 non-null uint8\n",
      "race_7.0               4514 non-null uint8\n",
      "gender_1.0             4514 non-null uint8\n",
      "gender_2.0             4514 non-null uint8\n",
      "dtypes: float64(9), uint8(20)\n",
      "memory usage: 440.8 KB\n"
     ]
    }
   ],
   "source": [
    "#Race\n",
    "df['race'] = pd.Categorical(df['race'])\n",
    "dfDummies = pd.get_dummies(df['race'], prefix = 'race')\n",
    "df = pd.concat([df, dfDummies], axis=1)\n",
    "\n",
    "#Gender\n",
    "df['gender'] = pd.Categorical(df['gender'])\n",
    "dfDummies = pd.get_dummies(df['gender'], prefix = 'gender')\n",
    "df = pd.concat([df, dfDummies], axis=1)\n",
    "\n",
    "df.drop(['race', 'gender'], axis=1, inplace = True)\n",
    "\n",
    "df.info()\n"
   ]
  },
  {
   "cell_type": "markdown",
   "metadata": {},
   "source": [
    "### Test-Train Split"
   ]
  },
  {
   "cell_type": "code",
   "execution_count": 49,
   "metadata": {},
   "outputs": [
    {
     "name": "stdout",
     "output_type": "stream",
     "text": [
      "length of oversampled data is  5652\n",
      "           BMI       HDL       LDL        age  fasting_glucose   insulin  \\\n",
      "0     3.222868  0.936093  2.224000  50.000000         1.662599  3.948162   \n",
      "1     3.161247  0.947789  2.534000  30.000000         1.630612  4.009875   \n",
      "2     3.693867  0.985817  2.974000  45.000000         1.733424  4.542230   \n",
      "3     3.261935  0.896088  2.664000  75.000000         1.752672  4.674883   \n",
      "4     3.280911  0.737164  3.129000  66.000000         1.630612  4.672081   \n",
      "...        ...       ...       ...        ...              ...       ...   \n",
      "5647  3.213061  0.877689  2.496944  74.043169         1.932781  2.564493   \n",
      "5648  3.343085  0.911710  3.051000  55.000000         1.866969  4.167946   \n",
      "5649  3.459215  0.960403  2.842233  52.622900         1.915659  4.693116   \n",
      "5650  3.536024  0.738365  3.850024  57.728581         1.775689  4.735636   \n",
      "5651  3.764109  0.739519  3.313227  41.430819         2.115090  4.996172   \n",
      "\n",
      "         sysBP      diaBP  BMI_NaN  fasting_glucose_NaN  ...  diaBP_NaN  \\\n",
      "0     4.675939  68.000000      0.0                  0.0  ...        0.0   \n",
      "1     4.529009  62.000000      0.0                  0.0  ...        0.0   \n",
      "2     4.809471  88.000000      0.0                  0.0  ...        0.0   \n",
      "3     4.922411  71.333333      0.0                  0.0  ...        0.0   \n",
      "4     4.793930  68.486301      0.0                  0.0  ...        1.0   \n",
      "...        ...        ...      ...                  ...  ...        ...   \n",
      "5647  4.793930  68.486301      0.0                  0.0  ...        1.0   \n",
      "5648  4.726351  72.228353      0.0                  0.0  ...        0.0   \n",
      "5649  4.893879  80.043766      0.0                  0.0  ...        0.0   \n",
      "5650  4.758230  66.304774      0.0                  0.0  ...        0.0   \n",
      "5651  4.805100  80.092241      0.0                  0.0  ...        0.0   \n",
      "\n",
      "      alc_days_year_NaN  race_1.0  race_2.0  race_3.0  race_4.0  race_6.0  \\\n",
      "0              0.000000       0.0       1.0       0.0  0.000000  0.000000   \n",
      "1              1.000000       0.0       1.0       0.0  0.000000  0.000000   \n",
      "2              0.000000       0.0       0.0       0.0  1.000000  0.000000   \n",
      "3              1.000000       0.0       0.0       0.0  0.000000  1.000000   \n",
      "4              0.000000       0.0       0.0       1.0  0.000000  0.000000   \n",
      "...                 ...       ...       ...       ...       ...       ...   \n",
      "5647           0.000000       0.0       0.0       1.0  0.000000  0.000000   \n",
      "5648           0.552490       0.0       0.0       0.0  0.447510  0.552490   \n",
      "5649           0.311450       0.0       0.0       0.0  1.000000  0.000000   \n",
      "5650           0.000000       0.0       1.0       0.0  0.000000  0.000000   \n",
      "5651           0.607705       0.0       0.0       0.0  0.392295  0.607705   \n",
      "\n",
      "      race_7.0  gender_1.0  gender_2.0  \n",
      "0          0.0     0.00000     1.00000  \n",
      "1          0.0     0.00000     1.00000  \n",
      "2          0.0     0.00000     1.00000  \n",
      "3          0.0     1.00000     0.00000  \n",
      "4          0.0     1.00000     0.00000  \n",
      "...        ...         ...         ...  \n",
      "5647       0.0     0.00000     1.00000  \n",
      "5648       0.0     0.44751     0.55249  \n",
      "5649       0.0     0.00000     1.00000  \n",
      "5650       0.0     0.00000     1.00000  \n",
      "5651       0.0     0.00000     1.00000  \n",
      "\n",
      "[5652 rows x 28 columns]\n",
      "Number of no subscription in oversampled data 2826\n",
      "Number of subscription 2826\n",
      "Proportion of data with no diabetes in oversampled data is  0.5\n",
      "Proportion of data with diabetes in oversampled data is  0.5\n",
      "3164 792 1696\n"
     ]
    }
   ],
   "source": [
    "X = df.loc[:, df.columns != 'diabetes']\n",
    "y = df.loc[:, df.columns == 'diabetes']\n",
    "\n",
    "os = SMOTE(random_state=0)\n",
    "X_train, X_test, y_train, y_test = train_test_split(X, y, test_size=0.3, random_state=0)\n",
    "X_train = pd.DataFrame(X_train)\n",
    "columns = X.columns\n",
    "os_data_X,os_data_y=os.fit_sample(X_train, y_train)\n",
    "os_data_X = pd.DataFrame(data=os_data_X,columns=columns )\n",
    "os_data_y= pd.DataFrame(data=os_data_y,columns=['diabetes'])\n",
    "X=os_data_X\n",
    "y=os_data_y['diabetes']\n",
    "# we can Check the numbers of our data\n",
    "print(\"length of oversampled data is \",len(os_data_X))\n",
    "print(X)\n",
    "print(\"Number of no subscription in oversampled data\",len(os_data_y[os_data_y['diabetes']==0]))\n",
    "print(\"Number of subscription\",len(os_data_y[os_data_y['diabetes']==1]))\n",
    "print(\"Proportion of data with no diabetes in oversampled data is \",len(os_data_y[os_data_y['diabetes']==0])/len(os_data_X))\n",
    "print(\"Proportion of data with diabetes in oversampled data is \",len(os_data_y[os_data_y['diabetes']==1])/len(os_data_X))\n",
    "X_train, X_test, y_train, y_test = train_test_split(X, y, test_size=0.3, random_state=0)\n",
    "X_train.shape, X_test.shape\n",
    "\n",
    "X_train, X_val, y_train, y_val  = train_test_split(X_train, y_train, test_size=0.2, random_state=1) \n",
    "\n",
    "print(len(X_train),len(X_val),len(X_test))\n"
   ]
  },
  {
   "cell_type": "code",
   "execution_count": 50,
   "metadata": {},
   "outputs": [
    {
     "name": "stdout",
     "output_type": "stream",
     "text": [
      "51.00235849056604 % people have diabetes\n",
      "48.99764150943396 % people do not have diabetes\n"
     ]
    }
   ],
   "source": [
    "#print(len(df))\n",
    "#print(len(X))\n",
    "#print(y_train)\n",
    "y_counts = y_test.value_counts().to_dict()\n",
    "percentage_yes_y = y_counts[1.0]/y_test.shape[0]\n",
    "percentage_no_y = y_counts[0.0]/y_test.shape[0]\n",
    "print(percentage_yes_y*100,'% people have diabetes')\n",
    "print(percentage_no_y*100,'% people do not have diabetes')"
   ]
  },
  {
   "cell_type": "code",
   "execution_count": 51,
   "metadata": {},
   "outputs": [],
   "source": [
    "#scaling of numerical features\n",
    "df_new = df.copy()\n",
    "df_new[\"BMI\"] = (df[\"BMI\"] - df[\"BMI\"].mean())/df[\"BMI\"].std()\n",
    "df_new[\"HDL\"] = (df[\"HDL\"] - df[\"HDL\"].mean())/df[\"HDL\"].std()\n",
    "df_new[\"LDL\"] = (df[\"LDL\"] - df[\"LDL\"].mean())/df[\"LDL\"].std()\n",
    "df_new[\"age\"] = (df[\"age\"] - df[\"age\"].mean())/df[\"age\"].std()\n",
    "df_new[\"fasting_glucose\"] = (df[\"fasting_glucose\"] - df[\"fasting_glucose\"].mean())/df[\"fasting_glucose\"].std()"
   ]
  },
  {
   "cell_type": "code",
   "execution_count": 52,
   "metadata": {},
   "outputs": [
    {
     "name": "stdout",
     "output_type": "stream",
     "text": [
      "length of oversampled data is  5652\n",
      "           BMI       HDL       LDL       age  fasting_glucose   insulin  \\\n",
      "0    -0.477474  0.388358 -0.710402  0.137894        -0.436147  3.948162   \n",
      "1    -0.760924  0.456667 -0.348290 -0.955087        -0.619707  4.009875   \n",
      "2     1.689066  0.678764  0.165676 -0.135351        -0.029718  4.542230   \n",
      "3    -0.297769  0.154709 -0.196437  1.504120         0.080738  4.674883   \n",
      "4    -0.210482 -0.773475  0.346732  1.012279        -0.619707  4.672081   \n",
      "...        ...       ...       ...       ...              ...       ...   \n",
      "5647  0.506925 -0.743073 -0.776730  1.772647         3.791734  4.976857   \n",
      "5648  0.402738  0.447963  0.363827  1.022538         0.615855  4.189415   \n",
      "5649  0.322805  0.623638 -0.505937  0.689724         0.988605  5.071880   \n",
      "5650  0.293689 -0.872580  0.594074  1.077865         2.321506  4.090117   \n",
      "5651  1.031569 -1.280881  0.561928  0.034912         2.864041  4.589667   \n",
      "\n",
      "         sysBP      diaBP  BMI_NaN  fasting_glucose_NaN  ...  diaBP_NaN  \\\n",
      "0     4.675939  68.000000  0.00000                  0.0  ...        0.0   \n",
      "1     4.529009  62.000000  0.00000                  0.0  ...        0.0   \n",
      "2     4.809471  88.000000  0.00000                  0.0  ...        0.0   \n",
      "3     4.922411  71.333333  0.00000                  0.0  ...        0.0   \n",
      "4     4.793930  68.486301  0.00000                  0.0  ...        1.0   \n",
      "...        ...        ...      ...                  ...  ...        ...   \n",
      "5647  4.793930  68.486301  0.00000                  0.0  ...        1.0   \n",
      "5648  4.747835  71.631673  0.00000                  0.0  ...        0.0   \n",
      "5649  4.958753  80.874300  0.31145                  0.0  ...        0.0   \n",
      "5650  4.798943  66.304774  0.00000                  0.0  ...        0.0   \n",
      "5651  4.815608  84.143606  0.00000                  0.0  ...        0.0   \n",
      "\n",
      "      alc_days_year_NaN  race_1.0  race_2.0  race_3.0  race_4.0  race_6.0  \\\n",
      "0                   0.0       0.0       1.0       0.0   0.00000   0.00000   \n",
      "1                   1.0       0.0       1.0       0.0   0.00000   0.00000   \n",
      "2                   0.0       0.0       0.0       0.0   1.00000   0.00000   \n",
      "3                   1.0       0.0       0.0       0.0   0.00000   1.00000   \n",
      "4                   0.0       0.0       0.0       1.0   0.00000   0.00000   \n",
      "...                 ...       ...       ...       ...       ...       ...   \n",
      "5647                0.0       0.0       0.0       1.0   0.00000   0.00000   \n",
      "5648                1.0       0.0       0.0       0.0   0.44751   0.55249   \n",
      "5649                0.0       0.0       0.0       0.0   1.00000   0.00000   \n",
      "5650                0.0       0.0       1.0       0.0   0.00000   0.00000   \n",
      "5651                0.0       0.0       0.0       0.0   1.00000   0.00000   \n",
      "\n",
      "      race_7.0  gender_1.0  gender_2.0  \n",
      "0          0.0    0.000000    1.000000  \n",
      "1          0.0    0.000000    1.000000  \n",
      "2          0.0    0.000000    1.000000  \n",
      "3          0.0    1.000000    0.000000  \n",
      "4          0.0    1.000000    0.000000  \n",
      "...        ...         ...         ...  \n",
      "5647       0.0    0.978415    0.021585  \n",
      "5648       0.0    0.000000    1.000000  \n",
      "5649       0.0    0.311450    0.688550  \n",
      "5650       0.0    0.000000    1.000000  \n",
      "5651       0.0    0.607705    0.392295  \n",
      "\n",
      "[5652 rows x 28 columns]\n",
      "Number of no subscription in oversampled data 2826\n",
      "Number of subscription 2826\n",
      "Proportion of no subscription data in oversampled data is  0.5\n",
      "Proportion of subscription data in oversampled data is  0.5\n",
      "3164 792 1696\n"
     ]
    }
   ],
   "source": [
    "X_scaled = df_new.loc[:, df_new.columns != 'diabetes']\n",
    "y = df_new.loc[:, df_new.columns == 'diabetes']\n",
    "\n",
    "os = SMOTE(random_state=0)\n",
    "X_scaled_train, X_scaled_test, y_train, y_test = train_test_split(X_scaled, y, test_size=0.3, random_state=0)\n",
    "X_scaled_train = pd.DataFrame(X_scaled_train)\n",
    "columns = X_scaled.columns\n",
    "os_data_X,os_data_y=os.fit_sample(X_scaled_train, y_train)\n",
    "os_data_X = pd.DataFrame(data=os_data_X,columns=columns )\n",
    "os_data_y= pd.DataFrame(data=os_data_y,columns=['diabetes'])\n",
    "X_scaled=os_data_X\n",
    "y=os_data_y['diabetes']\n",
    "# we can Check the numbers of our data\n",
    "print(\"length of oversampled data is \",len(os_data_X))\n",
    "print(X_scaled)\n",
    "print(\"Number of no subscription in oversampled data\",len(os_data_y[os_data_y['diabetes']==0]))\n",
    "print(\"Number of subscription\",len(os_data_y[os_data_y['diabetes']==1]))\n",
    "print(\"Proportion of no subscription data in oversampled data is \",len(os_data_y[os_data_y['diabetes']==0])/len(os_data_X))\n",
    "print(\"Proportion of subscription data in oversampled data is \",len(os_data_y[os_data_y['diabetes']==1])/len(os_data_X))\n",
    "X_scaled_train, X_scaled_test, y_train, y_test = train_test_split(X_scaled, y, test_size=0.3, random_state=0)\n",
    "X_scaled_train, X_scaled_val, y_train, y_val  = train_test_split(X_scaled_train, y_train, test_size=0.2, random_state=1) \n",
    "\n",
    "print(len(X_scaled_train),len(X_scaled_val),len(X_scaled_test))\n",
    "\n"
   ]
  },
  {
   "cell_type": "markdown",
   "metadata": {},
   "source": [
    "# Feature selection"
   ]
  },
  {
   "cell_type": "code",
   "execution_count": 57,
   "metadata": {},
   "outputs": [
    {
     "data": {
      "text/html": [
       "<div>\n",
       "<style scoped>\n",
       "    .dataframe tbody tr th:only-of-type {\n",
       "        vertical-align: middle;\n",
       "    }\n",
       "\n",
       "    .dataframe tbody tr th {\n",
       "        vertical-align: top;\n",
       "    }\n",
       "\n",
       "    .dataframe thead th {\n",
       "        text-align: right;\n",
       "    }\n",
       "</style>\n",
       "<table border=\"1\" class=\"dataframe\">\n",
       "  <thead>\n",
       "    <tr style=\"text-align: right;\">\n",
       "      <th></th>\n",
       "      <th>BMI</th>\n",
       "      <th>HDL</th>\n",
       "      <th>LDL</th>\n",
       "      <th>age</th>\n",
       "      <th>diabetes</th>\n",
       "      <th>fasting_glucose</th>\n",
       "      <th>insulin</th>\n",
       "      <th>sysBP</th>\n",
       "      <th>diaBP</th>\n",
       "      <th>BMI_NaN</th>\n",
       "      <th>...</th>\n",
       "      <th>diaBP_NaN</th>\n",
       "      <th>alc_days_year_NaN</th>\n",
       "      <th>race_1.0</th>\n",
       "      <th>race_2.0</th>\n",
       "      <th>race_3.0</th>\n",
       "      <th>race_4.0</th>\n",
       "      <th>race_6.0</th>\n",
       "      <th>race_7.0</th>\n",
       "      <th>gender_1.0</th>\n",
       "      <th>gender_2.0</th>\n",
       "    </tr>\n",
       "  </thead>\n",
       "  <tbody>\n",
       "    <tr>\n",
       "      <td>0</td>\n",
       "      <td>3.363842</td>\n",
       "      <td>0.936093</td>\n",
       "      <td>1.448</td>\n",
       "      <td>72.0</td>\n",
       "      <td>1.0</td>\n",
       "      <td>2.371458</td>\n",
       "      <td>3.554776</td>\n",
       "      <td>4.955827</td>\n",
       "      <td>82.000000</td>\n",
       "      <td>0</td>\n",
       "      <td>...</td>\n",
       "      <td>0</td>\n",
       "      <td>0</td>\n",
       "      <td>0</td>\n",
       "      <td>0</td>\n",
       "      <td>1</td>\n",
       "      <td>0</td>\n",
       "      <td>0</td>\n",
       "      <td>0</td>\n",
       "      <td>1</td>\n",
       "      <td>0</td>\n",
       "    </tr>\n",
       "    <tr>\n",
       "      <td>1</td>\n",
       "      <td>2.980619</td>\n",
       "      <td>1.163151</td>\n",
       "      <td>2.612</td>\n",
       "      <td>73.0</td>\n",
       "      <td>0.0</td>\n",
       "      <td>1.781709</td>\n",
       "      <td>3.603322</td>\n",
       "      <td>4.922411</td>\n",
       "      <td>86.666667</td>\n",
       "      <td>0</td>\n",
       "      <td>...</td>\n",
       "      <td>0</td>\n",
       "      <td>0</td>\n",
       "      <td>0</td>\n",
       "      <td>0</td>\n",
       "      <td>1</td>\n",
       "      <td>0</td>\n",
       "      <td>0</td>\n",
       "      <td>0</td>\n",
       "      <td>0</td>\n",
       "      <td>1</td>\n",
       "    </tr>\n",
       "    <tr>\n",
       "      <td>2</td>\n",
       "      <td>3.575151</td>\n",
       "      <td>0.916291</td>\n",
       "      <td>2.508</td>\n",
       "      <td>61.0</td>\n",
       "      <td>0.0</td>\n",
       "      <td>1.809272</td>\n",
       "      <td>4.493792</td>\n",
       "      <td>4.809471</td>\n",
       "      <td>80.666667</td>\n",
       "      <td>0</td>\n",
       "      <td>...</td>\n",
       "      <td>0</td>\n",
       "      <td>0</td>\n",
       "      <td>0</td>\n",
       "      <td>0</td>\n",
       "      <td>1</td>\n",
       "      <td>0</td>\n",
       "      <td>0</td>\n",
       "      <td>0</td>\n",
       "      <td>0</td>\n",
       "      <td>1</td>\n",
       "    </tr>\n",
       "    <tr>\n",
       "      <td>3</td>\n",
       "      <td>3.010621</td>\n",
       "      <td>1.247032</td>\n",
       "      <td>1.733</td>\n",
       "      <td>26.0</td>\n",
       "      <td>0.0</td>\n",
       "      <td>1.597365</td>\n",
       "      <td>3.139833</td>\n",
       "      <td>4.650781</td>\n",
       "      <td>62.666667</td>\n",
       "      <td>0</td>\n",
       "      <td>...</td>\n",
       "      <td>0</td>\n",
       "      <td>0</td>\n",
       "      <td>0</td>\n",
       "      <td>0</td>\n",
       "      <td>1</td>\n",
       "      <td>0</td>\n",
       "      <td>0</td>\n",
       "      <td>0</td>\n",
       "      <td>0</td>\n",
       "      <td>1</td>\n",
       "    </tr>\n",
       "    <tr>\n",
       "      <td>4</td>\n",
       "      <td>3.126761</td>\n",
       "      <td>0.862890</td>\n",
       "      <td>1.940</td>\n",
       "      <td>33.0</td>\n",
       "      <td>0.0</td>\n",
       "      <td>1.539659</td>\n",
       "      <td>3.591818</td>\n",
       "      <td>4.798542</td>\n",
       "      <td>62.000000</td>\n",
       "      <td>0</td>\n",
       "      <td>...</td>\n",
       "      <td>0</td>\n",
       "      <td>1</td>\n",
       "      <td>0</td>\n",
       "      <td>0</td>\n",
       "      <td>0</td>\n",
       "      <td>0</td>\n",
       "      <td>1</td>\n",
       "      <td>0</td>\n",
       "      <td>0</td>\n",
       "      <td>1</td>\n",
       "    </tr>\n",
       "  </tbody>\n",
       "</table>\n",
       "<p>5 rows × 29 columns</p>\n",
       "</div>"
      ],
      "text/plain": [
       "        BMI       HDL    LDL   age  diabetes  fasting_glucose   insulin  \\\n",
       "0  3.363842  0.936093  1.448  72.0       1.0         2.371458  3.554776   \n",
       "1  2.980619  1.163151  2.612  73.0       0.0         1.781709  3.603322   \n",
       "2  3.575151  0.916291  2.508  61.0       0.0         1.809272  4.493792   \n",
       "3  3.010621  1.247032  1.733  26.0       0.0         1.597365  3.139833   \n",
       "4  3.126761  0.862890  1.940  33.0       0.0         1.539659  3.591818   \n",
       "\n",
       "      sysBP      diaBP  BMI_NaN  ...  diaBP_NaN  alc_days_year_NaN  race_1.0  \\\n",
       "0  4.955827  82.000000        0  ...          0                  0         0   \n",
       "1  4.922411  86.666667        0  ...          0                  0         0   \n",
       "2  4.809471  80.666667        0  ...          0                  0         0   \n",
       "3  4.650781  62.666667        0  ...          0                  0         0   \n",
       "4  4.798542  62.000000        0  ...          0                  1         0   \n",
       "\n",
       "   race_2.0  race_3.0  race_4.0  race_6.0  race_7.0  gender_1.0  gender_2.0  \n",
       "0         0         1         0         0         0           1           0  \n",
       "1         0         1         0         0         0           0           1  \n",
       "2         0         1         0         0         0           0           1  \n",
       "3         0         1         0         0         0           0           1  \n",
       "4         0         0         0         1         0           0           1  \n",
       "\n",
       "[5 rows x 29 columns]"
      ]
     },
     "execution_count": 57,
     "metadata": {},
     "output_type": "execute_result"
    }
   ],
   "source": [
    "df.head()"
   ]
  },
  {
   "cell_type": "markdown",
   "metadata": {},
   "source": [
    "### numerical features:['BMI', 'HDL','LDL','age','fasting_glucose','insulin','sysBP','diaBP']\n",
    "### catogorical features: ['BMI_NaN','fasting_glucose_NaN','gender_NaN','LDL_NaN','HDL_NaN','insulin_NaN','age_NaN','race_NaN','sugar_NaN','sysBP_NaN','diaBP_NaN','alc_days_year_NaN','race_1.0','race_2.0','race_3.0','race_4.0','race_6.0','race_7.0','gender_1.0','gender_2.0'\"]]"
   ]
  },
  {
   "cell_type": "markdown",
   "metadata": {},
   "source": [
    "##  Statistical-based feature selection\n",
    "    -Pearson correlations( for numerical features)\n",
    "    -hypothesis testing\n",
    "    -chi2 test"
   ]
  },
  {
   "cell_type": "code",
   "execution_count": 59,
   "metadata": {},
   "outputs": [
    {
     "data": {
      "text/plain": [
       "BMI                0.147411\n",
       "HDL               -0.110907\n",
       "LDL               -0.126151\n",
       "age                0.280643\n",
       "fasting_glucose    0.512967\n",
       "insulin            0.128789\n",
       "sysBP              0.163416\n",
       "diaBP              0.014991\n",
       "diabetes           1.000000\n",
       "Name: diabetes, dtype: float64"
      ]
     },
     "execution_count": 59,
     "metadata": {},
     "output_type": "execute_result"
    }
   ],
   "source": [
    "columnscorr1=['BMI', 'HDL','LDL','age','fasting_glucose','insulin','sysBP','diaBP',\"diabetes\"]\n",
    "df[columnscorr1].corr()['diabetes']"
   ]
  },
  {
   "cell_type": "code",
   "execution_count": 61,
   "metadata": {},
   "outputs": [
    {
     "data": {
      "image/png": "[encoded data removed]",
      "text/plain": [
       "<matplotlib.figure.Figure at 0x235676bcf98>"
      ]
     },
     "metadata": {},
     "output_type": "display_data"
    }
   ],
   "source": [
    "df[columnscorr1].corr()['diabetes'].sort_values(ascending=True).plot(kind='barh')\n",
    "plt.show()"
   ]
  },
  {
   "cell_type": "code",
   "execution_count": 60,
   "metadata": {},
   "outputs": [
    {
     "data": {
      "text/plain": [
       "BMI                False\n",
       "HDL                False\n",
       "LDL                False\n",
       "age                 True\n",
       "fasting_glucose     True\n",
       "insulin            False\n",
       "sysBP              False\n",
       "diaBP              False\n",
       "diabetes            True\n",
       "Name: diabetes, dtype: bool"
      ]
     },
     "execution_count": 60,
     "metadata": {},
     "output_type": "execute_result"
    }
   ],
   "source": [
    "df[columnscorr1].corr()['diabetes'].abs()>.2"
   ]
  },
  {
   "cell_type": "code",
   "execution_count": 76,
   "metadata": {},
   "outputs": [
    {
     "data": {
      "text/plain": [
       "Index(['BMI', 'HDL', 'LDL', 'age', 'fasting_glucose', 'insulin', 'sysBP'], dtype='object')"
      ]
     },
     "execution_count": 76,
     "metadata": {},
     "output_type": "execute_result"
    }
   ],
   "source": [
    "highly_correlated_features =df.columns[df.corr()['diabetes'].abs() > .1]\n",
    "highly_correlated_features = highly_correlated_features.drop('diabetes')\n",
    "highly_correlated_features"
   ]
  },
  {
   "cell_type": "code",
   "execution_count": 107,
   "metadata": {},
   "outputs": [],
   "source": [
    "X_subsettedcorr = X_train[highly_correlated_features]"
   ]
  },
  {
   "cell_type": "markdown",
   "metadata": {},
   "source": [
    "## Feature selection using hypothesis testing"
   ]
  },
  {
   "cell_type": "code",
   "execution_count": 79,
   "metadata": {},
   "outputs": [],
   "source": [
    "# SelectKBest selects features according to the k highest scores of a given scoring function\n",
    "from sklearn.feature_selection import SelectKBest\n",
    "# This models a statistical test known as ANOVA\n",
    "from sklearn.feature_selection import f_classif\n",
    "# f_classif allows for negative values, not all do\n",
    "# chi2 is a very common classification criteria but only allows for positive values\n",
    "# regression has its own statistical tests"
   ]
  },
  {
   "cell_type": "code",
   "execution_count": 80,
   "metadata": {},
   "outputs": [],
   "source": [
    "# keep only the best five features according to p-values of ANOVA test\n",
    "k_best = SelectKBest(f_classif, k=5)"
   ]
  },
  {
   "cell_type": "code",
   "execution_count": 103,
   "metadata": {},
   "outputs": [
    {
     "data": {
      "text/plain": [
       "array([[ 3.43075618,  4.008     , 50.        ,  1.65211419,  4.84680832],\n",
       "       [ 3.68672319,  2.35330667, 67.3336796 ,  2.16755558,  4.85152589],\n",
       "       [ 3.31781577,  3.569     , 31.        ,  1.60943791,  4.61841541],\n",
       "       ...,\n",
       "       [ 3.23867845,  2.586     , 47.        ,  1.7722368 ,  4.82028157],\n",
       "       [ 3.53514535,  2.831764  , 35.        ,  2.23857976,  4.94639303],\n",
       "       [ 3.03974916,  2.56      , 31.        ,  1.7722368 ,  4.76501889]])"
      ]
     },
     "execution_count": 103,
     "metadata": {},
     "output_type": "execute_result"
    }
   ],
   "source": [
    "# matrix after selecting the top 5 features\n",
    "k_best.fit_transform(X_train, y_train)"
   ]
  },
  {
   "cell_type": "code",
   "execution_count": 104,
   "metadata": {},
   "outputs": [
    {
     "data": {
      "text/html": [
       "<div>\n",
       "<style scoped>\n",
       "    .dataframe tbody tr th:only-of-type {\n",
       "        vertical-align: middle;\n",
       "    }\n",
       "\n",
       "    .dataframe tbody tr th {\n",
       "        vertical-align: top;\n",
       "    }\n",
       "\n",
       "    .dataframe thead th {\n",
       "        text-align: right;\n",
       "    }\n",
       "</style>\n",
       "<table border=\"1\" class=\"dataframe\">\n",
       "  <thead>\n",
       "    <tr style=\"text-align: right;\">\n",
       "      <th></th>\n",
       "      <th>column</th>\n",
       "      <th>p_value</th>\n",
       "    </tr>\n",
       "  </thead>\n",
       "  <tbody>\n",
       "    <tr>\n",
       "      <td>4</td>\n",
       "      <td>fasting_glucose</td>\n",
       "      <td>3.203295e-316</td>\n",
       "    </tr>\n",
       "    <tr>\n",
       "      <td>3</td>\n",
       "      <td>age</td>\n",
       "      <td>1.674060e-178</td>\n",
       "    </tr>\n",
       "    <tr>\n",
       "      <td>2</td>\n",
       "      <td>LDL</td>\n",
       "      <td>5.818351e-56</td>\n",
       "    </tr>\n",
       "    <tr>\n",
       "      <td>6</td>\n",
       "      <td>sysBP</td>\n",
       "      <td>3.827380e-45</td>\n",
       "    </tr>\n",
       "    <tr>\n",
       "      <td>0</td>\n",
       "      <td>BMI</td>\n",
       "      <td>9.029100e-41</td>\n",
       "    </tr>\n",
       "    <tr>\n",
       "      <td>5</td>\n",
       "      <td>insulin</td>\n",
       "      <td>5.371675e-25</td>\n",
       "    </tr>\n",
       "    <tr>\n",
       "      <td>1</td>\n",
       "      <td>HDL</td>\n",
       "      <td>1.634147e-15</td>\n",
       "    </tr>\n",
       "    <tr>\n",
       "      <td>22</td>\n",
       "      <td>race_3.0</td>\n",
       "      <td>4.345195e-07</td>\n",
       "    </tr>\n",
       "    <tr>\n",
       "      <td>20</td>\n",
       "      <td>race_1.0</td>\n",
       "      <td>6.496469e-06</td>\n",
       "    </tr>\n",
       "    <tr>\n",
       "      <td>23</td>\n",
       "      <td>race_4.0</td>\n",
       "      <td>8.166377e-04</td>\n",
       "    </tr>\n",
       "  </tbody>\n",
       "</table>\n",
       "</div>"
      ],
      "text/plain": [
       "             column        p_value\n",
       "4   fasting_glucose  3.203295e-316\n",
       "3               age  1.674060e-178\n",
       "2               LDL   5.818351e-56\n",
       "6             sysBP   3.827380e-45\n",
       "0               BMI   9.029100e-41\n",
       "5           insulin   5.371675e-25\n",
       "1               HDL   1.634147e-15\n",
       "22         race_3.0   4.345195e-07\n",
       "20         race_1.0   6.496469e-06\n",
       "23         race_4.0   8.166377e-04"
      ]
     },
     "execution_count": 104,
     "metadata": {},
     "output_type": "execute_result"
    }
   ],
   "source": [
    "# get the p values of columns\n",
    "k_best.pvalues_\n",
    "# make a dataframe of features and p-values\n",
    "# sort that dataframe by p-value\n",
    "p_values = pd.DataFrame({'column': X_train.columns, 'p_value':\n",
    "k_best.pvalues_}).sort_values('p_value')\n",
    "# show the top 5 features\n",
    "p_values.head(10)"
   ]
  },
  {
   "cell_type": "markdown",
   "metadata": {},
   "source": [
    "## Chi2 test"
   ]
  },
  {
   "cell_type": "code",
   "execution_count": 114,
   "metadata": {},
   "outputs": [
    {
     "name": "stdout",
     "output_type": "stream",
     "text": [
      "           Features        Score\n",
      "3               age  4313.137761\n",
      "2               LDL    49.685652\n",
      "4   fasting_glucose    32.767553\n",
      "5           insulin    16.428689\n",
      "20         race_1.0     7.175033\n",
      "23         race_4.0     5.979324\n",
      "8           BMI_NaN     5.189137\n",
      "1               HDL     4.997961\n",
      "7             diaBP     4.570309\n",
      "24         race_6.0     4.420158\n"
     ]
    }
   ],
   "source": [
    "from sklearn.feature_selection import SelectKBest, chi2\n",
    "bestfeatures = SelectKBest(score_func=chi2, k=10)\n",
    "fit = bestfeatures.fit(X_train,y_train)\n",
    "dfscores = pd.DataFrame(fit.scores_)\n",
    "dfcolumns = pd.DataFrame(X_train.columns) \n",
    "featureScores = pd.concat([dfcolumns,dfscores],axis=1)\n",
    "featureScores.columns = ['Features','Score']  \n",
    "print(featureScores.nlargest(10,'Score'))"
   ]
  },
  {
   "cell_type": "code",
   "execution_count": 105,
   "metadata": {},
   "outputs": [
    {
     "name": "stdout",
     "output_type": "stream",
     "text": [
      "['BMI', 'HDL', 'LDL', 'age', 'fasting_glucose', 'race_1.0', 'race_2.0', 'race_3.0', 'race_4.0', 'race_6.0', 'race_7.0', 'gender_1.0', 'gender_2.0']\n"
     ]
    }
   ],
   "source": [
    "#Backward Elimination\n",
    "import statsmodels.api as sm\n",
    "cols = list(X_train.columns)\n",
    "pmax = 1\n",
    "while (len(cols)>0):\n",
    "    p= []\n",
    "    X_1 = X_train[cols]\n",
    "    X_1 = sm.add_constant(X_1)\n",
    "    model = sm.OLS(y_train,X_1).fit()\n",
    "    p = pd.Series(model.pvalues.values[1:],index = cols)      \n",
    "    pmax = max(p)\n",
    "    feature_with_p_max = p.idxmax()\n",
    "    if(pmax>0.05):\n",
    "        cols.remove(feature_with_p_max)\n",
    "    else:\n",
    "        break\n",
    "selected_features_BE = cols\n",
    "print(selected_features_BE)"
   ]
  },
  {
   "cell_type": "code",
   "execution_count": 124,
   "metadata": {},
   "outputs": [
    {
     "data": {
      "text/html": [
       "<div>\n",
       "<style scoped>\n",
       "    .dataframe tbody tr th:only-of-type {\n",
       "        vertical-align: middle;\n",
       "    }\n",
       "\n",
       "    .dataframe tbody tr th {\n",
       "        vertical-align: top;\n",
       "    }\n",
       "\n",
       "    .dataframe thead th {\n",
       "        text-align: right;\n",
       "    }\n",
       "</style>\n",
       "<table border=\"1\" class=\"dataframe\">\n",
       "  <thead>\n",
       "    <tr style=\"text-align: right;\">\n",
       "      <th></th>\n",
       "      <th>BMI</th>\n",
       "      <th>HDL</th>\n",
       "      <th>LDL</th>\n",
       "      <th>age</th>\n",
       "      <th>fasting_glucose</th>\n",
       "      <th>race_1.0</th>\n",
       "      <th>race_2.0</th>\n",
       "      <th>race_3.0</th>\n",
       "      <th>race_4.0</th>\n",
       "      <th>race_6.0</th>\n",
       "      <th>race_7.0</th>\n",
       "      <th>gender_1.0</th>\n",
       "      <th>gender_2.0</th>\n",
       "    </tr>\n",
       "  </thead>\n",
       "  <tbody>\n",
       "    <tr>\n",
       "      <td>2703</td>\n",
       "      <td>3.430756</td>\n",
       "      <td>0.806476</td>\n",
       "      <td>4.008000</td>\n",
       "      <td>50.00000</td>\n",
       "      <td>1.652114</td>\n",
       "      <td>0.0</td>\n",
       "      <td>0.0</td>\n",
       "      <td>1.0</td>\n",
       "      <td>0.000000</td>\n",
       "      <td>0.000000</td>\n",
       "      <td>0.0</td>\n",
       "      <td>0.000000</td>\n",
       "      <td>1.000000</td>\n",
       "    </tr>\n",
       "    <tr>\n",
       "      <td>3574</td>\n",
       "      <td>3.686723</td>\n",
       "      <td>0.795391</td>\n",
       "      <td>2.353307</td>\n",
       "      <td>67.33368</td>\n",
       "      <td>2.167556</td>\n",
       "      <td>0.0</td>\n",
       "      <td>0.0</td>\n",
       "      <td>1.0</td>\n",
       "      <td>0.000000</td>\n",
       "      <td>0.000000</td>\n",
       "      <td>0.0</td>\n",
       "      <td>1.000000</td>\n",
       "      <td>0.000000</td>\n",
       "    </tr>\n",
       "    <tr>\n",
       "      <td>827</td>\n",
       "      <td>3.317816</td>\n",
       "      <td>0.862890</td>\n",
       "      <td>3.569000</td>\n",
       "      <td>31.00000</td>\n",
       "      <td>1.609438</td>\n",
       "      <td>0.0</td>\n",
       "      <td>0.0</td>\n",
       "      <td>0.0</td>\n",
       "      <td>0.000000</td>\n",
       "      <td>1.000000</td>\n",
       "      <td>0.0</td>\n",
       "      <td>0.000000</td>\n",
       "      <td>1.000000</td>\n",
       "    </tr>\n",
       "    <tr>\n",
       "      <td>1447</td>\n",
       "      <td>3.889777</td>\n",
       "      <td>0.875469</td>\n",
       "      <td>2.612000</td>\n",
       "      <td>63.00000</td>\n",
       "      <td>1.682688</td>\n",
       "      <td>0.0</td>\n",
       "      <td>0.0</td>\n",
       "      <td>0.0</td>\n",
       "      <td>1.000000</td>\n",
       "      <td>0.000000</td>\n",
       "      <td>0.0</td>\n",
       "      <td>1.000000</td>\n",
       "      <td>0.000000</td>\n",
       "    </tr>\n",
       "    <tr>\n",
       "      <td>1029</td>\n",
       "      <td>3.608212</td>\n",
       "      <td>0.862890</td>\n",
       "      <td>3.465000</td>\n",
       "      <td>48.00000</td>\n",
       "      <td>1.713978</td>\n",
       "      <td>1.0</td>\n",
       "      <td>0.0</td>\n",
       "      <td>0.0</td>\n",
       "      <td>0.000000</td>\n",
       "      <td>0.000000</td>\n",
       "      <td>0.0</td>\n",
       "      <td>0.000000</td>\n",
       "      <td>1.000000</td>\n",
       "    </tr>\n",
       "    <tr>\n",
       "      <td>...</td>\n",
       "      <td>...</td>\n",
       "      <td>...</td>\n",
       "      <td>...</td>\n",
       "      <td>...</td>\n",
       "      <td>...</td>\n",
       "      <td>...</td>\n",
       "      <td>...</td>\n",
       "      <td>...</td>\n",
       "      <td>...</td>\n",
       "      <td>...</td>\n",
       "      <td>...</td>\n",
       "      <td>...</td>\n",
       "      <td>...</td>\n",
       "    </tr>\n",
       "    <tr>\n",
       "      <td>3501</td>\n",
       "      <td>3.327706</td>\n",
       "      <td>1.159947</td>\n",
       "      <td>1.641310</td>\n",
       "      <td>80.00000</td>\n",
       "      <td>1.319840</td>\n",
       "      <td>0.0</td>\n",
       "      <td>0.0</td>\n",
       "      <td>0.0</td>\n",
       "      <td>0.989765</td>\n",
       "      <td>0.010235</td>\n",
       "      <td>0.0</td>\n",
       "      <td>0.010235</td>\n",
       "      <td>0.989765</td>\n",
       "    </tr>\n",
       "    <tr>\n",
       "      <td>256</td>\n",
       "      <td>3.000720</td>\n",
       "      <td>0.966984</td>\n",
       "      <td>1.267000</td>\n",
       "      <td>26.00000</td>\n",
       "      <td>1.515567</td>\n",
       "      <td>0.0</td>\n",
       "      <td>0.0</td>\n",
       "      <td>0.0</td>\n",
       "      <td>1.000000</td>\n",
       "      <td>0.000000</td>\n",
       "      <td>0.0</td>\n",
       "      <td>0.000000</td>\n",
       "      <td>1.000000</td>\n",
       "    </tr>\n",
       "    <tr>\n",
       "      <td>2776</td>\n",
       "      <td>3.238678</td>\n",
       "      <td>0.783902</td>\n",
       "      <td>2.586000</td>\n",
       "      <td>47.00000</td>\n",
       "      <td>1.772237</td>\n",
       "      <td>0.0</td>\n",
       "      <td>0.0</td>\n",
       "      <td>0.0</td>\n",
       "      <td>0.000000</td>\n",
       "      <td>1.000000</td>\n",
       "      <td>0.0</td>\n",
       "      <td>1.000000</td>\n",
       "      <td>0.000000</td>\n",
       "    </tr>\n",
       "    <tr>\n",
       "      <td>2594</td>\n",
       "      <td>3.535145</td>\n",
       "      <td>0.862890</td>\n",
       "      <td>2.831764</td>\n",
       "      <td>35.00000</td>\n",
       "      <td>2.238580</td>\n",
       "      <td>0.0</td>\n",
       "      <td>0.0</td>\n",
       "      <td>1.0</td>\n",
       "      <td>0.000000</td>\n",
       "      <td>0.000000</td>\n",
       "      <td>0.0</td>\n",
       "      <td>1.000000</td>\n",
       "      <td>0.000000</td>\n",
       "    </tr>\n",
       "    <tr>\n",
       "      <td>2452</td>\n",
       "      <td>3.039749</td>\n",
       "      <td>1.004302</td>\n",
       "      <td>2.560000</td>\n",
       "      <td>31.00000</td>\n",
       "      <td>1.772237</td>\n",
       "      <td>0.0</td>\n",
       "      <td>0.0</td>\n",
       "      <td>0.0</td>\n",
       "      <td>0.000000</td>\n",
       "      <td>1.000000</td>\n",
       "      <td>0.0</td>\n",
       "      <td>1.000000</td>\n",
       "      <td>0.000000</td>\n",
       "    </tr>\n",
       "  </tbody>\n",
       "</table>\n",
       "<p>3142 rows × 13 columns</p>\n",
       "</div>"
      ],
      "text/plain": [
       "           BMI       HDL       LDL       age  fasting_glucose  race_1.0  \\\n",
       "2703  3.430756  0.806476  4.008000  50.00000         1.652114       0.0   \n",
       "3574  3.686723  0.795391  2.353307  67.33368         2.167556       0.0   \n",
       "827   3.317816  0.862890  3.569000  31.00000         1.609438       0.0   \n",
       "1447  3.889777  0.875469  2.612000  63.00000         1.682688       0.0   \n",
       "1029  3.608212  0.862890  3.465000  48.00000         1.713978       1.0   \n",
       "...        ...       ...       ...       ...              ...       ...   \n",
       "3501  3.327706  1.159947  1.641310  80.00000         1.319840       0.0   \n",
       "256   3.000720  0.966984  1.267000  26.00000         1.515567       0.0   \n",
       "2776  3.238678  0.783902  2.586000  47.00000         1.772237       0.0   \n",
       "2594  3.535145  0.862890  2.831764  35.00000         2.238580       0.0   \n",
       "2452  3.039749  1.004302  2.560000  31.00000         1.772237       0.0   \n",
       "\n",
       "      race_2.0  race_3.0  race_4.0  race_6.0  race_7.0  gender_1.0  gender_2.0  \n",
       "2703       0.0       1.0  0.000000  0.000000       0.0    0.000000    1.000000  \n",
       "3574       0.0       1.0  0.000000  0.000000       0.0    1.000000    0.000000  \n",
       "827        0.0       0.0  0.000000  1.000000       0.0    0.000000    1.000000  \n",
       "1447       0.0       0.0  1.000000  0.000000       0.0    1.000000    0.000000  \n",
       "1029       0.0       0.0  0.000000  0.000000       0.0    0.000000    1.000000  \n",
       "...        ...       ...       ...       ...       ...         ...         ...  \n",
       "3501       0.0       0.0  0.989765  0.010235       0.0    0.010235    0.989765  \n",
       "256        0.0       0.0  1.000000  0.000000       0.0    0.000000    1.000000  \n",
       "2776       0.0       0.0  0.000000  1.000000       0.0    1.000000    0.000000  \n",
       "2594       0.0       1.0  0.000000  0.000000       0.0    1.000000    0.000000  \n",
       "2452       0.0       0.0  0.000000  1.000000       0.0    1.000000    0.000000  \n",
       "\n",
       "[3142 rows x 13 columns]"
      ]
     },
     "execution_count": 124,
     "metadata": {},
     "output_type": "execute_result"
    }
   ],
   "source": [
    "columnspvalue=['BMI', 'HDL', 'LDL', 'age', 'fasting_glucose', 'race_1.0', 'race_2.0', 'race_3.0', 'race_4.0', 'race_6.0', 'race_7.0', 'gender_1.0', 'gender_2.0']\n",
    "X_subsettedpvalue = X_train[columnspvalue]\n",
    "X_subsettedpvalue"
   ]
  },
  {
   "cell_type": "markdown",
   "metadata": {},
   "source": [
    "## Tree-based model feature selection metrics\n",
    "When fitting decision trees, the tree starts at the root node and greedily chooses the optimal\n",
    "split at every junction that optimizes a certain metric of node purity. By default, scikit-learn\n",
    "optimizes for the gini metric at every step. While each split is created, the model keeps\n",
    "track of how much each split helps the overall optimization goal. In doing so, tree-based\n",
    "models that choose splits based on such metrics have a notion of feature importance.\n"
   ]
  },
  {
   "cell_type": "markdown",
   "metadata": {},
   "source": [
    "## decision tree"
   ]
  },
  {
   "cell_type": "code",
   "execution_count": 96,
   "metadata": {},
   "outputs": [
    {
     "data": {
      "image/png": "[encoded data removed]",
      "text/plain": [
       "<matplotlib.figure.Figure at 0x23567a68668>"
      ]
     },
     "metadata": {},
     "output_type": "display_data"
    }
   ],
   "source": [
    "dt=DecisionTreeClassifier()\n",
    "dt.fit(X_train,y_train)\n",
    "feat_importances1 = pd.Series(dt.feature_importances_, index=X.columns)\n",
    "feat_importances1.sort_values(ascending=True).plot(kind='barh')\n",
    "plt.show()"
   ]
  },
  {
   "cell_type": "code",
   "execution_count": 97,
   "metadata": {},
   "outputs": [
    {
     "data": {
      "text/html": [
       "<div>\n",
       "<style scoped>\n",
       "    .dataframe tbody tr th:only-of-type {\n",
       "        vertical-align: middle;\n",
       "    }\n",
       "\n",
       "    .dataframe tbody tr th {\n",
       "        vertical-align: top;\n",
       "    }\n",
       "\n",
       "    .dataframe thead th {\n",
       "        text-align: right;\n",
       "    }\n",
       "</style>\n",
       "<table border=\"1\" class=\"dataframe\">\n",
       "  <thead>\n",
       "    <tr style=\"text-align: right;\">\n",
       "      <th></th>\n",
       "      <th>fasting_glucose</th>\n",
       "      <th>age</th>\n",
       "      <th>diaBP</th>\n",
       "      <th>LDL</th>\n",
       "      <th>BMI</th>\n",
       "      <th>insulin</th>\n",
       "      <th>race_3.0</th>\n",
       "      <th>race_1.0</th>\n",
       "      <th>race_4.0</th>\n",
       "      <th>sysBP</th>\n",
       "    </tr>\n",
       "  </thead>\n",
       "  <tbody>\n",
       "    <tr>\n",
       "      <td>2093</td>\n",
       "      <td>1.733777</td>\n",
       "      <td>26.000000</td>\n",
       "      <td>71.333333</td>\n",
       "      <td>2.896000</td>\n",
       "      <td>3.910021</td>\n",
       "      <td>4.760121</td>\n",
       "      <td>1.000000</td>\n",
       "      <td>0.000000</td>\n",
       "      <td>0.0</td>\n",
       "      <td>4.753590</td>\n",
       "    </tr>\n",
       "    <tr>\n",
       "      <td>2273</td>\n",
       "      <td>1.827287</td>\n",
       "      <td>80.000000</td>\n",
       "      <td>82.666667</td>\n",
       "      <td>2.146000</td>\n",
       "      <td>3.299534</td>\n",
       "      <td>3.335058</td>\n",
       "      <td>1.000000</td>\n",
       "      <td>0.000000</td>\n",
       "      <td>0.0</td>\n",
       "      <td>5.159055</td>\n",
       "    </tr>\n",
       "    <tr>\n",
       "      <td>5553</td>\n",
       "      <td>2.258919</td>\n",
       "      <td>65.000000</td>\n",
       "      <td>53.931589</td>\n",
       "      <td>1.836526</td>\n",
       "      <td>3.474481</td>\n",
       "      <td>4.120418</td>\n",
       "      <td>0.000000</td>\n",
       "      <td>0.000000</td>\n",
       "      <td>0.0</td>\n",
       "      <td>4.817011</td>\n",
       "    </tr>\n",
       "    <tr>\n",
       "      <td>3186</td>\n",
       "      <td>1.869367</td>\n",
       "      <td>71.680201</td>\n",
       "      <td>74.680201</td>\n",
       "      <td>2.588021</td>\n",
       "      <td>3.584211</td>\n",
       "      <td>4.150114</td>\n",
       "      <td>0.000000</td>\n",
       "      <td>1.000000</td>\n",
       "      <td>0.0</td>\n",
       "      <td>4.920287</td>\n",
       "    </tr>\n",
       "    <tr>\n",
       "      <td>505</td>\n",
       "      <td>1.662599</td>\n",
       "      <td>41.000000</td>\n",
       "      <td>63.333333</td>\n",
       "      <td>2.483000</td>\n",
       "      <td>3.261935</td>\n",
       "      <td>4.107261</td>\n",
       "      <td>0.000000</td>\n",
       "      <td>1.000000</td>\n",
       "      <td>0.0</td>\n",
       "      <td>4.611815</td>\n",
       "    </tr>\n",
       "    <tr>\n",
       "      <td>...</td>\n",
       "      <td>...</td>\n",
       "      <td>...</td>\n",
       "      <td>...</td>\n",
       "      <td>...</td>\n",
       "      <td>...</td>\n",
       "      <td>...</td>\n",
       "      <td>...</td>\n",
       "      <td>...</td>\n",
       "      <td>...</td>\n",
       "      <td>...</td>\n",
       "    </tr>\n",
       "    <tr>\n",
       "      <td>1574</td>\n",
       "      <td>1.619586</td>\n",
       "      <td>46.000000</td>\n",
       "      <td>80.666667</td>\n",
       "      <td>3.310000</td>\n",
       "      <td>3.517498</td>\n",
       "      <td>5.530143</td>\n",
       "      <td>0.000000</td>\n",
       "      <td>1.000000</td>\n",
       "      <td>0.0</td>\n",
       "      <td>4.922411</td>\n",
       "    </tr>\n",
       "    <tr>\n",
       "      <td>307</td>\n",
       "      <td>1.585145</td>\n",
       "      <td>39.000000</td>\n",
       "      <td>73.333333</td>\n",
       "      <td>2.043000</td>\n",
       "      <td>3.292126</td>\n",
       "      <td>4.247066</td>\n",
       "      <td>0.000000</td>\n",
       "      <td>0.000000</td>\n",
       "      <td>0.0</td>\n",
       "      <td>4.742029</td>\n",
       "    </tr>\n",
       "    <tr>\n",
       "      <td>3828</td>\n",
       "      <td>1.889376</td>\n",
       "      <td>75.290277</td>\n",
       "      <td>59.806482</td>\n",
       "      <td>1.959777</td>\n",
       "      <td>3.512104</td>\n",
       "      <td>4.482747</td>\n",
       "      <td>0.354861</td>\n",
       "      <td>0.645139</td>\n",
       "      <td>0.0</td>\n",
       "      <td>4.998557</td>\n",
       "    </tr>\n",
       "    <tr>\n",
       "      <td>3117</td>\n",
       "      <td>1.713798</td>\n",
       "      <td>42.000000</td>\n",
       "      <td>65.333333</td>\n",
       "      <td>2.833058</td>\n",
       "      <td>3.540959</td>\n",
       "      <td>5.052545</td>\n",
       "      <td>0.000000</td>\n",
       "      <td>1.000000</td>\n",
       "      <td>0.0</td>\n",
       "      <td>4.747826</td>\n",
       "    </tr>\n",
       "    <tr>\n",
       "      <td>330</td>\n",
       "      <td>1.733424</td>\n",
       "      <td>67.000000</td>\n",
       "      <td>42.000000</td>\n",
       "      <td>2.896000</td>\n",
       "      <td>3.339322</td>\n",
       "      <td>4.087320</td>\n",
       "      <td>0.000000</td>\n",
       "      <td>0.000000</td>\n",
       "      <td>1.0</td>\n",
       "      <td>4.637960</td>\n",
       "    </tr>\n",
       "  </tbody>\n",
       "</table>\n",
       "<p>3164 rows × 10 columns</p>\n",
       "</div>"
      ],
      "text/plain": [
       "      fasting_glucose        age      diaBP       LDL       BMI   insulin  \\\n",
       "2093         1.733777  26.000000  71.333333  2.896000  3.910021  4.760121   \n",
       "2273         1.827287  80.000000  82.666667  2.146000  3.299534  3.335058   \n",
       "5553         2.258919  65.000000  53.931589  1.836526  3.474481  4.120418   \n",
       "3186         1.869367  71.680201  74.680201  2.588021  3.584211  4.150114   \n",
       "505          1.662599  41.000000  63.333333  2.483000  3.261935  4.107261   \n",
       "...               ...        ...        ...       ...       ...       ...   \n",
       "1574         1.619586  46.000000  80.666667  3.310000  3.517498  5.530143   \n",
       "307          1.585145  39.000000  73.333333  2.043000  3.292126  4.247066   \n",
       "3828         1.889376  75.290277  59.806482  1.959777  3.512104  4.482747   \n",
       "3117         1.713798  42.000000  65.333333  2.833058  3.540959  5.052545   \n",
       "330          1.733424  67.000000  42.000000  2.896000  3.339322  4.087320   \n",
       "\n",
       "      race_3.0  race_1.0  race_4.0     sysBP  \n",
       "2093  1.000000  0.000000       0.0  4.753590  \n",
       "2273  1.000000  0.000000       0.0  5.159055  \n",
       "5553  0.000000  0.000000       0.0  4.817011  \n",
       "3186  0.000000  1.000000       0.0  4.920287  \n",
       "505   0.000000  1.000000       0.0  4.611815  \n",
       "...        ...       ...       ...       ...  \n",
       "1574  0.000000  1.000000       0.0  4.922411  \n",
       "307   0.000000  0.000000       0.0  4.742029  \n",
       "3828  0.354861  0.645139       0.0  4.998557  \n",
       "3117  0.000000  1.000000       0.0  4.747826  \n",
       "330   0.000000  0.000000       1.0  4.637960  \n",
       "\n",
       "[3164 rows x 10 columns]"
      ]
     },
     "execution_count": 97,
     "metadata": {},
     "output_type": "execute_result"
    }
   ],
   "source": [
    "columnstree=[\"fasting_glucose\",\"age\",\"diaBP\",\"LDL\",\"BMI\",\"insulin\",\"race_3.0\",\"race_1.0\",\"race_4.0\",\"sysBP\"]\n",
    "X_subsettedtree = X_train[columnstree]\n",
    "X_subsettedtree"
   ]
  },
  {
   "cell_type": "markdown",
   "metadata": {},
   "source": [
    "## Random Forest"
   ]
  },
  {
   "cell_type": "code",
   "execution_count": 98,
   "metadata": {},
   "outputs": [
    {
     "data": {
      "image/png": "[encoded data removed]",
      "text/plain": [
       "<matplotlib.figure.Figure at 0x2356d523390>"
      ]
     },
     "metadata": {},
     "output_type": "display_data"
    }
   ],
   "source": [
    "RF=RandomForestClassifier()\n",
    "RF.fit(X_train,y_train)\n",
    "feat_importances2 = pd.Series(RF.feature_importances_, index=X_train.columns)\n",
    "feat_importances2.sort_values(ascending=True).plot(kind='barh')\n",
    "plt.show()"
   ]
  },
  {
   "cell_type": "markdown",
   "metadata": {},
   "source": [
    "## Extra Trees"
   ]
  },
  {
   "cell_type": "code",
   "execution_count": 99,
   "metadata": {},
   "outputs": [
    {
     "data": {
      "image/png": "[encoded data removed]",
      "text/plain": [
       "<matplotlib.figure.Figure at 0x2356d4f8908>"
      ]
     },
     "metadata": {},
     "output_type": "display_data"
    }
   ],
   "source": [
    "from sklearn.ensemble import ExtraTreesClassifier\n",
    "et=ExtraTreesClassifier()\n",
    "et.fit(X_train,y_train)\n",
    "feat_importances3 = pd.Series(et.feature_importances_, index=X_train.columns)\n",
    "feat_importances3.sort_values(ascending=True).plot(kind='barh')\n",
    "plt.show()"
   ]
  },
  {
   "cell_type": "markdown",
   "metadata": {},
   "source": [
    "## Gradient Boosting"
   ]
  },
  {
   "cell_type": "code",
   "execution_count": 100,
   "metadata": {},
   "outputs": [
    {
     "data": {
      "image/png": "[encoded data removed]",
      "text/plain": [
       "<matplotlib.figure.Figure at 0x2356d43c048>"
      ]
     },
     "metadata": {},
     "output_type": "display_data"
    }
   ],
   "source": [
    "gbr=GradientBoostingClassifier()\n",
    "gbr.fit(X_train,y_train)\n",
    "feat_importances4 = pd.Series(gbr.feature_importances_, index=X.columns)\n",
    "feat_importances4.sort_values(ascending=True).plot(kind='barh')\n",
    "plt.show()"
   ]
  },
  {
   "cell_type": "markdown",
   "metadata": {},
   "source": [
    "## Linear models and regularization\n",
    "* L1 regularization, also known as lasso regularization, uses the L1 Norm, which,using the above formula, reduces to the sum of the absolute values of the entriesof a vector to limit the coefficients in such a way that they may disappear entirely and become 0. If the coefficient of a feature drops to 0, then that feature will not have any say in the prediction of new data observations and definitely will not be chosen by a SelectFromModel selector.\n",
    "* L2 regularization, also known as ridge regularization, imposes the L2 norm as apenalty (sum of the square of vector entries) so that coefficients cannot drop to 0, but they can become very, very tiny"
   ]
  },
  {
   "cell_type": "markdown",
   "metadata": {},
   "source": [
    "## Logistic Regression"
   ]
  },
  {
   "cell_type": "code",
   "execution_count": 110,
   "metadata": {},
   "outputs": [
    {
     "data": {
      "text/plain": [
       "Index(['BMI', 'HDL', 'LDL', 'age', 'fasting_glucose', 'insulin', 'sysBP',\n",
       "       'diaBP', 'BMI_NaN', 'LDL_NaN', 'insulin_NaN', 'sugar_NaN',\n",
       "       'alc_days_year_NaN', 'race_1.0', 'race_3.0', 'race_4.0', 'race_7.0',\n",
       "       'gender_1.0'],\n",
       "      dtype='object')"
      ]
     },
     "execution_count": 110,
     "metadata": {},
     "output_type": "execute_result"
    }
   ],
   "source": [
    "from sklearn.feature_selection import SelectFromModel\n",
    "# a new selector that uses the coefficients from a regularized logistic regression as feature importances\n",
    "logistic_selector = SelectFromModel(LogisticRegression())\n",
    "# make a new pipeline that uses coefficients from LogistisRegression as a feature ranker\n",
    "regularization_pipe = Pipeline([('select', logistic_selector), ('classifier', tree)])\n",
    "regularization_pipe_params= {'select__threshold': [0.01, 0.05, 0.1,'mean', 'median', '2.*mean'], 'classifier__max_depth': [1, 3, 5, 7],'select__estimator__penalty': ['l1', 'l2']}\n",
    "# set the optimal params to the pipeline\n",
    "regularization_pipe.set_params(**{'select__threshold': 0.01, 'classifier__max_depth': 5, 'select__estimator__penalty': 'l1'})\n",
    "# fit our pipeline to our data\n",
    "regularization_pipe.steps[0][1].fit(X_train, y_train)\n",
    "# list the columns that the Logisti Regression selected by calling the get_support() method from SelectFromModel\n",
    "X_train.columns[regularization_pipe.steps[0][1].get_support()]"
   ]
  },
  {
   "cell_type": "code",
   "execution_count": 111,
   "metadata": {},
   "outputs": [
    {
     "data": {
      "text/html": [
       "<div>\n",
       "<style scoped>\n",
       "    .dataframe tbody tr th:only-of-type {\n",
       "        vertical-align: middle;\n",
       "    }\n",
       "\n",
       "    .dataframe tbody tr th {\n",
       "        vertical-align: top;\n",
       "    }\n",
       "\n",
       "    .dataframe thead th {\n",
       "        text-align: right;\n",
       "    }\n",
       "</style>\n",
       "<table border=\"1\" class=\"dataframe\">\n",
       "  <thead>\n",
       "    <tr style=\"text-align: right;\">\n",
       "      <th></th>\n",
       "      <th>BMI</th>\n",
       "      <th>HDL</th>\n",
       "      <th>LDL</th>\n",
       "      <th>age</th>\n",
       "      <th>fasting_glucose</th>\n",
       "      <th>insulin</th>\n",
       "      <th>sysBP</th>\n",
       "      <th>diaBP</th>\n",
       "      <th>BMI_NaN</th>\n",
       "      <th>LDL_NaN</th>\n",
       "      <th>insulin_NaN</th>\n",
       "      <th>sugar_NaN</th>\n",
       "      <th>alc_days_year_NaN</th>\n",
       "      <th>race_1.0</th>\n",
       "      <th>race_3.0</th>\n",
       "      <th>race_4.0</th>\n",
       "      <th>race_7.0</th>\n",
       "      <th>gender_1.0</th>\n",
       "    </tr>\n",
       "  </thead>\n",
       "  <tbody>\n",
       "    <tr>\n",
       "      <td>2703</td>\n",
       "      <td>3.430756</td>\n",
       "      <td>0.806476</td>\n",
       "      <td>4.008000</td>\n",
       "      <td>50.00000</td>\n",
       "      <td>1.652114</td>\n",
       "      <td>4.235844</td>\n",
       "      <td>4.846808</td>\n",
       "      <td>81.333333</td>\n",
       "      <td>0.0</td>\n",
       "      <td>0.000000</td>\n",
       "      <td>0.0</td>\n",
       "      <td>0.0</td>\n",
       "      <td>1.0</td>\n",
       "      <td>0.0</td>\n",
       "      <td>1.0</td>\n",
       "      <td>0.000000</td>\n",
       "      <td>0.0</td>\n",
       "      <td>0.000000</td>\n",
       "    </tr>\n",
       "    <tr>\n",
       "      <td>3574</td>\n",
       "      <td>3.686723</td>\n",
       "      <td>0.795391</td>\n",
       "      <td>2.353307</td>\n",
       "      <td>67.33368</td>\n",
       "      <td>2.167556</td>\n",
       "      <td>5.780459</td>\n",
       "      <td>4.851526</td>\n",
       "      <td>64.667359</td>\n",
       "      <td>0.0</td>\n",
       "      <td>0.000000</td>\n",
       "      <td>0.0</td>\n",
       "      <td>1.0</td>\n",
       "      <td>0.0</td>\n",
       "      <td>0.0</td>\n",
       "      <td>1.0</td>\n",
       "      <td>0.000000</td>\n",
       "      <td>0.0</td>\n",
       "      <td>1.000000</td>\n",
       "    </tr>\n",
       "    <tr>\n",
       "      <td>827</td>\n",
       "      <td>3.317816</td>\n",
       "      <td>0.862890</td>\n",
       "      <td>3.569000</td>\n",
       "      <td>31.00000</td>\n",
       "      <td>1.609438</td>\n",
       "      <td>3.797285</td>\n",
       "      <td>4.618415</td>\n",
       "      <td>60.000000</td>\n",
       "      <td>0.0</td>\n",
       "      <td>0.000000</td>\n",
       "      <td>0.0</td>\n",
       "      <td>1.0</td>\n",
       "      <td>1.0</td>\n",
       "      <td>0.0</td>\n",
       "      <td>0.0</td>\n",
       "      <td>0.000000</td>\n",
       "      <td>0.0</td>\n",
       "      <td>0.000000</td>\n",
       "    </tr>\n",
       "    <tr>\n",
       "      <td>1447</td>\n",
       "      <td>3.889777</td>\n",
       "      <td>0.875469</td>\n",
       "      <td>2.612000</td>\n",
       "      <td>63.00000</td>\n",
       "      <td>1.682688</td>\n",
       "      <td>5.550398</td>\n",
       "      <td>4.897840</td>\n",
       "      <td>71.333333</td>\n",
       "      <td>0.0</td>\n",
       "      <td>0.000000</td>\n",
       "      <td>0.0</td>\n",
       "      <td>1.0</td>\n",
       "      <td>0.0</td>\n",
       "      <td>0.0</td>\n",
       "      <td>0.0</td>\n",
       "      <td>1.000000</td>\n",
       "      <td>0.0</td>\n",
       "      <td>1.000000</td>\n",
       "    </tr>\n",
       "    <tr>\n",
       "      <td>1029</td>\n",
       "      <td>3.608212</td>\n",
       "      <td>0.862890</td>\n",
       "      <td>3.465000</td>\n",
       "      <td>48.00000</td>\n",
       "      <td>1.713978</td>\n",
       "      <td>5.027689</td>\n",
       "      <td>5.010635</td>\n",
       "      <td>80.000000</td>\n",
       "      <td>0.0</td>\n",
       "      <td>0.000000</td>\n",
       "      <td>0.0</td>\n",
       "      <td>1.0</td>\n",
       "      <td>1.0</td>\n",
       "      <td>1.0</td>\n",
       "      <td>0.0</td>\n",
       "      <td>0.000000</td>\n",
       "      <td>0.0</td>\n",
       "      <td>0.000000</td>\n",
       "    </tr>\n",
       "    <tr>\n",
       "      <td>...</td>\n",
       "      <td>...</td>\n",
       "      <td>...</td>\n",
       "      <td>...</td>\n",
       "      <td>...</td>\n",
       "      <td>...</td>\n",
       "      <td>...</td>\n",
       "      <td>...</td>\n",
       "      <td>...</td>\n",
       "      <td>...</td>\n",
       "      <td>...</td>\n",
       "      <td>...</td>\n",
       "      <td>...</td>\n",
       "      <td>...</td>\n",
       "      <td>...</td>\n",
       "      <td>...</td>\n",
       "      <td>...</td>\n",
       "      <td>...</td>\n",
       "      <td>...</td>\n",
       "    </tr>\n",
       "    <tr>\n",
       "      <td>3501</td>\n",
       "      <td>3.327706</td>\n",
       "      <td>1.159947</td>\n",
       "      <td>1.641310</td>\n",
       "      <td>80.00000</td>\n",
       "      <td>1.319840</td>\n",
       "      <td>4.494586</td>\n",
       "      <td>5.053162</td>\n",
       "      <td>64.013647</td>\n",
       "      <td>0.0</td>\n",
       "      <td>0.010235</td>\n",
       "      <td>0.0</td>\n",
       "      <td>1.0</td>\n",
       "      <td>0.0</td>\n",
       "      <td>0.0</td>\n",
       "      <td>0.0</td>\n",
       "      <td>0.989765</td>\n",
       "      <td>0.0</td>\n",
       "      <td>0.010235</td>\n",
       "    </tr>\n",
       "    <tr>\n",
       "      <td>256</td>\n",
       "      <td>3.000720</td>\n",
       "      <td>0.966984</td>\n",
       "      <td>1.267000</td>\n",
       "      <td>26.00000</td>\n",
       "      <td>1.515567</td>\n",
       "      <td>3.854818</td>\n",
       "      <td>4.759321</td>\n",
       "      <td>63.333333</td>\n",
       "      <td>0.0</td>\n",
       "      <td>0.000000</td>\n",
       "      <td>0.0</td>\n",
       "      <td>1.0</td>\n",
       "      <td>0.0</td>\n",
       "      <td>0.0</td>\n",
       "      <td>0.0</td>\n",
       "      <td>1.000000</td>\n",
       "      <td>0.0</td>\n",
       "      <td>0.000000</td>\n",
       "    </tr>\n",
       "    <tr>\n",
       "      <td>2776</td>\n",
       "      <td>3.238678</td>\n",
       "      <td>0.783902</td>\n",
       "      <td>2.586000</td>\n",
       "      <td>47.00000</td>\n",
       "      <td>1.772237</td>\n",
       "      <td>3.717467</td>\n",
       "      <td>4.820282</td>\n",
       "      <td>64.666667</td>\n",
       "      <td>0.0</td>\n",
       "      <td>0.000000</td>\n",
       "      <td>0.0</td>\n",
       "      <td>1.0</td>\n",
       "      <td>0.0</td>\n",
       "      <td>0.0</td>\n",
       "      <td>0.0</td>\n",
       "      <td>0.000000</td>\n",
       "      <td>0.0</td>\n",
       "      <td>1.000000</td>\n",
       "    </tr>\n",
       "    <tr>\n",
       "      <td>2594</td>\n",
       "      <td>3.535145</td>\n",
       "      <td>0.862890</td>\n",
       "      <td>2.831764</td>\n",
       "      <td>35.00000</td>\n",
       "      <td>2.238580</td>\n",
       "      <td>5.929483</td>\n",
       "      <td>4.946393</td>\n",
       "      <td>96.000000</td>\n",
       "      <td>0.0</td>\n",
       "      <td>1.000000</td>\n",
       "      <td>0.0</td>\n",
       "      <td>1.0</td>\n",
       "      <td>0.0</td>\n",
       "      <td>0.0</td>\n",
       "      <td>1.0</td>\n",
       "      <td>0.000000</td>\n",
       "      <td>0.0</td>\n",
       "      <td>1.000000</td>\n",
       "    </tr>\n",
       "    <tr>\n",
       "      <td>2452</td>\n",
       "      <td>3.039749</td>\n",
       "      <td>1.004302</td>\n",
       "      <td>2.560000</td>\n",
       "      <td>31.00000</td>\n",
       "      <td>1.772237</td>\n",
       "      <td>3.474448</td>\n",
       "      <td>4.765019</td>\n",
       "      <td>66.000000</td>\n",
       "      <td>0.0</td>\n",
       "      <td>0.000000</td>\n",
       "      <td>0.0</td>\n",
       "      <td>1.0</td>\n",
       "      <td>0.0</td>\n",
       "      <td>0.0</td>\n",
       "      <td>0.0</td>\n",
       "      <td>0.000000</td>\n",
       "      <td>0.0</td>\n",
       "      <td>1.000000</td>\n",
       "    </tr>\n",
       "  </tbody>\n",
       "</table>\n",
       "<p>3142 rows × 18 columns</p>\n",
       "</div>"
      ],
      "text/plain": [
       "           BMI       HDL       LDL       age  fasting_glucose   insulin  \\\n",
       "2703  3.430756  0.806476  4.008000  50.00000         1.652114  4.235844   \n",
       "3574  3.686723  0.795391  2.353307  67.33368         2.167556  5.780459   \n",
       "827   3.317816  0.862890  3.569000  31.00000         1.609438  3.797285   \n",
       "1447  3.889777  0.875469  2.612000  63.00000         1.682688  5.550398   \n",
       "1029  3.608212  0.862890  3.465000  48.00000         1.713978  5.027689   \n",
       "...        ...       ...       ...       ...              ...       ...   \n",
       "3501  3.327706  1.159947  1.641310  80.00000         1.319840  4.494586   \n",
       "256   3.000720  0.966984  1.267000  26.00000         1.515567  3.854818   \n",
       "2776  3.238678  0.783902  2.586000  47.00000         1.772237  3.717467   \n",
       "2594  3.535145  0.862890  2.831764  35.00000         2.238580  5.929483   \n",
       "2452  3.039749  1.004302  2.560000  31.00000         1.772237  3.474448   \n",
       "\n",
       "         sysBP      diaBP  BMI_NaN   LDL_NaN  insulin_NaN  sugar_NaN  \\\n",
       "2703  4.846808  81.333333      0.0  0.000000          0.0        0.0   \n",
       "3574  4.851526  64.667359      0.0  0.000000          0.0        1.0   \n",
       "827   4.618415  60.000000      0.0  0.000000          0.0        1.0   \n",
       "1447  4.897840  71.333333      0.0  0.000000          0.0        1.0   \n",
       "1029  5.010635  80.000000      0.0  0.000000          0.0        1.0   \n",
       "...        ...        ...      ...       ...          ...        ...   \n",
       "3501  5.053162  64.013647      0.0  0.010235          0.0        1.0   \n",
       "256   4.759321  63.333333      0.0  0.000000          0.0        1.0   \n",
       "2776  4.820282  64.666667      0.0  0.000000          0.0        1.0   \n",
       "2594  4.946393  96.000000      0.0  1.000000          0.0        1.0   \n",
       "2452  4.765019  66.000000      0.0  0.000000          0.0        1.0   \n",
       "\n",
       "      alc_days_year_NaN  race_1.0  race_3.0  race_4.0  race_7.0  gender_1.0  \n",
       "2703                1.0       0.0       1.0  0.000000       0.0    0.000000  \n",
       "3574                0.0       0.0       1.0  0.000000       0.0    1.000000  \n",
       "827                 1.0       0.0       0.0  0.000000       0.0    0.000000  \n",
       "1447                0.0       0.0       0.0  1.000000       0.0    1.000000  \n",
       "1029                1.0       1.0       0.0  0.000000       0.0    0.000000  \n",
       "...                 ...       ...       ...       ...       ...         ...  \n",
       "3501                0.0       0.0       0.0  0.989765       0.0    0.010235  \n",
       "256                 0.0       0.0       0.0  1.000000       0.0    0.000000  \n",
       "2776                0.0       0.0       0.0  0.000000       0.0    1.000000  \n",
       "2594                0.0       0.0       1.0  0.000000       0.0    1.000000  \n",
       "2452                0.0       0.0       0.0  0.000000       0.0    1.000000  \n",
       "\n",
       "[3142 rows x 18 columns]"
      ]
     },
     "execution_count": 111,
     "metadata": {},
     "output_type": "execute_result"
    }
   ],
   "source": [
    "columns=['BMI', 'HDL', 'LDL', 'age', 'fasting_glucose', 'insulin', 'sysBP',\n",
    "       'diaBP', 'BMI_NaN', 'LDL_NaN', 'insulin_NaN', 'sugar_NaN',\n",
    "       'alc_days_year_NaN', 'race_1.0', 'race_3.0', 'race_4.0', 'race_7.0',\n",
    "       'gender_1.0']\n",
    "X_subsettedlogl1 = X_train[columns]\n",
    "X_subsettedlogl1"
   ]
  },
  {
   "cell_type": "markdown",
   "metadata": {},
   "source": [
    "## SVM"
   ]
  },
  {
   "cell_type": "code",
   "execution_count": 112,
   "metadata": {},
   "outputs": [
    {
     "data": {
      "text/plain": [
       "Index(['BMI', 'HDL', 'LDL', 'age', 'fasting_glucose', 'sysBP', 'BMI_NaN',\n",
       "       'insulin_NaN', 'sugar_NaN', 'alc_days_year_NaN', 'race_1.0', 'race_2.0',\n",
       "       'race_3.0', 'race_4.0', 'race_6.0', 'race_7.0', 'gender_1.0',\n",
       "       'gender_2.0'],\n",
       "      dtype='object')"
      ]
     },
     "execution_count": 112,
     "metadata": {},
     "output_type": "execute_result"
    }
   ],
   "source": [
    "# SVC is a linear model that uses linear supports to\n",
    "# seperate classes in euclidean space\n",
    "# This model can only work for binary classification tasks\n",
    "from sklearn.svm import LinearSVC\n",
    "# Using a support vector classifier to get coefficients\n",
    "svc_selector = SelectFromModel(LinearSVC())\n",
    "svc_pipe = Pipeline([('select', svc_selector),('classifier', tree)])\n",
    "svc_pipe_params ={ 'select__estimator__loss': ['squared_hinge','hinge'], 'select__threshold': [0.01, 0.05, 0.1, 'mean', 'median','2.*mean'], 'select__estimator__penalty': ['l1', 'l2'],'classifier__max_depth': [1, 3, 5, 7], 'select__estimator__dual': [True,False]}\n",
    "# set the optimal params to the pipeline\n",
    "svc_pipe.set_params(**{'select__estimator__loss': 'squared_hinge','select__threshold': 0.01,'select__estimator__penalty': 'l1','classifier__max_depth': 5,'select__estimator__dual': False})\n",
    "# fit our pipeline to our data\n",
    "svc_pipe.steps[0][1].fit(X_train, y_train)\n",
    "# list the columns that the SVC selected by calling the get_support() method from SelectFromModel\n",
    "X_train.columns[svc_pipe.steps[0][1].get_support()]"
   ]
  },
  {
   "cell_type": "code",
   "execution_count": 113,
   "metadata": {},
   "outputs": [
    {
     "data": {
      "text/html": [
       "<div>\n",
       "<style scoped>\n",
       "    .dataframe tbody tr th:only-of-type {\n",
       "        vertical-align: middle;\n",
       "    }\n",
       "\n",
       "    .dataframe tbody tr th {\n",
       "        vertical-align: top;\n",
       "    }\n",
       "\n",
       "    .dataframe thead th {\n",
       "        text-align: right;\n",
       "    }\n",
       "</style>\n",
       "<table border=\"1\" class=\"dataframe\">\n",
       "  <thead>\n",
       "    <tr style=\"text-align: right;\">\n",
       "      <th></th>\n",
       "      <th>BMI</th>\n",
       "      <th>HDL</th>\n",
       "      <th>LDL</th>\n",
       "      <th>age</th>\n",
       "      <th>fasting_glucose</th>\n",
       "      <th>sysBP</th>\n",
       "      <th>BMI_NaN</th>\n",
       "      <th>insulin_NaN</th>\n",
       "      <th>sugar_NaN</th>\n",
       "      <th>alc_days_year_NaN</th>\n",
       "      <th>race_1.0</th>\n",
       "      <th>race_2.0</th>\n",
       "      <th>race_3.0</th>\n",
       "      <th>race_4.0</th>\n",
       "      <th>race_6.0</th>\n",
       "      <th>race_7.0</th>\n",
       "      <th>gender_1.0</th>\n",
       "      <th>gender_2.0</th>\n",
       "    </tr>\n",
       "  </thead>\n",
       "  <tbody>\n",
       "    <tr>\n",
       "      <td>2703</td>\n",
       "      <td>3.430756</td>\n",
       "      <td>0.806476</td>\n",
       "      <td>4.008000</td>\n",
       "      <td>50.00000</td>\n",
       "      <td>1.652114</td>\n",
       "      <td>4.846808</td>\n",
       "      <td>0.0</td>\n",
       "      <td>0.0</td>\n",
       "      <td>0.0</td>\n",
       "      <td>1.0</td>\n",
       "      <td>0.0</td>\n",
       "      <td>0.0</td>\n",
       "      <td>1.0</td>\n",
       "      <td>0.000000</td>\n",
       "      <td>0.000000</td>\n",
       "      <td>0.0</td>\n",
       "      <td>0.000000</td>\n",
       "      <td>1.000000</td>\n",
       "    </tr>\n",
       "    <tr>\n",
       "      <td>3574</td>\n",
       "      <td>3.686723</td>\n",
       "      <td>0.795391</td>\n",
       "      <td>2.353307</td>\n",
       "      <td>67.33368</td>\n",
       "      <td>2.167556</td>\n",
       "      <td>4.851526</td>\n",
       "      <td>0.0</td>\n",
       "      <td>0.0</td>\n",
       "      <td>1.0</td>\n",
       "      <td>0.0</td>\n",
       "      <td>0.0</td>\n",
       "      <td>0.0</td>\n",
       "      <td>1.0</td>\n",
       "      <td>0.000000</td>\n",
       "      <td>0.000000</td>\n",
       "      <td>0.0</td>\n",
       "      <td>1.000000</td>\n",
       "      <td>0.000000</td>\n",
       "    </tr>\n",
       "    <tr>\n",
       "      <td>827</td>\n",
       "      <td>3.317816</td>\n",
       "      <td>0.862890</td>\n",
       "      <td>3.569000</td>\n",
       "      <td>31.00000</td>\n",
       "      <td>1.609438</td>\n",
       "      <td>4.618415</td>\n",
       "      <td>0.0</td>\n",
       "      <td>0.0</td>\n",
       "      <td>1.0</td>\n",
       "      <td>1.0</td>\n",
       "      <td>0.0</td>\n",
       "      <td>0.0</td>\n",
       "      <td>0.0</td>\n",
       "      <td>0.000000</td>\n",
       "      <td>1.000000</td>\n",
       "      <td>0.0</td>\n",
       "      <td>0.000000</td>\n",
       "      <td>1.000000</td>\n",
       "    </tr>\n",
       "    <tr>\n",
       "      <td>1447</td>\n",
       "      <td>3.889777</td>\n",
       "      <td>0.875469</td>\n",
       "      <td>2.612000</td>\n",
       "      <td>63.00000</td>\n",
       "      <td>1.682688</td>\n",
       "      <td>4.897840</td>\n",
       "      <td>0.0</td>\n",
       "      <td>0.0</td>\n",
       "      <td>1.0</td>\n",
       "      <td>0.0</td>\n",
       "      <td>0.0</td>\n",
       "      <td>0.0</td>\n",
       "      <td>0.0</td>\n",
       "      <td>1.000000</td>\n",
       "      <td>0.000000</td>\n",
       "      <td>0.0</td>\n",
       "      <td>1.000000</td>\n",
       "      <td>0.000000</td>\n",
       "    </tr>\n",
       "    <tr>\n",
       "      <td>1029</td>\n",
       "      <td>3.608212</td>\n",
       "      <td>0.862890</td>\n",
       "      <td>3.465000</td>\n",
       "      <td>48.00000</td>\n",
       "      <td>1.713978</td>\n",
       "      <td>5.010635</td>\n",
       "      <td>0.0</td>\n",
       "      <td>0.0</td>\n",
       "      <td>1.0</td>\n",
       "      <td>1.0</td>\n",
       "      <td>1.0</td>\n",
       "      <td>0.0</td>\n",
       "      <td>0.0</td>\n",
       "      <td>0.000000</td>\n",
       "      <td>0.000000</td>\n",
       "      <td>0.0</td>\n",
       "      <td>0.000000</td>\n",
       "      <td>1.000000</td>\n",
       "    </tr>\n",
       "    <tr>\n",
       "      <td>...</td>\n",
       "      <td>...</td>\n",
       "      <td>...</td>\n",
       "      <td>...</td>\n",
       "      <td>...</td>\n",
       "      <td>...</td>\n",
       "      <td>...</td>\n",
       "      <td>...</td>\n",
       "      <td>...</td>\n",
       "      <td>...</td>\n",
       "      <td>...</td>\n",
       "      <td>...</td>\n",
       "      <td>...</td>\n",
       "      <td>...</td>\n",
       "      <td>...</td>\n",
       "      <td>...</td>\n",
       "      <td>...</td>\n",
       "      <td>...</td>\n",
       "      <td>...</td>\n",
       "    </tr>\n",
       "    <tr>\n",
       "      <td>3501</td>\n",
       "      <td>3.327706</td>\n",
       "      <td>1.159947</td>\n",
       "      <td>1.641310</td>\n",
       "      <td>80.00000</td>\n",
       "      <td>1.319840</td>\n",
       "      <td>5.053162</td>\n",
       "      <td>0.0</td>\n",
       "      <td>0.0</td>\n",
       "      <td>1.0</td>\n",
       "      <td>0.0</td>\n",
       "      <td>0.0</td>\n",
       "      <td>0.0</td>\n",
       "      <td>0.0</td>\n",
       "      <td>0.989765</td>\n",
       "      <td>0.010235</td>\n",
       "      <td>0.0</td>\n",
       "      <td>0.010235</td>\n",
       "      <td>0.989765</td>\n",
       "    </tr>\n",
       "    <tr>\n",
       "      <td>256</td>\n",
       "      <td>3.000720</td>\n",
       "      <td>0.966984</td>\n",
       "      <td>1.267000</td>\n",
       "      <td>26.00000</td>\n",
       "      <td>1.515567</td>\n",
       "      <td>4.759321</td>\n",
       "      <td>0.0</td>\n",
       "      <td>0.0</td>\n",
       "      <td>1.0</td>\n",
       "      <td>0.0</td>\n",
       "      <td>0.0</td>\n",
       "      <td>0.0</td>\n",
       "      <td>0.0</td>\n",
       "      <td>1.000000</td>\n",
       "      <td>0.000000</td>\n",
       "      <td>0.0</td>\n",
       "      <td>0.000000</td>\n",
       "      <td>1.000000</td>\n",
       "    </tr>\n",
       "    <tr>\n",
       "      <td>2776</td>\n",
       "      <td>3.238678</td>\n",
       "      <td>0.783902</td>\n",
       "      <td>2.586000</td>\n",
       "      <td>47.00000</td>\n",
       "      <td>1.772237</td>\n",
       "      <td>4.820282</td>\n",
       "      <td>0.0</td>\n",
       "      <td>0.0</td>\n",
       "      <td>1.0</td>\n",
       "      <td>0.0</td>\n",
       "      <td>0.0</td>\n",
       "      <td>0.0</td>\n",
       "      <td>0.0</td>\n",
       "      <td>0.000000</td>\n",
       "      <td>1.000000</td>\n",
       "      <td>0.0</td>\n",
       "      <td>1.000000</td>\n",
       "      <td>0.000000</td>\n",
       "    </tr>\n",
       "    <tr>\n",
       "      <td>2594</td>\n",
       "      <td>3.535145</td>\n",
       "      <td>0.862890</td>\n",
       "      <td>2.831764</td>\n",
       "      <td>35.00000</td>\n",
       "      <td>2.238580</td>\n",
       "      <td>4.946393</td>\n",
       "      <td>0.0</td>\n",
       "      <td>0.0</td>\n",
       "      <td>1.0</td>\n",
       "      <td>0.0</td>\n",
       "      <td>0.0</td>\n",
       "      <td>0.0</td>\n",
       "      <td>1.0</td>\n",
       "      <td>0.000000</td>\n",
       "      <td>0.000000</td>\n",
       "      <td>0.0</td>\n",
       "      <td>1.000000</td>\n",
       "      <td>0.000000</td>\n",
       "    </tr>\n",
       "    <tr>\n",
       "      <td>2452</td>\n",
       "      <td>3.039749</td>\n",
       "      <td>1.004302</td>\n",
       "      <td>2.560000</td>\n",
       "      <td>31.00000</td>\n",
       "      <td>1.772237</td>\n",
       "      <td>4.765019</td>\n",
       "      <td>0.0</td>\n",
       "      <td>0.0</td>\n",
       "      <td>1.0</td>\n",
       "      <td>0.0</td>\n",
       "      <td>0.0</td>\n",
       "      <td>0.0</td>\n",
       "      <td>0.0</td>\n",
       "      <td>0.000000</td>\n",
       "      <td>1.000000</td>\n",
       "      <td>0.0</td>\n",
       "      <td>1.000000</td>\n",
       "      <td>0.000000</td>\n",
       "    </tr>\n",
       "  </tbody>\n",
       "</table>\n",
       "<p>3142 rows × 18 columns</p>\n",
       "</div>"
      ],
      "text/plain": [
       "           BMI       HDL       LDL       age  fasting_glucose     sysBP  \\\n",
       "2703  3.430756  0.806476  4.008000  50.00000         1.652114  4.846808   \n",
       "3574  3.686723  0.795391  2.353307  67.33368         2.167556  4.851526   \n",
       "827   3.317816  0.862890  3.569000  31.00000         1.609438  4.618415   \n",
       "1447  3.889777  0.875469  2.612000  63.00000         1.682688  4.897840   \n",
       "1029  3.608212  0.862890  3.465000  48.00000         1.713978  5.010635   \n",
       "...        ...       ...       ...       ...              ...       ...   \n",
       "3501  3.327706  1.159947  1.641310  80.00000         1.319840  5.053162   \n",
       "256   3.000720  0.966984  1.267000  26.00000         1.515567  4.759321   \n",
       "2776  3.238678  0.783902  2.586000  47.00000         1.772237  4.820282   \n",
       "2594  3.535145  0.862890  2.831764  35.00000         2.238580  4.946393   \n",
       "2452  3.039749  1.004302  2.560000  31.00000         1.772237  4.765019   \n",
       "\n",
       "      BMI_NaN  insulin_NaN  sugar_NaN  alc_days_year_NaN  race_1.0  race_2.0  \\\n",
       "2703      0.0          0.0        0.0                1.0       0.0       0.0   \n",
       "3574      0.0          0.0        1.0                0.0       0.0       0.0   \n",
       "827       0.0          0.0        1.0                1.0       0.0       0.0   \n",
       "1447      0.0          0.0        1.0                0.0       0.0       0.0   \n",
       "1029      0.0          0.0        1.0                1.0       1.0       0.0   \n",
       "...       ...          ...        ...                ...       ...       ...   \n",
       "3501      0.0          0.0        1.0                0.0       0.0       0.0   \n",
       "256       0.0          0.0        1.0                0.0       0.0       0.0   \n",
       "2776      0.0          0.0        1.0                0.0       0.0       0.0   \n",
       "2594      0.0          0.0        1.0                0.0       0.0       0.0   \n",
       "2452      0.0          0.0        1.0                0.0       0.0       0.0   \n",
       "\n",
       "      race_3.0  race_4.0  race_6.0  race_7.0  gender_1.0  gender_2.0  \n",
       "2703       1.0  0.000000  0.000000       0.0    0.000000    1.000000  \n",
       "3574       1.0  0.000000  0.000000       0.0    1.000000    0.000000  \n",
       "827        0.0  0.000000  1.000000       0.0    0.000000    1.000000  \n",
       "1447       0.0  1.000000  0.000000       0.0    1.000000    0.000000  \n",
       "1029       0.0  0.000000  0.000000       0.0    0.000000    1.000000  \n",
       "...        ...       ...       ...       ...         ...         ...  \n",
       "3501       0.0  0.989765  0.010235       0.0    0.010235    0.989765  \n",
       "256        0.0  1.000000  0.000000       0.0    0.000000    1.000000  \n",
       "2776       0.0  0.000000  1.000000       0.0    1.000000    0.000000  \n",
       "2594       1.0  0.000000  0.000000       0.0    1.000000    0.000000  \n",
       "2452       0.0  0.000000  1.000000       0.0    1.000000    0.000000  \n",
       "\n",
       "[3142 rows x 18 columns]"
      ]
     },
     "execution_count": 113,
     "metadata": {},
     "output_type": "execute_result"
    }
   ],
   "source": [
    "columns=['BMI', 'HDL', 'LDL', 'age', 'fasting_glucose', 'sysBP', 'BMI_NaN',\n",
    "       'insulin_NaN', 'sugar_NaN', 'alc_days_year_NaN', 'race_1.0', 'race_2.0',\n",
    "       'race_3.0', 'race_4.0', 'race_6.0', 'race_7.0', 'gender_1.0',\n",
    "       'gender_2.0']\n",
    "X_subsettedSVMl1 = X_train[columns]\n",
    "X_subsettedSVMl1"
   ]
  },
  {
   "cell_type": "markdown",
   "metadata": {},
   "source": [
    "## Variance Inflation Factor"
   ]
  },
  {
   "cell_type": "code",
   "execution_count": 93,
   "metadata": {},
   "outputs": [],
   "source": [
    "from statsmodels.stats.outliers_influence import variance_inflation_factor    \n",
    "def calculate_vif_(X, thresh=5.0):\n",
    "    variables = list(range(X.shape[1]))\n",
    "    dropped = True\n",
    "    while dropped:\n",
    "        dropped = False\n",
    "        vif = [variance_inflation_factor(X.iloc[:, variables].values, ix)\n",
    "               for ix in range(X.iloc[:, variables].shape[1])]\n",
    "\n",
    "        maxloc = vif.index(max(vif))\n",
    "        if max(vif) > thresh:\n",
    "            print('dropping \\'' + X.iloc[:, variables].columns[maxloc] +\n",
    "                  '\\' at index: ' + str(maxloc))\n",
    "            del variables[maxloc]\n",
    "            dropped = True\n",
    "\n",
    "    print('Remaining variables:')\n",
    "    print(X.columns[variables])\n",
    "    return X.iloc[:, variables]"
   ]
  },
  {
   "cell_type": "code",
   "execution_count": 114,
   "metadata": {},
   "outputs": [
    {
     "name": "stdout",
     "output_type": "stream",
     "text": [
      "dropping 'sysBP_NaN' at index: 17\n",
      "dropping 'race_1.0' at index: 19\n",
      "dropping 'gender_1.0' at index: 24\n",
      "dropping 'sysBP' at index: 6\n",
      "dropping 'BMI' at index: 0\n",
      "dropping 'fasting_glucose' at index: 3\n",
      "dropping 'diaBP' at index: 4\n",
      "dropping 'HDL' at index: 0\n",
      "dropping 'insulin' at index: 2\n",
      "dropping 'sugar_NaN' at index: 10\n",
      "dropping 'LDL' at index: 0\n",
      "Remaining variables:\n",
      "Index(['age', 'BMI_NaN', 'fasting_glucose_NaN', 'gender_NaN', 'LDL_NaN',\n",
      "       'HDL_NaN', 'insulin_NaN', 'age_NaN', 'race_NaN', 'diaBP_NaN',\n",
      "       'alc_days_year_NaN', 'race_2.0', 'race_3.0', 'race_4.0', 'race_6.0',\n",
      "       'race_7.0', 'gender_2.0'],\n",
      "      dtype='object')\n"
     ]
    },
    {
     "data": {
      "text/html": [
       "<div>\n",
       "<style scoped>\n",
       "    .dataframe tbody tr th:only-of-type {\n",
       "        vertical-align: middle;\n",
       "    }\n",
       "\n",
       "    .dataframe tbody tr th {\n",
       "        vertical-align: top;\n",
       "    }\n",
       "\n",
       "    .dataframe thead th {\n",
       "        text-align: right;\n",
       "    }\n",
       "</style>\n",
       "<table border=\"1\" class=\"dataframe\">\n",
       "  <thead>\n",
       "    <tr style=\"text-align: right;\">\n",
       "      <th></th>\n",
       "      <th>age</th>\n",
       "      <th>BMI_NaN</th>\n",
       "      <th>fasting_glucose_NaN</th>\n",
       "      <th>gender_NaN</th>\n",
       "      <th>LDL_NaN</th>\n",
       "      <th>HDL_NaN</th>\n",
       "      <th>insulin_NaN</th>\n",
       "      <th>age_NaN</th>\n",
       "      <th>race_NaN</th>\n",
       "      <th>diaBP_NaN</th>\n",
       "      <th>alc_days_year_NaN</th>\n",
       "      <th>race_2.0</th>\n",
       "      <th>race_3.0</th>\n",
       "      <th>race_4.0</th>\n",
       "      <th>race_6.0</th>\n",
       "      <th>race_7.0</th>\n",
       "      <th>gender_2.0</th>\n",
       "    </tr>\n",
       "  </thead>\n",
       "  <tbody>\n",
       "    <tr>\n",
       "      <td>2703</td>\n",
       "      <td>50.00000</td>\n",
       "      <td>0.0</td>\n",
       "      <td>0.0</td>\n",
       "      <td>0.0</td>\n",
       "      <td>0.000000</td>\n",
       "      <td>0.0</td>\n",
       "      <td>0.0</td>\n",
       "      <td>0.0</td>\n",
       "      <td>0.0</td>\n",
       "      <td>0.0</td>\n",
       "      <td>1.0</td>\n",
       "      <td>0.0</td>\n",
       "      <td>1.0</td>\n",
       "      <td>0.000000</td>\n",
       "      <td>0.000000</td>\n",
       "      <td>0.0</td>\n",
       "      <td>1.000000</td>\n",
       "    </tr>\n",
       "    <tr>\n",
       "      <td>3574</td>\n",
       "      <td>67.33368</td>\n",
       "      <td>0.0</td>\n",
       "      <td>0.0</td>\n",
       "      <td>0.0</td>\n",
       "      <td>0.000000</td>\n",
       "      <td>0.0</td>\n",
       "      <td>0.0</td>\n",
       "      <td>0.0</td>\n",
       "      <td>0.0</td>\n",
       "      <td>0.0</td>\n",
       "      <td>0.0</td>\n",
       "      <td>0.0</td>\n",
       "      <td>1.0</td>\n",
       "      <td>0.000000</td>\n",
       "      <td>0.000000</td>\n",
       "      <td>0.0</td>\n",
       "      <td>0.000000</td>\n",
       "    </tr>\n",
       "    <tr>\n",
       "      <td>827</td>\n",
       "      <td>31.00000</td>\n",
       "      <td>0.0</td>\n",
       "      <td>0.0</td>\n",
       "      <td>0.0</td>\n",
       "      <td>0.000000</td>\n",
       "      <td>0.0</td>\n",
       "      <td>0.0</td>\n",
       "      <td>0.0</td>\n",
       "      <td>0.0</td>\n",
       "      <td>0.0</td>\n",
       "      <td>1.0</td>\n",
       "      <td>0.0</td>\n",
       "      <td>0.0</td>\n",
       "      <td>0.000000</td>\n",
       "      <td>1.000000</td>\n",
       "      <td>0.0</td>\n",
       "      <td>1.000000</td>\n",
       "    </tr>\n",
       "    <tr>\n",
       "      <td>1447</td>\n",
       "      <td>63.00000</td>\n",
       "      <td>0.0</td>\n",
       "      <td>0.0</td>\n",
       "      <td>0.0</td>\n",
       "      <td>0.000000</td>\n",
       "      <td>0.0</td>\n",
       "      <td>0.0</td>\n",
       "      <td>0.0</td>\n",
       "      <td>0.0</td>\n",
       "      <td>0.0</td>\n",
       "      <td>0.0</td>\n",
       "      <td>0.0</td>\n",
       "      <td>0.0</td>\n",
       "      <td>1.000000</td>\n",
       "      <td>0.000000</td>\n",
       "      <td>0.0</td>\n",
       "      <td>0.000000</td>\n",
       "    </tr>\n",
       "    <tr>\n",
       "      <td>1029</td>\n",
       "      <td>48.00000</td>\n",
       "      <td>0.0</td>\n",
       "      <td>0.0</td>\n",
       "      <td>0.0</td>\n",
       "      <td>0.000000</td>\n",
       "      <td>0.0</td>\n",
       "      <td>0.0</td>\n",
       "      <td>0.0</td>\n",
       "      <td>0.0</td>\n",
       "      <td>0.0</td>\n",
       "      <td>1.0</td>\n",
       "      <td>0.0</td>\n",
       "      <td>0.0</td>\n",
       "      <td>0.000000</td>\n",
       "      <td>0.000000</td>\n",
       "      <td>0.0</td>\n",
       "      <td>1.000000</td>\n",
       "    </tr>\n",
       "    <tr>\n",
       "      <td>...</td>\n",
       "      <td>...</td>\n",
       "      <td>...</td>\n",
       "      <td>...</td>\n",
       "      <td>...</td>\n",
       "      <td>...</td>\n",
       "      <td>...</td>\n",
       "      <td>...</td>\n",
       "      <td>...</td>\n",
       "      <td>...</td>\n",
       "      <td>...</td>\n",
       "      <td>...</td>\n",
       "      <td>...</td>\n",
       "      <td>...</td>\n",
       "      <td>...</td>\n",
       "      <td>...</td>\n",
       "      <td>...</td>\n",
       "      <td>...</td>\n",
       "    </tr>\n",
       "    <tr>\n",
       "      <td>3501</td>\n",
       "      <td>80.00000</td>\n",
       "      <td>0.0</td>\n",
       "      <td>0.0</td>\n",
       "      <td>0.0</td>\n",
       "      <td>0.010235</td>\n",
       "      <td>0.0</td>\n",
       "      <td>0.0</td>\n",
       "      <td>0.0</td>\n",
       "      <td>0.0</td>\n",
       "      <td>0.0</td>\n",
       "      <td>0.0</td>\n",
       "      <td>0.0</td>\n",
       "      <td>0.0</td>\n",
       "      <td>0.989765</td>\n",
       "      <td>0.010235</td>\n",
       "      <td>0.0</td>\n",
       "      <td>0.989765</td>\n",
       "    </tr>\n",
       "    <tr>\n",
       "      <td>256</td>\n",
       "      <td>26.00000</td>\n",
       "      <td>0.0</td>\n",
       "      <td>0.0</td>\n",
       "      <td>0.0</td>\n",
       "      <td>0.000000</td>\n",
       "      <td>0.0</td>\n",
       "      <td>0.0</td>\n",
       "      <td>0.0</td>\n",
       "      <td>0.0</td>\n",
       "      <td>0.0</td>\n",
       "      <td>0.0</td>\n",
       "      <td>0.0</td>\n",
       "      <td>0.0</td>\n",
       "      <td>1.000000</td>\n",
       "      <td>0.000000</td>\n",
       "      <td>0.0</td>\n",
       "      <td>1.000000</td>\n",
       "    </tr>\n",
       "    <tr>\n",
       "      <td>2776</td>\n",
       "      <td>47.00000</td>\n",
       "      <td>0.0</td>\n",
       "      <td>0.0</td>\n",
       "      <td>0.0</td>\n",
       "      <td>0.000000</td>\n",
       "      <td>0.0</td>\n",
       "      <td>0.0</td>\n",
       "      <td>0.0</td>\n",
       "      <td>0.0</td>\n",
       "      <td>0.0</td>\n",
       "      <td>0.0</td>\n",
       "      <td>0.0</td>\n",
       "      <td>0.0</td>\n",
       "      <td>0.000000</td>\n",
       "      <td>1.000000</td>\n",
       "      <td>0.0</td>\n",
       "      <td>0.000000</td>\n",
       "    </tr>\n",
       "    <tr>\n",
       "      <td>2594</td>\n",
       "      <td>35.00000</td>\n",
       "      <td>0.0</td>\n",
       "      <td>0.0</td>\n",
       "      <td>0.0</td>\n",
       "      <td>1.000000</td>\n",
       "      <td>0.0</td>\n",
       "      <td>0.0</td>\n",
       "      <td>0.0</td>\n",
       "      <td>0.0</td>\n",
       "      <td>0.0</td>\n",
       "      <td>0.0</td>\n",
       "      <td>0.0</td>\n",
       "      <td>1.0</td>\n",
       "      <td>0.000000</td>\n",
       "      <td>0.000000</td>\n",
       "      <td>0.0</td>\n",
       "      <td>0.000000</td>\n",
       "    </tr>\n",
       "    <tr>\n",
       "      <td>2452</td>\n",
       "      <td>31.00000</td>\n",
       "      <td>0.0</td>\n",
       "      <td>0.0</td>\n",
       "      <td>0.0</td>\n",
       "      <td>0.000000</td>\n",
       "      <td>0.0</td>\n",
       "      <td>0.0</td>\n",
       "      <td>0.0</td>\n",
       "      <td>0.0</td>\n",
       "      <td>0.0</td>\n",
       "      <td>0.0</td>\n",
       "      <td>0.0</td>\n",
       "      <td>0.0</td>\n",
       "      <td>0.000000</td>\n",
       "      <td>1.000000</td>\n",
       "      <td>0.0</td>\n",
       "      <td>0.000000</td>\n",
       "    </tr>\n",
       "  </tbody>\n",
       "</table>\n",
       "<p>3142 rows × 17 columns</p>\n",
       "</div>"
      ],
      "text/plain": [
       "           age  BMI_NaN  fasting_glucose_NaN  gender_NaN   LDL_NaN  HDL_NaN  \\\n",
       "2703  50.00000      0.0                  0.0         0.0  0.000000      0.0   \n",
       "3574  67.33368      0.0                  0.0         0.0  0.000000      0.0   \n",
       "827   31.00000      0.0                  0.0         0.0  0.000000      0.0   \n",
       "1447  63.00000      0.0                  0.0         0.0  0.000000      0.0   \n",
       "1029  48.00000      0.0                  0.0         0.0  0.000000      0.0   \n",
       "...        ...      ...                  ...         ...       ...      ...   \n",
       "3501  80.00000      0.0                  0.0         0.0  0.010235      0.0   \n",
       "256   26.00000      0.0                  0.0         0.0  0.000000      0.0   \n",
       "2776  47.00000      0.0                  0.0         0.0  0.000000      0.0   \n",
       "2594  35.00000      0.0                  0.0         0.0  1.000000      0.0   \n",
       "2452  31.00000      0.0                  0.0         0.0  0.000000      0.0   \n",
       "\n",
       "      insulin_NaN  age_NaN  race_NaN  diaBP_NaN  alc_days_year_NaN  race_2.0  \\\n",
       "2703          0.0      0.0       0.0        0.0                1.0       0.0   \n",
       "3574          0.0      0.0       0.0        0.0                0.0       0.0   \n",
       "827           0.0      0.0       0.0        0.0                1.0       0.0   \n",
       "1447          0.0      0.0       0.0        0.0                0.0       0.0   \n",
       "1029          0.0      0.0       0.0        0.0                1.0       0.0   \n",
       "...           ...      ...       ...        ...                ...       ...   \n",
       "3501          0.0      0.0       0.0        0.0                0.0       0.0   \n",
       "256           0.0      0.0       0.0        0.0                0.0       0.0   \n",
       "2776          0.0      0.0       0.0        0.0                0.0       0.0   \n",
       "2594          0.0      0.0       0.0        0.0                0.0       0.0   \n",
       "2452          0.0      0.0       0.0        0.0                0.0       0.0   \n",
       "\n",
       "      race_3.0  race_4.0  race_6.0  race_7.0  gender_2.0  \n",
       "2703       1.0  0.000000  0.000000       0.0    1.000000  \n",
       "3574       1.0  0.000000  0.000000       0.0    0.000000  \n",
       "827        0.0  0.000000  1.000000       0.0    1.000000  \n",
       "1447       0.0  1.000000  0.000000       0.0    0.000000  \n",
       "1029       0.0  0.000000  0.000000       0.0    1.000000  \n",
       "...        ...       ...       ...       ...         ...  \n",
       "3501       0.0  0.989765  0.010235       0.0    0.989765  \n",
       "256        0.0  1.000000  0.000000       0.0    1.000000  \n",
       "2776       0.0  0.000000  1.000000       0.0    0.000000  \n",
       "2594       1.0  0.000000  0.000000       0.0    0.000000  \n",
       "2452       0.0  0.000000  1.000000       0.0    0.000000  \n",
       "\n",
       "[3142 rows x 17 columns]"
      ]
     },
     "execution_count": 114,
     "metadata": {},
     "output_type": "execute_result"
    }
   ],
   "source": [
    "calculate_vif_(X_train)"
   ]
  },
  {
   "cell_type": "code",
   "execution_count": 130,
   "metadata": {},
   "outputs": [
    {
     "data": {
      "text/html": [
       "<div>\n",
       "<style scoped>\n",
       "    .dataframe tbody tr th:only-of-type {\n",
       "        vertical-align: middle;\n",
       "    }\n",
       "\n",
       "    .dataframe tbody tr th {\n",
       "        vertical-align: top;\n",
       "    }\n",
       "\n",
       "    .dataframe thead th {\n",
       "        text-align: right;\n",
       "    }\n",
       "</style>\n",
       "<table border=\"1\" class=\"dataframe\">\n",
       "  <thead>\n",
       "    <tr style=\"text-align: right;\">\n",
       "      <th></th>\n",
       "      <th>age</th>\n",
       "      <th>BMI_NaN</th>\n",
       "      <th>fasting_glucose_NaN</th>\n",
       "      <th>gender_NaN</th>\n",
       "      <th>LDL_NaN</th>\n",
       "      <th>HDL_NaN</th>\n",
       "      <th>insulin_NaN</th>\n",
       "      <th>age_NaN</th>\n",
       "      <th>race_NaN</th>\n",
       "      <th>diaBP_NaN</th>\n",
       "      <th>alc_days_year_NaN</th>\n",
       "      <th>race_2.0</th>\n",
       "      <th>race_3.0</th>\n",
       "      <th>race_4.0</th>\n",
       "      <th>race_6.0</th>\n",
       "      <th>race_7.0</th>\n",
       "      <th>gender_2.0</th>\n",
       "    </tr>\n",
       "  </thead>\n",
       "  <tbody>\n",
       "    <tr>\n",
       "      <td>2703</td>\n",
       "      <td>50.00000</td>\n",
       "      <td>0.0</td>\n",
       "      <td>0.0</td>\n",
       "      <td>0.0</td>\n",
       "      <td>0.000000</td>\n",
       "      <td>0.0</td>\n",
       "      <td>0.0</td>\n",
       "      <td>0.0</td>\n",
       "      <td>0.0</td>\n",
       "      <td>0.0</td>\n",
       "      <td>1.0</td>\n",
       "      <td>0.0</td>\n",
       "      <td>1.0</td>\n",
       "      <td>0.000000</td>\n",
       "      <td>0.000000</td>\n",
       "      <td>0.0</td>\n",
       "      <td>1.000000</td>\n",
       "    </tr>\n",
       "    <tr>\n",
       "      <td>3574</td>\n",
       "      <td>67.33368</td>\n",
       "      <td>0.0</td>\n",
       "      <td>0.0</td>\n",
       "      <td>0.0</td>\n",
       "      <td>0.000000</td>\n",
       "      <td>0.0</td>\n",
       "      <td>0.0</td>\n",
       "      <td>0.0</td>\n",
       "      <td>0.0</td>\n",
       "      <td>0.0</td>\n",
       "      <td>0.0</td>\n",
       "      <td>0.0</td>\n",
       "      <td>1.0</td>\n",
       "      <td>0.000000</td>\n",
       "      <td>0.000000</td>\n",
       "      <td>0.0</td>\n",
       "      <td>0.000000</td>\n",
       "    </tr>\n",
       "    <tr>\n",
       "      <td>827</td>\n",
       "      <td>31.00000</td>\n",
       "      <td>0.0</td>\n",
       "      <td>0.0</td>\n",
       "      <td>0.0</td>\n",
       "      <td>0.000000</td>\n",
       "      <td>0.0</td>\n",
       "      <td>0.0</td>\n",
       "      <td>0.0</td>\n",
       "      <td>0.0</td>\n",
       "      <td>0.0</td>\n",
       "      <td>1.0</td>\n",
       "      <td>0.0</td>\n",
       "      <td>0.0</td>\n",
       "      <td>0.000000</td>\n",
       "      <td>1.000000</td>\n",
       "      <td>0.0</td>\n",
       "      <td>1.000000</td>\n",
       "    </tr>\n",
       "    <tr>\n",
       "      <td>1447</td>\n",
       "      <td>63.00000</td>\n",
       "      <td>0.0</td>\n",
       "      <td>0.0</td>\n",
       "      <td>0.0</td>\n",
       "      <td>0.000000</td>\n",
       "      <td>0.0</td>\n",
       "      <td>0.0</td>\n",
       "      <td>0.0</td>\n",
       "      <td>0.0</td>\n",
       "      <td>0.0</td>\n",
       "      <td>0.0</td>\n",
       "      <td>0.0</td>\n",
       "      <td>0.0</td>\n",
       "      <td>1.000000</td>\n",
       "      <td>0.000000</td>\n",
       "      <td>0.0</td>\n",
       "      <td>0.000000</td>\n",
       "    </tr>\n",
       "    <tr>\n",
       "      <td>1029</td>\n",
       "      <td>48.00000</td>\n",
       "      <td>0.0</td>\n",
       "      <td>0.0</td>\n",
       "      <td>0.0</td>\n",
       "      <td>0.000000</td>\n",
       "      <td>0.0</td>\n",
       "      <td>0.0</td>\n",
       "      <td>0.0</td>\n",
       "      <td>0.0</td>\n",
       "      <td>0.0</td>\n",
       "      <td>1.0</td>\n",
       "      <td>0.0</td>\n",
       "      <td>0.0</td>\n",
       "      <td>0.000000</td>\n",
       "      <td>0.000000</td>\n",
       "      <td>0.0</td>\n",
       "      <td>1.000000</td>\n",
       "    </tr>\n",
       "    <tr>\n",
       "      <td>...</td>\n",
       "      <td>...</td>\n",
       "      <td>...</td>\n",
       "      <td>...</td>\n",
       "      <td>...</td>\n",
       "      <td>...</td>\n",
       "      <td>...</td>\n",
       "      <td>...</td>\n",
       "      <td>...</td>\n",
       "      <td>...</td>\n",
       "      <td>...</td>\n",
       "      <td>...</td>\n",
       "      <td>...</td>\n",
       "      <td>...</td>\n",
       "      <td>...</td>\n",
       "      <td>...</td>\n",
       "      <td>...</td>\n",
       "      <td>...</td>\n",
       "    </tr>\n",
       "    <tr>\n",
       "      <td>3501</td>\n",
       "      <td>80.00000</td>\n",
       "      <td>0.0</td>\n",
       "      <td>0.0</td>\n",
       "      <td>0.0</td>\n",
       "      <td>0.010235</td>\n",
       "      <td>0.0</td>\n",
       "      <td>0.0</td>\n",
       "      <td>0.0</td>\n",
       "      <td>0.0</td>\n",
       "      <td>0.0</td>\n",
       "      <td>0.0</td>\n",
       "      <td>0.0</td>\n",
       "      <td>0.0</td>\n",
       "      <td>0.989765</td>\n",
       "      <td>0.010235</td>\n",
       "      <td>0.0</td>\n",
       "      <td>0.989765</td>\n",
       "    </tr>\n",
       "    <tr>\n",
       "      <td>256</td>\n",
       "      <td>26.00000</td>\n",
       "      <td>0.0</td>\n",
       "      <td>0.0</td>\n",
       "      <td>0.0</td>\n",
       "      <td>0.000000</td>\n",
       "      <td>0.0</td>\n",
       "      <td>0.0</td>\n",
       "      <td>0.0</td>\n",
       "      <td>0.0</td>\n",
       "      <td>0.0</td>\n",
       "      <td>0.0</td>\n",
       "      <td>0.0</td>\n",
       "      <td>0.0</td>\n",
       "      <td>1.000000</td>\n",
       "      <td>0.000000</td>\n",
       "      <td>0.0</td>\n",
       "      <td>1.000000</td>\n",
       "    </tr>\n",
       "    <tr>\n",
       "      <td>2776</td>\n",
       "      <td>47.00000</td>\n",
       "      <td>0.0</td>\n",
       "      <td>0.0</td>\n",
       "      <td>0.0</td>\n",
       "      <td>0.000000</td>\n",
       "      <td>0.0</td>\n",
       "      <td>0.0</td>\n",
       "      <td>0.0</td>\n",
       "      <td>0.0</td>\n",
       "      <td>0.0</td>\n",
       "      <td>0.0</td>\n",
       "      <td>0.0</td>\n",
       "      <td>0.0</td>\n",
       "      <td>0.000000</td>\n",
       "      <td>1.000000</td>\n",
       "      <td>0.0</td>\n",
       "      <td>0.000000</td>\n",
       "    </tr>\n",
       "    <tr>\n",
       "      <td>2594</td>\n",
       "      <td>35.00000</td>\n",
       "      <td>0.0</td>\n",
       "      <td>0.0</td>\n",
       "      <td>0.0</td>\n",
       "      <td>1.000000</td>\n",
       "      <td>0.0</td>\n",
       "      <td>0.0</td>\n",
       "      <td>0.0</td>\n",
       "      <td>0.0</td>\n",
       "      <td>0.0</td>\n",
       "      <td>0.0</td>\n",
       "      <td>0.0</td>\n",
       "      <td>1.0</td>\n",
       "      <td>0.000000</td>\n",
       "      <td>0.000000</td>\n",
       "      <td>0.0</td>\n",
       "      <td>0.000000</td>\n",
       "    </tr>\n",
       "    <tr>\n",
       "      <td>2452</td>\n",
       "      <td>31.00000</td>\n",
       "      <td>0.0</td>\n",
       "      <td>0.0</td>\n",
       "      <td>0.0</td>\n",
       "      <td>0.000000</td>\n",
       "      <td>0.0</td>\n",
       "      <td>0.0</td>\n",
       "      <td>0.0</td>\n",
       "      <td>0.0</td>\n",
       "      <td>0.0</td>\n",
       "      <td>0.0</td>\n",
       "      <td>0.0</td>\n",
       "      <td>0.0</td>\n",
       "      <td>0.000000</td>\n",
       "      <td>1.000000</td>\n",
       "      <td>0.0</td>\n",
       "      <td>0.000000</td>\n",
       "    </tr>\n",
       "  </tbody>\n",
       "</table>\n",
       "<p>3142 rows × 17 columns</p>\n",
       "</div>"
      ],
      "text/plain": [
       "           age  BMI_NaN  fasting_glucose_NaN  gender_NaN   LDL_NaN  HDL_NaN  \\\n",
       "2703  50.00000      0.0                  0.0         0.0  0.000000      0.0   \n",
       "3574  67.33368      0.0                  0.0         0.0  0.000000      0.0   \n",
       "827   31.00000      0.0                  0.0         0.0  0.000000      0.0   \n",
       "1447  63.00000      0.0                  0.0         0.0  0.000000      0.0   \n",
       "1029  48.00000      0.0                  0.0         0.0  0.000000      0.0   \n",
       "...        ...      ...                  ...         ...       ...      ...   \n",
       "3501  80.00000      0.0                  0.0         0.0  0.010235      0.0   \n",
       "256   26.00000      0.0                  0.0         0.0  0.000000      0.0   \n",
       "2776  47.00000      0.0                  0.0         0.0  0.000000      0.0   \n",
       "2594  35.00000      0.0                  0.0         0.0  1.000000      0.0   \n",
       "2452  31.00000      0.0                  0.0         0.0  0.000000      0.0   \n",
       "\n",
       "      insulin_NaN  age_NaN  race_NaN  diaBP_NaN  alc_days_year_NaN  race_2.0  \\\n",
       "2703          0.0      0.0       0.0        0.0                1.0       0.0   \n",
       "3574          0.0      0.0       0.0        0.0                0.0       0.0   \n",
       "827           0.0      0.0       0.0        0.0                1.0       0.0   \n",
       "1447          0.0      0.0       0.0        0.0                0.0       0.0   \n",
       "1029          0.0      0.0       0.0        0.0                1.0       0.0   \n",
       "...           ...      ...       ...        ...                ...       ...   \n",
       "3501          0.0      0.0       0.0        0.0                0.0       0.0   \n",
       "256           0.0      0.0       0.0        0.0                0.0       0.0   \n",
       "2776          0.0      0.0       0.0        0.0                0.0       0.0   \n",
       "2594          0.0      0.0       0.0        0.0                0.0       0.0   \n",
       "2452          0.0      0.0       0.0        0.0                0.0       0.0   \n",
       "\n",
       "      race_3.0  race_4.0  race_6.0  race_7.0  gender_2.0  \n",
       "2703       1.0  0.000000  0.000000       0.0    1.000000  \n",
       "3574       1.0  0.000000  0.000000       0.0    0.000000  \n",
       "827        0.0  0.000000  1.000000       0.0    1.000000  \n",
       "1447       0.0  1.000000  0.000000       0.0    0.000000  \n",
       "1029       0.0  0.000000  0.000000       0.0    1.000000  \n",
       "...        ...       ...       ...       ...         ...  \n",
       "3501       0.0  0.989765  0.010235       0.0    0.989765  \n",
       "256        0.0  1.000000  0.000000       0.0    1.000000  \n",
       "2776       0.0  0.000000  1.000000       0.0    0.000000  \n",
       "2594       1.0  0.000000  0.000000       0.0    0.000000  \n",
       "2452       0.0  0.000000  1.000000       0.0    0.000000  \n",
       "\n",
       "[3142 rows x 17 columns]"
      ]
     },
     "execution_count": 130,
     "metadata": {},
     "output_type": "execute_result"
    }
   ],
   "source": [
    "columnsvif=['age', 'BMI_NaN', 'fasting_glucose_NaN', 'gender_NaN', 'LDL_NaN',\n",
    "       'HDL_NaN', 'insulin_NaN', 'age_NaN', 'race_NaN', 'diaBP_NaN',\n",
    "       'alc_days_year_NaN', 'race_2.0', 'race_3.0', 'race_4.0', 'race_6.0',\n",
    "       'race_7.0', 'gender_2.0']\n",
    "X_subsettedVIF = X_train[columnsvif]\n",
    "X_subsettedVIF"
   ]
  },
  {
   "cell_type": "markdown",
   "metadata": {},
   "source": [
    "## Embedded Method-Lasso and Ridge"
   ]
  },
  {
   "cell_type": "code",
   "execution_count": 116,
   "metadata": {},
   "outputs": [
    {
     "name": "stdout",
     "output_type": "stream",
     "text": [
      "Best alpha using built-in LassoCV: 0.004180\n",
      "Best score using built-in LassoCV: 0.499519\n"
     ]
    }
   ],
   "source": [
    "reg = LassoCV()\n",
    "reg.fit(X_train, y_train)\n",
    "print(\"Best alpha using built-in LassoCV: %f\" % reg.alpha_)\n",
    "print(\"Best score using built-in LassoCV: %f\" %reg.score(X_train,y_train))\n",
    "coefLasso = pd.Series(reg.coef_, index = X_train.columns)"
   ]
  },
  {
   "cell_type": "code",
   "execution_count": 117,
   "metadata": {},
   "outputs": [
    {
     "name": "stdout",
     "output_type": "stream",
     "text": [
      "Lasso picked 10 variables and eliminated the other 18 variables\n"
     ]
    }
   ],
   "source": [
    "print(\"Lasso picked \" + str(sum(coefLasso != 0)) + \" variables and eliminated the other \" +  str(sum(coefLasso == 0)) + \" variables\")"
   ]
  },
  {
   "cell_type": "code",
   "execution_count": 118,
   "metadata": {},
   "outputs": [
    {
     "data": {
      "text/plain": [
       "Text(0.5,1,'Feature importance using Lasso Model')"
      ]
     },
     "execution_count": 118,
     "metadata": {},
     "output_type": "execute_result"
    },
    {
     "data": {
      "image/png": "[encoded data removed]",
      "text/plain": [
       "<matplotlib.figure.Figure at 0x2198f652eb8>"
      ]
     },
     "metadata": {},
     "output_type": "display_data"
    }
   ],
   "source": [
    "imp_coefLasso = coefLasso.sort_values()\n",
    "import matplotlib\n",
    "matplotlib.rcParams['figure.figsize'] = (8.0, 10.0)\n",
    "imp_coefLasso.plot(kind = \"barh\")\n",
    "plt.title(\"Feature importance using Lasso Model\")"
   ]
  },
  {
   "cell_type": "code",
   "execution_count": 119,
   "metadata": {},
   "outputs": [
    {
     "data": {
      "text/plain": [
       "BMI                    1.226437e-01\n",
       "HDL                   -0.000000e+00\n",
       "LDL                   -1.127537e-01\n",
       "age                    8.517131e-03\n",
       "fasting_glucose        9.214923e-01\n",
       "insulin                1.683924e-02\n",
       "sysBP                 -0.000000e+00\n",
       "diaBP                  8.250165e-04\n",
       "BMI_NaN               -0.000000e+00\n",
       "fasting_glucose_NaN    0.000000e+00\n",
       "gender_NaN             0.000000e+00\n",
       "LDL_NaN                0.000000e+00\n",
       "HDL_NaN                0.000000e+00\n",
       "insulin_NaN            0.000000e+00\n",
       "age_NaN                0.000000e+00\n",
       "race_NaN               0.000000e+00\n",
       "sugar_NaN             -0.000000e+00\n",
       "sysBP_NaN              0.000000e+00\n",
       "diaBP_NaN              0.000000e+00\n",
       "alc_days_year_NaN      0.000000e+00\n",
       "race_1.0               0.000000e+00\n",
       "race_2.0              -0.000000e+00\n",
       "race_3.0              -9.110803e-02\n",
       "race_4.0               2.661756e-02\n",
       "race_6.0              -0.000000e+00\n",
       "race_7.0              -0.000000e+00\n",
       "gender_1.0            -4.452602e-02\n",
       "gender_2.0             2.561573e-18\n",
       "dtype: float64"
      ]
     },
     "execution_count": 119,
     "metadata": {},
     "output_type": "execute_result"
    }
   ],
   "source": [
    "coefLasso"
   ]
  },
  {
   "cell_type": "code",
   "execution_count": 128,
   "metadata": {},
   "outputs": [
    {
     "data": {
      "text/html": [
       "<div>\n",
       "<style scoped>\n",
       "    .dataframe tbody tr th:only-of-type {\n",
       "        vertical-align: middle;\n",
       "    }\n",
       "\n",
       "    .dataframe tbody tr th {\n",
       "        vertical-align: top;\n",
       "    }\n",
       "\n",
       "    .dataframe thead th {\n",
       "        text-align: right;\n",
       "    }\n",
       "</style>\n",
       "<table border=\"1\" class=\"dataframe\">\n",
       "  <thead>\n",
       "    <tr style=\"text-align: right;\">\n",
       "      <th></th>\n",
       "      <th>age</th>\n",
       "      <th>LDL</th>\n",
       "      <th>BMI</th>\n",
       "      <th>fasting_glucose</th>\n",
       "      <th>insulin</th>\n",
       "      <th>diaBP</th>\n",
       "      <th>race_3.0</th>\n",
       "      <th>race_4.0</th>\n",
       "      <th>gender_1.0</th>\n",
       "      <th>gender_2.0</th>\n",
       "    </tr>\n",
       "  </thead>\n",
       "  <tbody>\n",
       "    <tr>\n",
       "      <td>2703</td>\n",
       "      <td>50.00000</td>\n",
       "      <td>4.008000</td>\n",
       "      <td>3.430756</td>\n",
       "      <td>1.652114</td>\n",
       "      <td>4.235844</td>\n",
       "      <td>81.333333</td>\n",
       "      <td>1.0</td>\n",
       "      <td>0.000000</td>\n",
       "      <td>0.000000</td>\n",
       "      <td>1.000000</td>\n",
       "    </tr>\n",
       "    <tr>\n",
       "      <td>3574</td>\n",
       "      <td>67.33368</td>\n",
       "      <td>2.353307</td>\n",
       "      <td>3.686723</td>\n",
       "      <td>2.167556</td>\n",
       "      <td>5.780459</td>\n",
       "      <td>64.667359</td>\n",
       "      <td>1.0</td>\n",
       "      <td>0.000000</td>\n",
       "      <td>1.000000</td>\n",
       "      <td>0.000000</td>\n",
       "    </tr>\n",
       "    <tr>\n",
       "      <td>827</td>\n",
       "      <td>31.00000</td>\n",
       "      <td>3.569000</td>\n",
       "      <td>3.317816</td>\n",
       "      <td>1.609438</td>\n",
       "      <td>3.797285</td>\n",
       "      <td>60.000000</td>\n",
       "      <td>0.0</td>\n",
       "      <td>0.000000</td>\n",
       "      <td>0.000000</td>\n",
       "      <td>1.000000</td>\n",
       "    </tr>\n",
       "    <tr>\n",
       "      <td>1447</td>\n",
       "      <td>63.00000</td>\n",
       "      <td>2.612000</td>\n",
       "      <td>3.889777</td>\n",
       "      <td>1.682688</td>\n",
       "      <td>5.550398</td>\n",
       "      <td>71.333333</td>\n",
       "      <td>0.0</td>\n",
       "      <td>1.000000</td>\n",
       "      <td>1.000000</td>\n",
       "      <td>0.000000</td>\n",
       "    </tr>\n",
       "    <tr>\n",
       "      <td>1029</td>\n",
       "      <td>48.00000</td>\n",
       "      <td>3.465000</td>\n",
       "      <td>3.608212</td>\n",
       "      <td>1.713978</td>\n",
       "      <td>5.027689</td>\n",
       "      <td>80.000000</td>\n",
       "      <td>0.0</td>\n",
       "      <td>0.000000</td>\n",
       "      <td>0.000000</td>\n",
       "      <td>1.000000</td>\n",
       "    </tr>\n",
       "    <tr>\n",
       "      <td>...</td>\n",
       "      <td>...</td>\n",
       "      <td>...</td>\n",
       "      <td>...</td>\n",
       "      <td>...</td>\n",
       "      <td>...</td>\n",
       "      <td>...</td>\n",
       "      <td>...</td>\n",
       "      <td>...</td>\n",
       "      <td>...</td>\n",
       "      <td>...</td>\n",
       "    </tr>\n",
       "    <tr>\n",
       "      <td>3501</td>\n",
       "      <td>80.00000</td>\n",
       "      <td>1.641310</td>\n",
       "      <td>3.327706</td>\n",
       "      <td>1.319840</td>\n",
       "      <td>4.494586</td>\n",
       "      <td>64.013647</td>\n",
       "      <td>0.0</td>\n",
       "      <td>0.989765</td>\n",
       "      <td>0.010235</td>\n",
       "      <td>0.989765</td>\n",
       "    </tr>\n",
       "    <tr>\n",
       "      <td>256</td>\n",
       "      <td>26.00000</td>\n",
       "      <td>1.267000</td>\n",
       "      <td>3.000720</td>\n",
       "      <td>1.515567</td>\n",
       "      <td>3.854818</td>\n",
       "      <td>63.333333</td>\n",
       "      <td>0.0</td>\n",
       "      <td>1.000000</td>\n",
       "      <td>0.000000</td>\n",
       "      <td>1.000000</td>\n",
       "    </tr>\n",
       "    <tr>\n",
       "      <td>2776</td>\n",
       "      <td>47.00000</td>\n",
       "      <td>2.586000</td>\n",
       "      <td>3.238678</td>\n",
       "      <td>1.772237</td>\n",
       "      <td>3.717467</td>\n",
       "      <td>64.666667</td>\n",
       "      <td>0.0</td>\n",
       "      <td>0.000000</td>\n",
       "      <td>1.000000</td>\n",
       "      <td>0.000000</td>\n",
       "    </tr>\n",
       "    <tr>\n",
       "      <td>2594</td>\n",
       "      <td>35.00000</td>\n",
       "      <td>2.831764</td>\n",
       "      <td>3.535145</td>\n",
       "      <td>2.238580</td>\n",
       "      <td>5.929483</td>\n",
       "      <td>96.000000</td>\n",
       "      <td>1.0</td>\n",
       "      <td>0.000000</td>\n",
       "      <td>1.000000</td>\n",
       "      <td>0.000000</td>\n",
       "    </tr>\n",
       "    <tr>\n",
       "      <td>2452</td>\n",
       "      <td>31.00000</td>\n",
       "      <td>2.560000</td>\n",
       "      <td>3.039749</td>\n",
       "      <td>1.772237</td>\n",
       "      <td>3.474448</td>\n",
       "      <td>66.000000</td>\n",
       "      <td>0.0</td>\n",
       "      <td>0.000000</td>\n",
       "      <td>1.000000</td>\n",
       "      <td>0.000000</td>\n",
       "    </tr>\n",
       "  </tbody>\n",
       "</table>\n",
       "<p>3142 rows × 10 columns</p>\n",
       "</div>"
      ],
      "text/plain": [
       "           age       LDL       BMI  fasting_glucose   insulin      diaBP  \\\n",
       "2703  50.00000  4.008000  3.430756         1.652114  4.235844  81.333333   \n",
       "3574  67.33368  2.353307  3.686723         2.167556  5.780459  64.667359   \n",
       "827   31.00000  3.569000  3.317816         1.609438  3.797285  60.000000   \n",
       "1447  63.00000  2.612000  3.889777         1.682688  5.550398  71.333333   \n",
       "1029  48.00000  3.465000  3.608212         1.713978  5.027689  80.000000   \n",
       "...        ...       ...       ...              ...       ...        ...   \n",
       "3501  80.00000  1.641310  3.327706         1.319840  4.494586  64.013647   \n",
       "256   26.00000  1.267000  3.000720         1.515567  3.854818  63.333333   \n",
       "2776  47.00000  2.586000  3.238678         1.772237  3.717467  64.666667   \n",
       "2594  35.00000  2.831764  3.535145         2.238580  5.929483  96.000000   \n",
       "2452  31.00000  2.560000  3.039749         1.772237  3.474448  66.000000   \n",
       "\n",
       "      race_3.0  race_4.0  gender_1.0  gender_2.0  \n",
       "2703       1.0  0.000000    0.000000    1.000000  \n",
       "3574       1.0  0.000000    1.000000    0.000000  \n",
       "827        0.0  0.000000    0.000000    1.000000  \n",
       "1447       0.0  1.000000    1.000000    0.000000  \n",
       "1029       0.0  0.000000    0.000000    1.000000  \n",
       "...        ...       ...         ...         ...  \n",
       "3501       0.0  0.989765    0.010235    0.989765  \n",
       "256        0.0  1.000000    0.000000    1.000000  \n",
       "2776       0.0  0.000000    1.000000    0.000000  \n",
       "2594       1.0  0.000000    1.000000    0.000000  \n",
       "2452       0.0  0.000000    1.000000    0.000000  \n",
       "\n",
       "[3142 rows x 10 columns]"
      ]
     },
     "execution_count": 128,
     "metadata": {},
     "output_type": "execute_result"
    }
   ],
   "source": [
    "columnsLasso=['age',\"LDL\" ,'BMI',\"fasting_glucose\",\"insulin\" ,\"diaBP\", 'race_3.0', 'race_4.0', 'gender_1.0','gender_2.0']\n",
    "X_subsettedLasso = X_train[columnsLasso]\n",
    "X_subsettedLasso"
   ]
  },
  {
   "cell_type": "code",
   "execution_count": 70,
   "metadata": {},
   "outputs": [
    {
     "name": "stdout",
     "output_type": "stream",
     "text": [
      "Best alpha using built-in RidgeCV: 1.000000\n",
      "Best score using built-in RidgeCV: 0.505345\n"
     ]
    }
   ],
   "source": [
    "from sklearn.linear_model import RidgeCV\n",
    "Rg = RidgeCV()\n",
    "Rg.fit(X_train, y_train)\n",
    "print(\"Best alpha using built-in RidgeCV: %f\" % Rg.alpha_)\n",
    "print(\"Best score using built-in RidgeCV: %f\" % Rg.score(X_train,y_train))\n",
    "coefRidge = pd.Series(Rg.coef_, index = X_train.columns)"
   ]
  },
  {
   "cell_type": "code",
   "execution_count": 72,
   "metadata": {},
   "outputs": [
    {
     "name": "stdout",
     "output_type": "stream",
     "text": [
      "Ridge picked 24 variables and eliminated the other 4 variables\n"
     ]
    }
   ],
   "source": [
    "print(\"Ridge picked \" + str(sum(coefRidge != 0)) + \" variables and eliminated the other \" +  str(sum(coefRidge == 0)) + \" variables\")"
   ]
  },
  {
   "cell_type": "code",
   "execution_count": 73,
   "metadata": {},
   "outputs": [
    {
     "data": {
      "text/plain": [
       "Text(0.5,1,'Feature importance using Ridge Model')"
      ]
     },
     "execution_count": 73,
     "metadata": {},
     "output_type": "execute_result"
    },
    {
     "data": {
      "image/png": "[encoded data removed]",
      "text/plain": [
       "<matplotlib.figure.Figure at 0x2356d3a6e48>"
      ]
     },
     "metadata": {},
     "output_type": "display_data"
    }
   ],
   "source": [
    "imp_coefRidge = coefRidge.sort_values()\n",
    "import matplotlib\n",
    "matplotlib.rcParams['figure.figsize'] = (8.0, 10.0)\n",
    "imp_coefRidge.plot(kind = \"barh\")\n",
    "plt.title(\"Feature importance using Ridge Model\")"
   ]
  },
  {
   "cell_type": "code",
   "execution_count": 74,
   "metadata": {},
   "outputs": [
    {
     "data": {
      "text/plain": [
       "BMI                    0.219123\n",
       "HDL                   -0.267688\n",
       "LDL                   -0.096876\n",
       "age                    0.008342\n",
       "fasting_glucose        1.018744\n",
       "insulin               -0.021666\n",
       "sysBP                 -0.083352\n",
       "diaBP                  0.002165\n",
       "BMI_NaN               -0.078164\n",
       "fasting_glucose_NaN    0.209003\n",
       "gender_NaN             0.000000\n",
       "LDL_NaN               -0.024722\n",
       "HDL_NaN                0.000000\n",
       "insulin_NaN           -0.042204\n",
       "age_NaN                0.000000\n",
       "race_NaN               0.000000\n",
       "sugar_NaN              0.037977\n",
       "sysBP_NaN              0.003976\n",
       "diaBP_NaN              0.003976\n",
       "alc_days_year_NaN      0.021094\n",
       "race_1.0               0.036790\n",
       "race_2.0              -0.024822\n",
       "race_3.0              -0.060278\n",
       "race_4.0               0.119051\n",
       "race_6.0               0.002983\n",
       "race_7.0              -0.073723\n",
       "gender_1.0            -0.037164\n",
       "gender_2.0             0.037164\n",
       "dtype: float64"
      ]
     },
     "execution_count": 74,
     "metadata": {},
     "output_type": "execute_result"
    }
   ],
   "source": [
    "coefRidge"
   ]
  },
  {
   "cell_type": "code",
   "execution_count": 77,
   "metadata": {},
   "outputs": [
    {
     "data": {
      "text/html": [
       "<div>\n",
       "<style scoped>\n",
       "    .dataframe tbody tr th:only-of-type {\n",
       "        vertical-align: middle;\n",
       "    }\n",
       "\n",
       "    .dataframe tbody tr th {\n",
       "        vertical-align: top;\n",
       "    }\n",
       "\n",
       "    .dataframe thead th {\n",
       "        text-align: right;\n",
       "    }\n",
       "</style>\n",
       "<table border=\"1\" class=\"dataframe\">\n",
       "  <thead>\n",
       "    <tr style=\"text-align: right;\">\n",
       "      <th></th>\n",
       "      <th>BMI</th>\n",
       "      <th>HDL</th>\n",
       "      <th>LDL</th>\n",
       "      <th>age</th>\n",
       "      <th>fasting_glucose</th>\n",
       "      <th>insulin</th>\n",
       "      <th>sysBP</th>\n",
       "      <th>diaBP</th>\n",
       "      <th>BMI_NaN</th>\n",
       "      <th>LDL_NaN</th>\n",
       "      <th>...</th>\n",
       "      <th>sugar_NaN</th>\n",
       "      <th>alc_days_year_NaN</th>\n",
       "      <th>race_1.0</th>\n",
       "      <th>race_2.0</th>\n",
       "      <th>race_3.0</th>\n",
       "      <th>race_4.0</th>\n",
       "      <th>race_6.0</th>\n",
       "      <th>race_7.0</th>\n",
       "      <th>gender_1.0</th>\n",
       "      <th>gender_2.0</th>\n",
       "    </tr>\n",
       "  </thead>\n",
       "  <tbody>\n",
       "    <tr>\n",
       "      <td>2093</td>\n",
       "      <td>3.910021</td>\n",
       "      <td>0.698135</td>\n",
       "      <td>2.896000</td>\n",
       "      <td>26.000000</td>\n",
       "      <td>1.733777</td>\n",
       "      <td>4.760121</td>\n",
       "      <td>4.753590</td>\n",
       "      <td>71.333333</td>\n",
       "      <td>0.0</td>\n",
       "      <td>0.0</td>\n",
       "      <td>...</td>\n",
       "      <td>0.0</td>\n",
       "      <td>0.000000</td>\n",
       "      <td>0.000000</td>\n",
       "      <td>0.000000</td>\n",
       "      <td>1.000000</td>\n",
       "      <td>0.0</td>\n",
       "      <td>0.000000</td>\n",
       "      <td>0.0</td>\n",
       "      <td>0.000000</td>\n",
       "      <td>1.000000</td>\n",
       "    </tr>\n",
       "    <tr>\n",
       "      <td>2273</td>\n",
       "      <td>3.299534</td>\n",
       "      <td>0.722706</td>\n",
       "      <td>2.146000</td>\n",
       "      <td>80.000000</td>\n",
       "      <td>1.827287</td>\n",
       "      <td>3.335058</td>\n",
       "      <td>5.159055</td>\n",
       "      <td>82.666667</td>\n",
       "      <td>0.0</td>\n",
       "      <td>0.0</td>\n",
       "      <td>...</td>\n",
       "      <td>1.0</td>\n",
       "      <td>1.000000</td>\n",
       "      <td>0.000000</td>\n",
       "      <td>0.000000</td>\n",
       "      <td>1.000000</td>\n",
       "      <td>0.0</td>\n",
       "      <td>0.000000</td>\n",
       "      <td>0.0</td>\n",
       "      <td>1.000000</td>\n",
       "      <td>0.000000</td>\n",
       "    </tr>\n",
       "    <tr>\n",
       "      <td>5553</td>\n",
       "      <td>3.474481</td>\n",
       "      <td>0.750911</td>\n",
       "      <td>1.836526</td>\n",
       "      <td>65.000000</td>\n",
       "      <td>2.258919</td>\n",
       "      <td>4.120418</td>\n",
       "      <td>4.817011</td>\n",
       "      <td>53.931589</td>\n",
       "      <td>0.0</td>\n",
       "      <td>0.0</td>\n",
       "      <td>...</td>\n",
       "      <td>1.0</td>\n",
       "      <td>0.299128</td>\n",
       "      <td>0.000000</td>\n",
       "      <td>0.700872</td>\n",
       "      <td>0.000000</td>\n",
       "      <td>0.0</td>\n",
       "      <td>0.299128</td>\n",
       "      <td>0.0</td>\n",
       "      <td>1.000000</td>\n",
       "      <td>0.000000</td>\n",
       "    </tr>\n",
       "    <tr>\n",
       "      <td>3186</td>\n",
       "      <td>3.584211</td>\n",
       "      <td>1.056260</td>\n",
       "      <td>2.588021</td>\n",
       "      <td>71.680201</td>\n",
       "      <td>1.869367</td>\n",
       "      <td>4.150114</td>\n",
       "      <td>4.920287</td>\n",
       "      <td>74.680201</td>\n",
       "      <td>0.0</td>\n",
       "      <td>0.0</td>\n",
       "      <td>...</td>\n",
       "      <td>1.0</td>\n",
       "      <td>0.000000</td>\n",
       "      <td>1.000000</td>\n",
       "      <td>0.000000</td>\n",
       "      <td>0.000000</td>\n",
       "      <td>0.0</td>\n",
       "      <td>0.000000</td>\n",
       "      <td>0.0</td>\n",
       "      <td>0.000000</td>\n",
       "      <td>1.000000</td>\n",
       "    </tr>\n",
       "    <tr>\n",
       "      <td>505</td>\n",
       "      <td>3.261935</td>\n",
       "      <td>0.875469</td>\n",
       "      <td>2.483000</td>\n",
       "      <td>41.000000</td>\n",
       "      <td>1.662599</td>\n",
       "      <td>4.107261</td>\n",
       "      <td>4.611815</td>\n",
       "      <td>63.333333</td>\n",
       "      <td>0.0</td>\n",
       "      <td>0.0</td>\n",
       "      <td>...</td>\n",
       "      <td>1.0</td>\n",
       "      <td>0.000000</td>\n",
       "      <td>1.000000</td>\n",
       "      <td>0.000000</td>\n",
       "      <td>0.000000</td>\n",
       "      <td>0.0</td>\n",
       "      <td>0.000000</td>\n",
       "      <td>0.0</td>\n",
       "      <td>0.000000</td>\n",
       "      <td>1.000000</td>\n",
       "    </tr>\n",
       "    <tr>\n",
       "      <td>...</td>\n",
       "      <td>...</td>\n",
       "      <td>...</td>\n",
       "      <td>...</td>\n",
       "      <td>...</td>\n",
       "      <td>...</td>\n",
       "      <td>...</td>\n",
       "      <td>...</td>\n",
       "      <td>...</td>\n",
       "      <td>...</td>\n",
       "      <td>...</td>\n",
       "      <td>...</td>\n",
       "      <td>...</td>\n",
       "      <td>...</td>\n",
       "      <td>...</td>\n",
       "      <td>...</td>\n",
       "      <td>...</td>\n",
       "      <td>...</td>\n",
       "      <td>...</td>\n",
       "      <td>...</td>\n",
       "      <td>...</td>\n",
       "      <td>...</td>\n",
       "    </tr>\n",
       "    <tr>\n",
       "      <td>1574</td>\n",
       "      <td>3.517498</td>\n",
       "      <td>0.722706</td>\n",
       "      <td>3.310000</td>\n",
       "      <td>46.000000</td>\n",
       "      <td>1.619586</td>\n",
       "      <td>5.530143</td>\n",
       "      <td>4.922411</td>\n",
       "      <td>80.666667</td>\n",
       "      <td>0.0</td>\n",
       "      <td>0.0</td>\n",
       "      <td>...</td>\n",
       "      <td>1.0</td>\n",
       "      <td>0.000000</td>\n",
       "      <td>1.000000</td>\n",
       "      <td>0.000000</td>\n",
       "      <td>0.000000</td>\n",
       "      <td>0.0</td>\n",
       "      <td>0.000000</td>\n",
       "      <td>0.0</td>\n",
       "      <td>1.000000</td>\n",
       "      <td>0.000000</td>\n",
       "    </tr>\n",
       "    <tr>\n",
       "      <td>307</td>\n",
       "      <td>3.292126</td>\n",
       "      <td>0.850151</td>\n",
       "      <td>2.043000</td>\n",
       "      <td>39.000000</td>\n",
       "      <td>1.585145</td>\n",
       "      <td>4.247066</td>\n",
       "      <td>4.742029</td>\n",
       "      <td>73.333333</td>\n",
       "      <td>0.0</td>\n",
       "      <td>0.0</td>\n",
       "      <td>...</td>\n",
       "      <td>1.0</td>\n",
       "      <td>0.000000</td>\n",
       "      <td>0.000000</td>\n",
       "      <td>0.000000</td>\n",
       "      <td>0.000000</td>\n",
       "      <td>0.0</td>\n",
       "      <td>1.000000</td>\n",
       "      <td>0.0</td>\n",
       "      <td>0.000000</td>\n",
       "      <td>1.000000</td>\n",
       "    </tr>\n",
       "    <tr>\n",
       "      <td>3828</td>\n",
       "      <td>3.512104</td>\n",
       "      <td>0.909058</td>\n",
       "      <td>1.959777</td>\n",
       "      <td>75.290277</td>\n",
       "      <td>1.889376</td>\n",
       "      <td>4.482747</td>\n",
       "      <td>4.998557</td>\n",
       "      <td>59.806482</td>\n",
       "      <td>0.0</td>\n",
       "      <td>0.0</td>\n",
       "      <td>...</td>\n",
       "      <td>1.0</td>\n",
       "      <td>0.645139</td>\n",
       "      <td>0.645139</td>\n",
       "      <td>0.000000</td>\n",
       "      <td>0.354861</td>\n",
       "      <td>0.0</td>\n",
       "      <td>0.000000</td>\n",
       "      <td>0.0</td>\n",
       "      <td>0.354861</td>\n",
       "      <td>0.645139</td>\n",
       "    </tr>\n",
       "    <tr>\n",
       "      <td>3117</td>\n",
       "      <td>3.540959</td>\n",
       "      <td>0.737164</td>\n",
       "      <td>2.833058</td>\n",
       "      <td>42.000000</td>\n",
       "      <td>1.713798</td>\n",
       "      <td>5.052545</td>\n",
       "      <td>4.747826</td>\n",
       "      <td>65.333333</td>\n",
       "      <td>0.0</td>\n",
       "      <td>1.0</td>\n",
       "      <td>...</td>\n",
       "      <td>1.0</td>\n",
       "      <td>1.000000</td>\n",
       "      <td>1.000000</td>\n",
       "      <td>0.000000</td>\n",
       "      <td>0.000000</td>\n",
       "      <td>0.0</td>\n",
       "      <td>0.000000</td>\n",
       "      <td>0.0</td>\n",
       "      <td>0.000000</td>\n",
       "      <td>1.000000</td>\n",
       "    </tr>\n",
       "    <tr>\n",
       "      <td>330</td>\n",
       "      <td>3.339322</td>\n",
       "      <td>0.819780</td>\n",
       "      <td>2.896000</td>\n",
       "      <td>67.000000</td>\n",
       "      <td>1.733424</td>\n",
       "      <td>4.087320</td>\n",
       "      <td>4.637960</td>\n",
       "      <td>42.000000</td>\n",
       "      <td>0.0</td>\n",
       "      <td>0.0</td>\n",
       "      <td>...</td>\n",
       "      <td>1.0</td>\n",
       "      <td>0.000000</td>\n",
       "      <td>0.000000</td>\n",
       "      <td>0.000000</td>\n",
       "      <td>0.000000</td>\n",
       "      <td>1.0</td>\n",
       "      <td>0.000000</td>\n",
       "      <td>0.0</td>\n",
       "      <td>0.000000</td>\n",
       "      <td>1.000000</td>\n",
       "    </tr>\n",
       "  </tbody>\n",
       "</table>\n",
       "<p>3164 rows × 21 columns</p>\n",
       "</div>"
      ],
      "text/plain": [
       "           BMI       HDL       LDL        age  fasting_glucose   insulin  \\\n",
       "2093  3.910021  0.698135  2.896000  26.000000         1.733777  4.760121   \n",
       "2273  3.299534  0.722706  2.146000  80.000000         1.827287  3.335058   \n",
       "5553  3.474481  0.750911  1.836526  65.000000         2.258919  4.120418   \n",
       "3186  3.584211  1.056260  2.588021  71.680201         1.869367  4.150114   \n",
       "505   3.261935  0.875469  2.483000  41.000000         1.662599  4.107261   \n",
       "...        ...       ...       ...        ...              ...       ...   \n",
       "1574  3.517498  0.722706  3.310000  46.000000         1.619586  5.530143   \n",
       "307   3.292126  0.850151  2.043000  39.000000         1.585145  4.247066   \n",
       "3828  3.512104  0.909058  1.959777  75.290277         1.889376  4.482747   \n",
       "3117  3.540959  0.737164  2.833058  42.000000         1.713798  5.052545   \n",
       "330   3.339322  0.819780  2.896000  67.000000         1.733424  4.087320   \n",
       "\n",
       "         sysBP      diaBP  BMI_NaN  LDL_NaN  ...  sugar_NaN  \\\n",
       "2093  4.753590  71.333333      0.0      0.0  ...        0.0   \n",
       "2273  5.159055  82.666667      0.0      0.0  ...        1.0   \n",
       "5553  4.817011  53.931589      0.0      0.0  ...        1.0   \n",
       "3186  4.920287  74.680201      0.0      0.0  ...        1.0   \n",
       "505   4.611815  63.333333      0.0      0.0  ...        1.0   \n",
       "...        ...        ...      ...      ...  ...        ...   \n",
       "1574  4.922411  80.666667      0.0      0.0  ...        1.0   \n",
       "307   4.742029  73.333333      0.0      0.0  ...        1.0   \n",
       "3828  4.998557  59.806482      0.0      0.0  ...        1.0   \n",
       "3117  4.747826  65.333333      0.0      1.0  ...        1.0   \n",
       "330   4.637960  42.000000      0.0      0.0  ...        1.0   \n",
       "\n",
       "      alc_days_year_NaN  race_1.0  race_2.0  race_3.0  race_4.0  race_6.0  \\\n",
       "2093           0.000000  0.000000  0.000000  1.000000       0.0  0.000000   \n",
       "2273           1.000000  0.000000  0.000000  1.000000       0.0  0.000000   \n",
       "5553           0.299128  0.000000  0.700872  0.000000       0.0  0.299128   \n",
       "3186           0.000000  1.000000  0.000000  0.000000       0.0  0.000000   \n",
       "505            0.000000  1.000000  0.000000  0.000000       0.0  0.000000   \n",
       "...                 ...       ...       ...       ...       ...       ...   \n",
       "1574           0.000000  1.000000  0.000000  0.000000       0.0  0.000000   \n",
       "307            0.000000  0.000000  0.000000  0.000000       0.0  1.000000   \n",
       "3828           0.645139  0.645139  0.000000  0.354861       0.0  0.000000   \n",
       "3117           1.000000  1.000000  0.000000  0.000000       0.0  0.000000   \n",
       "330            0.000000  0.000000  0.000000  0.000000       1.0  0.000000   \n",
       "\n",
       "      race_7.0  gender_1.0  gender_2.0  \n",
       "2093       0.0    0.000000    1.000000  \n",
       "2273       0.0    1.000000    0.000000  \n",
       "5553       0.0    1.000000    0.000000  \n",
       "3186       0.0    0.000000    1.000000  \n",
       "505        0.0    0.000000    1.000000  \n",
       "...        ...         ...         ...  \n",
       "1574       0.0    1.000000    0.000000  \n",
       "307        0.0    0.000000    1.000000  \n",
       "3828       0.0    0.354861    0.645139  \n",
       "3117       0.0    0.000000    1.000000  \n",
       "330        0.0    0.000000    1.000000  \n",
       "\n",
       "[3164 rows x 21 columns]"
      ]
     },
     "execution_count": 77,
     "metadata": {},
     "output_type": "execute_result"
    }
   ],
   "source": [
    "columnsRidge=['BMI', 'HDL', 'LDL', 'age', 'fasting_glucose', 'insulin', 'sysBP',\n",
    "       'diaBP', 'BMI_NaN', 'LDL_NaN', 'insulin_NaN', 'sugar_NaN',\n",
    "       'alc_days_year_NaN', 'race_1.0','race_2.0' ,'race_3.0', 'race_4.0','race_6.0', 'race_7.0',\n",
    "       'gender_1.0','gender_2.0']\n",
    "X_subsettedRidge = X_train[columnsRidge]\n",
    "X_subsettedRidge"
   ]
  },
  {
   "cell_type": "code",
   "execution_count": 101,
   "metadata": {},
   "outputs": [],
   "source": [
    "from sklearn.preprocessing import MinMaxScaler\n",
    "minmax=MinMaxScaler()\n",
    "xScaled=minmax.fit_transform(X_train)"
   ]
  },
  {
   "cell_type": "code",
   "execution_count": 102,
   "metadata": {},
   "outputs": [
    {
     "data": {
      "image/png": "[encoded data removed]",
      "text/plain": [
       "<matplotlib.figure.Figure at 0x2356ceb4b00>"
      ]
     },
     "metadata": {},
     "output_type": "display_data"
    },
    {
     "data": {
      "image/png": "[encoded data removed]",
      "text/plain": [
       "<matplotlib.figure.Figure at 0x2356891ce48>"
      ]
     },
     "metadata": {},
     "output_type": "display_data"
    }
   ],
   "source": [
    "lasso=Lasso()\n",
    "lasso.fit(xScaled,y_train)\n",
    "lassocoeff = pd.Series((lasso.coef_), index=X_train.columns)\n",
    "lassocoeff.sort_values(ascending=True).plot(kind='barh')\n",
    "plt.show()\n",
    "normLasso = lassocoeff/np.linalg.norm(lassocoeff)\n",
    "normLasso = pd.Series(abs(normLasso), index=X_train.columns)\n",
    "normLasso.sort_values(ascending=True).plot(kind='barh')\n",
    "plt.show()"
   ]
  },
  {
   "cell_type": "code",
   "execution_count": 103,
   "metadata": {},
   "outputs": [
    {
     "data": {
      "image/png": "[encoded data removed]",
      "text/plain": [
       "<matplotlib.figure.Figure at 0x23568748f60>"
      ]
     },
     "metadata": {},
     "output_type": "display_data"
    },
    {
     "data": {
      "image/png": "[encoded data removed]",
      "text/plain": [
       "<matplotlib.figure.Figure at 0x23567a2e198>"
      ]
     },
     "metadata": {},
     "output_type": "display_data"
    }
   ],
   "source": [
    "from sklearn.linear_model import Ridge\n",
    "ridge=Ridge()\n",
    "ridge.fit(xScaled,y_train)\n",
    "Ridgecoeff = pd.Series((ridge.coef_), index=X_train.columns)\n",
    "Ridgecoeff.sort_values(ascending=True).plot(kind='barh')\n",
    "plt.show()\n",
    "normRidge = Ridgecoeff/np.linalg.norm(Ridgecoeff)\n",
    "normRidge = pd.Series(abs(normRidge), index=X_train.columns)\n",
    "normRidge.sort_values(ascending=True).plot(kind='barh')\n",
    "plt.show()"
   ]
  },
  {
   "cell_type": "markdown",
   "metadata": {},
   "source": [
    "## Mixed Method"
   ]
  },
  {
   "cell_type": "code",
   "execution_count": 109,
   "metadata": {},
   "outputs": [],
   "source": [
    "weight1= np.random.randint(1,10)/10\n",
    "weight2= np.random.randint(1,10)/10\n",
    "weight3= np.random.randint(1,10)/10\n",
    "weight4= np.random.randint(1,10)/10\n",
    "weight5= np.random.randint(1,10)/10\n",
    "weight6= np.random.randint(1,10)/10\n",
    "weightSum=weight1+weight2+weight3+weight4+weight6"
   ]
  },
  {
   "cell_type": "code",
   "execution_count": 110,
   "metadata": {},
   "outputs": [],
   "source": [
    "feat=(weight1*feat_importances1+weight2*feat_importances2+weight3*feat_importances3+weight4*feat_importances4+weight6*normRidge)/(weightSum)"
   ]
  },
  {
   "cell_type": "code",
   "execution_count": 111,
   "metadata": {},
   "outputs": [
    {
     "data": {
      "image/png": "[encoded data removed]",
      "text/plain": [
       "<matplotlib.figure.Figure at 0x2356d307b00>"
      ]
     },
     "metadata": {},
     "output_type": "display_data"
    }
   ],
   "source": [
    "feat.sort_values(ascending=True).plot(kind='barh')\n",
    "plt.show()"
   ]
  },
  {
   "cell_type": "markdown",
   "metadata": {},
   "source": [
    "# Modelling"
   ]
  },
  {
   "cell_type": "markdown",
   "metadata": {},
   "source": [
    "### Random Forest"
   ]
  },
  {
   "cell_type": "code",
   "execution_count": 121,
   "metadata": {
    "scrolled": true
   },
   "outputs": [
    {
     "name": "stdout",
     "output_type": "stream",
     "text": [
      "Fitting 5 folds for each of 100 candidates, totalling 500 fits\n"
     ]
    },
    {
     "name": "stderr",
     "output_type": "stream",
     "text": [
      "[Parallel(n_jobs=-1)]: Using backend LokyBackend with 4 concurrent workers.\n",
      "[Parallel(n_jobs=-1)]: Done  33 tasks      | elapsed:    9.2s\n",
      "[Parallel(n_jobs=-1)]: Done 154 tasks      | elapsed:   28.6s\n",
      "[Parallel(n_jobs=-1)]: Done 357 tasks      | elapsed:  1.1min\n",
      "[Parallel(n_jobs=-1)]: Done 500 out of 500 | elapsed:  1.5min finished\n"
     ]
    },
    {
     "name": "stdout",
     "output_type": "stream",
     "text": [
      "The best accuracy of 0.9229789942711648 from cross validation is given by 86 estimators 4 max features 10 max_depth 30 min samples split 10 min samples leaf True bootstrap parameters\n",
      "The Training set accuracy of the cross-validated random forest model is 0.9462126034373011\n",
      "The Validation set accuracy of the cross-validated random forest model is 0.9173027989821882\n",
      "The Test set accuracy of the cross-validated random forest model is 0.9239904988123515\n",
      "The precision is 0.9406060606060606 recall is 0.9076023391812865 fscore is 0.9238095238095237\n",
      "Average Time to Fit (s):0.632\n",
      "Average Time to Score (s):0.021\n"
     ]
    }
   ],
   "source": [
    "from sklearn.ensemble import RandomForestClassifier\n",
    "from sklearn.metrics import accuracy_score\n",
    "from sklearn.model_selection import RandomizedSearchCV\n",
    "from pprint import pprint\n",
    "\n",
    "# Number of trees in random forest\n",
    "n_estimators = [int(x) for x in np.linspace(start = 5, stop = 105, num = 50)]\n",
    "# Number of features to consider at every split\n",
    "max_features = list(range(1,X_train.shape[1]))\n",
    "# Maximum number of levels in tree\n",
    "max_depth = [int(x) for x in np.linspace(10, 50, num = 10)]\n",
    "# Minimum number of samples required to split a node\n",
    "min_samples_split = [10,20,30,40,50]\n",
    "# Minimum number of samples required at each leaf node\n",
    "min_samples_leaf = [10,20,30,40,50] \n",
    "# Method of selecting samples for training each tree\n",
    "bootstrap = [True]\n",
    "# Create  random grid\n",
    "random_grid = {'n_estimators': n_estimators,\n",
    "               'max_features': max_features,\n",
    "               'max_depth': max_depth,\n",
    "               'min_samples_split': min_samples_split,\n",
    "               'min_samples_leaf': min_samples_leaf,\n",
    "               'bootstrap': bootstrap}\n",
    "rf = RandomForestClassifier(random_state = 42, criterion= 'gini')\n",
    "rf_random = RandomizedSearchCV(estimator = rf, param_distributions = random_grid, n_iter = 100, cv = 5, verbose=2, random_state=42, n_jobs = -1)\n",
    "rf_random.fit(X_train, y_train)\n",
    "estimators = rf_random.best_params_['n_estimators']\n",
    "features = rf_random.best_params_['max_features']\n",
    "depth = rf_random.best_params_['max_depth']\n",
    "samples_split_min = rf_random.best_params_['min_samples_split']\n",
    "samples_leaf_min = rf_random.best_params_['min_samples_leaf']\n",
    "bstrap = rf_random.best_params_['bootstrap']\n",
    "rf_random.best_score_\n",
    "print(\"The best accuracy of\", rf_random.best_score_, \"from cross validation is given by\",estimators , \"estimators\", features, \"max features\", depth, \"max_depth\",samples_split_min, \"min samples split\", samples_leaf_min,\"min samples leaf\", bstrap, \"bootstrap\", \"parameters\" )\n",
    "rf_final = RandomForestClassifier(n_estimators=estimators,max_features=features,max_depth=depth,  min_samples_split=samples_split_min,  min_samples_leaf=samples_leaf_min, bootstrap =  True , random_state=42, criterion= 'gini')   \n",
    "rf_model = rf_final.fit(X_train, y_train)\n",
    "\n",
    "rf_predictions_train = rf_final.predict(X_train)\n",
    "rf_accuracy_train = accuracy_score(y_train, rf_predictions_train)\n",
    "print(\"The Training set accuracy of the cross-validated random forest model is\", rf_accuracy_train)\n",
    "\n",
    "rf_predictions_val = rf_final.predict(X_val)\n",
    "rf_accuracy_val = accuracy_score(y_val, rf_predictions_val)\n",
    "print(\"The Validation set accuracy of the cross-validated random forest model is\", rf_accuracy_val)\n",
    "\n",
    "rf_predictions_test = rf_final.predict(X_test)\n",
    "rf_accuracy_test = accuracy_score(y_test, rf_predictions_test)\n",
    "print(\"The Test set accuracy of the cross-validated random forest model is\", rf_accuracy_test)\n",
    "\n",
    "#y_test = pd.Series(y_test)\n",
    "#rf_predictions_test = pd.Series(rf_predictions_test)\n",
    "#rf_confusion_test = pd.crosstab(y_test, rf_predictions_test)\n",
    "#print(rf_confusion_test)\n",
    "rf_other_metrics = list(precision_recall_fscore_support(y_test, rf_predictions_test, average='binary'))\n",
    "print(\"The precision is\", rf_other_metrics[0], \"recall is\", rf_other_metrics[1], \"fscore is\", rf_other_metrics[2])\n",
    "\n",
    "print (\"Average Time to Fit (s):{}\".format(round(rf_random.cv_results_['mean_fit_time'].mean(), 3)))\n",
    "# the average time it took a model to predict out of sample data (in seconds)\n",
    "# this metric gives us insight into how this model will perform in real-time analysis\n",
    "print (\"Average Time to Score (s):{}\".format(round(rf_random.cv_results_['mean_score_time'].mean(), 3)))"
   ]
  },
  {
   "cell_type": "code",
   "execution_count": 125,
   "metadata": {},
   "outputs": [
    {
     "name": "stdout",
     "output_type": "stream",
     "text": [
      "Fitting 5 folds for each of 100 candidates, totalling 500 fits\n"
     ]
    },
    {
     "name": "stderr",
     "output_type": "stream",
     "text": [
      "[Parallel(n_jobs=-1)]: Using backend LokyBackend with 4 concurrent workers.\n",
      "[Parallel(n_jobs=-1)]: Done  33 tasks      | elapsed:    8.5s\n",
      "[Parallel(n_jobs=-1)]: Done 154 tasks      | elapsed:   18.2s\n",
      "[Parallel(n_jobs=-1)]: Done 357 tasks      | elapsed:   48.5s\n",
      "[Parallel(n_jobs=-1)]: Done 500 out of 500 | elapsed:  1.0min finished\n"
     ]
    },
    {
     "name": "stdout",
     "output_type": "stream",
     "text": [
      "The best accuracy of 0.9210693825588797 from cross validation is given by 66 estimators 2 max features 50 max_depth 20 min samples split 10 min samples leaf True bootstrap parameters\n",
      "The Training set accuracy of the cross-validated random forest model is 0.9455760661998727\n",
      "The Validation set accuracy of the cross-validated random forest model is 0.9223918575063613\n",
      "The Test set accuracy of the cross-validated random forest model is 0.9245843230403801\n",
      "The precision is 0.9449877750611247 recall is 0.904093567251462 fscore is 0.9240884638374178\n",
      "Average Time to Fit (s):0.441\n",
      "Average Time to Score (s):0.017\n"
     ]
    }
   ],
   "source": [
    "from sklearn.ensemble import RandomForestClassifier\n",
    "from sklearn.metrics import accuracy_score\n",
    "from sklearn.model_selection import RandomizedSearchCV\n",
    "from pprint import pprint\n",
    "\n",
    "# Number of trees in random forest\n",
    "n_estimators = [int(x) for x in np.linspace(start = 5, stop = 105, num = 50)]\n",
    "# Number of features to consider at every split\n",
    "max_features = list(range(1,X_train[columnspvalue].shape[1]))\n",
    "# Maximum number of levels in tree\n",
    "max_depth = [int(x) for x in np.linspace(10, 50, num = 10)]\n",
    "# Minimum number of samples required to split a node\n",
    "min_samples_split = [10,20,30,40,50]\n",
    "# Minimum number of samples required at each leaf node\n",
    "min_samples_leaf = [10,20,30,40,50] \n",
    "# Method of selecting samples for training each tree\n",
    "bootstrap = [True]\n",
    "# Create  random grid\n",
    "random_grid = {'n_estimators': n_estimators,\n",
    "               'max_features': max_features,\n",
    "               'max_depth': max_depth,\n",
    "               'min_samples_split': min_samples_split,\n",
    "               'min_samples_leaf': min_samples_leaf,\n",
    "               'bootstrap': bootstrap}\n",
    "rf = RandomForestClassifier(random_state = 42, criterion= 'gini')\n",
    "rf_random = RandomizedSearchCV(estimator = rf, param_distributions = random_grid, n_iter = 100, cv = 5, verbose=2, random_state=42, n_jobs = -1)\n",
    "rf_random.fit(X_train[columnspvalue], y_train)\n",
    "estimators = rf_random.best_params_['n_estimators']\n",
    "features = rf_random.best_params_['max_features']\n",
    "depth = rf_random.best_params_['max_depth']\n",
    "samples_split_min = rf_random.best_params_['min_samples_split']\n",
    "samples_leaf_min = rf_random.best_params_['min_samples_leaf']\n",
    "bstrap = rf_random.best_params_['bootstrap']\n",
    "rf_random.best_score_\n",
    "print(\"The best accuracy of\", rf_random.best_score_, \"from cross validation is given by\",estimators , \"estimators\", features, \"max features\", depth, \"max_depth\",samples_split_min, \"min samples split\", samples_leaf_min,\"min samples leaf\", bstrap, \"bootstrap\", \"parameters\" )\n",
    "rf_final = RandomForestClassifier(n_estimators=estimators,max_features=features,max_depth=depth,  min_samples_split=samples_split_min,  min_samples_leaf=samples_leaf_min, bootstrap =  True , random_state=42, criterion= 'gini')   \n",
    "rf_model = rf_final.fit(X_train[columnspvalue], y_train)\n",
    "\n",
    "rf_predictions_train = rf_final.predict(X_train[columnspvalue])\n",
    "rf_accuracy_train = accuracy_score(y_train, rf_predictions_train)\n",
    "print(\"The Training set accuracy of the cross-validated random forest model is\", rf_accuracy_train)\n",
    "\n",
    "rf_predictions_val = rf_final.predict(X_val[columnspvalue])\n",
    "rf_accuracy_val = accuracy_score(y_val, rf_predictions_val)\n",
    "print(\"The Validation set accuracy of the cross-validated random forest model is\", rf_accuracy_val)\n",
    "\n",
    "rf_predictions_test = rf_final.predict(X_test[columnspvalue])\n",
    "rf_accuracy_test = accuracy_score(y_test, rf_predictions_test)\n",
    "print(\"The Test set accuracy of the cross-validated random forest model is\", rf_accuracy_test)\n",
    "\n",
    "#y_test = pd.Series(y_test)\n",
    "#rf_predictions_test = pd.Series(rf_predictions_test)\n",
    "#rf_confusion_test = pd.crosstab(y_test, rf_predictions_test)\n",
    "#print(rf_confusion_test)\n",
    "rf_other_metrics = list(precision_recall_fscore_support(y_test, rf_predictions_test, average='binary'))\n",
    "print(\"The precision is\", rf_other_metrics[0], \"recall is\", rf_other_metrics[1], \"fscore is\", rf_other_metrics[2])\n",
    "\n",
    "print (\"Average Time to Fit (s):{}\".format(round(rf_random.cv_results_['mean_fit_time'].mean(), 3)))\n",
    "# the average time it took a model to predict out of sample data (in seconds)\n",
    "# this metric gives us insight into how this model will perform in real-time analysis\n",
    "print (\"Average Time to Score (s):{}\".format(round(rf_random.cv_results_['mean_score_time'].mean(), 3)))"
   ]
  },
  {
   "cell_type": "code",
   "execution_count": 127,
   "metadata": {},
   "outputs": [
    {
     "name": "stdout",
     "output_type": "stream",
     "text": [
      "Fitting 5 folds for each of 100 candidates, totalling 500 fits\n"
     ]
    },
    {
     "name": "stderr",
     "output_type": "stream",
     "text": [
      "[Parallel(n_jobs=-1)]: Using backend LokyBackend with 4 concurrent workers.\n",
      "[Parallel(n_jobs=-1)]: Done  33 tasks      | elapsed:    9.2s\n",
      "[Parallel(n_jobs=-1)]: Done 154 tasks      | elapsed:   20.9s\n",
      "[Parallel(n_jobs=-1)]: Done 357 tasks      | elapsed:   46.9s\n",
      "[Parallel(n_jobs=-1)]: Done 500 out of 500 | elapsed:  1.1min finished\n"
     ]
    },
    {
     "name": "stdout",
     "output_type": "stream",
     "text": [
      "The best accuracy of 0.9048376830044558 from cross validation is given by 82 estimators 2 max features 41 max_depth 10 min samples split 10 min samples leaf True bootstrap parameters\n",
      "The Training set accuracy of the cross-validated random forest model is 0.9404837683004456\n",
      "The Validation set accuracy of the cross-validated random forest model is 0.9096692111959288\n",
      "The Test set accuracy of the cross-validated random forest model is 0.9156769596199525\n",
      "The precision is 0.9290012033694344 recall is 0.9029239766081871 fscore is 0.9157769869513642\n",
      "Average Time to Fit (s):0.441\n",
      "Average Time to Score (s):0.018\n"
     ]
    }
   ],
   "source": [
    "from sklearn.ensemble import RandomForestClassifier\n",
    "from sklearn.metrics import accuracy_score\n",
    "from sklearn.model_selection import RandomizedSearchCV\n",
    "from pprint import pprint\n",
    "\n",
    "# Number of trees in random forest\n",
    "n_estimators = [int(x) for x in np.linspace(start = 5, stop = 105, num = 50)]\n",
    "# Number of features to consider at every split\n",
    "max_features = list(range(1,X_train[columnstree].shape[1]))\n",
    "# Maximum number of levels in tree\n",
    "max_depth = [int(x) for x in np.linspace(10, 50, num = 10)]\n",
    "# Minimum number of samples required to split a node\n",
    "min_samples_split = [10,20,30,40,50]\n",
    "# Minimum number of samples required at each leaf node\n",
    "min_samples_leaf = [10,20,30,40,50] \n",
    "# Method of selecting samples for training each tree\n",
    "bootstrap = [True]\n",
    "# Create  random grid\n",
    "random_grid = {'n_estimators': n_estimators,\n",
    "               'max_features': max_features,\n",
    "               'max_depth': max_depth,\n",
    "               'min_samples_split': min_samples_split,\n",
    "               'min_samples_leaf': min_samples_leaf,\n",
    "               'bootstrap': bootstrap}\n",
    "rf = RandomForestClassifier(random_state = 42, criterion= 'gini')\n",
    "rf_random = RandomizedSearchCV(estimator = rf, param_distributions = random_grid, n_iter = 100, cv = 5, verbose=2, random_state=42, n_jobs = -1)\n",
    "rf_random.fit(X_train[columnstree], y_train)\n",
    "estimators = rf_random.best_params_['n_estimators']\n",
    "features = rf_random.best_params_['max_features']\n",
    "depth = rf_random.best_params_['max_depth']\n",
    "samples_split_min = rf_random.best_params_['min_samples_split']\n",
    "samples_leaf_min = rf_random.best_params_['min_samples_leaf']\n",
    "bstrap = rf_random.best_params_['bootstrap']\n",
    "rf_random.best_score_\n",
    "print(\"The best accuracy of\", rf_random.best_score_, \"from cross validation is given by\",estimators , \"estimators\", features, \"max features\", depth, \"max_depth\",samples_split_min, \"min samples split\", samples_leaf_min,\"min samples leaf\", bstrap, \"bootstrap\", \"parameters\" )\n",
    "rf_final = RandomForestClassifier(n_estimators=estimators,max_features=features,max_depth=depth,  min_samples_split=samples_split_min,  min_samples_leaf=samples_leaf_min, bootstrap =  True , random_state=42, criterion= 'gini')   \n",
    "rf_model = rf_final.fit(X_train[columnstree], y_train)\n",
    "\n",
    "rf_predictions_train = rf_final.predict(X_train[columnstree])\n",
    "rf_accuracy_train = accuracy_score(y_train, rf_predictions_train)\n",
    "print(\"The Training set accuracy of the cross-validated random forest model is\", rf_accuracy_train)\n",
    "\n",
    "rf_predictions_val = rf_final.predict(X_val[columnstree])\n",
    "rf_accuracy_val = accuracy_score(y_val, rf_predictions_val)\n",
    "print(\"The Validation set accuracy of the cross-validated random forest model is\", rf_accuracy_val)\n",
    "\n",
    "rf_predictions_test = rf_final.predict(X_test[columnstree])\n",
    "rf_accuracy_test = accuracy_score(y_test, rf_predictions_test)\n",
    "print(\"The Test set accuracy of the cross-validated random forest model is\", rf_accuracy_test)\n",
    "\n",
    "#y_test = pd.Series(y_test)\n",
    "#rf_predictions_test = pd.Series(rf_predictions_test)\n",
    "#rf_confusion_test = pd.crosstab(y_test, rf_predictions_test)\n",
    "#print(rf_confusion_test)\n",
    "rf_other_metrics = list(precision_recall_fscore_support(y_test, rf_predictions_test, average='binary'))\n",
    "print(\"The precision is\", rf_other_metrics[0], \"recall is\", rf_other_metrics[1], \"fscore is\", rf_other_metrics[2])\n",
    "\n",
    "print (\"Average Time to Fit (s):{}\".format(round(rf_random.cv_results_['mean_fit_time'].mean(), 3)))\n",
    "# the average time it took a model to predict out of sample data (in seconds)\n",
    "# this metric gives us insight into how this model will perform in real-time analysis\n",
    "print (\"Average Time to Score (s):{}\".format(round(rf_random.cv_results_['mean_score_time'].mean(), 3)))"
   ]
  },
  {
   "cell_type": "code",
   "execution_count": 131,
   "metadata": {},
   "outputs": [
    {
     "name": "stdout",
     "output_type": "stream",
     "text": [
      "Fitting 5 folds for each of 100 candidates, totalling 500 fits\n"
     ]
    },
    {
     "name": "stderr",
     "output_type": "stream",
     "text": [
      "[Parallel(n_jobs=-1)]: Using backend LokyBackend with 4 concurrent workers.\n",
      "[Parallel(n_jobs=-1)]: Done  33 tasks      | elapsed:    9.3s\n",
      "[Parallel(n_jobs=-1)]: Done 154 tasks      | elapsed:   19.6s\n",
      "[Parallel(n_jobs=-1)]: Done 357 tasks      | elapsed:   40.9s\n",
      "[Parallel(n_jobs=-1)]: Done 500 out of 500 | elapsed:   53.4s finished\n"
     ]
    },
    {
     "name": "stdout",
     "output_type": "stream",
     "text": [
      "The best accuracy of 0.8784213876511776 from cross validation is given by 47 estimators 9 max features 45 max_depth 40 min samples split 10 min samples leaf True bootstrap parameters\n",
      "The Training set accuracy of the cross-validated random forest model is 0.9057924888605984\n",
      "The Validation set accuracy of the cross-validated random forest model is 0.8893129770992366\n",
      "The Test set accuracy of the cross-validated random forest model is 0.8770783847980997\n",
      "The precision is 0.9308510638297872 recall is 0.8187134502923976 fscore is 0.8711885500933416\n",
      "Average Time to Fit (s):0.348\n",
      "Average Time to Score (s):0.021\n"
     ]
    }
   ],
   "source": [
    "from sklearn.ensemble import RandomForestClassifier\n",
    "from sklearn.metrics import accuracy_score\n",
    "from sklearn.model_selection import RandomizedSearchCV\n",
    "from pprint import pprint\n",
    "\n",
    "# Number of trees in random forest\n",
    "n_estimators = [int(x) for x in np.linspace(start = 5, stop = 105, num = 50)]\n",
    "# Number of features to consider at every split\n",
    "max_features = list(range(1,X_train[columnsvif].shape[1]))\n",
    "# Maximum number of levels in tree\n",
    "max_depth = [int(x) for x in np.linspace(10, 50, num = 10)]\n",
    "# Minimum number of samples required to split a node\n",
    "min_samples_split = [10,20,30,40,50]\n",
    "# Minimum number of samples required at each leaf node\n",
    "min_samples_leaf = [10,20,30,40,50] \n",
    "# Method of selecting samples for training each tree\n",
    "bootstrap = [True]\n",
    "# Create  random grid\n",
    "random_grid = {'n_estimators': n_estimators,\n",
    "               'max_features': max_features,\n",
    "               'max_depth': max_depth,\n",
    "               'min_samples_split': min_samples_split,\n",
    "               'min_samples_leaf': min_samples_leaf,\n",
    "               'bootstrap': bootstrap}\n",
    "rf = RandomForestClassifier(random_state = 42, criterion= 'gini')\n",
    "rf_random = RandomizedSearchCV(estimator = rf, param_distributions = random_grid, n_iter = 100, cv = 5, verbose=2, random_state=42, n_jobs = -1)\n",
    "rf_random.fit(X_train[columnsvif], y_train)\n",
    "estimators = rf_random.best_params_['n_estimators']\n",
    "features = rf_random.best_params_['max_features']\n",
    "depth = rf_random.best_params_['max_depth']\n",
    "samples_split_min = rf_random.best_params_['min_samples_split']\n",
    "samples_leaf_min = rf_random.best_params_['min_samples_leaf']\n",
    "bstrap = rf_random.best_params_['bootstrap']\n",
    "rf_random.best_score_\n",
    "print(\"The best accuracy of\", rf_random.best_score_, \"from cross validation is given by\",estimators , \"estimators\", features, \"max features\", depth, \"max_depth\",samples_split_min, \"min samples split\", samples_leaf_min,\"min samples leaf\", bstrap, \"bootstrap\", \"parameters\" )\n",
    "rf_final = RandomForestClassifier(n_estimators=estimators,max_features=features,max_depth=depth,  min_samples_split=samples_split_min,  min_samples_leaf=samples_leaf_min, bootstrap =  True , random_state=42, criterion= 'gini')   \n",
    "rf_model = rf_final.fit(X_train[columnsvif], y_train)\n",
    "\n",
    "rf_predictions_train = rf_final.predict(X_train[columnsvif])\n",
    "rf_accuracy_train = accuracy_score(y_train, rf_predictions_train)\n",
    "print(\"The Training set accuracy of the cross-validated random forest model is\", rf_accuracy_train)\n",
    "\n",
    "rf_predictions_val = rf_final.predict(X_val[columnsvif])\n",
    "rf_accuracy_val = accuracy_score(y_val, rf_predictions_val)\n",
    "print(\"The Validation set accuracy of the cross-validated random forest model is\", rf_accuracy_val)\n",
    "\n",
    "rf_predictions_test = rf_final.predict(X_test[columnsvif])\n",
    "rf_accuracy_test = accuracy_score(y_test, rf_predictions_test)\n",
    "print(\"The Test set accuracy of the cross-validated random forest model is\", rf_accuracy_test)\n",
    "\n",
    "#y_test = pd.Series(y_test)\n",
    "#rf_predictions_test = pd.Series(rf_predictions_test)\n",
    "#rf_confusion_test = pd.crosstab(y_test, rf_predictions_test)\n",
    "#print(rf_confusion_test)\n",
    "rf_other_metrics = list(precision_recall_fscore_support(y_test, rf_predictions_test, average='binary'))\n",
    "print(\"The precision is\", rf_other_metrics[0], \"recall is\", rf_other_metrics[1], \"fscore is\", rf_other_metrics[2])\n",
    "\n",
    "print (\"Average Time to Fit (s):{}\".format(round(rf_random.cv_results_['mean_fit_time'].mean(), 3)))\n",
    "# the average time it took a model to predict out of sample data (in seconds)\n",
    "# this metric gives us insight into how this model will perform in real-time analysis\n",
    "print (\"Average Time to Score (s):{}\".format(round(rf_random.cv_results_['mean_score_time'].mean(), 3)))"
   ]
  },
  {
   "cell_type": "code",
   "execution_count": 129,
   "metadata": {},
   "outputs": [
    {
     "name": "stdout",
     "output_type": "stream",
     "text": [
      "Fitting 5 folds for each of 100 candidates, totalling 500 fits\n"
     ]
    },
    {
     "name": "stderr",
     "output_type": "stream",
     "text": [
      "[Parallel(n_jobs=-1)]: Using backend LokyBackend with 4 concurrent workers.\n",
      "[Parallel(n_jobs=-1)]: Done  33 tasks      | elapsed:    8.5s\n",
      "[Parallel(n_jobs=-1)]: Done 154 tasks      | elapsed:   18.2s\n",
      "[Parallel(n_jobs=-1)]: Done 357 tasks      | elapsed:   43.0s\n",
      "[Parallel(n_jobs=-1)]: Done 500 out of 500 | elapsed:   59.0s finished\n"
     ]
    },
    {
     "name": "stdout",
     "output_type": "stream",
     "text": [
      "The best accuracy of 0.9159770846594526 from cross validation is given by 60 estimators 2 max features 41 max_depth 20 min samples split 10 min samples leaf True bootstrap parameters\n",
      "The Training set accuracy of the cross-validated random forest model is 0.942711648631445\n",
      "The Validation set accuracy of the cross-validated random forest model is 0.9147582697201018\n",
      "The Test set accuracy of the cross-validated random forest model is 0.9228028503562945\n",
      "The precision is 0.9393939393939394 recall is 0.9064327485380117 fscore is 0.9226190476190477\n",
      "Average Time to Fit (s):0.409\n",
      "Average Time to Score (s):0.018\n"
     ]
    }
   ],
   "source": [
    "from sklearn.ensemble import RandomForestClassifier\n",
    "from sklearn.metrics import accuracy_score\n",
    "from sklearn.model_selection import RandomizedSearchCV\n",
    "from pprint import pprint\n",
    "\n",
    "# Number of trees in random forest\n",
    "n_estimators = [int(x) for x in np.linspace(start = 5, stop = 105, num = 50)]\n",
    "# Number of features to consider at every split\n",
    "max_features = list(range(1,X_train[columnsLasso].shape[1]))\n",
    "# Maximum number of levels in tree\n",
    "max_depth = [int(x) for x in np.linspace(10, 50, num = 10)]\n",
    "# Minimum number of samples required to split a node\n",
    "min_samples_split = [10,20,30,40,50]\n",
    "# Minimum number of samples required at each leaf node\n",
    "min_samples_leaf = [10,20,30,40,50] \n",
    "# Method of selecting samples for training each tree\n",
    "bootstrap = [True]\n",
    "# Create  random grid\n",
    "random_grid = {'n_estimators': n_estimators,\n",
    "               'max_features': max_features,\n",
    "               'max_depth': max_depth,\n",
    "               'min_samples_split': min_samples_split,\n",
    "               'min_samples_leaf': min_samples_leaf,\n",
    "               'bootstrap': bootstrap}\n",
    "rf = RandomForestClassifier(random_state = 42, criterion= 'gini')\n",
    "rf_random = RandomizedSearchCV(estimator = rf, param_distributions = random_grid, n_iter = 100, cv = 5, verbose=2, random_state=42, n_jobs = -1)\n",
    "rf_random.fit(X_train[columnsLasso], y_train)\n",
    "estimators = rf_random.best_params_['n_estimators']\n",
    "features = rf_random.best_params_['max_features']\n",
    "depth = rf_random.best_params_['max_depth']\n",
    "samples_split_min = rf_random.best_params_['min_samples_split']\n",
    "samples_leaf_min = rf_random.best_params_['min_samples_leaf']\n",
    "bstrap = rf_random.best_params_['bootstrap']\n",
    "rf_random.best_score_\n",
    "print(\"The best accuracy of\", rf_random.best_score_, \"from cross validation is given by\",estimators , \"estimators\", features, \"max features\", depth, \"max_depth\",samples_split_min, \"min samples split\", samples_leaf_min,\"min samples leaf\", bstrap, \"bootstrap\", \"parameters\" )\n",
    "rf_final = RandomForestClassifier(n_estimators=estimators,max_features=features,max_depth=depth,  min_samples_split=samples_split_min,  min_samples_leaf=samples_leaf_min, bootstrap =  True , random_state=42, criterion= 'gini')   \n",
    "rf_model = rf_final.fit(X_train[columnsLasso], y_train)\n",
    "\n",
    "rf_predictions_train = rf_final.predict(X_train[columnsLasso])\n",
    "rf_accuracy_train = accuracy_score(y_train, rf_predictions_train)\n",
    "print(\"The Training set accuracy of the cross-validated random forest model is\", rf_accuracy_train)\n",
    "\n",
    "rf_predictions_val = rf_final.predict(X_val[columnsLasso])\n",
    "rf_accuracy_val = accuracy_score(y_val, rf_predictions_val)\n",
    "print(\"The Validation set accuracy of the cross-validated random forest model is\", rf_accuracy_val)\n",
    "\n",
    "rf_predictions_test = rf_final.predict(X_test[columnsLasso])\n",
    "rf_accuracy_test = accuracy_score(y_test, rf_predictions_test)\n",
    "print(\"The Test set accuracy of the cross-validated random forest model is\", rf_accuracy_test)\n",
    "\n",
    "#y_test = pd.Series(y_test)\n",
    "#rf_predictions_test = pd.Series(rf_predictions_test)\n",
    "#rf_confusion_test = pd.crosstab(y_test, rf_predictions_test)\n",
    "#print(rf_confusion_test)\n",
    "rf_other_metrics = list(precision_recall_fscore_support(y_test, rf_predictions_test, average='binary'))\n",
    "print(\"The precision is\", rf_other_metrics[0], \"recall is\", rf_other_metrics[1], \"fscore is\", rf_other_metrics[2])\n",
    "\n",
    "print (\"Average Time to Fit (s):{}\".format(round(rf_random.cv_results_['mean_fit_time'].mean(), 3)))\n",
    "# the average time it took a model to predict out of sample data (in seconds)\n",
    "# this metric gives us insight into how this model will perform in real-time analysis\n",
    "print (\"Average Time to Score (s):{}\".format(round(rf_random.cv_results_['mean_score_time'].mean(), 3)))"
   ]
  },
  {
   "cell_type": "markdown",
   "metadata": {},
   "source": [
    "### Random Forest on Scaled Numerical Features"
   ]
  },
  {
   "cell_type": "raw",
   "metadata": {},
   "source": [
    "#Random Forest on scaled features\n",
    "\n",
    "#Grid search to identify hyperparameters\n",
    "# Number of trees in random forest\n",
    "n_estimators = [int(x) for x in np.linspace(start = 5, stop = 105, num = 50)]\n",
    "# Number of features to consider at every split\n",
    "max_features = list(range(1,X_train.shape[1]))\n",
    "# Maximum number of levels in tree\n",
    "max_depth = [int(x) for x in np.linspace(10, 50, num = 10)]\n",
    "# Minimum number of samples required to split a node\n",
    "min_samples_split = [10,20,30,40,50]\n",
    "# Minimum number of samples required at each leaf node\n",
    "min_samples_leaf = [10,20,30,40,50] \n",
    "# Method of selecting samples for training each tree\n",
    "bootstrap = [True]\n",
    "random_grid = {'n_estimators': n_estimators,\n",
    "               'max_features': max_features,\n",
    "               'max_depth': max_depth,\n",
    "               'min_samples_split': min_samples_split,\n",
    "               'min_samples_leaf': min_samples_leaf,\n",
    "               'bootstrap': bootstrap}\n",
    "rf = RandomForestClassifier(random_state=42)\n",
    "rf_random = RandomizedSearchCV(estimator = rf, param_distributions = random_grid, n_iter = 100, cv = 5, verbose=2, random_state=42, n_jobs = -1)\n",
    "\n",
    "#Random Forest model fitting on the training set\n",
    "rf_random.fit(X_scaled_train, y_train)\n",
    "estimators = rf_random.best_params_['n_estimators']\n",
    "features = rf_random.best_params_['max_features']\n",
    "depth = rf_random.best_params_['max_depth']\n",
    "samples_split_min = rf_random.best_params_['min_samples_split']\n",
    "samples_leaf_min = rf_random.best_params_['min_samples_leaf']\n",
    "bstrap = rf_random.best_params_['bootstrap']\n",
    "rf_random.best_score_\n",
    "print(\"The best accuracy of\", rf_random.best_score_, \"from cross validation is given by\",estimators , \"estimators\", features, \"max features\", depth, \"max_depth\",samples_split_min, \"min samples split\", samples_leaf_min,\"min samples leaf\", bstrap, \"bootstrap\", \"parameters\" )\n",
    "rf_final = RandomForestClassifier(n_estimators=estimators,max_features=features,max_depth=depth,  min_samples_split=samples_split_min,  min_samples_leaf=samples_leaf_min, bootstrap =  bstrap, random_state=42)   \n",
    "rf_model = rf_final.fit(X_scaled_train, y_train)\n",
    "rf_predictions_scaled_train = rf_final.predict(X_scaled_train)\n",
    "rf_accuracy_scaled_train = accuracy_score(y_train, rf_predictions_scaled_train)\n",
    "print(\"The Training set accuracy of the cross-validated random forest model is\", rf_accuracy_scaled_train)\n",
    "\n",
    "\n",
    "#Random Forest model performance on the validation set\n",
    "rf_predictions_scaled_val = rf_final.predict(X_scaled_val)\n",
    "rf_accuracy_scaled_val = accuracy_score(y_val, rf_predictions_scaled_val)\n",
    "print(\"The Validation set accuracy of the cross-validated random forest model is\", rf_accuracy_scaled_val)\n",
    "\n",
    "#Random Forest model performance on the test set\n",
    "rf_predictions_scaled_test = rf_final.predict(X_scaled_test)\n",
    "rf_accuracy_scaled_test = accuracy_score(y_test, rf_predictions_scaled_test)\n",
    "print(\"The Test set accuracy of the cross-validated random forest model is\", rf_accuracy_scaled_test)\n",
    "\n",
    "#Confusion Matrix and other metrics (Precision, Recall and Fscore)\n",
    "#y_test = pd.Series(y_test)\n",
    "#rf_predictions_scaled_test = pd.Series(rf_predictions_scaled_test)\n",
    "#rf_confusion_scaled = pd.crosstab(y_test, rf_predictions_scaled_test)\n",
    "#print(rf_confusion_scaled)\n",
    "rf_other_metrics_scaled = list(precision_recall_fscore_support(y_test, rf_predictions_scaled_test, average='binary'))\n",
    "print(\"The precision is\", rf_other_metrics_scaled[0], \"recall is\", rf_other_metrics_scaled[1], \"fscore is\", rf_other_metrics_scaled[2])"
   ]
  },
  {
   "cell_type": "markdown",
   "metadata": {},
   "source": [
    "### Logistic Regression"
   ]
  },
  {
   "cell_type": "code",
   "execution_count": 65,
   "metadata": {
    "scrolled": true
   },
   "outputs": [
    {
     "name": "stdout",
     "output_type": "stream",
     "text": [
      "20 features are chosen through RFE and they are ['BMI', 'HDL', 'LDL', 'age', 'fasting_glucose', 'sysBP', 'BMI_NaN', 'LDL_NaN', 'HDL_NaN', 'insulin_NaN', 'sugar_NaN', 'sysBP_NaN', 'diaBP_NaN', 'race_2.0', 'race_3.0', 'race_4.0', 'race_6.0', 'race_7.0', 'gender_1.0', 'gender_2.0']\n",
      "The Training set accuracy of the Logistic Regression model is 0.8488224061107574\n",
      "The Validation set accuracy of the Logistic Regression model is 0.8460559796437659\n",
      "Test set accuracy of the Logistic Regression model is 0.8432304038004751\n",
      "col_0     0.0  1.0\n",
      "diabetes          \n",
      "0.0       706  123\n",
      "1.0       141  714\n",
      "The precision is 0.8530465949820788 recall is 0.8350877192982457 fscore is 0.8439716312056738\n"
     ]
    },
    {
     "data": {
      "image/png": "[encoded data removed]",
      "text/plain": [
       "<matplotlib.figure.Figure at 0x2198f65d208>"
      ]
     },
     "metadata": {},
     "output_type": "display_data"
    }
   ],
   "source": [
    "#Logistic regression with Recursive Feature Elimination\n",
    "from sklearn.feature_selection import RFE\n",
    "logreg = LogisticRegression()\n",
    "rfe = RFE(logreg,20)\n",
    "rfe = rfe.fit(X_train, y_train)\n",
    "chosen_vars = []\n",
    "for i in range(len(rfe.support_)):\n",
    "    if rfe.support_[i] == True:\n",
    "        chosen_vars.append(X_train.columns[i])\n",
    "print(len(chosen_vars), \"features are chosen through RFE and they are\", chosen_vars)\n",
    "X_lr_train = X_train[chosen_vars]  \n",
    "X_lr_test = X_test[chosen_vars]\n",
    "X_lr_val = X_val[chosen_vars]\n",
    "\n",
    "#Fitting the model on the training set and assessing the performance\n",
    "logreg_model = logreg.fit(X_lr_train, y_train)\n",
    "logreg_train = logreg.predict(X_lr_train)\n",
    "logreg_accuracy_train = accuracy_score(y_train, logreg_train)\n",
    "print(\"The Training set accuracy of the Logistic Regression model is\", logreg_accuracy_train)\n",
    "\n",
    "#Model performance on the Validation set\n",
    "logreg_accuracy_val = logreg.predict(X_lr_val)\n",
    "logreg_accuracy_val = accuracy_score(y_val, logreg_accuracy_val)\n",
    "print(\"The Validation set accuracy of the Logistic Regression model is\", logreg_accuracy_val)\n",
    "\n",
    "#Model performance on the Test set\n",
    "log_pred_test = logreg.predict(X_lr_test)\n",
    "log_accuracy_test = accuracy_score(y_test, log_pred_test)\n",
    "print('Test set accuracy of the Logistic Regression model is',log_accuracy_test )\n",
    "\n",
    "#Confusion Matrix and other metrics (Precision, Recall and Fscore)\n",
    "logreg_confusion = pd.crosstab(y_test, log_pred_test)\n",
    "print(logreg_confusion)\n",
    "\n",
    "lr_other_metrics = precision_recall_fscore_support(y_test, log_pred_test, average='binary')\n",
    "print(\"The precision is\", lr_other_metrics[0], \"recall is\", lr_other_metrics[1], \"fscore is\", lr_other_metrics[2])         \n",
    "\n",
    "\n",
    "#ROC curve\n",
    "logit_roc_auc = roc_auc_score(y_test, logreg.predict(X_lr_test))\n",
    "fpr, tpr, thresholds = roc_curve(y_test, logreg.predict_proba(X_lr_test)[:,1])\n",
    "plt.figure()\n",
    "plt.plot(fpr, tpr, label='Logistic Regression (area = %0.2f)' % logit_roc_auc)\n",
    "plt.plot([0, 1], [0, 1],'r--')\n",
    "plt.xlim([0.0, 1.0])\n",
    "plt.ylim([0.0, 1.05])\n",
    "plt.xlabel('False Positive Rate')\n",
    "plt.ylabel('True Positive Rate')\n",
    "plt.title('Receiver operating characteristic')\n",
    "plt.legend(loc=\"lower right\")\n",
    "plt.savefig('Log_ROC')\n",
    "plt.show()\n"
   ]
  },
  {
   "cell_type": "markdown",
   "metadata": {},
   "source": [
    "### kNN "
   ]
  },
  {
   "cell_type": "markdown",
   "metadata": {},
   "source": [
    "#### kNN is performed on scaled numerical features"
   ]
  },
  {
   "cell_type": "code",
   "execution_count": 66,
   "metadata": {
    "scrolled": false
   },
   "outputs": [
    {
     "name": "stdout",
     "output_type": "stream",
     "text": [
      "The best accuracy of 0.9312539783577339 is given by 2 clusters\n",
      "The Training set accuracy of the kNN model is 0.998408656906429\n",
      "The Validation set accuracy of the kNN model is 0.9440203562340967\n",
      "Test set accuracy of the kNN model is 0.9542755344418052\n",
      "col_0     0.0  1.0\n",
      "diabetes          \n",
      "0.0       763   66\n",
      "1.0        11  844\n",
      "The precision is 0.9274725274725275 recall is 0.9871345029239766 fscore is 0.9563739376770539\n"
     ]
    }
   ],
   "source": [
    "#kNN grid search for choice of best cluster size\n",
    "k_range = list(range(1, 50))\n",
    "param_grid = dict(n_neighbors=k_range)\n",
    "grid = GridSearchCV(KNeighborsClassifier(), param_grid, cv=5, scoring='accuracy')\n",
    "grid.fit(X_scaled_train, y_train)\n",
    "k = grid.best_params_[\"n_neighbors\"]\n",
    "print(\"The best accuracy of\", grid.best_score_, \"is given by\", k, \"clusters\")\n",
    "\n",
    "#kNN model fitting on the training set\n",
    "knn = KNeighborsClassifier(n_neighbors=k)\n",
    "knn.fit(X_scaled_train, y_train)\n",
    "knn_pred_train = knn.predict(X_scaled_train)\n",
    "knn_accuracy_train = accuracy_score(y_train, knn_pred_train)\n",
    "print(\"The Training set accuracy of the kNN model is\", knn_accuracy_train)\n",
    "\n",
    "#Model performance on the Validation set\n",
    "knn_pred_val = knn.predict(X_scaled_val)\n",
    "knn_accuracy_val = accuracy_score(y_val, knn_pred_val)\n",
    "print(\"The Validation set accuracy of the kNN model is\", knn_accuracy_val)\n",
    "\n",
    "#Model performance on the Test set\n",
    "knn_pred_test = knn.predict(X_scaled_test)\n",
    "knn_accuracy_test = accuracy_score(y_test, knn_pred_test)\n",
    "print('Test set accuracy of the kNN model is',knn_accuracy_test )\n",
    "\n",
    "#Confusion Matrix and other metrics (Precision, Recall and Fscore)\n",
    "knn_confusion = pd.crosstab(y_test, knn_pred_test)\n",
    "print(knn_confusion)\n",
    "precision_recall_fscore_support(y_test, knn_pred_test, average='binary')\n",
    "knn_other_metrics = precision_recall_fscore_support(y_test, knn_pred_test, average='binary')\n",
    "print(\"The precision is\", knn_other_metrics[0], \"recall is\", knn_other_metrics[1], \"fscore is\", knn_other_metrics[2])         \n"
   ]
  },
  {
   "cell_type": "markdown",
   "metadata": {},
   "source": [
    "### Lasso CV"
   ]
  },
  {
   "cell_type": "code",
   "execution_count": 67,
   "metadata": {
    "scrolled": true
   },
   "outputs": [
    {
     "name": "stdout",
     "output_type": "stream",
     "text": [
      "BMI                    1.998065e-01\n",
      "HDL                   -1.073758e-01\n",
      "LDL                   -1.138899e-01\n",
      "age                    7.931896e-03\n",
      "fasting_glucose        9.825007e-01\n",
      "insulin                0.000000e+00\n",
      "sysBP                 -0.000000e+00\n",
      "diaBP                  1.686422e-04\n",
      "BMI_NaN               -2.567653e-02\n",
      "fasting_glucose_NaN    0.000000e+00\n",
      "gender_NaN             0.000000e+00\n",
      "LDL_NaN                0.000000e+00\n",
      "HDL_NaN                5.995178e-02\n",
      "insulin_NaN            6.835089e-02\n",
      "age_NaN                0.000000e+00\n",
      "race_NaN               0.000000e+00\n",
      "sugar_NaN             -6.685526e-03\n",
      "sysBP_NaN              0.000000e+00\n",
      "diaBP_NaN              0.000000e+00\n",
      "alc_days_year_NaN      0.000000e+00\n",
      "race_1.0               1.375004e-02\n",
      "race_2.0              -2.014149e-02\n",
      "race_3.0              -9.553505e-02\n",
      "race_4.0               5.248248e-02\n",
      "race_6.0               0.000000e+00\n",
      "race_7.0              -0.000000e+00\n",
      "gender_1.0            -6.311773e-02\n",
      "gender_2.0             3.056585e-17\n",
      "dtype: float64\n",
      "number of features used:  16\n",
      "training score: 0.5056542662025212\n",
      "test score:  0.48656550088329387\n",
      "7.67933883872019e-05\n"
     ]
    }
   ],
   "source": [
    "lasso = Lasso(max_iter = 10000, normalize = True)\n",
    "lassocv = LassoCV(alphas = None, cv = 5, max_iter = 100000, normalize = True)\n",
    "lassocv.fit(X_train, y_train)\n",
    "lasso.set_params(alpha=lassocv.alpha_)\n",
    "lasso.fit(X_train, y_train)\n",
    "print(pd.Series(lasso.coef_, index=X.columns))\n",
    "coeff = np.sum(lasso.coef_!=0)\n",
    "print (\"number of features used: \", coeff) \n",
    "train_score=lasso.score(X_train,y_train)\n",
    "test_score=lasso.score(X_test,y_test)\n",
    "print(\"training score:\", train_score ) \n",
    "print (\"test score: \", test_score)\n",
    "print(lassocv.alpha_)"
   ]
  },
  {
   "cell_type": "markdown",
   "metadata": {},
   "source": [
    "### Lasso and LR"
   ]
  },
  {
   "cell_type": "code",
   "execution_count": 68,
   "metadata": {},
   "outputs": [
    {
     "name": "stdout",
     "output_type": "stream",
     "text": [
      "C: 1.4154569084153052e-05\n",
      "Coefficient of each feature: [[0. 0. 0. 0. 0. 0. 0. 0. 0. 0. 0. 0. 0. 0. 0. 0. 0. 0. 0. 0. 0. 0. 0. 0.\n",
      "  0. 0. 0. 0.]]\n",
      "Number of coeff: 0\n",
      "Training accuracy:  0.505\n",
      "Test accuracy:  0.492\n",
      "\n",
      "C: 50\n",
      "Coefficient of each feature: [[ 1.566702   -1.39838564 -0.88484808  0.06212965  7.66913296 -0.13568685\n",
      "  -0.67717232  0.0120868  -0.83952498 -0.01881944  0.          0.26576296\n",
      "   5.34937712  0.7588679   0.          0.         -0.25388109 -0.0095147\n",
      "  -0.03361615  0.07394389 -5.3776419  -5.73252453 -6.47658618 -5.1616107\n",
      "  -5.66794379 -6.03916993 -6.1538428  -5.49027344]]\n",
      "Number of coeff: 25\n",
      "Training accuracy:  0.850\n",
      "Test accuracy:  0.850\n",
      "\n",
      "C: 10\n",
      "Coefficient of each feature: [[ 1.52763537 -1.40832111 -0.88481576  0.06241906  7.63915919 -0.13082401\n",
      "  -0.78065536  0.01243055 -0.81025082  0.          0.          0.26208565\n",
      "   0.66542615  0.75415557  0.          0.         -0.2522613  -0.01045063\n",
      "  -0.03044898  0.07195802  0.07097313 -0.28043916 -1.02674706  0.29038195\n",
      "  -0.22344545 -0.57929347 -7.41850849 -6.75573553]]\n",
      "Number of coeff: 24\n",
      "Training accuracy:  0.850\n",
      "Test accuracy:  0.849\n",
      "\n",
      "C: 1\n",
      "Coefficient of each feature: [[ 1.12444378e+00 -1.47367039e+00 -8.83400916e-01  6.43403109e-02\n",
      "   7.36363572e+00 -7.18282221e-02 -1.55946785e+00  1.49871034e-02\n",
      "  -4.68537887e-01  0.00000000e+00  0.00000000e+00  1.63035930e-01\n",
      "   0.00000000e+00  4.86279839e-01  0.00000000e+00  0.00000000e+00\n",
      "  -2.16280455e-01 -3.10214665e-03 -2.64187798e-03  4.95443506e-02\n",
      "   3.41568723e-01  0.00000000e+00 -7.46042167e-01  5.85580369e-01\n",
      "   0.00000000e+00 -1.84886380e-01 -6.57016615e-01  0.00000000e+00]]\n",
      "Number of coeff: 20\n",
      "Training accuracy:  0.850\n",
      "Test accuracy:  0.846\n",
      "\n",
      "C: 0.1\n",
      "Coefficient of each feature: [[ 0.         -1.00624943 -0.81728556  0.06395591  6.08664173  0.07132348\n",
      "  -2.63648831  0.01584088  0.          0.          0.          0.\n",
      "   0.          0.          0.          0.          0.          0.\n",
      "   0.          0.          0.16951872  0.         -0.6892442   0.39674254\n",
      "   0.          0.         -0.48597844  0.        ]]\n",
      "Number of coeff: 11\n",
      "Training accuracy:  0.843\n",
      "Test accuracy:  0.844\n",
      "\n",
      "C: 0.001\n",
      "Coefficient of each feature: [[ 0.          0.          0.          0.03918977  0.          0.\n",
      "   0.         -0.03015373  0.          0.          0.          0.\n",
      "   0.          0.          0.          0.          0.          0.\n",
      "   0.          0.          0.          0.          0.          0.\n",
      "   0.          0.          0.          0.        ]]\n",
      "Number of coeff: 2\n",
      "Training accuracy:  0.686\n",
      "Test accuracy:  0.688\n",
      "\n",
      "The Training set accuracy of the Lasso CV for LR model is  0.850\n",
      "The Validation set accuracy of the Lasso CV for LR model is 0.849\n",
      "Test set accuracy of the Lasso CV for LR model is  0.849\n",
      "col_0     0.0  1.0\n",
      "diabetes          \n",
      "0.0       715  114\n",
      "1.0       140  715\n",
      "The precision is  0.862 recall is 0.836  fscore is 0.849\n"
     ]
    }
   ],
   "source": [
    "C = [1.4154569084153052e-05,50,10, 1, .1, .001]\n",
    "\n",
    "#LassoCV + LR model fitting on the training set\n",
    "for c in C:\n",
    "    clf = LogisticRegression(penalty='l1', C=c, solver='liblinear')\n",
    "    clf.fit(X_train, y_train)\n",
    "    print('C:', c)\n",
    "    print('Coefficient of each feature:', clf.coef_)\n",
    "    coeff = np.sum(clf.coef_!=0)\n",
    "    print('Number of coeff:', coeff)\n",
    "\n",
    "    print('Training accuracy:  {0:.3f}'.format(clf.score(X_train, y_train)))\n",
    "    print('Test accuracy:  {0:.3f}'.format(clf.score(X_test, y_test)))\n",
    "    print('')\n",
    "\n",
    "    \n",
    "clf = LogisticRegression(penalty='l1', C=10, solver='liblinear')\n",
    "clf.fit(X_train, y_train)\n",
    "ls_pred_train = clf.predict(X_train)\n",
    "ls_accuracy_train = accuracy_score(y_train, ls_pred_train)\n",
    "print(\"The Training set accuracy of the Lasso CV for LR model is  {0:.3f}\".format(ls_accuracy_train))\n",
    "\n",
    "# LassoCV + LR Model performance on the Validation set\n",
    "ls_pred_val = clf.predict(X_val)\n",
    "ls_accuracy_val = accuracy_score(y_val, ls_pred_val)\n",
    "print(\"The Validation set accuracy of the Lasso CV for LR model is {0:.3f}\".format(ls_accuracy_val))\n",
    "\n",
    "#LassoCV + LR Model performance on the Test set\n",
    "ls_pred_test = clf.predict(X_test)\n",
    "ls_accuracy_test = accuracy_score(y_test, ls_pred_test)\n",
    "print('Test set accuracy of the Lasso CV for LR model is  {0:.3f}'.format(ls_accuracy_test ))\n",
    "\n",
    "\n",
    "#Confusion Matrix and other metrics (Precision, Recall and Fscore)\n",
    "ls_confusion_test = pd.crosstab(y_test, ls_pred_test)\n",
    "print(ls_confusion_test)\n",
    "precision_recall_fscore_support(y_test, ls_pred_test, average='binary')\n",
    "ls_other_metrics = precision_recall_fscore_support(y_test, ls_pred_test, average='binary')\n",
    "print(\"The precision is  {0:.3f}\".format(ls_other_metrics[0]) , \"recall is {0:.3f} \".format(ls_other_metrics[1]), \"fscore is {0:.3f}\".format(ls_other_metrics[2]))         \n"
   ]
  },
  {
   "cell_type": "markdown",
   "metadata": {},
   "source": [
    "### Gradient Boosting"
   ]
  },
  {
   "cell_type": "code",
   "execution_count": 69,
   "metadata": {},
   "outputs": [
    {
     "name": "stdout",
     "output_type": "stream",
     "text": [
      "Learning rate:  0.05\n",
      "Accuracy score (training): 0.934\n",
      "Accuracy score (validation): 0.912\n",
      "Accuracy score (test): 0.909\n",
      "Learning rate:  0.075\n",
      "Accuracy score (training): 0.941\n",
      "Accuracy score (validation): 0.907\n",
      "Accuracy score (test): 0.917\n",
      "Learning rate:  0.1\n",
      "Accuracy score (training): 0.948\n",
      "Accuracy score (validation): 0.910\n",
      "Accuracy score (test): 0.923\n",
      "Learning rate:  0.25\n",
      "Accuracy score (training): 0.980\n",
      "Accuracy score (validation): 0.933\n",
      "Accuracy score (test): 0.939\n",
      "Learning rate:  0.5\n",
      "Accuracy score (training): 0.993\n",
      "Accuracy score (validation): 0.949\n",
      "Accuracy score (test): 0.940\n",
      "Learning rate:  0.75\n",
      "Accuracy score (training): 0.997\n",
      "Accuracy score (validation): 0.945\n",
      "Accuracy score (test): 0.931\n",
      "Learning rate:  1\n",
      "Accuracy score (training): 0.999\n",
      "Accuracy score (validation): 0.936\n",
      "Accuracy score (test): 0.928\n",
      "col_0     0.0  1.0\n",
      "diabetes          \n",
      "0.0       793   36\n",
      "1.0        65  790\n",
      "The precision is  0.956 recall is 0.924  fscore is 0.940\n"
     ]
    }
   ],
   "source": [
    "lr_list = [0.05, 0.075, 0.1, 0.25, 0.5, 0.75, 1]\n",
    "\n",
    "for learning_rate in lr_list:\n",
    "    gb_clf = GradientBoostingClassifier(n_estimators=20, learning_rate=learning_rate, max_features=25, max_depth=5, random_state=0)\n",
    "    gb_clf.fit(X_train, y_train)\n",
    "\n",
    "    print(\"Learning rate: \", learning_rate)\n",
    "    print(\"Accuracy score (training): {0:.3f}\".format(gb_clf.score(X_train, y_train)))\n",
    "    print(\"Accuracy score (validation): {0:.3f}\".format(gb_clf.score(X_val, y_val)))\n",
    "    print(\"Accuracy score (test): {0:.3f}\".format(gb_clf.score(X_test, y_test)))\n",
    "    \n",
    "gb_clf = GradientBoostingClassifier(n_estimators=20, learning_rate=0.5, max_features=25, max_depth=5, random_state=0)\n",
    "gb_clf.fit(X_train, y_train)   \n",
    "gb_pred_test = gb_clf.predict(X_test)\n",
    "    \n",
    "gb_confusion_test = pd.crosstab(y_test, gb_pred_test)\n",
    "print(gb_confusion_test)\n",
    "precision_recall_fscore_support(y_test, gb_pred_test, average='binary')\n",
    "gb_other_metrics = precision_recall_fscore_support(y_test, gb_pred_test, average='binary')\n",
    "print(\"The precision is  {0:.3f}\".format(gb_other_metrics[0]) , \"recall is {0:.3f} \".format(gb_other_metrics[1]), \"fscore is {0:.3f}\".format(gb_other_metrics[2]))         \n"
   ]
  },
  {
   "cell_type": "markdown",
   "metadata": {},
   "source": [
    "### Bootstrapping on the test set"
   ]
  },
  {
   "cell_type": "markdown",
   "metadata": {},
   "source": [
    "####Need to complete####"
   ]
  },
  {
   "cell_type": "code",
   "execution_count": 70,
   "metadata": {},
   "outputs": [
    {
     "name": "stdout",
     "output_type": "stream",
     "text": [
      "The Test set accuracy of the cross-validated random forest model on boot1 is 0.926\n",
      "The Test set accuracy of the cross-validated random forest model on boot2 is 0.938\n",
      "The Test set accuracy of the cross-validated random forest model on boot3 is 0.92\n",
      "The Test set accuracy of the cross-validated random forest model on boot4 is 0.934\n",
      "The Test set accuracy of the cross-validated random forest model on boot5 is 0.904\n",
      "The Test set accuracy of the cross-validated random forest model on boot5 is 0.936\n",
      "The Test set accuracy of the cross-validated random forest model on boot7 is 0.926\n",
      "The Test set accuracy of the cross-validated random forest model on boot8 is 0.938\n",
      "The Test set accuracy of the cross-validated random forest model on boot9 is 0.896\n",
      "The Test set accuracy of the cross-validated random forest model on boot10 is 0.93\n"
     ]
    }
   ],
   "source": [
    "rf_final = RandomForestClassifier(n_estimators=estimators,max_features=features,max_depth=depth,  min_samples_split=samples_split_min,  min_samples_leaf=samples_leaf_min, bootstrap =  bstrap, random_state=42, criterion= 'gini')   \n",
    "rf_model = rf_final.fit(X_train, y_train)\n",
    "\n",
    "boot = pd.merge(y_test, X_test, left_index=True, right_index=True)\n",
    "boot.rename(columns = {'Actual':'diabetes'}, inplace = True) \n",
    "\n",
    "boot1 = resample(boot, replace=True, n_samples=500, random_state=1)\n",
    "boot2 = resample(boot,  replace=True, n_samples=500, random_state=3)\n",
    "boot3 = resample(boot, replace=True, n_samples=500, random_state=5)\n",
    "boot4 = resample(boot,replace=True, n_samples=500, random_state=8)\n",
    "boot5 = resample(boot,replace=True, n_samples=500, random_state=9)\n",
    "boot6 = resample(boot, replace=True, n_samples=500, random_state=11)\n",
    "boot7 = resample(boot, replace=True, n_samples=500, random_state=13)\n",
    "boot8 = resample(boot,replace=True, n_samples=500, random_state=15)\n",
    "boot9 = resample(boot,replace=True, n_samples=500, random_state=17)\n",
    "boot10 = resample(boot, replace=True, n_samples=500, random_state=19)\n",
    "\n",
    "boot1_test_y = boot1.loc[:, boot1.columns == 'diabetes']\n",
    "boot1_test_X = boot1.loc[:, boot1.columns != 'diabetes']\n",
    "\n",
    "rf_predictions_boot1 = rf_final.predict(boot1_test_X)\n",
    "rf_accuracy_boot1 = accuracy_score(boot1_test_y, rf_predictions_boot1)\n",
    "print(\"The Test set accuracy of the cross-validated random forest model on boot1 is\", rf_accuracy_boot1)\n",
    "\n",
    "boot2_test_y = boot2.loc[:, boot2.columns == 'diabetes']\n",
    "boot2_test_X = boot2.loc[:, boot2.columns != 'diabetes']\n",
    "rf_predictions_boot2 = rf_final.predict(boot2_test_X)\n",
    "rf_accuracy_boot2 = accuracy_score(boot2_test_y, rf_predictions_boot2)\n",
    "print(\"The Test set accuracy of the cross-validated random forest model on boot2 is\", rf_accuracy_boot2)\n",
    "\n",
    "boot3_test_y = boot3.loc[:, boot3.columns == 'diabetes']\n",
    "boot3_test_X = boot3.loc[:, boot3.columns != 'diabetes']\n",
    "rf_predictions_boot3 = rf_final.predict(boot3_test_X)\n",
    "rf_accuracy_boot3 = accuracy_score(boot3_test_y, rf_predictions_boot3)\n",
    "print(\"The Test set accuracy of the cross-validated random forest model on boot3 is\", rf_accuracy_boot3)\n",
    "\n",
    "\n",
    "boot4_test_y = boot4.loc[:, boot4.columns == 'diabetes']\n",
    "boot4_test_X = boot4.loc[:, boot4.columns != 'diabetes']\n",
    "rf_predictions_boot4 = rf_final.predict(boot4_test_X)\n",
    "rf_accuracy_boot4 = accuracy_score(boot4_test_y, rf_predictions_boot4)\n",
    "print(\"The Test set accuracy of the cross-validated random forest model on boot4 is\", rf_accuracy_boot4)\n",
    "\n",
    "\n",
    "boot5_test_y = boot5.loc[:, boot5.columns == 'diabetes']\n",
    "boot5_test_X = boot5.loc[:, boot5.columns != 'diabetes']\n",
    "rf_predictions_boot5 = rf_final.predict(boot5_test_X)\n",
    "rf_accuracy_boot5 = accuracy_score(boot5_test_y, rf_predictions_boot5)\n",
    "print(\"The Test set accuracy of the cross-validated random forest model on boot5 is\", rf_accuracy_boot5)\n",
    "\n",
    "\n",
    "boot6_test_y = boot6.loc[:, boot6.columns == 'diabetes']\n",
    "boot6_test_X = boot6.loc[:, boot6.columns != 'diabetes']\n",
    "rf_predictions_boot6 = rf_final.predict(boot6_test_X)\n",
    "rf_accuracy_boot6 = accuracy_score(boot6_test_y, rf_predictions_boot6)\n",
    "print(\"The Test set accuracy of the cross-validated random forest model on boot5 is\", rf_accuracy_boot6)\n",
    "\n",
    "\n",
    "boot7_test_y = boot7.loc[:, boot7.columns == 'diabetes']\n",
    "boot7_test_X = boot7.loc[:, boot7.columns != 'diabetes']\n",
    "rf_predictions_boot7 = rf_final.predict(boot7_test_X)\n",
    "rf_accuracy_boot7 = accuracy_score(boot7_test_y, rf_predictions_boot7)\n",
    "print(\"The Test set accuracy of the cross-validated random forest model on boot7 is\", rf_accuracy_boot7)\n",
    "\n",
    "\n",
    "boot8_test_y = boot8.loc[:, boot8.columns == 'diabetes']\n",
    "boot8_test_X = boot8.loc[:, boot8.columns != 'diabetes']\n",
    "rf_predictions_boot8 = rf_final.predict(boot8_test_X)\n",
    "rf_accuracy_boot8 = accuracy_score(boot8_test_y, rf_predictions_boot8)\n",
    "print(\"The Test set accuracy of the cross-validated random forest model on boot8 is\", rf_accuracy_boot8)\n",
    "\n",
    "\n",
    "boot9_test_y = boot9.loc[:, boot9.columns == 'diabetes']\n",
    "boot9_test_X = boot9.loc[:, boot9.columns != 'diabetes']\n",
    "rf_predictions_boot9 = rf_final.predict(boot9_test_X)\n",
    "rf_accuracy_boot9 = accuracy_score(boot9_test_y, rf_predictions_boot9)\n",
    "print(\"The Test set accuracy of the cross-validated random forest model on boot9 is\", rf_accuracy_boot9)\n",
    "\n",
    "\n",
    "boot10_test_y = boot10.loc[:, boot10.columns == 'diabetes']\n",
    "boot10_test_X = boot10.loc[:, boot10.columns != 'diabetes']\n",
    "rf_predictions_boot10 = rf_final.predict(boot10_test_X)\n",
    "rf_accuracy_boot10 = accuracy_score(boot10_test_y, rf_predictions_boot10)\n",
    "print(\"The Test set accuracy of the cross-validated random forest model on boot10 is\", rf_accuracy_boot10)\n",
    "\n",
    "\n"
   ]
  },
  {
   "cell_type": "code",
   "execution_count": 71,
   "metadata": {},
   "outputs": [],
   "source": [
    "boot = pd.merge(y_test, X_test, left_index=True, right_index=True)\n",
    "boot.rename(columns = {'Actual':'diabetes'}, inplace = True) \n",
    "n_iterations = 100\n",
    "stats = list()\n",
    "for i in range(n_iterations):\n",
    "    boot = resample(boot, replace=True, n_samples=500,random_state=15 )\n",
    "    boot_test_y = boot.loc[:, boot.columns == 'diabetes']\n",
    "    boot_test_X = boot.loc[:, boot.columns != 'diabetes']    \n",
    "    rf_final = RandomForestClassifier(n_estimators=estimators,max_features=features,max_depth=depth,  min_samples_split=samples_split_min,  min_samples_leaf=samples_leaf_min, bootstrap =  bstrap, random_state=42, criterion= 'gini')   \n",
    "    rf_model = rf_final.fit(X_train, y_train)\n",
    "    rf_predictions_boot = rf_final.predict(boot_test_X)\n",
    "    score = accuracy_score(boot_test_y, rf_predictions_boot)\n",
    "    stats.append(score)\n",
    "    "
   ]
  },
  {
   "cell_type": "code",
   "execution_count": 72,
   "metadata": {},
   "outputs": [
    {
     "name": "stdout",
     "output_type": "stream",
     "text": [
      "95.00 confidence interval 93.17% and 100.00%\n"
     ]
    },
    {
     "data": {
      "image/png": "[encoded data removed]",
      "text/plain": [
       "<matplotlib.figure.Figure at 0x2198f6cd320>"
      ]
     },
     "metadata": {},
     "output_type": "display_data"
    }
   ],
   "source": [
    "hist = pd.DataFrame(stats).hist()\n",
    "alpha = 0.95\n",
    "p = ((1.0-alpha)/2.0) * 100\n",
    "lower = max(0.0, np.percentile(stats, p))\n",
    "p = (alpha+((1.0-alpha)/2.0)) * 100\n",
    "upper = min(1.0, np.percentile(stats, p))\n",
    "print('%.2f confidence interval %.2f%% and %.2f%%' % (alpha*100, lower*100, upper*100))\n"
   ]
  },
  {
   "cell_type": "code",
   "execution_count": null,
   "metadata": {},
   "outputs": [],
   "source": []
  }
 ],
 "metadata": {
  "kernelspec": {
   "display_name": "Python 3",
   "language": "python",
   "name": "python3"
  },
  "language_info": {
   "codemirror_mode": {
    "name": "ipython",
    "version": 3
   },
   "file_extension": ".py",
   "mimetype": "text/x-python",
   "name": "python",
   "nbconvert_exporter": "python",
   "pygments_lexer": "ipython3",
   "version": "3.6.4"
  }
 },
 "nbformat": 4,
 "nbformat_minor": 2
}
