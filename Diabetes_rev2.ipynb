{
 "cells": [
  {
   "cell_type": "markdown",
   "metadata": {},
   "source": [
    "# Library"
   ]
  },
  {
   "cell_type": "code",
   "execution_count": 2,
   "metadata": {},
   "outputs": [
    {
     "name": "stderr",
     "output_type": "stream",
     "text": [
      "Using TensorFlow backend.\n"
     ]
    }
   ],
   "source": [
    "import pandas as pd\n",
    "import os\n",
    "\n",
    "import numpy as np\n",
    "from pandas import DataFrame\n",
    "import matplotlib.pyplot as plt\n",
    "import sys\n",
    "import seaborn as sns\n",
    "from scipy import stats\n",
    "import xport\n",
    "\n",
    "from sklearn.linear_model import Lasso\n",
    "from sklearn.pipeline import Pipeline\n",
    "from sklearn import preprocessing\n",
    "from sklearn.model_selection import train_test_split\n",
    "from sklearn import metrics\n",
    "from sklearn.metrics import precision_score, recall_score, accuracy_score\n",
    "from sklearn.model_selection import cross_val_score\n",
    "from sklearn.model_selection import learning_curve, GridSearchCV\n",
    "\n",
    "from sklearn.linear_model import Lasso, LogisticRegression\n",
    "from sklearn.feature_selection import SelectFromModel\n",
    "from sklearn.preprocessing import StandardScaler\n",
    "from sklearn.linear_model import LassoCV\n",
    "from sklearn.metrics import roc_auc_score\n",
    "from sklearn.metrics import roc_curve\n",
    "\n",
    "from sklearn.ensemble import RandomForestClassifier\n",
    "from sklearn.ensemble import RandomForestRegressor\n",
    "from sklearn.linear_model import LogisticRegression\n",
    "from sklearn import linear_model\n",
    "from sklearn.svm import SVR, LinearSVC\n",
    "from sklearn.neighbors import KNeighborsClassifier\n",
    "from sklearn.neighbors import KNeighborsRegressor\n",
    "from sklearn.naive_bayes import GaussianNB \n",
    "from sklearn.linear_model import Perceptron\n",
    "from sklearn.tree import DecisionTreeClassifier\n",
    "from sklearn.metrics import confusion_matrix\n",
    "from sklearn.metrics import mean_squared_error\n",
    "from sklearn import preprocessing\n",
    "\n",
    "\n",
    "from sklearn.ensemble import RandomForestClassifier\n",
    "from sklearn.metrics import accuracy_score\n",
    "from sklearn.model_selection import RandomizedSearchCV\n",
    "from imblearn.over_sampling import SMOTE\n",
    "from sklearn.metrics import precision_recall_fscore_support\n",
    "\n",
    "sys.setrecursionlimit(100000) #Increase the recursion limit of the OS\n",
    "\n",
    "sns.set(style=\"white\")\n",
    "sns.set(style=\"whitegrid\", color_codes=True)\n",
    "plt.rc(\"font\", size=14)\n",
    "import warnings\n",
    "warnings.filterwarnings('ignore') \n",
    "\n",
    "\n",
    "from pandas.plotting import scatter_matrix\n",
    "\n",
    "from sklearn.metrics import average_precision_score"
   ]
  },
  {
   "cell_type": "markdown",
   "metadata": {},
   "source": [
    "# Import data"
   ]
  },
  {
   "cell_type": "code",
   "execution_count": 3,
   "metadata": {},
   "outputs": [],
   "source": [
    "\n",
    "# function:  rename_chosen_features(xpt_file,old_names,new_names,csv_file)\n",
    "# purpose:   rename the chosen features in the XPT file\n",
    "# input:     xpt_file: the converted dataframe from XPT file\n",
    "#            old_names: a list of strings - strings are code names on NHANES \n",
    "#            new_names: a list of strings \n",
    "#            csv_file: name \n",
    "# output:    a dataframe with renamed chosen features  \n",
    "\n",
    "def rename_chosen_features(xpt_file,old_names,new_names,csv_file):\n",
    "    df = xpt_file[old_names]        \n",
    "    df.columns = new_names                \n",
    "    # xpt_file.to_csv(csv_file, header=False) # if needs to get a csv file from the original xpt file\n",
    "    return df"
   ]
  },
  {
   "cell_type": "code",
   "execution_count": 4,
   "metadata": {},
   "outputs": [],
   "source": [
    "os.chdir(\"../CapstonePython\")\n",
    "\n",
    "\n",
    " \n",
    "DIQ_xpt_file = pd.read_sas('DIQ_I1516.XPT')\n",
    "DIQ_cvs_file = 'Diabetes1516.csv'\n",
    "# DIQ010: doctor told you have diabetes\n",
    "DIQ_old_names = ['SEQN','DIQ010'] \n",
    "DIQ_new_names = ['ID','diabetes']\n",
    "df0_DIQ = rename_chosen_features(DIQ_xpt_file,DIQ_old_names,DIQ_new_names,DIQ_cvs_file)\n",
    "\n",
    "## Demographics\n",
    "DEMO_xpt_file = pd.read_sas('DEMO_I1516.XPT')\n",
    "DEMO_cvs_file = 'Demographic1516.csv'\n",
    "# RIAGENDR: gender - codes\n",
    "# RIDRETH3: race/Hispanic origin w/ NH Asian - codes\n",
    "# RIDAGEYR: age in years at screening - values & codes: 0 to 79 & 80\n",
    "DEMO_old_names = ['SEQN','RIAGENDR','RIDRETH3','RIDAGEYR']\n",
    "DEMO_new_names = ['ID','gender','race','age']\n",
    "df0_DEMO = rename_chosen_features(DEMO_xpt_file,DEMO_old_names,DEMO_new_names,DEMO_cvs_file)\n",
    "\n",
    "## Plasma Fasting Glucose\n",
    "GLU_xpt_file = pd.read_sas('GLU_I1516.XPT')\n",
    "GLU_cvs_file = 'FastingGlucose1516.csv'\n",
    "# LBDGLUSI: Fasting Glucose (mmol/L) \n",
    "GLU_old_names = ['SEQN','LBDGLUSI'] \n",
    "GLU_new_names = ['ID','fasting_glucose']\n",
    "df0_GLU = rename_chosen_features(GLU_xpt_file,GLU_old_names,GLU_new_names,GLU_cvs_file)\n",
    "\n",
    "## Insulin\n",
    "INS_xpt_file = pd.read_sas('INS_I1516.XPT')\n",
    "INS_cvs_file = 'Insulin1516.csv'\n",
    "# LBDINSI : Insulin (pmol/L) \n",
    "INS_old_names = ['SEQN','LBDINSI'] \n",
    "INS_new_names = ['ID','insulin']\n",
    "df0_INS = rename_chosen_features(INS_xpt_file, INS_old_names, INS_new_names,INS_cvs_file)\n",
    "\n",
    "\n",
    "## Alcohol Use\n",
    "ALQ_xpt_file = pd.read_sas('ALQ_I1516.XPT')\n",
    "ALQ_cvs_file = 'AlcoholUse1516.csv'\n",
    "# ALQ101: Had at least 12 alcohol drinks/1 yr? - codes\n",
    "# ALQ151: Ever have 4/5 or more drinks every day? - codes\n",
    "# ALQ160: # days have 4/5 or more drinks in 2 hrs? - codes & values\n",
    "\n",
    "# ALQ120Q : How often drink alcohol over past 12 mos\n",
    "ALQ_old_names = ['SEQN', 'ALQ120Q'] \n",
    "ALQ_new_names = ['ID', 'alc_days_year']\n",
    "df0_ALQ = rename_chosen_features(ALQ_xpt_file,ALQ_old_names,ALQ_new_names,ALQ_cvs_file)\n",
    "\n",
    "## Cholesterol - LDL\n",
    "TRIGLY_xpt_file = pd.read_sas('TRIGLY_I1516.XPT')\n",
    "TRIGLY_cvs_file = 'Cholesterol1516.csv'\n",
    "# LBDLDLSI : LDL-cholesterol (mmol/L) - values: 23 to 277\n",
    "TRIGLY_old_names = ['SEQN','LBDLDLSI']  \n",
    "TRIGLY_new_names = ['ID','LDL']\n",
    "df0_TRIGLY = rename_chosen_features(TRIGLY_xpt_file,TRIGLY_old_names,TRIGLY_new_names,TRIGLY_cvs_file)\n",
    "\n",
    "## Cholesterol - HDL\n",
    "HDL_xpt_file = pd.read_sas('HDL_I1516.XPT')\n",
    "HDL_cvs_file = 'HDL1516.csv'\n",
    "# LBDHDDSI : HDL - Cholesterol (mmol/L) \n",
    "HDL_old_names = ['SEQN','LBDHDDSI'] \n",
    "HDL_new_names = ['ID','HDL']\n",
    "df0_HDL = rename_chosen_features(HDL_xpt_file, HDL_old_names, HDL_new_names, HDL_cvs_file)\n",
    "\n",
    "## Blood Pressure\n",
    "BPX_xpt_file = pd.read_sas('BPX_I1516.XPT')\n",
    "BPX_cvs_file = 'BloodPressure1516.csv'\n",
    "# BPXSY1: Systolic: Blood pres (1st rdg) mm Hg - values: 72 to 236\n",
    "# BPXDI1: Diastolic: Blood pres (1st rdg) mm Hg - values: 0 to 120\n",
    "# BPXSY2: Systolic: Blood pres (2nd rdg) mm Hg - values: 76 to 238\n",
    "# BPXDI2: Diastolic: Blood pres (2nd rdg) mm Hg - values: 0 to 144\n",
    "# BPXSY3 - Systolic: Blood pres (3rd rdg) mm Hg - values: 76 to 226 \n",
    "# BPXDI3 - Diastolic: Blood pres (3rd rdg) mm Hg - values: 0 to 140\n",
    "BPX_old_names = ['SEQN','BPXSY1','BPXDI1','BPXSY2','BPXDI2','BPXSY3','BPXDI3']  \n",
    "BPX_new_names = ['ID','sysBP1', 'diaBP1','sysBP2', 'diaBP2','sysBP3', 'diaBP3']\n",
    "df0_BPX = rename_chosen_features(BPX_xpt_file,BPX_old_names,BPX_new_names,BPX_cvs_file)\n",
    "\n",
    "## Body Measures\n",
    "BMX_xpt_file = pd.read_sas('BMX_I1516.XPT')\n",
    "BMX_cvs_file = 'BMI1516.csv'\n",
    "# BMXBMI: Body Mass Index (kg/m**2) - values: 11.5 to 67.3\n",
    "BMX_old_names = ['SEQN','BMXBMI']  \n",
    "BMX_new_names = ['ID','BMI']\n",
    "df0_BMX = rename_chosen_features(BMX_xpt_file,BMX_old_names,BMX_new_names,BMX_cvs_file)\n",
    "\n",
    "## Total Dietary Supplements \n",
    "DSQTOT_xpt_file = pd.read_sas('DSQTOT_I1516.XPT')\n",
    "DSQTOT_cvs_file = 'Sugar1516.csv'\n",
    "# DSQTSUGR - Total sugars (gm) - values: 0.02 to 45.73 (in 30 days)\n",
    "DSQTOT_old_names = ['SEQN','DSQTSUGR']  \n",
    "DSQTOT_new_names = ['ID','sugar']\n",
    "df0_DSQTOT = rename_chosen_features(DSQTOT_xpt_file,DSQTOT_old_names,DSQTOT_new_names,DSQTOT_cvs_file)\n",
    "\n",
    "\n",
    "DIQ_xpt_file = pd.read_sas('DIQ_H1314.XPT')\n",
    "DIQ_cvs_file = 'Diabetes1314.csv'\n",
    "# DIQ010: doctor told you have diabetes\n",
    "DIQ_old_names = ['SEQN','DIQ010'] \n",
    "DIQ_new_names = ['ID','diabetes']\n",
    "df1_DIQ = rename_chosen_features(DIQ_xpt_file,DIQ_old_names,DIQ_new_names,DIQ_cvs_file)\n",
    "\n",
    "## Demographics\n",
    "DEMO_xpt_file = pd.read_sas('DEMO_H1314.XPT')\n",
    "DEMO_cvs_file = 'Demographic1314.csv'\n",
    "# RIAGENDR: gender - codes\n",
    "# RIDRETH3: race/Hispanic origin w/ NH Asian - codes\n",
    "# RIDAGEYR: age in years at screening - values & codes: 0 to 79 & 80\n",
    "DEMO_old_names = ['SEQN','RIAGENDR','RIDRETH3','RIDAGEYR']\n",
    "DEMO_new_names = ['ID','gender','race','age']\n",
    "df1_DEMO = rename_chosen_features(DEMO_xpt_file,DEMO_old_names,DEMO_new_names,DEMO_cvs_file)\n",
    "\n",
    "## Plasma Fasting Glucose\n",
    "GLU_xpt_file = pd.read_sas('GLU_H1314.XPT')\n",
    "GLU_cvs_file = 'FastingGlucose1314.csv'\n",
    "# LBDGLUSI: Fasting Glucose (mmol/L) \n",
    "GLU_old_names = ['SEQN','LBDGLUSI'] \n",
    "GLU_new_names = ['ID','fasting_glucose']\n",
    "df1_GLU = rename_chosen_features(GLU_xpt_file,GLU_old_names,GLU_new_names,GLU_cvs_file)\n",
    "\n",
    "\n",
    "\n",
    "## Alcohol Use\n",
    "ALQ_xpt_file = pd.read_sas('ALQ_H1314.XPT')\n",
    "ALQ_cvs_file = 'AlcoholUse1314.csv'\n",
    "# ALQ101: Had at least 12 alcohol drinks/1 yr? - codes\n",
    "# ALQ151: Ever have 4/5 or more drinks every day? - codes\n",
    "# ALQ160: # days have 4/5 or more drinks in 2 hrs? - codes & values\n",
    "\n",
    "# ALQ120Q : How often drink alcohol over past 12 mos\n",
    "ALQ_old_names = ['SEQN', 'ALQ120Q'] \n",
    "ALQ_new_names = ['ID', 'alc_days_year']\n",
    "df1_ALQ = rename_chosen_features(ALQ_xpt_file,ALQ_old_names,ALQ_new_names,ALQ_cvs_file)\n",
    "\n",
    "## Insulin\n",
    "INS_xpt_file = pd.read_sas('INS_H1314.XPT')\n",
    "INS_cvs_file = 'Insulin1314.csv'\n",
    "# LBDINSI : Insulin (pmol/L) \n",
    "INS_old_names = ['SEQN','LBDINSI'] \n",
    "INS_new_names = ['ID','insulin']\n",
    "df1_INS = rename_chosen_features(INS_xpt_file, INS_old_names, INS_new_names,INS_cvs_file)\n",
    "\n",
    "## Cholesterol - LDL\n",
    "TRIGLY_xpt_file = pd.read_sas('TRIGLY_H1314.XPT')\n",
    "TRIGLY_cvs_file = 'Cholesterol1314.csv'\n",
    "# LBDLDLSI : LDL-cholesterol (mmol/L) - values: 23 to 277\n",
    "TRIGLY_old_names = ['SEQN','LBDLDLSI']  \n",
    "TRIGLY_new_names = ['ID','LDL']\n",
    "df1_TRIGLY = rename_chosen_features(TRIGLY_xpt_file,TRIGLY_old_names,TRIGLY_new_names,TRIGLY_cvs_file)\n",
    "\n",
    "## Cholesterol - HDL\n",
    "HDL_xpt_file = pd.read_sas('HDL_H1314.XPT')\n",
    "HDL_cvs_file = 'HDL1314.csv'\n",
    "# LBDHDDSI : HDL - Cholesterol (mmol/L) \n",
    "HDL_old_names = ['SEQN','LBDHDDSI'] \n",
    "HDL_new_names = ['ID','HDL']\n",
    "df1_HDL = rename_chosen_features(HDL_xpt_file, HDL_old_names, HDL_new_names, HDL_cvs_file)\n",
    "\n",
    "## Blood Pressure\n",
    "BPX_xpt_file = pd.read_sas('BPX_H1314.XPT')\n",
    "BPX_cvs_file = 'BloodPressure1314.csv'\n",
    "# BPXSY1: Systolic: Blood pres (1st rdg) mm Hg - values: 72 to 236\n",
    "# BPXDI1: Diastolic: Blood pres (1st rdg) mm Hg - values: 0 to 120\n",
    "# BPXSY2: Systolic: Blood pres (2nd rdg) mm Hg - values: 76 to 238\n",
    "# BPXDI2: Diastolic: Blood pres (2nd rdg) mm Hg - values: 0 to 144\n",
    "# BPXSY3 - Systolic: Blood pres (3rd rdg) mm Hg - values: 76 to 226 \n",
    "# BPXDI3 - Diastolic: Blood pres (3rd rdg) mm Hg - values: 0 to 140\n",
    "BPX_old_names = ['SEQN','BPXSY1','BPXDI1','BPXSY2','BPXDI2','BPXSY3','BPXDI3']  \n",
    "BPX_new_names = ['ID','sysBP1', 'diaBP1','sysBP2', 'diaBP2','sysBP3', 'diaBP3']\n",
    "df1_BPX = rename_chosen_features(BPX_xpt_file,BPX_old_names,BPX_new_names,BPX_cvs_file)\n",
    "\n",
    "## Body Measures\n",
    "BMX_xpt_file = pd.read_sas('BMX_H1314.XPT')\n",
    "BMX_cvs_file = 'BMI1314.csv'\n",
    "# BMXBMI: Body Mass Index (kg/m**2) - values: 11.5 to 67.3\n",
    "BMX_old_names = ['SEQN','BMXBMI']  \n",
    "BMX_new_names = ['ID','BMI']\n",
    "df1_BMX = rename_chosen_features(BMX_xpt_file,BMX_old_names,BMX_new_names,BMX_cvs_file)\n",
    "\n",
    "## Total Dietary Supplements \n",
    "DSQTOT_xpt_file = pd.read_sas('DSQTOT_H1314.XPT')\n",
    "DSQTOT_cvs_file = 'Sugar1314.csv'\n",
    "# DSQTSUGR - Total sugars (gm) - values: 0.02 to 45.73 (in 30 days)\n",
    "DSQTOT_old_names = ['SEQN','DSQTSUGR']  \n",
    "DSQTOT_new_names = ['ID','sugar']\n",
    "df1_DSQTOT = rename_chosen_features(DSQTOT_xpt_file,DSQTOT_old_names,DSQTOT_new_names,DSQTOT_cvs_file)\n"
   ]
  },
  {
   "cell_type": "markdown",
   "metadata": {},
   "source": [
    "# Merge dataframes"
   ]
  },
  {
   "cell_type": "code",
   "execution_count": 5,
   "metadata": {},
   "outputs": [],
   "source": [
    "df0 = pd.merge(df0_ALQ, df0_BMX, how =\"inner\", on = \"ID\")\n",
    "df0 = pd.merge(df0, df0_BPX, how = \"inner\", on =\"ID\")\n",
    "df0 = pd.merge(df0,df0_DEMO, how = 'inner', on = \"ID\")\n",
    "df0 = pd.merge(df0,df0_DIQ, how = 'inner', on = \"ID\")\n",
    "df0 = pd.merge(df0,df0_DSQTOT, how = 'inner', on = \"ID\")\n",
    "df0 = pd.merge(df0,df0_GLU, how = 'inner', on = \"ID\")\n",
    "df0 = pd.merge(df0,df0_TRIGLY, how = 'inner', on = \"ID\")\n",
    "df0 = pd.merge(df0,df0_INS, how = 'inner', on = \"ID\")\n",
    "df0 = pd.merge(df0,df0_HDL, how = 'inner', on = \"ID\")\n",
    "\n",
    "\n",
    "df1 = pd.merge(df1_ALQ, df1_BMX, how =\"inner\", on = \"ID\")\n",
    "df1 = pd.merge(df1, df1_BPX, how = \"inner\", on =\"ID\")\n",
    "df1 = pd.merge(df1,df1_DEMO, how = 'inner', on = \"ID\")\n",
    "df1 = pd.merge(df1,df1_DIQ, how = 'inner', on = \"ID\")\n",
    "df1 = pd.merge(df1,df1_DSQTOT, how = 'inner', on = \"ID\")\n",
    "df1 = pd.merge(df1,df1_GLU, how = 'inner', on = \"ID\")\n",
    "df1 = pd.merge(df1,df1_TRIGLY, how = 'inner', on = \"ID\")\n",
    "df1 = pd.merge(df1,df1_INS, how = 'inner', on = \"ID\")\n",
    "df1 = pd.merge(df1,df1_HDL, how = 'inner', on = \"ID\")"
   ]
  },
  {
   "cell_type": "markdown",
   "metadata": {},
   "source": [
    "# Set Index"
   ]
  },
  {
   "cell_type": "code",
   "execution_count": 6,
   "metadata": {},
   "outputs": [],
   "source": [
    "# set SEQN to index of the df0\n",
    "df0.set_index('ID', inplace=True)      \n",
    "\n",
    "# if has duplicated indexs(ID), keep the first one \n",
    "df0 = df0[~df0.index.duplicated(keep='first')]\n",
    "\n",
    "\n",
    "# set SEQN to index of the df0\n",
    "df1.set_index('ID', inplace=True)      \n",
    "\n",
    "# if has duplicated indexs(ID), keep the first one \n",
    "df1 = df1[~df1.index.duplicated(keep='first')]"
   ]
  },
  {
   "cell_type": "code",
   "execution_count": 7,
   "metadata": {},
   "outputs": [
    {
     "name": "stdout",
     "output_type": "stream",
     "text": [
      "<class 'pandas.core.frame.DataFrame'>\n",
      "Float64Index: 5569 entries, 73559.0 to 93697.0\n",
      "Data columns (total 17 columns):\n",
      "BMI                5502 non-null float64\n",
      "HDL                5265 non-null float64\n",
      "LDL                5003 non-null float64\n",
      "age                5569 non-null float64\n",
      "alc_days_year      4165 non-null float64\n",
      "diaBP1             5185 non-null float64\n",
      "diaBP2             5346 non-null float64\n",
      "diaBP3             5342 non-null float64\n",
      "diabetes           5569 non-null float64\n",
      "fasting_glucose    5298 non-null float64\n",
      "gender             5569 non-null float64\n",
      "insulin            5195 non-null float64\n",
      "race               5569 non-null float64\n",
      "sugar              608 non-null float64\n",
      "sysBP1             5185 non-null float64\n",
      "sysBP2             5346 non-null float64\n",
      "sysBP3             5342 non-null float64\n",
      "dtypes: float64(17)\n",
      "memory usage: 783.1 KB\n",
      "          BMI   HDL    LDL   age  alc_days_year  diaBP1  diaBP2  diaBP3  \\\n",
      "ID                                                                        \n",
      "73559.0  28.9  1.55  1.448  72.0   5.397605e-79    90.0    76.0    80.0   \n",
      "73561.0  19.7  2.20  2.612  73.0   5.397605e-79    86.0    88.0    86.0   \n",
      "73564.0  35.7  1.50  2.508  61.0   2.000000e+00    80.0    80.0    82.0   \n",
      "73568.0  20.3  2.48  1.733  26.0   2.000000e+00    60.0    62.0    66.0   \n",
      "73574.0  22.8  1.37  1.940  33.0            NaN    56.0    66.0    64.0   \n",
      "...       ...   ...    ...   ...            ...     ...     ...     ...   \n",
      "93682.0  20.9  1.68    NaN  41.0            NaN    78.0    84.0    82.0   \n",
      "93689.0  28.1  2.09  1.888  69.0   5.397605e-79    62.0    64.0    72.0   \n",
      "93695.0  21.5  1.76  1.448  76.0            NaN    48.0    46.0    48.0   \n",
      "93696.0  33.8   NaN    NaN  26.0            NaN    68.0    76.0    72.0   \n",
      "93697.0  31.0  2.90  3.284  80.0   2.000000e+00    56.0    58.0    52.0   \n",
      "\n",
      "         diabetes  fasting_glucose  gender  insulin  race  sugar  sysBP1  \\\n",
      "ID                                                                         \n",
      "73559.0       1.0           10.713     1.0    34.98   3.0    NaN   140.0   \n",
      "73561.0       2.0            5.940     2.0    36.72   3.0    NaN   136.0   \n",
      "73564.0       2.0            6.106     2.0    89.46   3.0   0.33   118.0   \n",
      "73568.0       2.0            4.940     2.0    23.10   3.0    NaN   106.0   \n",
      "73574.0       2.0            4.663     2.0    36.30   6.0    NaN   122.0   \n",
      "...           ...              ...     ...      ...   ...    ...     ...   \n",
      "93682.0       2.0            6.830     2.0   221.16   6.0    NaN   132.0   \n",
      "93689.0       1.0            6.000     2.0    30.18   1.0    NaN   164.0   \n",
      "93695.0       2.0            5.830     2.0   187.44   3.0    NaN   112.0   \n",
      "93696.0       2.0              NaN     1.0      NaN   3.0    NaN   118.0   \n",
      "93697.0       2.0            5.500     2.0    38.70   3.0    NaN   154.0   \n",
      "\n",
      "         sysBP2  sysBP3  \n",
      "ID                       \n",
      "73559.0   140.0   146.0  \n",
      "73561.0   134.0   142.0  \n",
      "73564.0   124.0   126.0  \n",
      "73568.0   100.0   108.0  \n",
      "73574.0   124.0   118.0  \n",
      "...         ...     ...  \n",
      "93682.0   122.0   124.0  \n",
      "93689.0   166.0   162.0  \n",
      "93695.0   112.0   110.0  \n",
      "93696.0   116.0   114.0  \n",
      "93697.0   146.0   144.0  \n",
      "\n",
      "[5569 rows x 17 columns]\n"
     ]
    }
   ],
   "source": [
    "\n",
    "df0 = df0.reindex(sorted(df0.columns), axis=1)\n",
    "\n",
    "df1 = df1.reindex(sorted(df1.columns), axis=1)\n",
    "\n",
    "final_df = pd.concat([df1, df0], axis =0)\n",
    "final_df.info()\n",
    "\n",
    "df = final_df.copy(deep=True)\n",
    "df.head()\n",
    "print(df)"
   ]
  },
  {
   "cell_type": "markdown",
   "metadata": {},
   "source": [
    "# Data Pre-Processing"
   ]
  },
  {
   "cell_type": "code",
   "execution_count": 8,
   "metadata": {},
   "outputs": [],
   "source": [
    "# function:  clean_epsilon(cell)\n",
    "# purpose:   in the orginal files, zeros are represented by a small value (10^-79), convert them to actual zeros\n",
    "# input:     a dataframe that with (10^-79) as zeroes \n",
    "# output:    a dataframe with actual zeroes \n",
    "\n",
    "def clean_epsilon(cell):\n",
    "    if cell - 0.0 < 0.0001:\n",
    "        return 0\n",
    "    return cell\n",
    "\n",
    "df = df.applymap(clean_epsilon)"
   ]
  },
  {
   "cell_type": "code",
   "execution_count": 9,
   "metadata": {},
   "outputs": [
    {
     "data": {
      "text/html": [
       "<div>\n",
       "<style scoped>\n",
       "    .dataframe tbody tr th:only-of-type {\n",
       "        vertical-align: middle;\n",
       "    }\n",
       "\n",
       "    .dataframe tbody tr th {\n",
       "        vertical-align: top;\n",
       "    }\n",
       "\n",
       "    .dataframe thead th {\n",
       "        text-align: right;\n",
       "    }\n",
       "</style>\n",
       "<table border=\"1\" class=\"dataframe\">\n",
       "  <thead>\n",
       "    <tr style=\"text-align: right;\">\n",
       "      <th></th>\n",
       "      <th>BMI</th>\n",
       "      <th>HDL</th>\n",
       "      <th>LDL</th>\n",
       "      <th>age</th>\n",
       "      <th>alc_days_year</th>\n",
       "      <th>diabetes</th>\n",
       "      <th>fasting_glucose</th>\n",
       "      <th>gender</th>\n",
       "      <th>insulin</th>\n",
       "      <th>race</th>\n",
       "      <th>sugar</th>\n",
       "      <th>sysBP</th>\n",
       "      <th>diaBP</th>\n",
       "    </tr>\n",
       "    <tr>\n",
       "      <th>ID</th>\n",
       "      <th></th>\n",
       "      <th></th>\n",
       "      <th></th>\n",
       "      <th></th>\n",
       "      <th></th>\n",
       "      <th></th>\n",
       "      <th></th>\n",
       "      <th></th>\n",
       "      <th></th>\n",
       "      <th></th>\n",
       "      <th></th>\n",
       "      <th></th>\n",
       "      <th></th>\n",
       "    </tr>\n",
       "  </thead>\n",
       "  <tbody>\n",
       "    <tr>\n",
       "      <td>73559.0</td>\n",
       "      <td>28.9</td>\n",
       "      <td>1.55</td>\n",
       "      <td>1.448</td>\n",
       "      <td>72.0</td>\n",
       "      <td>0.0</td>\n",
       "      <td>1.0</td>\n",
       "      <td>10.713</td>\n",
       "      <td>1.0</td>\n",
       "      <td>34.98</td>\n",
       "      <td>3.0</td>\n",
       "      <td>NaN</td>\n",
       "      <td>142.000000</td>\n",
       "      <td>82.000000</td>\n",
       "    </tr>\n",
       "    <tr>\n",
       "      <td>73561.0</td>\n",
       "      <td>19.7</td>\n",
       "      <td>2.20</td>\n",
       "      <td>2.612</td>\n",
       "      <td>73.0</td>\n",
       "      <td>0.0</td>\n",
       "      <td>2.0</td>\n",
       "      <td>5.940</td>\n",
       "      <td>2.0</td>\n",
       "      <td>36.72</td>\n",
       "      <td>3.0</td>\n",
       "      <td>NaN</td>\n",
       "      <td>137.333333</td>\n",
       "      <td>86.666667</td>\n",
       "    </tr>\n",
       "    <tr>\n",
       "      <td>73564.0</td>\n",
       "      <td>35.7</td>\n",
       "      <td>1.50</td>\n",
       "      <td>2.508</td>\n",
       "      <td>61.0</td>\n",
       "      <td>2.0</td>\n",
       "      <td>2.0</td>\n",
       "      <td>6.106</td>\n",
       "      <td>2.0</td>\n",
       "      <td>89.46</td>\n",
       "      <td>3.0</td>\n",
       "      <td>0.33</td>\n",
       "      <td>122.666667</td>\n",
       "      <td>80.666667</td>\n",
       "    </tr>\n",
       "    <tr>\n",
       "      <td>73568.0</td>\n",
       "      <td>20.3</td>\n",
       "      <td>2.48</td>\n",
       "      <td>1.733</td>\n",
       "      <td>26.0</td>\n",
       "      <td>2.0</td>\n",
       "      <td>2.0</td>\n",
       "      <td>4.940</td>\n",
       "      <td>2.0</td>\n",
       "      <td>23.10</td>\n",
       "      <td>3.0</td>\n",
       "      <td>NaN</td>\n",
       "      <td>104.666667</td>\n",
       "      <td>62.666667</td>\n",
       "    </tr>\n",
       "    <tr>\n",
       "      <td>73574.0</td>\n",
       "      <td>22.8</td>\n",
       "      <td>1.37</td>\n",
       "      <td>1.940</td>\n",
       "      <td>33.0</td>\n",
       "      <td>NaN</td>\n",
       "      <td>2.0</td>\n",
       "      <td>4.663</td>\n",
       "      <td>2.0</td>\n",
       "      <td>36.30</td>\n",
       "      <td>6.0</td>\n",
       "      <td>NaN</td>\n",
       "      <td>121.333333</td>\n",
       "      <td>62.000000</td>\n",
       "    </tr>\n",
       "  </tbody>\n",
       "</table>\n",
       "</div>"
      ],
      "text/plain": [
       "          BMI   HDL    LDL   age  alc_days_year  diabetes  fasting_glucose  \\\n",
       "ID                                                                           \n",
       "73559.0  28.9  1.55  1.448  72.0            0.0       1.0           10.713   \n",
       "73561.0  19.7  2.20  2.612  73.0            0.0       2.0            5.940   \n",
       "73564.0  35.7  1.50  2.508  61.0            2.0       2.0            6.106   \n",
       "73568.0  20.3  2.48  1.733  26.0            2.0       2.0            4.940   \n",
       "73574.0  22.8  1.37  1.940  33.0            NaN       2.0            4.663   \n",
       "\n",
       "         gender  insulin  race  sugar       sysBP      diaBP  \n",
       "ID                                                            \n",
       "73559.0     1.0    34.98   3.0    NaN  142.000000  82.000000  \n",
       "73561.0     2.0    36.72   3.0    NaN  137.333333  86.666667  \n",
       "73564.0     2.0    89.46   3.0   0.33  122.666667  80.666667  \n",
       "73568.0     2.0    23.10   3.0    NaN  104.666667  62.666667  \n",
       "73574.0     2.0    36.30   6.0    NaN  121.333333  62.000000  "
      ]
     },
     "execution_count": 9,
     "metadata": {},
     "output_type": "execute_result"
    }
   ],
   "source": [
    "# Obtain average systolic and diastolic pressure values from the multiple measurements\n",
    "df['sysBP'] = (df['sysBP1']+df['sysBP2']+df['sysBP3'])/3\n",
    "df['diaBP'] = (df['diaBP1']+df['diaBP2']+df['diaBP3'])/3\n",
    "df = df.drop(['sysBP1','diaBP1','sysBP2','diaBP2','sysBP3','diaBP3'], axis=1)\n",
    "df.head()"
   ]
  },
  {
   "cell_type": "code",
   "execution_count": 10,
   "metadata": {},
   "outputs": [],
   "source": [
    "# function:  get_cstr_ratio(df,feature,cstr)\n",
    "# purpose:   get the percentage of 'don't know' and 'refuse' out of number of entries\n",
    "# input:     cstr: a list of two integers. ex: [77,99] \n",
    "# output:    ratios of dk/entries and refuse/entries \n",
    "\n",
    "def get_cstr_ratio(df,feature,cstr):\n",
    "    total_count = df.shape[0]\n",
    "    dk = cstr[0]      # don't know\n",
    "    refuse = cstr[1]  # refuse to answer\n",
    "    \n",
    "    feature_counts = df[feature].value_counts().to_dict()\n",
    "    if dk not in feature_counts: dk = 0         # When there's no 'dk'/'refuse' in responses\n",
    "    else: dk = feature_counts[dk]\n",
    "    if refuse not in feature_counts: refuse = 0\n",
    "    else: refuse = feature_counts[refuse]\n",
    "\n",
    "    dk = int(dk)\n",
    "    refuse = int(refuse)\n",
    "    r1 = dk/total_count\n",
    "    r2 = refuse/total_count\n",
    "    print()\n",
    "    print('The ratio of [dont know] is', r1)\n",
    "    print('The ratio of [refuse] is', r2)\n",
    "    print('Now call: process_cstr(df,feature,cstr,method)')\n",
    "\n",
    "# function:  process_cstr(df,feature,cstr,method)\n",
    "# purpose:   if cstr ratio is high, then replace cstr with NaN and deal with NaN later\n",
    "#            if cstr ratio is low, then drop entries with cstr\n",
    "# input:     cstr: a list of two integers. ex: [77,99]\n",
    "#            method: select among 'drop', 'NaN'\n",
    "# output:    \n",
    "\n",
    "\n",
    "def process_cstr(df,feature,cstr,method):\n",
    "    dk = cstr[0] # don't know\n",
    "    refuse = cstr[1]  # refuse to answer\n",
    "    if method == 'drop':\n",
    "        df = df[df[feature] != dk]\n",
    "        df = df[df[feature] != refuse]\n",
    "    elif method == 'NaN':\n",
    "        df[feature][df[feature] == dk] = np.nan\n",
    "        df[feature][df[feature] == refuse] = np.nan\n",
    "    else:\n",
    "        print('The method you choose is not included yet, add new method now!')\n",
    "    return df\n"
   ]
  },
  {
   "cell_type": "code",
   "execution_count": 11,
   "metadata": {},
   "outputs": [],
   "source": [
    "#Function to obtain the count of missing values\n",
    "def get_value_count(df,feature): \n",
    "    print()\n",
    "    print('NaN   ',df[feature].isna().sum())\n",
    "    print(df[feature].value_counts())"
   ]
  },
  {
   "cell_type": "markdown",
   "metadata": {},
   "source": [
    "### Functions to Visualize Missing values"
   ]
  },
  {
   "cell_type": "code",
   "execution_count": 12,
   "metadata": {
    "scrolled": false
   },
   "outputs": [
    {
     "name": "stdout",
     "output_type": "stream",
     "text": [
      "<class 'pandas.core.frame.DataFrame'>\n",
      "Float64Index: 5569 entries, 73559.0 to 93697.0\n",
      "Data columns (total 13 columns):\n",
      "BMI                5502 non-null float64\n",
      "HDL                5265 non-null float64\n",
      "LDL                5003 non-null float64\n",
      "age                5569 non-null float64\n",
      "alc_days_year      4165 non-null float64\n",
      "diabetes           5569 non-null float64\n",
      "fasting_glucose    5298 non-null float64\n",
      "gender             5569 non-null float64\n",
      "insulin            5195 non-null float64\n",
      "race               5569 non-null float64\n",
      "sugar              608 non-null float64\n",
      "sysBP              5092 non-null float64\n",
      "diaBP              5092 non-null float64\n",
      "dtypes: float64(13)\n",
      "memory usage: 609.1 KB\n"
     ]
    },
    {
     "data": {
      "image/png": "[encoded data removed]",
      "text/plain": [
       "<Figure size 1080x432 with 1 Axes>"
      ]
     },
     "metadata": {
      "needs_background": "light"
     },
     "output_type": "display_data"
    }
   ],
   "source": [
    "# purpose:   get the ratio of (missing values)/(total entries) for ***one feature***  \n",
    "# input:     df: dataframe that contains the feature you want to check for NaN ratio\n",
    "#            feature: the name of the feature - string           \n",
    "# output:    NaN ratio of the feature, and instructions on what to do next \n",
    "\n",
    "def get_NaN_ratio(df,feature):\n",
    "    print()\n",
    "    total_count = df.shape[0]                  # total entries\n",
    "    feature_valid_count = df[feature].count()  # non-NaN entries for chosen feature\n",
    "    feature_null_count = total_count - feature_valid_count\n",
    "    NaN_ratio = feature_null_count/total_count\n",
    "    print('The NaN ratio in',feature,'is',\"%.3f\" % NaN_ratio)\n",
    "    if NaN_ratio == 0:\n",
    "        print('No missing values detected')\n",
    "    elif NaN_ratio <= 0.1:\n",
    "        print('Since NaN ratio is small, fill NaN directly with fill type: mode, mean, new category')\n",
    "        print('Now call function: fill_NaN(df, feature, fill_type)')\n",
    "    else:\n",
    "        print('Since NaN ratio is large, predict NaN using ML or check predictability first...')\n",
    "        print('if check predictability, call: check_predictability_all/some_x(df,y,method)')\n",
    "        print('if predict using ML, call: predict_NaN_with_ML(df,x,y,data_type,model)')\n",
    "\n",
    "# features = df.columns.values.tolist()\n",
    "# for feature in features:\n",
    "#     get_NaN_ratio(df,feature)\n",
    "#     print('----------------------')\n",
    "\n",
    "\n",
    "def plot_NaN_percentage_for_all(df):\n",
    "    total = df.isnull().sum().sort_values(ascending=False)\n",
    "    percent = (df.isnull().sum()/df.isnull().count()).sort_values(ascending=False)\n",
    "    missing_data = pd.concat([total, percent], axis=1, keys=['Total', 'Percent'])\n",
    "    # missing_data.head()\n",
    "    f, ax = plt.subplots(figsize=(15, 6))\n",
    "    plt.xticks(rotation='90')\n",
    "    sns.barplot(x=missing_data.index, y=missing_data['Percent'])\n",
    "    plt.xlabel('Features', fontsize=15)\n",
    "    plt.ylabel('Percent of missing values', fontsize=15)\n",
    "    plt.title('Percent missing data by feature', fontsize=15)\n",
    "    \n",
    "    \n",
    "plot_NaN_percentage_for_all(df)\n",
    "df.info()"
   ]
  },
  {
   "cell_type": "markdown",
   "metadata": {},
   "source": [
    "### Outliers"
   ]
  },
  {
   "cell_type": "code",
   "execution_count": 13,
   "metadata": {},
   "outputs": [
    {
     "name": "stdout",
     "output_type": "stream",
     "text": [
      "Index(['BMI', 'HDL', 'LDL', 'age', 'alc_days_year', 'diabetes',\n",
      "       'fasting_glucose', 'gender', 'insulin', 'race', 'sugar', 'sysBP',\n",
      "       'diaBP'],\n",
      "      dtype='object')\n"
     ]
    }
   ],
   "source": [
    "# Function to Detection Outliers\n",
    "\n",
    "def find_anomalies(data, a):\n",
    "    anomalies_a = []\n",
    "    patient_a = []\n",
    "\n",
    "    # Set upper and lower limit to 3 standard deviation \n",
    "    random_data_std = data.std()\n",
    "    random_data_mean = data.mean()\n",
    "    anomaly_cut_off = random_data_std * 3\n",
    "    \n",
    "    lower_limit  = random_data_mean - anomaly_cut_off \n",
    "    upper_limit = random_data_mean + anomaly_cut_off\n",
    "    \n",
    "    # Generate outliers\n",
    "    for i in data:\n",
    "        if i > upper_limit or i < lower_limit:\n",
    "            anomalies_a.append(i)\n",
    "            index_value_i = (data==i).index\n",
    "            patient_a.append(index_value_i)\n",
    "    return anomalies_a\n",
    "    #return patient_a\n",
    "\n",
    "print(df.columns)\n",
    "   \n",
    "   \n",
    "\n",
    "\n"
   ]
  },
  {
   "cell_type": "code",
   "execution_count": 14,
   "metadata": {},
   "outputs": [
    {
     "name": "stdout",
     "output_type": "stream",
     "text": [
      "68\n"
     ]
    },
    {
     "data": {
      "text/plain": [
       "count    5434.000000\n",
       "mean       28.694921\n",
       "std         6.512621\n",
       "min        15.100000\n",
       "25%        23.900000\n",
       "50%        27.800000\n",
       "75%        32.300000\n",
       "max        50.500000\n",
       "Name: BMI, dtype: float64"
      ]
     },
     "execution_count": 14,
     "metadata": {},
     "output_type": "execute_result"
    },
    {
     "data": {
      "image/png": "[encoded data removed]",
      "text/plain": [
       "<Figure size 432x288 with 1 Axes>"
      ]
     },
     "metadata": {
      "needs_background": "light"
     },
     "output_type": "display_data"
    },
    {
     "data": {
      "image/png": "[encoded data removed]",
      "text/plain": [
       "<Figure size 432x288 with 1 Axes>"
      ]
     },
     "metadata": {
      "needs_background": "light"
     },
     "output_type": "display_data"
    }
   ],
   "source": [
    "print(len(find_anomalies(df[\"BMI\"],1)))\n",
    "boxplot = df.boxplot(column=['BMI'])\n",
    "hist = df.hist(column=['BMI'])\n",
    "for i in find_anomalies(df[\"BMI\"],1):\n",
    "    df = df[df.BMI != i]\n",
    "df[\"BMI\"].describe()"
   ]
  },
  {
   "cell_type": "code",
   "execution_count": 15,
   "metadata": {},
   "outputs": [
    {
     "data": {
      "image/png": "[encoded data removed]",
      "text/plain": [
       "<Figure size 432x288 with 1 Axes>"
      ]
     },
     "metadata": {
      "needs_background": "light"
     },
     "output_type": "display_data"
    },
    {
     "data": {
      "image/png": "[encoded data removed]",
      "text/plain": [
       "<Figure size 432x288 with 1 Axes>"
      ]
     },
     "metadata": {
      "needs_background": "light"
     },
     "output_type": "display_data"
    }
   ],
   "source": [
    "hist_before = df.hist(column=['BMI'], range=[10, 60])\n",
    "df[\"BMI\"] = np.log(df[\"BMI\"])\n",
    "hist_after = df.hist(column=['BMI'])\n"
   ]
  },
  {
   "cell_type": "code",
   "execution_count": 16,
   "metadata": {},
   "outputs": [
    {
     "name": "stdout",
     "output_type": "stream",
     "text": [
      "53\n"
     ]
    },
    {
     "data": {
      "text/plain": [
       "count    5115.000000\n",
       "mean        1.413851\n",
       "std         0.439148\n",
       "min         0.160000\n",
       "25%         1.110000\n",
       "50%         1.340000\n",
       "75%         1.660000\n",
       "max         5.840000\n",
       "Name: HDL, dtype: float64"
      ]
     },
     "execution_count": 16,
     "metadata": {},
     "output_type": "execute_result"
    },
    {
     "data": {
      "image/png": "[encoded data removed]",
      "text/plain": [
       "<Figure size 432x288 with 1 Axes>"
      ]
     },
     "metadata": {
      "needs_background": "light"
     },
     "output_type": "display_data"
    },
    {
     "data": {
      "image/png": "[encoded data removed]",
      "text/plain": [
       "<Figure size 432x288 with 1 Axes>"
      ]
     },
     "metadata": {
      "needs_background": "light"
     },
     "output_type": "display_data"
    }
   ],
   "source": [
    "print(len(find_anomalies(df[\"HDL\"],2)))\n",
    "boxplot = df.boxplot(column=['HDL'])\n",
    "hist = df.hist(column=['HDL'])\n",
    "for i in find_anomalies(df[\"HDL\"],2):\n",
    "    df = df[df.LDL != i]\n",
    "df[\"HDL\"].describe()"
   ]
  },
  {
   "cell_type": "code",
   "execution_count": 17,
   "metadata": {},
   "outputs": [
    {
     "data": {
      "image/png": "[encoded data removed]",
      "text/plain": [
       "<Figure size 432x288 with 1 Axes>"
      ]
     },
     "metadata": {
      "needs_background": "light"
     },
     "output_type": "display_data"
    },
    {
     "data": {
      "image/png": "[encoded data removed]",
      "text/plain": [
       "<Figure size 432x288 with 1 Axes>"
      ]
     },
     "metadata": {
      "needs_background": "light"
     },
     "output_type": "display_data"
    }
   ],
   "source": [
    "hist_before = df.hist(column=['HDL'], range=[0, 6])\n",
    "df[\"HDL\"] = np.log(df[\"HDL\"]+1)\n",
    "hist_after = df.hist(column=['HDL'])\n",
    "\n"
   ]
  },
  {
   "cell_type": "code",
   "execution_count": 18,
   "metadata": {},
   "outputs": [
    {
     "name": "stdout",
     "output_type": "stream",
     "text": [
      "32\n"
     ]
    },
    {
     "data": {
      "text/plain": [
       "count    4821.000000\n",
       "mean        2.829250\n",
       "std         0.879974\n",
       "min         0.362000\n",
       "25%         2.198000\n",
       "50%         2.767000\n",
       "75%         3.388000\n",
       "max         5.612000\n",
       "Name: LDL, dtype: float64"
      ]
     },
     "execution_count": 18,
     "metadata": {},
     "output_type": "execute_result"
    },
    {
     "data": {
      "image/png": "[encoded data removed]",
      "text/plain": [
       "<Figure size 432x288 with 1 Axes>"
      ]
     },
     "metadata": {
      "needs_background": "light"
     },
     "output_type": "display_data"
    },
    {
     "data": {
      "image/png": "[encoded data removed]",
      "text/plain": [
       "<Figure size 432x288 with 1 Axes>"
      ]
     },
     "metadata": {
      "needs_background": "light"
     },
     "output_type": "display_data"
    }
   ],
   "source": [
    "print(len(find_anomalies(df[\"LDL\"],3)))\n",
    "boxplot = df.boxplot(column=['LDL'])\n",
    "hist = df.hist(column=['LDL'])\n",
    "for i in find_anomalies(df[\"LDL\"],3):\n",
    "    df = df[df.LDL != i]\n",
    "df[\"LDL\"].describe()"
   ]
  },
  {
   "cell_type": "code",
   "execution_count": 19,
   "metadata": {},
   "outputs": [
    {
     "data": {
      "image/png": "[encoded data removed]",
      "text/plain": [
       "<Figure size 432x288 with 1 Axes>"
      ]
     },
     "metadata": {
      "needs_background": "light"
     },
     "output_type": "display_data"
    }
   ],
   "source": [
    "hist_before = df.hist(column=['LDL'], range = [0,6])\n"
   ]
  },
  {
   "cell_type": "code",
   "execution_count": 20,
   "metadata": {},
   "outputs": [
    {
     "name": "stdout",
     "output_type": "stream",
     "text": [
      "120\n"
     ]
    },
    {
     "data": {
      "text/plain": [
       "count    4994.000000\n",
       "mean        5.829674\n",
       "std         1.202900\n",
       "min         1.170000\n",
       "25%         5.162000\n",
       "50%         5.550000\n",
       "75%         6.100000\n",
       "max        12.268000\n",
       "Name: fasting_glucose, dtype: float64"
      ]
     },
     "execution_count": 20,
     "metadata": {},
     "output_type": "execute_result"
    },
    {
     "data": {
      "image/png": "[encoded data removed]",
      "text/plain": [
       "<Figure size 432x288 with 1 Axes>"
      ]
     },
     "metadata": {
      "needs_background": "light"
     },
     "output_type": "display_data"
    },
    {
     "data": {
      "image/png": "[encoded data removed]",
      "text/plain": [
       "<Figure size 432x288 with 1 Axes>"
      ]
     },
     "metadata": {
      "needs_background": "light"
     },
     "output_type": "display_data"
    }
   ],
   "source": [
    "print(len(find_anomalies(df[\"fasting_glucose\"],4)))\n",
    "boxplot = df.boxplot(column=['fasting_glucose'])\n",
    "hist = df.hist(column=['fasting_glucose'])\n",
    "for i in find_anomalies(df[\"fasting_glucose\"],4):\n",
    "    df = df[df.fasting_glucose != i]\n",
    "df[\"fasting_glucose\"].describe()"
   ]
  },
  {
   "cell_type": "code",
   "execution_count": 21,
   "metadata": {},
   "outputs": [
    {
     "data": {
      "image/png": "[encoded data removed]",
      "text/plain": [
       "<Figure size 432x288 with 1 Axes>"
      ]
     },
     "metadata": {
      "needs_background": "light"
     },
     "output_type": "display_data"
    },
    {
     "data": {
      "image/png": "[encoded data removed]",
      "text/plain": [
       "<Figure size 432x288 with 1 Axes>"
      ]
     },
     "metadata": {
      "needs_background": "light"
     },
     "output_type": "display_data"
    }
   ],
   "source": [
    "hist_before = df.hist(column=['fasting_glucose'], range = [1,13])\n",
    "df[\"fasting_glucose\"] = np.log(df[\"fasting_glucose\"])\n",
    "hist_after = df.hist(column=['fasting_glucose'])"
   ]
  },
  {
   "cell_type": "code",
   "execution_count": 22,
   "metadata": {},
   "outputs": [
    {
     "name": "stdout",
     "output_type": "stream",
     "text": [
      "56\n"
     ]
    },
    {
     "data": {
      "text/plain": [
       "count    4847.000000\n",
       "mean       71.626420\n",
       "std        57.997836\n",
       "min         0.840000\n",
       "25%        34.800000\n",
       "50%        54.780000\n",
       "75%        87.120000\n",
       "max       420.540000\n",
       "Name: insulin, dtype: float64"
      ]
     },
     "execution_count": 22,
     "metadata": {},
     "output_type": "execute_result"
    },
    {
     "data": {
      "image/png": "[encoded data removed]",
      "text/plain": [
       "<Figure size 432x288 with 1 Axes>"
      ]
     },
     "metadata": {
      "needs_background": "light"
     },
     "output_type": "display_data"
    },
    {
     "data": {
      "image/png": "[encoded data removed]",
      "text/plain": [
       "<Figure size 432x288 with 1 Axes>"
      ]
     },
     "metadata": {
      "needs_background": "light"
     },
     "output_type": "display_data"
    }
   ],
   "source": [
    "print(len(find_anomalies(df[\"insulin\"],5)))\n",
    "boxplot = df.boxplot(column=['insulin'])\n",
    "hist = df.hist(column=['insulin'])\n",
    "for i in find_anomalies(df[\"insulin\"],5):\n",
    "    df = df[df.insulin != i]\n",
    "df[\"insulin\"].describe()"
   ]
  },
  {
   "cell_type": "code",
   "execution_count": 23,
   "metadata": {},
   "outputs": [
    {
     "data": {
      "image/png": "[encoded data removed]",
      "text/plain": [
       "<Figure size 432x288 with 1 Axes>"
      ]
     },
     "metadata": {
      "needs_background": "light"
     },
     "output_type": "display_data"
    },
    {
     "data": {
      "image/png": "[encoded data removed]",
      "text/plain": [
       "<Figure size 432x288 with 1 Axes>"
      ]
     },
     "metadata": {
      "needs_background": "light"
     },
     "output_type": "display_data"
    }
   ],
   "source": [
    "hist_before = df.hist(column=['insulin'], range=[0, 500])\n",
    "df[\"insulin\"] = np.log(df[\"insulin\"])\n",
    "hist_after = df.hist(column=['insulin'])"
   ]
  },
  {
   "cell_type": "code",
   "execution_count": 24,
   "metadata": {},
   "outputs": [
    {
     "name": "stdout",
     "output_type": "stream",
     "text": [
      "15\n"
     ]
    },
    {
     "data": {
      "text/plain": [
       "count    549.000000\n",
       "mean       1.358597\n",
       "std        1.662584\n",
       "min        0.010000\n",
       "25%        0.110000\n",
       "50%        0.670000\n",
       "75%        2.000000\n",
       "max        8.100000\n",
       "Name: sugar, dtype: float64"
      ]
     },
     "execution_count": 24,
     "metadata": {},
     "output_type": "execute_result"
    },
    {
     "data": {
      "image/png": "[encoded data removed]",
      "text/plain": [
       "<Figure size 432x288 with 1 Axes>"
      ]
     },
     "metadata": {
      "needs_background": "light"
     },
     "output_type": "display_data"
    },
    {
     "data": {
      "image/png": "[encoded data removed]",
      "text/plain": [
       "<Figure size 432x288 with 1 Axes>"
      ]
     },
     "metadata": {
      "needs_background": "light"
     },
     "output_type": "display_data"
    }
   ],
   "source": [
    "print(len(find_anomalies(df[\"sugar\"],6)))\n",
    "boxplot = df.boxplot(column=['sugar'])\n",
    "hist = df.hist(column=['sugar'])\n",
    "for i in find_anomalies(df[\"sugar\"],6):\n",
    "    df = df[df.sugar != i]\n",
    "df[\"sugar\"].describe()"
   ]
  },
  {
   "cell_type": "code",
   "execution_count": 25,
   "metadata": {},
   "outputs": [
    {
     "data": {
      "image/png": "[encoded data removed]",
      "text/plain": [
       "<Figure size 432x288 with 1 Axes>"
      ]
     },
     "metadata": {
      "needs_background": "light"
     },
     "output_type": "display_data"
    },
    {
     "data": {
      "image/png": "[encoded data removed]",
      "text/plain": [
       "<Figure size 432x288 with 1 Axes>"
      ]
     },
     "metadata": {
      "needs_background": "light"
     },
     "output_type": "display_data"
    }
   ],
   "source": [
    "hist_before = df.hist(column=['sugar'], range=[0, 9])\n",
    "df[\"sugar\"] = np.log(df[\"sugar\"])\n",
    "hist_after = df.hist(column=['sugar'])"
   ]
  },
  {
   "cell_type": "code",
   "execution_count": 26,
   "metadata": {},
   "outputs": [
    {
     "name": "stdout",
     "output_type": "stream",
     "text": [
      "61\n"
     ]
    },
    {
     "data": {
      "text/plain": [
       "count    4691.000000\n",
       "mean      122.039650\n",
       "std        16.350069\n",
       "min        70.666667\n",
       "25%       110.666667\n",
       "50%       119.333333\n",
       "75%       131.333333\n",
       "max       176.000000\n",
       "Name: sysBP, dtype: float64"
      ]
     },
     "execution_count": 26,
     "metadata": {},
     "output_type": "execute_result"
    },
    {
     "data": {
      "image/png": "[encoded data removed]",
      "text/plain": [
       "<Figure size 432x288 with 1 Axes>"
      ]
     },
     "metadata": {
      "needs_background": "light"
     },
     "output_type": "display_data"
    },
    {
     "data": {
      "image/png": "[encoded data removed]",
      "text/plain": [
       "<Figure size 432x288 with 1 Axes>"
      ]
     },
     "metadata": {
      "needs_background": "light"
     },
     "output_type": "display_data"
    }
   ],
   "source": [
    "print(len(find_anomalies(df[\"sysBP\"],7)))\n",
    "boxplot = df.boxplot(column=['sysBP'])\n",
    "hist = df.hist(column=['sysBP'])\n",
    "for i in find_anomalies(df[\"sysBP\"],7):\n",
    "    df = df[df.sysBP != i]\n",
    "df[\"sysBP\"].describe()"
   ]
  },
  {
   "cell_type": "code",
   "execution_count": 27,
   "metadata": {},
   "outputs": [
    {
     "data": {
      "image/png": "[encoded data removed]",
      "text/plain": [
       "<Figure size 432x288 with 1 Axes>"
      ]
     },
     "metadata": {
      "needs_background": "light"
     },
     "output_type": "display_data"
    },
    {
     "data": {
      "image/png": "[encoded data removed]",
      "text/plain": [
       "<Figure size 432x288 with 1 Axes>"
      ]
     },
     "metadata": {
      "needs_background": "light"
     },
     "output_type": "display_data"
    }
   ],
   "source": [
    "hist_before = df.hist(column=['sysBP'], range=[70, 180])\n",
    "df[\"sysBP\"] = np.log(df[\"sysBP\"])\n",
    "hist_after = df.hist(column=['sysBP'])"
   ]
  },
  {
   "cell_type": "code",
   "execution_count": 28,
   "metadata": {},
   "outputs": [
    {
     "name": "stdout",
     "output_type": "stream",
     "text": [
      "52\n"
     ]
    },
    {
     "data": {
      "text/plain": [
       "count    4639.000000\n",
       "mean       68.626141\n",
       "std        10.947227\n",
       "min        32.000000\n",
       "25%        61.333333\n",
       "50%        68.666667\n",
       "75%        75.333333\n",
       "max       104.666667\n",
       "Name: diaBP, dtype: float64"
      ]
     },
     "execution_count": 28,
     "metadata": {},
     "output_type": "execute_result"
    },
    {
     "data": {
      "image/png": "[encoded data removed]",
      "text/plain": [
       "<Figure size 432x288 with 1 Axes>"
      ]
     },
     "metadata": {
      "needs_background": "light"
     },
     "output_type": "display_data"
    },
    {
     "data": {
      "image/png": "[encoded data removed]",
      "text/plain": [
       "<Figure size 432x288 with 1 Axes>"
      ]
     },
     "metadata": {
      "needs_background": "light"
     },
     "output_type": "display_data"
    }
   ],
   "source": [
    "print(len(find_anomalies(df[\"diaBP\"],8)))\n",
    "boxplot = df.boxplot(column=['diaBP'])\n",
    "hist = df.hist(column=['diaBP'])\n",
    "for i in find_anomalies(df[\"diaBP\"],8):\n",
    "    df = df[df.diaBP != i]\n",
    "df[\"diaBP\"].describe()"
   ]
  },
  {
   "cell_type": "code",
   "execution_count": 29,
   "metadata": {},
   "outputs": [
    {
     "data": {
      "image/png": "[encoded data removed]",
      "text/plain": [
       "<Figure size 432x288 with 1 Axes>"
      ]
     },
     "metadata": {
      "needs_background": "light"
     },
     "output_type": "display_data"
    }
   ],
   "source": [
    "hist_before = df.hist(column=['diaBP'], range=[30, 105])\n"
   ]
  },
  {
   "cell_type": "markdown",
   "metadata": {},
   "source": [
    "### Imputation of Missing values"
   ]
  },
  {
   "cell_type": "code",
   "execution_count": 30,
   "metadata": {},
   "outputs": [],
   "source": [
    "# purpose:   Plot histograms showing the distribution of a feature before and after filling NaN\n",
    "#            to see the change in distribution. This can tell you if the filling method is \n",
    "#            correct or not.\n",
    "# input:     feature0: str0\n",
    "#            feature: str\n",
    "#            title of the plot\n",
    "\n",
    "def plot_before_after(before,after,feature):\n",
    "    fig, ax = plt.subplots()\n",
    "    ax.hist(after,alpha=0.5,color='red')\n",
    "    ax.hist(before)\n",
    "    ax.legend(['after','before'])\n",
    "    plt.title('Before vs. After(no NaN):'+feature)\n",
    "    plt.ylabel('Frequency')\n",
    "\n",
    "def plot_feature(feature):\n",
    "    plt.figure()\n",
    "    df[feature].hist()\n",
    "    plt.title(feature)\n",
    "    plt.ylabel('Frequency')"
   ]
  },
  {
   "cell_type": "code",
   "execution_count": 31,
   "metadata": {},
   "outputs": [],
   "source": [
    "# function:  fill_NaN(df, feature, fill_type)\n",
    "# purpose:   fill the missing values in ***one column/feature*** in the given df. \n",
    "# input:     df: the df containing the target column to be filled\n",
    "#            feature: the column whose NaN's are dealt with\n",
    "#            fill_type: choose among -> 'mean', 'mode', 'zero' \n",
    "#                       mean: if the feature is continuous without outliers - normal distribution\n",
    "#                       median: if the feature is continuous with outliers - skewed distribution\n",
    "#                       mode: if the feature is categorical\n",
    "# output:    a df whose target column is filled (no more NaN in that col)\n",
    "\n",
    "def fill_NaN(df, feature, fill_type):    \n",
    "    before_filling = df[feature].dropna().copy(deep=True)\n",
    "    if fill_type == 'mean':\n",
    "        after_filling = df[feature].fillna(df[feature].dropna().mean())\n",
    "    elif fill_type == 'mode':\n",
    "        after_filling = df[feature].fillna(df[feature].dropna().mode().iloc[0])\n",
    "    elif fill_type == 'std':\n",
    "        after_filling = fill_NaN_std(df, feature)\n",
    "#     elif fill_type == 'median':\n",
    "#         after_filling = df[feature].fillna(df[feature].dropna().median())\n",
    "    else:\n",
    "        # fill type == 'zero' (new category)\n",
    "        # set missing values as another category \n",
    "        # cannot set this new cat as 0 since there could be 0 after applying clean_epsilon function  \n",
    "        # need to get a unique number representing NaN as a new category \n",
    "        new_type = 0\n",
    "        after_filling = df[feature].fillna(new_type)   \n",
    "    df[feature] = after_filling\n",
    "    plot_before_after(before_filling, after_filling, feature)\n",
    "    return df\n",
    "\n",
    "\n",
    "def fill_NaN_std(df,feature):\n",
    "    feature_avg = df[feature].mean()\n",
    "    feature_std = df[feature].std()\n",
    "    feature_null_count = df[feature].isnull().sum()\n",
    "    feature_null_random_list = np.random.randint(feature_avg - feature_std, feature_avg + feature_std, size=feature_null_count)\n",
    "    df[feature][np.isnan(df[feature])] = feature_null_random_list\n",
    "    after_filling = df[feature].astype(int)\n",
    "    return after_filling\n",
    "\n",
    "\n"
   ]
  },
  {
   "cell_type": "code",
   "execution_count": 32,
   "metadata": {},
   "outputs": [],
   "source": [
    "# function:  predict_NaN_with_ML(df,x,y,data_type,model)\n",
    "# purpose:   predict the values of NaN and fill these predicted values back into the dataframe\n",
    "# input:     df: the dataframe containing the features used for prediction and target y(target feature)\n",
    "#            x: a list of strings - features used for prediction - no NAN in all x's\n",
    "#            y: a string - target feature\n",
    "#            data_type: a string ->'categorical','numerical'\n",
    "#            \n",
    "# process: CV was used to set the hyperparamters ; and the model with a higher accuracy was chosen to impute the missing data\n",
    "\n",
    "\n",
    "def predict_NaN_with_ML(df,x,y,data_type):\n",
    "    before_filling = df[y].dropna().copy(deep=True)\n",
    "    # build model using valid entries  \n",
    "    valid_entries = df[df[y].notnull()]                # rows where y is not NaN (valid entries)\n",
    "    print(valid_entries)\n",
    "    valid_entries_x = valid_entries[x]                 # all x's for valid rows (x's are not NaN)\n",
    "    print(valid_entries_x)\n",
    "    valid_entries_y = valid_entries[y]                 # y for valid rows (y's are not NaN) \n",
    "    print(valid_entries_y)\n",
    "    valid_entries_x = valid_entries_x.astype(float)    # change data type to float\n",
    "    valid_entries_y = valid_entries_y.astype(float)\n",
    "    \n",
    "        \n",
    "    if data_type == 'categorical':\n",
    "        #Random Forest\n",
    "        n_estimators = [int(x) for x in np.linspace(start = 5, stop = 10, num = 1)]\n",
    "        max_features = ['auto', 'sqrt']\n",
    "        max_depth = [int(x) for x in np.linspace(10, 110, num = 11)]\n",
    "        max_depth.append(None)\n",
    "        min_samples_split = [10, 20]\n",
    "        min_samples_leaf = [10, 20]\n",
    "        bootstrap = [True, False]\n",
    "        random_grid = {'n_estimators': n_estimators,\n",
    "        'max_features': max_features,\n",
    "        'max_depth': max_depth,\n",
    "        'min_samples_split': min_samples_split,\n",
    "        'min_samples_leaf': min_samples_leaf,\n",
    "        'bootstrap': bootstrap}\n",
    "        rf = RandomForestClassifier()\n",
    "        rf_random = RandomizedSearchCV(estimator = rf, param_distributions = random_grid, n_iter = 100, cv = 5, verbose=2, random_state=42, n_jobs = -1)\n",
    "        rf_random.fit(valid_entries_x, valid_entries_y)\n",
    "        estimators = rf_random.best_params_['n_estimators']\n",
    "        features = rf_random.best_params_['max_features']\n",
    "        depth = rf_random.best_params_['max_depth']\n",
    "        samples_split_min = rf_random.best_params_['min_samples_split']\n",
    "        samples_leaf_min = rf_random.best_params_['min_samples_leaf']\n",
    "        bstrap = rf_random.best_params_['bootstrap']\n",
    "        rf_random.best_score_\n",
    "        print(\"The best accuracy of\", rf_random.best_score_, \"is given by\",estimators , \"estimators\", features, \"max features\", depth, \"max_depth\",samples_split_min, \"min samples split\", samples_leaf_min,\"min samples leaf\", bstrap, \"bootstrap\", \"parameters\" )\n",
    "\n",
    "\n",
    "        #kNN\n",
    "        k_range = list(range(1, 50))\n",
    "        param_grid = dict(n_neighbors=k_range)\n",
    "        grid = GridSearchCV(KNeighborsClassifier(), param_grid, cv=5, scoring='accuracy')\n",
    "        grid.fit(valid_entries_x, valid_entries_y)\n",
    "        k = grid.best_params_[\"n_neighbors\"]\n",
    "        print(\"The best accuracy of\", grid.best_score_, \"is given by\", k, \"clusters\")\n",
    "\n",
    "            \n",
    "       \n",
    "        if rf_random.best_score_>grid.best_score_ :\n",
    "            algo = RandomForestClassifier(n_estimators=estimators,max_features=features,max_depth=depth,min_samples_split=samples_split_min,  min_samples_leaf=samples_leaf_min, bootstrap =  bstrap)   \n",
    "            print(\"Random Forest provides better accuracy\")\n",
    "            algo.fit(valid_entries_x, valid_entries_y)\n",
    "               \n",
    "            #predict y (target feature)\n",
    "            nan_entries = df[df[y].isnull()]                    # rows where y is NaN     \n",
    "            nan_entries_x = nan_entries[x].astype(float)    \n",
    "            nan_entries_y = nan_entries[y].astype(float)\n",
    "    \n",
    "            predict_y = algo.predict(nan_entries_x)             # predict NaN y based on x on the same entries    \n",
    "            df.loc[df[y].isna(), y] = predict_y                 # fill the missing values with predicted data\n",
    "            print('Features used for predicting',y, 'are:',x)\n",
    "            print('The number of predicted values:',len(predict_y))\n",
    "    \n",
    "            after_filling = df[y]\n",
    "            plot_before_after(before_filling, after_filling, y)\n",
    "        else:\n",
    "            algo = KNeighborsClassifier(n_neighbors=k)\n",
    "            print(\"kNN provides better accuracy\")\n",
    "            algo.fit(valid_entries_x, valid_entries_y)\n",
    "            \n",
    "            #predict y (target feature)\n",
    "            nan_entries = df[df[y].isnull()]                    # rows where y is NaN     \n",
    "            nan_entries_x = nan_entries[x].astype(float)    \n",
    "            nan_entries_y = nan_entries[y].astype(float)\n",
    "    \n",
    "            predict_y = algo.predict(nan_entries_x)             # predict NaN y based on x on the same entries    \n",
    "            df.loc[df[y].isna(), y] = predict_y                 # fill the missing values with predicted data\n",
    "            print('Features used for predicting',y, 'are:',x)\n",
    "            print('The number of predicted values:',len(predict_y))\n",
    "    \n",
    "            after_filling = df[y]\n",
    "            plot_before_after(before_filling, after_filling, y)\n",
    "\n",
    "                \n",
    "    elif data_type == 'numerical':\n",
    "        #Random Forest\n",
    "        n_estimators = [int(x) for x in np.linspace(start = 5, stop = 10, num = 1)]\n",
    "        max_features = ['auto', 'sqrt']\n",
    "        max_depth = [int(x) for x in np.linspace(10, 110, num = 11)]\n",
    "        max_depth.append(None)\n",
    "        min_samples_split = [10, 20]\n",
    "        min_samples_leaf = [10, 20]\n",
    "        bootstrap = [True, False]\n",
    "        random_grid = {'n_estimators': n_estimators,\n",
    "        'max_features': max_features,\n",
    "        'max_depth': max_depth,\n",
    "        'min_samples_split': min_samples_split,\n",
    "        'min_samples_leaf': min_samples_leaf,\n",
    "        'bootstrap': bootstrap}\n",
    "        rf = RandomForestRegressor()\n",
    "        rf_random = RandomizedSearchCV(estimator = rf, param_distributions = random_grid, n_iter = 100, cv = 5, verbose=2, random_state=42, n_jobs = -1)\n",
    "        rf_random.fit(valid_entries_x, valid_entries_y)\n",
    "        estimators = rf_random.best_params_['n_estimators']\n",
    "        features = rf_random.best_params_['max_features']\n",
    "        depth = rf_random.best_params_['max_depth']\n",
    "        samples_split_min = rf_random.best_params_['min_samples_split']\n",
    "        samples_leaf_min = rf_random.best_params_['min_samples_leaf']\n",
    "        bstrap = rf_random.best_params_['bootstrap']\n",
    "        rf_random.best_score_\n",
    "        print(\"The best accuracy of\", rf_random.best_score_, \"is given by\",estimators , \"estimators\", features, \"max features\", depth, \"max_depth\",samples_split_min, \"min samples split\", samples_leaf_min,\"min samples leaf\", bstrap, \"bootstrap\", \"parameters\" )\n",
    "\n",
    "        #kNN\n",
    "        k_range = list(range(1, 50))\n",
    "        param_grid = dict(n_neighbors=k_range)\n",
    "        grid = GridSearchCV(KNeighborsRegressor(), param_grid, cv=5)\n",
    "        grid.fit(valid_entries_x, valid_entries_y)\n",
    "        k = grid.best_params_[\"n_neighbors\"]\n",
    "        print(\"The best accuracy of\", grid.best_score_, \"is given by\", k, \"clusters\")\n",
    "        \n",
    "        \n",
    "        \n",
    "        if rf_random.best_score_>grid.best_score_ :\n",
    "            algo = RandomForestRegressor(n_estimators=estimators,max_features=features,max_depth=depth,  min_samples_split=samples_split_min,  min_samples_leaf=samples_leaf_min, bootstrap =  bstrap)   \n",
    "            print(\"Random Forest provides better accuracy\")\n",
    "            algo.fit(valid_entries_x, valid_entries_y)\n",
    "               \n",
    "            #predict y (target feature)\n",
    "            nan_entries = df[df[y].isnull()]                    # rows where y is NaN     \n",
    "            nan_entries_x = nan_entries[x].astype(float)    \n",
    "            nan_entries_y = nan_entries[y].astype(float)\n",
    "    \n",
    "            predict_y = algo.predict(nan_entries_x)             # predict NaN y based on x on the same entries    \n",
    "            df.loc[df[y].isna(), y] = predict_y                 # fill the missing values with predicted data\n",
    "            print('Features used for predicting',y, 'are:',x)\n",
    "            print('The number of predicted values:',len(predict_y))\n",
    "    \n",
    "            after_filling = df[y]\n",
    "            plot_before_after(before_filling, after_filling, y)\n",
    "        else:\n",
    "            algo = KNeighborsRegressor(n_neighbors=k)\n",
    "            print(\"kNN provides better accuracy\")\n",
    "            categorial = ['12drinksayear','5drinksaday','5drinks2hours','gender','race']\n",
    "            numerical = ['BMI','LDL','age','fasting_glucose','sysBP','diaBP','sugar']\n",
    "            for i in x:\n",
    "                if i in numerical:\n",
    "                    valid_entries_x['i'] = preprocessing.scale(valid_entries_x['i'])\n",
    "   \n",
    "            algo.fit(valid_entries_x, valid_entries_y)\n",
    "            \n",
    "            #predict y (target feature)\n",
    "            nan_entries = df[df[y].isnull()]                    # rows where y is NaN     \n",
    "            nan_entries_x = nan_entries[x].astype(float)    \n",
    "            nan_entries_y = nan_entries[y].astype(float)\n",
    "    \n",
    "            predict_y = algo.predict(nan_entries_x)             # predict NaN y based on x on the same entries    \n",
    "            df.loc[df[y].isna(), y] = predict_y                 # fill the missing values with predicted data\n",
    "            print('Features used for predicting',y, 'are:',x)\n",
    "            print('The number of predicted values:',len(predict_y))\n",
    "    \n",
    "            after_filling = df[y]\n",
    "            plot_before_after(before_filling, after_filling, y)\n",
    "    "
   ]
  },
  {
   "cell_type": "code",
   "execution_count": 33,
   "metadata": {},
   "outputs": [
    {
     "name": "stdout",
     "output_type": "stream",
     "text": [
      "439 patient entries are dropped since they contain more than 6 NaN variables\n"
     ]
    }
   ],
   "source": [
    "#Drop the entire patient entry if that entry contains more than 6 NaN features out of 16 features (keep entries with more than 10 non-NaN values)\n",
    "before = len(df.index)\n",
    "df.dropna(thresh = 10,inplace = True)\n",
    "after = len(df.index)\n",
    "print(before-after,'patient entries are dropped since they contain more than 6 NaN variables')"
   ]
  },
  {
   "cell_type": "code",
   "execution_count": 34,
   "metadata": {},
   "outputs": [
    {
     "name": "stdout",
     "output_type": "stream",
     "text": [
      "<class 'pandas.core.frame.DataFrame'>\n",
      "Float64Index: 4640 entries, 73559.0 to 93697.0\n",
      "Data columns (total 13 columns):\n",
      "BMI                4607 non-null float64\n",
      "HDL                4639 non-null float64\n",
      "LDL                4433 non-null float64\n",
      "age                4640 non-null float64\n",
      "alc_days_year      3586 non-null float64\n",
      "diabetes           4640 non-null float64\n",
      "fasting_glucose    4634 non-null float64\n",
      "gender             4640 non-null float64\n",
      "insulin            4585 non-null float64\n",
      "race               4640 non-null float64\n",
      "sugar              511 non-null float64\n",
      "sysBP              4380 non-null float64\n",
      "diaBP              4380 non-null float64\n",
      "dtypes: float64(13)\n",
      "memory usage: 507.5 KB\n"
     ]
    }
   ],
   "source": [
    "df.info()\n"
   ]
  },
  {
   "cell_type": "markdown",
   "metadata": {},
   "source": [
    "### Adding dummy variables to indicate missing value in a given row for each feature"
   ]
  },
  {
   "cell_type": "code",
   "execution_count": 35,
   "metadata": {},
   "outputs": [
    {
     "name": "stdout",
     "output_type": "stream",
     "text": [
      "           BMI       HDL    LDL   age  alc_days_year  diabetes  \\\n",
      "0     3.363842  0.936093  1.448  72.0            0.0       1.0   \n",
      "1     2.980619  1.163151  2.612  73.0            0.0       2.0   \n",
      "2     3.575151  0.916291  2.508  61.0            2.0       2.0   \n",
      "3     3.010621  1.247032  1.733  26.0            2.0       2.0   \n",
      "4     3.126761  0.862890  1.940  33.0            NaN       2.0   \n",
      "...        ...       ...    ...   ...            ...       ...   \n",
      "4635  3.100092  0.966984  2.793  34.0            2.0       2.0   \n",
      "4636  3.039749  0.985817    NaN  41.0            NaN       2.0   \n",
      "4637  3.335770  1.128171  1.888  69.0            0.0       1.0   \n",
      "4638  3.068053  1.015231  1.448  76.0            NaN       2.0   \n",
      "4639  3.433987  1.360977  3.284  80.0            2.0       2.0   \n",
      "\n",
      "      fasting_glucose  gender   insulin  race  ...  gender_NaN  LDL_NaN  \\\n",
      "0            2.371458     1.0  3.554776   3.0  ...           0        0   \n",
      "1            1.781709     2.0  3.603322   3.0  ...           0        0   \n",
      "2            1.809272     2.0  4.493792   3.0  ...           0        0   \n",
      "3            1.597365     2.0  3.139833   3.0  ...           0        0   \n",
      "4            1.539659     2.0  3.591818   6.0  ...           0        0   \n",
      "...               ...     ...       ...   ...  ...         ...      ...   \n",
      "4635         1.562346     2.0  2.958030   3.0  ...           0        0   \n",
      "4636         1.921325     2.0  5.398886   6.0  ...           0        1   \n",
      "4637         1.791759     2.0  3.407179   1.0  ...           0        0   \n",
      "4638         1.763017     2.0  5.233459   3.0  ...           0        0   \n",
      "4639         1.704748     2.0  3.655840   3.0  ...           0        0   \n",
      "\n",
      "      HDL_NaN  insulin_NaN  age_NaN  race_NaN  sugar_NaN  sysBP_NaN  \\\n",
      "0           0            0        0         0          1          0   \n",
      "1           0            0        0         0          1          0   \n",
      "2           0            0        0         0          0          0   \n",
      "3           0            0        0         0          1          0   \n",
      "4           0            0        0         0          1          0   \n",
      "...       ...          ...      ...       ...        ...        ...   \n",
      "4635        0            0        0         0          1          0   \n",
      "4636        0            0        0         0          1          0   \n",
      "4637        0            0        0         0          1          0   \n",
      "4638        0            0        0         0          1          0   \n",
      "4639        0            0        0         0          1          0   \n",
      "\n",
      "      diaBP_NaN  alc_days_year_NaN  \n",
      "0             0                  0  \n",
      "1             0                  0  \n",
      "2             0                  0  \n",
      "3             0                  0  \n",
      "4             0                  1  \n",
      "...         ...                ...  \n",
      "4635          0                  0  \n",
      "4636          0                  1  \n",
      "4637          0                  0  \n",
      "4638          0                  1  \n",
      "4639          0                  0  \n",
      "\n",
      "[4640 rows x 25 columns]\n"
     ]
    }
   ],
   "source": [
    "df.index = range(len(df))\n",
    "for x in ['BMI', 'fasting_glucose', 'gender', 'LDL','HDL','insulin','age', 'race', 'sugar', 'sysBP', 'diaBP','alc_days_year']:\n",
    "    dummy=pd.get_dummies(df[x],dummy_na=True)\n",
    "    dummy.columns=dummy.columns.astype(str)\n",
    "    y=x+\"_\"+\"NaN\"\n",
    "    dummy.rename(columns={'nan':y},inplace= True)\n",
    "    s=pd.DataFrame(dummy[y])\n",
    "    df=pd.concat([df,s],axis=1)\n",
    "print(df)"
   ]
  },
  {
   "cell_type": "markdown",
   "metadata": {},
   "source": [
    "### BMI was first chosen as it had the lowest % of missing values "
   ]
  },
  {
   "cell_type": "markdown",
   "metadata": {},
   "source": [
    "#### Numerical variable with no cstr\n",
    "below 18.5 – underweight\n",
    "between 18.5 and 24.9 – healthy weight range\n",
    "between 25 and 29.9 - overweight (diabetes risk factor)"
   ]
  },
  {
   "cell_type": "code",
   "execution_count": 36,
   "metadata": {},
   "outputs": [
    {
     "name": "stdout",
     "output_type": "stream",
     "text": [
      "\n",
      "The NaN ratio in BMI is 0.007\n",
      "Since NaN ratio is small, fill NaN directly with fill type: mode, mean, new category\n",
      "Now call function: fill_NaN(df, feature, fill_type)\n"
     ]
    },
    {
     "data": {
      "text/plain": [
       "count    4640.000000\n",
       "mean        3.329044\n",
       "std         0.217767\n",
       "min         2.714695\n",
       "25%         3.173878\n",
       "50%         3.321432\n",
       "75%         3.468856\n",
       "max         3.921973\n",
       "Name: BMI, dtype: float64"
      ]
     },
     "execution_count": 36,
     "metadata": {},
     "output_type": "execute_result"
    },
    {
     "data": {
      "image/png": "[encoded data removed]",
      "text/plain": [
       "<Figure size 432x288 with 1 Axes>"
      ]
     },
     "metadata": {
      "needs_background": "light"
     },
     "output_type": "display_data"
    }
   ],
   "source": [
    "get_NaN_ratio(df,'BMI')\n",
    "fill_NaN(df,'BMI','mean')\n",
    "df['BMI'].describe()"
   ]
  },
  {
   "cell_type": "markdown",
   "metadata": {},
   "source": [
    "### Fasting glucose has the second highest % of missing data"
   ]
  },
  {
   "cell_type": "markdown",
   "metadata": {},
   "source": [
    "#### \n",
    "The fasting plasma glucose test (FPG) is the preferred method of screening for diabetes. The FPG measures a person's blood sugar level after fasting or not eating anything for at least 8 hours.\n",
    "\n",
    "The global mean fasting plasma blood glucose level in humans is about 5.5 mmol/L (100 mg/dL); however, this level fluctuates throughout the day.\n",
    "FPG test results:\n",
    "normal: less than 5.6 mmol/L\n",
    "prediabetes: 5.6 ~ 6.9 mmol/L\n",
    "diabetes: 7 mmol/L or higher (on two separate tests)"
   ]
  },
  {
   "cell_type": "code",
   "execution_count": 37,
   "metadata": {},
   "outputs": [
    {
     "name": "stdout",
     "output_type": "stream",
     "text": [
      "\n",
      "The NaN ratio in fasting_glucose is 0.001\n",
      "Since NaN ratio is small, fill NaN directly with fill type: mode, mean, new category\n",
      "Now call function: fill_NaN(df, feature, fill_type)\n"
     ]
    },
    {
     "data": {
      "text/plain": [
       "count    4640.000000\n",
       "mean        1.741000\n",
       "std         0.174103\n",
       "min         0.157004\n",
       "25%         1.641324\n",
       "50%         1.713798\n",
       "75%         1.800224\n",
       "max         2.502419\n",
       "Name: fasting_glucose, dtype: float64"
      ]
     },
     "execution_count": 37,
     "metadata": {},
     "output_type": "execute_result"
    },
    {
     "data": {
      "image/png": "[encoded data removed]",
      "text/plain": [
       "<Figure size 432x288 with 1 Axes>"
      ]
     },
     "metadata": {
      "needs_background": "light"
     },
     "output_type": "display_data"
    }
   ],
   "source": [
    "get_NaN_ratio(df,'fasting_glucose')\n",
    "df = fill_NaN(df,'fasting_glucose','mean')\n",
    "df['fasting_glucose'].describe()"
   ]
  },
  {
   "cell_type": "markdown",
   "metadata": {},
   "source": [
    "### HDL"
   ]
  },
  {
   "cell_type": "code",
   "execution_count": 38,
   "metadata": {},
   "outputs": [
    {
     "name": "stdout",
     "output_type": "stream",
     "text": [
      "\n",
      "The NaN ratio in HDL is 0.000\n",
      "Since NaN ratio is small, fill NaN directly with fill type: mode, mean, new category\n",
      "Now call function: fill_NaN(df, feature, fill_type)\n"
     ]
    },
    {
     "data": {
      "image/png": "[encoded data removed]",
      "text/plain": [
       "<Figure size 432x288 with 1 Axes>"
      ]
     },
     "metadata": {
      "needs_background": "light"
     },
     "output_type": "display_data"
    }
   ],
   "source": [
    "# Check for NaN \n",
    "get_NaN_ratio(df,'HDL')\n",
    "\n",
    "# Since NaN ratios are small, replace NaN with mean values\n",
    "df = fill_NaN(df,'HDL','mean')\n"
   ]
  },
  {
   "cell_type": "markdown",
   "metadata": {},
   "source": [
    "### Insulin"
   ]
  },
  {
   "cell_type": "code",
   "execution_count": 39,
   "metadata": {},
   "outputs": [
    {
     "name": "stdout",
     "output_type": "stream",
     "text": [
      "\n",
      "The NaN ratio in insulin is 0.012\n",
      "Since NaN ratio is small, fill NaN directly with fill type: mode, mean, new category\n",
      "Now call function: fill_NaN(df, feature, fill_type)\n"
     ]
    },
    {
     "data": {
      "image/png": "[encoded data removed]",
      "text/plain": [
       "<Figure size 432x288 with 1 Axes>"
      ]
     },
     "metadata": {
      "needs_background": "light"
     },
     "output_type": "display_data"
    }
   ],
   "source": [
    "# Check for NaN \n",
    "get_NaN_ratio(df,'insulin')\n",
    "\n",
    "# Since NaN ratios are small, replace NaN with mean values\n",
    "df = fill_NaN(df,'insulin','mean')\n"
   ]
  },
  {
   "cell_type": "markdown",
   "metadata": {},
   "source": [
    "### Blood Pressure"
   ]
  },
  {
   "cell_type": "markdown",
   "metadata": {},
   "source": [
    "####\n",
    "High blood pressure, or hypertension, is a condition that’s seen in people with type 2 diabetes. It’s unknown why there’s such a significant relationship between the two diseases. It’s believed that the following contribute to both conditions:\n",
    "\n",
    "obesity\n",
    "a diet high in fat and sodium\n",
    "chronic inflammation\n",
    "inactivity\n",
    "The combination of high blood pressure and type 2 diabetes is particularly lethal and can significantly raise your risk of having a heart attack or stroke."
   ]
  },
  {
   "cell_type": "code",
   "execution_count": 40,
   "metadata": {},
   "outputs": [
    {
     "name": "stdout",
     "output_type": "stream",
     "text": [
      "\n",
      "The NaN ratio in sysBP is 0.056\n",
      "Since NaN ratio is small, fill NaN directly with fill type: mode, mean, new category\n",
      "Now call function: fill_NaN(df, feature, fill_type)\n",
      "\n",
      "The NaN ratio in diaBP is 0.056\n",
      "Since NaN ratio is small, fill NaN directly with fill type: mode, mean, new category\n",
      "Now call function: fill_NaN(df, feature, fill_type)\n"
     ]
    },
    {
     "data": {
      "image/png": "[encoded data removed]",
      "text/plain": [
       "<Figure size 432x288 with 1 Axes>"
      ]
     },
     "metadata": {
      "needs_background": "light"
     },
     "output_type": "display_data"
    },
    {
     "data": {
      "image/png": "[encoded data removed]",
      "text/plain": [
       "<Figure size 432x288 with 1 Axes>"
      ]
     },
     "metadata": {
      "needs_background": "light"
     },
     "output_type": "display_data"
    }
   ],
   "source": [
    "# Check for NaN in sysBP and diaBP\n",
    "get_NaN_ratio(df,'sysBP')\n",
    "get_NaN_ratio(df,'diaBP')\n",
    "\n",
    "# Since NaN ratios are small, replace NaN with mean values\n",
    "df = fill_NaN(df,'sysBP','mean')\n",
    "df = fill_NaN(df,'diaBP','mean')"
   ]
  },
  {
   "cell_type": "markdown",
   "metadata": {},
   "source": [
    "### LDL "
   ]
  },
  {
   "cell_type": "markdown",
   "metadata": {},
   "source": [
    "####\n",
    "cholesterol (mg/dL) - values: 23 to 277\n",
    "LDL stands for low-density lipoproteins. It is sometimes called the \"bad\" cholesterol because a high LDL level leads to a buildup of cholesterol in your arteries. This extra LDL, along with other substances, forms plaque.\n",
    "Diabetes tends to lower HDL levels and raise triglyceride and LDL levels, which increases the risk for heart disease and stroke."
   ]
  },
  {
   "cell_type": "code",
   "execution_count": 41,
   "metadata": {},
   "outputs": [
    {
     "name": "stdout",
     "output_type": "stream",
     "text": [
      "\n",
      "The NaN ratio in LDL is 0.045\n",
      "Since NaN ratio is small, fill NaN directly with fill type: mode, mean, new category\n",
      "Now call function: fill_NaN(df, feature, fill_type)\n",
      "\n",
      "NaN    0\n",
      "2.833058    207\n",
      "2.664000     69\n",
      "2.948000     65\n",
      "2.845000     60\n",
      "2.379000     60\n",
      "           ... \n",
      "0.802000      1\n",
      "1.060000      1\n",
      "5.534000      1\n",
      "0.724000      1\n",
      "5.405000      1\n",
      "Name: LDL, Length: 189, dtype: int64\n"
     ]
    },
    {
     "data": {
      "image/png": "[encoded data removed]",
      "text/plain": [
       "<Figure size 432x288 with 1 Axes>"
      ]
     },
     "metadata": {
      "needs_background": "light"
     },
     "output_type": "display_data"
    }
   ],
   "source": [
    "# Check for NaN \n",
    "get_NaN_ratio(df,'LDL')\n",
    "df = fill_NaN(df,'LDL','mean')\n",
    "get_value_count(df,'LDL')"
   ]
  },
  {
   "cell_type": "markdown",
   "metadata": {},
   "source": [
    "### Diabetes"
   ]
  },
  {
   "cell_type": "code",
   "execution_count": 42,
   "metadata": {},
   "outputs": [],
   "source": [
    "# Change 2(NHANES for No) to 0(False - boolean) for features with YES/NO answers\n",
    "df.loc[df['diabetes'] == 2,['diabetes']] = 0\n",
    "df['diabetes'].value_counts()\n",
    "df = process_cstr(df,feature='diabetes',method='drop',cstr=[7,9])"
   ]
  },
  {
   "cell_type": "code",
   "execution_count": 43,
   "metadata": {},
   "outputs": [
    {
     "name": "stdout",
     "output_type": "stream",
     "text": [
      "\n",
      "The NaN ratio in diabetes is 0.000\n",
      "No missing values detected\n"
     ]
    },
    {
     "data": {
      "text/plain": [
       "0.0    4034\n",
       "1.0     480\n",
       "3.0     124\n",
       "Name: diabetes, dtype: int64"
      ]
     },
     "execution_count": 43,
     "metadata": {},
     "output_type": "execute_result"
    }
   ],
   "source": [
    "get_NaN_ratio(df,'diabetes')\n",
    "df['diabetes'].value_counts()"
   ]
  },
  {
   "cell_type": "code",
   "execution_count": 44,
   "metadata": {},
   "outputs": [
    {
     "name": "stdout",
     "output_type": "stream",
     "text": [
      "10.34928848641656 % people have diabetes\n",
      "2.673566192324278 % people are pre diabetes\n",
      "86.97714532125916 % people do not have diabetes\n"
     ]
    }
   ],
   "source": [
    "db_counts = df['diabetes'].value_counts().to_dict()\n",
    "percentage_yes_db = db_counts[1.0]/df['diabetes'].shape[0]\n",
    "percentage_pre_db = db_counts[3.0]/df['diabetes'].shape[0]\n",
    "percentage_no_db = db_counts[0.0]/df['diabetes'].shape[0]\n",
    "print(percentage_yes_db*100,'% people have diabetes')\n",
    "print(percentage_pre_db*100,'% people are pre diabetes')\n",
    "print(percentage_no_db*100,'% people do not have diabetes')\n"
   ]
  },
  {
   "cell_type": "code",
   "execution_count": 45,
   "metadata": {},
   "outputs": [
    {
     "name": "stdout",
     "output_type": "stream",
     "text": [
      "Baseline accuracy 89.36641559592378\n"
     ]
    }
   ],
   "source": [
    "df = df[df['diabetes'] != 3.0]\n",
    "df['diabetes'].value_counts()\n",
    "percentage_no_db = db_counts[0.0]/df['diabetes'].shape[0]\n",
    "print('Baseline accuracy',percentage_no_db*100)\n"
   ]
  },
  {
   "cell_type": "code",
   "execution_count": 46,
   "metadata": {},
   "outputs": [
    {
     "name": "stdout",
     "output_type": "stream",
     "text": [
      "<class 'pandas.core.frame.DataFrame'>\n",
      "Int64Index: 4514 entries, 0 to 4639\n",
      "Data columns (total 25 columns):\n",
      "BMI                    4514 non-null float64\n",
      "HDL                    4514 non-null float64\n",
      "LDL                    4514 non-null float64\n",
      "age                    4514 non-null float64\n",
      "alc_days_year          3484 non-null float64\n",
      "diabetes               4514 non-null float64\n",
      "fasting_glucose        4514 non-null float64\n",
      "gender                 4514 non-null float64\n",
      "insulin                4514 non-null float64\n",
      "race                   4514 non-null float64\n",
      "sugar                  495 non-null float64\n",
      "sysBP                  4514 non-null float64\n",
      "diaBP                  4514 non-null float64\n",
      "BMI_NaN                4514 non-null uint8\n",
      "fasting_glucose_NaN    4514 non-null uint8\n",
      "gender_NaN             4514 non-null uint8\n",
      "LDL_NaN                4514 non-null uint8\n",
      "HDL_NaN                4514 non-null uint8\n",
      "insulin_NaN            4514 non-null uint8\n",
      "age_NaN                4514 non-null uint8\n",
      "race_NaN               4514 non-null uint8\n",
      "sugar_NaN              4514 non-null uint8\n",
      "sysBP_NaN              4514 non-null uint8\n",
      "diaBP_NaN              4514 non-null uint8\n",
      "alc_days_year_NaN      4514 non-null uint8\n",
      "dtypes: float64(13), uint8(12)\n",
      "memory usage: 546.6 KB\n"
     ]
    }
   ],
   "source": [
    "#Final NaN check\n",
    "df.info()"
   ]
  },
  {
   "cell_type": "code",
   "execution_count": 47,
   "metadata": {},
   "outputs": [],
   "source": [
    "#Drop Sugar and alc_days_year since they have a high % of missing values \n",
    "df.drop(['sugar', 'alc_days_year'], axis=1, inplace = True)\n"
   ]
  },
  {
   "cell_type": "markdown",
   "metadata": {},
   "source": [
    "### One Hot Encoding"
   ]
  },
  {
   "cell_type": "code",
   "execution_count": 48,
   "metadata": {},
   "outputs": [
    {
     "name": "stdout",
     "output_type": "stream",
     "text": [
      "<class 'pandas.core.frame.DataFrame'>\n",
      "Int64Index: 4514 entries, 0 to 4639\n",
      "Data columns (total 29 columns):\n",
      "BMI                    4514 non-null float64\n",
      "HDL                    4514 non-null float64\n",
      "LDL                    4514 non-null float64\n",
      "age                    4514 non-null float64\n",
      "diabetes               4514 non-null float64\n",
      "fasting_glucose        4514 non-null float64\n",
      "insulin                4514 non-null float64\n",
      "sysBP                  4514 non-null float64\n",
      "diaBP                  4514 non-null float64\n",
      "BMI_NaN                4514 non-null uint8\n",
      "fasting_glucose_NaN    4514 non-null uint8\n",
      "gender_NaN             4514 non-null uint8\n",
      "LDL_NaN                4514 non-null uint8\n",
      "HDL_NaN                4514 non-null uint8\n",
      "insulin_NaN            4514 non-null uint8\n",
      "age_NaN                4514 non-null uint8\n",
      "race_NaN               4514 non-null uint8\n",
      "sugar_NaN              4514 non-null uint8\n",
      "sysBP_NaN              4514 non-null uint8\n",
      "diaBP_NaN              4514 non-null uint8\n",
      "alc_days_year_NaN      4514 non-null uint8\n",
      "race_1.0               4514 non-null uint8\n",
      "race_2.0               4514 non-null uint8\n",
      "race_3.0               4514 non-null uint8\n",
      "race_4.0               4514 non-null uint8\n",
      "race_6.0               4514 non-null uint8\n",
      "race_7.0               4514 non-null uint8\n",
      "gender_1.0             4514 non-null uint8\n",
      "gender_2.0             4514 non-null uint8\n",
      "dtypes: float64(9), uint8(20)\n",
      "memory usage: 440.8 KB\n"
     ]
    }
   ],
   "source": [
    "#Race\n",
    "df['race'] = pd.Categorical(df['race'])\n",
    "dfDummies = pd.get_dummies(df['race'], prefix = 'race')\n",
    "df = pd.concat([df, dfDummies], axis=1)\n",
    "\n",
    "#Gender\n",
    "df['gender'] = pd.Categorical(df['gender'])\n",
    "dfDummies = pd.get_dummies(df['gender'], prefix = 'gender')\n",
    "df = pd.concat([df, dfDummies], axis=1)\n",
    "\n",
    "df.drop(['race', 'gender'], axis=1, inplace = True)\n",
    "\n",
    "df.info()\n"
   ]
  },
  {
   "cell_type": "markdown",
   "metadata": {},
   "source": [
    "### Test-Train Split"
   ]
  },
  {
   "cell_type": "code",
   "execution_count": 127,
   "metadata": {},
   "outputs": [
    {
     "name": "stdout",
     "output_type": "stream",
     "text": [
      "length of oversampled data is  5652\n",
      "           BMI       HDL       LDL        age  fasting_glucose   insulin  \\\n",
      "0     3.222868  0.936093  2.224000  50.000000         1.662599  3.948162   \n",
      "1     3.161247  0.947789  2.534000  30.000000         1.630612  4.009875   \n",
      "2     3.693867  0.985817  2.974000  45.000000         1.733424  4.542230   \n",
      "3     3.261935  0.896088  2.664000  75.000000         1.752672  4.674883   \n",
      "4     3.280911  0.737164  3.129000  66.000000         1.630612  4.672081   \n",
      "...        ...       ...       ...        ...              ...       ...   \n",
      "5647  3.213061  0.877689  2.496944  74.043169         1.932781  2.564493   \n",
      "5648  3.343085  0.911710  3.051000  55.000000         1.866969  4.167946   \n",
      "5649  3.459215  0.960403  2.842233  52.622900         1.915659  4.693116   \n",
      "5650  3.536024  0.738365  3.850024  57.728581         1.775689  4.735636   \n",
      "5651  3.764109  0.739519  3.313227  41.430819         2.115090  4.996172   \n",
      "\n",
      "         sysBP      diaBP  BMI_NaN  fasting_glucose_NaN  ...  diaBP_NaN  \\\n",
      "0     4.675939  68.000000      0.0                  0.0  ...        0.0   \n",
      "1     4.529009  62.000000      0.0                  0.0  ...        0.0   \n",
      "2     4.809471  88.000000      0.0                  0.0  ...        0.0   \n",
      "3     4.922411  71.333333      0.0                  0.0  ...        0.0   \n",
      "4     4.793930  68.486301      0.0                  0.0  ...        1.0   \n",
      "...        ...        ...      ...                  ...  ...        ...   \n",
      "5647  4.793930  68.486301      0.0                  0.0  ...        1.0   \n",
      "5648  4.726351  72.228353      0.0                  0.0  ...        0.0   \n",
      "5649  4.893879  80.043766      0.0                  0.0  ...        0.0   \n",
      "5650  4.758230  66.304774      0.0                  0.0  ...        0.0   \n",
      "5651  4.805100  80.092241      0.0                  0.0  ...        0.0   \n",
      "\n",
      "      alc_days_year_NaN  race_1.0  race_2.0  race_3.0  race_4.0  race_6.0  \\\n",
      "0              0.000000       0.0       1.0       0.0  0.000000  0.000000   \n",
      "1              1.000000       0.0       1.0       0.0  0.000000  0.000000   \n",
      "2              0.000000       0.0       0.0       0.0  1.000000  0.000000   \n",
      "3              1.000000       0.0       0.0       0.0  0.000000  1.000000   \n",
      "4              0.000000       0.0       0.0       1.0  0.000000  0.000000   \n",
      "...                 ...       ...       ...       ...       ...       ...   \n",
      "5647           0.000000       0.0       0.0       1.0  0.000000  0.000000   \n",
      "5648           0.552490       0.0       0.0       0.0  0.447510  0.552490   \n",
      "5649           0.311450       0.0       0.0       0.0  1.000000  0.000000   \n",
      "5650           0.000000       0.0       1.0       0.0  0.000000  0.000000   \n",
      "5651           0.607705       0.0       0.0       0.0  0.392295  0.607705   \n",
      "\n",
      "      race_7.0  gender_1.0  gender_2.0  \n",
      "0          0.0     0.00000     1.00000  \n",
      "1          0.0     0.00000     1.00000  \n",
      "2          0.0     0.00000     1.00000  \n",
      "3          0.0     1.00000     0.00000  \n",
      "4          0.0     1.00000     0.00000  \n",
      "...        ...         ...         ...  \n",
      "5647       0.0     0.00000     1.00000  \n",
      "5648       0.0     0.44751     0.55249  \n",
      "5649       0.0     0.00000     1.00000  \n",
      "5650       0.0     0.00000     1.00000  \n",
      "5651       0.0     0.00000     1.00000  \n",
      "\n",
      "[5652 rows x 28 columns]\n",
      "Number of no subscription in oversampled data 2826\n",
      "Number of subscription 2826\n",
      "Proportion of no subscription data in oversampled data is  0.5\n",
      "Proportion of subscription data in oversampled data is  0.5\n",
      "3164 792 1696\n"
     ]
    }
   ],
   "source": [
    "X = df.loc[:, df.columns != 'diabetes']\n",
    "y = df.loc[:, df.columns == 'diabetes']\n",
    "\n",
    "os = SMOTE(random_state=0)\n",
    "X_train, X_test, y_train, y_test = train_test_split(X, y, test_size=0.3, random_state=0)\n",
    "X_train = pd.DataFrame(X_train)\n",
    "columns = X.columns\n",
    "os_data_X,os_data_y=os.fit_sample(X_train, y_train)\n",
    "os_data_X = pd.DataFrame(data=os_data_X,columns=columns )\n",
    "os_data_y= pd.DataFrame(data=os_data_y,columns=['diabetes'])\n",
    "X=os_data_X\n",
    "y=os_data_y['diabetes']\n",
    "# we can Check the numbers of our data\n",
    "print(\"length of oversampled data is \",len(os_data_X))\n",
    "print(X)\n",
    "print(\"Number of no subscription in oversampled data\",len(os_data_y[os_data_y['diabetes']==0]))\n",
    "print(\"Number of subscription\",len(os_data_y[os_data_y['diabetes']==1]))\n",
    "print(\"Proportion of no subscription data in oversampled data is \",len(os_data_y[os_data_y['diabetes']==0])/len(os_data_X))\n",
    "print(\"Proportion of subscription data in oversampled data is \",len(os_data_y[os_data_y['diabetes']==1])/len(os_data_X))\n",
    "X_train, X_test, y_train, y_test = train_test_split(X, y, test_size=0.3, random_state=0)\n",
    "X_train.shape, X_test.shape\n",
    "\n",
    "X_train, X_val, y_train, y_val  = train_test_split(X_train, y_train, test_size=0.2, random_state=1) \n",
    "\n",
    "print(len(X_train),len(X_val),len(X_test))\n"
   ]
  },
  {
   "cell_type": "code",
   "execution_count": 141,
   "metadata": {},
   "outputs": [],
   "source": [
    "#scaling of numerical features\n",
    "df_new = df.copy()\n",
    "df_new[\"BMI\"] = (df[\"BMI\"] - df[\"BMI\"].mean())/df[\"BMI\"].std()\n",
    "df_new[\"HDL\"] = (df[\"HDL\"] - df[\"HDL\"].mean())/df[\"HDL\"].std()\n",
    "df_new[\"LDL\"] = (df[\"LDL\"] - df[\"LDL\"].mean())/df[\"LDL\"].std()\n",
    "df_new[\"age\"] = (df[\"age\"] - df[\"age\"].mean())/df[\"age\"].std()\n",
    "df_new[\"fasting_glucose\"] = (df[\"fasting_glucose\"] - df[\"fasting_glucose\"].mean())/df[\"fasting_glucose\"].std()"
   ]
  },
  {
   "cell_type": "code",
   "execution_count": 142,
   "metadata": {},
   "outputs": [
    {
     "name": "stdout",
     "output_type": "stream",
     "text": [
      "length of oversampled data is  5652\n",
      "           BMI       HDL       LDL       age  fasting_glucose   insulin  \\\n",
      "0    -0.477474  0.388358 -0.710402  0.137894        -0.436147  3.948162   \n",
      "1    -0.760924  0.456667 -0.348290 -0.955087        -0.619707  4.009875   \n",
      "2     1.689066  0.678764  0.165676 -0.135351        -0.029718  4.542230   \n",
      "3    -0.297769  0.154709 -0.196437  1.504120         0.080738  4.674883   \n",
      "4    -0.210482 -0.773475  0.346732  1.012279        -0.619707  4.672081   \n",
      "...        ...       ...       ...       ...              ...       ...   \n",
      "5647  0.506925 -0.743073 -0.776730  1.772647         3.791734  4.976857   \n",
      "5648  0.402738  0.447963  0.363827  1.022538         0.615855  4.189415   \n",
      "5649  0.322805  0.623638 -0.505937  0.689724         0.988605  5.071880   \n",
      "5650  0.293689 -0.872580  0.594074  1.077865         2.321506  4.090117   \n",
      "5651  1.031569 -1.280881  0.561928  0.034912         2.864041  4.589667   \n",
      "\n",
      "         sysBP      diaBP  BMI_NaN  fasting_glucose_NaN  ...  diaBP_NaN  \\\n",
      "0     4.675939  68.000000  0.00000                  0.0  ...        0.0   \n",
      "1     4.529009  62.000000  0.00000                  0.0  ...        0.0   \n",
      "2     4.809471  88.000000  0.00000                  0.0  ...        0.0   \n",
      "3     4.922411  71.333333  0.00000                  0.0  ...        0.0   \n",
      "4     4.793930  68.486301  0.00000                  0.0  ...        1.0   \n",
      "...        ...        ...      ...                  ...  ...        ...   \n",
      "5647  4.793930  68.486301  0.00000                  0.0  ...        1.0   \n",
      "5648  4.747835  71.631673  0.00000                  0.0  ...        0.0   \n",
      "5649  4.958753  80.874300  0.31145                  0.0  ...        0.0   \n",
      "5650  4.798943  66.304774  0.00000                  0.0  ...        0.0   \n",
      "5651  4.815608  84.143606  0.00000                  0.0  ...        0.0   \n",
      "\n",
      "      alc_days_year_NaN  race_1.0  race_2.0  race_3.0  race_4.0  race_6.0  \\\n",
      "0                   0.0       0.0       1.0       0.0   0.00000   0.00000   \n",
      "1                   1.0       0.0       1.0       0.0   0.00000   0.00000   \n",
      "2                   0.0       0.0       0.0       0.0   1.00000   0.00000   \n",
      "3                   1.0       0.0       0.0       0.0   0.00000   1.00000   \n",
      "4                   0.0       0.0       0.0       1.0   0.00000   0.00000   \n",
      "...                 ...       ...       ...       ...       ...       ...   \n",
      "5647                0.0       0.0       0.0       1.0   0.00000   0.00000   \n",
      "5648                1.0       0.0       0.0       0.0   0.44751   0.55249   \n",
      "5649                0.0       0.0       0.0       0.0   1.00000   0.00000   \n",
      "5650                0.0       0.0       1.0       0.0   0.00000   0.00000   \n",
      "5651                0.0       0.0       0.0       0.0   1.00000   0.00000   \n",
      "\n",
      "      race_7.0  gender_1.0  gender_2.0  \n",
      "0          0.0    0.000000    1.000000  \n",
      "1          0.0    0.000000    1.000000  \n",
      "2          0.0    0.000000    1.000000  \n",
      "3          0.0    1.000000    0.000000  \n",
      "4          0.0    1.000000    0.000000  \n",
      "...        ...         ...         ...  \n",
      "5647       0.0    0.978415    0.021585  \n",
      "5648       0.0    0.000000    1.000000  \n",
      "5649       0.0    0.311450    0.688550  \n",
      "5650       0.0    0.000000    1.000000  \n",
      "5651       0.0    0.607705    0.392295  \n",
      "\n",
      "[5652 rows x 28 columns]\n",
      "Number of no subscription in oversampled data 2826\n",
      "Number of subscription 2826\n",
      "Proportion of no subscription data in oversampled data is  0.5\n",
      "Proportion of subscription data in oversampled data is  0.5\n",
      "3164 792 1696\n"
     ]
    }
   ],
   "source": [
    "X_scaled = df_new.loc[:, df_new.columns != 'diabetes']\n",
    "y = df_new.loc[:, df_new.columns == 'diabetes']\n",
    "\n",
    "os = SMOTE(random_state=0)\n",
    "X_scaled_train, X_scaled_test, y_train, y_test = train_test_split(X_scaled, y, test_size=0.3, random_state=0)\n",
    "X_scaled_train = pd.DataFrame(X_scaled_train)\n",
    "columns = X_scaled.columns\n",
    "os_data_X,os_data_y=os.fit_sample(X_scaled_train, y_train)\n",
    "os_data_X = pd.DataFrame(data=os_data_X,columns=columns )\n",
    "os_data_y= pd.DataFrame(data=os_data_y,columns=['diabetes'])\n",
    "X_scaled=os_data_X\n",
    "y=os_data_y['diabetes']\n",
    "# we can Check the numbers of our data\n",
    "print(\"length of oversampled data is \",len(os_data_X))\n",
    "print(X_scaled)\n",
    "print(\"Number of no subscription in oversampled data\",len(os_data_y[os_data_y['diabetes']==0]))\n",
    "print(\"Number of subscription\",len(os_data_y[os_data_y['diabetes']==1]))\n",
    "print(\"Proportion of no subscription data in oversampled data is \",len(os_data_y[os_data_y['diabetes']==0])/len(os_data_X))\n",
    "print(\"Proportion of subscription data in oversampled data is \",len(os_data_y[os_data_y['diabetes']==1])/len(os_data_X))\n",
    "X_scaled_train, X_scaled_test, y_train, y_test = train_test_split(X_scaled, y, test_size=0.3, random_state=0)\n",
    "X_scaled_train, X_scaled_val, y_train, y_val  = train_test_split(X_scaled_train, y_train, test_size=0.2, random_state=1) \n",
    "\n",
    "print(len(X_scaled_train),len(X_scaled_val),len(X_scaled_test))\n",
    "\n"
   ]
  },
  {
   "cell_type": "markdown",
   "metadata": {},
   "source": [
    "# Modelling"
   ]
  },
  {
   "cell_type": "markdown",
   "metadata": {},
   "source": [
    "### Random Forest"
   ]
  },
  {
   "cell_type": "code",
   "execution_count": 131,
   "metadata": {
    "scrolled": true
   },
   "outputs": [
    {
     "name": "stdout",
     "output_type": "stream",
     "text": [
      "Fitting 5 folds for each of 96 candidates, totalling 480 fits\n"
     ]
    },
    {
     "name": "stderr",
     "output_type": "stream",
     "text": [
      "[Parallel(n_jobs=-1)]: Using backend LokyBackend with 4 concurrent workers.\n",
      "[Parallel(n_jobs=-1)]: Done  34 tasks      | elapsed:    2.0s\n"
     ]
    },
    {
     "name": "stdout",
     "output_type": "stream",
     "text": [
      "The best accuracy of 0.9105562579013906 from cross validation is given by 5 estimators auto max features 20 max_depth 10 min samples split 10 min samples leaf True bootstrap parameters\n",
      "The Training set accuracy of the cross-validated random forest model is 0.9380530973451328\n",
      "The Validation set accuracy of the cross-validated random forest model is 0.9343434343434344\n",
      "The Test set accuracy of the cross-validated random forest model is 0.9139150943396226\n",
      "Predicted  0.0  1.0\n",
      "Actual             \n",
      "0.0        227  216\n",
      "1.0         29   34\n",
      "The precision is 0.9284862932061978 recall is 0.900578034682081 fscore is 0.914319248826291\n"
     ]
    },
    {
     "name": "stderr",
     "output_type": "stream",
     "text": [
      "[Parallel(n_jobs=-1)]: Done 480 out of 480 | elapsed:    4.9s finished\n"
     ]
    }
   ],
   "source": [
    "from sklearn.ensemble import RandomForestClassifier\n",
    "from sklearn.metrics import accuracy_score\n",
    "from sklearn.model_selection import RandomizedSearchCV\n",
    "from pprint import pprint\n",
    "\n",
    "# Number of trees in random forest\n",
    "n_estimators = [int(x) for x in np.linspace(start = 5, stop = 10, num = 1)]\n",
    "# Number of features to consider at every split\n",
    "max_features = ['auto', 'sqrt']\n",
    "# Maximum number of levels in tree\n",
    "max_depth = [int(x) for x in np.linspace(10, 110, num = 11)]\n",
    "max_depth.append(None)\n",
    "# Minimum number of samples required to split a node\n",
    "min_samples_split = [10, 20]\n",
    "# Minimum number of samples required at each leaf node\n",
    "min_samples_leaf = [10, 20]\n",
    "# Method of selecting samples for training each tree\n",
    "bootstrap = [True]\n",
    "# Create  random grid\n",
    "random_grid = {'n_estimators': n_estimators,\n",
    "               'max_features': max_features,\n",
    "               'max_depth': max_depth,\n",
    "               'min_samples_split': min_samples_split,\n",
    "               'min_samples_leaf': min_samples_leaf,\n",
    "               'bootstrap': bootstrap}\n",
    "rf = RandomForestClassifier(random_state = 42)\n",
    "rf_random = RandomizedSearchCV(estimator = rf, param_distributions = random_grid, n_iter = 100, cv = 5, verbose=2, random_state=42, n_jobs = -1)\n",
    "rf_random.fit(X_train, y_train)\n",
    "estimators = rf_random.best_params_['n_estimators']\n",
    "features = rf_random.best_params_['max_features']\n",
    "depth = rf_random.best_params_['max_depth']\n",
    "samples_split_min = rf_random.best_params_['min_samples_split']\n",
    "samples_leaf_min = rf_random.best_params_['min_samples_leaf']\n",
    "bstrap = rf_random.best_params_['bootstrap']\n",
    "rf_random.best_score_\n",
    "print(\"The best accuracy of\", rf_random.best_score_, \"from cross validation is given by\",estimators , \"estimators\", features, \"max features\", depth, \"max_depth\",samples_split_min, \"min samples split\", samples_leaf_min,\"min samples leaf\", bstrap, \"bootstrap\", \"parameters\" )\n",
    "rf_final = RandomForestClassifier(n_estimators=estimators,max_features=features,max_depth=depth,  min_samples_split=samples_split_min,  min_samples_leaf=samples_leaf_min, bootstrap =  bstrap, random_state=42)   \n",
    "rf_model = rf_final.fit(X_train, y_train)\n",
    "\n",
    "rf_predictions_train = rf_final.predict(X_train)\n",
    "rf_accuracy_train = accuracy_score(y_train, rf_predictions_train)\n",
    "print(\"The Training set accuracy of the cross-validated random forest model is\", rf_accuracy_train)\n",
    "\n",
    "rf_predictions_val = rf_final.predict(X_val)\n",
    "rf_accuracy_val = accuracy_score(y_val, rf_predictions_val)\n",
    "print(\"The Validation set accuracy of the cross-validated random forest model is\", rf_accuracy_val)\n",
    "\n",
    "rf_predictions_test = rf_final.predict(X_test)\n",
    "rf_accuracy_test = accuracy_score(y_test, rf_predictions_test)\n",
    "print(\"The Test set accuracy of the cross-validated random forest model is\", rf_accuracy_test)\n",
    "\n",
    "y_test = pd.Series(y_test, name='Actual')\n",
    "rf_predictions_test = pd.Series(rf_predictions_test, name =\"Predicted\")\n",
    "rf_confusion_test = pd.crosstab(y_test, rf_predictions_test)\n",
    "print(rf_confusion_test)\n",
    "rf_other_metrics = list(precision_recall_fscore_support(y_test, rf_predictions_test, average='binary'))\n",
    "print(\"The precision is\", rf_other_metrics[0], \"recall is\", rf_other_metrics[1], \"fscore is\", rf_other_metrics[2])"
   ]
  },
  {
   "cell_type": "markdown",
   "metadata": {},
   "source": [
    "### Random Forest on Scaled Numerical Features"
   ]
  },
  {
   "cell_type": "code",
   "execution_count": 133,
   "metadata": {},
   "outputs": [
    {
     "name": "stdout",
     "output_type": "stream",
     "text": [
      "Fitting 5 folds for each of 96 candidates, totalling 480 fits\n"
     ]
    },
    {
     "name": "stderr",
     "output_type": "stream",
     "text": [
      "[Parallel(n_jobs=-1)]: Using backend LokyBackend with 4 concurrent workers.\n",
      "[Parallel(n_jobs=-1)]: Done  34 tasks      | elapsed:    2.5s\n"
     ]
    },
    {
     "name": "stdout",
     "output_type": "stream",
     "text": [
      "The best accuracy of 0.8915929203539823 from cross validation is given by 5 estimators auto max features 10 max_depth 10 min samples split 10 min samples leaf True bootstrap parameters\n",
      "The Training set accuracy of the cross-validated kNN model is 0.9187737041719343\n",
      "The Validation set accuracy of the cross-validated kNN model is 0.9128787878787878\n",
      "The Test set accuracy of the cross-validated kNN model is 0.9121462264150944\n",
      "Predicted  0.0  1.0\n",
      "Actual             \n",
      "0.0        218  225\n",
      "1.0         26   37\n",
      "The precision is 0.9114942528735632 recall is 0.9167630057803469 fscore is 0.9141210374639769\n"
     ]
    },
    {
     "name": "stderr",
     "output_type": "stream",
     "text": [
      "[Parallel(n_jobs=-1)]: Done 480 out of 480 | elapsed:    6.1s finished\n"
     ]
    }
   ],
   "source": [
    "#Random Forest on scaled features\n",
    "\n",
    "#Grid search to identify hyperparameters\n",
    "n_estimators = [int(x) for x in np.linspace(start = 5, stop = 10, num = 1)]\n",
    "max_features = ['auto', 'sqrt']\n",
    "max_depth = [int(x) for x in np.linspace(10, 110, num = 11)]\n",
    "max_depth.append(None)\n",
    "min_samples_split = [10, 20]\n",
    "min_samples_leaf = [10, 20]\n",
    "bootstrap = [True]\n",
    "random_grid = {'n_estimators': n_estimators,\n",
    "               'max_features': max_features,\n",
    "               'max_depth': max_depth,\n",
    "               'min_samples_split': min_samples_split,\n",
    "               'min_samples_leaf': min_samples_leaf,\n",
    "               'bootstrap': bootstrap}\n",
    "rf = RandomForestClassifier(random_state=42)\n",
    "rf_random = RandomizedSearchCV(estimator = rf, param_distributions = random_grid, n_iter = 100, cv = 5, verbose=2, random_state=42, n_jobs = -1)\n",
    "\n",
    "#Random Forest model fitting on the training set\n",
    "rf_random.fit(X_scaled_train, y_train)\n",
    "estimators = rf_random.best_params_['n_estimators']\n",
    "features = rf_random.best_params_['max_features']\n",
    "depth = rf_random.best_params_['max_depth']\n",
    "samples_split_min = rf_random.best_params_['min_samples_split']\n",
    "samples_leaf_min = rf_random.best_params_['min_samples_leaf']\n",
    "bstrap = rf_random.best_params_['bootstrap']\n",
    "rf_random.best_score_\n",
    "print(\"The best accuracy of\", rf_random.best_score_, \"from cross validation is given by\",estimators , \"estimators\", features, \"max features\", depth, \"max_depth\",samples_split_min, \"min samples split\", samples_leaf_min,\"min samples leaf\", bstrap, \"bootstrap\", \"parameters\" )\n",
    "rf_final = RandomForestClassifier(n_estimators=estimators,max_features=features,max_depth=depth,  min_samples_split=samples_split_min,  min_samples_leaf=samples_leaf_min, bootstrap =  bstrap, random_state=42)   \n",
    "rf_model = rf_final.fit(X_scaled_train, y_train)\n",
    "rf_predictions_scaled_train = rf_final.predict(X_scaled_train)\n",
    "rf_accuracy_scaled_train = accuracy_score(y_train, rf_predictions_scaled_train)\n",
    "print(\"The Training set accuracy of the cross-validated kNN model is\", rf_accuracy_scaled_train)\n",
    "\n",
    "\n",
    "#Random Forest model performance on the validation set\n",
    "rf_predictions_scaled_val = rf_final.predict(X_scaled_val)\n",
    "rf_accuracy_scaled_val = accuracy_score(y_val, rf_predictions_scaled_val)\n",
    "print(\"The Validation set accuracy of the cross-validated kNN model is\", rf_accuracy_scaled_val)\n",
    "\n",
    "#Random Forest model performance on the test set\n",
    "rf_predictions_scaled_test = rf_final.predict(X_scaled_test)\n",
    "rf_accuracy_scaled_test = accuracy_score(y_test, rf_predictions_scaled_test)\n",
    "print(\"The Test set accuracy of the cross-validated kNN model is\", rf_accuracy_scaled_test)\n",
    "\n",
    "#Confusion Matrix and other metrics (Precision, Recall and Fscore)\n",
    "y_test = pd.Series(y_test, name='Actual')\n",
    "rf_predictions_scaled_test = pd.Series(rf_predictions_scaled_test, name =\"Predicted\")\n",
    "rf_confusion_scaled = pd.crosstab(y_test, rf_predictions_scaled_test)\n",
    "print(rf_confusion_scaled)\n",
    "rf_other_metrics_scaled = list(precision_recall_fscore_support(y_test, rf_predictions_scaled_test, average='binary'))\n",
    "print(\"The precision is\", rf_other_metrics_scaled[0], \"recall is\", rf_other_metrics_scaled[1], \"fscore is\", rf_other_metrics_scaled[2])"
   ]
  },
  {
   "cell_type": "markdown",
   "metadata": {},
   "source": [
    "### Logistic Regression"
   ]
  },
  {
   "cell_type": "code",
   "execution_count": 139,
   "metadata": {
    "scrolled": true
   },
   "outputs": [
    {
     "name": "stdout",
     "output_type": "stream",
     "text": [
      "20 features are chosen through RFE and they are ['BMI', 'HDL', 'LDL', 'fasting_glucose', 'insulin', 'sysBP', 'BMI_NaN', 'fasting_glucose_NaN', 'LDL_NaN', 'insulin_NaN', 'sugar_NaN', 'sysBP_NaN', 'alc_days_year_NaN', 'race_2.0', 'race_3.0', 'race_4.0', 'race_6.0', 'race_7.0', 'gender_1.0', 'gender_2.0']\n",
      "The Training set accuracy of the Logistic Regression model is 0.8299620733249052\n",
      "The Validation set accuracy of the Logistic Regression model is 0.8383838383838383\n",
      "Test set accuracy of the Logistic Regression model is 0.8378537735849056\n",
      "col_0   0.0  1.0\n",
      "Actual          \n",
      "0.0     706  125\n",
      "1.0     150  715\n",
      "The precision is 0.8511904761904762 recall is 0.8265895953757225 fscore is 0.8387096774193549\n"
     ]
    },
    {
     "data": {
      "image/png": "[encoded data removed]",
      "text/plain": [
       "<Figure size 432x288 with 1 Axes>"
      ]
     },
     "metadata": {
      "needs_background": "light"
     },
     "output_type": "display_data"
    }
   ],
   "source": [
    "#Logistic regression with Recursive Feature Elimination\n",
    "from sklearn.feature_selection import RFE\n",
    "logreg = LogisticRegression()\n",
    "rfe = RFE(logreg,20)\n",
    "rfe = rfe.fit(X_train, y_train)\n",
    "chosen_vars = []\n",
    "for i in range(len(rfe.support_)):\n",
    "    if rfe.support_[i] == True:\n",
    "        chosen_vars.append(X_train.columns[i])\n",
    "print(len(chosen_vars), \"features are chosen through RFE and they are\", chosen_vars)\n",
    "X_train = X_train[chosen_vars]  \n",
    "X_test = X_test[chosen_vars]\n",
    "X_val = X_val[chosen_vars]\n",
    "\n",
    "#Fitting the model on the training set and assessing the performance\n",
    "logreg_model = logreg.fit(X_train, y_train)\n",
    "logreg_train = logreg.predict(X_train)\n",
    "logreg_accuracy_train = accuracy_score(y_train, logreg_train)\n",
    "print(\"The Training set accuracy of the Logistic Regression model is\", logreg_accuracy_train)\n",
    "\n",
    "#Model performance on the Validation set\n",
    "logreg_accuracy_val = logreg.predict(X_val)\n",
    "logreg_accuracy_val = accuracy_score(y_val, logreg_accuracy_val)\n",
    "print(\"The Validation set accuracy of the Logistic Regression model is\", logreg_accuracy_val)\n",
    "\n",
    "#Model performance on the Test set\n",
    "log_pred_test = logreg.predict(X_test)\n",
    "log_accuracy_test = accuracy_score(y_test, log_pred)\n",
    "print('Test set accuracy of the Logistic Regression model is',log_accuracy_test )\n",
    "\n",
    "#Confusion Matrix and other metrics (Precision, Recall and Fscore)\n",
    "logreg_confusion = pd.crosstab(y_test, log_pred_test)\n",
    "print(logreg_confusion)\n",
    "\n",
    "lr_other_metrics = precision_recall_fscore_support(y_test, log_pred_test, average='binary')\n",
    "print(\"The precision is\", lr_other_metrics[0], \"recall is\", lr_other_metrics[1], \"fscore is\", lr_other_metrics[2])         \n",
    "\n",
    "\n",
    "#ROC curve\n",
    "logit_roc_auc = roc_auc_score(y_test, logreg.predict(X_test))\n",
    "fpr, tpr, thresholds = roc_curve(y_test, logreg.predict_proba(X_test)[:,1])\n",
    "plt.figure()\n",
    "plt.plot(fpr, tpr, label='Logistic Regression (area = %0.2f)' % logit_roc_auc)\n",
    "plt.plot([0, 1], [0, 1],'r--')\n",
    "plt.xlim([0.0, 1.0])\n",
    "plt.ylim([0.0, 1.05])\n",
    "plt.xlabel('False Positive Rate')\n",
    "plt.ylabel('True Positive Rate')\n",
    "plt.title('Receiver operating characteristic')\n",
    "plt.legend(loc=\"lower right\")\n",
    "plt.savefig('Log_ROC')\n",
    "plt.show()\n"
   ]
  },
  {
   "cell_type": "markdown",
   "metadata": {},
   "source": [
    "### kNN "
   ]
  },
  {
   "cell_type": "markdown",
   "metadata": {},
   "source": [
    "#### kNN is performed on scaled numerical features"
   ]
  },
  {
   "cell_type": "code",
   "execution_count": 147,
   "metadata": {
    "scrolled": false
   },
   "outputs": [
    {
     "name": "stdout",
     "output_type": "stream",
     "text": [
      "The best accuracy of 0.9336283185840708 is given by 2 clusters\n",
      "The Training set accuracy of the kNN model is 0.9987357774968394\n",
      "The Validation set accuracy of the kNN model is 0.9242424242424242\n",
      "Test set accuracy of the kNN model is 0.9380896226415094\n",
      "col_0   0.0  1.0\n",
      "Actual          \n",
      "0.0     739   92\n",
      "1.0      13  852\n",
      "The precision is 0.902542372881356 recall is 0.9849710982658959 fscore is 0.9419568822553896\n"
     ]
    }
   ],
   "source": [
    "#kNN grid search for choice of best cluster size\n",
    "k_range = list(range(1, 50))\n",
    "param_grid = dict(n_neighbors=k_range)\n",
    "grid = GridSearchCV(KNeighborsClassifier(), param_grid, cv=5, scoring='accuracy')\n",
    "grid.fit(X_scaled_train, y_train)\n",
    "k = grid.best_params_[\"n_neighbors\"]\n",
    "print(\"The best accuracy of\", grid.best_score_, \"is given by\", k, \"clusters\")\n",
    "\n",
    "#kNN model fitting on the training set\n",
    "knn = KNeighborsClassifier(n_neighbors=k)\n",
    "knn.fit(X_scaled_train, y_train)\n",
    "knn_pred_train = knn.predict(X_scaled_train)\n",
    "knn_accuracy_train = accuracy_score(y_train, knn_pred_train)\n",
    "print(\"The Training set accuracy of the kNN model is\", knn_accuracy_train)\n",
    "\n",
    "#Model performance on the Validation set\n",
    "knn_pred_val = knn.predict(X_scaled_val)\n",
    "knn_accuracy_val = accuracy_score(y_val, knn_pred_val)\n",
    "print(\"The Validation set accuracy of the kNN model is\", knn_accuracy_val)\n",
    "\n",
    "#Model performance on the Test set\n",
    "knn_pred_test = knn.predict(X_scaled_test)\n",
    "knn_accuracy_test = accuracy_score(y_test, knn_pred_test)\n",
    "print('Test set accuracy of the kNN model is',knn_accuracy_test )\n",
    "\n",
    "#Confusion Matrix and other metrics (Precision, Recall and Fscore)\n",
    "knn_confusion = pd.crosstab(y_test, knn_pred_test)\n",
    "print(knn_confusion)\n",
    "precision_recall_fscore_support(y_test, knn_pred_test, average='binary')\n",
    "knn_other_metrics = precision_recall_fscore_support(y_test, knn_pred_test, average='binary')\n",
    "print(\"The precision is\", knn_other_metrics[0], \"recall is\", knn_other_metrics[1], \"fscore is\", knn_other_metrics[2])         \n"
   ]
  },
  {
   "cell_type": "markdown",
   "metadata": {},
   "source": [
    "### Lasso CV"
   ]
  },
  {
   "cell_type": "code",
   "execution_count": 1018,
   "metadata": {
    "scrolled": true
   },
   "outputs": [
    {
     "name": "stdout",
     "output_type": "stream",
     "text": [
      "0     6.462547e-03\n",
      "1    -1.206761e-01\n",
      "2    -8.423506e-02\n",
      "3     9.664848e-03\n",
      "4     7.753007e-02\n",
      "5     3.158272e-05\n",
      "6     3.135804e-04\n",
      "7     9.754815e-04\n",
      "8    -2.964218e-03\n",
      "9     0.000000e+00\n",
      "10    0.000000e+00\n",
      "11   -7.067585e-02\n",
      "12    0.000000e+00\n",
      "13   -4.485721e-02\n",
      "14    0.000000e+00\n",
      "15    0.000000e+00\n",
      "16    5.080100e-02\n",
      "17    3.699469e-02\n",
      "18    7.855414e-17\n",
      "19    7.264639e-03\n",
      "20    1.358473e-02\n",
      "21   -6.629597e-02\n",
      "22   -7.978005e-02\n",
      "23    2.607105e-02\n",
      "24    0.000000e+00\n",
      "25   -3.882501e-02\n",
      "26   -2.460730e-02\n",
      "27    0.000000e+00\n",
      "dtype: float64\n",
      "number of features used:  21\n",
      "training score: 0.47752130408975857\n",
      "test score:  0.4867045755915709\n",
      "1.4154569084153052e-05\n"
     ]
    }
   ],
   "source": [
    "lasso = Lasso(max_iter = 10000, normalize = True)\n",
    "lassocv = LassoCV(alphas = None, cv = 5, max_iter = 100000, normalize = True)\n",
    "lassocv.fit(X_train, y_train)\n",
    "lasso.set_params(alpha=lassocv.alpha_)\n",
    "lasso.fit(X_train, y_train)\n",
    "print(pd.Series(lasso.coef_, index=X.columns))\n",
    "coeff = np.sum(lasso.coef_!=0)\n",
    "print (\"number of features used: \", coeff) \n",
    "train_score=lasso.score(X_train,y_train)\n",
    "test_score=lasso.score(X_test,y_test)\n",
    "print(\"training score:\", train_score ) \n",
    "print (\"test score: \", test_score)\n",
    "print(lassocv.alpha_)"
   ]
  },
  {
   "cell_type": "markdown",
   "metadata": {},
   "source": [
    "### Lasso and LR"
   ]
  },
  {
   "cell_type": "code",
   "execution_count": 153,
   "metadata": {},
   "outputs": [
    {
     "name": "stdout",
     "output_type": "stream",
     "text": [
      "C: 1.4154569084153052e-05\n",
      "Coefficient of each feature: [[0. 0. 0. 0. 0. 0. 0. 0. 0. 0. 0. 0. 0. 0. 0. 0. 0. 0. 0. 0.]]\n",
      "Number of coeff: 0\n",
      "Training accuracy: 0.5050568900126422\n",
      "Test accuracy: 0.48997641509433965\n",
      "\n",
      "C: 50\n",
      "Coefficient of each feature: [[  1.82261866  -1.48216874  -0.73539473   9.01870126  -0.34539182\n",
      "    3.01791095  -0.39709051   0.7361573    0.16935283  -0.42002582\n",
      "    0.3272904    0.13333442   0.1900831   -0.38148748  -0.42335775\n",
      "    0.58860419  -0.22246631  -1.08437083 -18.25344861 -17.68956982]]\n",
      "Number of coeff: 20\n",
      "Training accuracy: 0.8324905183312263\n",
      "Test accuracy: 0.8390330188679245\n",
      "\n",
      "C: 10\n",
      "Coefficient of each feature: [[  1.75981893  -1.48090487  -0.7331118    8.97546301  -0.33397871\n",
      "    2.78805007  -0.35594607   0.53163872   0.1636924   -0.38405089\n",
      "    0.31442258   0.12373716   0.18662418  -0.3810239   -0.42476975\n",
      "    0.59579314  -0.23418942  -1.07119468 -16.87936416 -16.32110264]]\n",
      "Number of coeff: 20\n",
      "Training accuracy: 0.8334386852085968\n",
      "Test accuracy: 0.8378537735849056\n",
      "\n",
      "C: 1\n",
      "Coefficient of each feature: [[ 1.44739385 -1.43415783 -0.71926437  8.70269728 -0.26810349  2.0290503\n",
      "   0.          0.          0.09124218 -0.14298298  0.23656445  0.06445105\n",
      "   0.16170439 -0.33681027 -0.40224492  0.62606853 -0.24263477 -0.91004563\n",
      "  -0.5264379   0.        ]]\n",
      "Number of coeff: 17\n",
      "Training accuracy: 0.834070796460177\n",
      "Test accuracy: 0.8402122641509434\n",
      "\n",
      "C: 0.1\n",
      "Coefficient of each feature: [[ 0.         -1.43018956 -0.71137677  7.03852178  0.         -1.97546661\n",
      "   0.          0.          0.          0.          0.          0.\n",
      "   0.          0.         -0.17442046  0.7900122  -0.15805568  0.\n",
      "  -0.34468221  0.        ]]\n",
      "Number of coeff: 8\n",
      "Training accuracy: 0.8220606826801518\n",
      "Test accuracy: 0.8195754716981132\n",
      "\n",
      "C: 0.001\n",
      "Coefficient of each feature: [[0. 0. 0. 0. 0. 0. 0. 0. 0. 0. 0. 0. 0. 0. 0. 0. 0. 0. 0. 0.]]\n",
      "Number of coeff: 0\n",
      "Training accuracy: 0.5050568900126422\n",
      "Test accuracy: 0.48997641509433965\n",
      "\n",
      "The Training set accuracy of the Lasso CV for LR model is 0.8334386852085968\n",
      "The Validation set accuracy of the Lasso CV for LR model is 0.851010101010101\n",
      "Test set accuracy of the Lasso CV for LR model is 0.8402122641509434\n",
      "col_0   0.0  1.0\n",
      "Actual          \n",
      "0.0     705  126\n",
      "1.0     145  720\n",
      "The precision is 0.851063829787234 recall is 0.8323699421965318 fscore is 0.8416130917592052\n"
     ]
    }
   ],
   "source": [
    "C = [1.4154569084153052e-05,50,10, 1, .1, .001]\n",
    "\n",
    "#LassoCV + LR model fitting on the training set\n",
    "for c in C:\n",
    "    clf = LogisticRegression(penalty='l1', C=c, solver='liblinear')\n",
    "    clf.fit(X_train, y_train)\n",
    "    print('C:', c)\n",
    "    print('Coefficient of each feature:', clf.coef_)\n",
    "    coeff = np.sum(clf.coef_!=0)\n",
    "    print('Number of coeff:', coeff)\n",
    "\n",
    "    print('Training accuracy:', clf.score(X_train, y_train))\n",
    "    print('Test accuracy:', clf.score(X_test, y_test))\n",
    "    print('')\n",
    "\n",
    "    \n",
    "clf = LogisticRegression(penalty='l1', C=10, solver='liblinear')\n",
    "clf.fit(X_train, y_train)\n",
    "ls_pred_train = clf.predict(X_train)\n",
    "ls_accuracy_train = accuracy_score(y_train, ls_pred_train)\n",
    "print(\"The Training set accuracy of the Lasso CV for LR model is\", ls_accuracy_train)\n",
    "\n",
    "# LassoCV + LR Model performance on the Validation set\n",
    "ls_pred_val = clf.predict(X_val)\n",
    "ls_accuracy_val = accuracy_score(y_val, ls_pred_val)\n",
    "print(\"The Validation set accuracy of the Lasso CV for LR model is\", ls_accuracy_val)\n",
    "\n",
    "#LassoCV + LR Model performance on the Test set\n",
    "ls_pred_test = clf.predict(X_test)\n",
    "ls_accuracy_test = accuracy_score(y_test, ls_pred_test)\n",
    "print('Test set accuracy of the Lasso CV for LR model is',ls_accuracy_test )\n",
    "\n",
    "\n",
    "#Confusion Matrix and other metrics (Precision, Recall and Fscore)\n",
    "ls_confusion_test = pd.crosstab(y_test, ls_pred_test)\n",
    "print(ls_confusion_test)\n",
    "precision_recall_fscore_support(y_test, ls_pred_test, average='binary')\n",
    "ls_other_metrics = precision_recall_fscore_support(y_test, ls_pred_test, average='binary')\n",
    "print(\"The precision is\", ls_other_metrics[0], \"recall is\", ls_other_metrics[1], \"fscore is\", ls_other_metrics[2])         \n"
   ]
  },
  {
   "cell_type": "code",
   "execution_count": null,
   "metadata": {},
   "outputs": [],
   "source": []
  }
 ],
 "metadata": {
  "kernelspec": {
   "display_name": "Python 3",
   "language": "python",
   "name": "python3"
  },
  "language_info": {
   "codemirror_mode": {
    "name": "ipython",
    "version": 3
   },
   "file_extension": ".py",
   "mimetype": "text/x-python",
   "name": "python",
   "nbconvert_exporter": "python",
   "pygments_lexer": "ipython3",
   "version": "3.7.3"
  }
 },
 "nbformat": 4,
 "nbformat_minor": 2
}
