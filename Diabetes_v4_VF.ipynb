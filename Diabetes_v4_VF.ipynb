{
 "cells": [
  {
   "cell_type": "code",
   "execution_count": 360,
   "metadata": {
    "scrolled": true
   },
   "outputs": [],
   "source": [
    "import numpy as np\n",
    "import pandas as pd\n",
    "import matplotlib.pyplot as plt\n",
    "import seaborn as sns\n",
    "from collections import Counter\n",
    "\n",
    "import scipy.stats as stats\n",
    "from scipy import interp\n",
    "import statistics \n",
    "import sklearn\n",
    "from sklearn.preprocessing import StandardScaler\n",
    "from sklearn.preprocessing import RobustScaler\n",
    "from statistics import mean \n",
    "\n",
    "\n",
    "from sklearn import metrics\n",
    "from sklearn.metrics import auc\n",
    "from sklearn.metrics import plot_roc_curve\n",
    "from sklearn.metrics import roc_auc_score\n",
    "from sklearn.metrics import roc_curve\n",
    "from sklearn.metrics import confusion_matrix\n",
    "from sklearn.metrics import classification_report\n",
    "from sklearn.metrics import precision_score, recall_score, accuracy_score\n",
    "from sklearn.metrics import log_loss\n",
    "from sklearn.impute import SimpleImputer\n",
    "\n",
    "\n",
    "from sklearn.preprocessing import LabelEncoder, OneHotEncoder\n",
    "\n",
    "from sklearn.model_selection import train_test_split\n",
    "from sklearn.model_selection import learning_curve\n",
    "from sklearn.model_selection import ShuffleSplit\n",
    "from sklearn.model_selection import cross_val_score, cross_val_predict\n",
    "from sklearn.model_selection import KFold\n",
    "from sklearn.model_selection import StratifiedKFold\n",
    "from sklearn.model_selection import GridSearchCV\n",
    "from sklearn.model_selection import RandomizedSearchCV\n",
    "from sklearn.model_selection import LeaveOneOut \n",
    "\n",
    "\n",
    "from xgboost.sklearn import XGBClassifier\n",
    "\n",
    "# from sklearn.pipeline import Pipeline\n",
    "from imblearn.pipeline import Pipeline\n",
    "\n",
    "from sklearn.pipeline import FeatureUnion\n",
    "from imblearn.pipeline import make_pipeline\n",
    "from sklearn.decomposition import PCA\n",
    "\n",
    "from sklearn.linear_model import RidgeCV, LassoCV, Ridge, Lasso\n",
    "from sklearn.linear_model import LogisticRegression\n",
    "from sklearn.linear_model import Perceptron\n",
    "from sklearn.svm import SVC, LinearSVC\n",
    "from sklearn.ensemble import RandomForestClassifier\n",
    "from sklearn.ensemble import GradientBoostingClassifier\n",
    "from sklearn.neighbors import KNeighborsClassifier\n",
    "from sklearn.naive_bayes import GaussianNB \n",
    "from sklearn.tree import DecisionTreeClassifier\n",
    "\n",
    "# other tools\n",
    "from functools import reduce\n",
    "from imblearn.over_sampling import SMOTE\n",
    "from imblearn.combine import SMOTEENN # doctest: +NORMALIZE_WHITESPACE\n",
    "import itertools\n",
    "import copy\n",
    "\n",
    "import warnings\n",
    "warnings.filterwarnings('ignore') \n",
    "%matplotlib inline\n",
    "\n",
    "np.random.seed(100)\n",
    "\n",
    "# df0 = pd.read_csv('Diabetes Project Part 2.csv')\n",
    "# df = df0.copy(deep=True)\n",
    "# df.head()"
   ]
  },
  {
   "cell_type": "code",
   "execution_count": 361,
   "metadata": {},
   "outputs": [
    {
     "data": {
      "text/html": [
       "<div>\n",
       "<style scoped>\n",
       "    .dataframe tbody tr th:only-of-type {\n",
       "        vertical-align: middle;\n",
       "    }\n",
       "\n",
       "    .dataframe tbody tr th {\n",
       "        vertical-align: top;\n",
       "    }\n",
       "\n",
       "    .dataframe thead th {\n",
       "        text-align: right;\n",
       "    }\n",
       "</style>\n",
       "<table border=\"1\" class=\"dataframe\">\n",
       "  <thead>\n",
       "    <tr style=\"text-align: right;\">\n",
       "      <th></th>\n",
       "      <th>BMI</th>\n",
       "      <th>HDL</th>\n",
       "      <th>LDL</th>\n",
       "      <th>age</th>\n",
       "      <th>diabetes</th>\n",
       "      <th>fasting_glucose</th>\n",
       "      <th>gender</th>\n",
       "      <th>insulin</th>\n",
       "      <th>race</th>\n",
       "      <th>sysBP</th>\n",
       "      <th>...</th>\n",
       "      <th>gender_NaN</th>\n",
       "      <th>LDL_NaN</th>\n",
       "      <th>HDL_NaN</th>\n",
       "      <th>insulin_NaN</th>\n",
       "      <th>age_NaN</th>\n",
       "      <th>race_NaN</th>\n",
       "      <th>sugar_NaN</th>\n",
       "      <th>sysBP_NaN</th>\n",
       "      <th>diaBP_NaN</th>\n",
       "      <th>alc_days_year_NaN</th>\n",
       "    </tr>\n",
       "  </thead>\n",
       "  <tbody>\n",
       "    <tr>\n",
       "      <th>0</th>\n",
       "      <td>3.363842</td>\n",
       "      <td>0.936093</td>\n",
       "      <td>1.448</td>\n",
       "      <td>72.0</td>\n",
       "      <td>1.0</td>\n",
       "      <td>2.371458</td>\n",
       "      <td>1.0</td>\n",
       "      <td>3.554776</td>\n",
       "      <td>3.0</td>\n",
       "      <td>4.955827</td>\n",
       "      <td>...</td>\n",
       "      <td>0</td>\n",
       "      <td>0</td>\n",
       "      <td>0</td>\n",
       "      <td>0</td>\n",
       "      <td>0</td>\n",
       "      <td>0</td>\n",
       "      <td>1</td>\n",
       "      <td>0</td>\n",
       "      <td>0</td>\n",
       "      <td>0</td>\n",
       "    </tr>\n",
       "    <tr>\n",
       "      <th>1</th>\n",
       "      <td>2.980619</td>\n",
       "      <td>1.163151</td>\n",
       "      <td>2.612</td>\n",
       "      <td>73.0</td>\n",
       "      <td>0.0</td>\n",
       "      <td>1.781709</td>\n",
       "      <td>2.0</td>\n",
       "      <td>3.603322</td>\n",
       "      <td>3.0</td>\n",
       "      <td>4.922411</td>\n",
       "      <td>...</td>\n",
       "      <td>0</td>\n",
       "      <td>0</td>\n",
       "      <td>0</td>\n",
       "      <td>0</td>\n",
       "      <td>0</td>\n",
       "      <td>0</td>\n",
       "      <td>1</td>\n",
       "      <td>0</td>\n",
       "      <td>0</td>\n",
       "      <td>0</td>\n",
       "    </tr>\n",
       "    <tr>\n",
       "      <th>2</th>\n",
       "      <td>3.575151</td>\n",
       "      <td>0.916291</td>\n",
       "      <td>2.508</td>\n",
       "      <td>61.0</td>\n",
       "      <td>0.0</td>\n",
       "      <td>1.809272</td>\n",
       "      <td>2.0</td>\n",
       "      <td>4.493792</td>\n",
       "      <td>3.0</td>\n",
       "      <td>4.809471</td>\n",
       "      <td>...</td>\n",
       "      <td>0</td>\n",
       "      <td>0</td>\n",
       "      <td>0</td>\n",
       "      <td>0</td>\n",
       "      <td>0</td>\n",
       "      <td>0</td>\n",
       "      <td>0</td>\n",
       "      <td>0</td>\n",
       "      <td>0</td>\n",
       "      <td>0</td>\n",
       "    </tr>\n",
       "    <tr>\n",
       "      <th>3</th>\n",
       "      <td>3.010621</td>\n",
       "      <td>1.247032</td>\n",
       "      <td>1.733</td>\n",
       "      <td>26.0</td>\n",
       "      <td>0.0</td>\n",
       "      <td>1.597365</td>\n",
       "      <td>2.0</td>\n",
       "      <td>3.139833</td>\n",
       "      <td>3.0</td>\n",
       "      <td>4.650781</td>\n",
       "      <td>...</td>\n",
       "      <td>0</td>\n",
       "      <td>0</td>\n",
       "      <td>0</td>\n",
       "      <td>0</td>\n",
       "      <td>0</td>\n",
       "      <td>0</td>\n",
       "      <td>1</td>\n",
       "      <td>0</td>\n",
       "      <td>0</td>\n",
       "      <td>0</td>\n",
       "    </tr>\n",
       "    <tr>\n",
       "      <th>4</th>\n",
       "      <td>3.126761</td>\n",
       "      <td>0.862890</td>\n",
       "      <td>1.940</td>\n",
       "      <td>33.0</td>\n",
       "      <td>0.0</td>\n",
       "      <td>1.539659</td>\n",
       "      <td>2.0</td>\n",
       "      <td>3.591818</td>\n",
       "      <td>6.0</td>\n",
       "      <td>4.798542</td>\n",
       "      <td>...</td>\n",
       "      <td>0</td>\n",
       "      <td>0</td>\n",
       "      <td>0</td>\n",
       "      <td>0</td>\n",
       "      <td>0</td>\n",
       "      <td>0</td>\n",
       "      <td>1</td>\n",
       "      <td>0</td>\n",
       "      <td>0</td>\n",
       "      <td>1</td>\n",
       "    </tr>\n",
       "  </tbody>\n",
       "</table>\n",
       "<p>5 rows × 23 columns</p>\n",
       "</div>"
      ],
      "text/plain": [
       "        BMI       HDL    LDL   age  diabetes  fasting_glucose  gender  \\\n",
       "0  3.363842  0.936093  1.448  72.0       1.0         2.371458     1.0   \n",
       "1  2.980619  1.163151  2.612  73.0       0.0         1.781709     2.0   \n",
       "2  3.575151  0.916291  2.508  61.0       0.0         1.809272     2.0   \n",
       "3  3.010621  1.247032  1.733  26.0       0.0         1.597365     2.0   \n",
       "4  3.126761  0.862890  1.940  33.0       0.0         1.539659     2.0   \n",
       "\n",
       "    insulin  race     sysBP        ...          gender_NaN  LDL_NaN  HDL_NaN  \\\n",
       "0  3.554776   3.0  4.955827        ...                   0        0        0   \n",
       "1  3.603322   3.0  4.922411        ...                   0        0        0   \n",
       "2  4.493792   3.0  4.809471        ...                   0        0        0   \n",
       "3  3.139833   3.0  4.650781        ...                   0        0        0   \n",
       "4  3.591818   6.0  4.798542        ...                   0        0        0   \n",
       "\n",
       "   insulin_NaN  age_NaN  race_NaN  sugar_NaN  sysBP_NaN  diaBP_NaN  \\\n",
       "0            0        0         0          1          0          0   \n",
       "1            0        0         0          1          0          0   \n",
       "2            0        0         0          0          0          0   \n",
       "3            0        0         0          1          0          0   \n",
       "4            0        0         0          1          0          0   \n",
       "\n",
       "   alc_days_year_NaN  \n",
       "0                  0  \n",
       "1                  0  \n",
       "2                  0  \n",
       "3                  0  \n",
       "4                  1  \n",
       "\n",
       "[5 rows x 23 columns]"
      ]
     },
     "execution_count": 361,
     "metadata": {},
     "output_type": "execute_result"
    }
   ],
   "source": [
    "df = pd.read_csv('Diabetes 2 years.csv')\n",
    "df.head()"
   ]
  },
  {
   "cell_type": "code",
   "execution_count": 362,
   "metadata": {},
   "outputs": [
    {
     "data": {
      "text/plain": [
       "fasting_glucose    1.245254\n",
       "HDL                0.470239\n",
       "LDL                0.409376\n",
       "sysBP              0.337034\n",
       "BMI                0.231939\n",
       "age                0.109962\n",
       "diaBP              0.030169\n",
       "insulin           -0.095614\n",
       "dtype: float64"
      ]
     },
     "execution_count": 362,
     "metadata": {},
     "output_type": "execute_result"
    }
   ],
   "source": [
    "numerical_variables = ['BMI','HDL','LDL','age','fasting_glucose','insulin','sysBP','diaBP']\n",
    "df_numerical = df[numerical_variables]\n",
    "skew_degree = df[numerical_variables].skew().sort_values(ascending=False)\n",
    "skew_degree"
   ]
  },
  {
   "cell_type": "code",
   "execution_count": 363,
   "metadata": {},
   "outputs": [
    {
     "data": {
      "image/png": "[encoded data removed]",
      "text/plain": [
       "<Figure size 1440x360 with 4 Axes>"
      ]
     },
     "metadata": {},
     "output_type": "display_data"
    }
   ],
   "source": [
    "transform_nums = ['fasting_glucose']\n",
    "for tn in transform_nums:\n",
    "    fig,(ax1,ax2,ax3,ax4) = plt.subplots(nrows=1, ncols=4,figsize=(20, 5))\n",
    "    x = df[tn]\n",
    "    sqrt_x = (x+1)**(0.5)\n",
    "    recip = 1/(x+1)\n",
    "    logx = np.log(x+1)\n",
    "    sns.distplot(x,ax=ax4).set_title('original')\n",
    "    sns.distplot(sqrt_x,ax=ax1).set_title('sqrt')\n",
    "    sns.distplot(recip,ax=ax2).set_title('recip')\n",
    "    sns.distplot(logx,ax=ax3).set_title('log')\n",
    "    fig.tight_layout()"
   ]
  },
  {
   "cell_type": "code",
   "execution_count": 364,
   "metadata": {},
   "outputs": [
    {
     "data": {
      "text/plain": [
       "fasting_glucose    0.494428\n",
       "HDL                0.470239\n",
       "LDL                0.409376\n",
       "sysBP              0.337034\n",
       "BMI                0.231939\n",
       "age                0.109962\n",
       "diaBP              0.030169\n",
       "insulin           -0.095614\n",
       "dtype: float64"
      ]
     },
     "execution_count": 364,
     "metadata": {},
     "output_type": "execute_result"
    }
   ],
   "source": [
    "df['fasting_glucose'] = (df['fasting_glucose'])**(0.5)\n",
    "\n",
    "skew_degree = df[numerical_variables].skew().sort_values(ascending=False)\n",
    "skew_degree"
   ]
  },
  {
   "cell_type": "code",
   "execution_count": 365,
   "metadata": {},
   "outputs": [
    {
     "data": {
      "text/html": [
       "<div>\n",
       "<style scoped>\n",
       "    .dataframe tbody tr th:only-of-type {\n",
       "        vertical-align: middle;\n",
       "    }\n",
       "\n",
       "    .dataframe tbody tr th {\n",
       "        vertical-align: top;\n",
       "    }\n",
       "\n",
       "    .dataframe thead th {\n",
       "        text-align: right;\n",
       "    }\n",
       "</style>\n",
       "<table border=\"1\" class=\"dataframe\">\n",
       "  <thead>\n",
       "    <tr style=\"text-align: right;\">\n",
       "      <th></th>\n",
       "      <th>BMI</th>\n",
       "      <th>HDL</th>\n",
       "      <th>LDL</th>\n",
       "      <th>age</th>\n",
       "      <th>diabetes</th>\n",
       "      <th>fasting_glucose</th>\n",
       "      <th>gender</th>\n",
       "      <th>insulin</th>\n",
       "      <th>race</th>\n",
       "      <th>sysBP</th>\n",
       "      <th>...</th>\n",
       "      <th>gender_NaN</th>\n",
       "      <th>LDL_NaN</th>\n",
       "      <th>HDL_NaN</th>\n",
       "      <th>insulin_NaN</th>\n",
       "      <th>age_NaN</th>\n",
       "      <th>race_NaN</th>\n",
       "      <th>sugar_NaN</th>\n",
       "      <th>sysBP_NaN</th>\n",
       "      <th>diaBP_NaN</th>\n",
       "      <th>alc_days_year_NaN</th>\n",
       "    </tr>\n",
       "  </thead>\n",
       "  <tbody>\n",
       "    <tr>\n",
       "      <th>0</th>\n",
       "      <td>0.171007</td>\n",
       "      <td>0.388401</td>\n",
       "      <td>-1.617030</td>\n",
       "      <td>1.340321</td>\n",
       "      <td>1.0</td>\n",
       "      <td>3.632066</td>\n",
       "      <td>1.0</td>\n",
       "      <td>-0.643259</td>\n",
       "      <td>3.0</td>\n",
       "      <td>1.307426</td>\n",
       "      <td>...</td>\n",
       "      <td>0</td>\n",
       "      <td>0</td>\n",
       "      <td>0</td>\n",
       "      <td>0</td>\n",
       "      <td>0</td>\n",
       "      <td>0</td>\n",
       "      <td>1</td>\n",
       "      <td>0</td>\n",
       "      <td>0</td>\n",
       "      <td>0</td>\n",
       "    </tr>\n",
       "    <tr>\n",
       "      <th>1</th>\n",
       "      <td>-1.591968</td>\n",
       "      <td>1.714661</td>\n",
       "      <td>-0.257206</td>\n",
       "      <td>1.394976</td>\n",
       "      <td>0.0</td>\n",
       "      <td>0.247396</td>\n",
       "      <td>2.0</td>\n",
       "      <td>-0.574485</td>\n",
       "      <td>3.0</td>\n",
       "      <td>1.039709</td>\n",
       "      <td>...</td>\n",
       "      <td>0</td>\n",
       "      <td>0</td>\n",
       "      <td>0</td>\n",
       "      <td>0</td>\n",
       "      <td>0</td>\n",
       "      <td>0</td>\n",
       "      <td>1</td>\n",
       "      <td>0</td>\n",
       "      <td>0</td>\n",
       "      <td>0</td>\n",
       "    </tr>\n",
       "    <tr>\n",
       "      <th>2</th>\n",
       "      <td>1.143111</td>\n",
       "      <td>0.272732</td>\n",
       "      <td>-0.378703</td>\n",
       "      <td>0.739115</td>\n",
       "      <td>0.0</td>\n",
       "      <td>0.405583</td>\n",
       "      <td>2.0</td>\n",
       "      <td>0.687046</td>\n",
       "      <td>3.0</td>\n",
       "      <td>0.134869</td>\n",
       "      <td>...</td>\n",
       "      <td>0</td>\n",
       "      <td>0</td>\n",
       "      <td>0</td>\n",
       "      <td>0</td>\n",
       "      <td>0</td>\n",
       "      <td>0</td>\n",
       "      <td>0</td>\n",
       "      <td>0</td>\n",
       "      <td>0</td>\n",
       "      <td>0</td>\n",
       "    </tr>\n",
       "    <tr>\n",
       "      <th>3</th>\n",
       "      <td>-1.453946</td>\n",
       "      <td>2.204619</td>\n",
       "      <td>-1.284084</td>\n",
       "      <td>-1.173813</td>\n",
       "      <td>0.0</td>\n",
       "      <td>-0.810585</td>\n",
       "      <td>2.0</td>\n",
       "      <td>-1.231111</td>\n",
       "      <td>3.0</td>\n",
       "      <td>-1.136500</td>\n",
       "      <td>...</td>\n",
       "      <td>0</td>\n",
       "      <td>0</td>\n",
       "      <td>0</td>\n",
       "      <td>0</td>\n",
       "      <td>0</td>\n",
       "      <td>0</td>\n",
       "      <td>1</td>\n",
       "      <td>0</td>\n",
       "      <td>0</td>\n",
       "      <td>0</td>\n",
       "    </tr>\n",
       "    <tr>\n",
       "      <th>4</th>\n",
       "      <td>-0.919658</td>\n",
       "      <td>-0.039186</td>\n",
       "      <td>-1.042259</td>\n",
       "      <td>-0.791228</td>\n",
       "      <td>0.0</td>\n",
       "      <td>-1.141771</td>\n",
       "      <td>2.0</td>\n",
       "      <td>-0.590782</td>\n",
       "      <td>6.0</td>\n",
       "      <td>0.047309</td>\n",
       "      <td>...</td>\n",
       "      <td>0</td>\n",
       "      <td>0</td>\n",
       "      <td>0</td>\n",
       "      <td>0</td>\n",
       "      <td>0</td>\n",
       "      <td>0</td>\n",
       "      <td>1</td>\n",
       "      <td>0</td>\n",
       "      <td>0</td>\n",
       "      <td>1</td>\n",
       "    </tr>\n",
       "  </tbody>\n",
       "</table>\n",
       "<p>5 rows × 23 columns</p>\n",
       "</div>"
      ],
      "text/plain": [
       "        BMI       HDL       LDL       age  diabetes  fasting_glucose  gender  \\\n",
       "0  0.171007  0.388401 -1.617030  1.340321       1.0         3.632066     1.0   \n",
       "1 -1.591968  1.714661 -0.257206  1.394976       0.0         0.247396     2.0   \n",
       "2  1.143111  0.272732 -0.378703  0.739115       0.0         0.405583     2.0   \n",
       "3 -1.453946  2.204619 -1.284084 -1.173813       0.0        -0.810585     2.0   \n",
       "4 -0.919658 -0.039186 -1.042259 -0.791228       0.0        -1.141771     2.0   \n",
       "\n",
       "    insulin  race     sysBP        ...          gender_NaN  LDL_NaN  HDL_NaN  \\\n",
       "0 -0.643259   3.0  1.307426        ...                   0        0        0   \n",
       "1 -0.574485   3.0  1.039709        ...                   0        0        0   \n",
       "2  0.687046   3.0  0.134869        ...                   0        0        0   \n",
       "3 -1.231111   3.0 -1.136500        ...                   0        0        0   \n",
       "4 -0.590782   6.0  0.047309        ...                   0        0        0   \n",
       "\n",
       "   insulin_NaN  age_NaN  race_NaN  sugar_NaN  sysBP_NaN  diaBP_NaN  \\\n",
       "0            0        0         0          1          0          0   \n",
       "1            0        0         0          1          0          0   \n",
       "2            0        0         0          0          0          0   \n",
       "3            0        0         0          1          0          0   \n",
       "4            0        0         0          1          0          0   \n",
       "\n",
       "   alc_days_year_NaN  \n",
       "0                  0  \n",
       "1                  0  \n",
       "2                  0  \n",
       "3                  0  \n",
       "4                  1  \n",
       "\n",
       "[5 rows x 23 columns]"
      ]
     },
     "execution_count": 365,
     "metadata": {},
     "output_type": "execute_result"
    }
   ],
   "source": [
    "# Numerical feature scaling \n",
    "scaler = StandardScaler()\n",
    "df_numerical = scaler.fit_transform(df_numerical)\n",
    "df[numerical_variables] = df_numerical\n",
    "df.head()"
   ]
  },
  {
   "cell_type": "code",
   "execution_count": 366,
   "metadata": {},
   "outputs": [],
   "source": [
    "# one hot encoding\n",
    "df['race'] = pd.Categorical(df['race'])\n",
    "dfDummies = pd.get_dummies(df['race'], prefix = 'race')\n",
    "df = pd.concat([df, dfDummies], axis=1)"
   ]
  },
  {
   "cell_type": "code",
   "execution_count": 367,
   "metadata": {},
   "outputs": [],
   "source": [
    "\n",
    "y = df['diabetes'].values\n",
    "X = df.drop(['diabetes'],axis = 1).values\n",
    "X_names = df.drop(['diabetes'],axis = 1).columns\n",
    "X_train_val, X_test, y_train_val, y_test = train_test_split(X, y, test_size=0.2, random_state = 2)\n",
    "X_train, X_val, y_train, y_val = train_test_split(X_train_val, y_train_val, test_size=0.2, random_state = 2)\n"
   ]
  },
  {
   "cell_type": "code",
   "execution_count": 368,
   "metadata": {},
   "outputs": [],
   "source": [
    "def plot_roc(y_val,y_val_predictions,best_clf,X_val):\n",
    "    probability = best_clf.predict_proba(X_val)[:, 1]\n",
    "    roc_auc = roc_auc_score(y_val, y_val_predictions)\n",
    "    print('AUC: = %0.2f' % roc_auc)\n",
    "    fpr, tpr, thresholds = roc_curve(y_val, probability)\n",
    "    plt.figure()\n",
    "    plt.plot(fpr, tpr)\n",
    "    plt.plot([0, 1], [0, 1],'r--')\n",
    "    plt.xlim([0.0, 1.0])\n",
    "    plt.ylim([0.0, 1.05])\n",
    "    plt.xlabel('False Positive Rate - False alarm')\n",
    "    plt.ylabel('True Positive Rate - Recall')\n",
    "#     plt.title(clf_name + '  --  AUC: = %0.2f' % roc_auc)\n",
    "    plt.legend(['ROC','Completely random'],loc=\"lower right\")\n",
    "    plt.show()"
   ]
  },
  {
   "cell_type": "code",
   "execution_count": 369,
   "metadata": {},
   "outputs": [],
   "source": [
    "def plot_confusion_matrix(y_val, y_val_predictions):\n",
    "    cm = metrics.confusion_matrix(y_val, y_val_predictions)\n",
    "\n",
    "    class_names=[0,1] \n",
    "    fig, ax = plt.subplots()\n",
    "    tick_marks = np.arange(len(class_names))\n",
    "    plt.xticks(tick_marks, class_names)\n",
    "    plt.yticks(tick_marks, class_names)\n",
    "    sns.heatmap(pd.DataFrame(cm), annot=True, cmap=\"YlGnBu\" ,fmt='g')\n",
    "    ax.xaxis.set_label_position(\"top\")\n",
    "    plt.tight_layout()\n",
    "    plt.title('Confusion matrix', y=1.1)\n",
    "    plt.ylabel('Actual label')\n",
    "    plt.xlabel('Predicted label')\n",
    "    plt.show()"
   ]
  },
  {
   "cell_type": "code",
   "execution_count": 370,
   "metadata": {},
   "outputs": [],
   "source": [
    "# Create a series with feature importances:\n",
    "def feature_importance(best_clf,X_names):\n",
    "    featimp = pd.Series(best_clf.feature_importances_, index=X_names).sort_values(ascending=False)\n",
    "    print('feature importance')\n",
    "    print(featimp)\n",
    "    sns.barplot(x=featimp, y=featimp.index)\n",
    "    plt.xlabel('Feature Importance Score')\n",
    "    plt.ylabel('Features')\n",
    "    plt.title(\"Visualizing Important Features\")\n",
    "    plt.show()\n",
    "    return featimp\n"
   ]
  },
  {
   "cell_type": "code",
   "execution_count": 371,
   "metadata": {},
   "outputs": [],
   "source": [
    "def no_cv(clf, X_train, y_train, X_val, y_val):    \n",
    "    \n",
    "    clf.fit(X_train, y_train)\n",
    "    y_train_pred = clf.predict(X_train)\n",
    "    y_val_pred = clf.predict(X_val)\n",
    "\n",
    "    print()\n",
    "    print('Train')\n",
    "    print(classification_report(y_train, y_train_pred,target_names=['healthy','mentally ill']))\n",
    "    print('Val')\n",
    "    print(classification_report(y_val, y_val_pred,target_names=['healthy','mentally ill']))\n",
    "    print('Logloss: %.2f' % log_loss(y_val, y_val_pred))\n",
    "    \n",
    "    return clf\n",
    "\n",
    "def cv(clf, X_train_val, y_train_val):\n",
    "    inner_cv = StratifiedKFold(n_splits=10,random_state=0,shuffle=True)\n",
    "    \n",
    "    accuracy_scores = cross_val_score(clf, X_train_val, y_train_val, cv=10, scoring = 'accuracy')\n",
    "    precision_scores = cross_val_score(clf, X_train_val, y_train_val, cv=10, scoring = 'precision')\n",
    "    recall_scores = cross_val_score(clf, X_train_val, y_train_val, cv=10, scoring = 'recall')\n",
    "\n",
    "    print('accuracy')\n",
    "    print(mean(accuracy_scores))\n",
    "    print(accuracy_scores)\n",
    "    print('recall')\n",
    "    print(mean(recall_scores))\n",
    "    print(recall_scores)\n",
    "    print('precision')\n",
    "    print(mean(precision_scores))\n",
    "    print(precision_scores)\n",
    "    "
   ]
  },
  {
   "cell_type": "code",
   "execution_count": 372,
   "metadata": {},
   "outputs": [],
   "source": [
    "def hyperparameters(clf, method, grid, X_train, y_train, X_val):\n",
    "    \n",
    "    if method == 'random':\n",
    "        clf_search = RandomizedSearchCV(clf, param_distributions = grid, verbose=2, random_state=42, n_jobs = -1)\n",
    "    elif method == 'gridsearch':\n",
    "        clf_search = GridSearchCV(clf, param_grid = grid, n_jobs = -1,scoring = 'f1', refit = True)\n",
    "    else: \n",
    "        print('not included')\n",
    "\n",
    "    clf_search.fit(X_train,y_train)\n",
    "    best_clf = clf_search.best_estimator_\n",
    "    best_clf = best_clf.fit(X_train,y_train)\n",
    "    y_train_pred = best_clf.predict(X_train)\n",
    "    y_val_pred = best_clf.predict(X_val)\n",
    "    \n",
    "    plot_roc(y_val,y_val_pred,best_clf,X_val)\n",
    "    plot_confusion_matrix(y_val, y_val_pred)\n",
    "    \n",
    "\n",
    "    print()\n",
    "    print('Train')\n",
    "    print(classification_report(y_train, y_train_pred,target_names=['healthy','mentally ill']))\n",
    "    print('Val')\n",
    "    print(classification_report(y_val, y_val_pred,target_names=['healthy','mentally ill']))\n",
    "    print('Logloss: %.2f' % log_loss(y_val, y_val_pred))\n",
    "    print(\"Best Parameters: {}\".format(clf_search.best_params_))\n",
    "    \n",
    "    return best_clf\n"
   ]
  },
  {
   "cell_type": "markdown",
   "metadata": {},
   "source": [
    "#### Attempt 1: unselected features + random forest ( already selected)"
   ]
  },
  {
   "cell_type": "code",
   "execution_count": 373,
   "metadata": {},
   "outputs": [],
   "source": [
    "n_estimators = [int(x) for x in np.linspace(start = 5, stop = 105, num = 10)]\n",
    "max_features = list(range(1,X_train.shape[1]))\n",
    "max_depth = [int(x) for x in np.linspace(10, 50, num = 10)]\n",
    "min_samples_split = [10,20,30,40,50]\n",
    "min_samples_leaf = [10,20,30,40,50] \n",
    "bootstrap = [True]\n",
    "\n",
    "rf_grid =  {'rf__bootstrap': bootstrap,\n",
    "         'rf__max_depth': max_depth,\n",
    "         'rf__max_features': max_features,\n",
    "         'rf__min_samples_leaf': min_samples_leaf,\n",
    "         'rf__min_samples_split': min_samples_split,\n",
    "         'rf__n_estimators': n_estimators}"
   ]
  },
  {
   "cell_type": "code",
   "execution_count": 374,
   "metadata": {
    "scrolled": true
   },
   "outputs": [
    {
     "name": "stdout",
     "output_type": "stream",
     "text": [
      "Fitting 5 folds for each of 10 candidates, totalling 50 fits\n"
     ]
    },
    {
     "name": "stderr",
     "output_type": "stream",
     "text": [
      "[Parallel(n_jobs=-1)]: Using backend LokyBackend with 4 concurrent workers.\n",
      "[Parallel(n_jobs=-1)]: Done  33 tasks      | elapsed:    6.7s\n",
      "[Parallel(n_jobs=-1)]: Done  50 out of  50 | elapsed:    9.6s finished\n"
     ]
    },
    {
     "name": "stdout",
     "output_type": "stream",
     "text": [
      "AUC: = 0.81\n"
     ]
    },
    {
     "data": {
      "image/png": "[encoded data removed]",
      "text/plain": [
       "<Figure size 432x288 with 1 Axes>"
      ]
     },
     "metadata": {},
     "output_type": "display_data"
    },
    {
     "data": {
      "image/png": "[encoded data removed]",
      "text/plain": [
       "<Figure size 432x288 with 2 Axes>"
      ]
     },
     "metadata": {},
     "output_type": "display_data"
    },
    {
     "name": "stdout",
     "output_type": "stream",
     "text": [
      "\n",
      "Train\n",
      "              precision    recall  f1-score   support\n",
      "\n",
      "     healthy       0.99      0.94      0.96      2591\n",
      "mentally ill       0.63      0.88      0.73       297\n",
      "\n",
      "    accuracy                           0.93      2888\n",
      "   macro avg       0.81      0.91      0.85      2888\n",
      "weighted avg       0.95      0.93      0.94      2888\n",
      "\n",
      "Val\n",
      "              precision    recall  f1-score   support\n",
      "\n",
      "     healthy       0.96      0.90      0.93       636\n",
      "mentally ill       0.50      0.72      0.59        87\n",
      "\n",
      "    accuracy                           0.88       723\n",
      "   macro avg       0.73      0.81      0.76       723\n",
      "weighted avg       0.90      0.88      0.89       723\n",
      "\n",
      "Logloss: 4.16\n",
      "Best Parameters: {'rf__n_estimators': 38, 'rf__min_samples_split': 30, 'rf__min_samples_leaf': 10, 'rf__max_features': 11, 'rf__max_depth': 18, 'rf__bootstrap': True}\n",
      "accuracy\n",
      "0.8903307264963806\n",
      "[0.90607735 0.88919668 0.90027701 0.90027701 0.89473684 0.88919668\n",
      " 0.86703601 0.87257618 0.90304709 0.88088643]\n",
      "recall\n",
      "0.703306342780027\n",
      "[0.74358974 0.73684211 0.78947368 0.68421053 0.63157895 0.71052632\n",
      " 0.73684211 0.66666667 0.74358974 0.58974359]\n",
      "precision\n",
      "0.4911270095844768\n",
      "[0.54716981 0.48275862 0.51724138 0.52       0.5        0.48214286\n",
      " 0.42424242 0.44067797 0.53703704 0.46      ]\n"
     ]
    }
   ],
   "source": [
    "sm = SMOTE(random_state=42)\n",
    "rf = RandomForestClassifier(random_state = 42, criterion= 'gini')\n",
    "pipeline1 = Pipeline([('sm', sm), ('rf', rf)])\n",
    "best_rf = hyperparameters(pipeline1,'random',rf_grid, X_train, y_train, X_val)\n",
    "cv(best_rf, X_train_val, y_train_val)"
   ]
  },
  {
   "cell_type": "code",
   "execution_count": 375,
   "metadata": {
    "scrolled": true
   },
   "outputs": [
    {
     "name": "stdout",
     "output_type": "stream",
     "text": [
      "feature importance\n",
      "fasting_glucose        0.450267\n",
      "age                    0.189810\n",
      "LDL                    0.051410\n",
      "BMI                    0.050565\n",
      "alc_days_year_NaN      0.048814\n",
      "insulin                0.033611\n",
      "gender                 0.032795\n",
      "sysBP                  0.028075\n",
      "race_4.0               0.021179\n",
      "HDL                    0.020458\n",
      "race_3.0               0.019880\n",
      "diaBP                  0.019228\n",
      "race                   0.013626\n",
      "race_1.0               0.004939\n",
      "sugar_NaN              0.004181\n",
      "race_2.0               0.002911\n",
      "diaBP_NaN              0.002332\n",
      "sysBP_NaN              0.001955\n",
      "race_6.0               0.001473\n",
      "fasting_glucose_NaN    0.001143\n",
      "LDL_NaN                0.000933\n",
      "BMI_NaN                0.000351\n",
      "race_7.0               0.000064\n",
      "gender_NaN             0.000000\n",
      "HDL_NaN                0.000000\n",
      "insulin_NaN            0.000000\n",
      "age_NaN                0.000000\n",
      "race_NaN               0.000000\n",
      "dtype: float64\n"
     ]
    },
    {
     "data": {
      "image/png": "[encoded data removed]",
      "text/plain": [
       "<Figure size 432x288 with 1 Axes>"
      ]
     },
     "metadata": {},
     "output_type": "display_data"
    }
   ],
   "source": [
    "rf = best_rf[1] # best_rf is a pipeline, pipeline has no featimp, index rf\n",
    "featimp = feature_importance(rf,X_names)"
   ]
  },
  {
   "cell_type": "code",
   "execution_count": 376,
   "metadata": {
    "scrolled": true
   },
   "outputs": [],
   "source": [
    "important_features = []\n",
    "for feature, score in featimp.items():\n",
    "    if score > 0.001:\n",
    "        important_features.append(feature)"
   ]
  },
  {
   "cell_type": "code",
   "execution_count": 377,
   "metadata": {},
   "outputs": [
    {
     "name": "stdout",
     "output_type": "stream",
     "text": [
      "(2888, 20)\n",
      "(723, 20)\n"
     ]
    },
    {
     "data": {
      "text/plain": [
       "(3611, 20)"
      ]
     },
     "execution_count": 377,
     "metadata": {},
     "output_type": "execute_result"
    }
   ],
   "source": [
    "# this time only use important features to rebuild rf see if it changes the result by much\n",
    "dfxtrain = pd.DataFrame(X_train,columns = [X_names]) # original df X_train\n",
    "dfxval = pd.DataFrame(X_val,columns = [X_names])     # original df X_val\n",
    "\n",
    "X_train_imp = dfxtrain[important_features]\n",
    "X_val_imp = dfxval[important_features]\n",
    "print(X_train_imp.shape)\n",
    "print(X_val_imp.shape)\n",
    "type(X_train_imp)\n",
    "\n",
    "X_train_val_imp = pd.concat([X_train_imp,X_val_imp]).values\n",
    "X_train_val_imp.shape"
   ]
  },
  {
   "cell_type": "code",
   "execution_count": 378,
   "metadata": {
    "scrolled": true
   },
   "outputs": [
    {
     "name": "stdout",
     "output_type": "stream",
     "text": [
      "Fitting 5 folds for each of 10 candidates, totalling 50 fits\n"
     ]
    },
    {
     "name": "stderr",
     "output_type": "stream",
     "text": [
      "[Parallel(n_jobs=-1)]: Using backend LokyBackend with 4 concurrent workers.\n",
      "[Parallel(n_jobs=-1)]: Done  33 tasks      | elapsed:    6.8s\n",
      "[Parallel(n_jobs=-1)]: Done  50 out of  50 | elapsed:    9.3s finished\n"
     ]
    },
    {
     "name": "stdout",
     "output_type": "stream",
     "text": [
      "AUC: = 0.81\n"
     ]
    },
    {
     "data": {
      "image/png": "[encoded data removed]",
      "text/plain": [
       "<Figure size 432x288 with 1 Axes>"
      ]
     },
     "metadata": {},
     "output_type": "display_data"
    },
    {
     "data": {
      "image/png": "[encoded data removed]",
      "text/plain": [
       "<Figure size 432x288 with 2 Axes>"
      ]
     },
     "metadata": {},
     "output_type": "display_data"
    },
    {
     "name": "stdout",
     "output_type": "stream",
     "text": [
      "\n",
      "Train\n",
      "              precision    recall  f1-score   support\n",
      "\n",
      "     healthy       0.98      0.94      0.96      2591\n",
      "mentally ill       0.63      0.86      0.73       297\n",
      "\n",
      "    accuracy                           0.93      2888\n",
      "   macro avg       0.81      0.90      0.85      2888\n",
      "weighted avg       0.95      0.93      0.94      2888\n",
      "\n",
      "Val\n",
      "              precision    recall  f1-score   support\n",
      "\n",
      "     healthy       0.96      0.90      0.93       636\n",
      "mentally ill       0.49      0.71      0.58        87\n",
      "\n",
      "    accuracy                           0.88       723\n",
      "   macro avg       0.73      0.81      0.75       723\n",
      "weighted avg       0.90      0.88      0.89       723\n",
      "\n",
      "Logloss: 4.25\n",
      "Best Parameters: {'rf__n_estimators': 38, 'rf__min_samples_split': 30, 'rf__min_samples_leaf': 10, 'rf__max_features': 11, 'rf__max_depth': 18, 'rf__bootstrap': True}\n",
      "accuracy\n",
      "0.8457507537380817\n",
      "[0.83977901 0.82271468 0.8365651  0.85872576 0.83933518 0.84764543\n",
      " 0.85595568 0.84487535 0.85041551 0.86149584]\n",
      "recall\n",
      "0.04939271255060729\n",
      "[0.07692308 0.02631579 0.02631579 0.07894737 0.02631579 0.05263158\n",
      " 0.05263158 0.02564103 0.1025641  0.02564103]\n",
      "precision\n",
      "0.09123587345784141\n",
      "[0.12       0.03571429 0.04347826 0.15789474 0.04545455 0.0952381\n",
      " 0.11111111 0.05263158 0.17391304 0.07692308]\n"
     ]
    }
   ],
   "source": [
    "best_rf = hyperparameters(pipeline1,'random',rf_grid, X_train_imp.values, y_train, X_val_imp.values)\n",
    "cv(best_rf, X_train_val_imp, y_train_val)"
   ]
  },
  {
   "cell_type": "code",
   "execution_count": 379,
   "metadata": {
    "scrolled": true
   },
   "outputs": [
    {
     "name": "stdout",
     "output_type": "stream",
     "text": [
      "Fitting 5 folds for each of 10 candidates, totalling 50 fits\n"
     ]
    },
    {
     "name": "stderr",
     "output_type": "stream",
     "text": [
      "[Parallel(n_jobs=-1)]: Using backend LokyBackend with 4 concurrent workers.\n",
      "[Parallel(n_jobs=-1)]: Done  33 tasks      | elapsed:    7.8s\n",
      "[Parallel(n_jobs=-1)]: Done  50 out of  50 | elapsed:   12.0s finished\n"
     ]
    },
    {
     "name": "stdout",
     "output_type": "stream",
     "text": [
      "AUC: = 0.80\n"
     ]
    },
    {
     "data": {
      "image/png": "[encoded data removed]",
      "text/plain": [
       "<Figure size 432x288 with 1 Axes>"
      ]
     },
     "metadata": {},
     "output_type": "display_data"
    },
    {
     "data": {
      "image/png": "[encoded data removed]",
      "text/plain": [
       "<Figure size 432x288 with 2 Axes>"
      ]
     },
     "metadata": {},
     "output_type": "display_data"
    },
    {
     "name": "stdout",
     "output_type": "stream",
     "text": [
      "\n",
      "Train\n",
      "              precision    recall  f1-score   support\n",
      "\n",
      "     healthy       0.99      0.93      0.96      2591\n",
      "mentally ill       0.61      0.91      0.73       297\n",
      "\n",
      "    accuracy                           0.93      2888\n",
      "   macro avg       0.80      0.92      0.85      2888\n",
      "weighted avg       0.95      0.93      0.94      2888\n",
      "\n",
      "Val\n",
      "              precision    recall  f1-score   support\n",
      "\n",
      "     healthy       0.96      0.88      0.92       636\n",
      "mentally ill       0.45      0.71      0.55        87\n",
      "\n",
      "    accuracy                           0.86       723\n",
      "   macro avg       0.70      0.80      0.74       723\n",
      "weighted avg       0.90      0.86      0.87       723\n",
      "\n",
      "Logloss: 4.78\n",
      "Best Parameters: {'rf__n_estimators': 38, 'rf__min_samples_split': 30, 'rf__min_samples_leaf': 10, 'rf__max_features': 11, 'rf__max_depth': 18, 'rf__bootstrap': True}\n",
      "accuracy\n",
      "0.7482690806691051\n",
      "[0.74861878 0.73961219 0.76177285 0.7534626  0.73407202 0.72576177\n",
      " 0.78947368 0.73961219 0.75623269 0.73407202]\n",
      "recall\n",
      "0.2186234817813765\n",
      "[0.23076923 0.10526316 0.18421053 0.26315789 0.31578947 0.15789474\n",
      " 0.23684211 0.33333333 0.15384615 0.20512821]\n",
      "precision\n",
      "0.12025107787453422\n",
      "[0.12857143 0.0625     0.11290323 0.14084507 0.14634146 0.08219178\n",
      " 0.16071429 0.16049383 0.09836066 0.10958904]\n"
     ]
    }
   ],
   "source": [
    "pca = PCA(0.95)\n",
    "pipeline2 = Pipeline([('sm', sm),('pca',pca),('rf', rf)])\n",
    "best_rf = hyperparameters(pipeline2,'random',rf_grid, X_train_imp.values, y_train, X_val_imp.values)\n",
    "cv(best_rf, X_train_val_imp, y_train_val)"
   ]
  },
  {
   "cell_type": "markdown",
   "metadata": {},
   "source": [
    "#### Attempt 2: selected features using Lasso + logreg\n",
    "* A regression model that uses L1 regularization technique is called Lasso Regression and model which uses L2 is called Ridge Regression. "
   ]
  },
  {
   "cell_type": "code",
   "execution_count": 380,
   "metadata": {
    "scrolled": true
   },
   "outputs": [
    {
     "name": "stdout",
     "output_type": "stream",
     "text": [
      "\n",
      "Train\n",
      "              precision    recall  f1-score   support\n",
      "\n",
      "     healthy       0.98      0.84      0.90      2591\n",
      "mentally ill       0.37      0.82      0.52       297\n",
      "\n",
      "    accuracy                           0.84      2888\n",
      "   macro avg       0.68      0.83      0.71      2888\n",
      "weighted avg       0.91      0.84      0.86      2888\n",
      "\n",
      "Val\n",
      "              precision    recall  f1-score   support\n",
      "\n",
      "     healthy       0.97      0.84      0.90       636\n",
      "mentally ill       0.40      0.79      0.53        87\n",
      "\n",
      "    accuracy                           0.83       723\n",
      "   macro avg       0.69      0.82      0.72       723\n",
      "weighted avg       0.90      0.83      0.86       723\n",
      "\n",
      "Logloss: 5.73\n"
     ]
    },
    {
     "data": {
      "text/plain": [
       "Pipeline(memory=None,\n",
       "         steps=[('sm',\n",
       "                 SMOTE(k_neighbors=5, kind='deprecated',\n",
       "                       m_neighbors='deprecated', n_jobs=1,\n",
       "                       out_step='deprecated', random_state=42, ratio=None,\n",
       "                       sampling_strategy='auto', svm_estimator='deprecated')),\n",
       "                ('logreg',\n",
       "                 LogisticRegression(C=1.0, class_weight=None, dual=False,\n",
       "                                    fit_intercept=True, intercept_scaling=1,\n",
       "                                    l1_ratio=None, max_iter=100,\n",
       "                                    multi_class='auto', n_jobs=None,\n",
       "                                    penalty='l2', random_state=None,\n",
       "                                    solver='lbfgs', tol=0.0001, verbose=0,\n",
       "                                    warm_start=False))],\n",
       "         verbose=False)"
      ]
     },
     "execution_count": 380,
     "metadata": {},
     "output_type": "execute_result"
    }
   ],
   "source": [
    "# logreg: default L2\n",
    "logreg = LogisticRegression()\n",
    "pipeline2 = Pipeline([('sm', sm), ('logreg', logreg)])\n",
    "no_cv(pipeline2, X_train, y_train, X_val, y_val)"
   ]
  },
  {
   "cell_type": "code",
   "execution_count": 381,
   "metadata": {
    "scrolled": true
   },
   "outputs": [
    {
     "name": "stdout",
     "output_type": "stream",
     "text": [
      "\n",
      "Train\n",
      "              precision    recall  f1-score   support\n",
      "\n",
      "     healthy       0.98      0.84      0.90      2591\n",
      "mentally ill       0.38      0.82      0.52       297\n",
      "\n",
      "    accuracy                           0.84      2888\n",
      "   macro avg       0.68      0.83      0.71      2888\n",
      "weighted avg       0.91      0.84      0.86      2888\n",
      "\n",
      "Val\n",
      "              precision    recall  f1-score   support\n",
      "\n",
      "     healthy       0.97      0.84      0.90       636\n",
      "mentally ill       0.40      0.78      0.53        87\n",
      "\n",
      "    accuracy                           0.83       723\n",
      "   macro avg       0.68      0.81      0.71       723\n",
      "weighted avg       0.90      0.83      0.85       723\n",
      "\n",
      "Logloss: 5.88\n"
     ]
    },
    {
     "data": {
      "text/plain": [
       "Pipeline(memory=None,\n",
       "         steps=[('sm',\n",
       "                 SMOTE(k_neighbors=5, kind='deprecated',\n",
       "                       m_neighbors='deprecated', n_jobs=1,\n",
       "                       out_step='deprecated', random_state=42, ratio=None,\n",
       "                       sampling_strategy='auto', svm_estimator='deprecated')),\n",
       "                ('logreg',\n",
       "                 LogisticRegression(C=1.0, class_weight=None, dual=False,\n",
       "                                    fit_intercept=True, intercept_scaling=1,\n",
       "                                    l1_ratio=None, max_iter=100,\n",
       "                                    multi_class='auto', n_jobs=-1, penalty='l1',\n",
       "                                    random_state=None, solver='liblinear',\n",
       "                                    tol=0.0001, verbose=0, warm_start=False))],\n",
       "         verbose=False)"
      ]
     },
     "execution_count": 381,
     "metadata": {},
     "output_type": "execute_result"
    }
   ],
   "source": [
    "# lasso\n",
    "logreg = LogisticRegression(penalty='l1',n_jobs =-1,solver='liblinear')\n",
    "pipeline3 = Pipeline([('sm', sm), ('logreg', logreg)])\n",
    "no_cv(pipeline3, X_train, y_train, X_val, y_val)"
   ]
  },
  {
   "cell_type": "code",
   "execution_count": 382,
   "metadata": {
    "scrolled": true
   },
   "outputs": [
    {
     "name": "stdout",
     "output_type": "stream",
     "text": [
      "AUC: = 0.81\n"
     ]
    },
    {
     "data": {
      "image/png": "[encoded data removed]",
      "text/plain": [
       "<Figure size 432x288 with 1 Axes>"
      ]
     },
     "metadata": {},
     "output_type": "display_data"
    },
    {
     "data": {
      "image/png": "[encoded data removed]",
      "text/plain": [
       "<Figure size 432x288 with 2 Axes>"
      ]
     },
     "metadata": {},
     "output_type": "display_data"
    },
    {
     "name": "stdout",
     "output_type": "stream",
     "text": [
      "\n",
      "Train\n",
      "              precision    recall  f1-score   support\n",
      "\n",
      "     healthy       0.98      0.84      0.91      2591\n",
      "mentally ill       0.38      0.82      0.52       297\n",
      "\n",
      "    accuracy                           0.84      2888\n",
      "   macro avg       0.68      0.83      0.71      2888\n",
      "weighted avg       0.92      0.84      0.87      2888\n",
      "\n",
      "Val\n",
      "              precision    recall  f1-score   support\n",
      "\n",
      "     healthy       0.97      0.84      0.90       636\n",
      "mentally ill       0.40      0.78      0.53        87\n",
      "\n",
      "    accuracy                           0.83       723\n",
      "   macro avg       0.68      0.81      0.71       723\n",
      "weighted avg       0.90      0.83      0.85       723\n",
      "\n",
      "Logloss: 5.88\n",
      "Best Parameters: {'logreg__C': 1}\n",
      "\n",
      "Train\n",
      "              precision    recall  f1-score   support\n",
      "\n",
      "     healthy       0.98      0.84      0.90      2591\n",
      "mentally ill       0.38      0.82      0.52       297\n",
      "\n",
      "    accuracy                           0.84      2888\n",
      "   macro avg       0.68      0.83      0.71      2888\n",
      "weighted avg       0.91      0.84      0.86      2888\n",
      "\n",
      "Val\n",
      "              precision    recall  f1-score   support\n",
      "\n",
      "     healthy       0.97      0.84      0.90       636\n",
      "mentally ill       0.40      0.78      0.53        87\n",
      "\n",
      "    accuracy                           0.83       723\n",
      "   macro avg       0.68      0.81      0.71       723\n",
      "weighted avg       0.90      0.83      0.85       723\n",
      "\n",
      "Logloss: 5.88\n"
     ]
    },
    {
     "data": {
      "text/plain": [
       "Pipeline(memory=None,\n",
       "         steps=[('sm',\n",
       "                 SMOTE(k_neighbors=5, kind='deprecated',\n",
       "                       m_neighbors='deprecated', n_jobs=1,\n",
       "                       out_step='deprecated', random_state=42, ratio=None,\n",
       "                       sampling_strategy='auto', svm_estimator='deprecated')),\n",
       "                ('logreg',\n",
       "                 LogisticRegression(C=1, class_weight=None, dual=False,\n",
       "                                    fit_intercept=True, intercept_scaling=1,\n",
       "                                    l1_ratio=None, max_iter=100,\n",
       "                                    multi_class='auto', n_jobs=-1, penalty='l1',\n",
       "                                    random_state=None, solver='liblinear',\n",
       "                                    tol=0.0001, verbose=0, warm_start=False))],\n",
       "         verbose=False)"
      ]
     },
     "execution_count": 382,
     "metadata": {},
     "output_type": "execute_result"
    }
   ],
   "source": [
    "grid = {'logreg__C': [0.001, 0.01, 0.1, 1, 10, 100, 1000] }\n",
    "best_logreg = hyperparameters(pipeline3, 'gridsearch', grid , X_train, y_train, X_val)\n",
    "no_cv(best_logreg,X_train, y_train, X_val, y_val)"
   ]
  },
  {
   "cell_type": "code",
   "execution_count": 383,
   "metadata": {
    "scrolled": true
   },
   "outputs": [
    {
     "name": "stdout",
     "output_type": "stream",
     "text": [
      "accuracy\n",
      "0.8371619656877\n",
      "[0.84530387 0.8365651  0.83933518 0.86703601 0.88365651 0.80886427\n",
      " 0.8033241  0.8365651  0.82548476 0.82548476]\n",
      "recall\n",
      "0.80472334682861\n",
      "[0.84615385 0.78947368 0.86842105 0.86842105 0.78947368 0.76315789\n",
      " 0.76315789 0.74358974 0.76923077 0.84615385]\n",
      "precision\n",
      "0.3794770599279429\n",
      "[0.39759036 0.37037037 0.38372093 0.43421053 0.46875    0.3258427\n",
      " 0.31868132 0.37179487 0.35714286 0.36666667]\n"
     ]
    }
   ],
   "source": [
    "cv(best_logreg,X_train_val,y_train_val)"
   ]
  },
  {
   "cell_type": "code",
   "execution_count": 384,
   "metadata": {},
   "outputs": [
    {
     "name": "stdout",
     "output_type": "stream",
     "text": [
      "AUC: = 0.81\n"
     ]
    },
    {
     "data": {
      "image/png": "[encoded data removed]",
      "text/plain": [
       "<Figure size 432x288 with 1 Axes>"
      ]
     },
     "metadata": {},
     "output_type": "display_data"
    },
    {
     "data": {
      "image/png": "[encoded data removed]",
      "text/plain": [
       "<Figure size 432x288 with 2 Axes>"
      ]
     },
     "metadata": {},
     "output_type": "display_data"
    },
    {
     "name": "stdout",
     "output_type": "stream",
     "text": [
      "\n",
      "Train\n",
      "              precision    recall  f1-score   support\n",
      "\n",
      "     healthy       0.98      0.84      0.91      2591\n",
      "mentally ill       0.38      0.82      0.52       297\n",
      "\n",
      "    accuracy                           0.84      2888\n",
      "   macro avg       0.68      0.83      0.71      2888\n",
      "weighted avg       0.92      0.84      0.87      2888\n",
      "\n",
      "Val\n",
      "              precision    recall  f1-score   support\n",
      "\n",
      "     healthy       0.97      0.84      0.90       636\n",
      "mentally ill       0.40      0.78      0.53        87\n",
      "\n",
      "    accuracy                           0.83       723\n",
      "   macro avg       0.68      0.81      0.71       723\n",
      "weighted avg       0.90      0.83      0.85       723\n",
      "\n",
      "Logloss: 5.88\n",
      "Best Parameters: {'logreg__C': 1}\n",
      "accuracy\n",
      "0.8371619656877\n",
      "[0.84530387 0.8365651  0.83933518 0.86703601 0.88365651 0.80886427\n",
      " 0.8033241  0.8365651  0.82548476 0.82548476]\n",
      "recall\n",
      "0.80472334682861\n",
      "[0.84615385 0.78947368 0.86842105 0.86842105 0.78947368 0.76315789\n",
      " 0.76315789 0.74358974 0.76923077 0.84615385]\n",
      "precision\n",
      "0.3794770599279429\n",
      "[0.39759036 0.37037037 0.38372093 0.43421053 0.46875    0.3258427\n",
      " 0.31868132 0.37179487 0.35714286 0.36666667]\n"
     ]
    }
   ],
   "source": [
    "pipeline4 = Pipeline([('sm', sm), ('pca',pca),('logreg', logreg)])\n",
    "best_logreg = hyperparameters(pipeline3, 'gridsearch', grid , X_train, y_train, X_val)\n",
    "cv(best_logreg,X_train_val,y_train_val)"
   ]
  },
  {
   "cell_type": "markdown",
   "metadata": {},
   "source": [
    "#### Attempt 3: knn\n",
    "\n"
   ]
  },
  {
   "cell_type": "code",
   "execution_count": 385,
   "metadata": {
    "scrolled": true
   },
   "outputs": [
    {
     "name": "stdout",
     "output_type": "stream",
     "text": [
      "\n",
      "Train\n",
      "              precision    recall  f1-score   support\n",
      "\n",
      "     healthy       1.00      0.90      0.95      2591\n",
      "mentally ill       0.53      1.00      0.69       297\n",
      "\n",
      "    accuracy                           0.91      2888\n",
      "   macro avg       0.76      0.95      0.82      2888\n",
      "weighted avg       0.95      0.91      0.92      2888\n",
      "\n",
      "Val\n",
      "              precision    recall  f1-score   support\n",
      "\n",
      "     healthy       0.95      0.83      0.89       636\n",
      "mentally ill       0.37      0.70      0.48        87\n",
      "\n",
      "    accuracy                           0.82       723\n",
      "   macro avg       0.66      0.77      0.68       723\n",
      "weighted avg       0.88      0.82      0.84       723\n",
      "\n",
      "Logloss: 6.31\n"
     ]
    },
    {
     "data": {
      "text/plain": [
       "Pipeline(memory=None,\n",
       "         steps=[('sm',\n",
       "                 SMOTE(k_neighbors=5, kind='deprecated',\n",
       "                       m_neighbors='deprecated', n_jobs=1,\n",
       "                       out_step='deprecated', random_state=42, ratio=None,\n",
       "                       sampling_strategy='auto', svm_estimator='deprecated')),\n",
       "                ('knn',\n",
       "                 KNeighborsClassifier(algorithm='auto', leaf_size=30,\n",
       "                                      metric='minkowski', metric_params=None,\n",
       "                                      n_jobs=None, n_neighbors=5, p=2,\n",
       "                                      weights='uniform'))],\n",
       "         verbose=False)"
      ]
     },
     "execution_count": 385,
     "metadata": {},
     "output_type": "execute_result"
    }
   ],
   "source": [
    "knn = KNeighborsClassifier()\n",
    "pipeline5 = Pipeline([('sm', sm),('knn', knn)])\n",
    "no_cv(pipeline5, X_train, y_train, X_val, y_val)"
   ]
  },
  {
   "cell_type": "markdown",
   "metadata": {},
   "source": [
    "* small k: low bias, high variance; large k: high bias, low variance"
   ]
  },
  {
   "cell_type": "code",
   "execution_count": 386,
   "metadata": {
    "scrolled": true
   },
   "outputs": [
    {
     "name": "stdout",
     "output_type": "stream",
     "text": [
      "AUC: = 0.75\n"
     ]
    },
    {
     "data": {
      "image/png": "[encoded data removed]",
      "text/plain": [
       "<Figure size 432x288 with 1 Axes>"
      ]
     },
     "metadata": {},
     "output_type": "display_data"
    },
    {
     "data": {
      "image/png": "[encoded data removed]",
      "text/plain": [
       "<Figure size 432x288 with 2 Axes>"
      ]
     },
     "metadata": {},
     "output_type": "display_data"
    },
    {
     "name": "stdout",
     "output_type": "stream",
     "text": [
      "\n",
      "Train\n",
      "              precision    recall  f1-score   support\n",
      "\n",
      "     healthy       1.00      0.94      0.97      2591\n",
      "mentally ill       0.66      1.00      0.80       297\n",
      "\n",
      "    accuracy                           0.95      2888\n",
      "   macro avg       0.83      0.97      0.88      2888\n",
      "weighted avg       0.97      0.95      0.95      2888\n",
      "\n",
      "Val\n",
      "              precision    recall  f1-score   support\n",
      "\n",
      "     healthy       0.94      0.88      0.91       636\n",
      "mentally ill       0.41      0.62      0.50        87\n",
      "\n",
      "    accuracy                           0.85       723\n",
      "   macro avg       0.68      0.75      0.70       723\n",
      "weighted avg       0.88      0.85      0.86       723\n",
      "\n",
      "Logloss: 5.25\n",
      "Best Parameters: {'knn__metric': 'euclidean', 'knn__n_neighbors': 4, 'knn__weights': 'uniform'}\n"
     ]
    }
   ],
   "source": [
    "knn_grid =  {'knn__metric': ['euclidean','manhattan'],\n",
    "             'knn__weights': ['uniform','distance'],\n",
    "             'knn__n_neighbors': [3,4,5,7,10,15,20]}\n",
    "best_knn = hyperparameters(pipeline5,'gridsearch',knn_grid, X_train, y_train, X_val)"
   ]
  },
  {
   "cell_type": "code",
   "execution_count": 387,
   "metadata": {
    "scrolled": true
   },
   "outputs": [
    {
     "name": "stdout",
     "output_type": "stream",
     "text": [
      "accuracy\n",
      "0.867065854517072\n",
      "[0.89226519 0.89196676 0.88088643 0.86149584 0.87534626 0.85872576\n",
      " 0.84210526 0.86426593 0.85595568 0.84764543]\n",
      "recall\n",
      "0.6537112010796221\n",
      "[0.74358974 0.73684211 0.63157895 0.71052632 0.60526316 0.63157895\n",
      " 0.63157895 0.66666667 0.53846154 0.64102564]\n",
      "precision\n",
      "0.42187239095869744\n",
      "[0.5        0.49122807 0.45283019 0.40909091 0.43396226 0.39344262\n",
      " 0.35820896 0.41935484 0.38181818 0.37878788]\n"
     ]
    }
   ],
   "source": [
    "cv(best_knn, X_train_val, y_train_val)"
   ]
  },
  {
   "cell_type": "code",
   "execution_count": 388,
   "metadata": {
    "scrolled": true
   },
   "outputs": [
    {
     "name": "stdout",
     "output_type": "stream",
     "text": [
      "AUC: = 0.74\n"
     ]
    },
    {
     "data": {
      "image/png": "[encoded data removed]",
      "text/plain": [
       "<Figure size 432x288 with 1 Axes>"
      ]
     },
     "metadata": {},
     "output_type": "display_data"
    },
    {
     "data": {
      "image/png": "[encoded data removed]",
      "text/plain": [
       "<Figure size 432x288 with 2 Axes>"
      ]
     },
     "metadata": {},
     "output_type": "display_data"
    },
    {
     "name": "stdout",
     "output_type": "stream",
     "text": [
      "\n",
      "Train\n",
      "              precision    recall  f1-score   support\n",
      "\n",
      "     healthy       1.00      0.94      0.97      2591\n",
      "mentally ill       0.67      1.00      0.80       297\n",
      "\n",
      "    accuracy                           0.95      2888\n",
      "   macro avg       0.83      0.97      0.88      2888\n",
      "weighted avg       0.97      0.95      0.95      2888\n",
      "\n",
      "Val\n",
      "              precision    recall  f1-score   support\n",
      "\n",
      "     healthy       0.94      0.87      0.91       636\n",
      "mentally ill       0.39      0.61      0.48        87\n",
      "\n",
      "    accuracy                           0.84       723\n",
      "   macro avg       0.67      0.74      0.69       723\n",
      "weighted avg       0.88      0.84      0.85       723\n",
      "\n",
      "Logloss: 5.54\n",
      "Best Parameters: {'knn__metric': 'euclidean', 'knn__n_neighbors': 4, 'knn__weights': 'uniform'}\n",
      "accuracy\n",
      "0.8695619901746223\n",
      "[0.88121547 0.88919668 0.88088643 0.86980609 0.88642659 0.86980609\n",
      " 0.8365651  0.85041551 0.85872576 0.87257618]\n",
      "recall\n",
      "0.6875168690958164\n",
      "[0.76923077 0.71052632 0.65789474 0.73684211 0.68421053 0.63157895\n",
      " 0.71052632 0.69230769 0.56410256 0.71794872]\n",
      "precision\n",
      "0.4318593381891437\n",
      "[0.46875    0.48214286 0.45454545 0.43076923 0.47272727 0.42105263\n",
      " 0.36       0.39130435 0.39285714 0.44444444]\n"
     ]
    }
   ],
   "source": [
    "pipeline6 = Pipeline([('sm', sm),('pca',pca),('knn', knn)])\n",
    "best_knn = hyperparameters(pipeline6,'gridsearch',knn_grid, X_train, y_train, X_val)\n",
    "cv(best_knn, X_train_val, y_train_val)"
   ]
  },
  {
   "cell_type": "markdown",
   "metadata": {},
   "source": [
    "#### Attempt 4: XGBoost\n"
   ]
  },
  {
   "cell_type": "code",
   "execution_count": 389,
   "metadata": {
    "scrolled": true
   },
   "outputs": [
    {
     "name": "stdout",
     "output_type": "stream",
     "text": [
      "\n",
      "Train\n",
      "              precision    recall  f1-score   support\n",
      "\n",
      "     healthy       0.98      0.95      0.96      2591\n",
      "mentally ill       0.64      0.79      0.71       297\n",
      "\n",
      "    accuracy                           0.93      2888\n",
      "   macro avg       0.81      0.87      0.83      2888\n",
      "weighted avg       0.94      0.93      0.94      2888\n",
      "\n",
      "Val\n",
      "              precision    recall  f1-score   support\n",
      "\n",
      "     healthy       0.95      0.92      0.94       636\n",
      "mentally ill       0.53      0.64      0.58        87\n",
      "\n",
      "    accuracy                           0.89       723\n",
      "   macro avg       0.74      0.78      0.76       723\n",
      "weighted avg       0.90      0.89      0.89       723\n",
      "\n",
      "Logloss: 3.82\n"
     ]
    },
    {
     "data": {
      "text/plain": [
       "Pipeline(memory=None,\n",
       "         steps=[('sm',\n",
       "                 SMOTE(k_neighbors=5, kind='deprecated',\n",
       "                       m_neighbors='deprecated', n_jobs=1,\n",
       "                       out_step='deprecated', random_state=42, ratio=None,\n",
       "                       sampling_strategy='auto', svm_estimator='deprecated')),\n",
       "                ('xgb1',\n",
       "                 XGBClassifier(base_score=0.5, booster='gbtree',\n",
       "                               colsample_bylevel=1, colsample_bynode=1,\n",
       "                               colsample_bytree=1, gamma=0, learning_rate=0.1,\n",
       "                               max_delta_step=0, max_depth=3,\n",
       "                               min_child_weight=1, missing=None,\n",
       "                               n_estimators=100, n_jobs=1, nthread=None,\n",
       "                               objective='binary:logistic', random_state=0,\n",
       "                               reg_alpha=0, reg_lambda=1, scale_pos_weight=1,\n",
       "                               seed=None, silent=None, subsample=1,\n",
       "                               verbosity=1))],\n",
       "         verbose=False)"
      ]
     },
     "execution_count": 389,
     "metadata": {},
     "output_type": "execute_result"
    }
   ],
   "source": [
    "xgb1 = XGBClassifier()\n",
    "pipeline7 = Pipeline([('sm', sm),('xgb1', xgb1)])\n",
    "no_cv(pipeline7, X_train, y_train, X_val, y_val)\n"
   ]
  },
  {
   "cell_type": "code",
   "execution_count": 390,
   "metadata": {
    "scrolled": true
   },
   "outputs": [
    {
     "name": "stdout",
     "output_type": "stream",
     "text": [
      "Fitting 5 folds for each of 10 candidates, totalling 50 fits\n"
     ]
    },
    {
     "name": "stderr",
     "output_type": "stream",
     "text": [
      "[Parallel(n_jobs=-1)]: Using backend LokyBackend with 4 concurrent workers.\n",
      "[Parallel(n_jobs=-1)]: Done  33 tasks      | elapsed:   16.7s\n",
      "[Parallel(n_jobs=-1)]: Done  50 out of  50 | elapsed:   25.3s finished\n"
     ]
    },
    {
     "name": "stdout",
     "output_type": "stream",
     "text": [
      "AUC: = 0.77\n"
     ]
    },
    {
     "data": {
      "image/png": "[encoded data removed]",
      "text/plain": [
       "<Figure size 432x288 with 1 Axes>"
      ]
     },
     "metadata": {},
     "output_type": "display_data"
    },
    {
     "data": {
      "image/png": "[encoded data removed]",
      "text/plain": [
       "<Figure size 432x288 with 2 Axes>"
      ]
     },
     "metadata": {},
     "output_type": "display_data"
    },
    {
     "name": "stdout",
     "output_type": "stream",
     "text": [
      "\n",
      "Train\n",
      "              precision    recall  f1-score   support\n",
      "\n",
      "     healthy       0.98      0.97      0.97      2591\n",
      "mentally ill       0.73      0.81      0.77       297\n",
      "\n",
      "    accuracy                           0.95      2888\n",
      "   macro avg       0.85      0.89      0.87      2888\n",
      "weighted avg       0.95      0.95      0.95      2888\n",
      "\n",
      "Val\n",
      "              precision    recall  f1-score   support\n",
      "\n",
      "     healthy       0.95      0.92      0.93       636\n",
      "mentally ill       0.52      0.61      0.56        87\n",
      "\n",
      "    accuracy                           0.89       723\n",
      "   macro avg       0.73      0.77      0.75       723\n",
      "weighted avg       0.89      0.89      0.89       723\n",
      "\n",
      "Logloss: 3.97\n",
      "Best Parameters: {'xgb1__subsample': 0.8, 'xgb1__min_child_weight': 5, 'xgb1__max_depth': 5, 'xgb1__gamma': 5, 'xgb1__colsample_bytree': 0.8}\n"
     ]
    }
   ],
   "source": [
    "xgb_grid =  {'xgb1__min_child_weight': [1, 5, 10],\n",
    "             'xgb1__gamma': [0.5, 1, 1.5, 2, 5],\n",
    "             'xgb1__subsample': [0.6, 0.8, 1.0],\n",
    "             'xgb1__colsample_bytree': [0.6, 0.8, 1.0],\n",
    "             'xgb1__max_depth': [3, 4, 5]}\n",
    "best_xgb1 = hyperparameters(pipeline7,'random',xgb_grid, X_train, y_train, X_val)"
   ]
  },
  {
   "cell_type": "code",
   "execution_count": 391,
   "metadata": {},
   "outputs": [
    {
     "name": "stdout",
     "output_type": "stream",
     "text": [
      "accuracy\n",
      "0.9091680568096601\n",
      "[0.90331492 0.92243767 0.92243767 0.91412742 0.90858726 0.90581717\n",
      " 0.90304709 0.91412742 0.89473684 0.90304709]\n",
      "recall\n",
      "0.6539136302294197\n",
      "[0.66666667 0.68421053 0.71052632 0.65789474 0.60526316 0.65789474\n",
      " 0.71052632 0.66666667 0.58974359 0.58974359]\n",
      "precision\n",
      "0.5639250883158653\n",
      "[0.54166667 0.61904762 0.61363636 0.58139535 0.56097561 0.54347826\n",
      " 0.52941176 0.59090909 0.51111111 0.54761905]\n"
     ]
    }
   ],
   "source": [
    "cv(best_xgb1, X_train_val, y_train_val)"
   ]
  },
  {
   "cell_type": "code",
   "execution_count": 392,
   "metadata": {},
   "outputs": [],
   "source": [
    "def modelfit(alg, useTrainCV=True, cv_folds=5, early_stopping_rounds=50):\n",
    "    \n",
    "    if useTrainCV:\n",
    "        xgb_param = alg.get_xgb_params()\n",
    "        xgtrain = xgb.DMatrix(X_train, label=y_train)\n",
    "        cvresult = xgb.cv(xgb_param, xgtrain, num_boost_round=alg.get_params()['n_estimators'], nfold=cv_folds,\n",
    "            metrics='auc', early_stopping_rounds=early_stopping_rounds)\n",
    "        alg.set_params(n_estimators=cvresult.shape[0])\n",
    "    \n",
    "    alg = no_cv(alg, X_train, y_train, X_val, y_val)\n",
    "    print(alg.booster().get_fscore())\n",
    "    feat_imp = pd.Series(alg.booster().get_fscore()).sort_values(ascending=False)\n",
    "    feat_imp.plot(kind='bar', title='Feature Importances')\n",
    "    plt.ylabel('Feature Importance Score')"
   ]
  }
 ],
 "metadata": {
  "kernelspec": {
   "display_name": "Python 3",
   "language": "python",
   "name": "python3"
  },
  "language_info": {
   "codemirror_mode": {
    "name": "ipython",
    "version": 3
   },
   "file_extension": ".py",
   "mimetype": "text/x-python",
   "name": "python",
   "nbconvert_exporter": "python",
   "pygments_lexer": "ipython3",
   "version": "3.6.8"
  }
 },
 "nbformat": 4,
 "nbformat_minor": 2
}
