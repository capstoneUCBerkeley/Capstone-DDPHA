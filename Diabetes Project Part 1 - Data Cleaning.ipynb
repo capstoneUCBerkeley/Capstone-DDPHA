{
 "cells": [
  {
   "cell_type": "code",
   "execution_count": 1,
   "metadata": {},
   "outputs": [],
   "source": [
    "import pandas as pd\n",
    "import numpy as np\n",
    "from pandas import DataFrame\n",
    "import matplotlib.pyplot as plt\n",
    "import sys\n",
    "import seaborn as sns\n",
    "from scipy import stats\n",
    "\n",
    "\n",
    "#***\n",
    "#from impyute.imputation.cs import fast_knn\n",
    "#from impyute.imputation.cs import mice\n",
    "import xport\n",
    "\n",
    "from sklearn import preprocessing\n",
    "from sklearn.model_selection import train_test_split\n",
    "from sklearn import metrics\n",
    "\n",
    "from sklearn.ensemble import RandomForestClassifier\n",
    "from sklearn.ensemble import RandomForestRegressor\n",
    "from sklearn.linear_model import LogisticRegression\n",
    "from sklearn import linear_model\n",
    "from sklearn.svm import SVR, LinearSVC\n",
    "from sklearn.neighbors import KNeighborsClassifier\n",
    "from sklearn.neighbors import KNeighborsRegressor\n",
    "from sklearn.naive_bayes import GaussianNB \n",
    "from sklearn.linear_model import Perceptron\n",
    "from sklearn.tree import DecisionTreeClassifier\n",
    "from sklearn.metrics import confusion_matrix\n",
    "\n",
    "sys.setrecursionlimit(100000) #Increase the recursion limit of the OS\n",
    "\n",
    "sns.set(style=\"white\")\n",
    "sns.set(style=\"whitegrid\", color_codes=True)\n",
    "plt.rc(\"font\", size=14)\n",
    "\n",
    "from pandas.plotting import scatter_matrix"
   ]
  },
  {
   "cell_type": "markdown",
   "metadata": {},
   "source": [
    "## Import data"
   ]
  },
  {
   "cell_type": "code",
   "execution_count": 2,
   "metadata": {},
   "outputs": [],
   "source": [
    "# function:  rename_chosen_features(xpt_file,old_names,new_names,csv_file)\n",
    "# purpose:   rename the chosen features in the XPT file\n",
    "# input:     xpt_file: the converted dataframe from XPT file\n",
    "#            old_names: a list of strings - strings are code names on NHANES \n",
    "#            new_names: a list of strings \n",
    "#            csv_file: name \n",
    "# output:    a dataframe with renamed chosen features  \n",
    "\n",
    "def rename_chosen_features(xpt_file,old_names,new_names,csv_file):\n",
    "    df = xpt_file[old_names]        \n",
    "    df.columns = new_names                \n",
    "    # xpt_file.to_csv(csv_file, header=False) # if needs to get a csv file from the original xpt file\n",
    "    return df"
   ]
  },
  {
   "cell_type": "code",
   "execution_count": 3,
   "metadata": {
    "scrolled": true
   },
   "outputs": [],
   "source": [
    "datadir = 'data/'\n",
    "\n",
    "## Diebetes \n",
    "DIQ_xpt_file = pd.read_sas(datadir+'DIQ_I1516.XPT')\n",
    "DIQ_cvs_file = datadir+'Diabetes1516.csv'\n",
    "# DIQ010: doctor told you have diabetes\n",
    "DIQ_old_names = ['SEQN','DIQ010'] \n",
    "DIQ_new_names = ['ID','diabetes']\n",
    "df0_DIQ = rename_chosen_features(DIQ_xpt_file,DIQ_old_names,DIQ_new_names,DIQ_cvs_file)\n",
    "\n",
    "## Demographics\n",
    "DEMO_xpt_file = pd.read_sas(datadir+'DEMO_I1516.XPT')\n",
    "DEMO_cvs_file = datadir+'Demographic1516.csv'\n",
    "# RIAGENDR: gender - codes\n",
    "# RIDRETH3: race/Hispanic origin w/ NH Asian - codes\n",
    "# RIDAGEYR: age in years at screening - values & codes: 0 to 79 & 80\n",
    "DEMO_old_names = ['SEQN','RIAGENDR','RIDRETH3','RIDAGEYR']\n",
    "DEMO_new_names = ['ID','gender','race','age']\n",
    "df0_DEMO = rename_chosen_features(DEMO_xpt_file,DEMO_old_names,DEMO_new_names,DEMO_cvs_file)\n",
    "\n",
    "## Plasma Fasting Glucose\n",
    "GLU_xpt_file = pd.read_sas(datadir+'GLU_I1516.XPT')\n",
    "GLU_cvs_file = datadir+'FastingGlucose1516.csv'\n",
    "# LBDGLUSI: Fasting Glucose (mmol/L) - values: 1.17 to 26.6\n",
    "GLU_old_names = ['SEQN','LBDGLUSI'] \n",
    "GLU_new_names = ['ID','fasting_glucose']\n",
    "df0_GLU = rename_chosen_features(GLU_xpt_file,GLU_old_names,GLU_new_names,GLU_cvs_file)\n",
    "\n",
    "## Physical Activity\n",
    "PAQ_xpt_file = pd.read_sas(datadir+'PAQ_I1516.XPT')\n",
    "PAQ_cvs_file = datadir+'PhysicalActivity1516.csv'\n",
    "# PAD680: Minutes sedentary activity - values: 0 to 1380 (time spent sitting/day)\n",
    "PAQ_old_names = ['SEQN','PAD680'] \n",
    "PAQ_new_names = ['ID','sitting']\n",
    "df0_PAQ = rename_chosen_features(PAQ_xpt_file,PAQ_old_names,PAQ_new_names,PAQ_cvs_file)\n",
    "\n",
    "## Sleep Disorders\n",
    "SLQ_xpt_file = pd.read_sas(datadir+'SLQ_I1516.XPT')\n",
    "SLQ_cvs_file = datadir+'SleepDisorder1516.csv'\n",
    "# SLD012: Sleep hours/day - values: 2 to 14.5\n",
    "SLQ_old_names = ['SEQN','SLD012'] \n",
    "SLQ_new_names = ['ID','sleeping']\n",
    "df0_SLQ = rename_chosen_features(SLQ_xpt_file,SLQ_old_names,SLQ_new_names,SLQ_cvs_file)\n",
    "\n",
    "## Alcohol Use\n",
    "ALQ_xpt_file = pd.read_sas(datadir+'ALQ_I1516.XPT')\n",
    "ALQ_cvs_file = datadir+'AlcoholUse1516.csv'\n",
    "# ALQ101: Had at least 12 alcohol drinks/1 yr? - codes\n",
    "# ALQ151: Ever have 4/5 or more drinks every day? - codes\n",
    "# ALQ160: # days have 4/5 or more drinks in 2 hrs? - codes & values\n",
    "ALQ_old_names = ['SEQN','ALQ101','ALQ151','ALQ160'] \n",
    "ALQ_new_names = ['ID','12drinksayear','5drinksaday','5drinks2hours']\n",
    "df0_ALQ = rename_chosen_features(ALQ_xpt_file,ALQ_old_names,ALQ_new_names,ALQ_cvs_file)\n",
    "\n",
    "## Cholesterol\n",
    "TRIGLY_xpt_file = pd.read_sas(datadir+'TRIGLY_I1516.XPT')\n",
    "TRIGLY_cvs_file = datadir+'Cholesterol1516.csv'\n",
    "# LBDLDL: LDL-cholesterol (mg/dL) - values: 23 to 277\n",
    "TRIGLY_old_names = ['SEQN','LBDLDL']  \n",
    "TRIGLY_new_names = ['ID','LDL']\n",
    "df0_TRIGLY = rename_chosen_features(TRIGLY_xpt_file,TRIGLY_old_names,TRIGLY_new_names,TRIGLY_cvs_file)\n",
    "\n",
    "## Blood Pressure\n",
    "BPX_xpt_file = pd.read_sas(datadir+'BPX_I1516.XPT')\n",
    "BPX_cvs_file = datadir+'BloodPressure1516.csv'\n",
    "# BPXSY1: Systolic: Blood pres (1st rdg) mm Hg - values: 72 to 236\n",
    "# BPXDI1: Diastolic: Blood pres (1st rdg) mm Hg - values: 0 to 120\n",
    "# BPXSY2: Systolic: Blood pres (2nd rdg) mm Hg - values: 76 to 238\n",
    "# BPXDI2: Diastolic: Blood pres (2nd rdg) mm Hg - values: 0 to 144\n",
    "# BPXSY3 - Systolic: Blood pres (3rd rdg) mm Hg - values: 76 to 226 \n",
    "# BPXDI3 - Diastolic: Blood pres (3rd rdg) mm Hg - values: 0 to 140\n",
    "BPX_old_names = ['SEQN','BPXSY1','BPXDI1','BPXSY2','BPXDI2','BPXSY3','BPXDI3']  \n",
    "BPX_new_names = ['ID','sysBP1', 'diaBP1','sysBP2', 'diaBP2','sysBP3', 'diaBP3']\n",
    "df0_BPX = rename_chosen_features(BPX_xpt_file,BPX_old_names,BPX_new_names,BPX_cvs_file)\n",
    "\n",
    "## Body Measures\n",
    "BMX_xpt_file = pd.read_sas(datadir+'BMX_I1516.XPT')\n",
    "BMX_cvs_file = datadir+'BMI1516.csv'\n",
    "# BMXBMI: Body Mass Index (kg/m**2) - values: 11.5 to 67.3\n",
    "BMX_old_names = ['SEQN','BMXBMI']  \n",
    "BMX_new_names = ['ID','BMI']\n",
    "df0_BMX = rename_chosen_features(BMX_xpt_file,BMX_old_names,BMX_new_names,BMX_cvs_file)\n",
    "\n",
    "## Total Dietary Supplements \n",
    "DSQTOT_xpt_file = pd.read_sas(datadir+'DSQTOT_I1516.XPT')\n",
    "DSQTOT_cvs_file = datadir+'Sugar1516.csv'\n",
    "# DSQTSUGR - Total sugars (gm) - values: 0.02 to 45.73 (in 30 days)\n",
    "DSQTOT_old_names = ['SEQN','DSQTSUGR']  \n",
    "DSQTOT_new_names = ['ID','sugar']\n",
    "df0_DSQTOT = rename_chosen_features(DSQTOT_xpt_file,DSQTOT_old_names,DSQTOT_new_names,DSQTOT_cvs_file)"
   ]
  },
  {
   "cell_type": "markdown",
   "metadata": {},
   "source": [
    "### Data preprocessing work flow\n",
    "1. * Three types of variables:\n",
    "    - Numerical\n",
    "    - Categorical\n",
    "    - Ordinal: low/med/high \n",
    "   * Convert cat and ord into num\n",
    "2. Handle data\n",
    "    - Missing values\n",
    "    - Noisy data (outliers need to be dealt with) ---- not included yet\n",
    "    - Inconsistent data (human error / duplication)"
   ]
  },
  {
   "cell_type": "code",
   "execution_count": 4,
   "metadata": {
    "scrolled": false
   },
   "outputs": [
    {
     "name": "stdout",
     "output_type": "stream",
     "text": [
      "<class 'pandas.core.frame.DataFrame'>\n",
      "Int64Index: 2729 entries, 0 to 2728\n",
      "Data columns (total 20 columns):\n",
      "ID                 2729 non-null float64\n",
      "12drinksayear      2479 non-null float64\n",
      "5drinksaday        2022 non-null float64\n",
      "5drinks2hours      646 non-null float64\n",
      "BMI                2696 non-null float64\n",
      "sysBP1             2570 non-null float64\n",
      "diaBP1             2570 non-null float64\n",
      "sysBP2             2646 non-null float64\n",
      "diaBP2             2646 non-null float64\n",
      "sysBP3             2632 non-null float64\n",
      "diaBP3             2632 non-null float64\n",
      "gender             2729 non-null float64\n",
      "race               2729 non-null float64\n",
      "age                2729 non-null float64\n",
      "diabetes           2729 non-null float64\n",
      "sugar              241 non-null float64\n",
      "fasting_glucose    2573 non-null float64\n",
      "sitting            2723 non-null float64\n",
      "sleeping           2716 non-null float64\n",
      "LDL                2339 non-null float64\n",
      "dtypes: float64(20)\n",
      "memory usage: 447.7 KB\n"
     ]
    }
   ],
   "source": [
    "df0 = pd.merge(df0_ALQ, df0_BMX, how =\"inner\", on = \"ID\")\n",
    "df0 = pd.merge(df0, df0_BPX, how = \"inner\", on =\"ID\")\n",
    "df0 = pd.merge(df0,df0_DEMO, how = 'inner', on = \"ID\")\n",
    "df0 = pd.merge(df0,df0_DIQ, how = 'inner', on = \"ID\")\n",
    "df0 = pd.merge(df0,df0_DSQTOT, how = 'inner', on = \"ID\")\n",
    "df0 = pd.merge(df0,df0_GLU, how = 'inner', on = \"ID\")\n",
    "df0 = pd.merge(df0,df0_PAQ, how = 'inner', on = \"ID\")\n",
    "df0 = pd.merge(df0,df0_SLQ, how = 'inner', on = \"ID\")\n",
    "df0 = pd.merge(df0,df0_TRIGLY, how = 'inner', on = \"ID\")\n",
    "df0.head()\n",
    "df0.info()"
   ]
  },
  {
   "cell_type": "markdown",
   "metadata": {},
   "source": [
    "* Set index"
   ]
  },
  {
   "cell_type": "code",
   "execution_count": 144,
   "metadata": {},
   "outputs": [],
   "source": [
    "# set SEQN to index of the df0\n",
    "df0.set_index('ID', inplace=True)      \n",
    "\n",
    "# if has duplicated indexs(ID), keep the first one \n",
    "df0 = df0[~df0.index.duplicated(keep='first')] "
   ]
  },
  {
   "cell_type": "markdown",
   "metadata": {},
   "source": [
    "* Create a copy of dataframe df0 (the original data input), all modifications will be done on the copy dataframe df    "
   ]
  },
  {
   "cell_type": "code",
   "execution_count": 145,
   "metadata": {},
   "outputs": [
    {
     "data": {
      "text/html": [
       "<div>\n",
       "<style scoped>\n",
       "    .dataframe tbody tr th:only-of-type {\n",
       "        vertical-align: middle;\n",
       "    }\n",
       "\n",
       "    .dataframe tbody tr th {\n",
       "        vertical-align: top;\n",
       "    }\n",
       "\n",
       "    .dataframe thead th {\n",
       "        text-align: right;\n",
       "    }\n",
       "</style>\n",
       "<table border=\"1\" class=\"dataframe\">\n",
       "  <thead>\n",
       "    <tr style=\"text-align: right;\">\n",
       "      <th></th>\n",
       "      <th>12drinksayear</th>\n",
       "      <th>5drinks2hours</th>\n",
       "      <th>5drinksaday</th>\n",
       "      <th>BMI</th>\n",
       "      <th>LDL</th>\n",
       "      <th>age</th>\n",
       "      <th>diaBP1</th>\n",
       "      <th>diaBP2</th>\n",
       "      <th>diaBP3</th>\n",
       "      <th>diabetes</th>\n",
       "      <th>fasting_glucose</th>\n",
       "      <th>gender</th>\n",
       "      <th>race</th>\n",
       "      <th>sitting</th>\n",
       "      <th>sleeping</th>\n",
       "      <th>sugar</th>\n",
       "      <th>sysBP1</th>\n",
       "      <th>sysBP2</th>\n",
       "      <th>sysBP3</th>\n",
       "    </tr>\n",
       "    <tr>\n",
       "      <th>ID</th>\n",
       "      <th></th>\n",
       "      <th></th>\n",
       "      <th></th>\n",
       "      <th></th>\n",
       "      <th></th>\n",
       "      <th></th>\n",
       "      <th></th>\n",
       "      <th></th>\n",
       "      <th></th>\n",
       "      <th></th>\n",
       "      <th></th>\n",
       "      <th></th>\n",
       "      <th></th>\n",
       "      <th></th>\n",
       "      <th></th>\n",
       "      <th></th>\n",
       "      <th></th>\n",
       "      <th></th>\n",
       "      <th></th>\n",
       "    </tr>\n",
       "  </thead>\n",
       "  <tbody>\n",
       "    <tr>\n",
       "      <th>83733.0</th>\n",
       "      <td>1.0</td>\n",
       "      <td>5.397605e-79</td>\n",
       "      <td>1.0</td>\n",
       "      <td>30.8</td>\n",
       "      <td>173.0</td>\n",
       "      <td>53.0</td>\n",
       "      <td>88.0</td>\n",
       "      <td>88.0</td>\n",
       "      <td>82.0</td>\n",
       "      <td>2.0</td>\n",
       "      <td>5.59</td>\n",
       "      <td>1.0</td>\n",
       "      <td>3.0</td>\n",
       "      <td>300.0</td>\n",
       "      <td>8.0</td>\n",
       "      <td>NaN</td>\n",
       "      <td>146.0</td>\n",
       "      <td>140.0</td>\n",
       "      <td>134.0</td>\n",
       "    </tr>\n",
       "    <tr>\n",
       "      <th>83734.0</th>\n",
       "      <td>1.0</td>\n",
       "      <td>NaN</td>\n",
       "      <td>1.0</td>\n",
       "      <td>28.8</td>\n",
       "      <td>145.0</td>\n",
       "      <td>78.0</td>\n",
       "      <td>46.0</td>\n",
       "      <td>44.0</td>\n",
       "      <td>46.0</td>\n",
       "      <td>1.0</td>\n",
       "      <td>4.66</td>\n",
       "      <td>1.0</td>\n",
       "      <td>3.0</td>\n",
       "      <td>480.0</td>\n",
       "      <td>7.0</td>\n",
       "      <td>NaN</td>\n",
       "      <td>138.0</td>\n",
       "      <td>132.0</td>\n",
       "      <td>136.0</td>\n",
       "    </tr>\n",
       "    <tr>\n",
       "      <th>83736.0</th>\n",
       "      <td>2.0</td>\n",
       "      <td>NaN</td>\n",
       "      <td>2.0</td>\n",
       "      <td>20.3</td>\n",
       "      <td>142.0</td>\n",
       "      <td>42.0</td>\n",
       "      <td>70.0</td>\n",
       "      <td>54.0</td>\n",
       "      <td>56.0</td>\n",
       "      <td>2.0</td>\n",
       "      <td>4.66</td>\n",
       "      <td>2.0</td>\n",
       "      <td>4.0</td>\n",
       "      <td>540.0</td>\n",
       "      <td>NaN</td>\n",
       "      <td>NaN</td>\n",
       "      <td>100.0</td>\n",
       "      <td>114.0</td>\n",
       "      <td>98.0</td>\n",
       "    </tr>\n",
       "    <tr>\n",
       "      <th>83737.0</th>\n",
       "      <td>2.0</td>\n",
       "      <td>NaN</td>\n",
       "      <td>NaN</td>\n",
       "      <td>28.6</td>\n",
       "      <td>103.0</td>\n",
       "      <td>72.0</td>\n",
       "      <td>58.0</td>\n",
       "      <td>58.0</td>\n",
       "      <td>60.0</td>\n",
       "      <td>2.0</td>\n",
       "      <td>5.93</td>\n",
       "      <td>2.0</td>\n",
       "      <td>1.0</td>\n",
       "      <td>10.0</td>\n",
       "      <td>9.0</td>\n",
       "      <td>NaN</td>\n",
       "      <td>116.0</td>\n",
       "      <td>122.0</td>\n",
       "      <td>120.0</td>\n",
       "    </tr>\n",
       "    <tr>\n",
       "      <th>83741.0</th>\n",
       "      <td>1.0</td>\n",
       "      <td>2.000000e+00</td>\n",
       "      <td>1.0</td>\n",
       "      <td>28.0</td>\n",
       "      <td>102.0</td>\n",
       "      <td>22.0</td>\n",
       "      <td>70.0</td>\n",
       "      <td>74.0</td>\n",
       "      <td>74.0</td>\n",
       "      <td>2.0</td>\n",
       "      <td>5.27</td>\n",
       "      <td>1.0</td>\n",
       "      <td>4.0</td>\n",
       "      <td>540.0</td>\n",
       "      <td>6.5</td>\n",
       "      <td>NaN</td>\n",
       "      <td>110.0</td>\n",
       "      <td>112.0</td>\n",
       "      <td>112.0</td>\n",
       "    </tr>\n",
       "  </tbody>\n",
       "</table>\n",
       "</div>"
      ],
      "text/plain": [
       "         12drinksayear  5drinks2hours  5drinksaday   BMI    LDL   age  diaBP1  \\\n",
       "ID                                                                              \n",
       "83733.0            1.0   5.397605e-79          1.0  30.8  173.0  53.0    88.0   \n",
       "83734.0            1.0            NaN          1.0  28.8  145.0  78.0    46.0   \n",
       "83736.0            2.0            NaN          2.0  20.3  142.0  42.0    70.0   \n",
       "83737.0            2.0            NaN          NaN  28.6  103.0  72.0    58.0   \n",
       "83741.0            1.0   2.000000e+00          1.0  28.0  102.0  22.0    70.0   \n",
       "\n",
       "         diaBP2  diaBP3  diabetes  fasting_glucose  gender  race  sitting  \\\n",
       "ID                                                                          \n",
       "83733.0    88.0    82.0       2.0             5.59     1.0   3.0    300.0   \n",
       "83734.0    44.0    46.0       1.0             4.66     1.0   3.0    480.0   \n",
       "83736.0    54.0    56.0       2.0             4.66     2.0   4.0    540.0   \n",
       "83737.0    58.0    60.0       2.0             5.93     2.0   1.0     10.0   \n",
       "83741.0    74.0    74.0       2.0             5.27     1.0   4.0    540.0   \n",
       "\n",
       "         sleeping  sugar  sysBP1  sysBP2  sysBP3  \n",
       "ID                                                \n",
       "83733.0       8.0    NaN   146.0   140.0   134.0  \n",
       "83734.0       7.0    NaN   138.0   132.0   136.0  \n",
       "83736.0       NaN    NaN   100.0   114.0    98.0  \n",
       "83737.0       9.0    NaN   116.0   122.0   120.0  \n",
       "83741.0       6.5    NaN   110.0   112.0   112.0  "
      ]
     },
     "execution_count": 145,
     "metadata": {},
     "output_type": "execute_result"
    }
   ],
   "source": [
    "df0 = df0.reindex(sorted(df0.columns), axis=1)\n",
    "df0.head()\n",
    "df = df0.copy(deep=True)\n",
    "df.head()"
   ]
  },
  {
   "cell_type": "markdown",
   "metadata": {},
   "source": [
    "# Process data\n",
    "* Set small values to be zeros: clean_epsilon"
   ]
  },
  {
   "cell_type": "code",
   "execution_count": 146,
   "metadata": {},
   "outputs": [],
   "source": [
    "# function:  clean_epsilon(cell)\n",
    "# purpose:   in the orginal files, zeros are represented by a small value (10^-79), convert them to actual zeros\n",
    "# input:     a dataframe that with (10^-79) as zeroes \n",
    "# output:    a dataframe with actual zeroes \n",
    "\n",
    "def clean_epsilon(cell):\n",
    "    if cell - 0.0 < 0.0001:\n",
    "        return 0\n",
    "    return cell\n",
    "\n",
    "df = df.applymap(clean_epsilon)"
   ]
  },
  {
   "cell_type": "markdown",
   "metadata": {},
   "source": [
    "* Handle response: don't know & refuse (refer as constraint - cstr)"
   ]
  },
  {
   "cell_type": "code",
   "execution_count": 147,
   "metadata": {},
   "outputs": [],
   "source": [
    "# function:  get_cstr_ratio(df,feature,cstr)\n",
    "# purpose:   get the percentage of 'don't know' and 'refuse' out of number of entries\n",
    "# input:     cstr: a list of two integers. ex: [77,99] \n",
    "# output:    ratios of dk/entries and refuse/entries \n",
    "\n",
    "def get_cstr_ratio(df,feature,cstr):\n",
    "    total_count = df.shape[0]\n",
    "    dk = cstr[0]      # don't know\n",
    "    refuse = cstr[1]  # refuse to answer\n",
    "    \n",
    "    feature_counts = df[feature].value_counts().to_dict()\n",
    "    if dk not in feature_counts: dk = 0         # When there's no 'dk'/'refuse' in responses\n",
    "    else: dk = feature_counts[dk]\n",
    "    if refuse not in feature_counts: refuse = 0\n",
    "    else: refuse = feature_counts[refuse]\n",
    "\n",
    "    dk = int(dk)\n",
    "    refuse = int(refuse)\n",
    "    r1 = dk/total_count\n",
    "    r2 = refuse/total_count\n",
    "    print()\n",
    "    print('The ratio of [dont know] is', r1)\n",
    "    print('The ratio of [refuse] is', r2)\n",
    "    print('Now call: process_cstr(df,feature,cstr,method)')\n",
    "\n",
    "# function:  process_cstr(df,feature,cstr,method)\n",
    "# purpose:   if cstr ratio is high, then replace cstr with NaN and deal with NaN later\n",
    "#            if cstr ratio is low, then drop entries with cstr\n",
    "# input:     cstr: a list of two integers. ex: [77,99]\n",
    "#            method: select among 'drop', 'NaN'\n",
    "# output:    \n",
    "\n",
    "def process_cstr(df,feature,cstr,method):\n",
    "    dk = cstr[0] # don't know\n",
    "    refuse = cstr[1]  # refuse to answer\n",
    "    if method == 'drop':\n",
    "        df = df[df[feature] != dk]\n",
    "        df = df[df[feature] != refuse]\n",
    "    elif method == 'NaN':\n",
    "        df[feature][df[feature] == dk] = np.nan\n",
    "        df[feature][df[feature] == refuse] = np.nan\n",
    "    else:\n",
    "        print('The method you choose is not included yet, add new method now!')\n",
    "    return df"
   ]
  },
  {
   "cell_type": "code",
   "execution_count": 148,
   "metadata": {},
   "outputs": [],
   "source": [
    "def get_value_count(df,feature): \n",
    "    print()\n",
    "    print('NaN   ',df[feature].isna().sum())\n",
    "    print(df[feature].value_counts())\n"
   ]
  },
  {
   "cell_type": "markdown",
   "metadata": {},
   "source": [
    "# Dealing with missing values\n",
    "1. Get missing values information\n",
    "\n",
    "        A. Get the ratio of missing values\n",
    "        B. Visualize abundances of missing values between different features\n",
    "2. Fill or predict missing values\n",
    "    \n",
    "        A. Fill NaN will mean/mode\n",
    "        B. Predict NaN with machine learning algorithms"
   ]
  },
  {
   "cell_type": "markdown",
   "metadata": {},
   "source": [
    "### 1. Learn about NaN\n",
    "Learn about the percentage of NaN/non-NaN, then decide how to proceed"
   ]
  },
  {
   "cell_type": "code",
   "execution_count": 149,
   "metadata": {},
   "outputs": [],
   "source": [
    "# function:  get_NaN_ratio_for_one_feature(df,feature)\n",
    "# purpose:   get the ratio of (missing values)/(total entries) for ***one feature***  \n",
    "# input:     df: dataframe that contains the feature you want to check for NaN ratio\n",
    "#            feature: the name of the feature - string           \n",
    "# output:    NaN ratio of the feature, and instructions on what to do next \n",
    "\n",
    "def get_NaN_ratio(df,feature):\n",
    "    print()\n",
    "    total_count = df.shape[0]                  # total entries\n",
    "    feature_valid_count = df[feature].count()  # non-NaN entries for chosen feature\n",
    "    feature_null_count = total_count - feature_valid_count\n",
    "    NaN_ratio = feature_null_count/total_count\n",
    "    print('The NaN ratio in',feature,'is',\"%.3f\" % NaN_ratio)\n",
    "    if NaN_ratio == 0:\n",
    "        print('No missing values detected')\n",
    "    elif NaN_ratio <= 0.1:\n",
    "        print('Since NaN ratio is small, fill NaN directly with fill type: mode, mean, new category')\n",
    "        print('Now call function: fill_NaN(df, feature, fill_type)')\n",
    "    else:\n",
    "        print('Since NaN ratio is large, predict NaN using ML or check predictability first...')\n",
    "        print('if check predictability, call: check_predictability_all/some_x(df,y,method)')\n",
    "        print('if predict using ML, call: predict_NaN_with_ML(df,x,y,data_type,model)')\n",
    "\n",
    "# features = df.columns.values.tolist()\n",
    "# for feature in features:\n",
    "#     get_NaN_ratio(df,feature)\n",
    "#     print('----------------------')\n",
    "\n",
    "def plot_NaN_percentage_for_all(df):\n",
    "    total = df.isnull().sum().sort_values(ascending=False)\n",
    "    percent = (df.isnull().sum()/df.isnull().count()).sort_values(ascending=False)\n",
    "    missing_data = pd.concat([total, percent], axis=1, keys=['Total', 'Percent'])\n",
    "    # missing_data.head()\n",
    "    f, ax = plt.subplots(figsize=(15, 6))\n",
    "    plt.xticks(rotation='90')\n",
    "    sns.barplot(x=missing_data.index, y=missing_data['Percent'])\n",
    "    plt.xlabel('Features', fontsize=15)\n",
    "    plt.ylabel('Percent of missing values', fontsize=15)\n",
    "    plt.title('Percent missing data by feature', fontsize=15)\n"
   ]
  },
  {
   "cell_type": "code",
   "execution_count": 150,
   "metadata": {
    "scrolled": true
   },
   "outputs": [
    {
     "name": "stdout",
     "output_type": "stream",
     "text": [
      "<class 'pandas.core.frame.DataFrame'>\n",
      "Float64Index: 2729 entries, 83733.0 to 93697.0\n",
      "Data columns (total 19 columns):\n",
      "12drinksayear      2479 non-null float64\n",
      "5drinks2hours      646 non-null float64\n",
      "5drinksaday        2022 non-null float64\n",
      "BMI                2696 non-null float64\n",
      "LDL                2339 non-null float64\n",
      "age                2729 non-null float64\n",
      "diaBP1             2570 non-null float64\n",
      "diaBP2             2646 non-null float64\n",
      "diaBP3             2632 non-null float64\n",
      "diabetes           2729 non-null float64\n",
      "fasting_glucose    2573 non-null float64\n",
      "gender             2729 non-null float64\n",
      "race               2729 non-null float64\n",
      "sitting            2723 non-null float64\n",
      "sleeping           2716 non-null float64\n",
      "sugar              241 non-null float64\n",
      "sysBP1             2570 non-null float64\n",
      "sysBP2             2646 non-null float64\n",
      "sysBP3             2632 non-null float64\n",
      "dtypes: float64(19)\n",
      "memory usage: 426.4 KB\n"
     ]
    },
    {
     "data": {
      "image/png": "[encoded data removed]",
      "text/plain": [
       "<Figure size 1080x432 with 1 Axes>"
      ]
     },
     "metadata": {},
     "output_type": "display_data"
    }
   ],
   "source": [
    "plot_NaN_percentage_for_all(df)\n",
    "df.info()"
   ]
  },
  {
   "cell_type": "markdown",
   "metadata": {},
   "source": [
    "### 2. Deal with NaN\n",
    "   \n",
    "    2.1 replace NaN with mean/median/average/mode: if NaN percentage is smaller than 10 %; suitable for simple linear models, not good for tree based methods; ignore relationship between the imputed variable and other variables\n",
    "    2.2 replace NaN with values close to the mean value but within one standard deviation.\n",
    "    2.3 drop NaN entries\n",
    "    2.4 replace NaN with another category: use a constant value to group NaN as a separate category\n",
    "    2.5 predict NaN using ML\n",
    "    2.6 Adding new feature isnull: Adding new feature isnull indicating which rows have missing values for this feature. pro: tree based methods can understand that there was a missing value. con: double the number of features.\n",
    "\n",
    "     "
   ]
  },
  {
   "cell_type": "code",
   "execution_count": 151,
   "metadata": {},
   "outputs": [],
   "source": [
    "# function:  plot_before_after(feature0, feature, title)\n",
    "# purpose:   Plot histograms showing the distribution of a feature before and after filling NaN\n",
    "#            to see the change in distribution. This can tell you if the filling method is \n",
    "#            correct or not.\n",
    "# input:     feature0: str0\n",
    "#            feature: str\n",
    "#            title of the plot\n",
    "\n",
    "def plot_before_after(before,after,feature):\n",
    "    fig, ax = plt.subplots()\n",
    "    ax.hist(after,alpha=0.5,color='red')\n",
    "    ax.hist(before)\n",
    "    ax.legend(['after','before'])\n",
    "    plt.title('Before vs. After(no NaN):'+feature)\n",
    "    plt.ylabel('Frequency')\n",
    "\n",
    "def plot_feature(feature):\n",
    "    plt.figure()\n",
    "    df[feature].hist()\n",
    "    plt.title(feature)\n",
    "    plt.ylabel('Frequency')"
   ]
  },
  {
   "cell_type": "code",
   "execution_count": 152,
   "metadata": {},
   "outputs": [],
   "source": [
    "# function:  fill_NaN(df, feature, fill_type)\n",
    "# purpose:   fill the missing values in ***one column/feature*** in the given df. \n",
    "# input:     df: the df containing the target column to be filled\n",
    "#            feature: the column whose NaN's are dealt with\n",
    "#            fill_type: choose among -> 'mean', 'mode', 'zero' \n",
    "#                       mean: if the feature is continuous without outliers - normal distribution\n",
    "#                       median: if the feature is continuous with outliers - skewed distribution\n",
    "#                       mode: if the feature is categorical\n",
    "# output:    a df whose target column is filled (no more NaN in that col)\n",
    "\n",
    "def fill_NaN(df, feature, fill_type):    \n",
    "    before_filling = df[feature].dropna().copy(deep=True)\n",
    "    if fill_type == 'mean':\n",
    "        after_filling = df[feature].fillna(df[feature].dropna().mean())\n",
    "    elif fill_type == 'mode':\n",
    "        after_filling = df[feature].fillna(df[feature].dropna().mode().iloc[0])\n",
    "    elif fill_type == 'std':\n",
    "        after_filling = fill_NaN_std(df, feature)\n",
    "#     elif fill_type == 'median':\n",
    "#         after_filling = df[feature].fillna(df[feature].dropna().median())\n",
    "    else:\n",
    "        # fill type == 'zero' (new category)\n",
    "        # set missing values as another category \n",
    "        # cannot set this new cat as 0 since there could be 0 after applying clean_epsilon function  \n",
    "        # need to get a unique number representing NaN as a new category \n",
    "        new_type = 0\n",
    "        after_filling = df[feature].fillna(new_type)   \n",
    "    df[feature] = after_filling\n",
    "    plot_before_after(before_filling, after_filling, feature)\n",
    "    return df\n",
    "\n",
    "def fill_NaN_std(df,feature):\n",
    "    feature_avg = df[feature].mean()\n",
    "    feature_std = df[feature].std()\n",
    "    feature_null_count = df[feature].isnull().sum()\n",
    "    feature_null_random_list = np.random.randint(feature_avg - feature_std, feature_avg + feature_std, size=feature_null_count)\n",
    "    df[feature][np.isnan(df[feature])] = feature_null_random_list\n",
    "    after_filling = df[feature].astype(int)\n",
    "    return after_filling"
   ]
  },
  {
   "cell_type": "code",
   "execution_count": 153,
   "metadata": {},
   "outputs": [],
   "source": [
    "# function:  predict_NaN_with_ML(df,x,y,data_type,model)\n",
    "# purpose:   predict the values of NaN and fill these predicted values back into the dataframe\n",
    "# input:     df: the dataframe containing the features used for prediction and target y(target feature)\n",
    "#            x: a list of strings - features used for prediction - no NAN in all x's\n",
    "#            y: a string - target feature\n",
    "#            data_type: a string ->'categorical','numerical'\n",
    "#            model: a string \n",
    "#                 if categorical data: 'random forest','linear SVC', 'knn'\n",
    "#                 if numerical data:   'random forest','SVR','knn'\n",
    "# output:\n",
    "\n",
    "\n",
    "def predict_NaN_with_ML(df,x,y,data_type,model):\n",
    "    print()\n",
    "    before_filling = df[y].dropna().copy(deep=True)\n",
    "        \n",
    "    if data_type == 'categorical':\n",
    "        if model == 'random forest':\n",
    "            algo = RandomForestClassifier()\n",
    "        elif model == 'linear SVC':\n",
    "            algo = LinearSVC()\n",
    "        elif model == 'knn':\n",
    "            algo = KNeighborsClassifier(n_neighbors=3)\n",
    "        else: \n",
    "            print('The model is not defined, add this model now!')\n",
    "        print('Predict the missing values of',y,'using ',model,' Classifier...')\n",
    "\n",
    "    else: # data_type == 'numerical' \n",
    "        if model == 'random forest':\n",
    "             algo = RandomForestRegressor()\n",
    "        elif model == 'SVR':\n",
    "            algo = SVR()\n",
    "        elif model == 'knn':\n",
    "            algo = KNeighborsRegressor(n_neighbors=2)\n",
    "        else: \n",
    "            print('The model is not defined, add this model now!')\n",
    "        print('Predict the missing values of',y,'using ',model,' Regressor...')\n",
    "   \n",
    "    # build model using valid entries  \n",
    "    valid_entries = df[df[y].notnull()]                # rows where y is not NaN (valid entries)\n",
    "    valid_entries_x = valid_entries[x]                 # all x's for valid rows (x's are not NaN)\n",
    "    valid_entries_y = valid_entries[y]                 # y for valid rows (y's are not NaN) \n",
    "    valid_entries_x = valid_entries_x.astype(float)    # change data type to float\n",
    "    valid_entries_y = valid_entries_y.astype(float)\n",
    "\n",
    "    algo.fit(valid_entries_x, valid_entries_y)           \n",
    "    \n",
    "    #predict y (target feature)\n",
    "    nan_entries = df[df[y].isnull()]                    # rows where y is NaN     \n",
    "    nan_entries_x = nan_entries[x].astype(float)    \n",
    "    nan_entries_y = nan_entries[y].astype(float)\n",
    "    \n",
    "    predict_y = algo.predict(nan_entries_x)             # predict NaN y based on x on the same entries    \n",
    "    df.loc[df[y].isna(), y] = predict_y                 # fill the missing values with predicted data\n",
    "    \n",
    "    print('Features used for predicting',y, 'are:',x)\n",
    "    print('The number of predicted values:',len(predict_y))\n",
    "    \n",
    "    after_filling = df[y]\n",
    "    plot_before_after(before_filling, after_filling, y)"
   ]
  },
  {
   "cell_type": "markdown",
   "metadata": {},
   "source": [
    "* Drop the entire patient entry if that entry contains more than 6 NaN features out of 16 features (keep entries with more than 10 non-NaN values)"
   ]
  },
  {
   "cell_type": "code",
   "execution_count": 154,
   "metadata": {},
   "outputs": [
    {
     "name": "stdout",
     "output_type": "stream",
     "text": [
      "42 patient entries are dropped since they contain more than 6 NaN variables\n"
     ]
    }
   ],
   "source": [
    "before = len(df.index)\n",
    "df.dropna(thresh = 10,inplace = True)\n",
    "after = len(df.index)\n",
    "print(before-after,'patient entries are dropped since they contain more than 6 NaN variables')"
   ]
  },
  {
   "cell_type": "markdown",
   "metadata": {},
   "source": [
    "### A. Alcohol Use "
   ]
  },
  {
   "cell_type": "code",
   "execution_count": 155,
   "metadata": {
    "scrolled": true
   },
   "outputs": [
    {
     "data": {
      "text/html": [
       "<div>\n",
       "<style scoped>\n",
       "    .dataframe tbody tr th:only-of-type {\n",
       "        vertical-align: middle;\n",
       "    }\n",
       "\n",
       "    .dataframe tbody tr th {\n",
       "        vertical-align: top;\n",
       "    }\n",
       "\n",
       "    .dataframe thead th {\n",
       "        text-align: right;\n",
       "    }\n",
       "</style>\n",
       "<table border=\"1\" class=\"dataframe\">\n",
       "  <thead>\n",
       "    <tr style=\"text-align: right;\">\n",
       "      <th></th>\n",
       "      <th>12drinksayear</th>\n",
       "      <th>5drinks2hours</th>\n",
       "      <th>5drinksaday</th>\n",
       "      <th>BMI</th>\n",
       "      <th>LDL</th>\n",
       "      <th>age</th>\n",
       "      <th>diaBP1</th>\n",
       "      <th>diaBP2</th>\n",
       "      <th>diaBP3</th>\n",
       "      <th>diabetes</th>\n",
       "      <th>fasting_glucose</th>\n",
       "      <th>gender</th>\n",
       "      <th>race</th>\n",
       "      <th>sitting</th>\n",
       "      <th>sleeping</th>\n",
       "      <th>sugar</th>\n",
       "      <th>sysBP1</th>\n",
       "      <th>sysBP2</th>\n",
       "      <th>sysBP3</th>\n",
       "    </tr>\n",
       "    <tr>\n",
       "      <th>ID</th>\n",
       "      <th></th>\n",
       "      <th></th>\n",
       "      <th></th>\n",
       "      <th></th>\n",
       "      <th></th>\n",
       "      <th></th>\n",
       "      <th></th>\n",
       "      <th></th>\n",
       "      <th></th>\n",
       "      <th></th>\n",
       "      <th></th>\n",
       "      <th></th>\n",
       "      <th></th>\n",
       "      <th></th>\n",
       "      <th></th>\n",
       "      <th></th>\n",
       "      <th></th>\n",
       "      <th></th>\n",
       "      <th></th>\n",
       "    </tr>\n",
       "  </thead>\n",
       "  <tbody>\n",
       "    <tr>\n",
       "      <th>83733.0</th>\n",
       "      <td>1.0</td>\n",
       "      <td>0.0</td>\n",
       "      <td>1.0</td>\n",
       "      <td>30.8</td>\n",
       "      <td>173.0</td>\n",
       "      <td>53.0</td>\n",
       "      <td>88.0</td>\n",
       "      <td>88.0</td>\n",
       "      <td>82.0</td>\n",
       "      <td>2.0</td>\n",
       "      <td>5.59</td>\n",
       "      <td>1.0</td>\n",
       "      <td>3.0</td>\n",
       "      <td>300.0</td>\n",
       "      <td>8.0</td>\n",
       "      <td>NaN</td>\n",
       "      <td>146.0</td>\n",
       "      <td>140.0</td>\n",
       "      <td>134.0</td>\n",
       "    </tr>\n",
       "    <tr>\n",
       "      <th>83734.0</th>\n",
       "      <td>1.0</td>\n",
       "      <td>NaN</td>\n",
       "      <td>1.0</td>\n",
       "      <td>28.8</td>\n",
       "      <td>145.0</td>\n",
       "      <td>78.0</td>\n",
       "      <td>46.0</td>\n",
       "      <td>44.0</td>\n",
       "      <td>46.0</td>\n",
       "      <td>1.0</td>\n",
       "      <td>4.66</td>\n",
       "      <td>1.0</td>\n",
       "      <td>3.0</td>\n",
       "      <td>480.0</td>\n",
       "      <td>7.0</td>\n",
       "      <td>NaN</td>\n",
       "      <td>138.0</td>\n",
       "      <td>132.0</td>\n",
       "      <td>136.0</td>\n",
       "    </tr>\n",
       "    <tr>\n",
       "      <th>83736.0</th>\n",
       "      <td>0.0</td>\n",
       "      <td>NaN</td>\n",
       "      <td>0.0</td>\n",
       "      <td>20.3</td>\n",
       "      <td>142.0</td>\n",
       "      <td>42.0</td>\n",
       "      <td>70.0</td>\n",
       "      <td>54.0</td>\n",
       "      <td>56.0</td>\n",
       "      <td>2.0</td>\n",
       "      <td>4.66</td>\n",
       "      <td>2.0</td>\n",
       "      <td>4.0</td>\n",
       "      <td>540.0</td>\n",
       "      <td>NaN</td>\n",
       "      <td>NaN</td>\n",
       "      <td>100.0</td>\n",
       "      <td>114.0</td>\n",
       "      <td>98.0</td>\n",
       "    </tr>\n",
       "    <tr>\n",
       "      <th>83737.0</th>\n",
       "      <td>0.0</td>\n",
       "      <td>NaN</td>\n",
       "      <td>NaN</td>\n",
       "      <td>28.6</td>\n",
       "      <td>103.0</td>\n",
       "      <td>72.0</td>\n",
       "      <td>58.0</td>\n",
       "      <td>58.0</td>\n",
       "      <td>60.0</td>\n",
       "      <td>2.0</td>\n",
       "      <td>5.93</td>\n",
       "      <td>2.0</td>\n",
       "      <td>1.0</td>\n",
       "      <td>10.0</td>\n",
       "      <td>9.0</td>\n",
       "      <td>NaN</td>\n",
       "      <td>116.0</td>\n",
       "      <td>122.0</td>\n",
       "      <td>120.0</td>\n",
       "    </tr>\n",
       "    <tr>\n",
       "      <th>83741.0</th>\n",
       "      <td>1.0</td>\n",
       "      <td>0.0</td>\n",
       "      <td>1.0</td>\n",
       "      <td>28.0</td>\n",
       "      <td>102.0</td>\n",
       "      <td>22.0</td>\n",
       "      <td>70.0</td>\n",
       "      <td>74.0</td>\n",
       "      <td>74.0</td>\n",
       "      <td>2.0</td>\n",
       "      <td>5.27</td>\n",
       "      <td>1.0</td>\n",
       "      <td>4.0</td>\n",
       "      <td>540.0</td>\n",
       "      <td>6.5</td>\n",
       "      <td>NaN</td>\n",
       "      <td>110.0</td>\n",
       "      <td>112.0</td>\n",
       "      <td>112.0</td>\n",
       "    </tr>\n",
       "  </tbody>\n",
       "</table>\n",
       "</div>"
      ],
      "text/plain": [
       "         12drinksayear  5drinks2hours  5drinksaday   BMI    LDL   age  diaBP1  \\\n",
       "ID                                                                              \n",
       "83733.0            1.0            0.0          1.0  30.8  173.0  53.0    88.0   \n",
       "83734.0            1.0            NaN          1.0  28.8  145.0  78.0    46.0   \n",
       "83736.0            0.0            NaN          0.0  20.3  142.0  42.0    70.0   \n",
       "83737.0            0.0            NaN          NaN  28.6  103.0  72.0    58.0   \n",
       "83741.0            1.0            0.0          1.0  28.0  102.0  22.0    70.0   \n",
       "\n",
       "         diaBP2  diaBP3  diabetes  fasting_glucose  gender  race  sitting  \\\n",
       "ID                                                                          \n",
       "83733.0    88.0    82.0       2.0             5.59     1.0   3.0    300.0   \n",
       "83734.0    44.0    46.0       1.0             4.66     1.0   3.0    480.0   \n",
       "83736.0    54.0    56.0       2.0             4.66     2.0   4.0    540.0   \n",
       "83737.0    58.0    60.0       2.0             5.93     2.0   1.0     10.0   \n",
       "83741.0    74.0    74.0       2.0             5.27     1.0   4.0    540.0   \n",
       "\n",
       "         sleeping  sugar  sysBP1  sysBP2  sysBP3  \n",
       "ID                                                \n",
       "83733.0       8.0    NaN   146.0   140.0   134.0  \n",
       "83734.0       7.0    NaN   138.0   132.0   136.0  \n",
       "83736.0       NaN    NaN   100.0   114.0    98.0  \n",
       "83737.0       9.0    NaN   116.0   122.0   120.0  \n",
       "83741.0       6.5    NaN   110.0   112.0   112.0  "
      ]
     },
     "execution_count": 155,
     "metadata": {},
     "output_type": "execute_result"
    }
   ],
   "source": [
    "# Change 2(NHANES for No) to 0(False - boolean) for features with YES/NO answers\n",
    "df.loc[df['12drinksayear'] == 2,['12drinksayear']] = 0\n",
    "df.loc[df['5drinksaday'] == 2,['5drinksaday']] = 0\n",
    "df.loc[df['5drinks2hours'] == 2,['5drinks2hours']] = 0\n",
    "df.head()\n"
   ]
  },
  {
   "cell_type": "markdown",
   "metadata": {},
   "source": [
    "#### A.1. 12drinksayear"
   ]
  },
  {
   "cell_type": "code",
   "execution_count": 156,
   "metadata": {
    "scrolled": true
   },
   "outputs": [
    {
     "name": "stdout",
     "output_type": "stream",
     "text": [
      "\n",
      "The NaN ratio in 12drinksayear is 0.079\n",
      "Since NaN ratio is small, fill NaN directly with fill type: mode, mean, new category\n",
      "Now call function: fill_NaN(df, feature, fill_type)\n"
     ]
    }
   ],
   "source": [
    "get_NaN_ratio(df,'12drinksayear')"
   ]
  },
  {
   "cell_type": "code",
   "execution_count": 157,
   "metadata": {
    "scrolled": true
   },
   "outputs": [
    {
     "name": "stdout",
     "output_type": "stream",
     "text": [
      "1.0    1872\n",
      "0.0     814\n",
      "9.0       1\n",
      "Name: 12drinksayear, dtype: int64\n",
      "\n",
      "The ratio of [dont know] is 0.0\n",
      "The ratio of [refuse] is 0.0003721622627465575\n",
      "Now call: process_cstr(df,feature,cstr,method)\n"
     ]
    },
    {
     "data": {
      "image/png": "[encoded data removed]",
      "text/plain": [
       "<Figure size 432x288 with 1 Axes>"
      ]
     },
     "metadata": {},
     "output_type": "display_data"
    }
   ],
   "source": [
    "df = fill_NaN(df,'12drinksayear','mode')\n",
    "# get_value_count(df,'12drinksayear')\n",
    "print(df['12drinksayear'].value_counts())\n",
    "get_cstr_ratio(df,'12drinksayear',[7,9])\n",
    "df = process_cstr(df,'12drinksayear',[7,9],'drop')\n",
    "# get_value_count(df0,'12drinksayear')\n",
    "# get_value_count(df,'12drinksayear')"
   ]
  },
  {
   "cell_type": "markdown",
   "metadata": {},
   "source": [
    "#### A.2. '5drinksaday'  \n",
    "Ever have 4/5 or more drinks every day? - codes"
   ]
  },
  {
   "cell_type": "code",
   "execution_count": 158,
   "metadata": {
    "scrolled": true
   },
   "outputs": [
    {
     "name": "stdout",
     "output_type": "stream",
     "text": [
      "\n",
      "The NaN ratio in 5drinksaday is 0.248\n",
      "Since NaN ratio is large, predict NaN using ML or check predictability first...\n",
      "if check predictability, call: check_predictability_all/some_x(df,y,method)\n",
      "if predict using ML, call: predict_NaN_with_ML(df,x,y,data_type,model)\n",
      "\n",
      "NaN    667\n",
      "0.0    1657\n",
      "1.0     361\n",
      "7.0       1\n",
      "Name: 5drinksaday, dtype: int64\n"
     ]
    }
   ],
   "source": [
    "get_NaN_ratio(df,'5drinksaday')\n",
    "get_value_count(df,'5drinksaday')\n",
    "df = process_cstr(df,'5drinksaday',[7,9],'drop')"
   ]
  },
  {
   "cell_type": "code",
   "execution_count": 159,
   "metadata": {
    "scrolled": true
   },
   "outputs": [
    {
     "name": "stdout",
     "output_type": "stream",
     "text": [
      "\n",
      "Predict the missing values of 5drinksaday using  knn  Classifier...\n",
      "Features used for predicting 5drinksaday are: ['12drinksayear', 'age', 'diabetes', 'gender', 'race']\n",
      "The number of predicted values: 667\n",
      "\n",
      "NaN    0\n",
      "0.0    2293\n",
      "1.0     392\n",
      "Name: 5drinksaday, dtype: int64\n"
     ]
    },
    {
     "data": {
      "image/png": "[encoded data removed]",
      "text/plain": [
       "<Figure size 432x288 with 1 Axes>"
      ]
     },
     "metadata": {},
     "output_type": "display_data"
    }
   ],
   "source": [
    "x_a2 = [col for col in df.columns if df[col].notnull().all()]\n",
    "y_a2 = '5drinksaday'\n",
    "predict_NaN_with_ML(df,x_a2,y_a2,'categorical','knn')\n",
    "get_value_count(df,'5drinksaday')"
   ]
  },
  {
   "cell_type": "markdown",
   "metadata": {},
   "source": [
    "#### A.3. '5drinks2hours'\n",
    "During the past 30 days, # days have 4/5 or more drinks in 2 hrs"
   ]
  },
  {
   "cell_type": "code",
   "execution_count": 160,
   "metadata": {
    "scrolled": true
   },
   "outputs": [
    {
     "name": "stdout",
     "output_type": "stream",
     "text": [
      "\n",
      "The NaN ratio in 5drinks2hours is 0.760\n",
      "Since NaN ratio is large, predict NaN using ML or check predictability first...\n",
      "if check predictability, call: check_predictability_all/some_x(df,y,method)\n",
      "if predict using ML, call: predict_NaN_with_ML(df,x,y,data_type,model)\n",
      "\n",
      "NaN    2040\n",
      "0.0      522\n",
      "1.0       60\n",
      "4.0       18\n",
      "3.0       15\n",
      "20.0       8\n",
      "5.0        8\n",
      "6.0        3\n",
      "10.0       3\n",
      "999.0      2\n",
      "8.0        2\n",
      "7.0        1\n",
      "12.0       1\n",
      "18.0       1\n",
      "15.0       1\n",
      "Name: 5drinks2hours, dtype: int64\n"
     ]
    }
   ],
   "source": [
    "get_NaN_ratio(df,'5drinks2hours')\n",
    "get_value_count(df,'5drinks2hours')\n",
    "df = process_cstr(df,'5drinks2hours',[777,999],'drop')"
   ]
  },
  {
   "cell_type": "code",
   "execution_count": 161,
   "metadata": {},
   "outputs": [
    {
     "name": "stdout",
     "output_type": "stream",
     "text": [
      "\n",
      "Predict the missing values of 5drinks2hours using  knn  Classifier...\n",
      "Features used for predicting 5drinks2hours are: ['12drinksayear', '5drinksaday', 'age', 'diabetes', 'gender', 'race']\n",
      "The number of predicted values: 2040\n",
      "\n",
      "NaN    0\n",
      "0.0     2522\n",
      "1.0       99\n",
      "4.0       19\n",
      "3.0       15\n",
      "20.0       8\n",
      "5.0        8\n",
      "6.0        3\n",
      "10.0       3\n",
      "8.0        2\n",
      "7.0        1\n",
      "12.0       1\n",
      "18.0       1\n",
      "15.0       1\n",
      "Name: 5drinks2hours, dtype: int64\n"
     ]
    },
    {
     "data": {
      "image/png": "[encoded data removed]",
      "text/plain": [
       "<Figure size 432x288 with 1 Axes>"
      ]
     },
     "metadata": {},
     "output_type": "display_data"
    }
   ],
   "source": [
    "x_a3 = [col for col in df.columns if df[col].notnull().all()]\n",
    "y_a3 = '5drinks2hours'\n",
    "\n",
    "# ???\n",
    "# 5drinks2hours is not a categorical variable, range of integer values(0-18) & code(20) \n",
    "predict_NaN_with_ML(df,x_a3,y_a3,'categorical','knn')\n",
    "get_value_count(df,'5drinks2hours')"
   ]
  },
  {
   "cell_type": "markdown",
   "metadata": {},
   "source": [
    "### B. Body Measures - BMI\n",
    "* numerical variable with no cstr\n",
    "    * below 18.5 – underweight \n",
    "    * between 18.5 and 24.9 – healthy weight range\n",
    "    * between 25 and 29.9 - overweight (diabetes risk factor)"
   ]
  },
  {
   "cell_type": "code",
   "execution_count": 162,
   "metadata": {},
   "outputs": [
    {
     "name": "stdout",
     "output_type": "stream",
     "text": [
      "\n",
      "The NaN ratio in BMI is 0.011\n",
      "Since NaN ratio is small, fill NaN directly with fill type: mode, mean, new category\n",
      "Now call function: fill_NaN(df, feature, fill_type)\n"
     ]
    },
    {
     "data": {
      "text/plain": [
       "count    2683.000000\n",
       "mean       29.269141\n",
       "std         6.950431\n",
       "min        15.100000\n",
       "25%        24.300000\n",
       "50%        28.300000\n",
       "75%        33.000000\n",
       "max        64.500000\n",
       "Name: BMI, dtype: float64"
      ]
     },
     "execution_count": 162,
     "metadata": {},
     "output_type": "execute_result"
    },
    {
     "data": {
      "image/png": "[encoded data removed]",
      "text/plain": [
       "<Figure size 432x288 with 1 Axes>"
      ]
     },
     "metadata": {},
     "output_type": "display_data"
    }
   ],
   "source": [
    "get_NaN_ratio(df,'BMI')\n",
    "fill_NaN(df,'BMI','mean')\n",
    "df['BMI'].describe()"
   ]
  },
  {
   "cell_type": "markdown",
   "metadata": {},
   "source": [
    "* comment: only ~25% participants are in the underweight - health weight range; more than half of people are overweight (diabetes risk factor)"
   ]
  },
  {
   "cell_type": "markdown",
   "metadata": {},
   "source": [
    "### C. Demographics - race, age, gender\n",
    "* age > 45 - diabetes risk factor"
   ]
  },
  {
   "cell_type": "code",
   "execution_count": 163,
   "metadata": {},
   "outputs": [
    {
     "data": {
      "text/html": [
       "<div>\n",
       "<style scoped>\n",
       "    .dataframe tbody tr th:only-of-type {\n",
       "        vertical-align: middle;\n",
       "    }\n",
       "\n",
       "    .dataframe tbody tr th {\n",
       "        vertical-align: top;\n",
       "    }\n",
       "\n",
       "    .dataframe thead th {\n",
       "        text-align: right;\n",
       "    }\n",
       "</style>\n",
       "<table border=\"1\" class=\"dataframe\">\n",
       "  <thead>\n",
       "    <tr style=\"text-align: right;\">\n",
       "      <th></th>\n",
       "      <th>12drinksayear</th>\n",
       "      <th>5drinks2hours</th>\n",
       "      <th>5drinksaday</th>\n",
       "      <th>BMI</th>\n",
       "      <th>LDL</th>\n",
       "      <th>age</th>\n",
       "      <th>diaBP1</th>\n",
       "      <th>diaBP2</th>\n",
       "      <th>diaBP3</th>\n",
       "      <th>diabetes</th>\n",
       "      <th>fasting_glucose</th>\n",
       "      <th>gender</th>\n",
       "      <th>race</th>\n",
       "      <th>sitting</th>\n",
       "      <th>sleeping</th>\n",
       "      <th>sugar</th>\n",
       "      <th>sysBP1</th>\n",
       "      <th>sysBP2</th>\n",
       "      <th>sysBP3</th>\n",
       "    </tr>\n",
       "    <tr>\n",
       "      <th>ID</th>\n",
       "      <th></th>\n",
       "      <th></th>\n",
       "      <th></th>\n",
       "      <th></th>\n",
       "      <th></th>\n",
       "      <th></th>\n",
       "      <th></th>\n",
       "      <th></th>\n",
       "      <th></th>\n",
       "      <th></th>\n",
       "      <th></th>\n",
       "      <th></th>\n",
       "      <th></th>\n",
       "      <th></th>\n",
       "      <th></th>\n",
       "      <th></th>\n",
       "      <th></th>\n",
       "      <th></th>\n",
       "      <th></th>\n",
       "    </tr>\n",
       "  </thead>\n",
       "  <tbody>\n",
       "    <tr>\n",
       "      <th>83733.0</th>\n",
       "      <td>1.0</td>\n",
       "      <td>0.0</td>\n",
       "      <td>1.0</td>\n",
       "      <td>30.8</td>\n",
       "      <td>173.0</td>\n",
       "      <td>53.0</td>\n",
       "      <td>88.0</td>\n",
       "      <td>88.0</td>\n",
       "      <td>82.0</td>\n",
       "      <td>2.0</td>\n",
       "      <td>5.59</td>\n",
       "      <td>1.0</td>\n",
       "      <td>3.0</td>\n",
       "      <td>300.0</td>\n",
       "      <td>8.0</td>\n",
       "      <td>NaN</td>\n",
       "      <td>146.0</td>\n",
       "      <td>140.0</td>\n",
       "      <td>134.0</td>\n",
       "    </tr>\n",
       "    <tr>\n",
       "      <th>83734.0</th>\n",
       "      <td>1.0</td>\n",
       "      <td>0.0</td>\n",
       "      <td>1.0</td>\n",
       "      <td>28.8</td>\n",
       "      <td>145.0</td>\n",
       "      <td>78.0</td>\n",
       "      <td>46.0</td>\n",
       "      <td>44.0</td>\n",
       "      <td>46.0</td>\n",
       "      <td>1.0</td>\n",
       "      <td>4.66</td>\n",
       "      <td>1.0</td>\n",
       "      <td>3.0</td>\n",
       "      <td>480.0</td>\n",
       "      <td>7.0</td>\n",
       "      <td>NaN</td>\n",
       "      <td>138.0</td>\n",
       "      <td>132.0</td>\n",
       "      <td>136.0</td>\n",
       "    </tr>\n",
       "    <tr>\n",
       "      <th>83736.0</th>\n",
       "      <td>0.0</td>\n",
       "      <td>0.0</td>\n",
       "      <td>0.0</td>\n",
       "      <td>20.3</td>\n",
       "      <td>142.0</td>\n",
       "      <td>42.0</td>\n",
       "      <td>70.0</td>\n",
       "      <td>54.0</td>\n",
       "      <td>56.0</td>\n",
       "      <td>2.0</td>\n",
       "      <td>4.66</td>\n",
       "      <td>2.0</td>\n",
       "      <td>4.0</td>\n",
       "      <td>540.0</td>\n",
       "      <td>NaN</td>\n",
       "      <td>NaN</td>\n",
       "      <td>100.0</td>\n",
       "      <td>114.0</td>\n",
       "      <td>98.0</td>\n",
       "    </tr>\n",
       "    <tr>\n",
       "      <th>83737.0</th>\n",
       "      <td>0.0</td>\n",
       "      <td>0.0</td>\n",
       "      <td>0.0</td>\n",
       "      <td>28.6</td>\n",
       "      <td>103.0</td>\n",
       "      <td>72.0</td>\n",
       "      <td>58.0</td>\n",
       "      <td>58.0</td>\n",
       "      <td>60.0</td>\n",
       "      <td>2.0</td>\n",
       "      <td>5.93</td>\n",
       "      <td>2.0</td>\n",
       "      <td>1.0</td>\n",
       "      <td>10.0</td>\n",
       "      <td>9.0</td>\n",
       "      <td>NaN</td>\n",
       "      <td>116.0</td>\n",
       "      <td>122.0</td>\n",
       "      <td>120.0</td>\n",
       "    </tr>\n",
       "    <tr>\n",
       "      <th>83741.0</th>\n",
       "      <td>1.0</td>\n",
       "      <td>0.0</td>\n",
       "      <td>1.0</td>\n",
       "      <td>28.0</td>\n",
       "      <td>102.0</td>\n",
       "      <td>22.0</td>\n",
       "      <td>70.0</td>\n",
       "      <td>74.0</td>\n",
       "      <td>74.0</td>\n",
       "      <td>2.0</td>\n",
       "      <td>5.27</td>\n",
       "      <td>1.0</td>\n",
       "      <td>4.0</td>\n",
       "      <td>540.0</td>\n",
       "      <td>6.5</td>\n",
       "      <td>NaN</td>\n",
       "      <td>110.0</td>\n",
       "      <td>112.0</td>\n",
       "      <td>112.0</td>\n",
       "    </tr>\n",
       "  </tbody>\n",
       "</table>\n",
       "</div>"
      ],
      "text/plain": [
       "         12drinksayear  5drinks2hours  5drinksaday   BMI    LDL   age  diaBP1  \\\n",
       "ID                                                                              \n",
       "83733.0            1.0            0.0          1.0  30.8  173.0  53.0    88.0   \n",
       "83734.0            1.0            0.0          1.0  28.8  145.0  78.0    46.0   \n",
       "83736.0            0.0            0.0          0.0  20.3  142.0  42.0    70.0   \n",
       "83737.0            0.0            0.0          0.0  28.6  103.0  72.0    58.0   \n",
       "83741.0            1.0            0.0          1.0  28.0  102.0  22.0    70.0   \n",
       "\n",
       "         diaBP2  diaBP3  diabetes  fasting_glucose  gender  race  sitting  \\\n",
       "ID                                                                          \n",
       "83733.0    88.0    82.0       2.0             5.59     1.0   3.0    300.0   \n",
       "83734.0    44.0    46.0       1.0             4.66     1.0   3.0    480.0   \n",
       "83736.0    54.0    56.0       2.0             4.66     2.0   4.0    540.0   \n",
       "83737.0    58.0    60.0       2.0             5.93     2.0   1.0     10.0   \n",
       "83741.0    74.0    74.0       2.0             5.27     1.0   4.0    540.0   \n",
       "\n",
       "         sleeping  sugar  sysBP1  sysBP2  sysBP3  \n",
       "ID                                                \n",
       "83733.0       8.0    NaN   146.0   140.0   134.0  \n",
       "83734.0       7.0    NaN   138.0   132.0   136.0  \n",
       "83736.0       NaN    NaN   100.0   114.0    98.0  \n",
       "83737.0       9.0    NaN   116.0   122.0   120.0  \n",
       "83741.0       6.5    NaN   110.0   112.0   112.0  "
      ]
     },
     "execution_count": 163,
     "metadata": {},
     "output_type": "execute_result"
    }
   ],
   "source": [
    "df.head()"
   ]
  },
  {
   "cell_type": "code",
   "execution_count": 164,
   "metadata": {},
   "outputs": [
    {
     "name": "stdout",
     "output_type": "stream",
     "text": [
      "\n",
      "The NaN ratio in age is 0.000\n",
      "No missing values detected\n",
      "\n",
      "The NaN ratio in race is 0.000\n",
      "No missing values detected\n",
      "\n",
      "The NaN ratio in gender is 0.000\n",
      "No missing values detected\n"
     ]
    }
   ],
   "source": [
    "# Check for NaN \n",
    "get_NaN_ratio(df,'age')\n",
    "get_NaN_ratio(df,'race')\n",
    "get_NaN_ratio(df,'gender')"
   ]
  },
  {
   "cell_type": "code",
   "execution_count": 165,
   "metadata": {
    "scrolled": true
   },
   "outputs": [
    {
     "data": {
      "image/png": "[encoded data removed]",
      "text/plain": [
       "<Figure size 432x288 with 1 Axes>"
      ]
     },
     "metadata": {},
     "output_type": "display_data"
    },
    {
     "data": {
      "image/png": "[encoded data removed]",
      "text/plain": [
       "<Figure size 432x288 with 1 Axes>"
      ]
     },
     "metadata": {},
     "output_type": "display_data"
    },
    {
     "data": {
      "image/png": "[encoded data removed]",
      "text/plain": [
       "<Figure size 432x288 with 1 Axes>"
      ]
     },
     "metadata": {},
     "output_type": "display_data"
    }
   ],
   "source": [
    "plot_feature('age')\n",
    "plot_feature('race')\n",
    "plot_feature('gender')"
   ]
  },
  {
   "cell_type": "markdown",
   "metadata": {},
   "source": [
    "### D. Diabetes\n",
    "* 3 means borderline"
   ]
  },
  {
   "cell_type": "code",
   "execution_count": 166,
   "metadata": {},
   "outputs": [],
   "source": [
    "# Change 2(NHANES for No) to 0(False - boolean) for features with YES/NO answers\n",
    "df.loc[df['diabetes'] == 2,['diabetes']] = 0\n",
    "df['diabetes'].value_counts()\n",
    "df = process_cstr(df,feature='diabetes',method='drop',cstr=[7,9])"
   ]
  },
  {
   "cell_type": "code",
   "execution_count": 167,
   "metadata": {
    "scrolled": true
   },
   "outputs": [
    {
     "name": "stdout",
     "output_type": "stream",
     "text": [
      "\n",
      "The NaN ratio in diabetes is 0.000\n",
      "No missing values detected\n"
     ]
    },
    {
     "data": {
      "text/plain": [
       "0.0    2226\n",
       "1.0     391\n",
       "3.0      64\n",
       "Name: diabetes, dtype: int64"
      ]
     },
     "execution_count": 167,
     "metadata": {},
     "output_type": "execute_result"
    }
   ],
   "source": [
    "get_NaN_ratio(df,'diabetes')\n",
    "df['diabetes'].value_counts()"
   ]
  },
  {
   "cell_type": "code",
   "execution_count": 168,
   "metadata": {},
   "outputs": [
    {
     "name": "stdout",
     "output_type": "stream",
     "text": [
      "14.584110406564715 % people have diabetes\n",
      "2.3871689668034315 % people are pre diabetes\n",
      "83.02872062663185 % people do not have diabetes\n"
     ]
    }
   ],
   "source": [
    "db_counts = df['diabetes'].value_counts().to_dict()\n",
    "percentage_yes_db = db_counts[1.0]/df['diabetes'].shape[0]\n",
    "percentage_pre_db = db_counts[3.0]/df['diabetes'].shape[0]\n",
    "percentage_no_db = db_counts[0.0]/df['diabetes'].shape[0]\n",
    "print(percentage_yes_db*100,'% people have diabetes')\n",
    "print(percentage_pre_db*100,'% people are pre diabetes')\n",
    "print(percentage_no_db*100,'% people do not have diabetes')"
   ]
  },
  {
   "cell_type": "markdown",
   "metadata": {},
   "source": [
    "* Drop prediabetes for now ???"
   ]
  },
  {
   "cell_type": "code",
   "execution_count": 169,
   "metadata": {},
   "outputs": [
    {
     "data": {
      "text/plain": [
       "0.0    2226\n",
       "1.0     391\n",
       "Name: diabetes, dtype: int64"
      ]
     },
     "execution_count": 169,
     "metadata": {},
     "output_type": "execute_result"
    }
   ],
   "source": [
    "df = df[df['diabetes'] != 3.0]\n",
    "df['diabetes'].value_counts()"
   ]
  },
  {
   "cell_type": "markdown",
   "metadata": {},
   "source": [
    "### E. Dietary supplement - sugar\n",
    "* average daily total sugar intakes(grams) from DS and antacids (in addition to sugar intake from food???)\n",
    "* According to the American Heart Association (AHA), the maximum amount of added sugars you should eat in a day are :\n",
    "\n",
    "    - Men: 150 calories per day (37.5 grams or 9 teaspoons)\n",
    "    - Women: 100 calories per day (25 grams or 6 teaspoons)"
   ]
  },
  {
   "cell_type": "code",
   "execution_count": 170,
   "metadata": {},
   "outputs": [
    {
     "name": "stdout",
     "output_type": "stream",
     "text": [
      "\n",
      "The NaN ratio in sugar is 0.912\n",
      "Since NaN ratio is large, predict NaN using ML or check predictability first...\n",
      "if check predictability, call: check_predictability_all/some_x(df,y,method)\n",
      "if predict using ML, call: predict_NaN_with_ML(df,x,y,data_type,model)\n"
     ]
    },
    {
     "data": {
      "text/plain": [
       "count    231.000000\n",
       "mean       1.980866\n",
       "std        2.127414\n",
       "min        0.020000\n",
       "25%        0.400000\n",
       "50%        1.400000\n",
       "75%        3.000000\n",
       "max       12.000000\n",
       "Name: sugar, dtype: float64"
      ]
     },
     "execution_count": 170,
     "metadata": {},
     "output_type": "execute_result"
    }
   ],
   "source": [
    "# Check for NaN \n",
    "get_NaN_ratio(df,'sugar')\n",
    "df['sugar'].describe()"
   ]
  },
  {
   "cell_type": "code",
   "execution_count": 171,
   "metadata": {},
   "outputs": [
    {
     "name": "stdout",
     "output_type": "stream",
     "text": [
      "\n",
      "Predict the missing values of sugar using  knn  Regressor...\n",
      "Features used for predicting sugar are: ['12drinksayear', '5drinks2hours', '5drinksaday', 'BMI', 'age', 'diabetes', 'gender', 'race']\n",
      "The number of predicted values: 2386\n"
     ]
    },
    {
     "data": {
      "image/png": "[encoded data removed]",
      "text/plain": [
       "<Figure size 432x288 with 1 Axes>"
      ]
     },
     "metadata": {},
     "output_type": "display_data"
    }
   ],
   "source": [
    "x_sugar = [col for col in df.columns if df[col].notnull().all()]\n",
    "predict_NaN_with_ML(df,data_type='numerical',model='knn',x=x_sugar,y='sugar')"
   ]
  },
  {
   "cell_type": "markdown",
   "metadata": {},
   "source": [
    "### F. Plasma fasting glucose\n",
    "The fasting plasma glucose test (FPG) is the preferred method of screening for diabetes. The FPG measures a person's blood sugar level after fasting or not eating anything for at least 8 hours. \n",
    "- The global mean fasting plasma blood glucose level in humans is about 5.5 mmol/L (100 mg/dL); however, this level fluctuates throughout the day.\n",
    "- FPG test results:\n",
    "    - normal: less than 5.6 mmol/L \n",
    "    - prediabetes: 5.6 ~ 6.9 mmol/L\n",
    "    - diabetes: 7 mmol/L or higher (on two separate tests)"
   ]
  },
  {
   "cell_type": "code",
   "execution_count": 172,
   "metadata": {
    "scrolled": true
   },
   "outputs": [
    {
     "name": "stdout",
     "output_type": "stream",
     "text": [
      "\n",
      "The NaN ratio in fasting_glucose is 0.056\n",
      "Since NaN ratio is small, fill NaN directly with fill type: mode, mean, new category\n",
      "Now call function: fill_NaN(df, feature, fill_type)\n"
     ]
    },
    {
     "data": {
      "text/plain": [
       "count    2617.000000\n",
       "mean        6.265834\n",
       "std         2.223393\n",
       "min         1.170000\n",
       "25%         5.270000\n",
       "50%         5.720000\n",
       "75%         6.265834\n",
       "max        26.600000\n",
       "Name: fasting_glucose, dtype: float64"
      ]
     },
     "execution_count": 172,
     "metadata": {},
     "output_type": "execute_result"
    },
    {
     "data": {
      "image/png": "[encoded data removed]",
      "text/plain": [
       "<Figure size 432x288 with 1 Axes>"
      ]
     },
     "metadata": {},
     "output_type": "display_data"
    }
   ],
   "source": [
    "get_NaN_ratio(df,'fasting_glucose')\n",
    "df = fill_NaN(df,'fasting_glucose','mean')\n",
    "df['fasting_glucose'].describe()"
   ]
  },
  {
   "cell_type": "code",
   "execution_count": 173,
   "metadata": {},
   "outputs": [
    {
     "name": "stdout",
     "output_type": "stream",
     "text": [
      "normal: 42.911730989682844 %\n",
      "prediabetes: 43.828811616354606 %\n",
      "diabetes: 13.259457393962554 %\n"
     ]
    }
   ],
   "source": [
    "no_db = len(df[(df['fasting_glucose'] < 5.6)])\n",
    "pre1 = df['fasting_glucose'] >= 5.6\n",
    "pre2 = df['fasting_glucose'] < 7\n",
    "pre_db = len(df['fasting_glucose'][pre1 & pre2])\n",
    "yes_db = len(df[(df['fasting_glucose'] >= 7)])\n",
    "total = df['fasting_glucose'].shape[0]\n",
    "print('normal:',no_db/total*100,'%')\n",
    "print('prediabetes:',pre_db/total*100,'%')\n",
    "print('diabetes:',yes_db/total*100,'%')"
   ]
  },
  {
   "cell_type": "markdown",
   "metadata": {},
   "source": [
    "Prediabetes is a serious health condition where blood sugar levels are higher than normal, but not high enough yet to be diagnosed as type 2 diabetes. Approximately 84 million American adults—more than 1 out of 3—have prediabetes. Healthy lifestyle choices can help you prevent prediabetes and its progression to type 2 diabetes"
   ]
  },
  {
   "cell_type": "markdown",
   "metadata": {},
   "source": [
    "### G & H. Sleeping disorders - Sleeping (sleeping hours) & Physical activity - Sitting (sedatary minutes)\n",
    "- Convert sleeping hours/day and sedatary minutes/day into same scale --> hours/day "
   ]
  },
  {
   "cell_type": "code",
   "execution_count": 174,
   "metadata": {
    "scrolled": true
   },
   "outputs": [
    {
     "name": "stdout",
     "output_type": "stream",
     "text": [
      "\n",
      "The ratio of [dont know] is 0.00038211692777990065\n",
      "The ratio of [refuse] is 0.00611387084447841\n",
      "Now call: process_cstr(df,feature,cstr,method)\n"
     ]
    }
   ],
   "source": [
    "get_cstr_ratio(df,'sitting',[7777,9999])\n",
    "df = process_cstr(df,'sitting',[7777,9999],'drop')"
   ]
  },
  {
   "cell_type": "code",
   "execution_count": 175,
   "metadata": {
    "scrolled": true
   },
   "outputs": [],
   "source": [
    "df['sitting'] = df['sitting']/60"
   ]
  },
  {
   "cell_type": "code",
   "execution_count": 176,
   "metadata": {},
   "outputs": [
    {
     "name": "stdout",
     "output_type": "stream",
     "text": [
      "\n",
      "The NaN ratio in sitting is 0.002\n",
      "Since NaN ratio is small, fill NaN directly with fill type: mode, mean, new category\n",
      "Now call function: fill_NaN(df, feature, fill_type)\n",
      "\n",
      "The NaN ratio in sleeping is 0.004\n",
      "Since NaN ratio is small, fill NaN directly with fill type: mode, mean, new category\n",
      "Now call function: fill_NaN(df, feature, fill_type)\n"
     ]
    },
    {
     "data": {
      "image/png": "[encoded data removed]",
      "text/plain": [
       "<Figure size 432x288 with 1 Axes>"
      ]
     },
     "metadata": {},
     "output_type": "display_data"
    },
    {
     "data": {
      "image/png": "[encoded data removed]",
      "text/plain": [
       "<Figure size 432x288 with 1 Axes>"
      ]
     },
     "metadata": {},
     "output_type": "display_data"
    }
   ],
   "source": [
    "# Check for NaN \n",
    "get_NaN_ratio(df,'sitting')\n",
    "get_NaN_ratio(df,'sleeping')\n",
    "\n",
    "# Replace NaN with mean\n",
    "df = fill_NaN(df,'sitting','mean')\n",
    "df = fill_NaN(df,'sleeping','mean')"
   ]
  },
  {
   "attachments": {
    "Screen%20Shot%202019-12-02%20at%2010.42.35%20AM.png": {
     "image/png": "[encoded data removed]"
    }
   },
   "cell_type": "markdown",
   "metadata": {},
   "source": [
    "### I. Cholesterol - LDL\n",
    "- cholesterol (mg/dL) - values: 23 to 277\n",
    "- LDL stands for low-density lipoproteins. It is sometimes called the \"bad\" cholesterol because a high LDL level leads to a buildup of cholesterol in your arteries. This extra LDL, along with other substances, forms plaque.\n",
    "- Diabetes tends to lower HDL levels and raise triglyceride and LDL levels, which increases the risk for heart disease and stroke. \n",
    "\n",
    "![Screen%20Shot%202019-12-02%20at%2010.42.35%20AM.png](attachment:Screen%20Shot%202019-12-02%20at%2010.42.35%20AM.png)"
   ]
  },
  {
   "cell_type": "code",
   "execution_count": 177,
   "metadata": {},
   "outputs": [
    {
     "name": "stdout",
     "output_type": "stream",
     "text": [
      "\n",
      "The NaN ratio in LDL is 0.138\n",
      "Since NaN ratio is large, predict NaN using ML or check predictability first...\n",
      "if check predictability, call: check_predictability_all/some_x(df,y,method)\n",
      "if predict using ML, call: predict_NaN_with_ML(df,x,y,data_type,model)\n",
      "\n",
      "Predict the missing values of LDL using  knn  Regressor...\n",
      "Features used for predicting LDL are: ['12drinksayear', '5drinks2hours', '5drinksaday', 'BMI', 'age', 'diabetes', 'fasting_glucose', 'gender', 'race', 'sitting', 'sleeping', 'sugar']\n",
      "The number of predicted values: 360\n"
     ]
    },
    {
     "data": {
      "text/plain": [
       "count    2600.000000\n",
       "mean      111.662885\n",
       "std        34.847341\n",
       "min        23.000000\n",
       "25%        87.000000\n",
       "50%       109.000000\n",
       "75%       132.000000\n",
       "max       277.000000\n",
       "Name: LDL, dtype: float64"
      ]
     },
     "execution_count": 177,
     "metadata": {},
     "output_type": "execute_result"
    },
    {
     "data": {
      "image/png": "[encoded data removed]",
      "text/plain": [
       "<Figure size 432x288 with 1 Axes>"
      ]
     },
     "metadata": {},
     "output_type": "display_data"
    }
   ],
   "source": [
    "# Check for NaN \n",
    "get_NaN_ratio(df,'LDL')\n",
    "x_LDL = [col for col in df.columns if df[col].notnull().all()]\n",
    "predict_NaN_with_ML(df,x_LDL,'LDL','numerical','knn')\n",
    "df['LDL'].describe()"
   ]
  },
  {
   "cell_type": "markdown",
   "metadata": {},
   "source": [
    "* Change numerical variable LDL into a categorical variable with 3 codes: \n",
    "    - 1: Optimal/Low                  < 100 mg/dL\n",
    "    - 2: Borderline/Intermediate      100 ~ 160 mg/dL\n",
    "    - 3: High                         > 160 mg/dL"
   ]
  },
  {
   "cell_type": "code",
   "execution_count": 178,
   "metadata": {},
   "outputs": [
    {
     "data": {
      "text/plain": [
       "2.0    1362\n",
       "1.0    1001\n",
       "3.0     237\n",
       "Name: LDL, dtype: int64"
      ]
     },
     "execution_count": 178,
     "metadata": {},
     "output_type": "execute_result"
    }
   ],
   "source": [
    "df.loc[df['LDL'] < 100,['LDL']] = 1\n",
    "df.loc[(df['LDL'] >= 100) & (df['LDL'] <= 160),['LDL']] = 2\n",
    "df.loc[df['LDL'] > 160,['LDL']] = 3\n",
    "df['LDL'].value_counts()"
   ]
  },
  {
   "cell_type": "code",
   "execution_count": 179,
   "metadata": {},
   "outputs": [
    {
     "data": {
      "text/plain": [
       "<matplotlib.legend.Legend at 0x116c48828>"
      ]
     },
     "execution_count": 179,
     "metadata": {},
     "output_type": "execute_result"
    },
    {
     "data": {
      "image/png": "[encoded data removed]",
      "text/plain": [
       "<Figure size 432x288 with 1 Axes>"
      ]
     },
     "metadata": {},
     "output_type": "display_data"
    }
   ],
   "source": [
    "plot_feature('LDL')\n",
    "%matplotlib inline\n",
    "pd.crosstab(df.diabetes,df.LDL).plot(kind='bar')\n",
    "plt.title('Diabetes and LDL')\n",
    "bars = ('Healthy','Diabetes','Borderline')\n",
    "pos = np.arange(len(bars))\n",
    "plt.xticks(pos,bars,rotation='horizontal')\n",
    "plt.xlabel('Diabetes status')\n",
    "plt.legend(['Low LDL','Intermediate','High LDL'])"
   ]
  },
  {
   "cell_type": "markdown",
   "metadata": {},
   "source": [
    "plasma LDL cholesterol level is usually normal in type 2 diabetic patients, LDLs show a significant increase in their plasma residence time which may promote cholesterol deposition in the arterial wall. \n",
    "https://www.ncbi.nlm.nih.gov/pubmed/19650852"
   ]
  },
  {
   "cell_type": "markdown",
   "metadata": {},
   "source": [
    "### J. Blood Pressure"
   ]
  },
  {
   "attachments": {
    "Screen%20Shot%202019-12-03%20at%204.42.03%20PM.png": {
     "image/png": "[encoded data removed]"
    }
   },
   "cell_type": "markdown",
   "metadata": {},
   "source": [
    "* High blood pressure, or hypertension, is a condition that’s seen in people with type 2 diabetes. It’s unknown why there’s such a significant relationship between the two diseases. It’s believed that the following contribute to both conditions:\n",
    "\n",
    "    - obesity\n",
    "    - a diet high in fat and sodium\n",
    "    - chronic inflammation\n",
    "    - inactivity\n",
    "\n",
    "* The combination of high blood pressure and type 2 diabetes is particularly lethal and can significantly raise your risk of having a heart attack or stroke. \n",
    "![Screen%20Shot%202019-12-03%20at%204.42.03%20PM.png](attachment:Screen%20Shot%202019-12-03%20at%204.42.03%20PM.png)"
   ]
  },
  {
   "cell_type": "code",
   "execution_count": 180,
   "metadata": {},
   "outputs": [
    {
     "data": {
      "text/html": [
       "<div>\n",
       "<style scoped>\n",
       "    .dataframe tbody tr th:only-of-type {\n",
       "        vertical-align: middle;\n",
       "    }\n",
       "\n",
       "    .dataframe tbody tr th {\n",
       "        vertical-align: top;\n",
       "    }\n",
       "\n",
       "    .dataframe thead th {\n",
       "        text-align: right;\n",
       "    }\n",
       "</style>\n",
       "<table border=\"1\" class=\"dataframe\">\n",
       "  <thead>\n",
       "    <tr style=\"text-align: right;\">\n",
       "      <th></th>\n",
       "      <th>12drinksayear</th>\n",
       "      <th>5drinks2hours</th>\n",
       "      <th>5drinksaday</th>\n",
       "      <th>BMI</th>\n",
       "      <th>LDL</th>\n",
       "      <th>age</th>\n",
       "      <th>diabetes</th>\n",
       "      <th>fasting_glucose</th>\n",
       "      <th>gender</th>\n",
       "      <th>race</th>\n",
       "      <th>sitting</th>\n",
       "      <th>sleeping</th>\n",
       "      <th>sugar</th>\n",
       "      <th>sysBP</th>\n",
       "      <th>diaBP</th>\n",
       "    </tr>\n",
       "    <tr>\n",
       "      <th>ID</th>\n",
       "      <th></th>\n",
       "      <th></th>\n",
       "      <th></th>\n",
       "      <th></th>\n",
       "      <th></th>\n",
       "      <th></th>\n",
       "      <th></th>\n",
       "      <th></th>\n",
       "      <th></th>\n",
       "      <th></th>\n",
       "      <th></th>\n",
       "      <th></th>\n",
       "      <th></th>\n",
       "      <th></th>\n",
       "      <th></th>\n",
       "    </tr>\n",
       "  </thead>\n",
       "  <tbody>\n",
       "    <tr>\n",
       "      <th>83733.0</th>\n",
       "      <td>1.0</td>\n",
       "      <td>0.0</td>\n",
       "      <td>1.0</td>\n",
       "      <td>30.8</td>\n",
       "      <td>3.0</td>\n",
       "      <td>53.0</td>\n",
       "      <td>0.0</td>\n",
       "      <td>5.59</td>\n",
       "      <td>1.0</td>\n",
       "      <td>3.0</td>\n",
       "      <td>5.000000</td>\n",
       "      <td>8.000000</td>\n",
       "      <td>0.750</td>\n",
       "      <td>140.000000</td>\n",
       "      <td>86.000000</td>\n",
       "    </tr>\n",
       "    <tr>\n",
       "      <th>83734.0</th>\n",
       "      <td>1.0</td>\n",
       "      <td>0.0</td>\n",
       "      <td>1.0</td>\n",
       "      <td>28.8</td>\n",
       "      <td>2.0</td>\n",
       "      <td>78.0</td>\n",
       "      <td>1.0</td>\n",
       "      <td>4.66</td>\n",
       "      <td>1.0</td>\n",
       "      <td>3.0</td>\n",
       "      <td>8.000000</td>\n",
       "      <td>7.000000</td>\n",
       "      <td>1.600</td>\n",
       "      <td>135.333333</td>\n",
       "      <td>45.333333</td>\n",
       "    </tr>\n",
       "    <tr>\n",
       "      <th>83736.0</th>\n",
       "      <td>0.0</td>\n",
       "      <td>0.0</td>\n",
       "      <td>0.0</td>\n",
       "      <td>20.3</td>\n",
       "      <td>2.0</td>\n",
       "      <td>42.0</td>\n",
       "      <td>0.0</td>\n",
       "      <td>4.66</td>\n",
       "      <td>2.0</td>\n",
       "      <td>4.0</td>\n",
       "      <td>9.000000</td>\n",
       "      <td>7.718424</td>\n",
       "      <td>2.750</td>\n",
       "      <td>104.000000</td>\n",
       "      <td>60.000000</td>\n",
       "    </tr>\n",
       "    <tr>\n",
       "      <th>83737.0</th>\n",
       "      <td>0.0</td>\n",
       "      <td>0.0</td>\n",
       "      <td>0.0</td>\n",
       "      <td>28.6</td>\n",
       "      <td>2.0</td>\n",
       "      <td>72.0</td>\n",
       "      <td>0.0</td>\n",
       "      <td>5.93</td>\n",
       "      <td>2.0</td>\n",
       "      <td>1.0</td>\n",
       "      <td>0.166667</td>\n",
       "      <td>9.000000</td>\n",
       "      <td>0.070</td>\n",
       "      <td>119.333333</td>\n",
       "      <td>58.666667</td>\n",
       "    </tr>\n",
       "    <tr>\n",
       "      <th>83741.0</th>\n",
       "      <td>1.0</td>\n",
       "      <td>0.0</td>\n",
       "      <td>1.0</td>\n",
       "      <td>28.0</td>\n",
       "      <td>2.0</td>\n",
       "      <td>22.0</td>\n",
       "      <td>0.0</td>\n",
       "      <td>5.27</td>\n",
       "      <td>1.0</td>\n",
       "      <td>4.0</td>\n",
       "      <td>9.000000</td>\n",
       "      <td>6.500000</td>\n",
       "      <td>1.085</td>\n",
       "      <td>111.333333</td>\n",
       "      <td>72.666667</td>\n",
       "    </tr>\n",
       "  </tbody>\n",
       "</table>\n",
       "</div>"
      ],
      "text/plain": [
       "         12drinksayear  5drinks2hours  5drinksaday   BMI  LDL   age  diabetes  \\\n",
       "ID                                                                              \n",
       "83733.0            1.0            0.0          1.0  30.8  3.0  53.0       0.0   \n",
       "83734.0            1.0            0.0          1.0  28.8  2.0  78.0       1.0   \n",
       "83736.0            0.0            0.0          0.0  20.3  2.0  42.0       0.0   \n",
       "83737.0            0.0            0.0          0.0  28.6  2.0  72.0       0.0   \n",
       "83741.0            1.0            0.0          1.0  28.0  2.0  22.0       0.0   \n",
       "\n",
       "         fasting_glucose  gender  race   sitting  sleeping  sugar       sysBP  \\\n",
       "ID                                                                              \n",
       "83733.0             5.59     1.0   3.0  5.000000  8.000000  0.750  140.000000   \n",
       "83734.0             4.66     1.0   3.0  8.000000  7.000000  1.600  135.333333   \n",
       "83736.0             4.66     2.0   4.0  9.000000  7.718424  2.750  104.000000   \n",
       "83737.0             5.93     2.0   1.0  0.166667  9.000000  0.070  119.333333   \n",
       "83741.0             5.27     1.0   4.0  9.000000  6.500000  1.085  111.333333   \n",
       "\n",
       "             diaBP  \n",
       "ID                  \n",
       "83733.0  86.000000  \n",
       "83734.0  45.333333  \n",
       "83736.0  60.000000  \n",
       "83737.0  58.666667  \n",
       "83741.0  72.666667  "
      ]
     },
     "execution_count": 180,
     "metadata": {},
     "output_type": "execute_result"
    }
   ],
   "source": [
    "# 1. Obtain average systolic and diastolic pressure values from the multiple measurements\n",
    "df['sysBP'] = (df['sysBP1']+df['sysBP2']+df['sysBP3'])/3\n",
    "df['diaBP'] = (df['diaBP1']+df['diaBP2']+df['diaBP3'])/3\n",
    "df = df.drop(['sysBP1','diaBP1','sysBP2','diaBP2','sysBP3','diaBP3'], axis=1)\n",
    "df.head()"
   ]
  },
  {
   "cell_type": "code",
   "execution_count": 181,
   "metadata": {
    "scrolled": true
   },
   "outputs": [
    {
     "name": "stdout",
     "output_type": "stream",
     "text": [
      "\n",
      "The NaN ratio in sysBP is 0.057\n",
      "Since NaN ratio is small, fill NaN directly with fill type: mode, mean, new category\n",
      "Now call function: fill_NaN(df, feature, fill_type)\n",
      "\n",
      "The NaN ratio in diaBP is 0.057\n",
      "Since NaN ratio is small, fill NaN directly with fill type: mode, mean, new category\n",
      "Now call function: fill_NaN(df, feature, fill_type)\n"
     ]
    },
    {
     "data": {
      "image/png": "[encoded data removed]",
      "text/plain": [
       "<Figure size 432x288 with 1 Axes>"
      ]
     },
     "metadata": {},
     "output_type": "display_data"
    },
    {
     "data": {
      "image/png": "[encoded data removed]",
      "text/plain": [
       "<Figure size 432x288 with 1 Axes>"
      ]
     },
     "metadata": {},
     "output_type": "display_data"
    }
   ],
   "source": [
    "# Check for NaN in sysBP and diaBP\n",
    "get_NaN_ratio(df,'sysBP')\n",
    "get_NaN_ratio(df,'diaBP')\n",
    "\n",
    "# Since NaN ratios are small, replace NaN with mean values\n",
    "df = fill_NaN(df,'sysBP','mean')\n",
    "df = fill_NaN(df,'diaBP','mean')"
   ]
  },
  {
   "cell_type": "markdown",
   "metadata": {},
   "source": [
    "## SUMMARY"
   ]
  },
  {
   "cell_type": "code",
   "execution_count": 182,
   "metadata": {},
   "outputs": [
    {
     "name": "stdout",
     "output_type": "stream",
     "text": [
      "<class 'pandas.core.frame.DataFrame'>\n",
      "Float64Index: 2600 entries, 83733.0 to 93697.0\n",
      "Data columns (total 15 columns):\n",
      "12drinksayear      2600 non-null float64\n",
      "5drinks2hours      2600 non-null float64\n",
      "5drinksaday        2600 non-null float64\n",
      "BMI                2600 non-null float64\n",
      "LDL                2600 non-null float64\n",
      "age                2600 non-null float64\n",
      "diabetes           2600 non-null float64\n",
      "fasting_glucose    2600 non-null float64\n",
      "gender             2600 non-null float64\n",
      "race               2600 non-null float64\n",
      "sitting            2600 non-null float64\n",
      "sleeping           2600 non-null float64\n",
      "sugar              2600 non-null float64\n",
      "sysBP              2600 non-null float64\n",
      "diaBP              2600 non-null float64\n",
      "dtypes: float64(15)\n",
      "memory usage: 325.0 KB\n"
     ]
    }
   ],
   "source": [
    "df.info()"
   ]
  },
  {
   "cell_type": "markdown",
   "metadata": {},
   "source": [
    "### Export dataframe as a csv file"
   ]
  },
  {
   "cell_type": "code",
   "execution_count": 183,
   "metadata": {},
   "outputs": [],
   "source": [
    "df.to_csv('Diabetes Project Part 1.csv',index=True,sep=',')"
   ]
  }
 ],
 "metadata": {
  "kernelspec": {
   "display_name": "Python 3",
   "language": "python",
   "name": "python3"
  },
  "language_info": {
   "codemirror_mode": {
    "name": "ipython",
    "version": 3
   },
   "file_extension": ".py",
   "mimetype": "text/x-python",
   "name": "python",
   "nbconvert_exporter": "python",
   "pygments_lexer": "ipython3",
   "version": "3.6.8"
  }
 },
 "nbformat": 4,
 "nbformat_minor": 2
}
