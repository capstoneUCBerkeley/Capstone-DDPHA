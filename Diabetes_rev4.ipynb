{
 "cells": [
  {
   "cell_type": "markdown",
   "metadata": {},
   "source": [
    "# Library"
   ]
  },
  {
   "cell_type": "code",
   "execution_count": 1,
   "metadata": {},
   "outputs": [
    {
     "name": "stderr",
     "output_type": "stream",
     "text": [
      "Using TensorFlow backend.\n"
     ]
    }
   ],
   "source": [
    "import pandas as pd\n",
    "import os\n",
    "\n",
    "import numpy as np\n",
    "from pandas import DataFrame\n",
    "import matplotlib.pyplot as plt\n",
    "import sys\n",
    "import seaborn as sns\n",
    "from scipy import stats\n",
    "import xport\n",
    "\n",
    "from sklearn.linear_model import Lasso\n",
    "from sklearn.pipeline import Pipeline\n",
    "from sklearn import preprocessing\n",
    "from sklearn.model_selection import train_test_split\n",
    "from sklearn import metrics\n",
    "from sklearn.metrics import precision_score, recall_score, accuracy_score\n",
    "from sklearn.model_selection import cross_val_score\n",
    "from sklearn.model_selection import learning_curve, GridSearchCV\n",
    "\n",
    "from sklearn.linear_model import Lasso, LogisticRegression\n",
    "from sklearn.feature_selection import SelectFromModel\n",
    "from sklearn.preprocessing import StandardScaler\n",
    "from sklearn.linear_model import LassoCV\n",
    "from sklearn.metrics import roc_auc_score\n",
    "from sklearn.metrics import roc_curve\n",
    "\n",
    "from sklearn.ensemble import RandomForestClassifier\n",
    "from sklearn.ensemble import RandomForestRegressor\n",
    "from sklearn.linear_model import LogisticRegression\n",
    "from sklearn import linear_model\n",
    "from sklearn.svm import SVR, LinearSVC\n",
    "from sklearn.neighbors import KNeighborsClassifier\n",
    "from sklearn.neighbors import KNeighborsRegressor\n",
    "from sklearn.naive_bayes import GaussianNB \n",
    "from sklearn.linear_model import Perceptron\n",
    "from sklearn.tree import DecisionTreeClassifier\n",
    "from sklearn.metrics import confusion_matrix\n",
    "from sklearn.metrics import mean_squared_error\n",
    "from sklearn import preprocessing\n",
    "from sklearn.ensemble import GradientBoostingClassifier\n",
    "\n",
    "from sklearn.utils import resample\n",
    "\n",
    "from sklearn.ensemble import RandomForestClassifier\n",
    "from sklearn.metrics import accuracy_score\n",
    "from sklearn.model_selection import RandomizedSearchCV\n",
    "from imblearn.over_sampling import SMOTE\n",
    "from sklearn.metrics import precision_recall_fscore_support\n",
    "\n",
    "sys.setrecursionlimit(100000) #Increase the recursion limit of the OS\n",
    "\n",
    "sns.set(style=\"white\")\n",
    "sns.set(style=\"whitegrid\", color_codes=True)\n",
    "plt.rc(\"font\", size=14)\n",
    "import warnings\n",
    "warnings.filterwarnings('ignore') \n",
    "\n",
    "\n",
    "from pandas.plotting import scatter_matrix\n",
    "\n",
    "from sklearn.metrics import average_precision_score"
   ]
  },
  {
   "cell_type": "markdown",
   "metadata": {},
   "source": [
    "# Import data"
   ]
  },
  {
   "cell_type": "code",
   "execution_count": 2,
   "metadata": {},
   "outputs": [],
   "source": [
    "# function:  rename_chosen_features(xpt_file,old_names,new_names,csv_file)\n",
    "# purpose:   rename the chosen features in the XPT file\n",
    "# input:     xpt_file: the converted dataframe from XPT file\n",
    "#            old_names: a list of strings - strings are code names on NHANES \n",
    "#            new_names: a list of strings \n",
    "#            csv_file: name \n",
    "# output:    a dataframe with renamed chosen features  \n",
    "\n",
    "def rename_chosen_features(xpt_file,old_names,new_names,csv_file):\n",
    "    df = xpt_file[old_names]        \n",
    "    df.columns = new_names                \n",
    "    # xpt_file.to_csv(csv_file, header=False) # if needs to get a csv file from the original xpt file\n",
    "    return df"
   ]
  },
  {
   "cell_type": "code",
   "execution_count": 3,
   "metadata": {},
   "outputs": [],
   "source": [
    "os.chdir(\"../CapstonePython\")\n",
    "\n",
    "\n",
    " \n",
    "DIQ_xpt_file = pd.read_sas('DIQ_I1516.XPT')\n",
    "DIQ_cvs_file = 'Diabetes1516.csv'\n",
    "# DIQ010: doctor told you have diabetes\n",
    "DIQ_old_names = ['SEQN','DIQ010'] \n",
    "DIQ_new_names = ['ID','diabetes']\n",
    "df0_DIQ = rename_chosen_features(DIQ_xpt_file,DIQ_old_names,DIQ_new_names,DIQ_cvs_file)\n",
    "\n",
    "## Demographics\n",
    "DEMO_xpt_file = pd.read_sas('DEMO_I1516.XPT')\n",
    "DEMO_cvs_file = 'Demographic1516.csv'\n",
    "# RIAGENDR: gender - codes\n",
    "# RIDRETH3: race/Hispanic origin w/ NH Asian - codes\n",
    "# RIDAGEYR: age in years at screening - values & codes: 0 to 79 & 80\n",
    "DEMO_old_names = ['SEQN','RIAGENDR','RIDRETH3','RIDAGEYR']\n",
    "DEMO_new_names = ['ID','gender','race','age']\n",
    "df0_DEMO = rename_chosen_features(DEMO_xpt_file,DEMO_old_names,DEMO_new_names,DEMO_cvs_file)\n",
    "\n",
    "## Plasma Fasting Glucose\n",
    "GLU_xpt_file = pd.read_sas('GLU_I1516.XPT')\n",
    "GLU_cvs_file = 'FastingGlucose1516.csv'\n",
    "# LBDGLUSI: Fasting Glucose (mmol/L) \n",
    "GLU_old_names = ['SEQN','LBDGLUSI'] \n",
    "GLU_new_names = ['ID','fasting_glucose']\n",
    "df0_GLU = rename_chosen_features(GLU_xpt_file,GLU_old_names,GLU_new_names,GLU_cvs_file)\n",
    "\n",
    "## Insulin\n",
    "INS_xpt_file = pd.read_sas('INS_I1516.XPT')\n",
    "INS_cvs_file = 'Insulin1516.csv'\n",
    "# LBDINSI : Insulin (pmol/L) \n",
    "INS_old_names = ['SEQN','LBDINSI'] \n",
    "INS_new_names = ['ID','insulin']\n",
    "df0_INS = rename_chosen_features(INS_xpt_file, INS_old_names, INS_new_names,INS_cvs_file)\n",
    "\n",
    "\n",
    "## Alcohol Use\n",
    "ALQ_xpt_file = pd.read_sas('ALQ_I1516.XPT')\n",
    "ALQ_cvs_file = 'AlcoholUse1516.csv'\n",
    "# ALQ101: Had at least 12 alcohol drinks/1 yr? - codes\n",
    "# ALQ151: Ever have 4/5 or more drinks every day? - codes\n",
    "# ALQ160: # days have 4/5 or more drinks in 2 hrs? - codes & values\n",
    "\n",
    "# ALQ120Q : How often drink alcohol over past 12 mos\n",
    "ALQ_old_names = ['SEQN', 'ALQ120Q'] \n",
    "ALQ_new_names = ['ID', 'alc_days_year']\n",
    "df0_ALQ = rename_chosen_features(ALQ_xpt_file,ALQ_old_names,ALQ_new_names,ALQ_cvs_file)\n",
    "\n",
    "## Cholesterol - LDL\n",
    "TRIGLY_xpt_file = pd.read_sas('TRIGLY_I1516.XPT')\n",
    "TRIGLY_cvs_file = 'Cholesterol1516.csv'\n",
    "# LBDLDLSI : LDL-cholesterol (mmol/L) - values: 23 to 277\n",
    "TRIGLY_old_names = ['SEQN','LBDLDLSI']  \n",
    "TRIGLY_new_names = ['ID','LDL']\n",
    "df0_TRIGLY = rename_chosen_features(TRIGLY_xpt_file,TRIGLY_old_names,TRIGLY_new_names,TRIGLY_cvs_file)\n",
    "\n",
    "## Cholesterol - HDL\n",
    "HDL_xpt_file = pd.read_sas('HDL_I1516.XPT')\n",
    "HDL_cvs_file = 'HDL1516.csv'\n",
    "# LBDHDDSI : HDL - Cholesterol (mmol/L) \n",
    "HDL_old_names = ['SEQN','LBDHDDSI'] \n",
    "HDL_new_names = ['ID','HDL']\n",
    "df0_HDL = rename_chosen_features(HDL_xpt_file, HDL_old_names, HDL_new_names, HDL_cvs_file)\n",
    "\n",
    "## Blood Pressure\n",
    "BPX_xpt_file = pd.read_sas('BPX_I1516.XPT')\n",
    "BPX_cvs_file = 'BloodPressure1516.csv'\n",
    "# BPXSY1: Systolic: Blood pres (1st rdg) mm Hg - values: 72 to 236\n",
    "# BPXDI1: Diastolic: Blood pres (1st rdg) mm Hg - values: 0 to 120\n",
    "# BPXSY2: Systolic: Blood pres (2nd rdg) mm Hg - values: 76 to 238\n",
    "# BPXDI2: Diastolic: Blood pres (2nd rdg) mm Hg - values: 0 to 144\n",
    "# BPXSY3 - Systolic: Blood pres (3rd rdg) mm Hg - values: 76 to 226 \n",
    "# BPXDI3 - Diastolic: Blood pres (3rd rdg) mm Hg - values: 0 to 140\n",
    "BPX_old_names = ['SEQN','BPXSY1','BPXDI1','BPXSY2','BPXDI2','BPXSY3','BPXDI3']  \n",
    "BPX_new_names = ['ID','sysBP1', 'diaBP1','sysBP2', 'diaBP2','sysBP3', 'diaBP3']\n",
    "df0_BPX = rename_chosen_features(BPX_xpt_file,BPX_old_names,BPX_new_names,BPX_cvs_file)\n",
    "\n",
    "## Body Measures\n",
    "BMX_xpt_file = pd.read_sas('BMX_I1516.XPT')\n",
    "BMX_cvs_file = 'BMI1516.csv'\n",
    "# BMXBMI: Body Mass Index (kg/m**2) - values: 11.5 to 67.3\n",
    "BMX_old_names = ['SEQN','BMXBMI']  \n",
    "BMX_new_names = ['ID','BMI']\n",
    "df0_BMX = rename_chosen_features(BMX_xpt_file,BMX_old_names,BMX_new_names,BMX_cvs_file)\n",
    "\n",
    "## Total Dietary Supplements \n",
    "DSQTOT_xpt_file = pd.read_sas('DSQTOT_I1516.XPT')\n",
    "DSQTOT_cvs_file = 'Sugar1516.csv'\n",
    "# DSQTSUGR - Total sugars (gm) - values: 0.02 to 45.73 (in 30 days)\n",
    "DSQTOT_old_names = ['SEQN','DSQTSUGR']  \n",
    "DSQTOT_new_names = ['ID','sugar']\n",
    "df0_DSQTOT = rename_chosen_features(DSQTOT_xpt_file,DSQTOT_old_names,DSQTOT_new_names,DSQTOT_cvs_file)\n",
    "\n",
    "\n",
    "DIQ_xpt_file = pd.read_sas('DIQ_H1314.XPT')\n",
    "DIQ_cvs_file = 'Diabetes1314.csv'\n",
    "# DIQ010: doctor told you have diabetes\n",
    "DIQ_old_names = ['SEQN','DIQ010'] \n",
    "DIQ_new_names = ['ID','diabetes']\n",
    "df1_DIQ = rename_chosen_features(DIQ_xpt_file,DIQ_old_names,DIQ_new_names,DIQ_cvs_file)\n",
    "\n",
    "## Demographics\n",
    "DEMO_xpt_file = pd.read_sas('DEMO_H1314.XPT')\n",
    "DEMO_cvs_file = 'Demographic1314.csv'\n",
    "# RIAGENDR: gender - codes\n",
    "# RIDRETH3: race/Hispanic origin w/ NH Asian - codes\n",
    "# RIDAGEYR: age in years at screening - values & codes: 0 to 79 & 80\n",
    "DEMO_old_names = ['SEQN','RIAGENDR','RIDRETH3','RIDAGEYR']\n",
    "DEMO_new_names = ['ID','gender','race','age']\n",
    "df1_DEMO = rename_chosen_features(DEMO_xpt_file,DEMO_old_names,DEMO_new_names,DEMO_cvs_file)\n",
    "\n",
    "## Plasma Fasting Glucose\n",
    "GLU_xpt_file = pd.read_sas('GLU_H1314.XPT')\n",
    "GLU_cvs_file = 'FastingGlucose1314.csv'\n",
    "# LBDGLUSI: Fasting Glucose (mmol/L) \n",
    "GLU_old_names = ['SEQN','LBDGLUSI'] \n",
    "GLU_new_names = ['ID','fasting_glucose']\n",
    "df1_GLU = rename_chosen_features(GLU_xpt_file,GLU_old_names,GLU_new_names,GLU_cvs_file)\n",
    "\n",
    "\n",
    "## Alcohol Use\n",
    "ALQ_xpt_file = pd.read_sas('ALQ_H1314.XPT')\n",
    "ALQ_cvs_file = 'AlcoholUse1314.csv'\n",
    "# ALQ101: Had at least 12 alcohol drinks/1 yr? - codes\n",
    "# ALQ151: Ever have 4/5 or more drinks every day? - codes\n",
    "# ALQ160: # days have 4/5 or more drinks in 2 hrs? - codes & values\n",
    "\n",
    "# ALQ120Q : How often drink alcohol over past 12 mos\n",
    "ALQ_old_names = ['SEQN', 'ALQ120Q'] \n",
    "ALQ_new_names = ['ID', 'alc_days_year']\n",
    "df1_ALQ = rename_chosen_features(ALQ_xpt_file,ALQ_old_names,ALQ_new_names,ALQ_cvs_file)\n",
    "\n",
    "## Insulin\n",
    "INS_xpt_file = pd.read_sas('INS_H1314.XPT')\n",
    "INS_cvs_file = 'Insulin1314.csv'\n",
    "# LBDINSI : Insulin (pmol/L) \n",
    "INS_old_names = ['SEQN','LBDINSI'] \n",
    "INS_new_names = ['ID','insulin']\n",
    "df1_INS = rename_chosen_features(INS_xpt_file, INS_old_names, INS_new_names,INS_cvs_file)\n",
    "\n",
    "## Cholesterol - LDL\n",
    "TRIGLY_xpt_file = pd.read_sas('TRIGLY_H1314.XPT')\n",
    "TRIGLY_cvs_file = 'Cholesterol1314.csv'\n",
    "# LBDLDLSI : LDL-cholesterol (mmol/L) - values: 23 to 277\n",
    "TRIGLY_old_names = ['SEQN','LBDLDLSI']  \n",
    "TRIGLY_new_names = ['ID','LDL']\n",
    "df1_TRIGLY = rename_chosen_features(TRIGLY_xpt_file,TRIGLY_old_names,TRIGLY_new_names,TRIGLY_cvs_file)\n",
    "\n",
    "## Cholesterol - HDL\n",
    "HDL_xpt_file = pd.read_sas('HDL_H1314.XPT')\n",
    "HDL_cvs_file = 'HDL1314.csv'\n",
    "# LBDHDDSI : HDL - Cholesterol (mmol/L) \n",
    "HDL_old_names = ['SEQN','LBDHDDSI'] \n",
    "HDL_new_names = ['ID','HDL']\n",
    "df1_HDL = rename_chosen_features(HDL_xpt_file, HDL_old_names, HDL_new_names, HDL_cvs_file)\n",
    "\n",
    "## Blood Pressure\n",
    "BPX_xpt_file = pd.read_sas('BPX_H1314.XPT')\n",
    "BPX_cvs_file = 'BloodPressure1314.csv'\n",
    "# BPXSY1: Systolic: Blood pres (1st rdg) mm Hg - values: 72 to 236\n",
    "# BPXDI1: Diastolic: Blood pres (1st rdg) mm Hg - values: 0 to 120\n",
    "# BPXSY2: Systolic: Blood pres (2nd rdg) mm Hg - values: 76 to 238\n",
    "# BPXDI2: Diastolic: Blood pres (2nd rdg) mm Hg - values: 0 to 144\n",
    "# BPXSY3 - Systolic: Blood pres (3rd rdg) mm Hg - values: 76 to 226 \n",
    "# BPXDI3 - Diastolic: Blood pres (3rd rdg) mm Hg - values: 0 to 140\n",
    "BPX_old_names = ['SEQN','BPXSY1','BPXDI1','BPXSY2','BPXDI2','BPXSY3','BPXDI3']  \n",
    "BPX_new_names = ['ID','sysBP1', 'diaBP1','sysBP2', 'diaBP2','sysBP3', 'diaBP3']\n",
    "df1_BPX = rename_chosen_features(BPX_xpt_file,BPX_old_names,BPX_new_names,BPX_cvs_file)\n",
    "\n",
    "## Body Measures\n",
    "BMX_xpt_file = pd.read_sas('BMX_H1314.XPT')\n",
    "BMX_cvs_file = 'BMI1314.csv'\n",
    "# BMXBMI: Body Mass Index (kg/m**2) - values: 11.5 to 67.3\n",
    "BMX_old_names = ['SEQN','BMXBMI']  \n",
    "BMX_new_names = ['ID','BMI']\n",
    "df1_BMX = rename_chosen_features(BMX_xpt_file,BMX_old_names,BMX_new_names,BMX_cvs_file)\n",
    "\n",
    "## Total Dietary Supplements \n",
    "DSQTOT_xpt_file = pd.read_sas('DSQTOT_H1314.XPT')\n",
    "DSQTOT_cvs_file = 'Sugar1314.csv'\n",
    "# DSQTSUGR - Total sugars (gm) - values: 0.02 to 45.73 (in 30 days)\n",
    "DSQTOT_old_names = ['SEQN','DSQTSUGR']  \n",
    "DSQTOT_new_names = ['ID','sugar']\n",
    "df1_DSQTOT = rename_chosen_features(DSQTOT_xpt_file,DSQTOT_old_names,DSQTOT_new_names,DSQTOT_cvs_file)\n"
   ]
  },
  {
   "cell_type": "markdown",
   "metadata": {},
   "source": [
    "# Merge dataframes"
   ]
  },
  {
   "cell_type": "code",
   "execution_count": 4,
   "metadata": {},
   "outputs": [],
   "source": [
    "df0 = pd.merge(df0_ALQ, df0_BMX, how =\"inner\", on = \"ID\")\n",
    "df0 = pd.merge(df0, df0_BPX, how = \"inner\", on =\"ID\")\n",
    "df0 = pd.merge(df0,df0_DEMO, how = 'inner', on = \"ID\")\n",
    "df0 = pd.merge(df0,df0_DIQ, how = 'inner', on = \"ID\")\n",
    "df0 = pd.merge(df0,df0_DSQTOT, how = 'inner', on = \"ID\")\n",
    "df0 = pd.merge(df0,df0_GLU, how = 'inner', on = \"ID\")\n",
    "df0 = pd.merge(df0,df0_TRIGLY, how = 'inner', on = \"ID\")\n",
    "df0 = pd.merge(df0,df0_INS, how = 'inner', on = \"ID\")\n",
    "df0 = pd.merge(df0,df0_HDL, how = 'inner', on = \"ID\")\n",
    "\n",
    "\n",
    "df1 = pd.merge(df1_ALQ, df1_BMX, how =\"inner\", on = \"ID\")\n",
    "df1 = pd.merge(df1, df1_BPX, how = \"inner\", on =\"ID\")\n",
    "df1 = pd.merge(df1,df1_DEMO, how = 'inner', on = \"ID\")\n",
    "df1 = pd.merge(df1,df1_DIQ, how = 'inner', on = \"ID\")\n",
    "df1 = pd.merge(df1,df1_DSQTOT, how = 'inner', on = \"ID\")\n",
    "df1 = pd.merge(df1,df1_GLU, how = 'inner', on = \"ID\")\n",
    "df1 = pd.merge(df1,df1_TRIGLY, how = 'inner', on = \"ID\")\n",
    "df1 = pd.merge(df1,df1_INS, how = 'inner', on = \"ID\")\n",
    "df1 = pd.merge(df1,df1_HDL, how = 'inner', on = \"ID\")"
   ]
  },
  {
   "cell_type": "markdown",
   "metadata": {},
   "source": [
    "# Set Index"
   ]
  },
  {
   "cell_type": "code",
   "execution_count": 5,
   "metadata": {},
   "outputs": [],
   "source": [
    "# set SEQN to index of the df0\n",
    "df0.set_index('ID', inplace=True)      \n",
    "\n",
    "# if has duplicated indexs(ID), keep the first one \n",
    "df0 = df0[~df0.index.duplicated(keep='first')]\n",
    "\n",
    "\n",
    "# set SEQN to index of the df0\n",
    "df1.set_index('ID', inplace=True)      \n",
    "\n",
    "# if has duplicated indexs(ID), keep the first one \n",
    "df1 = df1[~df1.index.duplicated(keep='first')]"
   ]
  },
  {
   "cell_type": "code",
   "execution_count": 6,
   "metadata": {},
   "outputs": [
    {
     "name": "stdout",
     "output_type": "stream",
     "text": [
      "<class 'pandas.core.frame.DataFrame'>\n",
      "Float64Index: 5569 entries, 73559.0 to 93697.0\n",
      "Data columns (total 17 columns):\n",
      "BMI                5502 non-null float64\n",
      "HDL                5265 non-null float64\n",
      "LDL                5003 non-null float64\n",
      "age                5569 non-null float64\n",
      "alc_days_year      4165 non-null float64\n",
      "diaBP1             5185 non-null float64\n",
      "diaBP2             5346 non-null float64\n",
      "diaBP3             5342 non-null float64\n",
      "diabetes           5569 non-null float64\n",
      "fasting_glucose    5298 non-null float64\n",
      "gender             5569 non-null float64\n",
      "insulin            5195 non-null float64\n",
      "race               5569 non-null float64\n",
      "sugar              608 non-null float64\n",
      "sysBP1             5185 non-null float64\n",
      "sysBP2             5346 non-null float64\n",
      "sysBP3             5342 non-null float64\n",
      "dtypes: float64(17)\n",
      "memory usage: 783.1 KB\n",
      "          BMI   HDL    LDL   age  alc_days_year  diaBP1  diaBP2  diaBP3  \\\n",
      "ID                                                                        \n",
      "73559.0  28.9  1.55  1.448  72.0   5.397605e-79    90.0    76.0    80.0   \n",
      "73561.0  19.7  2.20  2.612  73.0   5.397605e-79    86.0    88.0    86.0   \n",
      "73564.0  35.7  1.50  2.508  61.0   2.000000e+00    80.0    80.0    82.0   \n",
      "73568.0  20.3  2.48  1.733  26.0   2.000000e+00    60.0    62.0    66.0   \n",
      "73574.0  22.8  1.37  1.940  33.0            NaN    56.0    66.0    64.0   \n",
      "...       ...   ...    ...   ...            ...     ...     ...     ...   \n",
      "93682.0  20.9  1.68    NaN  41.0            NaN    78.0    84.0    82.0   \n",
      "93689.0  28.1  2.09  1.888  69.0   5.397605e-79    62.0    64.0    72.0   \n",
      "93695.0  21.5  1.76  1.448  76.0            NaN    48.0    46.0    48.0   \n",
      "93696.0  33.8   NaN    NaN  26.0            NaN    68.0    76.0    72.0   \n",
      "93697.0  31.0  2.90  3.284  80.0   2.000000e+00    56.0    58.0    52.0   \n",
      "\n",
      "         diabetes  fasting_glucose  gender  insulin  race  sugar  sysBP1  \\\n",
      "ID                                                                         \n",
      "73559.0       1.0           10.713     1.0    34.98   3.0    NaN   140.0   \n",
      "73561.0       2.0            5.940     2.0    36.72   3.0    NaN   136.0   \n",
      "73564.0       2.0            6.106     2.0    89.46   3.0   0.33   118.0   \n",
      "73568.0       2.0            4.940     2.0    23.10   3.0    NaN   106.0   \n",
      "73574.0       2.0            4.663     2.0    36.30   6.0    NaN   122.0   \n",
      "...           ...              ...     ...      ...   ...    ...     ...   \n",
      "93682.0       2.0            6.830     2.0   221.16   6.0    NaN   132.0   \n",
      "93689.0       1.0            6.000     2.0    30.18   1.0    NaN   164.0   \n",
      "93695.0       2.0            5.830     2.0   187.44   3.0    NaN   112.0   \n",
      "93696.0       2.0              NaN     1.0      NaN   3.0    NaN   118.0   \n",
      "93697.0       2.0            5.500     2.0    38.70   3.0    NaN   154.0   \n",
      "\n",
      "         sysBP2  sysBP3  \n",
      "ID                       \n",
      "73559.0   140.0   146.0  \n",
      "73561.0   134.0   142.0  \n",
      "73564.0   124.0   126.0  \n",
      "73568.0   100.0   108.0  \n",
      "73574.0   124.0   118.0  \n",
      "...         ...     ...  \n",
      "93682.0   122.0   124.0  \n",
      "93689.0   166.0   162.0  \n",
      "93695.0   112.0   110.0  \n",
      "93696.0   116.0   114.0  \n",
      "93697.0   146.0   144.0  \n",
      "\n",
      "[5569 rows x 17 columns]\n"
     ]
    }
   ],
   "source": [
    "\n",
    "df0 = df0.reindex(sorted(df0.columns), axis=1)\n",
    "\n",
    "df1 = df1.reindex(sorted(df1.columns), axis=1)\n",
    "\n",
    "final_df = pd.concat([df1, df0], axis =0)\n",
    "final_df.info()\n",
    "\n",
    "df = final_df.copy(deep=True)\n",
    "df.head()\n",
    "print(df)"
   ]
  },
  {
   "cell_type": "markdown",
   "metadata": {},
   "source": [
    "# Data Pre-Processing"
   ]
  },
  {
   "cell_type": "code",
   "execution_count": 7,
   "metadata": {},
   "outputs": [],
   "source": [
    "# function:  clean_epsilon(cell)\n",
    "# purpose:   in the orginal files, zeros are represented by a small value (10^-79), convert them to actual zeros\n",
    "# input:     a dataframe that with (10^-79) as zeroes \n",
    "# output:    a dataframe with actual zeroes \n",
    "\n",
    "def clean_epsilon(cell):\n",
    "    if cell - 0.0 < 0.0001:\n",
    "        return 0\n",
    "    return cell\n",
    "\n",
    "df = df.applymap(clean_epsilon)"
   ]
  },
  {
   "cell_type": "code",
   "execution_count": 8,
   "metadata": {},
   "outputs": [
    {
     "data": {
      "text/html": [
       "<div>\n",
       "<style scoped>\n",
       "    .dataframe tbody tr th:only-of-type {\n",
       "        vertical-align: middle;\n",
       "    }\n",
       "\n",
       "    .dataframe tbody tr th {\n",
       "        vertical-align: top;\n",
       "    }\n",
       "\n",
       "    .dataframe thead th {\n",
       "        text-align: right;\n",
       "    }\n",
       "</style>\n",
       "<table border=\"1\" class=\"dataframe\">\n",
       "  <thead>\n",
       "    <tr style=\"text-align: right;\">\n",
       "      <th></th>\n",
       "      <th>BMI</th>\n",
       "      <th>HDL</th>\n",
       "      <th>LDL</th>\n",
       "      <th>age</th>\n",
       "      <th>alc_days_year</th>\n",
       "      <th>diabetes</th>\n",
       "      <th>fasting_glucose</th>\n",
       "      <th>gender</th>\n",
       "      <th>insulin</th>\n",
       "      <th>race</th>\n",
       "      <th>sugar</th>\n",
       "      <th>sysBP</th>\n",
       "      <th>diaBP</th>\n",
       "    </tr>\n",
       "    <tr>\n",
       "      <th>ID</th>\n",
       "      <th></th>\n",
       "      <th></th>\n",
       "      <th></th>\n",
       "      <th></th>\n",
       "      <th></th>\n",
       "      <th></th>\n",
       "      <th></th>\n",
       "      <th></th>\n",
       "      <th></th>\n",
       "      <th></th>\n",
       "      <th></th>\n",
       "      <th></th>\n",
       "      <th></th>\n",
       "    </tr>\n",
       "  </thead>\n",
       "  <tbody>\n",
       "    <tr>\n",
       "      <td>73559.0</td>\n",
       "      <td>28.9</td>\n",
       "      <td>1.55</td>\n",
       "      <td>1.448</td>\n",
       "      <td>72.0</td>\n",
       "      <td>0.0</td>\n",
       "      <td>1.0</td>\n",
       "      <td>10.713</td>\n",
       "      <td>1.0</td>\n",
       "      <td>34.98</td>\n",
       "      <td>3.0</td>\n",
       "      <td>NaN</td>\n",
       "      <td>142.000000</td>\n",
       "      <td>82.000000</td>\n",
       "    </tr>\n",
       "    <tr>\n",
       "      <td>73561.0</td>\n",
       "      <td>19.7</td>\n",
       "      <td>2.20</td>\n",
       "      <td>2.612</td>\n",
       "      <td>73.0</td>\n",
       "      <td>0.0</td>\n",
       "      <td>2.0</td>\n",
       "      <td>5.940</td>\n",
       "      <td>2.0</td>\n",
       "      <td>36.72</td>\n",
       "      <td>3.0</td>\n",
       "      <td>NaN</td>\n",
       "      <td>137.333333</td>\n",
       "      <td>86.666667</td>\n",
       "    </tr>\n",
       "    <tr>\n",
       "      <td>73564.0</td>\n",
       "      <td>35.7</td>\n",
       "      <td>1.50</td>\n",
       "      <td>2.508</td>\n",
       "      <td>61.0</td>\n",
       "      <td>2.0</td>\n",
       "      <td>2.0</td>\n",
       "      <td>6.106</td>\n",
       "      <td>2.0</td>\n",
       "      <td>89.46</td>\n",
       "      <td>3.0</td>\n",
       "      <td>0.33</td>\n",
       "      <td>122.666667</td>\n",
       "      <td>80.666667</td>\n",
       "    </tr>\n",
       "    <tr>\n",
       "      <td>73568.0</td>\n",
       "      <td>20.3</td>\n",
       "      <td>2.48</td>\n",
       "      <td>1.733</td>\n",
       "      <td>26.0</td>\n",
       "      <td>2.0</td>\n",
       "      <td>2.0</td>\n",
       "      <td>4.940</td>\n",
       "      <td>2.0</td>\n",
       "      <td>23.10</td>\n",
       "      <td>3.0</td>\n",
       "      <td>NaN</td>\n",
       "      <td>104.666667</td>\n",
       "      <td>62.666667</td>\n",
       "    </tr>\n",
       "    <tr>\n",
       "      <td>73574.0</td>\n",
       "      <td>22.8</td>\n",
       "      <td>1.37</td>\n",
       "      <td>1.940</td>\n",
       "      <td>33.0</td>\n",
       "      <td>NaN</td>\n",
       "      <td>2.0</td>\n",
       "      <td>4.663</td>\n",
       "      <td>2.0</td>\n",
       "      <td>36.30</td>\n",
       "      <td>6.0</td>\n",
       "      <td>NaN</td>\n",
       "      <td>121.333333</td>\n",
       "      <td>62.000000</td>\n",
       "    </tr>\n",
       "  </tbody>\n",
       "</table>\n",
       "</div>"
      ],
      "text/plain": [
       "          BMI   HDL    LDL   age  alc_days_year  diabetes  fasting_glucose  \\\n",
       "ID                                                                           \n",
       "73559.0  28.9  1.55  1.448  72.0            0.0       1.0           10.713   \n",
       "73561.0  19.7  2.20  2.612  73.0            0.0       2.0            5.940   \n",
       "73564.0  35.7  1.50  2.508  61.0            2.0       2.0            6.106   \n",
       "73568.0  20.3  2.48  1.733  26.0            2.0       2.0            4.940   \n",
       "73574.0  22.8  1.37  1.940  33.0            NaN       2.0            4.663   \n",
       "\n",
       "         gender  insulin  race  sugar       sysBP      diaBP  \n",
       "ID                                                            \n",
       "73559.0     1.0    34.98   3.0    NaN  142.000000  82.000000  \n",
       "73561.0     2.0    36.72   3.0    NaN  137.333333  86.666667  \n",
       "73564.0     2.0    89.46   3.0   0.33  122.666667  80.666667  \n",
       "73568.0     2.0    23.10   3.0    NaN  104.666667  62.666667  \n",
       "73574.0     2.0    36.30   6.0    NaN  121.333333  62.000000  "
      ]
     },
     "execution_count": 8,
     "metadata": {},
     "output_type": "execute_result"
    }
   ],
   "source": [
    "# Obtain average systolic and diastolic pressure values from the multiple measurements\n",
    "df['sysBP'] = (df['sysBP1']+df['sysBP2']+df['sysBP3'])/3\n",
    "df['diaBP'] = (df['diaBP1']+df['diaBP2']+df['diaBP3'])/3\n",
    "df = df.drop(['sysBP1','diaBP1','sysBP2','diaBP2','sysBP3','diaBP3'], axis=1)\n",
    "df.head()"
   ]
  },
  {
   "cell_type": "code",
   "execution_count": 9,
   "metadata": {},
   "outputs": [],
   "source": [
    "# function:  get_cstr_ratio(df,feature,cstr)\n",
    "# purpose:   get the percentage of 'don't know' and 'refuse' out of number of entries\n",
    "# input:     cstr: a list of two integers. ex: [77,99] \n",
    "# output:    ratios of dk/entries and refuse/entries \n",
    "\n",
    "def get_cstr_ratio(df,feature,cstr):\n",
    "    total_count = df.shape[0]\n",
    "    dk = cstr[0]      # don't know\n",
    "    refuse = cstr[1]  # refuse to answer\n",
    "    \n",
    "    feature_counts = df[feature].value_counts().to_dict()\n",
    "    if dk not in feature_counts: dk = 0         # When there's no 'dk'/'refuse' in responses\n",
    "    else: dk = feature_counts[dk]\n",
    "    if refuse not in feature_counts: refuse = 0\n",
    "    else: refuse = feature_counts[refuse]\n",
    "\n",
    "    dk = int(dk)\n",
    "    refuse = int(refuse)\n",
    "    r1 = dk/total_count\n",
    "    r2 = refuse/total_count\n",
    "    print()\n",
    "    print('The ratio of [dont know] is', r1)\n",
    "    print('The ratio of [refuse] is', r2)\n",
    "    print('Now call: process_cstr(df,feature,cstr,method)')\n",
    "\n",
    "# function:  process_cstr(df,feature,cstr,method)\n",
    "# purpose:   if cstr ratio is high, then replace cstr with NaN and deal with NaN later\n",
    "#            if cstr ratio is low, then drop entries with cstr\n",
    "# input:     cstr: a list of two integers. ex: [77,99]\n",
    "#            method: select among 'drop', 'NaN'\n",
    "# output:    \n",
    "\n",
    "\n",
    "def process_cstr(df,feature,cstr,method):\n",
    "    dk = cstr[0] # don't know\n",
    "    refuse = cstr[1]  # refuse to answer\n",
    "    if method == 'drop':\n",
    "        df = df[df[feature] != dk]\n",
    "        df = df[df[feature] != refuse]\n",
    "    elif method == 'NaN':\n",
    "        df[feature][df[feature] == dk] = np.nan\n",
    "        df[feature][df[feature] == refuse] = np.nan\n",
    "    else:\n",
    "        print('The method you choose is not included yet, add new method now!')\n",
    "    return df\n"
   ]
  },
  {
   "cell_type": "code",
   "execution_count": 10,
   "metadata": {},
   "outputs": [],
   "source": [
    "#Function to obtain the count of missing values\n",
    "def get_value_count(df,feature): \n",
    "    print()\n",
    "    print('NaN   ',df[feature].isna().sum())\n",
    "    print(df[feature].value_counts())"
   ]
  },
  {
   "cell_type": "markdown",
   "metadata": {},
   "source": [
    "### Functions to Visualize Missing values"
   ]
  },
  {
   "cell_type": "code",
   "execution_count": 11,
   "metadata": {
    "scrolled": false
   },
   "outputs": [
    {
     "name": "stdout",
     "output_type": "stream",
     "text": [
      "<class 'pandas.core.frame.DataFrame'>\n",
      "Float64Index: 5569 entries, 73559.0 to 93697.0\n",
      "Data columns (total 13 columns):\n",
      "BMI                5502 non-null float64\n",
      "HDL                5265 non-null float64\n",
      "LDL                5003 non-null float64\n",
      "age                5569 non-null float64\n",
      "alc_days_year      4165 non-null float64\n",
      "diabetes           5569 non-null float64\n",
      "fasting_glucose    5298 non-null float64\n",
      "gender             5569 non-null float64\n",
      "insulin            5195 non-null float64\n",
      "race               5569 non-null float64\n",
      "sugar              608 non-null float64\n",
      "sysBP              5092 non-null float64\n",
      "diaBP              5092 non-null float64\n",
      "dtypes: float64(13)\n",
      "memory usage: 609.1 KB\n"
     ]
    },
    {
     "data": {
      "image/png": "[encoded data removed]",
      "text/plain": [
       "<Figure size 1080x432 with 1 Axes>"
      ]
     },
     "metadata": {
      "needs_background": "light"
     },
     "output_type": "display_data"
    }
   ],
   "source": [
    "# purpose:   get the ratio of (missing values)/(total entries) for ***one feature***  \n",
    "# input:     df: dataframe that contains the feature you want to check for NaN ratio\n",
    "#            feature: the name of the feature - string           \n",
    "# output:    NaN ratio of the feature, and instructions on what to do next \n",
    "\n",
    "def get_NaN_ratio(df,feature):\n",
    "    print()\n",
    "    total_count = df.shape[0]                  # total entries\n",
    "    feature_valid_count = df[feature].count()  # non-NaN entries for chosen feature\n",
    "    feature_null_count = total_count - feature_valid_count\n",
    "    NaN_ratio = feature_null_count/total_count\n",
    "    print('The NaN ratio in',feature,'is',\"%.3f\" % NaN_ratio)\n",
    "    if NaN_ratio == 0:\n",
    "        print('No missing values detected')\n",
    "    elif NaN_ratio <= 0.1:\n",
    "        print('Since NaN ratio is small, fill NaN directly with fill type: mode, mean, new category')\n",
    "        print('Now call function: fill_NaN(df, feature, fill_type)')\n",
    "    else:\n",
    "        print('Since NaN ratio is large, predict NaN using ML or check predictability first...')\n",
    "        print('if check predictability, call: check_predictability_all/some_x(df,y,method)')\n",
    "        print('if predict using ML, call: predict_NaN_with_ML(df,x,y,data_type,model)')\n",
    "\n",
    "# features = df.columns.values.tolist()\n",
    "# for feature in features:\n",
    "#     get_NaN_ratio(df,feature)\n",
    "#     print('----------------------')\n",
    "\n",
    "\n",
    "def plot_NaN_percentage_for_all(df):\n",
    "    total = df.isnull().sum().sort_values(ascending=False)\n",
    "    percent = (df.isnull().sum()/df.isnull().count()).sort_values(ascending=False)\n",
    "    missing_data = pd.concat([total, percent], axis=1, keys=['Total', 'Percent'])\n",
    "    # missing_data.head()\n",
    "    f, ax = plt.subplots(figsize=(15, 6))\n",
    "    plt.xticks(rotation='90')\n",
    "    sns.barplot(x=missing_data.index, y=missing_data['Percent'])\n",
    "    plt.xlabel('Features', fontsize=15)\n",
    "    plt.ylabel('Percent of missing values', fontsize=15)\n",
    "    plt.title('Percent missing data by feature', fontsize=15)\n",
    "    \n",
    "    \n",
    "plot_NaN_percentage_for_all(df)\n",
    "df.info()"
   ]
  },
  {
   "cell_type": "markdown",
   "metadata": {},
   "source": [
    "### Outliers"
   ]
  },
  {
   "cell_type": "code",
   "execution_count": 12,
   "metadata": {},
   "outputs": [
    {
     "name": "stdout",
     "output_type": "stream",
     "text": [
      "Index(['BMI', 'HDL', 'LDL', 'age', 'alc_days_year', 'diabetes',\n",
      "       'fasting_glucose', 'gender', 'insulin', 'race', 'sugar', 'sysBP',\n",
      "       'diaBP'],\n",
      "      dtype='object')\n"
     ]
    }
   ],
   "source": [
    "# Function to Detection Outliers\n",
    "\n",
    "def find_anomalies(data):\n",
    "    anomalies = []\n",
    "    patient = []\n",
    "\n",
    "    # Set upper and lower limit to 3 standard deviation \n",
    "    random_data_std = data.std()\n",
    "    random_data_mean = data.mean()\n",
    "    anomaly_cut_off = random_data_std * 3\n",
    "    \n",
    "    lower_limit  = random_data_mean - anomaly_cut_off \n",
    "    upper_limit = random_data_mean + anomaly_cut_off\n",
    "    \n",
    "    # Generate outliers\n",
    "    for i in data:\n",
    "        if i > upper_limit or i < lower_limit:\n",
    "            anomalies.append(i)\n",
    "            index_value_i = (data==i).index\n",
    "            patient.append(index_value_i)\n",
    "    return anomalies\n",
    "    #return patient\n",
    "\n",
    "print(df.columns)\n",
    "   "
   ]
  },
  {
   "cell_type": "code",
   "execution_count": 13,
   "metadata": {},
   "outputs": [
    {
     "name": "stdout",
     "output_type": "stream",
     "text": [
      "68\n"
     ]
    },
    {
     "data": {
      "text/plain": [
       "count    5434.000000\n",
       "mean       28.694921\n",
       "std         6.512621\n",
       "min        15.100000\n",
       "25%        23.900000\n",
       "50%        27.800000\n",
       "75%        32.300000\n",
       "max        50.500000\n",
       "Name: BMI, dtype: float64"
      ]
     },
     "execution_count": 13,
     "metadata": {},
     "output_type": "execute_result"
    },
    {
     "data": {
      "image/png": "[encoded data removed]",
      "text/plain": [
       "<Figure size 432x288 with 1 Axes>"
      ]
     },
     "metadata": {
      "needs_background": "light"
     },
     "output_type": "display_data"
    },
    {
     "data": {
      "image/png": "[encoded data removed]",
      "text/plain": [
       "<Figure size 432x288 with 1 Axes>"
      ]
     },
     "metadata": {
      "needs_background": "light"
     },
     "output_type": "display_data"
    }
   ],
   "source": [
    "print(len(find_anomalies(df[\"BMI\"])))\n",
    "boxplot = df.boxplot(column=['BMI'])\n",
    "hist = df.hist(column=['BMI'])\n",
    "for i in find_anomalies(df[\"BMI\"]):\n",
    "    df = df[df.BMI != i]\n",
    "df[\"BMI\"].describe()"
   ]
  },
  {
   "cell_type": "code",
   "execution_count": 14,
   "metadata": {},
   "outputs": [
    {
     "data": {
      "image/png": "[encoded data removed]",
      "text/plain": [
       "<Figure size 432x288 with 1 Axes>"
      ]
     },
     "metadata": {
      "needs_background": "light"
     },
     "output_type": "display_data"
    }
   ],
   "source": [
    "hist_before = df.hist(column=['BMI'], range=[10, 60])"
   ]
  },
  {
   "cell_type": "code",
   "execution_count": 15,
   "metadata": {},
   "outputs": [
    {
     "data": {
      "image/png": "[encoded data removed]",
      "text/plain": [
       "<Figure size 432x288 with 1 Axes>"
      ]
     },
     "metadata": {
      "needs_background": "light"
     },
     "output_type": "display_data"
    }
   ],
   "source": [
    "hist_after = np.log(df[\"BMI\"]).hist()"
   ]
  },
  {
   "cell_type": "code",
   "execution_count": 16,
   "metadata": {},
   "outputs": [
    {
     "name": "stdout",
     "output_type": "stream",
     "text": [
      "53\n"
     ]
    },
    {
     "data": {
      "text/plain": [
       "count    5115.000000\n",
       "mean        1.413851\n",
       "std         0.439148\n",
       "min         0.160000\n",
       "25%         1.110000\n",
       "50%         1.340000\n",
       "75%         1.660000\n",
       "max         5.840000\n",
       "Name: HDL, dtype: float64"
      ]
     },
     "execution_count": 16,
     "metadata": {},
     "output_type": "execute_result"
    },
    {
     "data": {
      "image/png": "[encoded data removed]",
      "text/plain": [
       "<Figure size 432x288 with 1 Axes>"
      ]
     },
     "metadata": {
      "needs_background": "light"
     },
     "output_type": "display_data"
    },
    {
     "data": {
      "image/png": "[encoded data removed]",
      "text/plain": [
       "<Figure size 432x288 with 1 Axes>"
      ]
     },
     "metadata": {
      "needs_background": "light"
     },
     "output_type": "display_data"
    }
   ],
   "source": [
    "print(len(find_anomalies(df[\"HDL\"])))\n",
    "boxplot = df.boxplot(column=['HDL'])\n",
    "hist = df.hist(column=['HDL'])\n",
    "for i in find_anomalies(df[\"HDL\"]):\n",
    "    df = df[df.LDL != i]\n",
    "df[\"HDL\"].describe()"
   ]
  },
  {
   "cell_type": "code",
   "execution_count": 17,
   "metadata": {},
   "outputs": [
    {
     "data": {
      "image/png": "[encoded data removed]",
      "text/plain": [
       "<Figure size 432x288 with 1 Axes>"
      ]
     },
     "metadata": {
      "needs_background": "light"
     },
     "output_type": "display_data"
    }
   ],
   "source": [
    "hist_before = df.hist(column=['HDL'], range=[0, 6])"
   ]
  },
  {
   "cell_type": "code",
   "execution_count": 18,
   "metadata": {},
   "outputs": [
    {
     "data": {
      "image/png": "[encoded data removed]",
      "text/plain": [
       "<Figure size 432x288 with 1 Axes>"
      ]
     },
     "metadata": {
      "needs_background": "light"
     },
     "output_type": "display_data"
    }
   ],
   "source": [
    "hist_after = np.log(df[\"HDL\"]+1).hist()"
   ]
  },
  {
   "cell_type": "code",
   "execution_count": 19,
   "metadata": {},
   "outputs": [
    {
     "name": "stdout",
     "output_type": "stream",
     "text": [
      "32\n"
     ]
    },
    {
     "data": {
      "text/plain": [
       "count    4821.000000\n",
       "mean        2.829250\n",
       "std         0.879974\n",
       "min         0.362000\n",
       "25%         2.198000\n",
       "50%         2.767000\n",
       "75%         3.388000\n",
       "max         5.612000\n",
       "Name: LDL, dtype: float64"
      ]
     },
     "execution_count": 19,
     "metadata": {},
     "output_type": "execute_result"
    },
    {
     "data": {
      "image/png": "[encoded data removed]",
      "text/plain": [
       "<Figure size 432x288 with 1 Axes>"
      ]
     },
     "metadata": {
      "needs_background": "light"
     },
     "output_type": "display_data"
    },
    {
     "data": {
      "image/png": "[encoded data removed]",
      "text/plain": [
       "<Figure size 432x288 with 1 Axes>"
      ]
     },
     "metadata": {
      "needs_background": "light"
     },
     "output_type": "display_data"
    }
   ],
   "source": [
    "print(len(find_anomalies(df[\"LDL\"])))\n",
    "boxplot = df.boxplot(column=['LDL'])\n",
    "hist = df.hist(column=['LDL'])\n",
    "for i in find_anomalies(df[\"LDL\"]):\n",
    "    df = df[df.LDL != i]\n",
    "df[\"LDL\"].describe()"
   ]
  },
  {
   "cell_type": "code",
   "execution_count": 20,
   "metadata": {},
   "outputs": [
    {
     "data": {
      "image/png": "[encoded data removed]",
      "text/plain": [
       "<Figure size 432x288 with 1 Axes>"
      ]
     },
     "metadata": {
      "needs_background": "light"
     },
     "output_type": "display_data"
    }
   ],
   "source": [
    "hist_before = df.hist(column=['LDL'], range = [0,6])"
   ]
  },
  {
   "cell_type": "code",
   "execution_count": 21,
   "metadata": {},
   "outputs": [
    {
     "name": "stdout",
     "output_type": "stream",
     "text": [
      "120\n"
     ]
    },
    {
     "data": {
      "text/plain": [
       "count    4994.000000\n",
       "mean        5.829674\n",
       "std         1.202900\n",
       "min         1.170000\n",
       "25%         5.162000\n",
       "50%         5.550000\n",
       "75%         6.100000\n",
       "max        12.268000\n",
       "Name: fasting_glucose, dtype: float64"
      ]
     },
     "execution_count": 21,
     "metadata": {},
     "output_type": "execute_result"
    },
    {
     "data": {
      "image/png": "[encoded data removed]",
      "text/plain": [
       "<Figure size 432x288 with 1 Axes>"
      ]
     },
     "metadata": {
      "needs_background": "light"
     },
     "output_type": "display_data"
    },
    {
     "data": {
      "image/png": "[encoded data removed]",
      "text/plain": [
       "<Figure size 432x288 with 1 Axes>"
      ]
     },
     "metadata": {
      "needs_background": "light"
     },
     "output_type": "display_data"
    }
   ],
   "source": [
    "print(len(find_anomalies(df[\"fasting_glucose\"])))\n",
    "boxplot = df.boxplot(column=['fasting_glucose'])\n",
    "hist = df.hist(column=['fasting_glucose'])\n",
    "for i in find_anomalies(df[\"fasting_glucose\"]):\n",
    "    df = df[df.fasting_glucose != i]\n",
    "df[\"fasting_glucose\"].describe()"
   ]
  },
  {
   "cell_type": "code",
   "execution_count": 22,
   "metadata": {},
   "outputs": [
    {
     "data": {
      "image/png": "[encoded data removed]",
      "text/plain": [
       "<Figure size 432x288 with 1 Axes>"
      ]
     },
     "metadata": {
      "needs_background": "light"
     },
     "output_type": "display_data"
    }
   ],
   "source": [
    "hist_before = df.hist(column=['fasting_glucose'], range = [1,13])"
   ]
  },
  {
   "cell_type": "code",
   "execution_count": 23,
   "metadata": {},
   "outputs": [
    {
     "data": {
      "image/png": "[encoded data removed]",
      "text/plain": [
       "<Figure size 432x288 with 1 Axes>"
      ]
     },
     "metadata": {
      "needs_background": "light"
     },
     "output_type": "display_data"
    }
   ],
   "source": [
    "hist_after = np.log(df[\"fasting_glucose\"]).hist()"
   ]
  },
  {
   "cell_type": "code",
   "execution_count": 24,
   "metadata": {},
   "outputs": [
    {
     "name": "stdout",
     "output_type": "stream",
     "text": [
      "56\n"
     ]
    },
    {
     "data": {
      "text/plain": [
       "count    4847.000000\n",
       "mean       71.626420\n",
       "std        57.997836\n",
       "min         0.840000\n",
       "25%        34.800000\n",
       "50%        54.780000\n",
       "75%        87.120000\n",
       "max       420.540000\n",
       "Name: insulin, dtype: float64"
      ]
     },
     "execution_count": 24,
     "metadata": {},
     "output_type": "execute_result"
    },
    {
     "data": {
      "image/png": "[encoded data removed]",
      "text/plain": [
       "<Figure size 432x288 with 1 Axes>"
      ]
     },
     "metadata": {
      "needs_background": "light"
     },
     "output_type": "display_data"
    },
    {
     "data": {
      "image/png": "[encoded data removed]",
      "text/plain": [
       "<Figure size 432x288 with 1 Axes>"
      ]
     },
     "metadata": {
      "needs_background": "light"
     },
     "output_type": "display_data"
    }
   ],
   "source": [
    "print(len(find_anomalies(df[\"insulin\"])))\n",
    "boxplot = df.boxplot(column=['insulin'])\n",
    "hist = df.hist(column=['insulin'])\n",
    "for i in find_anomalies(df[\"insulin\"]):\n",
    "    df = df[df.insulin != i]\n",
    "df[\"insulin\"].describe()"
   ]
  },
  {
   "cell_type": "code",
   "execution_count": 25,
   "metadata": {},
   "outputs": [
    {
     "data": {
      "image/png": "[encoded data removed]",
      "text/plain": [
       "<Figure size 432x288 with 1 Axes>"
      ]
     },
     "metadata": {
      "needs_background": "light"
     },
     "output_type": "display_data"
    }
   ],
   "source": [
    "hist_before = df.hist(column=['insulin'], range=[0, 500])"
   ]
  },
  {
   "cell_type": "code",
   "execution_count": 26,
   "metadata": {},
   "outputs": [
    {
     "data": {
      "image/png": "[encoded data removed]",
      "text/plain": [
       "<Figure size 432x288 with 1 Axes>"
      ]
     },
     "metadata": {
      "needs_background": "light"
     },
     "output_type": "display_data"
    }
   ],
   "source": [
    "hist_after = np.log(df[\"insulin\"]).hist()"
   ]
  },
  {
   "cell_type": "code",
   "execution_count": 27,
   "metadata": {},
   "outputs": [
    {
     "name": "stdout",
     "output_type": "stream",
     "text": [
      "15\n"
     ]
    },
    {
     "data": {
      "text/plain": [
       "count    549.000000\n",
       "mean       1.358597\n",
       "std        1.662584\n",
       "min        0.010000\n",
       "25%        0.110000\n",
       "50%        0.670000\n",
       "75%        2.000000\n",
       "max        8.100000\n",
       "Name: sugar, dtype: float64"
      ]
     },
     "execution_count": 27,
     "metadata": {},
     "output_type": "execute_result"
    },
    {
     "data": {
      "image/png": "[encoded data removed]",
      "text/plain": [
       "<Figure size 432x288 with 1 Axes>"
      ]
     },
     "metadata": {
      "needs_background": "light"
     },
     "output_type": "display_data"
    },
    {
     "data": {
      "image/png": "[encoded data removed]",
      "text/plain": [
       "<Figure size 432x288 with 1 Axes>"
      ]
     },
     "metadata": {
      "needs_background": "light"
     },
     "output_type": "display_data"
    }
   ],
   "source": [
    "print(len(find_anomalies(df[\"sugar\"])))\n",
    "boxplot = df.boxplot(column=['sugar'])\n",
    "hist = df.hist(column=['sugar'])\n",
    "for i in find_anomalies(df[\"sugar\"]):\n",
    "    df = df[df.sugar != i]\n",
    "df[\"sugar\"].describe()"
   ]
  },
  {
   "cell_type": "code",
   "execution_count": 28,
   "metadata": {},
   "outputs": [
    {
     "data": {
      "image/png": "[encoded data removed]",
      "text/plain": [
       "<Figure size 432x288 with 1 Axes>"
      ]
     },
     "metadata": {
      "needs_background": "light"
     },
     "output_type": "display_data"
    }
   ],
   "source": [
    "hist_before = df.hist(column=['sugar'], range=[0, 9])"
   ]
  },
  {
   "cell_type": "code",
   "execution_count": 29,
   "metadata": {},
   "outputs": [
    {
     "data": {
      "image/png": "[encoded data removed]",
      "text/plain": [
       "<Figure size 432x288 with 1 Axes>"
      ]
     },
     "metadata": {
      "needs_background": "light"
     },
     "output_type": "display_data"
    }
   ],
   "source": [
    "hist_after = np.log(df[\"sugar\"]).hist()"
   ]
  },
  {
   "cell_type": "code",
   "execution_count": 30,
   "metadata": {
    "scrolled": true
   },
   "outputs": [
    {
     "name": "stdout",
     "output_type": "stream",
     "text": [
      "61\n"
     ]
    },
    {
     "data": {
      "text/plain": [
       "count    4691.000000\n",
       "mean      122.039650\n",
       "std        16.350069\n",
       "min        70.666667\n",
       "25%       110.666667\n",
       "50%       119.333333\n",
       "75%       131.333333\n",
       "max       176.000000\n",
       "Name: sysBP, dtype: float64"
      ]
     },
     "execution_count": 30,
     "metadata": {},
     "output_type": "execute_result"
    },
    {
     "data": {
      "image/png": "[encoded data removed]",
      "text/plain": [
       "<Figure size 432x288 with 1 Axes>"
      ]
     },
     "metadata": {
      "needs_background": "light"
     },
     "output_type": "display_data"
    },
    {
     "data": {
      "image/png": "[encoded data removed]",
      "text/plain": [
       "<Figure size 432x288 with 1 Axes>"
      ]
     },
     "metadata": {
      "needs_background": "light"
     },
     "output_type": "display_data"
    }
   ],
   "source": [
    "print(len(find_anomalies(df[\"sysBP\"])))\n",
    "boxplot = df.boxplot(column=['sysBP'])\n",
    "hist = df.hist(column=['sysBP'])\n",
    "for i in find_anomalies(df[\"sysBP\"]):\n",
    "    df = df[df.sysBP != i]\n",
    "df[\"sysBP\"].describe()"
   ]
  },
  {
   "cell_type": "code",
   "execution_count": 31,
   "metadata": {},
   "outputs": [
    {
     "data": {
      "image/png": "[encoded data removed]",
      "text/plain": [
       "<Figure size 432x288 with 1 Axes>"
      ]
     },
     "metadata": {
      "needs_background": "light"
     },
     "output_type": "display_data"
    }
   ],
   "source": [
    "hist_before = df.hist(column=[\"sysBP\"])"
   ]
  },
  {
   "cell_type": "code",
   "execution_count": 32,
   "metadata": {},
   "outputs": [
    {
     "name": "stdout",
     "output_type": "stream",
     "text": [
      "52\n"
     ]
    },
    {
     "data": {
      "text/plain": [
       "count    4639.000000\n",
       "mean       68.626141\n",
       "std        10.947227\n",
       "min        32.000000\n",
       "25%        61.333333\n",
       "50%        68.666667\n",
       "75%        75.333333\n",
       "max       104.666667\n",
       "Name: diaBP, dtype: float64"
      ]
     },
     "execution_count": 32,
     "metadata": {},
     "output_type": "execute_result"
    },
    {
     "data": {
      "image/png": "[encoded data removed]",
      "text/plain": [
       "<Figure size 432x288 with 1 Axes>"
      ]
     },
     "metadata": {
      "needs_background": "light"
     },
     "output_type": "display_data"
    },
    {
     "data": {
      "image/png": "[encoded data removed]",
      "text/plain": [
       "<Figure size 432x288 with 1 Axes>"
      ]
     },
     "metadata": {
      "needs_background": "light"
     },
     "output_type": "display_data"
    }
   ],
   "source": [
    "print(len(find_anomalies(df[\"diaBP\"])))\n",
    "boxplot = df.boxplot(column=['diaBP'])\n",
    "hist = df.hist(column=['diaBP'])\n",
    "for i in find_anomalies(df[\"diaBP\"]):\n",
    "    df = df[df.diaBP != i]\n",
    "df[\"diaBP\"].describe()"
   ]
  },
  {
   "cell_type": "code",
   "execution_count": 33,
   "metadata": {},
   "outputs": [
    {
     "data": {
      "image/png": "[encoded data removed]",
      "text/plain": [
       "<Figure size 432x288 with 1 Axes>"
      ]
     },
     "metadata": {
      "needs_background": "light"
     },
     "output_type": "display_data"
    }
   ],
   "source": [
    "hist_before = df.hist(column=['diaBP'], range=[30, 105])\n"
   ]
  },
  {
   "cell_type": "markdown",
   "metadata": {},
   "source": [
    "### Imputation of Missing values"
   ]
  },
  {
   "cell_type": "code",
   "execution_count": 34,
   "metadata": {},
   "outputs": [],
   "source": [
    "# purpose:   Plot histograms showing the distribution of a feature before and after filling NaN\n",
    "#            to see the change in distribution. This can tell you if the filling method is \n",
    "#            correct or not.\n",
    "# input:     feature0: str0\n",
    "#            feature: str\n",
    "#            title of the plot\n",
    "\n",
    "def plot_before_after(before,after,feature):\n",
    "    fig, ax = plt.subplots()\n",
    "    ax.hist(after,alpha=0.5,color='red')\n",
    "    ax.hist(before)\n",
    "    ax.legend(['after','before'])\n",
    "    plt.title('Before vs. After(no NaN):'+feature)\n",
    "    plt.ylabel('Frequency')\n",
    "\n",
    "def plot_feature(feature):\n",
    "    plt.figure()\n",
    "    df[feature].hist()\n",
    "    plt.title(feature)\n",
    "    plt.ylabel('Frequency')"
   ]
  },
  {
   "cell_type": "code",
   "execution_count": 35,
   "metadata": {},
   "outputs": [],
   "source": [
    "# function:  fill_NaN(df, feature, fill_type)\n",
    "# purpose:   fill the missing values in ***one column/feature*** in the given df. \n",
    "# input:     df: the df containing the target column to be filled\n",
    "#            feature: the column whose NaN's are dealt with\n",
    "#            fill_type: choose among -> 'mean', 'mode', 'zero' \n",
    "#                       mean: if the feature is continuous without outliers - normal distribution\n",
    "#                       median: if the feature is continuous with outliers - skewed distribution\n",
    "#                       mode: if the feature is categorical\n",
    "# output:    a df whose target column is filled (no more NaN in that col)\n",
    "\n",
    "def fill_NaN(df, feature, fill_type):    \n",
    "    before_filling = df[feature].dropna().copy(deep=True)\n",
    "    if fill_type == 'mean':\n",
    "        after_filling = df[feature].fillna(df[feature].dropna().mean())\n",
    "    elif fill_type == 'mode':\n",
    "        after_filling = df[feature].fillna(df[feature].dropna().mode().iloc[0])\n",
    "    elif fill_type == 'std':\n",
    "        after_filling = fill_NaN_std(df, feature)\n",
    "#     elif fill_type == 'median':\n",
    "#         after_filling = df[feature].fillna(df[feature].dropna().median())\n",
    "    else:\n",
    "        # fill type == 'zero' (new category)\n",
    "        # set missing values as another category \n",
    "        # cannot set this new cat as 0 since there could be 0 after applying clean_epsilon function  \n",
    "        # need to get a unique number representing NaN as a new category \n",
    "        new_type = 0\n",
    "        after_filling = df[feature].fillna(new_type)   \n",
    "    df[feature] = after_filling\n",
    "    plot_before_after(before_filling, after_filling, feature)\n",
    "    return df\n",
    "\n",
    "\n",
    "def fill_NaN_std(df,feature):\n",
    "    feature_avg = df[feature].mean()\n",
    "    feature_std = df[feature].std()\n",
    "    feature_null_count = df[feature].isnull().sum()\n",
    "    feature_null_random_list = np.random.randint(feature_avg - feature_std, feature_avg + feature_std, size=feature_null_count)\n",
    "    df[feature][np.isnan(df[feature])] = feature_null_random_list\n",
    "    after_filling = df[feature].astype(int)\n",
    "    return after_filling\n",
    "\n",
    "\n"
   ]
  },
  {
   "cell_type": "code",
   "execution_count": 36,
   "metadata": {},
   "outputs": [],
   "source": [
    "# function:  predict_NaN_with_ML(df,x,y,data_type,model)\n",
    "# purpose:   predict the values of NaN and fill these predicted values back into the dataframe\n",
    "# input:     df: the dataframe containing the features used for prediction and target y(target feature)\n",
    "#            x: a list of strings - features used for prediction - no NAN in all x's\n",
    "#            y: a string - target feature\n",
    "#            data_type: a string ->'categorical','numerical'\n",
    "#            \n",
    "# process: CV was used to set the hyperparamters ; and the model with a higher accuracy was chosen to impute the missing data\n",
    "\n",
    "\n",
    "def predict_NaN_with_ML(df,x,y,data_type):\n",
    "    before_filling = df[y].dropna().copy(deep=True)\n",
    "    # build model using valid entries  \n",
    "    valid_entries = df[df[y].notnull()]                # rows where y is not NaN (valid entries)\n",
    "    print(valid_entries)\n",
    "    valid_entries_x = valid_entries[x]                 # all x's for valid rows (x's are not NaN)\n",
    "    print(valid_entries_x)\n",
    "    valid_entries_y = valid_entries[y]                 # y for valid rows (y's are not NaN) \n",
    "    print(valid_entries_y)\n",
    "    valid_entries_x = valid_entries_x.astype(float)    # change data type to float\n",
    "    valid_entries_y = valid_entries_y.astype(float)\n",
    "    \n",
    "        \n",
    "    if data_type == 'categorical':\n",
    "        #Random Forest\n",
    "        n_estimators = [int(x) for x in np.linspace(start = 5, stop = 10, num = 1)]\n",
    "        max_features = ['auto', 'sqrt']\n",
    "        max_depth = [int(x) for x in np.linspace(10, 110, num = 11)]\n",
    "        max_depth.append(None)\n",
    "        min_samples_split = [10, 20]\n",
    "        min_samples_leaf = [10, 20]\n",
    "        bootstrap = [True, False]\n",
    "        random_grid = {'n_estimators': n_estimators,\n",
    "        'max_features': max_features,\n",
    "        'max_depth': max_depth,\n",
    "        'min_samples_split': min_samples_split,\n",
    "        'min_samples_leaf': min_samples_leaf,\n",
    "        'bootstrap': bootstrap}\n",
    "        rf = RandomForestClassifier()\n",
    "        rf_random = RandomizedSearchCV(estimator = rf, param_distributions = random_grid, n_iter = 100, cv = 5, verbose=2, random_state=42, n_jobs = -1)\n",
    "        rf_random.fit(valid_entries_x, valid_entries_y)\n",
    "        estimators = rf_random.best_params_['n_estimators']\n",
    "        features = rf_random.best_params_['max_features']\n",
    "        depth = rf_random.best_params_['max_depth']\n",
    "        samples_split_min = rf_random.best_params_['min_samples_split']\n",
    "        samples_leaf_min = rf_random.best_params_['min_samples_leaf']\n",
    "        bstrap = rf_random.best_params_['bootstrap']\n",
    "        rf_random.best_score_\n",
    "        print(\"The best accuracy of\", rf_random.best_score_, \"is given by\",estimators , \"estimators\", features, \"max features\", depth, \"max_depth\",samples_split_min, \"min samples split\", samples_leaf_min,\"min samples leaf\", bstrap, \"bootstrap\", \"parameters\" )\n",
    "\n",
    "\n",
    "        #kNN\n",
    "        k_range = list(range(1, 50))\n",
    "        param_grid = dict(n_neighbors=k_range)\n",
    "        grid = GridSearchCV(KNeighborsClassifier(), param_grid, cv=5, scoring='accuracy')\n",
    "        grid.fit(valid_entries_x, valid_entries_y)\n",
    "        k = grid.best_params_[\"n_neighbors\"]\n",
    "        print(\"The best accuracy of\", grid.best_score_, \"is given by\", k, \"clusters\")\n",
    "\n",
    "            \n",
    "       \n",
    "        if rf_random.best_score_>grid.best_score_ :\n",
    "            algo = RandomForestClassifier(n_estimators=estimators,max_features=features,max_depth=depth,min_samples_split=samples_split_min,  min_samples_leaf=samples_leaf_min, bootstrap =  bstrap)   \n",
    "            print(\"Random Forest provides better accuracy\")\n",
    "            algo.fit(valid_entries_x, valid_entries_y)\n",
    "               \n",
    "            #predict y (target feature)\n",
    "            nan_entries = df[df[y].isnull()]                    # rows where y is NaN     \n",
    "            nan_entries_x = nan_entries[x].astype(float)    \n",
    "            nan_entries_y = nan_entries[y].astype(float)\n",
    "    \n",
    "            predict_y = algo.predict(nan_entries_x)             # predict NaN y based on x on the same entries    \n",
    "            df.loc[df[y].isna(), y] = predict_y                 # fill the missing values with predicted data\n",
    "            print('Features used for predicting',y, 'are:',x)\n",
    "            print('The number of predicted values:',len(predict_y))\n",
    "    \n",
    "            after_filling = df[y]\n",
    "            plot_before_after(before_filling, after_filling, y)\n",
    "        else:\n",
    "            algo = KNeighborsClassifier(n_neighbors=k)\n",
    "            print(\"kNN provides better accuracy\")\n",
    "            algo.fit(valid_entries_x, valid_entries_y)\n",
    "            \n",
    "            #predict y (target feature)\n",
    "            nan_entries = df[df[y].isnull()]                    # rows where y is NaN     \n",
    "            nan_entries_x = nan_entries[x].astype(float)    \n",
    "            nan_entries_y = nan_entries[y].astype(float)\n",
    "    \n",
    "            predict_y = algo.predict(nan_entries_x)             # predict NaN y based on x on the same entries    \n",
    "            df.loc[df[y].isna(), y] = predict_y                 # fill the missing values with predicted data\n",
    "            print('Features used for predicting',y, 'are:',x)\n",
    "            print('The number of predicted values:',len(predict_y))\n",
    "    \n",
    "            after_filling = df[y]\n",
    "            plot_before_after(before_filling, after_filling, y)\n",
    "\n",
    "                \n",
    "    elif data_type == 'numerical':\n",
    "        #Random Forest\n",
    "        n_estimators = [int(x) for x in np.linspace(start = 5, stop = 10, num = 1)]\n",
    "        max_features = ['auto', 'sqrt']\n",
    "        max_depth = [int(x) for x in np.linspace(10, 110, num = 11)]\n",
    "        max_depth.append(None)\n",
    "        min_samples_split = [10, 20]\n",
    "        min_samples_leaf = [10, 20]\n",
    "        bootstrap = [True, False]\n",
    "        random_grid = {'n_estimators': n_estimators,\n",
    "        'max_features': max_features,\n",
    "        'max_depth': max_depth,\n",
    "        'min_samples_split': min_samples_split,\n",
    "        'min_samples_leaf': min_samples_leaf,\n",
    "        'bootstrap': bootstrap}\n",
    "        rf = RandomForestRegressor()\n",
    "        rf_random = RandomizedSearchCV(estimator = rf, param_distributions = random_grid, n_iter = 100, cv = 5, verbose=2, random_state=42, n_jobs = -1)\n",
    "        rf_random.fit(valid_entries_x, valid_entries_y)\n",
    "        estimators = rf_random.best_params_['n_estimators']\n",
    "        features = rf_random.best_params_['max_features']\n",
    "        depth = rf_random.best_params_['max_depth']\n",
    "        samples_split_min = rf_random.best_params_['min_samples_split']\n",
    "        samples_leaf_min = rf_random.best_params_['min_samples_leaf']\n",
    "        bstrap = rf_random.best_params_['bootstrap']\n",
    "        rf_random.best_score_\n",
    "        print(\"The best accuracy of\", rf_random.best_score_, \"is given by\",estimators , \"estimators\", features, \"max features\", depth, \"max_depth\",samples_split_min, \"min samples split\", samples_leaf_min,\"min samples leaf\", bstrap, \"bootstrap\", \"parameters\" )\n",
    "\n",
    "        #kNN\n",
    "        k_range = list(range(1, 50))\n",
    "        param_grid = dict(n_neighbors=k_range)\n",
    "        grid = GridSearchCV(KNeighborsRegressor(), param_grid, cv=5)\n",
    "        grid.fit(valid_entries_x, valid_entries_y)\n",
    "        k = grid.best_params_[\"n_neighbors\"]\n",
    "        print(\"The best accuracy of\", grid.best_score_, \"is given by\", k, \"clusters\")\n",
    "        \n",
    "        \n",
    "        \n",
    "        if rf_random.best_score_>grid.best_score_ :\n",
    "            algo = RandomForestRegressor(n_estimators=estimators,max_features=features,max_depth=depth,  min_samples_split=samples_split_min,  min_samples_leaf=samples_leaf_min, bootstrap =  bstrap)   \n",
    "            print(\"Random Forest provides better accuracy\")\n",
    "            algo.fit(valid_entries_x, valid_entries_y)\n",
    "               \n",
    "            #predict y (target feature)\n",
    "            nan_entries = df[df[y].isnull()]                    # rows where y is NaN     \n",
    "            nan_entries_x = nan_entries[x].astype(float)    \n",
    "            nan_entries_y = nan_entries[y].astype(float)\n",
    "    \n",
    "            predict_y = algo.predict(nan_entries_x)             # predict NaN y based on x on the same entries    \n",
    "            df.loc[df[y].isna(), y] = predict_y                 # fill the missing values with predicted data\n",
    "            print('Features used for predicting',y, 'are:',x)\n",
    "            print('The number of predicted values:',len(predict_y))\n",
    "    \n",
    "            after_filling = df[y]\n",
    "            plot_before_after(before_filling, after_filling, y)\n",
    "        else:\n",
    "            algo = KNeighborsRegressor(n_neighbors=k)\n",
    "            print(\"kNN provides better accuracy\")\n",
    "            categorial = ['12drinksayear','5drinksaday','5drinks2hours','gender','race']\n",
    "            numerical = ['BMI','LDL','age','fasting_glucose','sysBP','diaBP','sugar']\n",
    "            for i in x:\n",
    "                if i in numerical:\n",
    "                    valid_entries_x['i'] = preprocessing.scale(valid_entries_x['i'])\n",
    "   \n",
    "            algo.fit(valid_entries_x, valid_entries_y)\n",
    "            \n",
    "            #predict y (target feature)\n",
    "            nan_entries = df[df[y].isnull()]                    # rows where y is NaN     \n",
    "            nan_entries_x = nan_entries[x].astype(float)    \n",
    "            nan_entries_y = nan_entries[y].astype(float)\n",
    "    \n",
    "            predict_y = algo.predict(nan_entries_x)             # predict NaN y based on x on the same entries    \n",
    "            df.loc[df[y].isna(), y] = predict_y                 # fill the missing values with predicted data\n",
    "            print('Features used for predicting',y, 'are:',x)\n",
    "            print('The number of predicted values:',len(predict_y))\n",
    "    \n",
    "            after_filling = df[y]\n",
    "            plot_before_after(before_filling, after_filling, y)\n",
    "    "
   ]
  },
  {
   "cell_type": "code",
   "execution_count": 37,
   "metadata": {},
   "outputs": [
    {
     "name": "stdout",
     "output_type": "stream",
     "text": [
      "439 patient entries are dropped since they contain more than 6 NaN variables\n"
     ]
    }
   ],
   "source": [
    "#Drop the entire patient entry if that entry contains more than 6 NaN features out of 16 features (keep entries with more than 10 non-NaN values)\n",
    "before = len(df.index)\n",
    "df.dropna(thresh = 10,inplace = True)\n",
    "after = len(df.index)\n",
    "print(before-after,'patient entries are dropped since they contain more than 6 NaN variables')"
   ]
  },
  {
   "cell_type": "code",
   "execution_count": 38,
   "metadata": {},
   "outputs": [
    {
     "name": "stdout",
     "output_type": "stream",
     "text": [
      "<class 'pandas.core.frame.DataFrame'>\n",
      "Float64Index: 4640 entries, 73559.0 to 93697.0\n",
      "Data columns (total 13 columns):\n",
      "BMI                4607 non-null float64\n",
      "HDL                4639 non-null float64\n",
      "LDL                4433 non-null float64\n",
      "age                4640 non-null float64\n",
      "alc_days_year      3586 non-null float64\n",
      "diabetes           4640 non-null float64\n",
      "fasting_glucose    4634 non-null float64\n",
      "gender             4640 non-null float64\n",
      "insulin            4585 non-null float64\n",
      "race               4640 non-null float64\n",
      "sugar              511 non-null float64\n",
      "sysBP              4380 non-null float64\n",
      "diaBP              4380 non-null float64\n",
      "dtypes: float64(13)\n",
      "memory usage: 507.5 KB\n"
     ]
    }
   ],
   "source": [
    "df.info()\n"
   ]
  },
  {
   "cell_type": "markdown",
   "metadata": {},
   "source": [
    "### Adding dummy variables to indicate missing value in a given row for each feature"
   ]
  },
  {
   "cell_type": "code",
   "execution_count": 39,
   "metadata": {},
   "outputs": [
    {
     "name": "stdout",
     "output_type": "stream",
     "text": [
      "       BMI   HDL    LDL   age  alc_days_year  diabetes  fasting_glucose  \\\n",
      "0     28.9  1.55  1.448  72.0            0.0       1.0           10.713   \n",
      "1     19.7  2.20  2.612  73.0            0.0       2.0            5.940   \n",
      "2     35.7  1.50  2.508  61.0            2.0       2.0            6.106   \n",
      "3     20.3  2.48  1.733  26.0            2.0       2.0            4.940   \n",
      "4     22.8  1.37  1.940  33.0            NaN       2.0            4.663   \n",
      "...    ...   ...    ...   ...            ...       ...              ...   \n",
      "4635  22.2  1.63  2.793  34.0            2.0       2.0            4.770   \n",
      "4636  20.9  1.68    NaN  41.0            NaN       2.0            6.830   \n",
      "4637  28.1  2.09  1.888  69.0            0.0       1.0            6.000   \n",
      "4638  21.5  1.76  1.448  76.0            NaN       2.0            5.830   \n",
      "4639  31.0  2.90  3.284  80.0            2.0       2.0            5.500   \n",
      "\n",
      "      gender  insulin  race  ...  gender_NaN  LDL_NaN  HDL_NaN  insulin_NaN  \\\n",
      "0        1.0    34.98   3.0  ...           0        0        0            0   \n",
      "1        2.0    36.72   3.0  ...           0        0        0            0   \n",
      "2        2.0    89.46   3.0  ...           0        0        0            0   \n",
      "3        2.0    23.10   3.0  ...           0        0        0            0   \n",
      "4        2.0    36.30   6.0  ...           0        0        0            0   \n",
      "...      ...      ...   ...  ...         ...      ...      ...          ...   \n",
      "4635     2.0    19.26   3.0  ...           0        0        0            0   \n",
      "4636     2.0   221.16   6.0  ...           0        1        0            0   \n",
      "4637     2.0    30.18   1.0  ...           0        0        0            0   \n",
      "4638     2.0   187.44   3.0  ...           0        0        0            0   \n",
      "4639     2.0    38.70   3.0  ...           0        0        0            0   \n",
      "\n",
      "      age_NaN  race_NaN  sugar_NaN  sysBP_NaN  diaBP_NaN  alc_days_year_NaN  \n",
      "0           0         0          1          0          0                  0  \n",
      "1           0         0          1          0          0                  0  \n",
      "2           0         0          0          0          0                  0  \n",
      "3           0         0          1          0          0                  0  \n",
      "4           0         0          1          0          0                  1  \n",
      "...       ...       ...        ...        ...        ...                ...  \n",
      "4635        0         0          1          0          0                  0  \n",
      "4636        0         0          1          0          0                  1  \n",
      "4637        0         0          1          0          0                  0  \n",
      "4638        0         0          1          0          0                  1  \n",
      "4639        0         0          1          0          0                  0  \n",
      "\n",
      "[4640 rows x 25 columns]\n"
     ]
    }
   ],
   "source": [
    "df.index = range(len(df))\n",
    "for x in ['BMI', 'fasting_glucose', 'gender', 'LDL','HDL','insulin','age', 'race', 'sugar', 'sysBP', 'diaBP','alc_days_year']:\n",
    "    dummy=pd.get_dummies(df[x],dummy_na=True)\n",
    "    dummy.columns=dummy.columns.astype(str)\n",
    "    y=x+\"_\"+\"NaN\"\n",
    "    dummy.rename(columns={'nan':y},inplace= True)\n",
    "    s=pd.DataFrame(dummy[y])\n",
    "    df=pd.concat([df,s],axis=1)\n",
    "print(df)"
   ]
  },
  {
   "cell_type": "markdown",
   "metadata": {},
   "source": [
    "### BMI was first chosen as it had the lowest % of missing values "
   ]
  },
  {
   "cell_type": "markdown",
   "metadata": {},
   "source": [
    "#### Numerical variable with no cstr\n",
    "below 18.5 – underweight\n",
    "between 18.5 and 24.9 – healthy weight range\n",
    "between 25 and 29.9 - overweight (diabetes risk factor)"
   ]
  },
  {
   "cell_type": "code",
   "execution_count": 40,
   "metadata": {},
   "outputs": [
    {
     "name": "stdout",
     "output_type": "stream",
     "text": [
      "\n",
      "The NaN ratio in BMI is 0.007\n",
      "Since NaN ratio is small, fill NaN directly with fill type: mode, mean, new category\n",
      "Now call function: fill_NaN(df, feature, fill_type)\n"
     ]
    },
    {
     "data": {
      "text/plain": [
       "count    4640.000000\n",
       "mean       28.596440\n",
       "std         6.430172\n",
       "min        15.100000\n",
       "25%        23.900000\n",
       "50%        27.700000\n",
       "75%        32.100000\n",
       "max        50.500000\n",
       "Name: BMI, dtype: float64"
      ]
     },
     "execution_count": 40,
     "metadata": {},
     "output_type": "execute_result"
    },
    {
     "data": {
      "image/png": "[encoded data removed]",
      "text/plain": [
       "<Figure size 432x288 with 1 Axes>"
      ]
     },
     "metadata": {
      "needs_background": "light"
     },
     "output_type": "display_data"
    }
   ],
   "source": [
    "get_NaN_ratio(df,'BMI')\n",
    "fill_NaN(df,'BMI','mean')\n",
    "df['BMI'].describe()"
   ]
  },
  {
   "cell_type": "markdown",
   "metadata": {},
   "source": [
    "### Fasting glucose has the second highest % of missing data"
   ]
  },
  {
   "cell_type": "markdown",
   "metadata": {},
   "source": [
    "#### \n",
    "The fasting plasma glucose test (FPG) is the preferred method of screening for diabetes. The FPG measures a person's blood sugar level after fasting or not eating anything for at least 8 hours.\n",
    "\n",
    "The global mean fasting plasma blood glucose level in humans is about 5.5 mmol/L (100 mg/dL); however, this level fluctuates throughout the day.\n",
    "FPG test results:\n",
    "normal: less than 5.6 mmol/L\n",
    "prediabetes: 5.6 ~ 6.9 mmol/L\n",
    "diabetes: 7 mmol/L or higher (on two separate tests)"
   ]
  },
  {
   "cell_type": "code",
   "execution_count": 41,
   "metadata": {},
   "outputs": [
    {
     "name": "stdout",
     "output_type": "stream",
     "text": [
      "\n",
      "The NaN ratio in fasting_glucose is 0.001\n",
      "Since NaN ratio is small, fill NaN directly with fill type: mode, mean, new category\n",
      "Now call function: fill_NaN(df, feature, fill_type)\n"
     ]
    },
    {
     "data": {
      "text/plain": [
       "count    4640.000000\n",
       "mean        5.797391\n",
       "std         1.156427\n",
       "min         1.170000\n",
       "25%         5.162000\n",
       "50%         5.550000\n",
       "75%         6.051000\n",
       "max        12.212000\n",
       "Name: fasting_glucose, dtype: float64"
      ]
     },
     "execution_count": 41,
     "metadata": {},
     "output_type": "execute_result"
    },
    {
     "data": {
      "image/png": "[encoded data removed]",
      "text/plain": [
       "<Figure size 432x288 with 1 Axes>"
      ]
     },
     "metadata": {
      "needs_background": "light"
     },
     "output_type": "display_data"
    }
   ],
   "source": [
    "get_NaN_ratio(df,'fasting_glucose')\n",
    "df = fill_NaN(df,'fasting_glucose','mean')\n",
    "df['fasting_glucose'].describe()"
   ]
  },
  {
   "cell_type": "markdown",
   "metadata": {},
   "source": [
    "### HDL"
   ]
  },
  {
   "cell_type": "code",
   "execution_count": 42,
   "metadata": {},
   "outputs": [
    {
     "name": "stdout",
     "output_type": "stream",
     "text": [
      "\n",
      "The NaN ratio in HDL is 0.000\n",
      "Since NaN ratio is small, fill NaN directly with fill type: mode, mean, new category\n",
      "Now call function: fill_NaN(df, feature, fill_type)\n"
     ]
    },
    {
     "data": {
      "image/png": "[encoded data removed]",
      "text/plain": [
       "<Figure size 432x288 with 1 Axes>"
      ]
     },
     "metadata": {
      "needs_background": "light"
     },
     "output_type": "display_data"
    }
   ],
   "source": [
    "# Check for NaN \n",
    "get_NaN_ratio(df,'HDL')\n",
    "\n",
    "# Since NaN ratios are small, replace NaN with mean values\n",
    "df = fill_NaN(df,'HDL','mean')\n"
   ]
  },
  {
   "cell_type": "markdown",
   "metadata": {},
   "source": [
    "### Insulin"
   ]
  },
  {
   "cell_type": "code",
   "execution_count": 43,
   "metadata": {},
   "outputs": [
    {
     "name": "stdout",
     "output_type": "stream",
     "text": [
      "\n",
      "The NaN ratio in insulin is 0.012\n",
      "Since NaN ratio is small, fill NaN directly with fill type: mode, mean, new category\n",
      "Now call function: fill_NaN(df, feature, fill_type)\n"
     ]
    },
    {
     "data": {
      "image/png": "[encoded data removed]",
      "text/plain": [
       "<Figure size 432x288 with 1 Axes>"
      ]
     },
     "metadata": {
      "needs_background": "light"
     },
     "output_type": "display_data"
    }
   ],
   "source": [
    "# Check for NaN \n",
    "get_NaN_ratio(df,'insulin')\n",
    "\n",
    "# Since NaN ratios are small, replace NaN with mean values\n",
    "df = fill_NaN(df,'insulin','mean')\n"
   ]
  },
  {
   "cell_type": "markdown",
   "metadata": {},
   "source": [
    "### Blood Pressure"
   ]
  },
  {
   "cell_type": "markdown",
   "metadata": {},
   "source": [
    "####\n",
    "High blood pressure, or hypertension, is a condition that’s seen in people with type 2 diabetes. It’s unknown why there’s such a significant relationship between the two diseases. It’s believed that the following contribute to both conditions:\n",
    "\n",
    "obesity\n",
    "a diet high in fat and sodium\n",
    "chronic inflammation\n",
    "inactivity\n",
    "The combination of high blood pressure and type 2 diabetes is particularly lethal and can significantly raise your risk of having a heart attack or stroke."
   ]
  },
  {
   "cell_type": "code",
   "execution_count": 44,
   "metadata": {},
   "outputs": [
    {
     "name": "stdout",
     "output_type": "stream",
     "text": [
      "\n",
      "The NaN ratio in sysBP is 0.056\n",
      "Since NaN ratio is small, fill NaN directly with fill type: mode, mean, new category\n",
      "Now call function: fill_NaN(df, feature, fill_type)\n",
      "\n",
      "The NaN ratio in diaBP is 0.056\n",
      "Since NaN ratio is small, fill NaN directly with fill type: mode, mean, new category\n",
      "Now call function: fill_NaN(df, feature, fill_type)\n"
     ]
    },
    {
     "data": {
      "image/png": "[encoded data removed]",
      "text/plain": [
       "<Figure size 432x288 with 1 Axes>"
      ]
     },
     "metadata": {
      "needs_background": "light"
     },
     "output_type": "display_data"
    },
    {
     "data": {
      "image/png": "[encoded data removed]",
      "text/plain": [
       "<Figure size 432x288 with 1 Axes>"
      ]
     },
     "metadata": {
      "needs_background": "light"
     },
     "output_type": "display_data"
    }
   ],
   "source": [
    "# Check for NaN in sysBP and diaBP\n",
    "get_NaN_ratio(df,'sysBP')\n",
    "get_NaN_ratio(df,'diaBP')\n",
    "\n",
    "# Since NaN ratios are small, replace NaN with mean values\n",
    "df = fill_NaN(df,'sysBP','mean')\n",
    "df = fill_NaN(df,'diaBP','mean')"
   ]
  },
  {
   "cell_type": "markdown",
   "metadata": {},
   "source": [
    "### LDL "
   ]
  },
  {
   "cell_type": "markdown",
   "metadata": {},
   "source": [
    "####\n",
    "cholesterol (mg/dL) - values: 23 to 277\n",
    "LDL stands for low-density lipoproteins. It is sometimes called the \"bad\" cholesterol because a high LDL level leads to a buildup of cholesterol in your arteries. This extra LDL, along with other substances, forms plaque.\n",
    "Diabetes tends to lower HDL levels and raise triglyceride and LDL levels, which increases the risk for heart disease and stroke."
   ]
  },
  {
   "cell_type": "code",
   "execution_count": 45,
   "metadata": {},
   "outputs": [
    {
     "name": "stdout",
     "output_type": "stream",
     "text": [
      "\n",
      "The NaN ratio in LDL is 0.045\n",
      "Since NaN ratio is small, fill NaN directly with fill type: mode, mean, new category\n",
      "Now call function: fill_NaN(df, feature, fill_type)\n",
      "\n",
      "NaN    0\n",
      "2.833058    207\n",
      "2.664000     69\n",
      "2.948000     65\n",
      "2.845000     60\n",
      "2.379000     60\n",
      "           ... \n",
      "0.802000      1\n",
      "1.060000      1\n",
      "5.534000      1\n",
      "0.724000      1\n",
      "5.405000      1\n",
      "Name: LDL, Length: 189, dtype: int64\n"
     ]
    },
    {
     "data": {
      "image/png": "[encoded data removed]",
      "text/plain": [
       "<Figure size 432x288 with 1 Axes>"
      ]
     },
     "metadata": {
      "needs_background": "light"
     },
     "output_type": "display_data"
    }
   ],
   "source": [
    "# Check for NaN \n",
    "get_NaN_ratio(df,'LDL')\n",
    "df = fill_NaN(df,'LDL','mean')\n",
    "get_value_count(df,'LDL')"
   ]
  },
  {
   "cell_type": "markdown",
   "metadata": {},
   "source": [
    "### Diabetes"
   ]
  },
  {
   "cell_type": "code",
   "execution_count": 46,
   "metadata": {},
   "outputs": [],
   "source": [
    "# Change 2(NHANES for No) to 0(False - boolean) for features with YES/NO answers\n",
    "df.loc[df['diabetes'] == 2,['diabetes']] = 0\n",
    "df['diabetes'].value_counts()\n",
    "df = process_cstr(df,feature='diabetes',method='drop',cstr=[7,9])"
   ]
  },
  {
   "cell_type": "code",
   "execution_count": 47,
   "metadata": {},
   "outputs": [
    {
     "name": "stdout",
     "output_type": "stream",
     "text": [
      "\n",
      "The NaN ratio in diabetes is 0.000\n",
      "No missing values detected\n"
     ]
    },
    {
     "data": {
      "text/plain": [
       "0.0    4034\n",
       "1.0     480\n",
       "3.0     124\n",
       "Name: diabetes, dtype: int64"
      ]
     },
     "execution_count": 47,
     "metadata": {},
     "output_type": "execute_result"
    }
   ],
   "source": [
    "get_NaN_ratio(df,'diabetes')\n",
    "df['diabetes'].value_counts()"
   ]
  },
  {
   "cell_type": "code",
   "execution_count": 48,
   "metadata": {},
   "outputs": [
    {
     "name": "stdout",
     "output_type": "stream",
     "text": [
      "10.34928848641656 % people have diabetes\n",
      "2.673566192324278 % people are pre diabetes\n",
      "86.97714532125916 % people do not have diabetes\n"
     ]
    }
   ],
   "source": [
    "db_counts = df['diabetes'].value_counts().to_dict()\n",
    "percentage_yes_db = db_counts[1.0]/df['diabetes'].shape[0]\n",
    "percentage_pre_db = db_counts[3.0]/df['diabetes'].shape[0]\n",
    "percentage_no_db = db_counts[0.0]/df['diabetes'].shape[0]\n",
    "print(percentage_yes_db*100,'% people have diabetes')\n",
    "print(percentage_pre_db*100,'% people are pre diabetes')\n",
    "print(percentage_no_db*100,'% people do not have diabetes')\n"
   ]
  },
  {
   "cell_type": "code",
   "execution_count": 49,
   "metadata": {},
   "outputs": [
    {
     "name": "stdout",
     "output_type": "stream",
     "text": [
      "10.633584404076208 % people have diabetes\n",
      "89.36641559592378 % people do not have diabetes\n",
      "Baseline accuracy 89.36641559592378\n"
     ]
    }
   ],
   "source": [
    "df = df[df['diabetes'] != 3.0]\n",
    "df['diabetes'].value_counts()\n",
    "percentage_yes_db = db_counts[1.0]/df['diabetes'].shape[0]\n",
    "percentage_no_db = db_counts[0.0]/df['diabetes'].shape[0]\n",
    "print(percentage_yes_db*100,'% people have diabetes')\n",
    "print(percentage_no_db*100,'% people do not have diabetes')\n",
    "print('Baseline accuracy',percentage_no_db*100)\n"
   ]
  },
  {
   "cell_type": "code",
   "execution_count": 50,
   "metadata": {},
   "outputs": [
    {
     "name": "stdout",
     "output_type": "stream",
     "text": [
      "<class 'pandas.core.frame.DataFrame'>\n",
      "Int64Index: 4514 entries, 0 to 4639\n",
      "Data columns (total 25 columns):\n",
      "BMI                    4514 non-null float64\n",
      "HDL                    4514 non-null float64\n",
      "LDL                    4514 non-null float64\n",
      "age                    4514 non-null float64\n",
      "alc_days_year          3484 non-null float64\n",
      "diabetes               4514 non-null float64\n",
      "fasting_glucose        4514 non-null float64\n",
      "gender                 4514 non-null float64\n",
      "insulin                4514 non-null float64\n",
      "race                   4514 non-null float64\n",
      "sugar                  495 non-null float64\n",
      "sysBP                  4514 non-null float64\n",
      "diaBP                  4514 non-null float64\n",
      "BMI_NaN                4514 non-null uint8\n",
      "fasting_glucose_NaN    4514 non-null uint8\n",
      "gender_NaN             4514 non-null uint8\n",
      "LDL_NaN                4514 non-null uint8\n",
      "HDL_NaN                4514 non-null uint8\n",
      "insulin_NaN            4514 non-null uint8\n",
      "age_NaN                4514 non-null uint8\n",
      "race_NaN               4514 non-null uint8\n",
      "sugar_NaN              4514 non-null uint8\n",
      "sysBP_NaN              4514 non-null uint8\n",
      "diaBP_NaN              4514 non-null uint8\n",
      "alc_days_year_NaN      4514 non-null uint8\n",
      "dtypes: float64(13), uint8(12)\n",
      "memory usage: 546.6 KB\n"
     ]
    }
   ],
   "source": [
    "#Final NaN check\n",
    "df.info()"
   ]
  },
  {
   "cell_type": "code",
   "execution_count": 51,
   "metadata": {},
   "outputs": [],
   "source": [
    "#Drop Sugar and alc_days_year since they have a high % of missing values \n",
    "df.drop(['sugar', 'alc_days_year'], axis=1, inplace = True)\n"
   ]
  },
  {
   "cell_type": "markdown",
   "metadata": {},
   "source": [
    "### One Hot Encoding"
   ]
  },
  {
   "cell_type": "code",
   "execution_count": 52,
   "metadata": {},
   "outputs": [
    {
     "name": "stdout",
     "output_type": "stream",
     "text": [
      "<class 'pandas.core.frame.DataFrame'>\n",
      "Int64Index: 4514 entries, 0 to 4639\n",
      "Data columns (total 27 columns):\n",
      "BMI                    4514 non-null float64\n",
      "HDL                    4514 non-null float64\n",
      "LDL                    4514 non-null float64\n",
      "age                    4514 non-null float64\n",
      "diabetes               4514 non-null float64\n",
      "fasting_glucose        4514 non-null float64\n",
      "insulin                4514 non-null float64\n",
      "sysBP                  4514 non-null float64\n",
      "diaBP                  4514 non-null float64\n",
      "BMI_NaN                4514 non-null uint8\n",
      "fasting_glucose_NaN    4514 non-null uint8\n",
      "gender_NaN             4514 non-null uint8\n",
      "LDL_NaN                4514 non-null uint8\n",
      "HDL_NaN                4514 non-null uint8\n",
      "insulin_NaN            4514 non-null uint8\n",
      "age_NaN                4514 non-null uint8\n",
      "race_NaN               4514 non-null uint8\n",
      "sugar_NaN              4514 non-null uint8\n",
      "sysBP_NaN              4514 non-null uint8\n",
      "diaBP_NaN              4514 non-null uint8\n",
      "alc_days_year_NaN      4514 non-null uint8\n",
      "race_1.0               4514 non-null uint8\n",
      "race_2.0               4514 non-null uint8\n",
      "race_3.0               4514 non-null uint8\n",
      "race_4.0               4514 non-null uint8\n",
      "race_6.0               4514 non-null uint8\n",
      "gender_1.0             4514 non-null uint8\n",
      "dtypes: float64(9), uint8(18)\n",
      "memory usage: 432.0 KB\n"
     ]
    }
   ],
   "source": [
    "#Race\n",
    "df['race'] = pd.Categorical(df['race'])\n",
    "dfDummies = pd.get_dummies(df['race'], prefix = 'race')\n",
    "df = pd.concat([df, dfDummies], axis=1)\n",
    "\n",
    "#Gender\n",
    "df['gender'] = pd.Categorical(df['gender'])\n",
    "dfDummies = pd.get_dummies(df['gender'], prefix = 'gender')\n",
    "df = pd.concat([df, dfDummies], axis=1)\n",
    "\n",
    "df.drop(['race', 'gender', 'race_7.0', 'gender_2.0'], axis=1, inplace = True)\n",
    "\n",
    "df.info()\n"
   ]
  },
  {
   "cell_type": "markdown",
   "metadata": {},
   "source": [
    "### Test-Train Split"
   ]
  },
  {
   "cell_type": "code",
   "execution_count": 53,
   "metadata": {},
   "outputs": [
    {
     "name": "stdout",
     "output_type": "stream",
     "text": [
      "length of data before oversampling  2211\n",
      "length of data after oversampling  3970\n",
      "Number of no subscription in oversampled data 1985\n",
      "Number of yes subscription in oversampled data 1985\n",
      "Proportion of data with no diabetes in oversampled data is  0.5\n",
      "Proportion of data with diabetes in oversampled data is  0.5\n",
      "3970 948 1355\n"
     ]
    }
   ],
   "source": [
    "X = df.loc[:, df.columns != 'diabetes']\n",
    "y = df.loc[:, df.columns == 'diabetes']\n",
    "os = SMOTE(random_state=0)\n",
    "X_train_before, X_test, y_train_before, y_test = train_test_split(X, y, test_size=0.3, random_state=0)\n",
    "X_train_before, X_val, y_train_before, y_val = train_test_split(X_train_before, y_train_before, test_size=0.3, random_state=0)\n",
    "X_train_before = pd.DataFrame(X_train_before)\n",
    "columns = X.columns\n",
    "os_data_X,os_data_y=os.fit_sample(X_train_before, y_train_before)\n",
    "os_data_X_train = pd.DataFrame(data=os_data_X,columns=columns )\n",
    "os_data_y_train = pd.DataFrame(data=os_data_y,columns=['diabetes'])\n",
    "\n",
    "X_train_after = os_data_X_train\n",
    "y_train_after = os_data_y_train\n",
    "\n",
    "# we can Check the numbers of our data\n",
    "print(\"length of data before oversampling \",len(X_train_before))\n",
    "print(\"length of data after oversampling \",len(X_train_after))\n",
    "print(\"Number of no subscription in oversampled data\",len(y_train_after[y_train_after['diabetes']==0]))\n",
    "print(\"Number of yes subscription in oversampled data\",len(y_train_after[y_train_after['diabetes']==1]))\n",
    "print(\"Proportion of data with no diabetes in oversampled data is \",len(y_train_after[y_train_after['diabetes']==0])/len(X_train_after))\n",
    "print(\"Proportion of data with diabetes in oversampled data is \",len(y_train_after[y_train_after['diabetes']==1])/len(X_train_after))\n",
    "\n",
    "\n",
    "print(len(X_train_after),len(X_val),len(X_test))\n",
    "\n"
   ]
  },
  {
   "cell_type": "markdown",
   "metadata": {},
   "source": [
    "#### Test Train Split for scaled Numerical features"
   ]
  },
  {
   "cell_type": "code",
   "execution_count": 54,
   "metadata": {},
   "outputs": [
    {
     "name": "stdout",
     "output_type": "stream",
     "text": [
      "length of data before oversampling  2211\n",
      "length of data after oversampling  3970\n",
      "Number of no subscription in oversampled data 1985\n",
      "Number of yes subscription in oversampled data 1985\n",
      "Proportion of data with no diabetes in oversampled data is  0.5\n",
      "Proportion of data with diabetes in oversampled data is  0.5\n",
      "3970 948 1355\n"
     ]
    }
   ],
   "source": [
    "df_new = df.copy()\n",
    "df_new[\"BMI\"] = (df[\"BMI\"] - df[\"BMI\"].mean())/df[\"BMI\"].std()\n",
    "df_new[\"HDL\"] = (df[\"HDL\"] - df[\"HDL\"].mean())/df[\"HDL\"].std()\n",
    "df_new[\"LDL\"] = (df[\"LDL\"] - df[\"LDL\"].mean())/df[\"LDL\"].std()\n",
    "df_new[\"age\"] = (df[\"age\"] - df[\"age\"].mean())/df[\"age\"].std()\n",
    "df_new[\"fasting_glucose\"] = (df[\"fasting_glucose\"] - df[\"fasting_glucose\"].mean())/df[\"fasting_glucose\"].std()\n",
    "X_scaled = df_new.loc[:, df_new.columns != 'diabetes']\n",
    "y = df_new.loc[:, df_new.columns == 'diabetes']\n",
    "\n",
    "os = SMOTE(random_state=0)\n",
    "X_scaled_train_before, X_scaled_test, y_train_before, y_test = train_test_split(X_scaled, y, test_size=0.3, random_state=0)\n",
    "X_scaled_train_before, X_scaled_val, y_train_before, y_val = train_test_split(X_scaled_train_before, y_train_before, test_size=0.3, random_state=0)\n",
    "X_scaled_train_before = pd.DataFrame(X_scaled_train_before)\n",
    "columns = X_scaled.columns\n",
    "\n",
    "os_data_X,os_data_y=os.fit_sample(X_scaled_train_before, y_train_before)\n",
    "os_data_X_train_scaled = pd.DataFrame(data=os_data_X,columns=columns )\n",
    "os_data_y_train = pd.DataFrame(data=os_data_y,columns=['diabetes'])\n",
    "X_scaled_train_after = os_data_X\n",
    "y_train_after = os_data_y_train\n",
    "\n",
    "print(\"length of data before oversampling \",len(X_scaled_train_before))\n",
    "print(\"length of data after oversampling \",len(X_scaled_train_after))\n",
    "print(\"Number of no subscription in oversampled data\",len(y_train_after[y_train_after['diabetes']==0]))\n",
    "print(\"Number of yes subscription in oversampled data\",len(y_train_after[y_train_after['diabetes']==1]))\n",
    "print(\"Proportion of data with no diabetes in oversampled data is \",len(y_train_after[y_train_after['diabetes']==0])/len(X_scaled_train_after))\n",
    "print(\"Proportion of data with diabetes in oversampled data is \",len(y_train_after[y_train_after['diabetes']==1])/len(X_scaled_train_after))\n",
    "\n",
    "\n",
    "print(len(X_scaled_train_after),len(X_scaled_val),len(X_scaled_test))\n"
   ]
  },
  {
   "cell_type": "markdown",
   "metadata": {},
   "source": [
    "# Modelling"
   ]
  },
  {
   "cell_type": "markdown",
   "metadata": {},
   "source": [
    "### Function to identify hyperparameter range"
   ]
  },
  {
   "cell_type": "code",
   "execution_count": 55,
   "metadata": {},
   "outputs": [],
   "source": [
    "def hp_range(model, parameter):\n",
    "    accuracy = []\n",
    "    if model == 'random forest':\n",
    "        if parameter == \"trees\":\n",
    "            n_estimators = [int(x) for x in np.linspace(start = 5, stop = 200, num = 100)]\n",
    "            for i in n_estimators:\n",
    "                rf = RandomForestClassifier(random_state = 42, criterion= 'gini', n_estimators = i)\n",
    "                rf_new = rf.fit(X_train_after, y_train_after)\n",
    "                rf_new_val = rf.predict(X_val)\n",
    "                rf_accuracy_val = accuracy_score(y_val, rf_new_val)\n",
    "                accuracy.append(rf_accuracy_val)\n",
    "            plt.plot(n_estimators,accuracy)\n",
    "            \n",
    "        elif parameter == \"features\":\n",
    "            max_features = list(range(1,X_train_after.shape[1]))\n",
    "            for i in max_features:\n",
    "                rf = RandomForestClassifier(random_state = 42, criterion= 'gini', max_features = i)\n",
    "                rf_new = rf.fit(X_train_after, y_train_after)\n",
    "                rf_new_val = rf.predict(X_val)\n",
    "                rf_accuracy_val = accuracy_score(y_val, rf_new_val)\n",
    "                accuracy.append(rf_accuracy_val)\n",
    "            plt.plot(max_features,accuracy)\n",
    "            \n",
    "        elif parameter == \"levels\":\n",
    "            max_depth = [int(x) for x in np.linspace(10, 50, num = 10)]\n",
    "            for i in max_depth:\n",
    "                rf = RandomForestClassifier(random_state = 42, criterion= 'gini', max_depth = i)\n",
    "                rf_new = rf.fit(X_train_after, y_train_after)\n",
    "                rf_new_val = rf.predict(X_val)\n",
    "                rf_accuracy_val = accuracy_score(y_val, rf_new_val)\n",
    "                accuracy.append(rf_accuracy_val)\n",
    "            plt.plot(max_depth,accuracy)\n",
    "            \n",
    "        elif parameter == \"samples_split\":\n",
    "            min_samples_split = [10,20,30,40,50]\n",
    "            for i in min_samples_split:\n",
    "                rf = RandomForestClassifier(random_state = 42, criterion= 'gini', min_samples_split = i)\n",
    "                rf_new = rf.fit(X_train_after, y_train_after)\n",
    "                rf_new_val = rf.predict(X_val)\n",
    "                rf_accuracy_val = accuracy_score(y_val, rf_new_val)\n",
    "                accuracy.append(rf_accuracy_val)\n",
    "            plt.plot(min_samples_split,accuracy)\n",
    "            \n",
    "        elif parameter == \"samples_leaf\":\n",
    "            min_samples_leaf = [10,20,30,40,50]\n",
    "            for i in min_samples_leaf:\n",
    "                rf = RandomForestClassifier(random_state = 42, criterion= 'gini', min_samples_leaf = i)\n",
    "                rf_new = rf.fit(X_train_after, y_train_after)\n",
    "                rf_new_val = rf.predict(X_val)\n",
    "                rf_accuracy_val = accuracy_score(y_val, rf_new_val)\n",
    "                accuracy.append(rf_accuracy_val)\n",
    "            plt.plot(min_samples_leaf,accuracy)\n",
    "            \n",
    "    elif model == 'knn':\n",
    "        k_range = list(range(1, 50))\n",
    "        for i in k_range:\n",
    "            knn = KNeighborsClassifier(n_neighbors=i)\n",
    "            knn_new = knn.fit(X_scaled_train_after, y_train_after)\n",
    "            knn_new_val = knn.predict(X_scaled_val)\n",
    "            knn_accuracy_val = accuracy_score(y_val, knn_new_val)\n",
    "            accuracy.append(knn_accuracy_val)\n",
    "        plt.plot(k_range,accuracy)\n",
    "        "
   ]
  },
  {
   "cell_type": "code",
   "execution_count": 56,
   "metadata": {},
   "outputs": [
    {
     "data": {
      "image/png": "[encoded data removed]",
      "text/plain": [
       "<Figure size 432x288 with 1 Axes>"
      ]
     },
     "metadata": {
      "needs_background": "light"
     },
     "output_type": "display_data"
    }
   ],
   "source": [
    "hp_range(\"random forest\", 'trees')"
   ]
  },
  {
   "cell_type": "code",
   "execution_count": 57,
   "metadata": {},
   "outputs": [
    {
     "data": {
      "image/png": "[encoded data removed]",
      "text/plain": [
       "<Figure size 432x288 with 1 Axes>"
      ]
     },
     "metadata": {
      "needs_background": "light"
     },
     "output_type": "display_data"
    }
   ],
   "source": [
    "hp_range(\"random forest\", 'features')"
   ]
  },
  {
   "cell_type": "code",
   "execution_count": 58,
   "metadata": {},
   "outputs": [
    {
     "data": {
      "image/png": "[encoded data removed]",
      "text/plain": [
       "<Figure size 432x288 with 1 Axes>"
      ]
     },
     "metadata": {
      "needs_background": "light"
     },
     "output_type": "display_data"
    }
   ],
   "source": [
    "hp_range(\"random forest\", 'levels')"
   ]
  },
  {
   "cell_type": "code",
   "execution_count": 59,
   "metadata": {},
   "outputs": [
    {
     "data": {
      "image/png": "[encoded data removed]",
      "text/plain": [
       "<Figure size 432x288 with 1 Axes>"
      ]
     },
     "metadata": {
      "needs_background": "light"
     },
     "output_type": "display_data"
    }
   ],
   "source": [
    "hp_range(\"random forest\", 'samples_split') "
   ]
  },
  {
   "cell_type": "code",
   "execution_count": 60,
   "metadata": {},
   "outputs": [
    {
     "data": {
      "image/png": "[encoded data removed]",
      "text/plain": [
       "<Figure size 432x288 with 1 Axes>"
      ]
     },
     "metadata": {
      "needs_background": "light"
     },
     "output_type": "display_data"
    }
   ],
   "source": [
    "hp_range(\"random forest\", 'samples_leaf') "
   ]
  },
  {
   "cell_type": "markdown",
   "metadata": {},
   "source": [
    "### Random Forest with Pipeline for SMOTE"
   ]
  },
  {
   "cell_type": "code",
   "execution_count": 61,
   "metadata": {},
   "outputs": [
    {
     "name": "stdout",
     "output_type": "stream",
     "text": [
      "Fitting 5 folds for each of 100 candidates, totalling 500 fits\n"
     ]
    },
    {
     "name": "stderr",
     "output_type": "stream",
     "text": [
      "[Parallel(n_jobs=-1)]: Using backend LokyBackend with 4 concurrent workers.\n",
      "[Parallel(n_jobs=-1)]: Done  33 tasks      | elapsed:   10.3s\n",
      "[Parallel(n_jobs=-1)]: Done 154 tasks      | elapsed:   23.6s\n",
      "[Parallel(n_jobs=-1)]: Done 357 tasks      | elapsed:   48.4s\n",
      "[Parallel(n_jobs=-1)]: Done 500 out of 500 | elapsed:  1.3min finished\n"
     ]
    },
    {
     "name": "stdout",
     "output_type": "stream",
     "text": [
      "The best accuracy of 0.9163274536408865 from cross validation is given by 66 estimators 10 max features 27 max_depth 20 min samples split 10 min samples leaf parameters\n",
      "The Training set accuracy of the cross-validated random forest model is 0.9639798488664988\n",
      "The Validation set accuracy of the cross-validated random forest model is 0.9071729957805907\n",
      "The Test set accuracy of the cross-validated random forest model is 0.8988929889298893\n",
      "The precision is 0.5260416666666666 recall is 0.6870748299319728 fscore is 0.5958702064896755\n"
     ]
    }
   ],
   "source": [
    "from imblearn.pipeline import Pipeline\n",
    "\n",
    "# Number of trees in random forest\n",
    "n_estimators = [int(x) for x in np.linspace(start = 5, stop = 105, num = 50)]\n",
    "# Number of features to consider at every split\n",
    "max_features = list(range(1,X_train_before.shape[1]))\n",
    "# Maximum number of levels in tree\n",
    "max_depth = [int(x) for x in np.linspace(10, 50, num = 10)]\n",
    "# Minimum number of samples required to split a node\n",
    "min_samples_split = [10,20,30,40,50]\n",
    "# Minimum number of samples required at each leaf node\n",
    "min_samples_leaf = [10,20,30,40,50] \n",
    "# Method of selecting samples for training each tree\n",
    "bootstrap = [True]\n",
    "# Create  random grid\n",
    "random_grid = {'clf_rf__n_estimators': n_estimators,\n",
    "               'clf_rf__max_features': max_features,\n",
    "               'clf_rf__max_depth': max_depth,\n",
    "               'clf_rf__min_samples_split': min_samples_split,\n",
    "               'clf_rf__min_samples_leaf': min_samples_leaf,\n",
    "               'clf_rf__bootstrap': bootstrap}\n",
    "rf = RandomForestClassifier(random_state = 42, criterion= 'gini')\n",
    "\n",
    "pipeline = Pipeline([('smote', SMOTE(random_state=0)),\n",
    "                     ('clf_rf', rf)])\n",
    "\n",
    "rf_random = RandomizedSearchCV(pipeline, param_distributions = random_grid, n_iter = 100, cv = 5, verbose=2, random_state=42, n_jobs = -1)\n",
    "rf_random.fit(X_train_before, y_train_before)\n",
    "\n",
    "estimators = rf_random.best_params_['clf_rf__n_estimators']\n",
    "features = rf_random.best_params_['clf_rf__max_features']\n",
    "depth = rf_random.best_params_['clf_rf__max_depth']\n",
    "samples_split_min = rf_random.best_params_['clf_rf__min_samples_split']\n",
    "samples_leaf_min = rf_random.best_params_['clf_rf__min_samples_leaf']\n",
    "\n",
    "\n",
    "print(\"The best accuracy of\", rf_random.best_score_, \"from cross validation is given by\", estimators , \"estimators\", features, \"max features\", depth, \"max_depth\",samples_split_min, \"min samples split\", samples_leaf_min,\"min samples leaf parameters\" )\n",
    "\n",
    "rf_final = RandomForestClassifier(n_estimators=estimators,max_features=features,max_depth=depth,  min_samples_split=samples_split_min,  min_samples_leaf=samples_leaf_min, bootstrap =  True , random_state=42, criterion= 'gini')   \n",
    "rf_model = rf_final.fit(X_train_after, y_train_after)\n",
    "\n",
    "rf_predictions_train = rf_final.predict(X_train_after)\n",
    "rf_accuracy_train = accuracy_score(y_train_after, rf_predictions_train)\n",
    "print(\"The Training set accuracy of the cross-validated random forest model is\", rf_accuracy_train)\n",
    "\n",
    "rf_predictions_val = rf_final.predict(X_val)\n",
    "rf_accuracy_val = accuracy_score(y_val, rf_predictions_val)\n",
    "print(\"The Validation set accuracy of the cross-validated random forest model is\", rf_accuracy_val)\n",
    "\n",
    "rf_predictions_test = rf_final.predict(X_test)\n",
    "rf_accuracy_test = accuracy_score(y_test, rf_predictions_test)\n",
    "print(\"The Test set accuracy of the cross-validated random forest model is\", rf_accuracy_test)\n",
    "\n",
    "rf_other_metrics = precision_recall_fscore_support(y_test, rf_predictions_test, average='binary')\n",
    "print(\"The precision is\", rf_other_metrics[0], \"recall is\", rf_other_metrics[1], \"fscore is\", rf_other_metrics[2])         \n"
   ]
  },
  {
   "cell_type": "markdown",
   "metadata": {},
   "source": [
    "### Boostrapping on the test set to determine RF performance"
   ]
  },
  {
   "cell_type": "code",
   "execution_count": 65,
   "metadata": {},
   "outputs": [
    {
     "name": "stdout",
     "output_type": "stream",
     "text": [
      "95.00 confidence interval 92.09% and 97.60%\n"
     ]
    },
    {
     "data": {
      "image/png": "[encoded data removed]",
      "text/plain": [
       "<Figure size 432x288 with 1 Axes>"
      ]
     },
     "metadata": {
      "needs_background": "light"
     },
     "output_type": "display_data"
    }
   ],
   "source": [
    "boot = pd.merge(y_test, X_test, left_index=True, right_index=True)\n",
    "boot.rename(columns = {'Actual':'diabetes'}, inplace = True) \n",
    "n_iterations = 100\n",
    "stats = list()\n",
    "for i in range(n_iterations):\n",
    "    boot = resample(boot, replace=True, n_samples=500,random_state=15 )\n",
    "    boot_test_y = boot.loc[:, boot.columns == 'diabetes']\n",
    "    boot_test_X = boot.loc[:, boot.columns != 'diabetes']    \n",
    "    rf_final = RandomForestClassifier(n_estimators=estimators,max_features=features,max_depth=depth,  min_samples_split=samples_split_min,  min_samples_leaf=samples_leaf_min, bootstrap =  True, random_state=42, criterion= 'gini')   \n",
    "    rf_model = rf_final.fit(X_train_after, y_train_after)\n",
    "    rf_predictions_boot = rf_final.predict(boot_test_X)\n",
    "    score = accuracy_score(boot_test_y, rf_predictions_boot)\n",
    "    stats.append(score)\n",
    "hist = pd.DataFrame(stats).hist()\n",
    "alpha = 0.95\n",
    "p = ((1.0-alpha)/2.0) * 100\n",
    "lower = max(0.0, np.percentile(stats, p))\n",
    "p = (alpha+((1.0-alpha)/2.0)) * 100\n",
    "upper = min(1.0, np.percentile(stats, p))\n",
    "print('%.2f confidence interval %.2f%% and %.2f%%' % (alpha*100, lower*100, upper*100))\n",
    "    "
   ]
  },
  {
   "cell_type": "markdown",
   "metadata": {},
   "source": [
    "### Logistic Regression"
   ]
  },
  {
   "cell_type": "code",
   "execution_count": 66,
   "metadata": {
    "scrolled": true
   },
   "outputs": [
    {
     "name": "stdout",
     "output_type": "stream",
     "text": [
      "20 features are chosen through RFE and they are ['BMI', 'HDL', 'LDL', 'age', 'fasting_glucose', 'diaBP', 'BMI_NaN', 'fasting_glucose_NaN', 'LDL_NaN', 'insulin_NaN', 'sugar_NaN', 'sysBP_NaN', 'diaBP_NaN', 'alc_days_year_NaN', 'race_1.0', 'race_2.0', 'race_3.0', 'race_4.0', 'race_6.0', 'gender_1.0']\n",
      "The Training set accuracy of the Logistic Regression model is 0.8664987405541562\n",
      "The Validation set accuracy of the Logistic Regression model is 0.8491561181434599\n",
      "Test set accuracy of the Logistic Regression model is 0.844280442804428\n",
      "The precision is 0.391156462585034 recall is 0.782312925170068 fscore is 0.5215419501133787\n"
     ]
    },
    {
     "data": {
      "image/png": "[encoded data removed]",
      "text/plain": [
       "<Figure size 432x288 with 1 Axes>"
      ]
     },
     "metadata": {
      "needs_background": "light"
     },
     "output_type": "display_data"
    }
   ],
   "source": [
    "#Logistic regression with Recursive Feature Elimination\n",
    "from sklearn.feature_selection import RFE\n",
    "logreg = LogisticRegression()\n",
    "rfe = RFE(logreg,20)\n",
    "rfe = rfe.fit(X_train_after, y_train_after)\n",
    "chosen_vars = []\n",
    "for i in range(len(rfe.support_)):\n",
    "    if rfe.support_[i] == True:\n",
    "        chosen_vars.append(X_train_after.columns[i])\n",
    "print(len(chosen_vars), \"features are chosen through RFE and they are\", chosen_vars)\n",
    "X_lr_train = X_train_after[chosen_vars]  \n",
    "X_lr_test = X_test[chosen_vars]\n",
    "X_lr_val = X_val[chosen_vars]\n",
    "\n",
    "#Fitting the model on the training set and assessing the performance\n",
    "logreg_model = logreg.fit(X_lr_train, y_train_after)\n",
    "logreg_train = logreg.predict(X_lr_train)\n",
    "logreg_accuracy_train = accuracy_score(y_train_after, logreg_train)\n",
    "print(\"The Training set accuracy of the Logistic Regression model is\", logreg_accuracy_train)\n",
    "\n",
    "#Model performance on the Validation set\n",
    "logreg_accuracy_val = logreg.predict(X_lr_val)\n",
    "logreg_accuracy_val = accuracy_score(y_val, logreg_accuracy_val)\n",
    "print(\"The Validation set accuracy of the Logistic Regression model is\", logreg_accuracy_val)\n",
    "\n",
    "#Model performance on the Test set\n",
    "log_pred_test = logreg.predict(X_lr_test)\n",
    "log_accuracy_test = accuracy_score(y_test, log_pred_test)\n",
    "print('Test set accuracy of the Logistic Regression model is',log_accuracy_test )\n",
    "\n",
    "#Confusion Matrix and other metrics (Precision, Recall and Fscore)\n",
    "#logreg_confusion = pd.crosstab(y_test, log_pred_test)\n",
    "#print(logreg_confusion)\n",
    "\n",
    "lr_other_metrics = precision_recall_fscore_support(y_test, log_pred_test, average='binary')\n",
    "print(\"The precision is\", lr_other_metrics[0], \"recall is\", lr_other_metrics[1], \"fscore is\", lr_other_metrics[2])         \n",
    "\n",
    "\n",
    "#ROC curve\n",
    "logit_roc_auc = roc_auc_score(y_test, logreg.predict(X_lr_test))\n",
    "fpr, tpr, thresholds = roc_curve(y_test, logreg.predict_proba(X_lr_test)[:,1])\n",
    "plt.figure()\n",
    "plt.plot(fpr, tpr, label='Logistic Regression (area = %0.2f)' % logit_roc_auc)\n",
    "plt.plot([0, 1], [0, 1],'r--')\n",
    "plt.xlim([0.0, 1.0])\n",
    "plt.ylim([0.0, 1.05])\n",
    "plt.xlabel('False Positive Rate')\n",
    "plt.ylabel('True Positive Rate')\n",
    "plt.title('Receiver operating characteristic')\n",
    "plt.legend(loc=\"lower right\")\n",
    "plt.savefig('Log_ROC')\n",
    "plt.show()\n"
   ]
  },
  {
   "cell_type": "markdown",
   "metadata": {},
   "source": [
    "### kNN "
   ]
  },
  {
   "cell_type": "markdown",
   "metadata": {},
   "source": [
    "### Scree Plot to decide Hyperparameter range "
   ]
  },
  {
   "cell_type": "code",
   "execution_count": 67,
   "metadata": {},
   "outputs": [
    {
     "data": {
      "image/png": "[encoded data removed]",
      "text/plain": [
       "<Figure size 432x288 with 1 Axes>"
      ]
     },
     "metadata": {
      "needs_background": "light"
     },
     "output_type": "display_data"
    }
   ],
   "source": [
    "hp_range(\"knn\", None)"
   ]
  },
  {
   "cell_type": "code",
   "execution_count": 68,
   "metadata": {},
   "outputs": [
    {
     "name": "stdout",
     "output_type": "stream",
     "text": [
      "The Training set accuracy of the kNN model is 0.9876574307304786\n",
      "The Validation set accuracy of the kNN model is 0.810126582278481\n",
      "Test set accuracy of the kNN model is 0.796309963099631\n",
      "The precision is 0.16230366492146597 recall is 0.2108843537414966 fscore is 0.1834319526627219\n"
     ]
    }
   ],
   "source": [
    "#kNN model fitting on the training set\n",
    "knn = KNeighborsClassifier(n_neighbors=2)\n",
    "knn.fit(X_scaled_train_after, y_train_after)\n",
    "knn_pred_train = knn.predict(X_scaled_train_after)\n",
    "knn_accuracy_train = accuracy_score(y_train_after, knn_pred_train)\n",
    "print(\"The Training set accuracy of the kNN model is\", knn_accuracy_train)\n",
    "\n",
    "#Model performance on the Validation set\n",
    "knn_pred_val = knn.predict(X_scaled_val)\n",
    "knn_accuracy_val = accuracy_score(y_val, knn_pred_val)\n",
    "print(\"The Validation set accuracy of the kNN model is\", knn_accuracy_val)\n",
    "\n",
    "#Model performance on the Test set\n",
    "knn_pred_test = knn.predict(X_scaled_test)\n",
    "knn_accuracy_test = accuracy_score(y_test, knn_pred_test)\n",
    "print('Test set accuracy of the kNN model is',knn_accuracy_test )\n",
    "\n",
    "#Confusion Matrix and other metrics (Precision, Recall and Fscore)\n",
    "#knn_confusion = pd.crosstab(y_test, knn_pred_test)\n",
    "#print(knn_confusion)\n",
    "precision_recall_fscore_support(y_test, knn_pred_test, average='binary')\n",
    "knn_other_metrics = precision_recall_fscore_support(y_test, knn_pred_test, average='binary')\n",
    "print(\"The precision is\", knn_other_metrics[0], \"recall is\", knn_other_metrics[1], \"fscore is\", knn_other_metrics[2])         \n"
   ]
  },
  {
   "cell_type": "markdown",
   "metadata": {},
   "source": [
    "### kNN Cross-Validation for Hyperparameter tuning (Need to do a pipeline)"
   ]
  },
  {
   "cell_type": "code",
   "execution_count": 69,
   "metadata": {
    "collapsed": true
   },
   "outputs": [
    {
     "name": "stdout",
     "output_type": "stream",
     "text": [
      "The best accuracy of 0.9035264483627204 is given by 2 clusters\n",
      "The Training set accuracy of the kNN model is 0.9876574307304786\n",
      "The Validation set accuracy of the kNN model is 0.810126582278481\n",
      "Test set accuracy of the kNN model is 0.796309963099631\n"
     ]
    },
    {
     "ename": "ValueError",
     "evalue": "Shape of passed values is (1, 2), indices imply (1355, 2)",
     "output_type": "error",
     "traceback": [
      "\u001b[0;31m---------------------------------------------------------------------------\u001b[0m",
      "\u001b[0;31mValueError\u001b[0m                                Traceback (most recent call last)",
      "\u001b[0;32m/Library/Frameworks/Python.framework/Versions/3.7/lib/python3.7/site-packages/pandas/core/internals/managers.py\u001b[0m in \u001b[0;36mcreate_block_manager_from_arrays\u001b[0;34m(arrays, names, axes)\u001b[0m\n\u001b[1;32m   1694\u001b[0m         \u001b[0mblocks\u001b[0m \u001b[0;34m=\u001b[0m \u001b[0mform_blocks\u001b[0m\u001b[0;34m(\u001b[0m\u001b[0marrays\u001b[0m\u001b[0;34m,\u001b[0m \u001b[0mnames\u001b[0m\u001b[0;34m,\u001b[0m \u001b[0maxes\u001b[0m\u001b[0;34m)\u001b[0m\u001b[0;34m\u001b[0m\u001b[0;34m\u001b[0m\u001b[0m\n\u001b[0;32m-> 1695\u001b[0;31m         \u001b[0mmgr\u001b[0m \u001b[0;34m=\u001b[0m \u001b[0mBlockManager\u001b[0m\u001b[0;34m(\u001b[0m\u001b[0mblocks\u001b[0m\u001b[0;34m,\u001b[0m \u001b[0maxes\u001b[0m\u001b[0;34m)\u001b[0m\u001b[0;34m\u001b[0m\u001b[0;34m\u001b[0m\u001b[0m\n\u001b[0m\u001b[1;32m   1696\u001b[0m         \u001b[0mmgr\u001b[0m\u001b[0;34m.\u001b[0m\u001b[0m_consolidate_inplace\u001b[0m\u001b[0;34m(\u001b[0m\u001b[0;34m)\u001b[0m\u001b[0;34m\u001b[0m\u001b[0;34m\u001b[0m\u001b[0m\n",
      "\u001b[0;32m/Library/Frameworks/Python.framework/Versions/3.7/lib/python3.7/site-packages/pandas/core/internals/managers.py\u001b[0m in \u001b[0;36m__init__\u001b[0;34m(self, blocks, axes, do_integrity_check)\u001b[0m\n\u001b[1;32m    142\u001b[0m         \u001b[0;32mif\u001b[0m \u001b[0mdo_integrity_check\u001b[0m\u001b[0;34m:\u001b[0m\u001b[0;34m\u001b[0m\u001b[0;34m\u001b[0m\u001b[0m\n\u001b[0;32m--> 143\u001b[0;31m             \u001b[0mself\u001b[0m\u001b[0;34m.\u001b[0m\u001b[0m_verify_integrity\u001b[0m\u001b[0;34m(\u001b[0m\u001b[0;34m)\u001b[0m\u001b[0;34m\u001b[0m\u001b[0;34m\u001b[0m\u001b[0m\n\u001b[0m\u001b[1;32m    144\u001b[0m \u001b[0;34m\u001b[0m\u001b[0m\n",
      "\u001b[0;32m/Library/Frameworks/Python.framework/Versions/3.7/lib/python3.7/site-packages/pandas/core/internals/managers.py\u001b[0m in \u001b[0;36m_verify_integrity\u001b[0;34m(self)\u001b[0m\n\u001b[1;32m    344\u001b[0m             \u001b[0;32mif\u001b[0m \u001b[0mblock\u001b[0m\u001b[0;34m.\u001b[0m\u001b[0m_verify_integrity\u001b[0m \u001b[0;32mand\u001b[0m \u001b[0mblock\u001b[0m\u001b[0;34m.\u001b[0m\u001b[0mshape\u001b[0m\u001b[0;34m[\u001b[0m\u001b[0;36m1\u001b[0m\u001b[0;34m:\u001b[0m\u001b[0;34m]\u001b[0m \u001b[0;34m!=\u001b[0m \u001b[0mmgr_shape\u001b[0m\u001b[0;34m[\u001b[0m\u001b[0;36m1\u001b[0m\u001b[0;34m:\u001b[0m\u001b[0;34m]\u001b[0m\u001b[0;34m:\u001b[0m\u001b[0;34m\u001b[0m\u001b[0;34m\u001b[0m\u001b[0m\n\u001b[0;32m--> 345\u001b[0;31m                 \u001b[0mconstruction_error\u001b[0m\u001b[0;34m(\u001b[0m\u001b[0mtot_items\u001b[0m\u001b[0;34m,\u001b[0m \u001b[0mblock\u001b[0m\u001b[0;34m.\u001b[0m\u001b[0mshape\u001b[0m\u001b[0;34m[\u001b[0m\u001b[0;36m1\u001b[0m\u001b[0;34m:\u001b[0m\u001b[0;34m]\u001b[0m\u001b[0;34m,\u001b[0m \u001b[0mself\u001b[0m\u001b[0;34m.\u001b[0m\u001b[0maxes\u001b[0m\u001b[0;34m)\u001b[0m\u001b[0;34m\u001b[0m\u001b[0;34m\u001b[0m\u001b[0m\n\u001b[0m\u001b[1;32m    346\u001b[0m         \u001b[0;32mif\u001b[0m \u001b[0mlen\u001b[0m\u001b[0;34m(\u001b[0m\u001b[0mself\u001b[0m\u001b[0;34m.\u001b[0m\u001b[0mitems\u001b[0m\u001b[0;34m)\u001b[0m \u001b[0;34m!=\u001b[0m \u001b[0mtot_items\u001b[0m\u001b[0;34m:\u001b[0m\u001b[0;34m\u001b[0m\u001b[0;34m\u001b[0m\u001b[0m\n",
      "\u001b[0;32m/Library/Frameworks/Python.framework/Versions/3.7/lib/python3.7/site-packages/pandas/core/internals/managers.py\u001b[0m in \u001b[0;36mconstruction_error\u001b[0;34m(tot_items, block_shape, axes, e)\u001b[0m\n\u001b[1;32m   1718\u001b[0m     raise ValueError(\n\u001b[0;32m-> 1719\u001b[0;31m         \u001b[0;34m\"Shape of passed values is {0}, indices imply {1}\"\u001b[0m\u001b[0;34m.\u001b[0m\u001b[0mformat\u001b[0m\u001b[0;34m(\u001b[0m\u001b[0mpassed\u001b[0m\u001b[0;34m,\u001b[0m \u001b[0mimplied\u001b[0m\u001b[0;34m)\u001b[0m\u001b[0;34m\u001b[0m\u001b[0;34m\u001b[0m\u001b[0m\n\u001b[0m\u001b[1;32m   1720\u001b[0m     )\n",
      "\u001b[0;31mValueError\u001b[0m: Shape of passed values is (1, 2), indices imply (1355, 2)",
      "\nDuring handling of the above exception, another exception occurred:\n",
      "\u001b[0;31mValueError\u001b[0m                                Traceback (most recent call last)",
      "\u001b[0;32m<ipython-input-69-91e83d7618db>\u001b[0m in \u001b[0;36m<module>\u001b[0;34m\u001b[0m\n\u001b[1;32m     25\u001b[0m \u001b[0;34m\u001b[0m\u001b[0m\n\u001b[1;32m     26\u001b[0m \u001b[0;31m#Confusion Matrix and other metrics (Precision, Recall and Fscore)\u001b[0m\u001b[0;34m\u001b[0m\u001b[0;34m\u001b[0m\u001b[0;34m\u001b[0m\u001b[0m\n\u001b[0;32m---> 27\u001b[0;31m \u001b[0mknn_confusion\u001b[0m \u001b[0;34m=\u001b[0m \u001b[0mpd\u001b[0m\u001b[0;34m.\u001b[0m\u001b[0mcrosstab\u001b[0m\u001b[0;34m(\u001b[0m\u001b[0my_test\u001b[0m\u001b[0;34m,\u001b[0m \u001b[0mknn_pred_test\u001b[0m\u001b[0;34m)\u001b[0m\u001b[0;34m\u001b[0m\u001b[0;34m\u001b[0m\u001b[0m\n\u001b[0m\u001b[1;32m     28\u001b[0m \u001b[0mprint\u001b[0m\u001b[0;34m(\u001b[0m\u001b[0mknn_confusion\u001b[0m\u001b[0;34m)\u001b[0m\u001b[0;34m\u001b[0m\u001b[0;34m\u001b[0m\u001b[0m\n\u001b[1;32m     29\u001b[0m \u001b[0mprecision_recall_fscore_support\u001b[0m\u001b[0;34m(\u001b[0m\u001b[0my_test\u001b[0m\u001b[0;34m,\u001b[0m \u001b[0mknn_pred_test\u001b[0m\u001b[0;34m,\u001b[0m \u001b[0maverage\u001b[0m\u001b[0;34m=\u001b[0m\u001b[0;34m'binary'\u001b[0m\u001b[0;34m)\u001b[0m\u001b[0;34m\u001b[0m\u001b[0;34m\u001b[0m\u001b[0m\n",
      "\u001b[0;32m/Library/Frameworks/Python.framework/Versions/3.7/lib/python3.7/site-packages/pandas/core/reshape/pivot.py\u001b[0m in \u001b[0;36mcrosstab\u001b[0;34m(index, columns, values, rownames, colnames, aggfunc, margins, margins_name, dropna, normalize)\u001b[0m\n\u001b[1;32m    560\u001b[0m     \u001b[0;32mfrom\u001b[0m \u001b[0mpandas\u001b[0m \u001b[0;32mimport\u001b[0m \u001b[0mDataFrame\u001b[0m\u001b[0;34m\u001b[0m\u001b[0;34m\u001b[0m\u001b[0m\n\u001b[1;32m    561\u001b[0m \u001b[0;34m\u001b[0m\u001b[0m\n\u001b[0;32m--> 562\u001b[0;31m     \u001b[0mdf\u001b[0m \u001b[0;34m=\u001b[0m \u001b[0mDataFrame\u001b[0m\u001b[0;34m(\u001b[0m\u001b[0mdata\u001b[0m\u001b[0;34m,\u001b[0m \u001b[0mindex\u001b[0m\u001b[0;34m=\u001b[0m\u001b[0mcommon_idx\u001b[0m\u001b[0;34m)\u001b[0m\u001b[0;34m\u001b[0m\u001b[0;34m\u001b[0m\u001b[0m\n\u001b[0m\u001b[1;32m    563\u001b[0m     \u001b[0;32mif\u001b[0m \u001b[0mvalues\u001b[0m \u001b[0;32mis\u001b[0m \u001b[0;32mNone\u001b[0m\u001b[0;34m:\u001b[0m\u001b[0;34m\u001b[0m\u001b[0;34m\u001b[0m\u001b[0m\n\u001b[1;32m    564\u001b[0m         \u001b[0mdf\u001b[0m\u001b[0;34m[\u001b[0m\u001b[0;34m\"__dummy__\"\u001b[0m\u001b[0;34m]\u001b[0m \u001b[0;34m=\u001b[0m \u001b[0;36m0\u001b[0m\u001b[0;34m\u001b[0m\u001b[0;34m\u001b[0m\u001b[0m\n",
      "\u001b[0;32m/Library/Frameworks/Python.framework/Versions/3.7/lib/python3.7/site-packages/pandas/core/frame.py\u001b[0m in \u001b[0;36m__init__\u001b[0;34m(self, data, index, columns, dtype, copy)\u001b[0m\n\u001b[1;32m    409\u001b[0m             )\n\u001b[1;32m    410\u001b[0m         \u001b[0;32melif\u001b[0m \u001b[0misinstance\u001b[0m\u001b[0;34m(\u001b[0m\u001b[0mdata\u001b[0m\u001b[0;34m,\u001b[0m \u001b[0mdict\u001b[0m\u001b[0;34m)\u001b[0m\u001b[0;34m:\u001b[0m\u001b[0;34m\u001b[0m\u001b[0;34m\u001b[0m\u001b[0m\n\u001b[0;32m--> 411\u001b[0;31m             \u001b[0mmgr\u001b[0m \u001b[0;34m=\u001b[0m \u001b[0minit_dict\u001b[0m\u001b[0;34m(\u001b[0m\u001b[0mdata\u001b[0m\u001b[0;34m,\u001b[0m \u001b[0mindex\u001b[0m\u001b[0;34m,\u001b[0m \u001b[0mcolumns\u001b[0m\u001b[0;34m,\u001b[0m \u001b[0mdtype\u001b[0m\u001b[0;34m=\u001b[0m\u001b[0mdtype\u001b[0m\u001b[0;34m)\u001b[0m\u001b[0;34m\u001b[0m\u001b[0;34m\u001b[0m\u001b[0m\n\u001b[0m\u001b[1;32m    412\u001b[0m         \u001b[0;32melif\u001b[0m \u001b[0misinstance\u001b[0m\u001b[0;34m(\u001b[0m\u001b[0mdata\u001b[0m\u001b[0;34m,\u001b[0m \u001b[0mma\u001b[0m\u001b[0;34m.\u001b[0m\u001b[0mMaskedArray\u001b[0m\u001b[0;34m)\u001b[0m\u001b[0;34m:\u001b[0m\u001b[0;34m\u001b[0m\u001b[0;34m\u001b[0m\u001b[0m\n\u001b[1;32m    413\u001b[0m             \u001b[0;32mimport\u001b[0m \u001b[0mnumpy\u001b[0m\u001b[0;34m.\u001b[0m\u001b[0mma\u001b[0m\u001b[0;34m.\u001b[0m\u001b[0mmrecords\u001b[0m \u001b[0;32mas\u001b[0m \u001b[0mmrecords\u001b[0m\u001b[0;34m\u001b[0m\u001b[0;34m\u001b[0m\u001b[0m\n",
      "\u001b[0;32m/Library/Frameworks/Python.framework/Versions/3.7/lib/python3.7/site-packages/pandas/core/internals/construction.py\u001b[0m in \u001b[0;36minit_dict\u001b[0;34m(data, index, columns, dtype)\u001b[0m\n\u001b[1;32m    255\u001b[0m             \u001b[0marr\u001b[0m \u001b[0;32mif\u001b[0m \u001b[0;32mnot\u001b[0m \u001b[0mis_datetime64tz_dtype\u001b[0m\u001b[0;34m(\u001b[0m\u001b[0marr\u001b[0m\u001b[0;34m)\u001b[0m \u001b[0;32melse\u001b[0m \u001b[0marr\u001b[0m\u001b[0;34m.\u001b[0m\u001b[0mcopy\u001b[0m\u001b[0;34m(\u001b[0m\u001b[0;34m)\u001b[0m \u001b[0;32mfor\u001b[0m \u001b[0marr\u001b[0m \u001b[0;32min\u001b[0m \u001b[0marrays\u001b[0m\u001b[0;34m\u001b[0m\u001b[0;34m\u001b[0m\u001b[0m\n\u001b[1;32m    256\u001b[0m         ]\n\u001b[0;32m--> 257\u001b[0;31m     \u001b[0;32mreturn\u001b[0m \u001b[0marrays_to_mgr\u001b[0m\u001b[0;34m(\u001b[0m\u001b[0marrays\u001b[0m\u001b[0;34m,\u001b[0m \u001b[0mdata_names\u001b[0m\u001b[0;34m,\u001b[0m \u001b[0mindex\u001b[0m\u001b[0;34m,\u001b[0m \u001b[0mcolumns\u001b[0m\u001b[0;34m,\u001b[0m \u001b[0mdtype\u001b[0m\u001b[0;34m=\u001b[0m\u001b[0mdtype\u001b[0m\u001b[0;34m)\u001b[0m\u001b[0;34m\u001b[0m\u001b[0;34m\u001b[0m\u001b[0m\n\u001b[0m\u001b[1;32m    258\u001b[0m \u001b[0;34m\u001b[0m\u001b[0m\n\u001b[1;32m    259\u001b[0m \u001b[0;34m\u001b[0m\u001b[0m\n",
      "\u001b[0;32m/Library/Frameworks/Python.framework/Versions/3.7/lib/python3.7/site-packages/pandas/core/internals/construction.py\u001b[0m in \u001b[0;36marrays_to_mgr\u001b[0;34m(arrays, arr_names, index, columns, dtype)\u001b[0m\n\u001b[1;32m     85\u001b[0m     \u001b[0maxes\u001b[0m \u001b[0;34m=\u001b[0m \u001b[0;34m[\u001b[0m\u001b[0mensure_index\u001b[0m\u001b[0;34m(\u001b[0m\u001b[0mcolumns\u001b[0m\u001b[0;34m)\u001b[0m\u001b[0;34m,\u001b[0m \u001b[0mindex\u001b[0m\u001b[0;34m]\u001b[0m\u001b[0;34m\u001b[0m\u001b[0;34m\u001b[0m\u001b[0m\n\u001b[1;32m     86\u001b[0m \u001b[0;34m\u001b[0m\u001b[0m\n\u001b[0;32m---> 87\u001b[0;31m     \u001b[0;32mreturn\u001b[0m \u001b[0mcreate_block_manager_from_arrays\u001b[0m\u001b[0;34m(\u001b[0m\u001b[0marrays\u001b[0m\u001b[0;34m,\u001b[0m \u001b[0marr_names\u001b[0m\u001b[0;34m,\u001b[0m \u001b[0maxes\u001b[0m\u001b[0;34m)\u001b[0m\u001b[0;34m\u001b[0m\u001b[0;34m\u001b[0m\u001b[0m\n\u001b[0m\u001b[1;32m     88\u001b[0m \u001b[0;34m\u001b[0m\u001b[0m\n\u001b[1;32m     89\u001b[0m \u001b[0;34m\u001b[0m\u001b[0m\n",
      "\u001b[0;32m/Library/Frameworks/Python.framework/Versions/3.7/lib/python3.7/site-packages/pandas/core/internals/managers.py\u001b[0m in \u001b[0;36mcreate_block_manager_from_arrays\u001b[0;34m(arrays, names, axes)\u001b[0m\n\u001b[1;32m   1697\u001b[0m         \u001b[0;32mreturn\u001b[0m \u001b[0mmgr\u001b[0m\u001b[0;34m\u001b[0m\u001b[0;34m\u001b[0m\u001b[0m\n\u001b[1;32m   1698\u001b[0m     \u001b[0;32mexcept\u001b[0m \u001b[0mValueError\u001b[0m \u001b[0;32mas\u001b[0m \u001b[0me\u001b[0m\u001b[0;34m:\u001b[0m\u001b[0;34m\u001b[0m\u001b[0;34m\u001b[0m\u001b[0m\n\u001b[0;32m-> 1699\u001b[0;31m         \u001b[0mconstruction_error\u001b[0m\u001b[0;34m(\u001b[0m\u001b[0mlen\u001b[0m\u001b[0;34m(\u001b[0m\u001b[0marrays\u001b[0m\u001b[0;34m)\u001b[0m\u001b[0;34m,\u001b[0m \u001b[0marrays\u001b[0m\u001b[0;34m[\u001b[0m\u001b[0;36m0\u001b[0m\u001b[0;34m]\u001b[0m\u001b[0;34m.\u001b[0m\u001b[0mshape\u001b[0m\u001b[0;34m,\u001b[0m \u001b[0maxes\u001b[0m\u001b[0;34m,\u001b[0m \u001b[0me\u001b[0m\u001b[0;34m)\u001b[0m\u001b[0;34m\u001b[0m\u001b[0;34m\u001b[0m\u001b[0m\n\u001b[0m\u001b[1;32m   1700\u001b[0m \u001b[0;34m\u001b[0m\u001b[0m\n\u001b[1;32m   1701\u001b[0m \u001b[0;34m\u001b[0m\u001b[0m\n",
      "\u001b[0;32m/Library/Frameworks/Python.framework/Versions/3.7/lib/python3.7/site-packages/pandas/core/internals/managers.py\u001b[0m in \u001b[0;36mconstruction_error\u001b[0;34m(tot_items, block_shape, axes, e)\u001b[0m\n\u001b[1;32m   1717\u001b[0m         \u001b[0;32mraise\u001b[0m \u001b[0mValueError\u001b[0m\u001b[0;34m(\u001b[0m\u001b[0;34m\"Empty data passed with indices specified.\"\u001b[0m\u001b[0;34m)\u001b[0m\u001b[0;34m\u001b[0m\u001b[0;34m\u001b[0m\u001b[0m\n\u001b[1;32m   1718\u001b[0m     raise ValueError(\n\u001b[0;32m-> 1719\u001b[0;31m         \u001b[0;34m\"Shape of passed values is {0}, indices imply {1}\"\u001b[0m\u001b[0;34m.\u001b[0m\u001b[0mformat\u001b[0m\u001b[0;34m(\u001b[0m\u001b[0mpassed\u001b[0m\u001b[0;34m,\u001b[0m \u001b[0mimplied\u001b[0m\u001b[0;34m)\u001b[0m\u001b[0;34m\u001b[0m\u001b[0;34m\u001b[0m\u001b[0m\n\u001b[0m\u001b[1;32m   1720\u001b[0m     )\n\u001b[1;32m   1721\u001b[0m \u001b[0;34m\u001b[0m\u001b[0m\n",
      "\u001b[0;31mValueError\u001b[0m: Shape of passed values is (1, 2), indices imply (1355, 2)"
     ]
    }
   ],
   "source": [
    "#kNN grid search for choice of best cluster size\n",
    "k_range = list(range(1, 50))\n",
    "param_grid = dict(n_neighbors=k_range)\n",
    "grid = GridSearchCV(KNeighborsClassifier(), param_grid, cv=5, scoring='accuracy')\n",
    "grid.fit(X_scaled_train_after, y_train_after)\n",
    "k = grid.best_params_[\"n_neighbors\"]\n",
    "print(\"The best accuracy of\", grid.best_score_, \"is given by\", k, \"clusters\")\n",
    "\n",
    "#kNN model fitting on the training set\n",
    "knn = KNeighborsClassifier(n_neighbors=k)\n",
    "knn.fit(X_scaled_train_after, y_train_after)\n",
    "knn_pred_train = knn.predict(X_scaled_train_after)\n",
    "knn_accuracy_train = accuracy_score(y_train_after, knn_pred_train)\n",
    "print(\"The Training set accuracy of the kNN model is\", knn_accuracy_train)\n",
    "\n",
    "#Model performance on the Validation set\n",
    "knn_pred_val = knn.predict(X_scaled_val)\n",
    "knn_accuracy_val = accuracy_score(y_val, knn_pred_val)\n",
    "print(\"The Validation set accuracy of the kNN model is\", knn_accuracy_val)\n",
    "\n",
    "#Model performance on the Test set\n",
    "knn_pred_test = knn.predict(X_scaled_test)\n",
    "knn_accuracy_test = accuracy_score(y_test, knn_pred_test)\n",
    "print('Test set accuracy of the kNN model is',knn_accuracy_test )\n",
    "\n",
    "#Confusion Matrix and other metrics (Precision, Recall and Fscore)\n",
    "knn_confusion = pd.crosstab(y_test, knn_pred_test)\n",
    "print(knn_confusion)\n",
    "precision_recall_fscore_support(y_test, knn_pred_test, average='binary')\n",
    "knn_other_metrics = precision_recall_fscore_support(y_test, knn_pred_test, average='binary')\n",
    "print(\"The precision is\", knn_other_metrics[0], \"recall is\", knn_other_metrics[1], \"fscore is\", knn_other_metrics[2])         \n"
   ]
  },
  {
   "cell_type": "markdown",
   "metadata": {},
   "source": [
    "### Lasso CV"
   ]
  },
  {
   "cell_type": "code",
   "execution_count": 55,
   "metadata": {
    "scrolled": true
   },
   "outputs": [
    {
     "name": "stdout",
     "output_type": "stream",
     "text": [
      "BMI                    2.141239e-01\n",
      "HDL                   -2.567128e-01\n",
      "LDL                   -9.546568e-02\n",
      "age                    8.202737e-03\n",
      "fasting_glucose        1.025409e+00\n",
      "insulin               -1.894985e-02\n",
      "sysBP                 -6.697068e-02\n",
      "diaBP                  1.961547e-03\n",
      "BMI_NaN               -7.072136e-02\n",
      "fasting_glucose_NaN    2.536551e-01\n",
      "gender_NaN             0.000000e+00\n",
      "LDL_NaN               -2.055534e-02\n",
      "HDL_NaN                0.000000e+00\n",
      "insulin_NaN           -3.647852e-02\n",
      "age_NaN                0.000000e+00\n",
      "race_NaN               0.000000e+00\n",
      "sugar_NaN              3.544687e-02\n",
      "sysBP_NaN              3.554791e-03\n",
      "diaBP_NaN              3.341392e-17\n",
      "alc_days_year_NaN      1.900270e-02\n",
      "race_1.0               3.276483e-02\n",
      "race_2.0              -2.442358e-02\n",
      "race_3.0              -6.095231e-02\n",
      "race_4.0               1.150339e-01\n",
      "race_6.0               0.000000e+00\n",
      "race_7.0              -7.198821e-02\n",
      "gender_1.0            -7.177389e-02\n",
      "gender_2.0             1.237008e-17\n",
      "dtype: float64\n",
      "number of features used:  23\n",
      "training score: 0.5052947262240746\n",
      "test score:  0.5042320326223355\n",
      "1.4558288067724673e-05\n"
     ]
    }
   ],
   "source": [
    "lasso = Lasso(max_iter = 10000, normalize = True)\n",
    "lassocv = LassoCV(alphas = None, cv = 5, max_iter = 100000, normalize = True)\n",
    "lassocv.fit(X_train, y_train)\n",
    "lasso.set_params(alpha=lassocv.alpha_)\n",
    "lasso.fit(X_train, y_train)\n",
    "print(pd.Series(lasso.coef_, index=X.columns))\n",
    "coeff = np.sum(lasso.coef_!=0)\n",
    "print (\"number of features used: \", coeff) \n",
    "train_score=lasso.score(X_train,y_train)\n",
    "test_score=lasso.score(X_test,y_test)\n",
    "print(\"training score:\", train_score ) \n",
    "print (\"test score: \", test_score)\n",
    "print(lassocv.alpha_)"
   ]
  },
  {
   "cell_type": "markdown",
   "metadata": {},
   "source": [
    "### Lasso and LR"
   ]
  },
  {
   "cell_type": "code",
   "execution_count": 56,
   "metadata": {},
   "outputs": [
    {
     "name": "stdout",
     "output_type": "stream",
     "text": [
      "C: 1.4154569084153052e-05\n",
      "Coefficient of each feature: [[0. 0. 0. 0. 0. 0. 0. 0. 0. 0. 0. 0. 0. 0. 0. 0. 0. 0. 0. 0. 0. 0. 0. 0.\n",
      "  0. 0. 0. 0.]]\n",
      "Number of coeff: 0\n",
      "Training accuracy:  0.505\n",
      "Test accuracy:  0.490\n",
      "\n",
      "C: 50\n",
      "Coefficient of each feature: [[ 1.78957764 -2.26738359 -0.65200761  0.06211631  7.64668855 -0.26114449\n",
      "  -0.91801694  0.02408898 -0.99656077  0.34908965  0.          0.12129369\n",
      "   0.         -0.2226772   0.          0.          0.29989049 -0.03098876\n",
      "  -0.09402226  0.22838157 -5.71992639 -6.20360003 -6.52379532 -5.10236026\n",
      "  -6.01665341 -6.96894877 -6.33078751 -5.73348012]]\n",
      "Number of coeff: 24\n",
      "Training accuracy:  0.849\n",
      "Test accuracy:  0.853\n",
      "\n",
      "C: 10\n",
      "Coefficient of each feature: [[ 1.74740374 -2.27708108 -0.65261772  0.06280659  7.60910892 -0.25359384\n",
      "  -1.11099887  0.02482539 -0.96297717  0.15204495  0.          0.11236535\n",
      "   0.         -0.18882192  0.          0.          0.29095737 -0.09597177\n",
      "  -0.03058349  0.22792188  0.03365676 -0.44759463 -0.7734924   0.65709236\n",
      "  -0.27062432 -1.20433761 -7.42356249 -6.82743102]]\n",
      "Number of coeff: 24\n",
      "Training accuracy:  0.850\n",
      "Test accuracy:  0.854\n",
      "\n",
      "C: 1\n",
      "Coefficient of each feature: [[ 1.3146969  -2.30074106 -0.6515504   0.06488646  7.28457415 -0.1780944\n",
      "  -1.90257727  0.02712866 -0.57719447  0.          0.          0.01922631\n",
      "   0.          0.          0.          0.          0.22140698 -0.04455057\n",
      "  -0.04463929  0.21151082  0.36486726 -0.08196226 -0.44018232  1.00404027\n",
      "   0.         -0.71285679 -0.58472705  0.        ]]\n",
      "Number of coeff: 20\n",
      "Training accuracy:  0.847\n",
      "Test accuracy:  0.851\n",
      "\n",
      "C: 0.1\n",
      "Coefficient of each feature: [[ 0.         -1.76220663 -0.59844984  0.06390032  5.90387707  0.03790123\n",
      "  -2.69843719  0.02485214  0.          0.          0.          0.\n",
      "   0.          0.          0.          0.          0.          0.\n",
      "   0.          0.05341932  0.25841041  0.         -0.35346347  0.83817199\n",
      "   0.          0.         -0.43025991  0.        ]]\n",
      "Number of coeff: 12\n",
      "Training accuracy:  0.837\n",
      "Test accuracy:  0.839\n",
      "\n",
      "C: 0.001\n",
      "Coefficient of each feature: [[ 0.          0.          0.          0.04044182  0.          0.\n",
      "   0.         -0.030817    0.          0.          0.          0.\n",
      "   0.          0.          0.          0.          0.          0.\n",
      "   0.          0.          0.          0.          0.          0.\n",
      "   0.          0.          0.          0.        ]]\n",
      "Number of coeff: 2\n",
      "Training accuracy:  0.687\n",
      "Test accuracy:  0.689\n",
      "\n",
      "The Training set accuracy of the Lasso CV for LR model is  0.850\n",
      "The Validation set accuracy of the Lasso CV for LR model is 0.862\n",
      "Test set accuracy of the Lasso CV for LR model is  0.853\n",
      "col_0     0.0  1.0\n",
      "diabetes          \n",
      "0.0       703  128\n",
      "1.0       121  744\n",
      "The precision is  0.853 recall is 0.860  fscore is 0.857\n"
     ]
    }
   ],
   "source": [
    "C = [1.4154569084153052e-05,50,10, 1, .1, .001]\n",
    "\n",
    "#LassoCV + LR model fitting on the training set\n",
    "for c in C:\n",
    "    clf = LogisticRegression(penalty='l1', C=c, solver='liblinear')\n",
    "    clf.fit(X_train, y_train)\n",
    "    print('C:', c)\n",
    "    print('Coefficient of each feature:', clf.coef_)\n",
    "    coeff = np.sum(clf.coef_!=0)\n",
    "    print('Number of coeff:', coeff)\n",
    "\n",
    "    print('Training accuracy:  {0:.3f}'.format(clf.score(X_train, y_train)))\n",
    "    print('Test accuracy:  {0:.3f}'.format(clf.score(X_test, y_test)))\n",
    "    print('')\n",
    "\n",
    "    \n",
    "clf = LogisticRegression(penalty='l1', C=10, solver='liblinear')\n",
    "clf.fit(X_train, y_train)\n",
    "ls_pred_train = clf.predict(X_train)\n",
    "ls_accuracy_train = accuracy_score(y_train, ls_pred_train)\n",
    "print(\"The Training set accuracy of the Lasso CV for LR model is  {0:.3f}\".format(ls_accuracy_train))\n",
    "\n",
    "# LassoCV + LR Model performance on the Validation set\n",
    "ls_pred_val = clf.predict(X_val)\n",
    "ls_accuracy_val = accuracy_score(y_val, ls_pred_val)\n",
    "print(\"The Validation set accuracy of the Lasso CV for LR model is {0:.3f}\".format(ls_accuracy_val))\n",
    "\n",
    "#LassoCV + LR Model performance on the Test set\n",
    "ls_pred_test = clf.predict(X_test)\n",
    "ls_accuracy_test = accuracy_score(y_test, ls_pred_test)\n",
    "print('Test set accuracy of the Lasso CV for LR model is  {0:.3f}'.format(ls_accuracy_test ))\n",
    "\n",
    "\n",
    "#Confusion Matrix and other metrics (Precision, Recall and Fscore)\n",
    "ls_confusion_test = pd.crosstab(y_test, ls_pred_test)\n",
    "print(ls_confusion_test)\n",
    "precision_recall_fscore_support(y_test, ls_pred_test, average='binary')\n",
    "ls_other_metrics = precision_recall_fscore_support(y_test, ls_pred_test, average='binary')\n",
    "print(\"The precision is  {0:.3f}\".format(ls_other_metrics[0]) , \"recall is {0:.3f} \".format(ls_other_metrics[1]), \"fscore is {0:.3f}\".format(ls_other_metrics[2]))         \n"
   ]
  },
  {
   "cell_type": "markdown",
   "metadata": {},
   "source": [
    "### Gradient Boosting"
   ]
  },
  {
   "cell_type": "code",
   "execution_count": 57,
   "metadata": {},
   "outputs": [
    {
     "name": "stdout",
     "output_type": "stream",
     "text": [
      "Learning rate:  0.05\n",
      "Accuracy score (training): 0.938\n",
      "Accuracy score (validation): 0.927\n",
      "Accuracy score (test): 0.909\n",
      "Learning rate:  0.075\n",
      "Accuracy score (training): 0.943\n",
      "Accuracy score (validation): 0.929\n",
      "Accuracy score (test): 0.910\n",
      "Learning rate:  0.1\n",
      "Accuracy score (training): 0.957\n",
      "Accuracy score (validation): 0.938\n",
      "Accuracy score (test): 0.920\n",
      "Learning rate:  0.25\n",
      "Accuracy score (training): 0.981\n",
      "Accuracy score (validation): 0.948\n",
      "Accuracy score (test): 0.943\n",
      "Learning rate:  0.5\n",
      "Accuracy score (training): 0.995\n",
      "Accuracy score (validation): 0.955\n",
      "Accuracy score (test): 0.946\n",
      "Learning rate:  0.75\n",
      "Accuracy score (training): 0.997\n",
      "Accuracy score (validation): 0.942\n",
      "Accuracy score (test): 0.937\n",
      "Learning rate:  1\n",
      "Accuracy score (training): 0.998\n",
      "Accuracy score (validation): 0.941\n",
      "Accuracy score (test): 0.942\n",
      "col_0     0.0  1.0\n",
      "diabetes          \n",
      "0.0       792   39\n",
      "1.0        53  812\n",
      "The precision is  0.954 recall is 0.939  fscore is 0.946\n"
     ]
    }
   ],
   "source": [
    "lr_list = [0.05, 0.075, 0.1, 0.25, 0.5, 0.75, 1]\n",
    "\n",
    "for learning_rate in lr_list:\n",
    "    gb_clf = GradientBoostingClassifier(n_estimators=20, learning_rate=learning_rate, max_features=25, max_depth=5, random_state=0)\n",
    "    gb_clf.fit(X_train, y_train)\n",
    "\n",
    "    print(\"Learning rate: \", learning_rate)\n",
    "    print(\"Accuracy score (training): {0:.3f}\".format(gb_clf.score(X_train, y_train)))\n",
    "    print(\"Accuracy score (validation): {0:.3f}\".format(gb_clf.score(X_val, y_val)))\n",
    "    print(\"Accuracy score (test): {0:.3f}\".format(gb_clf.score(X_test, y_test)))\n",
    "    \n",
    "gb_clf = GradientBoostingClassifier(n_estimators=20, learning_rate=0.5, max_features=25, max_depth=5, random_state=0)\n",
    "gb_clf.fit(X_train, y_train)   \n",
    "gb_pred_test = gb_clf.predict(X_test)\n",
    "    \n",
    "gb_confusion_test = pd.crosstab(y_test, gb_pred_test)\n",
    "print(gb_confusion_test)\n",
    "precision_recall_fscore_support(y_test, gb_pred_test, average='binary')\n",
    "gb_other_metrics = precision_recall_fscore_support(y_test, gb_pred_test, average='binary')\n",
    "print(\"The precision is  {0:.3f}\".format(gb_other_metrics[0]) , \"recall is {0:.3f} \".format(gb_other_metrics[1]), \"fscore is {0:.3f}\".format(gb_other_metrics[2]))         \n"
   ]
  },
  {
   "cell_type": "markdown",
   "metadata": {},
   "source": [
    "### Bootstrapping on the test set"
   ]
  },
  {
   "cell_type": "markdown",
   "metadata": {},
   "source": [
    "####Need to complete####"
   ]
  },
  {
   "cell_type": "raw",
   "metadata": {
    "scrolled": true
   },
   "source": [
    "from sklearn.ensemble import RandomForestClassifier\n",
    "from sklearn.metrics import accuracy_score\n",
    "from sklearn.model_selection import RandomizedSearchCV\n",
    "from pprint import pprint\n",
    "\n",
    "# Number of trees in random forest\n",
    "n_estimators = [int(x) for x in np.linspace(start = 5, stop = 105, num = 50)]\n",
    "# Number of features to consider at every split\n",
    "max_features = list(range(1,X_train.shape[1]))\n",
    "# Maximum number of levels in tree\n",
    "max_depth = [int(x) for x in np.linspace(10, 50, num = 10)]\n",
    "# Minimum number of samples required to split a node\n",
    "min_samples_split = [10,20,30,40,50]\n",
    "# Minimum number of samples required at each leaf node\n",
    "min_samples_leaf = [10,20,30,40,50] \n",
    "# Method of selecting samples for training each tree\n",
    "bootstrap = [True]\n",
    "# Create  random grid\n",
    "random_grid = {'n_estimators': n_estimators,\n",
    "               'max_features': max_features,\n",
    "               'max_depth': max_depth,\n",
    "               'min_samples_split': min_samples_split,\n",
    "               'min_samples_leaf': min_samples_leaf,\n",
    "               'bootstrap': bootstrap}\n",
    "rf = RandomForestClassifier(random_state = 42, criterion= 'gini')\n",
    "rf_random = RandomizedSearchCV(estimator = rf, param_distributions = random_grid, n_iter = 100, cv = 5, verbose=2, random_state=42, n_jobs = -1)\n",
    "rf_random.fit(X_train, y_train)\n",
    "estimators = rf_random.best_params_['n_estimators']\n",
    "features = rf_random.best_params_['max_features']\n",
    "depth = rf_random.best_params_['max_depth']\n",
    "samples_split_min = rf_random.best_params_['min_samples_split']\n",
    "samples_leaf_min = rf_random.best_params_['min_samples_leaf']\n",
    "bstrap = rf_random.best_params_['bootstrap']\n",
    "rf_random.best_score_\n",
    "print(\"The best accuracy of\", rf_random.best_score_, \"from cross validation is given by\",estimators , \"estimators\", features, \"max features\", depth, \"max_depth\",samples_split_min, \"min samples split\", samples_leaf_min,\"min samples leaf\", bstrap, \"bootstrap\", \"parameters\" )\n",
    "rf_final = RandomForestClassifier(n_estimators=estimators,max_features=features,max_depth=depth,  min_samples_split=samples_split_min,  min_samples_leaf=samples_leaf_min, bootstrap =  True , random_state=42, criterion= 'gini')   \n",
    "rf_model = rf_final.fit(X_train, y_train)\n",
    "\n",
    "rf_predictions_train = rf_final.predict(X_train)\n",
    "rf_accuracy_train = accuracy_score(y_train, rf_predictions_train)\n",
    "print(\"The Training set accuracy of the cross-validated random forest model is\", rf_accuracy_train)\n",
    "\n",
    "rf_predictions_val = rf_final.predict(X_val)\n",
    "rf_accuracy_val = accuracy_score(y_val, rf_predictions_val)\n",
    "print(\"The Validation set accuracy of the cross-validated random forest model is\", rf_accuracy_val)\n",
    "\n",
    "rf_predictions_test = rf_final.predict(X_test)\n",
    "rf_accuracy_test = accuracy_score(y_test, rf_predictions_test)\n",
    "print(\"The Test set accuracy of the cross-validated random forest model is\", rf_accuracy_test)\n",
    "\n",
    "#y_test = pd.Series(y_test)\n",
    "#rf_predictions_test = pd.Series(rf_predictions_test)\n",
    "#rf_confusion_test = pd.crosstab(y_test, rf_predictions_test)\n",
    "#print(rf_confusion_test)\n",
    "rf_other_metrics = list(precision_recall_fscore_support(y_test, rf_predictions_test, average='binary'))\n",
    "print(\"The precision is\", rf_other_metrics[0], \"recall is\", rf_other_metrics[1], \"fscore is\", rf_other_metrics[2])"
   ]
  },
  {
   "cell_type": "markdown",
   "metadata": {},
   "source": [
    "### Random Forest on Scaled Numerical Features"
   ]
  },
  {
   "cell_type": "raw",
   "metadata": {},
   "source": [
    "#Random Forest on scaled features\n",
    "\n",
    "#Grid search to identify hyperparameters\n",
    "# Number of trees in random forest\n",
    "n_estimators = [int(x) for x in np.linspace(start = 5, stop = 105, num = 50)]\n",
    "# Number of features to consider at every split\n",
    "max_features = list(range(1,X_train.shape[1]))\n",
    "# Maximum number of levels in tree\n",
    "max_depth = [int(x) for x in np.linspace(10, 50, num = 10)]\n",
    "# Minimum number of samples required to split a node\n",
    "min_samples_split = [10,20,30,40,50]\n",
    "# Minimum number of samples required at each leaf node\n",
    "min_samples_leaf = [10,20,30,40,50] \n",
    "# Method of selecting samples for training each tree\n",
    "bootstrap = [True]\n",
    "random_grid = {'n_estimators': n_estimators,\n",
    "               'max_features': max_features,\n",
    "               'max_depth': max_depth,\n",
    "               'min_samples_split': min_samples_split,\n",
    "               'min_samples_leaf': min_samples_leaf,\n",
    "               'bootstrap': bootstrap}\n",
    "rf = RandomForestClassifier(random_state=42)\n",
    "rf_random = RandomizedSearchCV(estimator = rf, param_distributions = random_grid, n_iter = 100, cv = 5, verbose=2, random_state=42, n_jobs = -1)\n",
    "\n",
    "#Random Forest model fitting on the training set\n",
    "rf_random.fit(X_scaled_train, y_train)\n",
    "estimators = rf_random.best_params_['n_estimators']\n",
    "features = rf_random.best_params_['max_features']\n",
    "depth = rf_random.best_params_['max_depth']\n",
    "samples_split_min = rf_random.best_params_['min_samples_split']\n",
    "samples_leaf_min = rf_random.best_params_['min_samples_leaf']\n",
    "bstrap = rf_random.best_params_['bootstrap']\n",
    "rf_random.best_score_\n",
    "print(\"The best accuracy of\", rf_random.best_score_, \"from cross validation is given by\",estimators , \"estimators\", features, \"max features\", depth, \"max_depth\",samples_split_min, \"min samples split\", samples_leaf_min,\"min samples leaf\", bstrap, \"bootstrap\", \"parameters\" )\n",
    "rf_final = RandomForestClassifier(n_estimators=estimators,max_features=features,max_depth=depth,  min_samples_split=samples_split_min,  min_samples_leaf=samples_leaf_min, bootstrap =  bstrap, random_state=42)   \n",
    "rf_model = rf_final.fit(X_scaled_train, y_train)\n",
    "rf_predictions_scaled_train = rf_final.predict(X_scaled_train)\n",
    "rf_accuracy_scaled_train = accuracy_score(y_train, rf_predictions_scaled_train)\n",
    "print(\"The Training set accuracy of the cross-validated random forest model is\", rf_accuracy_scaled_train)\n",
    "\n",
    "\n",
    "#Random Forest model performance on the validation set\n",
    "rf_predictions_scaled_val = rf_final.predict(X_scaled_val)\n",
    "rf_accuracy_scaled_val = accuracy_score(y_val, rf_predictions_scaled_val)\n",
    "print(\"The Validation set accuracy of the cross-validated random forest model is\", rf_accuracy_scaled_val)\n",
    "\n",
    "#Random Forest model performance on the test set\n",
    "rf_predictions_scaled_test = rf_final.predict(X_scaled_test)\n",
    "rf_accuracy_scaled_test = accuracy_score(y_test, rf_predictions_scaled_test)\n",
    "print(\"The Test set accuracy of the cross-validated random forest model is\", rf_accuracy_scaled_test)\n",
    "\n",
    "#Confusion Matrix and other metrics (Precision, Recall and Fscore)\n",
    "#y_test = pd.Series(y_test)\n",
    "#rf_predictions_scaled_test = pd.Series(rf_predictions_scaled_test)\n",
    "#rf_confusion_scaled = pd.crosstab(y_test, rf_predictions_scaled_test)\n",
    "#print(rf_confusion_scaled)\n",
    "rf_other_metrics_scaled = list(precision_recall_fscore_support(y_test, rf_predictions_scaled_test, average='binary'))\n",
    "print(\"The precision is\", rf_other_metrics_scaled[0], \"recall is\", rf_other_metrics_scaled[1], \"fscore is\", rf_other_metrics_scaled[2])"
   ]
  },
  {
   "cell_type": "raw",
   "metadata": {},
   "source": [
    "rf_final = RandomForestClassifier(n_estimators=estimators,max_features=features,max_depth=depth,  min_samples_split=samples_split_min,  min_samples_leaf=samples_leaf_min, bootstrap =  bstrap, random_state=42, criterion= 'gini')   \n",
    "rf_model = rf_final.fit(X_train, y_train)\n",
    "\n",
    "boot = pd.merge(y_test, X_test, left_index=True, right_index=True)\n",
    "boot.rename(columns = {'Actual':'diabetes'}, inplace = True) \n",
    "\n",
    "boot1 = resample(boot, replace=True, n_samples=500, random_state=1)\n",
    "boot2 = resample(boot,  replace=True, n_samples=500, random_state=3)\n",
    "boot3 = resample(boot, replace=True, n_samples=500, random_state=5)\n",
    "boot4 = resample(boot,replace=True, n_samples=500, random_state=8)\n",
    "boot5 = resample(boot,replace=True, n_samples=500, random_state=9)\n",
    "boot6 = resample(boot, replace=True, n_samples=500, random_state=11)\n",
    "boot7 = resample(boot, replace=True, n_samples=500, random_state=13)\n",
    "boot8 = resample(boot,replace=True, n_samples=500, random_state=15)\n",
    "boot9 = resample(boot,replace=True, n_samples=500, random_state=17)\n",
    "boot10 = resample(boot, replace=True, n_samples=500, random_state=19)\n",
    "\n",
    "boot1_test_y = boot1.loc[:, boot1.columns == 'diabetes']\n",
    "boot1_test_X = boot1.loc[:, boot1.columns != 'diabetes']\n",
    "\n",
    "rf_predictions_boot1 = rf_final.predict(boot1_test_X)\n",
    "rf_accuracy_boot1 = accuracy_score(boot1_test_y, rf_predictions_boot1)\n",
    "print(\"The Test set accuracy of the cross-validated random forest model on boot1 is\", rf_accuracy_boot1)\n",
    "\n",
    "boot2_test_y = boot2.loc[:, boot2.columns == 'diabetes']\n",
    "boot2_test_X = boot2.loc[:, boot2.columns != 'diabetes']\n",
    "rf_predictions_boot2 = rf_final.predict(boot2_test_X)\n",
    "rf_accuracy_boot2 = accuracy_score(boot2_test_y, rf_predictions_boot2)\n",
    "print(\"The Test set accuracy of the cross-validated random forest model on boot2 is\", rf_accuracy_boot2)\n",
    "\n",
    "boot3_test_y = boot3.loc[:, boot3.columns == 'diabetes']\n",
    "boot3_test_X = boot3.loc[:, boot3.columns != 'diabetes']\n",
    "rf_predictions_boot3 = rf_final.predict(boot3_test_X)\n",
    "rf_accuracy_boot3 = accuracy_score(boot3_test_y, rf_predictions_boot3)\n",
    "print(\"The Test set accuracy of the cross-validated random forest model on boot3 is\", rf_accuracy_boot3)\n",
    "\n",
    "\n",
    "boot4_test_y = boot4.loc[:, boot4.columns == 'diabetes']\n",
    "boot4_test_X = boot4.loc[:, boot4.columns != 'diabetes']\n",
    "rf_predictions_boot4 = rf_final.predict(boot4_test_X)\n",
    "rf_accuracy_boot4 = accuracy_score(boot4_test_y, rf_predictions_boot4)\n",
    "print(\"The Test set accuracy of the cross-validated random forest model on boot4 is\", rf_accuracy_boot4)\n",
    "\n",
    "\n",
    "boot5_test_y = boot5.loc[:, boot5.columns == 'diabetes']\n",
    "boot5_test_X = boot5.loc[:, boot5.columns != 'diabetes']\n",
    "rf_predictions_boot5 = rf_final.predict(boot5_test_X)\n",
    "rf_accuracy_boot5 = accuracy_score(boot5_test_y, rf_predictions_boot5)\n",
    "print(\"The Test set accuracy of the cross-validated random forest model on boot5 is\", rf_accuracy_boot5)\n",
    "\n",
    "\n",
    "boot6_test_y = boot6.loc[:, boot6.columns == 'diabetes']\n",
    "boot6_test_X = boot6.loc[:, boot6.columns != 'diabetes']\n",
    "rf_predictions_boot6 = rf_final.predict(boot6_test_X)\n",
    "rf_accuracy_boot6 = accuracy_score(boot6_test_y, rf_predictions_boot6)\n",
    "print(\"The Test set accuracy of the cross-validated random forest model on boot5 is\", rf_accuracy_boot6)\n",
    "\n",
    "\n",
    "boot7_test_y = boot7.loc[:, boot7.columns == 'diabetes']\n",
    "boot7_test_X = boot7.loc[:, boot7.columns != 'diabetes']\n",
    "rf_predictions_boot7 = rf_final.predict(boot7_test_X)\n",
    "rf_accuracy_boot7 = accuracy_score(boot7_test_y, rf_predictions_boot7)\n",
    "print(\"The Test set accuracy of the cross-validated random forest model on boot7 is\", rf_accuracy_boot7)\n",
    "\n",
    "\n",
    "boot8_test_y = boot8.loc[:, boot8.columns == 'diabetes']\n",
    "boot8_test_X = boot8.loc[:, boot8.columns != 'diabetes']\n",
    "rf_predictions_boot8 = rf_final.predict(boot8_test_X)\n",
    "rf_accuracy_boot8 = accuracy_score(boot8_test_y, rf_predictions_boot8)\n",
    "print(\"The Test set accuracy of the cross-validated random forest model on boot8 is\", rf_accuracy_boot8)\n",
    "\n",
    "\n",
    "boot9_test_y = boot9.loc[:, boot9.columns == 'diabetes']\n",
    "boot9_test_X = boot9.loc[:, boot9.columns != 'diabetes']\n",
    "rf_predictions_boot9 = rf_final.predict(boot9_test_X)\n",
    "rf_accuracy_boot9 = accuracy_score(boot9_test_y, rf_predictions_boot9)\n",
    "print(\"The Test set accuracy of the cross-validated random forest model on boot9 is\", rf_accuracy_boot9)\n",
    "\n",
    "\n",
    "boot10_test_y = boot10.loc[:, boot10.columns == 'diabetes']\n",
    "boot10_test_X = boot10.loc[:, boot10.columns != 'diabetes']\n",
    "rf_predictions_boot10 = rf_final.predict(boot10_test_X)\n",
    "rf_accuracy_boot10 = accuracy_score(boot10_test_y, rf_predictions_boot10)\n",
    "print(\"The Test set accuracy of the cross-validated random forest model on boot10 is\", rf_accuracy_boot10)\n",
    "\n",
    "\n"
   ]
  },
  {
   "cell_type": "code",
   "execution_count": null,
   "metadata": {},
   "outputs": [],
   "source": []
  }
 ],
 "metadata": {
  "kernelspec": {
   "display_name": "Python 3",
   "language": "python",
   "name": "python3"
  },
  "language_info": {
   "codemirror_mode": {
    "name": "ipython",
    "version": 3
   },
   "file_extension": ".py",
   "mimetype": "text/x-python",
   "name": "python",
   "nbconvert_exporter": "python",
   "pygments_lexer": "ipython3",
   "version": "3.7.3"
  }
 },
 "nbformat": 4,
 "nbformat_minor": 2
}
